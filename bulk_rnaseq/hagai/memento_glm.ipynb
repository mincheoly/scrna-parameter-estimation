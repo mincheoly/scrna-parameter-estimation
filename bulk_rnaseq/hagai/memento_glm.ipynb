{
 "cells": [
  {
   "cell_type": "markdown",
   "id": "5ac12598-60f1-4ff7-80ca-5ae7367623bf",
   "metadata": {},
   "source": [
    "# Run memento for Hagai datasets"
   ]
  },
  {
   "cell_type": "code",
   "execution_count": 7,
   "id": "eee5f4da-cdbd-4fe9-945a-2b3f6f3a556d",
   "metadata": {
    "tags": []
   },
   "outputs": [],
   "source": [
    "import pandas as pd\n",
    "import matplotlib.pyplot as plt\n",
    "import seaborn as sns\n",
    "import functools\n",
    "import numpy as np\n",
    "import scanpy as sc\n",
    "import scipy.stats as stats\n",
    "from statsmodels.stats.multitest import fdrcorrection\n",
    "from patsy import dmatrix, dmatrices \n",
    "import statsmodels.api as sm\n",
    "import warnings\n",
    "import logging"
   ]
  },
  {
   "cell_type": "code",
   "execution_count": 8,
   "id": "12310371-2aed-411e-80c9-9b1ea3b841b5",
   "metadata": {
    "tags": []
   },
   "outputs": [],
   "source": [
    "import sys\n",
    "sys.path.append('/home/ssm-user/Github/memento')\n",
    "\n",
    "import memento.model.rna as rna\n",
    "import memento.estimator.hypergeometric as hg"
   ]
  },
  {
   "cell_type": "code",
   "execution_count": 9,
   "id": "94867d8a-ad10-4293-bfaa-9ccc4ed53a12",
   "metadata": {},
   "outputs": [
    {
     "name": "stdout",
     "output_type": "stream",
     "text": [
      "The autoreload extension is already loaded. To reload it, use:\n",
      "  %reload_ext autoreload\n"
     ]
    }
   ],
   "source": [
    "%load_ext autoreload"
   ]
  },
  {
   "cell_type": "code",
   "execution_count": 10,
   "id": "7b9902b1-dc89-44e4-86ed-780d29d8b06b",
   "metadata": {},
   "outputs": [],
   "source": [
    "%autoreload 2"
   ]
  },
  {
   "cell_type": "code",
   "execution_count": 11,
   "id": "346838df-9a5a-4c5e-ac1a-701c3e8368aa",
   "metadata": {
    "tags": []
   },
   "outputs": [],
   "source": [
    "data_path = '/data_volume/memento/method_comparison/squair/sc_rnaseq/h5Seurat/'"
   ]
  },
  {
   "cell_type": "code",
   "execution_count": 12,
   "id": "33789339-66e7-4bf8-bd2b-c3e7e4d0e13e",
   "metadata": {},
   "outputs": [],
   "source": [
    "logging.basicConfig(\n",
    "    format=\"%(asctime)s %(process)-7s %(levelname)-8s %(message)s\",\n",
    "    level=logging.INFO, \n",
    "    datefmt=\"%Y-%m-%d %H:%M:%S\",\n",
    ")\n",
    "logging.captureWarnings(True)"
   ]
  },
  {
   "cell_type": "markdown",
   "id": "f6cd79fe-bbe5-41b9-85f5-e53802ec94de",
   "metadata": {},
   "source": [
    "### Hagai 2018"
   ]
  },
  {
   "cell_type": "code",
   "execution_count": null,
   "id": "9ce87e4b-9f46-489b-951e-526400ca438d",
   "metadata": {},
   "outputs": [],
   "source": [
    "a = 5"
   ]
  },
  {
   "cell_type": "code",
   "execution_count": null,
   "id": "77b050b3-8498-46d1-901e-2a0e86d6027c",
   "metadata": {},
   "outputs": [],
   "source": []
  },
  {
   "cell_type": "code",
   "execution_count": 13,
   "id": "5c1550bc-b5e2-4dc9-89f7-e24bbd00613d",
   "metadata": {
    "tags": []
   },
   "outputs": [],
   "source": [
    "files = [\n",
    "    'Hagai2018_mouse-lps',\n",
    "    'Hagai2018_mouse-pic',\n",
    "    'Hagai2018_pig-lps',\n",
    "    'Hagai2018_rabbit-lps',\n",
    "    'Hagai2018_rat-lps',\n",
    "    'Hagai2018_rat-pic',\n",
    "]"
   ]
  },
  {
   "cell_type": "markdown",
   "id": "9d0f57a9-9eab-49d4-bc2f-636943853bdc",
   "metadata": {},
   "source": [
    "### memento WLS"
   ]
  },
  {
   "cell_type": "code",
   "execution_count": 317,
   "id": "9432c627-b28d-4805-9cc7-6fea63eb5485",
   "metadata": {},
   "outputs": [],
   "source": [
    "fname = files[0]\n",
    "adata = sc.read(data_path + f'{fname}.h5ad')\n",
    "adata.obs['q'] = 0.07"
   ]
  },
  {
   "cell_type": "code",
   "execution_count": 318,
   "id": "c62ba935-4dcb-422f-a3bb-4e3b981d4fbd",
   "metadata": {},
   "outputs": [],
   "source": [
    "# shuffle for labels\n",
    "adata.obs['label'] = adata.obs['label'].sample(frac=1).values"
   ]
  },
  {
   "cell_type": "code",
   "execution_count": 319,
   "id": "4493b22c-38ba-4c89-9b84-e4cf6306c15c",
   "metadata": {},
   "outputs": [
    {
     "name": "stderr",
     "output_type": "stream",
     "text": [
      "2023-07-03 20:57:20 1061492 INFO     setup_anndata: creating groups\n",
      "2023-07-03 20:57:20 1061492 INFO     setup_anndata: computing cell sizes\n"
     ]
    }
   ],
   "source": [
    "rna.MementoRNA.setup_anndata(\n",
    "    adata=adata,\n",
    "    q_column='q',\n",
    "    label_columns=['replicate', 'label'],\n",
    "    num_bins=30)"
   ]
  },
  {
   "cell_type": "code",
   "execution_count": 320,
   "id": "2253e7b7-31a4-4a37-a458-3a3dad6ff30d",
   "metadata": {},
   "outputs": [],
   "source": [
    "# Define expressed genes\n",
    "adata.var['expr_genes'] = (adata.X.mean(axis=0).A1 > 0.02)\n",
    "adata = adata[:, adata.var['expr_genes']]"
   ]
  },
  {
   "cell_type": "code",
   "execution_count": 321,
   "id": "bbb849f0-0e55-465a-8449-b1701fb52331",
   "metadata": {},
   "outputs": [
    {
     "name": "stderr",
     "output_type": "stream",
     "text": [
      "2023-07-03 20:57:27 1061492 INFO     compute_estimate: running estimators for ['mean', 'log_mean', 'log1p_mean', 'se_mean', 'se_log_mean', 'se_log1p_mean', 'total_umi', 'cell_count']\n",
      "2023-07-03 20:57:27 1061492 INFO     compute_estimate: gene_list is None, using all genes in AnnData object\n",
      "2023-07-03 20:57:27 1061492 INFO     compute_estimate: getting estimates for memento_group^mouse1^lps4 using 30 parallel jobs\n",
      "2023-07-03 20:57:42 1061492 INFO     compute_estimate: getting estimates for memento_group^mouse1^unst using 30 parallel jobs\n",
      "2023-07-03 20:57:56 1061492 INFO     compute_estimate: getting estimates for memento_group^mouse2^unst using 30 parallel jobs\n",
      "2023-07-03 20:58:14 1061492 INFO     compute_estimate: getting estimates for memento_group^mouse2^lps4 using 30 parallel jobs\n",
      "2023-07-03 20:58:33 1061492 INFO     compute_estimate: getting estimates for memento_group^mouse3^unst using 30 parallel jobs\n",
      "2023-07-03 20:58:49 1061492 INFO     compute_estimate: getting estimates for memento_group^mouse3^lps4 using 30 parallel jobs\n"
     ]
    }
   ],
   "source": [
    "model = rna.MementoRNA(adata=adata)\n",
    "\n",
    "model.compute_estimate(\n",
    "    estimand='mean',\n",
    "    get_se=True,\n",
    "    n_jobs=30,\n",
    ")"
   ]
  },
  {
   "cell_type": "code",
   "execution_count": 356,
   "id": "fbaf7f7a-f871-4b79-a597-e4256b1843f2",
   "metadata": {},
   "outputs": [
    {
     "data": {
      "text/plain": [
       "-53.23128515051248"
      ]
     },
     "execution_count": 356,
     "metadata": {},
     "output_type": "execute_result"
    }
   ],
   "source": [
    "stats.norm.logsf(10)"
   ]
  },
  {
   "cell_type": "code",
   "execution_count": 322,
   "id": "950b6fef-1c9a-40d0-bc6a-81d6b4b36ffd",
   "metadata": {},
   "outputs": [],
   "source": [
    "df = pd.DataFrame(index=adata.uns['memento']['groups'])\n",
    "df['mouse'] = df.index.str.split('^').str[1]\n",
    "df['stim'] = df.index.str.split('^').str[2]\n",
    "\n",
    "cov_df = pd.get_dummies(df[['mouse']], drop_first=True).astype(float)\n",
    "interactions = cov_df * stim_df[['stim']].values\n",
    "interactions.columns = ['stim*'+col for col in interactions.columns]\n",
    "cov_df = pd.concat([cov_df, interactions], axis=1)\n",
    "cov_df = sm.add_constant(cov_df)\n",
    "stim_df = (df[['stim']]=='lps4').astype(float)"
   ]
  },
  {
   "cell_type": "code",
   "execution_count": 324,
   "id": "81b4f221-5229-4b93-9a04-30d78ef1cd23",
   "metadata": {},
   "outputs": [],
   "source": [
    "result = model.differential_mean(\n",
    "    covariates=cov_df, \n",
    "    treatments=stim_df,\n",
    "    estimator='log_mean',\n",
    "    family='WLS',\n",
    "    verbose=2,\n",
    "    n_jobs=5)\n",
    "\n",
    "result['z'] = result['coef']/result['se']\n",
    "result['z_abs'] = result['z'].abs()\n",
    "result['pval'] = 2*stats.norm.sf(result['z'].abs())\n",
    "_, result['fdr'] = fdrcorrection(result['pval'])"
   ]
  },
  {
   "cell_type": "code",
   "execution_count": 325,
   "id": "de92461c-0b1d-40ac-bd57-e63a9198caa8",
   "metadata": {},
   "outputs": [],
   "source": [
    "result = result.sort_values('coef', ascending=False)"
   ]
  },
  {
   "cell_type": "code",
   "execution_count": 336,
   "id": "7451b32e-4e48-49ee-96db-b1dd0b462d80",
   "metadata": {},
   "outputs": [
    {
     "data": {
      "text/plain": [
       "0.109375"
      ]
     },
     "execution_count": 336,
     "metadata": {},
     "output_type": "execute_result"
    }
   ],
   "source": [
    "result.query('pval < 0.1').shape[0]/result.shape[0]"
   ]
  },
  {
   "cell_type": "markdown",
   "id": "c6ee7bfa-bbf2-4f9e-b3f3-985c88dcae6a",
   "metadata": {},
   "source": [
    "### Read edger and bulk results"
   ]
  },
  {
   "cell_type": "code",
   "execution_count": 326,
   "id": "d7af8cea-e78a-40c2-b54f-b9387193642c",
   "metadata": {},
   "outputs": [],
   "source": [
    "def read_bulk_dataset(dataset, method, cols):\n",
    "    \n",
    "    df = pd.read_csv(data_path + '../../bulk_rnaseq/results/{}_{}.csv'.format(dataset, method), index_col=0)[cols]\n",
    "    df.columns = ['coef','pval', 'fdr']\n",
    "    # df.index = df['gene']\n",
    "    return df\n",
    "\n",
    "def read_sc_dataset(dataset, method, cols, trial='all'):\n",
    "    \n",
    "    df = pd.read_csv(data_path +  '../results/{}_{}_{}.csv'.format(dataset, trial, method), index_col=0)[cols]\n",
    "    df.columns = ['coef','pval', 'fdr']\n",
    "    # df.index = df['gene']\n",
    "    return df\n",
    "\n",
    "edger_result =read_sc_dataset(fname, 'edger_lrt', ['logFC', 'PValue', 'FDR'])\n",
    "bulk_edger_result =read_bulk_dataset(fname, 'edger_lrt', ['logFC', 'PValue', 'FDR'])"
   ]
  },
  {
   "cell_type": "markdown",
   "id": "d6beba2c-e3ca-4432-8b7b-50ecd2371578",
   "metadata": {},
   "source": [
    "### Compute recovery rate"
   ]
  },
  {
   "cell_type": "code",
   "execution_count": 307,
   "id": "2926b570-e522-4f92-9767-7d7589039f9b",
   "metadata": {},
   "outputs": [],
   "source": [
    "gene_intersect = list(set(result.index) & set(edger_result.index) & set(bulk_edger_result.index))"
   ]
  },
  {
   "cell_type": "code",
   "execution_count": 308,
   "id": "c79c9d15-6a46-4259-ae25-1ff4951a96bb",
   "metadata": {},
   "outputs": [],
   "source": [
    "edger_result = edger_result.loc[gene_intersect]\n",
    "bulk_edger_result = bulk_edger_result.loc[gene_intersect]\n",
    "result = result.loc[gene_intersect]"
   ]
  },
  {
   "cell_type": "code",
   "execution_count": 309,
   "id": "cb2df107-32a3-411a-985a-f206be4a2d9d",
   "metadata": {},
   "outputs": [],
   "source": [
    "def recovery_rate(ref_hits, hits):\n",
    "    \n",
    "    return len(set(ref_hits) & set(hits))/len(ref_hits)"
   ]
  },
  {
   "cell_type": "code",
   "execution_count": 310,
   "id": "560dbf4d-063e-4e66-9eb8-f92f5aa43ab7",
   "metadata": {},
   "outputs": [],
   "source": [
    "alpha = 0.001"
   ]
  },
  {
   "cell_type": "code",
   "execution_count": 311,
   "id": "f9db873e-ca0f-453e-a1bf-9a4a410df9f5",
   "metadata": {},
   "outputs": [],
   "source": [
    "edger_rr = recovery_rate(bulk_edger_result.query(f'fdr < {alpha}').index, edger_result.query(f'fdr < {alpha}').index)\n",
    "memento_rr = recovery_rate(bulk_edger_result.query(f'fdr < {alpha}').index, result.query(f'fdr < {alpha}').index)"
   ]
  },
  {
   "cell_type": "code",
   "execution_count": 312,
   "id": "9b03c0a8-92b8-4597-8844-83954383e329",
   "metadata": {},
   "outputs": [
    {
     "name": "stdout",
     "output_type": "stream",
     "text": [
      "edger rep rate, 0.8492211838006231\n",
      "memento rep rate, 0.9043613707165109\n"
     ]
    }
   ],
   "source": [
    "print('edger rep rate,', edger_rr)\n",
    "print('memento rep rate,', memento_rr)"
   ]
  },
  {
   "cell_type": "code",
   "execution_count": null,
   "id": "8bed6d28-0e36-4308-a1cc-e762846bf444",
   "metadata": {},
   "outputs": [],
   "source": []
  },
  {
   "cell_type": "code",
   "execution_count": null,
   "id": "85acefd6-51ce-4ac7-8cf7-82a2513ca6aa",
   "metadata": {},
   "outputs": [],
   "source": []
  },
  {
   "cell_type": "code",
   "execution_count": null,
   "id": "a907e6de-2089-4064-9294-de2ab7e42768",
   "metadata": {},
   "outputs": [],
   "source": []
  },
  {
   "cell_type": "code",
   "execution_count": null,
   "id": "bae207f6-8a66-48ab-a618-76e8f630e071",
   "metadata": {},
   "outputs": [],
   "source": []
  },
  {
   "cell_type": "code",
   "execution_count": null,
   "id": "a3d0fd08-cec4-4292-8fab-c2399185c440",
   "metadata": {},
   "outputs": [],
   "source": []
  },
  {
   "cell_type": "code",
   "execution_count": null,
   "id": "5925e33e-1509-45b8-83e1-0b825bb22c0c",
   "metadata": {},
   "outputs": [],
   "source": []
  },
  {
   "cell_type": "code",
   "execution_count": null,
   "id": "881c19de-46bd-4736-b70e-4f29d3be4a38",
   "metadata": {},
   "outputs": [],
   "source": []
  },
  {
   "cell_type": "code",
   "execution_count": null,
   "id": "e2047ef3-74ac-4c03-841b-47f5fc445d15",
   "metadata": {},
   "outputs": [],
   "source": []
  },
  {
   "cell_type": "code",
   "execution_count": null,
   "id": "f7d892c9-c805-4caf-9dbc-cac8698193ef",
   "metadata": {},
   "outputs": [],
   "source": []
  },
  {
   "cell_type": "markdown",
   "id": "ef8a1a56-f2a2-4670-ae56-391304b8b759",
   "metadata": {},
   "source": [
    "### Run t-test and MWU"
   ]
  },
  {
   "cell_type": "code",
   "execution_count": 9,
   "id": "d1ead536-3ff3-42d9-9270-1f91323d8438",
   "metadata": {},
   "outputs": [
    {
     "name": "stdout",
     "output_type": "stream",
     "text": [
      "working on Hagai2018_mouse-lps\n",
      "working on Hagai2018_mouse-pic\n",
      "working on Hagai2018_pig-lps\n",
      "working on Hagai2018_rabbit-lps\n",
      "working on Hagai2018_rat-lps\n",
      "working on Hagai2018_rat-pic\n"
     ]
    }
   ],
   "source": [
    "def safe_fdr(x):\n",
    "    fdr = np.ones(x.shape[0])\n",
    "    _, fdr[np.isfinite(x)] = fdrcorrection(x[np.isfinite(x)])\n",
    "    return fdr\n",
    "\n",
    "for file in files:\n",
    "    for trial in range(1,2):\n",
    "        trial = 'all'\n",
    "        print('working on', file)\n",
    "\n",
    "        stim = file.split('-')[-1]\n",
    "\n",
    "        adata = sc.read_h5ad(data_path +'replicates/' + file + '_{}.h5ad'.format(trial))\n",
    "        labels = adata.obs['label'].drop_duplicates().tolist()\n",
    "\n",
    "        data1 = adata[adata.obs['label'] ==labels[0]].X.todense()\n",
    "        data2 = adata[adata.obs['label'] ==labels[1]].X.todense()\n",
    "\n",
    "        statistic, pvalue = stats.ttest_ind(data1, data2, axis=0)\n",
    "\n",
    "        logfc = data1.mean(axis=0) - data2.mean(axis=0)\n",
    "\n",
    "        ttest_result = pd.DataFrame(\n",
    "            zip(logfc.A1, pvalue, safe_fdr(pvalue)), \n",
    "            index=adata.var.index,\n",
    "            columns=['logFC', 'PValue', 'FDR'])\n",
    "        ttest_result.to_csv(data_path + '../results/{}_{}_t-test.csv'.format(file, trial))\n",
    "\n",
    "        mwu_stat, mwu_pval = stats.mannwhitneyu(data1, data2, axis=0)\n",
    "        mwu_result = pd.DataFrame(\n",
    "            zip(logfc.A1, mwu_pval, safe_fdr(mwu_pval)), \n",
    "            index=adata.var.index,\n",
    "            columns=['logFC', 'PValue', 'FDR'])\n",
    "        mwu_result.to_csv(data_path + '../results/{}_{}_MWU.csv'.format(file, trial))"
   ]
  },
  {
   "cell_type": "code",
   "execution_count": 149,
   "id": "370f6f62-edd4-4875-a4a8-e6938fa096a3",
   "metadata": {},
   "outputs": [
    {
     "data": {
      "text/plain": [
       "0.1697775125621206"
      ]
     },
     "execution_count": 149,
     "metadata": {},
     "output_type": "execute_result"
    }
   ],
   "source": [
    "weights.values.mean()"
   ]
  },
  {
   "cell_type": "code",
   "execution_count": 102,
   "id": "fcea5739-c8d6-4d4e-9d76-c568a07553c8",
   "metadata": {},
   "outputs": [
    {
     "data": {
      "text/plain": [
       "0.9018544215970733"
      ]
     },
     "execution_count": 102,
     "metadata": {},
     "output_type": "execute_result"
    }
   ],
   "source": [
    "(genewise_additional_disp>0).mean()"
   ]
  },
  {
   "cell_type": "code",
   "execution_count": null,
   "id": "c26616b1-f0e9-4d0c-a3d6-4535216262c4",
   "metadata": {},
   "outputs": [],
   "source": []
  },
  {
   "cell_type": "code",
   "execution_count": 85,
   "id": "a5e5701b-9c9c-4471-a86f-ff22a607dce8",
   "metadata": {},
   "outputs": [
    {
     "data": {
      "text/plain": [
       "-17.219189890231956"
      ]
     },
     "execution_count": 85,
     "metadata": {},
     "output_type": "execute_result"
    }
   ],
   "source": [
    "_ll_nbin(fit, dispersions[idx])"
   ]
  },
  {
   "cell_type": "code",
   "execution_count": 86,
   "id": "73a3b026-0af1-45eb-a2ee-522010a800c0",
   "metadata": {},
   "outputs": [
    {
     "data": {
      "text/plain": [
       "-15.515143707455543"
      ]
     },
     "execution_count": 86,
     "metadata": {},
     "output_type": "execute_result"
    }
   ],
   "source": [
    "_ll_nbin(fit, sampling_dispersions.iloc[:, idx].values+1e-8)"
   ]
  },
  {
   "cell_type": "markdown",
   "id": "f4cd5042-cc66-4c38-a8b6-383f31d5c103",
   "metadata": {},
   "source": [
    "### Vanilla (memento)"
   ]
  },
  {
   "cell_type": "code",
   "execution_count": 23,
   "id": "946133d5-2165-42c6-b4c1-aaa5a7283e71",
   "metadata": {
    "tags": []
   },
   "outputs": [
    {
     "name": "stdout",
     "output_type": "stream",
     "text": [
      "working on Hagai2018_mouse-lps\n",
      "working on Hagai2018_mouse-pic\n",
      "working on Hagai2018_pig-lps\n",
      "working on Hagai2018_rabbit-lps\n",
      "working on Hagai2018_rat-lps\n",
      "working on Hagai2018_rat-pic\n"
     ]
    }
   ],
   "source": [
    "# add dispersions\n",
    "\n",
    "for file in files:\n",
    "    for trial in range(1,2):\n",
    "        print('working on', file)\n",
    "\n",
    "        stim = file.split('-')[-1]\n",
    "\n",
    "        adata = sc.read_h5ad(data_path +'replicates/' + file + '_{}.h5ad'.format(trial))\n",
    "\n",
    "        dispersions = pd.read_csv(data_path + '../results/{}_{}_dispersions.csv'.format(file, trial))\n",
    "        gene_list = dispersions['gene'].tolist()\n",
    "        dispersions = dispersions['dispersion'].tolist()\n",
    "\n",
    "        groups = adata.obs[['replicate', 'label']].drop_duplicates().reset_index()\n",
    "        \n",
    "        expr = []\n",
    "        meta = []\n",
    "        for idx, row in groups.iterrows():\n",
    "\n",
    "            ind = row['replicate']\n",
    "            condition = row['label']\n",
    "\n",
    "            # Compute everything\n",
    "            group_adata =  adata[(adata.obs['replicate']==ind) & (adata.obs['label']==condition)].copy()\n",
    "            data = group_adata.X.toarray()\n",
    "            sums = data.sum(axis=0)\n",
    "            \n",
    "            # Gather everything\n",
    "            expr.append(sums) \n",
    "            meta.append((ind, int(stim in condition)))\n",
    "            \n",
    "        expr = pd.DataFrame(expr, columns=adata.var.index)\n",
    "        meta = pd.DataFrame(meta, columns=['replicate', 'label'])\n",
    "\n",
    "        # Filter and re-order by gene_list\n",
    "        libsize = expr.values.sum(axis=1)\n",
    "        expr = expr[gene_list]\n",
    "        \n",
    "        # Get the design matrix\n",
    "        design = dmatrix('replicate+label', meta)\n",
    "\n",
    "\n",
    "        results = []\n",
    "        for idx in range(len(gene_list)):\n",
    "            model = sm.GLM(\n",
    "                expr.iloc[:, [idx]], \n",
    "                design , \n",
    "                offset=np.log(libsize),\n",
    "                family=sm.families.NegativeBinomial(alpha=dispersions[idx]))\n",
    "            res_model = sm.GLM(\n",
    "                expr.iloc[:, [idx]], design[:, :-1] , \n",
    "                offset=np.log(libsize),\n",
    "                family=sm.families.NegativeBinomial(alpha=dispersions[idx]))\n",
    "            fit = model.fit()\n",
    "            res_fit = res_model.fit()\n",
    "            pv = stats.chi2.sf(-2*(res_fit.llf - fit.llf), df=res_fit.df_resid-fit.df_resid)\n",
    "            results.append((fit.params[-1], pv))\n",
    "        results = pd.DataFrame(results, columns=['logFC', 'PValue'], index=gene_list)\n",
    "        _, results['FDR'] = fdrcorrection(results['PValue'])\n",
    "\n",
    "        results.index = gene_list\n",
    "        results.to_csv(data_path + '../results/{}_{}_memento.csv'.format(file, trial))\n"
   ]
  },
  {
   "cell_type": "code",
   "execution_count": 61,
   "id": "4ff85ff9-40c2-494f-a3b2-3278a9ee0664",
   "metadata": {},
   "outputs": [
    {
     "data": {
      "text/plain": [
       "array([23.08607315, 25.85243233, 31.22370082, 37.75068135, 14.93534009,\n",
       "       26.36355818])"
      ]
     },
     "execution_count": 61,
     "metadata": {},
     "output_type": "execute_result"
    }
   ],
   "source": [
    "fit.predict(design)*libsize"
   ]
  },
  {
   "cell_type": "code",
   "execution_count": 62,
   "id": "2af517b6-8888-4a5c-9fb9-57fd7aa2dae1",
   "metadata": {},
   "outputs": [
    {
     "data": {
      "text/html": [
       "<div>\n",
       "<style scoped>\n",
       "    .dataframe tbody tr th:only-of-type {\n",
       "        vertical-align: middle;\n",
       "    }\n",
       "\n",
       "    .dataframe tbody tr th {\n",
       "        vertical-align: top;\n",
       "    }\n",
       "\n",
       "    .dataframe thead th {\n",
       "        text-align: right;\n",
       "    }\n",
       "</style>\n",
       "<table border=\"1\" class=\"dataframe\">\n",
       "  <thead>\n",
       "    <tr style=\"text-align: right;\">\n",
       "      <th></th>\n",
       "      <th>Zzz3</th>\n",
       "    </tr>\n",
       "  </thead>\n",
       "  <tbody>\n",
       "    <tr>\n",
       "      <th>0</th>\n",
       "      <td>22.0</td>\n",
       "    </tr>\n",
       "    <tr>\n",
       "      <th>1</th>\n",
       "      <td>27.0</td>\n",
       "    </tr>\n",
       "    <tr>\n",
       "      <th>2</th>\n",
       "      <td>31.0</td>\n",
       "    </tr>\n",
       "    <tr>\n",
       "      <th>3</th>\n",
       "      <td>38.0</td>\n",
       "    </tr>\n",
       "    <tr>\n",
       "      <th>4</th>\n",
       "      <td>16.0</td>\n",
       "    </tr>\n",
       "    <tr>\n",
       "      <th>5</th>\n",
       "      <td>25.0</td>\n",
       "    </tr>\n",
       "  </tbody>\n",
       "</table>\n",
       "</div>"
      ],
      "text/plain": [
       "   Zzz3\n",
       "0  22.0\n",
       "1  27.0\n",
       "2  31.0\n",
       "3  38.0\n",
       "4  16.0\n",
       "5  25.0"
      ]
     },
     "execution_count": 62,
     "metadata": {},
     "output_type": "execute_result"
    }
   ],
   "source": [
    "expr.iloc[:, [idx]]"
   ]
  },
  {
   "cell_type": "code",
   "execution_count": 20,
   "id": "0abbea39-efb3-4274-bae9-b0d4b8a0a1fe",
   "metadata": {},
   "outputs": [
    {
     "data": {
      "text/plain": [
       "1"
      ]
     },
     "execution_count": 20,
     "metadata": {},
     "output_type": "execute_result"
    }
   ],
   "source": [
    "res_fit.df_resid-fit.df_resid"
   ]
  },
  {
   "cell_type": "code",
   "execution_count": null,
   "id": "3a69cbd3-42de-472d-a276-4da883c6a146",
   "metadata": {},
   "outputs": [],
   "source": []
  },
  {
   "cell_type": "code",
   "execution_count": null,
   "id": "3230782f-9056-439c-b562-e9359303f0e8",
   "metadata": {},
   "outputs": [],
   "source": []
  },
  {
   "cell_type": "code",
   "execution_count": null,
   "id": "0306d1a8-9938-4101-9429-f3966e2b63a5",
   "metadata": {},
   "outputs": [],
   "source": []
  },
  {
   "cell_type": "code",
   "execution_count": null,
   "id": "a73ae5ec-53a5-46ee-b3c1-c9c0256567d2",
   "metadata": {},
   "outputs": [],
   "source": []
  },
  {
   "cell_type": "code",
   "execution_count": null,
   "id": "2b52631b-35a8-4d8c-acf0-bcd1dc1af886",
   "metadata": {},
   "outputs": [],
   "source": []
  },
  {
   "cell_type": "code",
   "execution_count": 88,
   "id": "d7826458-6ea6-45c8-ad42-01b2d07146fa",
   "metadata": {
    "tags": []
   },
   "outputs": [
    {
     "data": {
      "text/plain": [
       "'Hagai2018_mouse-lps'"
      ]
     },
     "execution_count": 88,
     "metadata": {},
     "output_type": "execute_result"
    }
   ],
   "source": [
    "file"
   ]
  },
  {
   "cell_type": "code",
   "execution_count": 9,
   "id": "1c4af43f-172e-4db3-9c6d-e64d69c55dbb",
   "metadata": {
    "tags": []
   },
   "outputs": [
    {
     "name": "stdout",
     "output_type": "stream",
     "text": [
      "working on Hagai2018_mouse-lps\n"
     ]
    },
    {
     "name": "stderr",
     "output_type": "stream",
     "text": [
      "[Parallel(n_jobs=93)]: Using backend LokyBackend with 93 concurrent workers.\n",
      "[Parallel(n_jobs=93)]: Done 179 tasks      | elapsed:   40.5s\n",
      "[Parallel(n_jobs=93)]: Done 462 tasks      | elapsed:  1.5min\n",
      "[Parallel(n_jobs=93)]: Done 827 tasks      | elapsed:  2.4min\n",
      "[Parallel(n_jobs=93)]: Done 1272 tasks      | elapsed:  3.7min\n",
      "Bad pipe message: %s [b'M:\\xb7\\xab\\x86\\xbf\\xdb\\x1bYY*f@\\x93\\x08\\xda%\\xbe \\x1d\\xa8\\x05${\\x16Bl-)\\xbc\\x9c\\x19\\xf2{NHV\\x1e\\xb6\\x9e%qY\\xec\"\\xa1\\x01b \\x08\\x00\\x00&\\xc0+\\xc0/\\xc0,\\xc00\\xcc\\xa9\\xcc\\xa8\\xc0\\t\\xc0\\x13\\xc0\\n\\xc0\\x14\\x00\\x9c\\x00\\x9d\\x00/\\x005\\xc0\\x12\\x00\\n\\x13\\x01\\x13\\x02\\x13\\x03\\x01\\x00\\x00\\x89\\x00\\x00\\x00\\x0e\\x00\\x0c\\x00\\x00\\tlocalhost']\n",
      "[Parallel(n_jobs=93)]: Done 1799 tasks      | elapsed:  5.1min\n",
      "[Parallel(n_jobs=93)]: Done 2406 tasks      | elapsed:  6.8min\n",
      "[Parallel(n_jobs=93)]: Done 3095 tasks      | elapsed:  8.8min\n",
      "[Parallel(n_jobs=93)]: Done 3864 tasks      | elapsed: 10.9min\n",
      "[Parallel(n_jobs=93)]: Done 4715 tasks      | elapsed: 13.3min\n",
      "[Parallel(n_jobs=93)]: Done 5646 tasks      | elapsed: 15.9min\n",
      "[Parallel(n_jobs=93)]: Done 6659 tasks      | elapsed: 18.7min\n",
      "[Parallel(n_jobs=93)]: Done 7927 out of 7927 | elapsed: 22.1min finished\n"
     ]
    },
    {
     "name": "stdout",
     "output_type": "stream",
     "text": [
      "CPU times: user 31.2 s, sys: 6.61 s, total: 37.8 s\n",
      "Wall time: 22min 13s\n"
     ]
    }
   ],
   "source": [
    "%%time\n",
    "\n",
    "\n",
    "for file in files:\n",
    "    for trial in range(1,11):\n",
    "        print('working on', file)\n",
    "\n",
    "        stim = file.split('-')[-1]\n",
    "\n",
    "        adata = sc.read_h5ad(data_path +'replicates/' + file + '_{}.h5ad'.format(trial))\n",
    "        adata.obs['q'] = 0.07\n",
    "        memento.setup_memento(adata, q_column='q', trim_percent=0.99, filter_mean_thresh=0.00000001, estimator_type='sum')\n",
    "        adata.obs['memento_size_factor'] = adata.X.sum(axis=1).A1\n",
    "        memento.create_groups(adata, label_columns=['replicate', 'label'])\n",
    "        dispersions = pd.read_csv(data_path + '../results/{}_{}_dispersions.csv'.format(file, trial))\n",
    "        gene_list = dispersions['gene'].tolist()\n",
    "        dispersions = dispersions['dispersion'].tolist()\n",
    "\n",
    "        # adata = adata[:, gene_list].copy()\n",
    "\n",
    "        memento.compute_1d_moments(adata, gene_list=gene_list)\n",
    "        adata.var['dispersion'] = dispersions\n",
    "\n",
    "        meta = pd.get_dummies(memento.get_groups(adata), drop_first=True)\n",
    "        cov = meta.iloc[:, [0, 1]].astype(int)\n",
    "        cov['intercept'] = 1\n",
    "        treatment = meta.iloc[:, [2]].astype(int)\n",
    "\n",
    "        memento.ht_1d_moments(\n",
    "            adata,\n",
    "            covariate=cov,\n",
    "            treatment=treatment,\n",
    "            num_boot=5000,\n",
    "            verbose=2,\n",
    "            num_cpus=93)\n",
    "        results = memento.get_1d_ht_result(adata)\n",
    "        results['FDR'] = memento.util._fdrcorrect(results['de_pval'])\n",
    "        results.to_csv(data_path + '../results/{}_{}_memento.csv'.format(file, trial), index=False)\n",
    "        break\n",
    "    break"
   ]
  },
  {
   "cell_type": "code",
   "execution_count": 89,
   "id": "02481d2d-ef9f-4134-a1c5-84026435329c",
   "metadata": {
    "tags": []
   },
   "outputs": [
    {
     "data": {
      "text/plain": [
       "0    1597.966263\n",
       "1      20.087687\n",
       "2     621.789328\n",
       "3       3.101967\n",
       "4     385.786913\n",
       "5       7.007130\n",
       "Name: Nlrp3, dtype: float64"
      ]
     },
     "execution_count": 89,
     "metadata": {},
     "output_type": "execute_result"
    }
   ],
   "source": [
    "scaled_means['Nlrp3']"
   ]
  },
  {
   "cell_type": "code",
   "execution_count": 90,
   "id": "c7cb4149-981d-47ff-98ab-32607677bb72",
   "metadata": {
    "tags": []
   },
   "outputs": [
    {
     "data": {
      "text/plain": [
       "0    0.187828\n",
       "1    1.192380\n",
       "2    0.283577\n",
       "3    0.765142\n",
       "4    0.320115\n",
       "5    1.177536\n",
       "Name: Nlrp3, dtype: float64"
      ]
     },
     "execution_count": 90,
     "metadata": {},
     "output_type": "execute_result"
    }
   ],
   "source": [
    "weights['Nlrp3']"
   ]
  },
  {
   "cell_type": "code",
   "execution_count": 95,
   "id": "9d8e4845-6ddf-48af-a470-4d18c98d79d0",
   "metadata": {
    "tags": []
   },
   "outputs": [
    {
     "data": {
      "text/plain": [
       "0    0.002180\n",
       "1    0.013840\n",
       "2    0.003291\n",
       "3    0.008881\n",
       "4    0.003715\n",
       "5    0.013667\n",
       "Name: Nlrp3, dtype: float64"
      ]
     },
     "execution_count": 95,
     "metadata": {},
     "output_type": "execute_result"
    }
   ],
   "source": [
    "1/(variances/scaled_means)['Nlrp3']"
   ]
  },
  {
   "cell_type": "code",
   "execution_count": 85,
   "id": "bc480b71-ee42-4c59-a28a-ab25c22212ff",
   "metadata": {
    "tags": []
   },
   "outputs": [
    {
     "data": {
      "text/plain": [
       "0    0.053459\n",
       "1    1.201353\n",
       "2    0.105303\n",
       "3    2.448954\n",
       "4    0.142039\n",
       "5    2.021367\n",
       "Name: Nlrp3, dtype: float64"
      ]
     },
     "execution_count": 85,
     "metadata": {},
     "output_type": "execute_result"
    }
   ],
   "source": [
    "temp = 1/np.sqrt(variances)\n",
    "temp = temp/temp.values.mean()\n",
    "temp['Nlrp3']"
   ]
  },
  {
   "cell_type": "code",
   "execution_count": 68,
   "id": "f574c39c-cbf0-467e-8f72-af70eb90bc88",
   "metadata": {
    "tags": []
   },
   "outputs": [
    {
     "data": {
      "text/plain": [
       "False"
      ]
     },
     "execution_count": 68,
     "metadata": {},
     "output_type": "execute_result"
    }
   ],
   "source": [
    "'Nirp3' in gene_list"
   ]
  },
  {
   "cell_type": "code",
   "execution_count": 45,
   "id": "c4f4c440-f82b-4863-9d90-fbacdae9f574",
   "metadata": {
    "tags": []
   },
   "outputs": [
    {
     "data": {
      "text/plain": [
       "logFC     2.912061\n",
       "PValue         0.0\n",
       "FDR            0.0\n",
       "gene          Ccl5\n",
       "Name: Ccl5, dtype: object"
      ]
     },
     "execution_count": 45,
     "metadata": {},
     "output_type": "execute_result"
    }
   ],
   "source": [
    "weighted_mean_glm_results.loc['Ccl5']"
   ]
  },
  {
   "cell_type": "code",
   "execution_count": 44,
   "id": "991360ba-0e8f-42b8-9315-0bf688ce16fb",
   "metadata": {
    "tags": []
   },
   "outputs": [
    {
     "data": {
      "text/html": [
       "<div>\n",
       "<style scoped>\n",
       "    .dataframe tbody tr th:only-of-type {\n",
       "        vertical-align: middle;\n",
       "    }\n",
       "\n",
       "    .dataframe tbody tr th {\n",
       "        vertical-align: top;\n",
       "    }\n",
       "\n",
       "    .dataframe thead th {\n",
       "        text-align: right;\n",
       "    }\n",
       "</style>\n",
       "<table border=\"1\" class=\"dataframe\">\n",
       "  <thead>\n",
       "    <tr style=\"text-align: right;\">\n",
       "      <th></th>\n",
       "      <th>logFC</th>\n",
       "      <th>PValue</th>\n",
       "      <th>FDR</th>\n",
       "      <th>gene</th>\n",
       "    </tr>\n",
       "  </thead>\n",
       "  <tbody>\n",
       "    <tr>\n",
       "      <th>Gbp3</th>\n",
       "      <td>3.550863</td>\n",
       "      <td>5.683614e-15</td>\n",
       "      <td>1.520324e-13</td>\n",
       "      <td>Gbp3</td>\n",
       "    </tr>\n",
       "  </tbody>\n",
       "</table>\n",
       "</div>"
      ],
      "text/plain": [
       "         logFC        PValue           FDR  gene\n",
       "Gbp3  3.550863  5.683614e-15  1.520324e-13  Gbp3"
      ]
     },
     "execution_count": 44,
     "metadata": {},
     "output_type": "execute_result"
    }
   ],
   "source": [
    "weighted_mean_glm_results.query('gene == \"Gbp3\"')"
   ]
  },
  {
   "cell_type": "code",
   "execution_count": null,
   "id": "3835ca71-8d6a-4ace-ae07-393f45fc9a6a",
   "metadata": {
    "tags": []
   },
   "outputs": [],
   "source": [
    "weights"
   ]
  },
  {
   "cell_type": "code",
   "execution_count": null,
   "id": "3857f251-8a12-450d-a667-4ab40202eb24",
   "metadata": {
    "tags": []
   },
   "outputs": [],
   "source": [
    "dispersions"
   ]
  },
  {
   "cell_type": "code",
   "execution_count": null,
   "id": "b09d3713-ed6a-400f-a2fc-ddc424ead9eb",
   "metadata": {},
   "outputs": [],
   "source": []
  },
  {
   "cell_type": "code",
   "execution_count": null,
   "id": "118eb78c-39ef-4b04-be1b-de3f36afea72",
   "metadata": {},
   "outputs": [],
   "source": []
  },
  {
   "cell_type": "code",
   "execution_count": 42,
   "id": "1581a488-0e15-4f2c-ad52-8c272c3fd940",
   "metadata": {
    "tags": []
   },
   "outputs": [
    {
     "data": {
      "text/plain": [
       "0610009B22Rik      0.936955\n",
       "0610009L18Rik    263.080223\n",
       "0610010F05Rik      4.270511\n",
       "0610010K14Rik     14.793980\n",
       "0610012G03Rik      0.000000\n",
       "                    ...    \n",
       "Zxdc              54.571092\n",
       "Zyg11b            12.241629\n",
       "Zyx                0.017547\n",
       "Zzef1              1.545507\n",
       "Zzz3               3.453833\n",
       "Length: 8961, dtype: float64"
      ]
     },
     "execution_count": 42,
     "metadata": {},
     "output_type": "execute_result"
    }
   ],
   "source": []
  },
  {
   "cell_type": "code",
   "execution_count": null,
   "id": "31a0476f-3a4e-4b2c-983b-43d3ac6cc836",
   "metadata": {},
   "outputs": [],
   "source": []
  },
  {
   "cell_type": "code",
   "execution_count": null,
   "id": "0d0ac474-f784-4a4b-82b2-dd2f4c2ab2c7",
   "metadata": {},
   "outputs": [],
   "source": []
  },
  {
   "cell_type": "code",
   "execution_count": null,
   "id": "635279f4-8cb1-4d43-9faf-dbfa2b5ff760",
   "metadata": {},
   "outputs": [],
   "source": []
  },
  {
   "cell_type": "code",
   "execution_count": null,
   "id": "3387e0ef-f809-49fc-9f18-5af19156efda",
   "metadata": {},
   "outputs": [],
   "source": []
  },
  {
   "cell_type": "code",
   "execution_count": null,
   "id": "67f82966-8d43-4787-b81e-ef4c78392619",
   "metadata": {},
   "outputs": [],
   "source": []
  },
  {
   "cell_type": "code",
   "execution_count": null,
   "id": "9e3e86c8-9330-4a26-a9c7-70ab1fa42683",
   "metadata": {},
   "outputs": [],
   "source": []
  },
  {
   "cell_type": "code",
   "execution_count": null,
   "id": "1f9cd371-053c-4eb7-a0df-595a9858db73",
   "metadata": {},
   "outputs": [],
   "source": []
  },
  {
   "cell_type": "code",
   "execution_count": null,
   "id": "7eadc487-43a0-442c-9e0d-d2c9fac96143",
   "metadata": {},
   "outputs": [],
   "source": []
  },
  {
   "cell_type": "code",
   "execution_count": 66,
   "id": "22694a22-e409-4f36-affd-e4f52c54a4c0",
   "metadata": {},
   "outputs": [],
   "source": [
    "weighted_mean_glm_results = []\n",
    "for idx in range(len(gene_list)):\n",
    "    model = sm.GLM(\n",
    "        scaled_means.iloc[:, [idx]], \n",
    "        design , \n",
    "        exposure=totals,\n",
    "        var_weights=weights.iloc[:, idx],\n",
    "        family=sm.families.NegativeBinomial(alpha=0.05))\n",
    "    res_model = sm.GLM(\n",
    "        scaled_means.iloc[:, [idx]], design[:, :-1] , \n",
    "        exposure=totals,\n",
    "        var_weights=weights.iloc[:, idx],\n",
    "        family=sm.families.NegativeBinomial(alpha=0.05))\n",
    "    fit = model.fit()\n",
    "    res_fit = res_model.fit()\n",
    "    pv = stats.chi2.sf(-2*(res_fit.llf - fit.llf), df=res_fit.df_resid-fit.df_resid)\n",
    "    weighted_mean_glm_results.append((fit.params[-1], pv))\n",
    "weighted_mean_glm_results = pd.DataFrame(weighted_mean_glm_results, columns=['logFC', 'PValue'], index=gene_list)\n",
    "_, weighted_mean_glm_results['FDR'] = fdrcorrection(weighted_mean_glm_results['PValue'])"
   ]
  },
  {
   "cell_type": "code",
   "execution_count": 39,
   "id": "7dbb216b-2bae-4f14-8f1a-58cbf579e3e8",
   "metadata": {},
   "outputs": [
    {
     "data": {
      "text/plain": [
       "(array([11098.,  1306.,   936.,   750.,   708.,   625.,   601.,   588.,\n",
       "          517.,   552.]),\n",
       " array([5.36163695e-91, 9.99920244e-02, 1.99984049e-01, 2.99976073e-01,\n",
       "        3.99968098e-01, 4.99960122e-01, 5.99952147e-01, 6.99944171e-01,\n",
       "        7.99936195e-01, 8.99928220e-01, 9.99920244e-01]),\n",
       " <BarContainer object of 10 artists>)"
      ]
     },
     "execution_count": 39,
     "metadata": {},
     "output_type": "execute_result"
    },
    {
     "data": {
      "image/png": "[encoded data removed]",
      "text/plain": [
       "<Figure size 640x480 with 1 Axes>"
      ]
     },
     "metadata": {},
     "output_type": "display_data"
    }
   ],
   "source": [
    "plt.hist(weighted_mean_glm_results['PValue'])"
   ]
  },
  {
   "cell_type": "code",
   "execution_count": 12,
   "id": "08928e9c-3714-498c-9f03-038150dc2606",
   "metadata": {},
   "outputs": [
    {
     "data": {
      "text/html": [
       "<div>\n",
       "<style scoped>\n",
       "    .dataframe tbody tr th:only-of-type {\n",
       "        vertical-align: middle;\n",
       "    }\n",
       "\n",
       "    .dataframe tbody tr th {\n",
       "        vertical-align: top;\n",
       "    }\n",
       "\n",
       "    .dataframe thead th {\n",
       "        text-align: right;\n",
       "    }\n",
       "</style>\n",
       "<table border=\"1\" class=\"dataframe\">\n",
       "  <thead>\n",
       "    <tr style=\"text-align: right;\">\n",
       "      <th></th>\n",
       "      <th>replicate</th>\n",
       "      <th>label</th>\n",
       "    </tr>\n",
       "  </thead>\n",
       "  <tbody>\n",
       "    <tr>\n",
       "      <th>0</th>\n",
       "      <td>muc3838</td>\n",
       "      <td>24m</td>\n",
       "    </tr>\n",
       "    <tr>\n",
       "      <th>1</th>\n",
       "      <td>muc3839</td>\n",
       "      <td>24m</td>\n",
       "    </tr>\n",
       "    <tr>\n",
       "      <th>2</th>\n",
       "      <td>muc3840</td>\n",
       "      <td>3m</td>\n",
       "    </tr>\n",
       "    <tr>\n",
       "      <th>3</th>\n",
       "      <td>muc3841</td>\n",
       "      <td>3m</td>\n",
       "    </tr>\n",
       "    <tr>\n",
       "      <th>4</th>\n",
       "      <td>muc4166</td>\n",
       "      <td>24m</td>\n",
       "    </tr>\n",
       "    <tr>\n",
       "      <th>5</th>\n",
       "      <td>muc4167</td>\n",
       "      <td>24m</td>\n",
       "    </tr>\n",
       "    <tr>\n",
       "      <th>6</th>\n",
       "      <td>muc4168</td>\n",
       "      <td>24m</td>\n",
       "    </tr>\n",
       "    <tr>\n",
       "      <th>7</th>\n",
       "      <td>muc4169</td>\n",
       "      <td>3m</td>\n",
       "    </tr>\n",
       "    <tr>\n",
       "      <th>8</th>\n",
       "      <td>muc4170</td>\n",
       "      <td>3m</td>\n",
       "    </tr>\n",
       "    <tr>\n",
       "      <th>9</th>\n",
       "      <td>muc4172</td>\n",
       "      <td>3m</td>\n",
       "    </tr>\n",
       "    <tr>\n",
       "      <th>10</th>\n",
       "      <td>muc4173</td>\n",
       "      <td>3m</td>\n",
       "    </tr>\n",
       "    <tr>\n",
       "      <th>11</th>\n",
       "      <td>muc4174</td>\n",
       "      <td>24m</td>\n",
       "    </tr>\n",
       "    <tr>\n",
       "      <th>12</th>\n",
       "      <td>muc4175</td>\n",
       "      <td>24m</td>\n",
       "    </tr>\n",
       "    <tr>\n",
       "      <th>13</th>\n",
       "      <td>muc4654</td>\n",
       "      <td>3m</td>\n",
       "    </tr>\n",
       "    <tr>\n",
       "      <th>14</th>\n",
       "      <td>muc4657</td>\n",
       "      <td>3m</td>\n",
       "    </tr>\n",
       "  </tbody>\n",
       "</table>\n",
       "</div>"
      ],
      "text/plain": [
       "   replicate label\n",
       "0    muc3838   24m\n",
       "1    muc3839   24m\n",
       "2    muc3840    3m\n",
       "3    muc3841    3m\n",
       "4    muc4166   24m\n",
       "5    muc4167   24m\n",
       "6    muc4168   24m\n",
       "7    muc4169    3m\n",
       "8    muc4170    3m\n",
       "9    muc4172    3m\n",
       "10   muc4173    3m\n",
       "11   muc4174   24m\n",
       "12   muc4175   24m\n",
       "13   muc4654    3m\n",
       "14   muc4657    3m"
      ]
     },
     "execution_count": 12,
     "metadata": {},
     "output_type": "execute_result"
    }
   ],
   "source": [
    "adata.obs[['replicate', 'label']].drop_duplicates().reset_index(drop=True)"
   ]
  },
  {
   "cell_type": "code",
   "execution_count": 9,
   "id": "b2413ff1-1be8-4df1-b3b1-f2a4d95b6851",
   "metadata": {},
   "outputs": [
    {
     "data": {
      "text/plain": [
       "replicate  label\n",
       "muc3838    24m      155\n",
       "muc3839    24m      131\n",
       "muc3840    3m       293\n",
       "muc3841    3m       176\n",
       "muc4166    24m      252\n",
       "muc4167    24m      275\n",
       "muc4168    24m       99\n",
       "muc4169    3m       487\n",
       "muc4170    3m       364\n",
       "muc4172    3m       410\n",
       "muc4173    3m       583\n",
       "muc4174    24m      175\n",
       "muc4175    24m      103\n",
       "muc4654    3m       498\n",
       "muc4657    3m       198\n",
       "dtype: int64"
      ]
     },
     "execution_count": 9,
     "metadata": {},
     "output_type": "execute_result"
    }
   ],
   "source": [
    "adata.obs.groupby(['replicate', 'label'])"
   ]
  },
  {
   "cell_type": "code",
   "execution_count": null,
   "id": "66656ad2-d1ce-46d3-aabb-6420aca43b27",
   "metadata": {},
   "outputs": [],
   "source": [
    "def sample_sum(data):\n",
    "    \n",
    "    s = data.sum(axis=0)\n",
    "    return s\n",
    "\n",
    "def scaled_mean_se2(data, sf, q):\n",
    "\n",
    "    augmented_data = np.append(data, np.ones((1,data.shape[1])), axis=0)\n",
    "\n",
    "    sf = np.append(sf, sf.mean())\n",
    "    q = q.mean()\n",
    "    X = augmented_data/sf.reshape(-1,1)\n",
    "\n",
    "    naive_v = X.var(axis=0)\n",
    "    naive_m = X.mean(axis=0)\n",
    "    v = naive_v-(1-q)*(augmented_data/(sf**2-sf*(1-q)).reshape(-1,1)).mean(axis=0)\n",
    "    variance_contributions = ((1-q)/sf).reshape(-1,1)*naive_m.reshape(1,-1) + v.reshape(1,-1)\n",
    "    m = np.average( X, weights=1/variance_contributions, axis=0)\n",
    "    m[~np.isfinite(m)] = naive_m[~np.isfinite(m)]\n",
    "    m[m<0] = 0\n",
    "    # return np.log(naive_m), v/data.shape[0]\n",
    "    total = data.sum()\n",
    "    # return m*total, v*total**2\n",
    "    return m*total, (v/data.shape[0])*total**2"
   ]
  }
 ],
 "metadata": {
  "kernelspec": {
   "display_name": "Python (single_cell)",
   "language": "python",
   "name": "single_cell"
  },
  "language_info": {
   "codemirror_mode": {
    "name": "ipython",
    "version": 3
   },
   "file_extension": ".py",
   "mimetype": "text/x-python",
   "name": "python",
   "nbconvert_exporter": "python",
   "pygments_lexer": "ipython3",
   "version": "3.10.11"
  }
 },
 "nbformat": 4,
 "nbformat_minor": 5
}
