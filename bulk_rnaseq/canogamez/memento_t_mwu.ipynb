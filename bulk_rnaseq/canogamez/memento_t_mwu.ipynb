{
 "cells": [
  {
   "cell_type": "markdown",
   "id": "5ac12598-60f1-4ff7-80ca-5ae7367623bf",
   "metadata": {},
   "source": [
    "# Run memento-GLM for Cano-Gamez datasets"
   ]
  },
  {
   "cell_type": "code",
   "execution_count": 1059,
   "id": "eee5f4da-cdbd-4fe9-945a-2b3f6f3a556d",
   "metadata": {
    "tags": []
   },
   "outputs": [],
   "source": [
    "import pandas as pd\n",
    "import matplotlib.pyplot as plt\n",
    "import seaborn as sns\n",
    "import functools\n",
    "import numpy as np\n",
    "import scanpy as sc\n",
    "import scipy.stats as stats\n",
    "from statsmodels.stats.multitest import fdrcorrection\n",
    "from patsy import dmatrix, dmatrices \n",
    "import statsmodels.api as sm\n",
    "import logging\n",
    "import pickle as pkl\n",
    "from scipy.optimize import minimize\n",
    "import os"
   ]
  },
  {
   "cell_type": "code",
   "execution_count": 1060,
   "id": "94867d8a-ad10-4293-bfaa-9ccc4ed53a12",
   "metadata": {},
   "outputs": [
    {
     "name": "stdout",
     "output_type": "stream",
     "text": [
      "The autoreload extension is already loaded. To reload it, use:\n",
      "  %reload_ext autoreload\n"
     ]
    }
   ],
   "source": [
    "%load_ext autoreload"
   ]
  },
  {
   "cell_type": "code",
   "execution_count": 1061,
   "id": "7b9902b1-dc89-44e4-86ed-780d29d8b06b",
   "metadata": {},
   "outputs": [],
   "source": [
    "%autoreload 2"
   ]
  },
  {
   "cell_type": "code",
   "execution_count": 1062,
   "id": "346838df-9a5a-4c5e-ac1a-701c3e8368aa",
   "metadata": {
    "tags": []
   },
   "outputs": [],
   "source": [
    "data_path = '/data_volume/memento/method_comparison/canogamez/'"
   ]
  },
  {
   "cell_type": "markdown",
   "id": "f6cd79fe-bbe5-41b9-85f5-e53802ec94de",
   "metadata": {},
   "source": [
    "### Cano Gamez datasets"
   ]
  },
  {
   "cell_type": "code",
   "execution_count": 1063,
   "id": "5c1550bc-b5e2-4dc9-89f7-e24bbd00613d",
   "metadata": {
    "tags": []
   },
   "outputs": [],
   "source": [
    "datasets = [\n",
    " 'CD4_Memory-Th0',\n",
    " 'CD4_Memory-Th2',\n",
    " 'CD4_Memory-Th17',\n",
    " 'CD4_Memory-iTreg',\n",
    " 'CD4_Naive-Th0',\n",
    " 'CD4_Naive-Th2',\n",
    " 'CD4_Naive-Th17',\n",
    " 'CD4_Naive-iTreg']"
   ]
  },
  {
   "cell_type": "markdown",
   "id": "9ca4f31b-77ed-43b2-9d81-3cf888c7432f",
   "metadata": {},
   "source": [
    "### Run memento"
   ]
  },
  {
   "cell_type": "code",
   "execution_count": 1064,
   "id": "e76e4161-9e92-4db7-82f1-6c7e5a3e56f3",
   "metadata": {},
   "outputs": [],
   "source": [
    "import os"
   ]
  },
  {
   "cell_type": "code",
   "execution_count": 1065,
   "id": "118dc152-897e-4317-96e0-5ba73f765fc9",
   "metadata": {},
   "outputs": [],
   "source": [
    "import sys\n",
    "sys.path.append('/home/ssm-user/Github/memento')\n",
    "\n",
    "import memento.model.rna as rna\n",
    "\n",
    "logging.basicConfig(\n",
    "    format=\"%(asctime)s %(process)-7s %(levelname)-8s %(message)s\",\n",
    "    level=logging.INFO, \n",
    "    datefmt=\"%Y-%m-%d %H:%M:%S\",\n",
    ")\n",
    "logging.captureWarnings(True)"
   ]
  },
  {
   "cell_type": "code",
   "execution_count": 1066,
   "id": "d5dac848-b498-4ee8-b1c9-e14d38ecd64c",
   "metadata": {},
   "outputs": [
    {
     "name": "stdout",
     "output_type": "stream",
     "text": [
      "CD4_Memory-Th0\n"
     ]
    },
    {
     "name": "stderr",
     "output_type": "stream",
     "text": [
      "2023-07-13 19:52:45 41046   INFO     setup_anndata: creating groups\n",
      "2023-07-13 19:52:45 41046   INFO     setup_anndata: computing cell sizes\n"
     ]
    }
   ],
   "source": [
    "trial = 1\n",
    "dataset = 'CD4_Memory-Th0'\n",
    "    \n",
    "print(dataset)\n",
    "ct, stim = dataset.split('-')\n",
    "\n",
    "adata = sc.read(data_path + 'single_cell/{}_{}.h5ad'.format(dataset, trial))\n",
    "dispersion = pd.read_csv(data_path + 'sc_results/{}_{}_dispersions.csv'.format(dataset, trial), index_col=0)\n",
    "# gene_list = dispersions['gene'].tolist()\n",
    "# dispersions = dispersions['dispersion'].tolist()\n",
    "adata.obs['q'] = 0.07\n",
    "adata.X = adata.X.astype(float)\n",
    "\n",
    "rna.MementoRNA.setup_anndata(\n",
    "        adata=adata,\n",
    "        q_column='q',\n",
    "        label_columns=['donor.id', 'cytokine.condition'],\n",
    "        num_bins=30)\n",
    "\n",
    "adata = adata[:, dispersion.index]\n",
    "\n",
    "model = rna.MementoRNA(adata=adata)\n",
    "\n",
    "model_save_name = f'{dataset}_estimates'\n",
    "\n",
    "if model_save_name in os.listdir():\n",
    "    model.load_estimates(model_save_name)\n",
    "else:\n",
    "    model.compute_estimate(\n",
    "        estimand='mean',\n",
    "        get_se=True,\n",
    "        n_jobs=30,\n",
    "    )\n",
    "    model.save_estimates(model_save_name)"
   ]
  },
  {
   "cell_type": "code",
   "execution_count": 956,
   "id": "17f1d875-426a-40e7-9269-ce1895cdc23f",
   "metadata": {},
   "outputs": [
    {
     "data": {
      "text/html": [
       "<div>\n",
       "<style scoped>\n",
       "    .dataframe tbody tr th:only-of-type {\n",
       "        vertical-align: middle;\n",
       "    }\n",
       "\n",
       "    .dataframe tbody tr th {\n",
       "        vertical-align: top;\n",
       "    }\n",
       "\n",
       "    .dataframe thead th {\n",
       "        text-align: right;\n",
       "    }\n",
       "</style>\n",
       "<table border=\"1\" class=\"dataframe\">\n",
       "  <thead>\n",
       "    <tr style=\"text-align: right;\">\n",
       "      <th></th>\n",
       "      <th>cell.type</th>\n",
       "      <th>cytokine.condition</th>\n",
       "      <th>donor.id</th>\n",
       "      <th>batch.10X</th>\n",
       "      <th>nGene</th>\n",
       "      <th>nUMI</th>\n",
       "      <th>percent.mito</th>\n",
       "      <th>S.Score</th>\n",
       "      <th>G2M.Score</th>\n",
       "      <th>Phase</th>\n",
       "      <th>cluster.id</th>\n",
       "      <th>effectorness</th>\n",
       "      <th>batch</th>\n",
       "      <th>q</th>\n",
       "      <th>memento_group</th>\n",
       "      <th>memento_size_factor</th>\n",
       "      <th>memento_approx_size_factor</th>\n",
       "    </tr>\n",
       "  </thead>\n",
       "  <tbody>\n",
       "    <tr>\n",
       "      <th>M_Th0_r1_AGGTCATTCATCGCTC-0</th>\n",
       "      <td>CD4_Memory</td>\n",
       "      <td>Th0</td>\n",
       "      <td>D1</td>\n",
       "      <td>1</td>\n",
       "      <td>1572</td>\n",
       "      <td>8205</td>\n",
       "      <td>0.002073</td>\n",
       "      <td>-0.096113</td>\n",
       "      <td>-0.015126</td>\n",
       "      <td>G1</td>\n",
       "      <td>Mitotic</td>\n",
       "      <td>0.672442</td>\n",
       "      <td>0</td>\n",
       "      <td>0.07</td>\n",
       "      <td>memento_group^D1^Th0</td>\n",
       "      <td>1.211658</td>\n",
       "      <td>1.136858</td>\n",
       "    </tr>\n",
       "    <tr>\n",
       "      <th>M_Th0_r1_CGCGGTAGTACGAAAT-0</th>\n",
       "      <td>CD4_Memory</td>\n",
       "      <td>Th0</td>\n",
       "      <td>D1</td>\n",
       "      <td>1</td>\n",
       "      <td>4810</td>\n",
       "      <td>26936</td>\n",
       "      <td>0.038095</td>\n",
       "      <td>0.066206</td>\n",
       "      <td>-0.055787</td>\n",
       "      <td>S</td>\n",
       "      <td>TN (Th2)</td>\n",
       "      <td>0.541871</td>\n",
       "      <td>0</td>\n",
       "      <td>0.07</td>\n",
       "      <td>memento_group^D1^Th0</td>\n",
       "      <td>2.080627</td>\n",
       "      <td>2.155205</td>\n",
       "    </tr>\n",
       "  </tbody>\n",
       "</table>\n",
       "</div>"
      ],
      "text/plain": [
       "                              cell.type cytokine.condition donor.id   \n",
       "M_Th0_r1_AGGTCATTCATCGCTC-0  CD4_Memory                Th0       D1  \\\n",
       "M_Th0_r1_CGCGGTAGTACGAAAT-0  CD4_Memory                Th0       D1   \n",
       "\n",
       "                             batch.10X  nGene   nUMI  percent.mito   S.Score   \n",
       "M_Th0_r1_AGGTCATTCATCGCTC-0          1   1572   8205      0.002073 -0.096113  \\\n",
       "M_Th0_r1_CGCGGTAGTACGAAAT-0          1   4810  26936      0.038095  0.066206   \n",
       "\n",
       "                             G2M.Score Phase cluster.id  effectorness batch   \n",
       "M_Th0_r1_AGGTCATTCATCGCTC-0  -0.015126    G1    Mitotic      0.672442     0  \\\n",
       "M_Th0_r1_CGCGGTAGTACGAAAT-0  -0.055787     S   TN (Th2)      0.541871     0   \n",
       "\n",
       "                                q         memento_group  memento_size_factor   \n",
       "M_Th0_r1_AGGTCATTCATCGCTC-0  0.07  memento_group^D1^Th0             1.211658  \\\n",
       "M_Th0_r1_CGCGGTAGTACGAAAT-0  0.07  memento_group^D1^Th0             2.080627   \n",
       "\n",
       "                             memento_approx_size_factor  \n",
       "M_Th0_r1_AGGTCATTCATCGCTC-0                    1.136858  \n",
       "M_Th0_r1_CGCGGTAGTACGAAAT-0                    2.155205  "
      ]
     },
     "execution_count": 956,
     "metadata": {},
     "output_type": "execute_result"
    }
   ],
   "source": [
    "adata.obs.head(2)"
   ]
  },
  {
   "cell_type": "code",
   "execution_count": 957,
   "id": "0b1d69b3-9d9c-478f-a72e-312d97878a9b",
   "metadata": {},
   "outputs": [
    {
     "data": {
      "text/plain": [
       "<Axes: xlabel='cytokine.condition', ylabel='nUMI'>"
      ]
     },
     "execution_count": 957,
     "metadata": {},
     "output_type": "execute_result"
    },
    {
     "data": {
      "image/png": "[encoded data removed]",
      "text/plain": [
       "<Figure size 640x480 with 1 Axes>"
      ]
     },
     "metadata": {},
     "output_type": "display_data"
    }
   ],
   "source": [
    "sns.boxplot(y='nUMI', x='cytokine.condition', data=adata.obs)"
   ]
  },
  {
   "cell_type": "code",
   "execution_count": 958,
   "id": "06b12b54-e787-4cac-80ef-47734be29ed8",
   "metadata": {},
   "outputs": [],
   "source": [
    "def quasi_nb_var(mean, scale, dispersion):\n",
    "    \n",
    "    return scale*(mean + dispersion*mean**2)\n",
    "\n",
    "\n",
    "def quasi_nb_objective(scale, dispersion, mean, variance):\n",
    "    \n",
    "    pred_y = np.log(quasi_nb_var(mean, scale, dispersion))\n",
    "    y = np.log(variance)\n",
    "    \n",
    "    return ((pred_y-y)**2).mean()\n",
    "    \n",
    "\n",
    "def fit_quasi_nb(mean, variance):\n",
    "\n",
    "    dispersion0 = 1\n",
    "    scale0 = np.median((mean/variance))\n",
    "        \n",
    "    optim_obj = lambda params: quasi_nb_objective(params[0], params[1], mean, variance)\n",
    "\n",
    "    res =  minimize(\n",
    "        optim_obj, \n",
    "        [scale0, dispersion0],\n",
    "        bounds=[(1e-5,None), (1e-10, 10)],\n",
    "    )\n",
    "    return res.x"
   ]
  },
  {
   "cell_type": "code",
   "execution_count": 959,
   "id": "c8b372bc-75c5-4e91-ae42-f4053fc17155",
   "metadata": {},
   "outputs": [],
   "source": [
    "test_estimates = model.estimates"
   ]
  },
  {
   "cell_type": "code",
   "execution_count": 1067,
   "id": "6f5bfd81-d125-44c9-b916-68ae4bcad571",
   "metadata": {},
   "outputs": [],
   "source": [
    "n_groups = test_estimates['mean'].shape[0]\n",
    "\n",
    "# \"Counts\" to use in GLM\n",
    "expr = (\n",
    "    test_estimates['mean']/\n",
    "    model.adata.uns['memento']['umi_depth']*\n",
    "    test_estimates['total_umi'].values)\n",
    "count_multiplier = model.estimates['total_umi'].values/model.adata.uns['memento']['umi_depth']\n",
    "sampling_variance =  (model.estimates['se_mean']**2)*count_multiplier**2\n",
    "\n",
    "# Fit within-sample variance function parameters\n",
    "intra_var_scale = np.zeros(n_groups)\n",
    "intra_var_dispersion = np.zeros(n_groups)\n",
    "for group_idx in range(n_groups):\n",
    "    intra_var_scale[group_idx], intra_var_dispersion[group_idx] = fit_quasi_nb(    \n",
    "        mean = expr.iloc[group_idx].values,\n",
    "        variance = sampling_variance.iloc[group_idx].values)"
   ]
  },
  {
   "cell_type": "code",
   "execution_count": 1068,
   "id": "d8480bed-f7d3-4cc9-a2bf-8c019c418b27",
   "metadata": {},
   "outputs": [],
   "source": [
    "condition = 'UNS'\n",
    "df = pd.DataFrame(index=adata.uns['memento']['groups'])\n",
    "df['mouse'] = df.index.str.split('^').str[1]\n",
    "df['stim'] = df.index.str.split('^').str[2]\n",
    "cov_df = pd.get_dummies(df[['mouse']], drop_first=True).astype(float)\n",
    "stim_df = (df[['stim']]==condition).astype(float)\n",
    "cov_df = sm.add_constant(cov_df)"
   ]
  },
  {
   "cell_type": "code",
   "execution_count": 1069,
   "id": "27d2dc74-4e79-4693-887f-937699604387",
   "metadata": {},
   "outputs": [],
   "source": [
    "design_matrix = pd.concat([cov_df, stim_df[['stim']]], axis=1)\n",
    "# design_matrix = sm.add_constant(stim_df[['stim']])"
   ]
  },
  {
   "cell_type": "code",
   "execution_count": 1070,
   "id": "dcad1e8a-302a-4834-b1bf-08732081f113",
   "metadata": {},
   "outputs": [],
   "source": [
    "pred_list = []\n",
    "\n",
    "for gene_idx in range(expr.shape[1]):\n",
    "    endog = expr.iloc[:, gene_idx]\n",
    "    exog=design_matrix\n",
    "    offset = test_estimates['total_umi']['total_umi']#np.ones(expr.shape[0])*10000\n",
    "    fit = sm.GLM(\n",
    "        endog.values, \n",
    "        exog, \n",
    "        offset=np.log(offset),\n",
    "        family=sm.families.Poisson()).fit()\n",
    "    pred = fit.predict()\n",
    "    pred_list.append(pred)"
   ]
  },
  {
   "cell_type": "code",
   "execution_count": 1071,
   "id": "056e3676-fa8d-4848-bf7f-5c84b9cadd03",
   "metadata": {},
   "outputs": [],
   "source": [
    "pred = pd.DataFrame(pred_list, index=expr.columns, columns=expr.index).T.values#.mean(axis=0)"
   ]
  },
  {
   "cell_type": "code",
   "execution_count": 1072,
   "id": "bd89f85b-81ca-4f60-b5a3-169fd811d8dd",
   "metadata": {},
   "outputs": [],
   "source": [
    "resid_variance = (np.abs((pred- expr))**2).values#.mean(axis=0)"
   ]
  },
  {
   "cell_type": "code",
   "execution_count": 1073,
   "id": "ffea4834-cad6-4f59-9b30-8fda69a214fc",
   "metadata": {},
   "outputs": [],
   "source": [
    "alpha = (resid_variance/(pred**2)).mean(axis=1)"
   ]
  },
  {
   "cell_type": "code",
   "execution_count": 1099,
   "id": "c39b7e04-1bb3-400f-8e2a-3d7f527da7e2",
   "metadata": {},
   "outputs": [],
   "source": [
    "x = np.log(pred).ravel()\n",
    "y = np.log(resid_variance).ravel()\n",
    "x_high = x[y < np.quantile(y, 0.9)]\n",
    "y_high = y[y < np.quantile(y, 0.9)]\n",
    "slope, inter, _, _, _ = stats.linregress(x_high, y_high)\n",
    "np.exp(inter)"
   ]
  },
  {
   "cell_type": "code",
   "execution_count": 1100,
   "id": "5cd6a7f6-e1a3-44dd-a98d-b46d0ab6185e",
   "metadata": {},
   "outputs": [],
   "source": []
  },
  {
   "cell_type": "code",
   "execution_count": 1101,
   "id": "e273df25-99f5-46bd-8e8b-e4327e7494e8",
   "metadata": {},
   "outputs": [
    {
     "data": {
      "text/plain": [
       "0.4165808877210226"
      ]
     },
     "execution_count": 1101,
     "metadata": {},
     "output_type": "execute_result"
    }
   ],
   "source": []
  },
  {
   "cell_type": "code",
   "execution_count": 1078,
   "id": "856df747-f2fd-42e2-95b1-5dccf58333cc",
   "metadata": {},
   "outputs": [
    {
     "data": {
      "text/plain": [
       "<matplotlib.collections.PathCollection at 0x7fce98097250>"
      ]
     },
     "execution_count": 1078,
     "metadata": {},
     "output_type": "execute_result"
    },
    {
     "data": {
      "image/png": "[encoded data removed]",
      "text/plain": [
       "<Figure size 640x480 with 1 Axes>"
      ]
     },
     "metadata": {},
     "output_type": "display_data"
    }
   ],
   "source": [
    "plt.scatter(np.log(pred), np.log(resid_variance))"
   ]
  },
  {
   "cell_type": "code",
   "execution_count": 1027,
   "id": "32b484d0-05cd-46ab-914e-ac42fbf46081",
   "metadata": {},
   "outputs": [
    {
     "data": {
      "text/plain": [
       "array([[6.35633421e+00, 1.39995608e+02, 2.03444244e+00, ...,\n",
       "        5.75888179e-04, 1.81973916e+00, 8.33410939e-03],\n",
       "       [6.35633421e+00, 1.39995608e+02, 2.03444244e+00, ...,\n",
       "        5.75888179e-04, 1.81973916e+00, 8.33410938e-03],\n",
       "       [3.23598374e+00, 7.76358600e-02, 1.87423839e+00, ...,\n",
       "        1.38434878e-01, 1.27075835e-02, 5.69028678e-02],\n",
       "       ...,\n",
       "       [2.43214513e-02, 2.36756412e+01, 1.00908947e-01, ...,\n",
       "        5.72686696e-02, 6.24350263e-01, 1.18885192e-01],\n",
       "       [3.20740722e-01, 5.24877640e+01, 6.13902405e+00, ...,\n",
       "        4.03701112e-01, 1.98996986e-01, 2.23884093e-04],\n",
       "       [3.20740722e-01, 5.24877640e+01, 6.13902405e+00, ...,\n",
       "        4.03701112e-01, 1.98996986e-01, 2.23884090e-04]])"
      ]
     },
     "execution_count": 1027,
     "metadata": {},
     "output_type": "execute_result"
    }
   ],
   "source": [
    "resid_variance"
   ]
  },
  {
   "cell_type": "code",
   "execution_count": 967,
   "id": "dea16c8b-e5bd-4974-be64-4d456a6d0f8f",
   "metadata": {},
   "outputs": [],
   "source": [
    "import os\n",
    "import pickle as pkl\n",
    "\n",
    "from pydeseq2.dds import DeseqDataSet\n",
    "from pydeseq2.ds import DeseqStats\n",
    "from pydeseq2.utils import load_example_data"
   ]
  },
  {
   "cell_type": "code",
   "execution_count": 968,
   "id": "a5df1117-341a-4b01-bc6b-383a04c177ed",
   "metadata": {},
   "outputs": [],
   "source": [
    "dds = DeseqDataSet(\n",
    "    counts=expr.round(),\n",
    "    clinical=df,\n",
    "    design_factors=['mouse', 'stim'],\n",
    "    refit_cooks=True,\n",
    "    n_cpus=8,\n",
    ")"
   ]
  },
  {
   "cell_type": "code",
   "execution_count": 969,
   "id": "93fd514e-a0be-4de4-88c6-06c9e14ed3c1",
   "metadata": {},
   "outputs": [
    {
     "name": "stdout",
     "output_type": "stream",
     "text": [
      "Fitting size factors...\n",
      "... done in 0.00 seconds.\n",
      "\n",
      "Fitting dispersions...\n",
      "... done in 1.43 seconds.\n",
      "\n",
      "Fitting dispersion trend curve...\n",
      "... done in 3.23 seconds.\n",
      "\n",
      "Fitting MAP dispersions...\n",
      "... done in 1.33 seconds.\n",
      "\n",
      "Fitting LFCs...\n",
      "... done in 0.97 seconds.\n",
      "\n",
      "Refitting 0 outliers.\n",
      "\n"
     ]
    }
   ],
   "source": [
    "dds.deseq2()"
   ]
  },
  {
   "cell_type": "code",
   "execution_count": 1024,
   "id": "e5570511-ae2c-4eda-a094-72f935605bca",
   "metadata": {},
   "outputs": [],
   "source": [
    "v = model.estimates['se_mean'].values**2*model.estimates['cell_count'].values\n",
    "m = model.estimates['mean'].values"
   ]
  },
  {
   "cell_type": "code",
   "execution_count": 1025,
   "id": "b4bcbf5f-7be4-4b20-95af-a85b4adeb89c",
   "metadata": {},
   "outputs": [
    {
     "data": {
      "text/plain": [
       "array([0.0148196 , 0.0313454 , 0.27152459, ..., 0.13168906, 0.17360579,\n",
       "       0.25280632])"
      ]
     },
     "execution_count": 1025,
     "metadata": {},
     "output_type": "execute_result"
    }
   ],
   "source": [
    "dds.varm['MAP_dispersions']"
   ]
  },
  {
   "cell_type": "code",
   "execution_count": 1026,
   "id": "9423430c-89b8-478e-88c0-8b118cf09637",
   "metadata": {},
   "outputs": [
    {
     "data": {
      "text/plain": [
       "<matplotlib.collections.PathCollection at 0x7fceea613790>"
      ]
     },
     "execution_count": 1026,
     "metadata": {},
     "output_type": "execute_result"
    },
    {
     "data": {
      "image/png": "[encoded data removed]",
      "text/plain": [
       "<Figure size 640x480 with 1 Axes>"
      ]
     },
     "metadata": {},
     "output_type": "display_data"
    }
   ],
   "source": [
    "plt.scatter(dds.varm['MAP_dispersions'], dds.varm['fitted_dispersions'], s=1)"
   ]
  },
  {
   "cell_type": "code",
   "execution_count": 1020,
   "id": "d2ed5543-7fd4-4c62-8ee2-db0f157d9586",
   "metadata": {},
   "outputs": [
    {
     "data": {
      "text/plain": [
       "array([0.0148196 , 0.0313454 , 0.27152459, ..., 0.13168906, 0.17360579,\n",
       "       0.25280632])"
      ]
     },
     "execution_count": 1020,
     "metadata": {},
     "output_type": "execute_result"
    }
   ],
   "source": [
    "dds.varm['MAP_dispersions']"
   ]
  },
  {
   "cell_type": "code",
   "execution_count": 1036,
   "id": "eb8e4906-5c24-4076-9e9a-671b194f5b81",
   "metadata": {},
   "outputs": [],
   "source": [
    "# Fit within-sample variance function parameters\n",
    "var_power = np.zeros(n_groups)\n",
    "var_factor = np.zeros(n_groups)\n",
    "for group_idx in range(n_groups):\n",
    "\n",
    "    x,y = np.log(pred[group_idx]), np.log(resid_variance[group_idx])\n",
    "    x_high = x[x > np.quantile(x, 0.9)]\n",
    "    y_high = y[x > np.quantile(x, 0.9)]\n",
    "    var_power[group_idx], var_factor[group_idx], _, _, _ = stats.linregress(x, y)\n",
    "\n",
    "correction = var_power-var_power.min()"
   ]
  },
  {
   "cell_type": "code",
   "execution_count": 894,
   "id": "313c2703-022c-4d30-908a-2f6e8fa128af",
   "metadata": {},
   "outputs": [
    {
     "data": {
      "text/plain": [
       "0.4594432947458116"
      ]
     },
     "execution_count": 894,
     "metadata": {},
     "output_type": "execute_result"
    }
   ],
   "source": [
    "var_power.max()-var_power.min()"
   ]
  },
  {
   "cell_type": "code",
   "execution_count": 896,
   "id": "c4a44599-ebdc-4581-8440-ecd64093871c",
   "metadata": {},
   "outputs": [
    {
     "data": {
      "text/plain": [
       "LinregressResult(slope=1.5761418127790807, intercept=-3.3606086091796827, rvalue=0.695086867615771, pvalue=0.0, stderr=0.015784813744203898, intercept_stderr=0.05174920088911243)"
      ]
     },
     "execution_count": 896,
     "metadata": {},
     "output_type": "execute_result"
    },
    {
     "data": {
      "image/png": "[encoded data removed]",
      "text/plain": [
       "<Figure size 640x480 with 1 Axes>"
      ]
     },
     "metadata": {},
     "output_type": "display_data"
    }
   ],
   "source": [
    "plt.scatter(np.log(pred[1]), np.log(resid_variance[1]), s=1)\n",
    "stats.linregress(np.log(pred[1]), np.log(resid_variance[1]))"
   ]
  },
  {
   "cell_type": "code",
   "execution_count": 897,
   "id": "96810a1e-e49a-4773-9281-9ef7c2e50e23",
   "metadata": {},
   "outputs": [
    {
     "data": {
      "text/plain": [
       "LinregressResult(slope=1.6508722192304677, intercept=-3.6775780697089857, rvalue=0.745791216241663, pvalue=0.0, stderr=0.014278639669255064, intercept_stderr=0.0916036505814403)"
      ]
     },
     "execution_count": 897,
     "metadata": {},
     "output_type": "execute_result"
    },
    {
     "data": {
      "image/png": "[encoded data removed]",
      "text/plain": [
       "<Figure size 640x480 with 1 Axes>"
      ]
     },
     "metadata": {},
     "output_type": "display_data"
    }
   ],
   "source": [
    "plt.scatter(np.log(pred[0]), np.log(resid_variance[0]), s=1)\n",
    "stats.linregress(np.log(pred[0]), np.log(resid_variance[0]))"
   ]
  },
  {
   "cell_type": "code",
   "execution_count": null,
   "id": "427aa2c0-c0d1-4568-9dee-c503e9ccfe23",
   "metadata": {},
   "outputs": [],
   "source": []
  },
  {
   "cell_type": "code",
   "execution_count": null,
   "id": "7fe5e46f-e615-412b-9e8c-26732f9f15f2",
   "metadata": {},
   "outputs": [],
   "source": []
  },
  {
   "cell_type": "code",
   "execution_count": null,
   "id": "8405a698-6353-444f-b8bf-0feb79cf60c3",
   "metadata": {},
   "outputs": [],
   "source": []
  },
  {
   "cell_type": "code",
   "execution_count": null,
   "id": "b5cd5144-f508-4148-8fde-82285beedc3c",
   "metadata": {},
   "outputs": [],
   "source": []
  },
  {
   "cell_type": "code",
   "execution_count": 174,
   "id": "03aa3612-e112-4d7f-8f9b-736df3b3fd73",
   "metadata": {},
   "outputs": [],
   "source": [
    "predicted_var = mean_hat**2"
   ]
  },
  {
   "cell_type": "code",
   "execution_count": 175,
   "id": "433d4a65-4018-4c53-9d6b-5360f6b075cf",
   "metadata": {},
   "outputs": [],
   "source": [
    "var_ratio = resid_variance/predicted_var"
   ]
  },
  {
   "cell_type": "code",
   "execution_count": 176,
   "id": "e49972b3-5993-4dd9-a5c2-bf82de508d4b",
   "metadata": {},
   "outputs": [
    {
     "data": {
      "text/plain": [
       "array([7.36659188e-05, 1.09221815e-02, 1.69300233e-04, 1.18891139e-02,\n",
       "       2.58023478e-05, 3.41813251e-02, 3.79422923e-05, 1.98424206e-02])"
      ]
     },
     "execution_count": 176,
     "metadata": {},
     "output_type": "execute_result"
    }
   ],
   "source": [
    "np.median(var_ratio, axis=1)"
   ]
  },
  {
   "cell_type": "code",
   "execution_count": 177,
   "id": "4fba5619-91a2-4e40-850f-09c1f8109db8",
   "metadata": {},
   "outputs": [
    {
     "data": {
      "text/plain": [
       "array([-0.00048285,  0.00139936,  0.00166224,  0.00354445,  0.00021739,\n",
       "        0.0020996 , -0.00083632,  0.00104589])"
      ]
     },
     "execution_count": 177,
     "metadata": {},
     "output_type": "execute_result"
    }
   ],
   "source": [
    "from sklearn.linear_model import LinearRegression\n",
    "\n",
    "lm = LinearRegression(fit_intercept=False).fit(design_matrix, var_ratio)\n",
    "lm.predict(design_matrix)[:, 0]"
   ]
  },
  {
   "cell_type": "code",
   "execution_count": 145,
   "id": "1d1db57c-dbb6-4d0d-a663-acd9b813a929",
   "metadata": {},
   "outputs": [
    {
     "name": "stderr",
     "output_type": "stream",
     "text": [
      "2023-07-10 14:54:31 335042  WARNING  /tmp/ipykernel_335042/2618397267.py:1: FutureWarning: `rcond` parameter will change to the default of machine precision times ``max(M, N)`` where M and N are the input matrix dimensions.\n",
      "To use the future default and silence this warning we advise to pass `rcond=None`, to keep using the old, explicitly pass `rcond=-1`.\n",
      "  np.linalg.lstsq(design_matrix, var_ratio)[0]\n",
      "\n"
     ]
    },
    {
     "data": {
      "text/plain": [
       "array([[-0.00734235,  0.07039576, -0.1347053 , ..., -0.01951219,\n",
       "        -0.23215501,  0.08082382],\n",
       "       [ 0.0968867 , -0.02769826, -0.0193479 , ...,  0.06196736,\n",
       "         0.31380543,  0.02713776],\n",
       "       [ 0.00563814, -0.11580582,  0.51829393, ..., -0.00140126,\n",
       "         0.32415932, -0.15189183],\n",
       "       [-0.01785486, -0.10069245,  0.08952731, ...,  0.07499886,\n",
       "         0.42091625,  0.03742708],\n",
       "       [ 0.05771113,  0.19690101,  0.31203429, ...,  0.04400109,\n",
       "         0.58427969,  0.23083153]])"
      ]
     },
     "execution_count": 145,
     "metadata": {},
     "output_type": "execute_result"
    }
   ],
   "source": [
    "np.linalg.lstsq(design_matrix, var_ratio)[0]"
   ]
  },
  {
   "cell_type": "code",
   "execution_count": 246,
   "id": "8ca3f00f-2eb1-488c-a6d3-e1c1a05b64be",
   "metadata": {},
   "outputs": [
    {
     "data": {
      "text/plain": [
       "0.3767694026654841"
      ]
     },
     "execution_count": 246,
     "metadata": {},
     "output_type": "execute_result"
    }
   ],
   "source": [
    "idx = 0\n"
   ]
  },
  {
   "cell_type": "code",
   "execution_count": null,
   "id": "d6dd0955-89c2-4c89-8680-37f34643d9bb",
   "metadata": {},
   "outputs": [],
   "source": [
    "n"
   ]
  },
  {
   "cell_type": "code",
   "execution_count": 270,
   "id": "167a5b37-8e42-404f-b4ba-c333fd8ac04c",
   "metadata": {},
   "outputs": [
    {
     "data": {
      "text/plain": [
       "array([  13.03344579,   13.48552196,   14.27773663,   15.30593072,\n",
       "         15.42402063,   15.49005777,   16.16403796,   16.80262057,\n",
       "         16.84717805,   18.22649872,   18.4597393 ,   18.92177555,\n",
       "         19.02394306,   19.56859149,   19.61219193,   19.61810551,\n",
       "         19.71882106,   20.32364362,   20.45759738,   21.14898958,\n",
       "         25.12001941,   26.8272495 ,   27.37633942,   28.07996829,\n",
       "         29.46084738,   32.15976287,   33.25148004,   37.87785906,\n",
       "         39.18956326,   40.47225695,   45.59655371,   50.22026121,\n",
       "         55.96465424,   60.37348342,   74.14575695,   74.36340285,\n",
       "         75.65160127,   77.09882037,   86.59857524,   89.21230761,\n",
       "         94.58176082,   98.06790899,  101.27561921,  112.07293784,\n",
       "        152.68130514,  168.40949485,  318.5336207 ,  408.99689663,\n",
       "        971.91220506, 1331.86619397])"
      ]
     },
     "execution_count": 270,
     "metadata": {},
     "output_type": "execute_result"
    }
   ],
   "source": [
    "np.sort(np.log(resid_variance[idx])/np.log(pred[idx]))[-50:]"
   ]
  },
  {
   "cell_type": "code",
   "execution_count": 303,
   "id": "e7b194f8-ba70-4441-a923-0cd91e541db4",
   "metadata": {},
   "outputs": [],
   "source": [
    "point_disp = np.log((resid_variance)/pred)"
   ]
  },
  {
   "cell_type": "code",
   "execution_count": 305,
   "id": "42af2b45-4b1f-40f4-ad93-c1005008bcd4",
   "metadata": {},
   "outputs": [
    {
     "data": {
      "text/plain": [
       "array([[225.0213575 , 203.53613265,  74.88993339, ...,  12.68164003,\n",
       "         38.99090635,  17.83627186],\n",
       "       [ 51.01016578,  18.5315516 ,   9.51882051, ...,   3.45387458,\n",
       "          4.02074271,   4.3635941 ],\n",
       "       [144.9096424 , 127.76268101,  38.83533179, ...,   6.03048626,\n",
       "         49.67462474,  26.75581497],\n",
       "       ...,\n",
       "       [ 24.75894492,  10.12847416,   3.40375437, ...,   3.452434  ,\n",
       "          1.77955759,   2.8476986 ],\n",
       "       [301.30563829, 287.2067267 ,  83.23604689, ...,  12.36465014,\n",
       "         61.14710023,  22.22046012],\n",
       "       [ 37.78044235,  14.46410806,   5.85191386, ...,   1.86268647,\n",
       "          3.48775206,   3.00690768]])"
      ]
     },
     "execution_count": 305,
     "metadata": {},
     "output_type": "execute_result"
    }
   ],
   "source": []
  },
  {
   "cell_type": "code",
   "execution_count": 308,
   "id": "d8ab9ea6-27a0-4a15-8ede-c0c8ed1969d9",
   "metadata": {},
   "outputs": [
    {
     "data": {
      "image/png": "[encoded data removed]",
      "text/plain": [
       "<Figure size 640x480 with 1 Axes>"
      ]
     },
     "metadata": {},
     "output_type": "display_data"
    }
   ],
   "source": [
    "for seq in np.log(resid_variance):\n",
    "    \n",
    "    sns.kdeplot(seq)"
   ]
  },
  {
   "cell_type": "code",
   "execution_count": 312,
   "id": "91555f7b-e05a-475e-82fb-8804007fec26",
   "metadata": {},
   "outputs": [
    {
     "data": {
      "text/html": [
       "<div>\n",
       "<style scoped>\n",
       "    .dataframe tbody tr th:only-of-type {\n",
       "        vertical-align: middle;\n",
       "    }\n",
       "\n",
       "    .dataframe tbody tr th {\n",
       "        vertical-align: top;\n",
       "    }\n",
       "\n",
       "    .dataframe thead th {\n",
       "        text-align: right;\n",
       "    }\n",
       "</style>\n",
       "<table border=\"1\" class=\"dataframe\">\n",
       "  <thead>\n",
       "    <tr style=\"text-align: right;\">\n",
       "      <th></th>\n",
       "      <th>total_umi</th>\n",
       "    </tr>\n",
       "  </thead>\n",
       "  <tbody>\n",
       "    <tr>\n",
       "      <th>memento_group^D1^Th0</th>\n",
       "      <td>12759175.0</td>\n",
       "    </tr>\n",
       "    <tr>\n",
       "      <th>memento_group^D1^UNS</th>\n",
       "      <td>3017591.0</td>\n",
       "    </tr>\n",
       "    <tr>\n",
       "      <th>memento_group^D2^Th0</th>\n",
       "      <td>7600856.0</td>\n",
       "    </tr>\n",
       "    <tr>\n",
       "      <th>memento_group^D2^UNS</th>\n",
       "      <td>2581775.0</td>\n",
       "    </tr>\n",
       "    <tr>\n",
       "      <th>memento_group^D3^Th0</th>\n",
       "      <td>13963183.0</td>\n",
       "    </tr>\n",
       "    <tr>\n",
       "      <th>memento_group^D3^UNS</th>\n",
       "      <td>1111372.0</td>\n",
       "    </tr>\n",
       "    <tr>\n",
       "      <th>memento_group^D4^Th0</th>\n",
       "      <td>13658274.0</td>\n",
       "    </tr>\n",
       "    <tr>\n",
       "      <th>memento_group^D4^UNS</th>\n",
       "      <td>1786736.0</td>\n",
       "    </tr>\n",
       "  </tbody>\n",
       "</table>\n",
       "</div>"
      ],
      "text/plain": [
       "                       total_umi\n",
       "memento_group^D1^Th0  12759175.0\n",
       "memento_group^D1^UNS   3017591.0\n",
       "memento_group^D2^Th0   7600856.0\n",
       "memento_group^D2^UNS   2581775.0\n",
       "memento_group^D3^Th0  13963183.0\n",
       "memento_group^D3^UNS   1111372.0\n",
       "memento_group^D4^Th0  13658274.0\n",
       "memento_group^D4^UNS   1786736.0"
      ]
     },
     "execution_count": 312,
     "metadata": {},
     "output_type": "execute_result"
    }
   ],
   "source": [
    "model.estimates['total_umi']"
   ]
  },
  {
   "cell_type": "code",
   "execution_count": 313,
   "id": "b5fe1233-ea78-4f4c-babe-14b797a479f8",
   "metadata": {},
   "outputs": [
    {
     "data": {
      "image/png": "[encoded data removed]",
      "text/plain": [
       "<Figure size 640x480 with 1 Axes>"
      ]
     },
     "metadata": {},
     "output_type": "display_data"
    }
   ],
   "source": [
    "for seq in np.log10(pred):\n",
    "     \n",
    "    sns.kdeplot(seq)"
   ]
  },
  {
   "cell_type": "code",
   "execution_count": 287,
   "id": "18c3b8b6-c3b9-4572-81d7-04bab33ffd01",
   "metadata": {},
   "outputs": [
    {
     "name": "stdout",
     "output_type": "stream",
     "text": [
      "0.8389224384006054\n"
     ]
    },
    {
     "data": {
      "image/png": "[encoded data removed]",
      "text/plain": [
       "<Figure size 640x480 with 1 Axes>"
      ]
     },
     "metadata": {},
     "output_type": "display_data"
    }
   ],
   "source": [
    "idx = 5\n",
    "\n",
    "x = np.log(pred[idx]) \n",
    "y = np.log((resid_variance)[idx])\n",
    "alpha = np.quantile(y[x>6]/x[x>6], 1)\n",
    "\n",
    "plt.scatter(\n",
    "    x,\n",
    "    y,\n",
    "    s=1\n",
    ")\n",
    "plt.scatter(\n",
    "    x,\n",
    "    alpha*x, s=1)\n",
    "print(alpha)"
   ]
  },
  {
   "cell_type": "code",
   "execution_count": 112,
   "id": "12a7464d-b71c-42da-bfcb-7a321ce5a86e",
   "metadata": {},
   "outputs": [
    {
     "data": {
      "text/plain": [
       "<matplotlib.collections.PathCollection at 0x7f623074a860>"
      ]
     },
     "execution_count": 112,
     "metadata": {},
     "output_type": "execute_result"
    },
    {
     "data": {
      "image/png": "[encoded data removed]",
      "text/plain": [
       "<Figure size 640x480 with 1 Axes>"
      ]
     },
     "metadata": {},
     "output_type": "display_data"
    }
   ],
   "source": [
    "plt.scatter(\n",
    "    np.log(mean_hat.mean(axis=0)),\n",
    "    np.log((resid_variance / predicted_var).sum(axis=0)/2),\n",
    "    s=1\n",
    ")"
   ]
  },
  {
   "cell_type": "code",
   "execution_count": 100,
   "id": "6c8192e9-b826-48bf-b838-ed5b10f9f4b9",
   "metadata": {},
   "outputs": [
    {
     "data": {
      "text/plain": [
       "-0.0161810000010927"
      ]
     },
     "execution_count": 100,
     "metadata": {},
     "output_type": "execute_result"
    }
   ],
   "source": [
    "alpha_estimates = ((resid_variance-mean_hat)/mean_hat**2).mean(axis=0)\n",
    "np.median(alpha_estimates)"
   ]
  },
  {
   "cell_type": "code",
   "execution_count": 386,
   "id": "7b62b9f4-e1f8-44e4-95ea-1af7af4d4874",
   "metadata": {},
   "outputs": [
    {
     "data": {
      "text/plain": [
       "3.4264098789588595"
      ]
     },
     "execution_count": 386,
     "metadata": {},
     "output_type": "execute_result"
    }
   ],
   "source": [
    "np.median(resid_variance)"
   ]
  },
  {
   "cell_type": "code",
   "execution_count": 389,
   "id": "ea032182-0d72-4c01-9b3e-cc332528ab08",
   "metadata": {},
   "outputs": [
    {
     "data": {
      "text/plain": [
       "0.017504257122268614"
      ]
     },
     "execution_count": 389,
     "metadata": {},
     "output_type": "execute_result"
    }
   ],
   "source": [
    "alpha_estimates = (resid_variance/mean_hat**2).mean(axis=0)\n",
    "np.median(alpha_estimates)"
   ]
  },
  {
   "cell_type": "code",
   "execution_count": 391,
   "id": "6c479a80-1add-4b37-806a-0916f6e92ba1",
   "metadata": {},
   "outputs": [
    {
     "data": {
      "text/plain": [
       "LinregressResult(slope=1.0959312624331319, intercept=-3.398392233597789, rvalue=0.7746406827395166, pvalue=0.0, stderr=0.00859848467408553, intercept_stderr=0.044501588546848735)"
      ]
     },
     "execution_count": 391,
     "metadata": {},
     "output_type": "execute_result"
    }
   ],
   "source": [
    "stats.linregress(np.log(mean_hat.mean(axis=0)), np.log(resid_variance.mean(axis=0)))"
   ]
  },
  {
   "cell_type": "code",
   "execution_count": 392,
   "id": "85aa35f4-7d29-46ac-9b65-75662a3cbfb6",
   "metadata": {},
   "outputs": [
    {
     "data": {
      "text/plain": [
       "0.03337326996032608"
      ]
     },
     "execution_count": 392,
     "metadata": {},
     "output_type": "execute_result"
    }
   ],
   "source": [
    "\n",
    "np.exp(-3.4)"
   ]
  },
  {
   "cell_type": "code",
   "execution_count": 393,
   "id": "bf9bd5c6-ea0d-4cd6-b8f6-85167124e604",
   "metadata": {},
   "outputs": [
    {
     "data": {
      "text/plain": [
       "LinregressResult(slope=1.0959312624331319, intercept=-3.398392233597789, rvalue=0.7746406827395166, pvalue=0.0, stderr=0.00859848467408553, intercept_stderr=0.044501588546848735)"
      ]
     },
     "execution_count": 393,
     "metadata": {},
     "output_type": "execute_result"
    }
   ],
   "source": [
    "stats.linregress(np.log(mean_hat.mean(axis=0)), np.log(resid_variance.mean(axis=0)))"
   ]
  },
  {
   "cell_type": "code",
   "execution_count": 396,
   "id": "4efcfebc-6659-48be-b783-bece17a43e81",
   "metadata": {},
   "outputs": [],
   "source": [
    "x,y = np.log(mean_hat.mean(axis=0)), np.log(resid_variance.mean(axis=0))"
   ]
  },
  {
   "cell_type": "code",
   "execution_count": 397,
   "id": "7856a794-e5b6-4580-b06e-3bd6023c55ec",
   "metadata": {},
   "outputs": [],
   "source": [
    "x_high = x[x > np.quantile(x, 0.95)]\n",
    "y_high = y[x > np.quantile(x, 0.95)]"
   ]
  },
  {
   "cell_type": "code",
   "execution_count": 398,
   "id": "a26a2ba4-2cf2-4707-b4ee-2ec8b2f359ba",
   "metadata": {},
   "outputs": [
    {
     "data": {
      "text/plain": [
       "LinregressResult(slope=1.0959312624331319, intercept=-3.398392233597789, rvalue=0.7746406827395166, pvalue=0.0, stderr=0.00859848467408553, intercept_stderr=0.044501588546848735)"
      ]
     },
     "execution_count": 398,
     "metadata": {},
     "output_type": "execute_result"
    }
   ],
   "source": [
    "stats.linregress(x, y)"
   ]
  },
  {
   "cell_type": "code",
   "execution_count": 399,
   "id": "4df5ea36-2360-45c5-a5a0-8f1036a32b1e",
   "metadata": {},
   "outputs": [
    {
     "data": {
      "text/plain": [
       "0.6046642631529395"
      ]
     },
     "execution_count": 399,
     "metadata": {},
     "output_type": "execute_result"
    }
   ],
   "source": [
    "1.7304783571937772-1.1258140940408377"
   ]
  },
  {
   "cell_type": "code",
   "execution_count": 403,
   "id": "d88ff458-3012-4802-9742-f85f849eeac1",
   "metadata": {},
   "outputs": [
    {
     "name": "stdout",
     "output_type": "stream",
     "text": [
      "0 slope 2.472539943458982\n",
      "1 slope 2.0417930436942955\n",
      "2 slope 2.5340037586269255\n",
      "3 slope 2.1071988373642645\n",
      "4 slope 1.9983703006729667\n",
      "5 slope 1.6167335211008778\n",
      "6 slope 2.1364352675979035\n",
      "7 slope 1.6817591425713259\n"
     ]
    },
    {
     "name": "stderr",
     "output_type": "stream",
     "text": [
      "[autoreload of memento.model.rna failed: Traceback (most recent call last):\n",
      "  File \"/home/ssm-user/anaconda3/envs/single_cell/lib/python3.10/site-packages/IPython/extensions/autoreload.py\", line 271, in check\n",
      "    superreload(m, reload, self.old_objects, self.shell)\n",
      "  File \"/home/ssm-user/anaconda3/envs/single_cell/lib/python3.10/site-packages/IPython/extensions/autoreload.py\", line 496, in superreload\n",
      "    update_generic(old_obj, new_obj)\n",
      "  File \"/home/ssm-user/anaconda3/envs/single_cell/lib/python3.10/site-packages/IPython/extensions/autoreload.py\", line 393, in update_generic\n",
      "    update(a, b)\n",
      "  File \"/home/ssm-user/anaconda3/envs/single_cell/lib/python3.10/site-packages/IPython/extensions/autoreload.py\", line 361, in update_class\n",
      "    update_instances(old, new)\n",
      "  File \"/home/ssm-user/anaconda3/envs/single_cell/lib/python3.10/site-packages/IPython/extensions/autoreload.py\", line 319, in update_instances\n",
      "    object.__setattr__(ref, \"__class__\", new)\n",
      "TypeError: __class__ assignment only supported for mutable types or ModuleType subclasses\n",
      "]\n"
     ]
    }
   ],
   "source": [
    "idx = 0 \n",
    "slopes = []\n",
    "for idx in range(mean_hat.shape[0]):\n",
    "\n",
    "    x,y = np.log(mean_hat[idx]), np.log(resid_variance[idx])\n",
    "    \n",
    "    x_high = x[x > np.quantile(x, 0.95)]\n",
    "    y_high = y[x > np.quantile(x, 0.95)]\n",
    "    slopes.append(stats.linregress(x_high,y_high)[0])\n",
    "    print(idx, 'slope', stats.linregress(x_high,y_high)[0])\n",
    "\n",
    "# plt.scatter(x, 2*x-15, s=1)\n",
    "# plt.scatter(x, 2.5*x-15, s=1)\n",
    "# plt.scatter(np.log(mean_hat.mean(axis=0)), np.log(mean_hat.mean(axis=0) + 0.4*mean_hat.mean(axis=0)**2)-5)\n",
    "# plt.scatter(np.log(mean_hat.mean(axis=0)), np.log(mean_hat.mean(axis=0) + 0.01*mean_hat.mean(axis=0)**2.5)-7)\n",
    "\n",
    "# plt.scatter(np.log(mean_hat.mean(axis=0)), np.log(mean_hat.mean(axis=0) + 0.001*mean_hat.mean(axis=0)**2)-3)"
   ]
  },
  {
   "cell_type": "code",
   "execution_count": 402,
   "id": "6d786ee7-870d-4911-ac6c-ccd251699c89",
   "metadata": {},
   "outputs": [
    {
     "data": {
      "text/plain": [
       "[2.1429457276711066,\n",
       " 2.5120682437274526,\n",
       " 2.09079768469843,\n",
       " 2.4462770013926765,\n",
       " 2.0,\n",
       " 2.3077062942614184,\n",
       " 2.039225366369445,\n",
       " 2.410261892837851]"
      ]
     },
     "execution_count": 402,
     "metadata": {},
     "output_type": "execute_result"
    }
   ],
   "source": [
    "list(np.array(slopes)-np.array(slopes).min()+2)"
   ]
  },
  {
   "cell_type": "code",
   "execution_count": 347,
   "id": "c068fdc8-6ce7-487c-9fcb-46d432f3cdfc",
   "metadata": {},
   "outputs": [],
   "source": [
    "s = np.array(slopes)"
   ]
  },
  {
   "cell_type": "code",
   "execution_count": 349,
   "id": "34eec8f7-279c-43c6-aa3e-34f475ac99ec",
   "metadata": {},
   "outputs": [
    {
     "data": {
      "text/plain": [
       "-0.5282548204602311"
      ]
     },
     "execution_count": 349,
     "metadata": {},
     "output_type": "execute_result"
    }
   ],
   "source": [
    "s.min()-s.max()"
   ]
  },
  {
   "cell_type": "code",
   "execution_count": null,
   "id": "fe9547f8-de21-45ed-b267-9a6dfa0c5aba",
   "metadata": {},
   "outputs": [],
   "source": []
  },
  {
   "cell_type": "code",
   "execution_count": 346,
   "id": "5adf0082-5f1f-4d88-94b5-9720064d6a5e",
   "metadata": {},
   "outputs": [
    {
     "data": {
      "text/plain": [
       "0.035077072137817286"
      ]
     },
     "execution_count": 346,
     "metadata": {},
     "output_type": "execute_result"
    }
   ],
   "source": [
    "np.nan(np.array(slopes))"
   ]
  },
  {
   "cell_type": "code",
   "execution_count": 74,
   "id": "416eaf7b-1862-44f5-b60d-c6890036b92d",
   "metadata": {},
   "outputs": [
    {
     "data": {
      "text/plain": [
       "<matplotlib.collections.PathCollection at 0x7fd1d6ea5ea0>"
      ]
     },
     "execution_count": 74,
     "metadata": {},
     "output_type": "execute_result"
    },
    {
     "data": {
      "image/png": "[encoded data removed]",
      "text/plain": [
       "<Figure size 640x480 with 1 Axes>"
      ]
     },
     "metadata": {},
     "output_type": "display_data"
    }
   ],
   "source": [
    "plt.scatter(np.log(mean_hat), np.log(resid_variance))\n",
    "plt.scatter(np.log(mean_hat), np.log(mean_hat))\n",
    "\n",
    "# plt.scatter(np.log(mean_hat), np.log(mean_hat + dispersion.iloc[:, 1].values*mean_hat**2))\n",
    "plt.scatter(np.log(mean_hat), np.log(mean_hat + 0.4*mean_hat**2))\n",
    "plt.scatter(np.log(mean_hat), np.log(mean_hat + 0.001*mean_hat**2.5))\n",
    "plt.scatter(np.log(mean_hat), np.log(mean_hat + 0.001*mean_hat**2))\n",
    "\n"
   ]
  },
  {
   "cell_type": "code",
   "execution_count": null,
   "id": "3db19915-177c-4814-98d2-7a3c67a3ab15",
   "metadata": {},
   "outputs": [],
   "source": []
  },
  {
   "cell_type": "code",
   "execution_count": 904,
   "id": "84408928-f6a5-473a-af28-16671bb1effd",
   "metadata": {},
   "outputs": [],
   "source": [
    "import os\n",
    "import pickle as pkl\n",
    "\n",
    "from pydeseq2.dds import DeseqDataSet\n",
    "from pydeseq2.ds import DeseqStats\n",
    "from pydeseq2.utils import load_example_data"
   ]
  },
  {
   "cell_type": "code",
   "execution_count": 912,
   "id": "c47959c6-ee8f-4a99-a410-d678d6247a0c",
   "metadata": {},
   "outputs": [
    {
     "data": {
      "text/html": [
       "<div>\n",
       "<style scoped>\n",
       "    .dataframe tbody tr th:only-of-type {\n",
       "        vertical-align: middle;\n",
       "    }\n",
       "\n",
       "    .dataframe tbody tr th {\n",
       "        vertical-align: top;\n",
       "    }\n",
       "\n",
       "    .dataframe thead th {\n",
       "        text-align: right;\n",
       "    }\n",
       "</style>\n",
       "<table border=\"1\" class=\"dataframe\">\n",
       "  <thead>\n",
       "    <tr style=\"text-align: right;\">\n",
       "      <th></th>\n",
       "      <th>FO538757.2</th>\n",
       "      <th>AP006222.2</th>\n",
       "      <th>RP11-206L10.9</th>\n",
       "      <th>LINC00115</th>\n",
       "      <th>FAM41C</th>\n",
       "      <th>NOC2L</th>\n",
       "      <th>ISG15</th>\n",
       "      <th>C1orf159</th>\n",
       "      <th>TNFRSF4</th>\n",
       "      <th>SDF4</th>\n",
       "      <th>...</th>\n",
       "      <th>MT-ND3</th>\n",
       "      <th>MT-ND4L</th>\n",
       "      <th>MT-ND4</th>\n",
       "      <th>MT-ND5</th>\n",
       "      <th>MT-ND6</th>\n",
       "      <th>MT-CYB</th>\n",
       "      <th>AL592183.1</th>\n",
       "      <th>AC007325.4</th>\n",
       "      <th>AL354822.1</th>\n",
       "      <th>AC240274.1</th>\n",
       "    </tr>\n",
       "  </thead>\n",
       "  <tbody>\n",
       "    <tr>\n",
       "      <th>memento_group^D1^iTreg</th>\n",
       "      <td>497.572746</td>\n",
       "      <td>555.198097</td>\n",
       "      <td>147.387918</td>\n",
       "      <td>90.870746</td>\n",
       "      <td>33.245395</td>\n",
       "      <td>1121.477993</td>\n",
       "      <td>45721.283631</td>\n",
       "      <td>83.113488</td>\n",
       "      <td>5239.474260</td>\n",
       "      <td>1822.955829</td>\n",
       "      <td>...</td>\n",
       "      <td>36593.206330</td>\n",
       "      <td>4996.782876</td>\n",
       "      <td>179567.244098</td>\n",
       "      <td>22699.955739</td>\n",
       "      <td>9533.671120</td>\n",
       "      <td>41622.126421</td>\n",
       "      <td>247.124103</td>\n",
       "      <td>28.812676</td>\n",
       "      <td>55.408992</td>\n",
       "      <td>32.137215</td>\n",
       "    </tr>\n",
       "    <tr>\n",
       "      <th>memento_group^D1^UNS</th>\n",
       "      <td>38.919872</td>\n",
       "      <td>16.617473</td>\n",
       "      <td>6.996831</td>\n",
       "      <td>3.498415</td>\n",
       "      <td>4.810321</td>\n",
       "      <td>60.347666</td>\n",
       "      <td>83.961971</td>\n",
       "      <td>3.935717</td>\n",
       "      <td>2.186510</td>\n",
       "      <td>58.161157</td>\n",
       "      <td>...</td>\n",
       "      <td>2665.355269</td>\n",
       "      <td>234.831137</td>\n",
       "      <td>4627.529032</td>\n",
       "      <td>551.000433</td>\n",
       "      <td>97.955633</td>\n",
       "      <td>2448.453511</td>\n",
       "      <td>12.244454</td>\n",
       "      <td>2.623812</td>\n",
       "      <td>2.623812</td>\n",
       "      <td>4.373019</td>\n",
       "    </tr>\n",
       "    <tr>\n",
       "      <th>memento_group^D2^UNS</th>\n",
       "      <td>40.392055</td>\n",
       "      <td>11.612716</td>\n",
       "      <td>5.553908</td>\n",
       "      <td>3.534305</td>\n",
       "      <td>4.039205</td>\n",
       "      <td>55.539075</td>\n",
       "      <td>71.695897</td>\n",
       "      <td>4.544106</td>\n",
       "      <td>1.514702</td>\n",
       "      <td>67.151791</td>\n",
       "      <td>...</td>\n",
       "      <td>3005.168878</td>\n",
       "      <td>177.220141</td>\n",
       "      <td>4363.856622</td>\n",
       "      <td>416.543065</td>\n",
       "      <td>87.347819</td>\n",
       "      <td>2013.039032</td>\n",
       "      <td>31.303842</td>\n",
       "      <td>1.514702</td>\n",
       "      <td>4.039205</td>\n",
       "      <td>6.058808</td>\n",
       "    </tr>\n",
       "    <tr>\n",
       "      <th>memento_group^D3^iTreg</th>\n",
       "      <td>730.433856</td>\n",
       "      <td>1038.793730</td>\n",
       "      <td>175.181191</td>\n",
       "      <td>166.985580</td>\n",
       "      <td>61.467085</td>\n",
       "      <td>1200.657053</td>\n",
       "      <td>34438.983061</td>\n",
       "      <td>76.833856</td>\n",
       "      <td>5648.825077</td>\n",
       "      <td>1963.873354</td>\n",
       "      <td>...</td>\n",
       "      <td>36444.858922</td>\n",
       "      <td>4420.507836</td>\n",
       "      <td>163790.315934</td>\n",
       "      <td>18446.272094</td>\n",
       "      <td>9767.119746</td>\n",
       "      <td>38096.274596</td>\n",
       "      <td>243.819436</td>\n",
       "      <td>86.053918</td>\n",
       "      <td>59.418182</td>\n",
       "      <td>43.026959</td>\n",
       "    </tr>\n",
       "    <tr>\n",
       "      <th>memento_group^D3^UNS</th>\n",
       "      <td>18.678686</td>\n",
       "      <td>8.872376</td>\n",
       "      <td>4.202704</td>\n",
       "      <td>1.867869</td>\n",
       "      <td>3.268770</td>\n",
       "      <td>22.881390</td>\n",
       "      <td>31.286799</td>\n",
       "      <td>1.400901</td>\n",
       "      <td>0.933934</td>\n",
       "      <td>19.145653</td>\n",
       "      <td>...</td>\n",
       "      <td>1401.835388</td>\n",
       "      <td>105.534576</td>\n",
       "      <td>2006.557849</td>\n",
       "      <td>177.914485</td>\n",
       "      <td>28.951963</td>\n",
       "      <td>1201.039513</td>\n",
       "      <td>8.405409</td>\n",
       "      <td>2.801803</td>\n",
       "      <td>2.334836</td>\n",
       "      <td>1.867869</td>\n",
       "    </tr>\n",
       "    <tr>\n",
       "      <th>memento_group^D4^iTreg</th>\n",
       "      <td>830.034227</td>\n",
       "      <td>988.853625</td>\n",
       "      <td>190.119572</td>\n",
       "      <td>124.041428</td>\n",
       "      <td>59.122550</td>\n",
       "      <td>1829.321243</td>\n",
       "      <td>120307.433006</td>\n",
       "      <td>103.174646</td>\n",
       "      <td>6533.621373</td>\n",
       "      <td>2141.163711</td>\n",
       "      <td>...</td>\n",
       "      <td>42567.076504</td>\n",
       "      <td>3534.601058</td>\n",
       "      <td>171577.116970</td>\n",
       "      <td>18913.419569</td>\n",
       "      <td>16594.888209</td>\n",
       "      <td>36224.733969</td>\n",
       "      <td>525.147353</td>\n",
       "      <td>54.485487</td>\n",
       "      <td>92.741254</td>\n",
       "      <td>37.096502</td>\n",
       "    </tr>\n",
       "    <tr>\n",
       "      <th>memento_group^D4^UNS</th>\n",
       "      <td>29.667368</td>\n",
       "      <td>10.360033</td>\n",
       "      <td>3.767285</td>\n",
       "      <td>2.825464</td>\n",
       "      <td>0.941821</td>\n",
       "      <td>41.911043</td>\n",
       "      <td>50.387434</td>\n",
       "      <td>2.825464</td>\n",
       "      <td>1.412732</td>\n",
       "      <td>45.678328</td>\n",
       "      <td>...</td>\n",
       "      <td>1237.082143</td>\n",
       "      <td>76.758428</td>\n",
       "      <td>1829.016765</td>\n",
       "      <td>193.544256</td>\n",
       "      <td>41.440133</td>\n",
       "      <td>892.375584</td>\n",
       "      <td>14.598229</td>\n",
       "      <td>1.883642</td>\n",
       "      <td>4.238195</td>\n",
       "      <td>3.296374</td>\n",
       "    </tr>\n",
       "  </tbody>\n",
       "</table>\n",
       "<p>7 rows × 10668 columns</p>\n",
       "</div>"
      ],
      "text/plain": [
       "                        FO538757.2   AP006222.2  RP11-206L10.9   LINC00115   \n",
       "memento_group^D1^iTreg  497.572746   555.198097     147.387918   90.870746  \\\n",
       "memento_group^D1^UNS     38.919872    16.617473       6.996831    3.498415   \n",
       "memento_group^D2^UNS     40.392055    11.612716       5.553908    3.534305   \n",
       "memento_group^D3^iTreg  730.433856  1038.793730     175.181191  166.985580   \n",
       "memento_group^D3^UNS     18.678686     8.872376       4.202704    1.867869   \n",
       "memento_group^D4^iTreg  830.034227   988.853625     190.119572  124.041428   \n",
       "memento_group^D4^UNS     29.667368    10.360033       3.767285    2.825464   \n",
       "\n",
       "                           FAM41C        NOC2L          ISG15    C1orf159   \n",
       "memento_group^D1^iTreg  33.245395  1121.477993   45721.283631   83.113488  \\\n",
       "memento_group^D1^UNS     4.810321    60.347666      83.961971    3.935717   \n",
       "memento_group^D2^UNS     4.039205    55.539075      71.695897    4.544106   \n",
       "memento_group^D3^iTreg  61.467085  1200.657053   34438.983061   76.833856   \n",
       "memento_group^D3^UNS     3.268770    22.881390      31.286799    1.400901   \n",
       "memento_group^D4^iTreg  59.122550  1829.321243  120307.433006  103.174646   \n",
       "memento_group^D4^UNS     0.941821    41.911043      50.387434    2.825464   \n",
       "\n",
       "                            TNFRSF4         SDF4  ...        MT-ND3   \n",
       "memento_group^D1^iTreg  5239.474260  1822.955829  ...  36593.206330  \\\n",
       "memento_group^D1^UNS       2.186510    58.161157  ...   2665.355269   \n",
       "memento_group^D2^UNS       1.514702    67.151791  ...   3005.168878   \n",
       "memento_group^D3^iTreg  5648.825077  1963.873354  ...  36444.858922   \n",
       "memento_group^D3^UNS       0.933934    19.145653  ...   1401.835388   \n",
       "memento_group^D4^iTreg  6533.621373  2141.163711  ...  42567.076504   \n",
       "memento_group^D4^UNS       1.412732    45.678328  ...   1237.082143   \n",
       "\n",
       "                            MT-ND4L         MT-ND4        MT-ND5   \n",
       "memento_group^D1^iTreg  4996.782876  179567.244098  22699.955739  \\\n",
       "memento_group^D1^UNS     234.831137    4627.529032    551.000433   \n",
       "memento_group^D2^UNS     177.220141    4363.856622    416.543065   \n",
       "memento_group^D3^iTreg  4420.507836  163790.315934  18446.272094   \n",
       "memento_group^D3^UNS     105.534576    2006.557849    177.914485   \n",
       "memento_group^D4^iTreg  3534.601058  171577.116970  18913.419569   \n",
       "memento_group^D4^UNS      76.758428    1829.016765    193.544256   \n",
       "\n",
       "                              MT-ND6        MT-CYB  AL592183.1  AC007325.4   \n",
       "memento_group^D1^iTreg   9533.671120  41622.126421  247.124103   28.812676  \\\n",
       "memento_group^D1^UNS       97.955633   2448.453511   12.244454    2.623812   \n",
       "memento_group^D2^UNS       87.347819   2013.039032   31.303842    1.514702   \n",
       "memento_group^D3^iTreg   9767.119746  38096.274596  243.819436   86.053918   \n",
       "memento_group^D3^UNS       28.951963   1201.039513    8.405409    2.801803   \n",
       "memento_group^D4^iTreg  16594.888209  36224.733969  525.147353   54.485487   \n",
       "memento_group^D4^UNS       41.440133    892.375584   14.598229    1.883642   \n",
       "\n",
       "                        AL354822.1  AC240274.1  \n",
       "memento_group^D1^iTreg   55.408992   32.137215  \n",
       "memento_group^D1^UNS      2.623812    4.373019  \n",
       "memento_group^D2^UNS      4.039205    6.058808  \n",
       "memento_group^D3^iTreg   59.418182   43.026959  \n",
       "memento_group^D3^UNS      2.334836    1.867869  \n",
       "memento_group^D4^iTreg   92.741254   37.096502  \n",
       "memento_group^D4^UNS      4.238195    3.296374  \n",
       "\n",
       "[7 rows x 10668 columns]"
      ]
     },
     "execution_count": 912,
     "metadata": {},
     "output_type": "execute_result"
    }
   ],
   "source": [
    "expr"
   ]
  },
  {
   "cell_type": "code",
   "execution_count": 910,
   "id": "f918e4fb-6282-42ae-ac0d-52b1d78fff5e",
   "metadata": {},
   "outputs": [
    {
     "ename": "ValueError",
     "evalue": "Index of obs must match index of X.",
     "output_type": "error",
     "traceback": [
      "\u001b[0;31m---------------------------------------------------------------------------\u001b[0m",
      "\u001b[0;31mValueError\u001b[0m                                Traceback (most recent call last)",
      "Cell \u001b[0;32mIn[910], line 1\u001b[0m\n\u001b[0;32m----> 1\u001b[0m dds \u001b[38;5;241m=\u001b[39m \u001b[43mDeseqDataSet\u001b[49m\u001b[43m(\u001b[49m\n\u001b[1;32m      2\u001b[0m \u001b[43m    \u001b[49m\u001b[43mcounts\u001b[49m\u001b[38;5;241;43m=\u001b[39;49m\u001b[43mexpr\u001b[49m\u001b[38;5;241;43m.\u001b[39;49m\u001b[43mT\u001b[49m\u001b[38;5;241;43m.\u001b[39;49m\u001b[43mround\u001b[49m\u001b[43m(\u001b[49m\u001b[43m)\u001b[49m\u001b[43m,\u001b[49m\n\u001b[1;32m      3\u001b[0m \u001b[43m    \u001b[49m\u001b[43mclinical\u001b[49m\u001b[38;5;241;43m=\u001b[39;49m\u001b[43mdesign_matrix\u001b[49m\u001b[38;5;241;43m.\u001b[39;49m\u001b[43mT\u001b[49m\u001b[43m,\u001b[49m\n\u001b[1;32m      4\u001b[0m \u001b[43m    \u001b[49m\u001b[43mdesign_factors\u001b[49m\u001b[38;5;241;43m=\u001b[39;49m\u001b[43m[\u001b[49m\u001b[38;5;124;43m\"\u001b[39;49m\u001b[38;5;124;43mgroup\u001b[39;49m\u001b[38;5;124;43m\"\u001b[39;49m\u001b[43m,\u001b[49m\u001b[43m \u001b[49m\u001b[38;5;124;43m\"\u001b[39;49m\u001b[38;5;124;43mcondition\u001b[39;49m\u001b[38;5;124;43m\"\u001b[39;49m\u001b[43m]\u001b[49m\u001b[43m,\u001b[49m\n\u001b[1;32m      5\u001b[0m \u001b[43m    \u001b[49m\u001b[43mrefit_cooks\u001b[49m\u001b[38;5;241;43m=\u001b[39;49m\u001b[38;5;28;43;01mTrue\u001b[39;49;00m\u001b[43m,\u001b[49m\n\u001b[1;32m      6\u001b[0m \u001b[43m    \u001b[49m\u001b[43mn_cpus\u001b[49m\u001b[38;5;241;43m=\u001b[39;49m\u001b[38;5;241;43m8\u001b[39;49m\u001b[43m,\u001b[49m\n\u001b[1;32m      7\u001b[0m \u001b[43m)\u001b[49m\n",
      "File \u001b[0;32m~/anaconda3/envs/single_cell/lib/python3.10/site-packages/pydeseq2/dds.py:197\u001b[0m, in \u001b[0;36mDeseqDataSet.__init__\u001b[0;34m(self, adata, counts, clinical, design_factors, ref_level, min_mu, min_disp, max_disp, refit_cooks, min_replicates, beta_tol, n_cpus, batch_size, joblib_verbosity)\u001b[0m\n\u001b[1;32m    194\u001b[0m \u001b[38;5;28;01melif\u001b[39;00m counts \u001b[38;5;129;01mis\u001b[39;00m \u001b[38;5;129;01mnot\u001b[39;00m \u001b[38;5;28;01mNone\u001b[39;00m \u001b[38;5;129;01mand\u001b[39;00m clinical \u001b[38;5;129;01mis\u001b[39;00m \u001b[38;5;129;01mnot\u001b[39;00m \u001b[38;5;28;01mNone\u001b[39;00m:\n\u001b[1;32m    195\u001b[0m     \u001b[38;5;66;03m# Test counts before going further\u001b[39;00m\n\u001b[1;32m    196\u001b[0m     test_valid_counts(counts)\n\u001b[0;32m--> 197\u001b[0m     \u001b[38;5;28;43msuper\u001b[39;49m\u001b[43m(\u001b[49m\u001b[43m)\u001b[49m\u001b[38;5;241;43m.\u001b[39;49m\u001b[38;5;21;43m__init__\u001b[39;49m\u001b[43m(\u001b[49m\u001b[43mX\u001b[49m\u001b[38;5;241;43m=\u001b[39;49m\u001b[43mcounts\u001b[49m\u001b[38;5;241;43m.\u001b[39;49m\u001b[43mastype\u001b[49m\u001b[43m(\u001b[49m\u001b[38;5;28;43mint\u001b[39;49m\u001b[43m)\u001b[49m\u001b[43m,\u001b[49m\u001b[43m \u001b[49m\u001b[43mobs\u001b[49m\u001b[38;5;241;43m=\u001b[39;49m\u001b[43mclinical\u001b[49m\u001b[43m)\u001b[49m\n\u001b[1;32m    198\u001b[0m \u001b[38;5;28;01melse\u001b[39;00m:\n\u001b[1;32m    199\u001b[0m     \u001b[38;5;28;01mraise\u001b[39;00m \u001b[38;5;167;01mValueError\u001b[39;00m(\n\u001b[1;32m    200\u001b[0m         \u001b[38;5;124m\"\u001b[39m\u001b[38;5;124mEither adata or both counts and clinical arguments must be provided.\u001b[39m\u001b[38;5;124m\"\u001b[39m\n\u001b[1;32m    201\u001b[0m     )\n",
      "File \u001b[0;32m~/anaconda3/envs/single_cell/lib/python3.10/site-packages/anndata/_core/anndata.py:285\u001b[0m, in \u001b[0;36mAnnData.__init__\u001b[0;34m(self, X, obs, var, uns, obsm, varm, layers, raw, dtype, shape, filename, filemode, asview, obsp, varp, oidx, vidx)\u001b[0m\n\u001b[1;32m    283\u001b[0m     \u001b[38;5;28mself\u001b[39m\u001b[38;5;241m.\u001b[39m_init_as_view(X, oidx, vidx)\n\u001b[1;32m    284\u001b[0m \u001b[38;5;28;01melse\u001b[39;00m:\n\u001b[0;32m--> 285\u001b[0m     \u001b[38;5;28;43mself\u001b[39;49m\u001b[38;5;241;43m.\u001b[39;49m\u001b[43m_init_as_actual\u001b[49m\u001b[43m(\u001b[49m\n\u001b[1;32m    286\u001b[0m \u001b[43m        \u001b[49m\u001b[43mX\u001b[49m\u001b[38;5;241;43m=\u001b[39;49m\u001b[43mX\u001b[49m\u001b[43m,\u001b[49m\n\u001b[1;32m    287\u001b[0m \u001b[43m        \u001b[49m\u001b[43mobs\u001b[49m\u001b[38;5;241;43m=\u001b[39;49m\u001b[43mobs\u001b[49m\u001b[43m,\u001b[49m\n\u001b[1;32m    288\u001b[0m \u001b[43m        \u001b[49m\u001b[43mvar\u001b[49m\u001b[38;5;241;43m=\u001b[39;49m\u001b[43mvar\u001b[49m\u001b[43m,\u001b[49m\n\u001b[1;32m    289\u001b[0m \u001b[43m        \u001b[49m\u001b[43muns\u001b[49m\u001b[38;5;241;43m=\u001b[39;49m\u001b[43muns\u001b[49m\u001b[43m,\u001b[49m\n\u001b[1;32m    290\u001b[0m \u001b[43m        \u001b[49m\u001b[43mobsm\u001b[49m\u001b[38;5;241;43m=\u001b[39;49m\u001b[43mobsm\u001b[49m\u001b[43m,\u001b[49m\n\u001b[1;32m    291\u001b[0m \u001b[43m        \u001b[49m\u001b[43mvarm\u001b[49m\u001b[38;5;241;43m=\u001b[39;49m\u001b[43mvarm\u001b[49m\u001b[43m,\u001b[49m\n\u001b[1;32m    292\u001b[0m \u001b[43m        \u001b[49m\u001b[43mraw\u001b[49m\u001b[38;5;241;43m=\u001b[39;49m\u001b[43mraw\u001b[49m\u001b[43m,\u001b[49m\n\u001b[1;32m    293\u001b[0m \u001b[43m        \u001b[49m\u001b[43mlayers\u001b[49m\u001b[38;5;241;43m=\u001b[39;49m\u001b[43mlayers\u001b[49m\u001b[43m,\u001b[49m\n\u001b[1;32m    294\u001b[0m \u001b[43m        \u001b[49m\u001b[43mdtype\u001b[49m\u001b[38;5;241;43m=\u001b[39;49m\u001b[43mdtype\u001b[49m\u001b[43m,\u001b[49m\n\u001b[1;32m    295\u001b[0m \u001b[43m        \u001b[49m\u001b[43mshape\u001b[49m\u001b[38;5;241;43m=\u001b[39;49m\u001b[43mshape\u001b[49m\u001b[43m,\u001b[49m\n\u001b[1;32m    296\u001b[0m \u001b[43m        \u001b[49m\u001b[43mobsp\u001b[49m\u001b[38;5;241;43m=\u001b[39;49m\u001b[43mobsp\u001b[49m\u001b[43m,\u001b[49m\n\u001b[1;32m    297\u001b[0m \u001b[43m        \u001b[49m\u001b[43mvarp\u001b[49m\u001b[38;5;241;43m=\u001b[39;49m\u001b[43mvarp\u001b[49m\u001b[43m,\u001b[49m\n\u001b[1;32m    298\u001b[0m \u001b[43m        \u001b[49m\u001b[43mfilename\u001b[49m\u001b[38;5;241;43m=\u001b[39;49m\u001b[43mfilename\u001b[49m\u001b[43m,\u001b[49m\n\u001b[1;32m    299\u001b[0m \u001b[43m        \u001b[49m\u001b[43mfilemode\u001b[49m\u001b[38;5;241;43m=\u001b[39;49m\u001b[43mfilemode\u001b[49m\u001b[43m,\u001b[49m\n\u001b[1;32m    300\u001b[0m \u001b[43m    \u001b[49m\u001b[43m)\u001b[49m\n",
      "File \u001b[0;32m~/anaconda3/envs/single_cell/lib/python3.10/site-packages/anndata/_core/anndata.py:490\u001b[0m, in \u001b[0;36mAnnData._init_as_actual\u001b[0;34m(self, X, obs, var, uns, obsm, varm, varp, obsp, raw, layers, dtype, shape, filename, filemode)\u001b[0m\n\u001b[1;32m    488\u001b[0m         attr\u001b[38;5;241m.\u001b[39mindex \u001b[38;5;241m=\u001b[39m idx\n\u001b[1;32m    489\u001b[0m     \u001b[38;5;28;01melif\u001b[39;00m \u001b[38;5;129;01mnot\u001b[39;00m idx\u001b[38;5;241m.\u001b[39mequals(attr\u001b[38;5;241m.\u001b[39mindex):\n\u001b[0;32m--> 490\u001b[0m         \u001b[38;5;28;01mraise\u001b[39;00m \u001b[38;5;167;01mValueError\u001b[39;00m(\u001b[38;5;124mf\u001b[39m\u001b[38;5;124m\"\u001b[39m\u001b[38;5;124mIndex of \u001b[39m\u001b[38;5;132;01m{\u001b[39;00mattr_name\u001b[38;5;132;01m}\u001b[39;00m\u001b[38;5;124m must match \u001b[39m\u001b[38;5;132;01m{\u001b[39;00mx_name\u001b[38;5;132;01m}\u001b[39;00m\u001b[38;5;124m of X.\u001b[39m\u001b[38;5;124m\"\u001b[39m)\n\u001b[1;32m    492\u001b[0m \u001b[38;5;66;03m# unstructured annotations\u001b[39;00m\n\u001b[1;32m    493\u001b[0m \u001b[38;5;28mself\u001b[39m\u001b[38;5;241m.\u001b[39muns \u001b[38;5;241m=\u001b[39m uns \u001b[38;5;129;01mor\u001b[39;00m OrderedDict()\n",
      "\u001b[0;31mValueError\u001b[0m: Index of obs must match index of X."
     ]
    }
   ],
   "source": [
    "counts = expr.T.round()\n",
    "dds = DeseqDataSet(\n",
    "    counts=counts,\n",
    "    clinical=design_matrix,\n",
    "    design_factors=[\"group\", \"condition\"],\n",
    "    refit_cooks=True,\n",
    "    n_cpus=8,\n",
    ")"
   ]
  },
  {
   "cell_type": "code",
   "execution_count": null,
   "id": "ea87c8be-6a2b-4e69-8d09-14be3cd40c82",
   "metadata": {},
   "outputs": [],
   "source": []
  },
  {
   "cell_type": "code",
   "execution_count": null,
   "id": "8805b6f6-5fde-4949-a8e6-fb2279911da3",
   "metadata": {},
   "outputs": [],
   "source": []
  },
  {
   "cell_type": "code",
   "execution_count": null,
   "id": "8de44294-7f03-49df-a9b6-8eb30eead0e3",
   "metadata": {},
   "outputs": [],
   "source": []
  },
  {
   "cell_type": "code",
   "execution_count": null,
   "id": "87abd711-06b9-457a-a2bd-200e8c42e364",
   "metadata": {},
   "outputs": [],
   "source": []
  },
  {
   "cell_type": "code",
   "execution_count": 39,
   "id": "9a8153ff-0187-4500-8cbc-f2aa0281103d",
   "metadata": {},
   "outputs": [],
   "source": [
    "pred_df = pd.DataFrame(pred_list, index=expr.columns, columns=expr.index).T"
   ]
  },
  {
   "cell_type": "code",
   "execution_count": 40,
   "id": "9355ef06-137e-4ac4-8a8c-78def37702a9",
   "metadata": {},
   "outputs": [],
   "source": [
    "v_hat = np.sqrt((pred_df-expr)**2)"
   ]
  },
  {
   "cell_type": "code",
   "execution_count": 41,
   "id": "27f4bd74-001e-44d2-b1b7-7438ea0a0c63",
   "metadata": {},
   "outputs": [],
   "source": [
    "x = np.log(pred_df.values.ravel())\n",
    "y = np.log(v_hat.values.ravel())"
   ]
  },
  {
   "cell_type": "code",
   "execution_count": 20,
   "id": "1408e267-de90-46b8-81aa-b698b4901b84",
   "metadata": {},
   "outputs": [],
   "source": [
    "x = pred_df.values.mean(axis=0)\n",
    "y = v_hat.values.mean(axis=0)"
   ]
  },
  {
   "cell_type": "code",
   "execution_count": 42,
   "id": "62efa1ad-d1c5-46c7-81f7-ec378929d349",
   "metadata": {},
   "outputs": [
    {
     "name": "stderr",
     "output_type": "stream",
     "text": [
      "2023-07-09 14:44:52 1533054 WARNING  /tmp/ipykernel_1533054/2039125209.py:1: RuntimeWarning: invalid value encountered in log\n",
      "  slope, inter , _, _, _ = stats.linregress(np.log(x),np.log(y))\n",
      "\n"
     ]
    }
   ],
   "source": [
    "slope, inter , _, _, _ = stats.linregress(np.log(x),np.log(y))"
   ]
  },
  {
   "cell_type": "code",
   "execution_count": 45,
   "id": "b85f4e81-a612-48b0-8f54-b2e7b4d9c23d",
   "metadata": {},
   "outputs": [
    {
     "name": "stderr",
     "output_type": "stream",
     "text": [
      "2023-07-09 14:45:02 1533054 WARNING  /tmp/ipykernel_1533054/2003753684.py:1: RuntimeWarning: invalid value encountered in log\n",
      "  plt.scatter(np.log(x), np.log(y), s=1, alpha=0.1)\n",
      "\n"
     ]
    },
    {
     "data": {
      "text/plain": [
       "<matplotlib.collections.PathCollection at 0x7fd1d69f68f0>"
      ]
     },
     "execution_count": 45,
     "metadata": {},
     "output_type": "execute_result"
    },
    {
     "data": {
      "image/png": "[encoded data removed]",
      "text/plain": [
       "<Figure size 640x480 with 1 Axes>"
      ]
     },
     "metadata": {},
     "output_type": "display_data"
    }
   ],
   "source": [
    "plt.scatter(np.log(x), np.log(y), s=1, alpha=0.1)\n",
    "# plt.scatter(np.log(x), np.log(x)*slope+inter, s=1, alpha=0.1)\n",
    "# plt.scatter(np.log(x), np.log( (x+0.4*x**2)/1000  ), s=1, alpha=0.1)\n",
    "\n",
    "# plt.scatter(np.log(x), np.log(x+0.001*x**2), s=1, alpha=0.1)"
   ]
  },
  {
   "cell_type": "code",
   "execution_count": 223,
   "id": "8420a4c5-1e9f-4966-bf44-ef08b448f08b",
   "metadata": {},
   "outputs": [],
   "source": [
    "genewise = np.exp(np.log(v*multiplier) - np.log(nb_var_func(m,d)))"
   ]
  },
  {
   "cell_type": "code",
   "execution_count": 222,
   "id": "f95db0eb-ac00-42f8-bfa7-5afe71753b6b",
   "metadata": {},
   "outputs": [
    {
     "data": {
      "text/plain": [
       "array([1.271629  , 1.11134869, 1.04962238, ..., 0.60047011, 0.79468165,\n",
       "       0.60047011])"
      ]
     },
     "execution_count": 222,
     "metadata": {},
     "output_type": "execute_result"
    }
   ],
   "source": [
    "np.exp(genewise)"
   ]
  },
  {
   "cell_type": "code",
   "execution_count": 184,
   "id": "b365e95d-34b7-4fb1-84ec-f37378392e9f",
   "metadata": {},
   "outputs": [
    {
     "data": {
      "text/plain": [
       "array([2.70721086e-04, 1.07242697e-04, 7.78187206e-06, ...,\n",
       "       1.96131613e-06, 7.89590578e-06, 4.09117807e-06])"
      ]
     },
     "execution_count": 184,
     "metadata": {},
     "output_type": "execute_result"
    }
   ],
   "source": [
    "v"
   ]
  },
  {
   "cell_type": "code",
   "execution_count": 182,
   "id": "3d096f66-ac43-4e08-a1fc-3e6df911975d",
   "metadata": {},
   "outputs": [
    {
     "data": {
      "text/plain": [
       "810.596388419811"
      ]
     },
     "execution_count": 182,
     "metadata": {},
     "output_type": "execute_result"
    }
   ],
   "source": [
    "multiplier"
   ]
  },
  {
   "cell_type": "code",
   "execution_count": 179,
   "id": "c731e7c1-340e-4f0b-baea-8aca99f01fb2",
   "metadata": {},
   "outputs": [
    {
     "data": {
      "text/plain": [
       "552.0255881858686"
      ]
     },
     "execution_count": 179,
     "metadata": {},
     "output_type": "execute_result"
    }
   ],
   "source": [
    "multiplier"
   ]
  },
  {
   "cell_type": "code",
   "execution_count": 180,
   "id": "e3c26f5e-9f73-4a92-9260-ecf6dca28d01",
   "metadata": {},
   "outputs": [
    {
     "data": {
      "text/plain": [
       "array([ 0.49107242, -1.61803398,  0.41330406, -1.61803398,  0.5087693 ,\n",
       "       -1.61803398,  0.46154569, -1.61803398])"
      ]
     },
     "execution_count": 180,
     "metadata": {},
     "output_type": "execute_result"
    }
   ],
   "source": [
    "sample_dispersions"
   ]
  },
  {
   "cell_type": "code",
   "execution_count": 150,
   "id": "582e3d3d-2535-4caf-aa99-797adce2e47b",
   "metadata": {},
   "outputs": [],
   "source": [
    "expr = model.estimates['mean']\n",
    "\n",
    "expr_var = model.estimates['se_mean'].iloc[0]\n",
    "\n",
    " "
   ]
  },
  {
   "cell_type": "code",
   "execution_count": 151,
   "id": "e01dadf7-abcd-4d0c-9872-2c3dadb9cdc5",
   "metadata": {},
   "outputs": [],
   "source": [
    "lowexpr = expr[expr < np.quantile(expr, 0.3)]\n",
    "lowexpr_var = expr_var[expr < np.quantile(expr, 0.3)]\n",
    "multiplier = (lowexpr/lowexpr_var).median()"
   ]
  },
  {
   "cell_type": "code",
   "execution_count": 152,
   "id": "f74eede5-061f-4535-b9f9-65416a841317",
   "metadata": {},
   "outputs": [],
   "source": [
    "def empirical_var_func(x, alpha):\n",
    "    \n",
    "    return np.sqrt(x)*(x+alpha*x**2)\n",
    "\n",
    "def nb_var_func(x, alpha):\n",
    "    \n",
    "    return (x+alpha*x**2)/multiplier\n",
    "\n",
    "def objective(alpha):\n",
    "    \n",
    "    return ((np.log(expr_var) - np.log(nb_var_func(expr, alpha)))**2).mean()"
   ]
  },
  {
   "cell_type": "code",
   "execution_count": 153,
   "id": "5a10b89e-250e-4eb7-9f85-b6f870862ab2",
   "metadata": {},
   "outputs": [],
   "source": [
    "from scipy.optimize import minimize_scalar"
   ]
  },
  {
   "cell_type": "code",
   "execution_count": 154,
   "id": "f38e7ca4-defe-4da3-b331-8fee067409e0",
   "metadata": {},
   "outputs": [],
   "source": [
    "res = minimize_scalar(objective)"
   ]
  },
  {
   "cell_type": "code",
   "execution_count": 155,
   "id": "d937736f-eb0c-47fc-a3d8-7625160a2d99",
   "metadata": {},
   "outputs": [],
   "source": [
    "pred_empirical_var = empirical_var_func(expr, 0.01)\n",
    "pred_nb_var = nb_var_func(expr, res.x)"
   ]
  },
  {
   "cell_type": "code",
   "execution_count": 156,
   "id": "706d2d2f-2ee9-4def-89cc-a84e4d3e868d",
   "metadata": {},
   "outputs": [
    {
     "data": {
      "text/plain": [
       "<matplotlib.collections.PathCollection at 0x7f64c527ecb0>"
      ]
     },
     "execution_count": 156,
     "metadata": {},
     "output_type": "execute_result"
    },
    {
     "data": {
      "image/png": "[encoded data removed]",
      "text/plain": [
       "<Figure size 640x480 with 1 Axes>"
      ]
     },
     "metadata": {},
     "output_type": "display_data"
    }
   ],
   "source": [
    "plt.scatter(np.log(expr), np.log(expr_var), s=1)\n",
    "\n",
    "# plt.scatter(np.log(expr), np.log(pred_empirical_var)-7.5, s=1)\n",
    "\n",
    "plt.scatter(np.log(expr), np.log(pred_nb_var), s=1)"
   ]
  },
  {
   "cell_type": "code",
   "execution_count": 120,
   "id": "4e5ab44f-cea5-4850-ac5b-c1cd8fd754da",
   "metadata": {},
   "outputs": [
    {
     "data": {
      "image/png": "[encoded data removed]",
      "text/plain": [
       "<Figure size 1400x200 with 8 Axes>"
      ]
     },
     "metadata": {},
     "output_type": "display_data"
    }
   ],
   "source": [
    "plt.figure(figsize=(14, 2))\n",
    "for idx in range(expr.shape[0]):\n",
    "    \n",
    "    plt.subplot(1, expr.shape[0], idx+1)\n",
    "    plt.scatter(np.log(expr.iloc[idx]), np.log(expr_se.iloc[idx])-np.log(expr.iloc[idx]), s=1)\n",
    "    plt.plot(np.log(expr.iloc[idx]), np.log(expr.iloc[idx]), '--', color='k')"
   ]
  },
  {
   "cell_type": "code",
   "execution_count": 69,
   "id": "dab5bb61-cade-44d3-b731-bd9d7575ff7a",
   "metadata": {},
   "outputs": [
    {
     "data": {
      "text/html": [
       "<div>\n",
       "<style scoped>\n",
       "    .dataframe tbody tr th:only-of-type {\n",
       "        vertical-align: middle;\n",
       "    }\n",
       "\n",
       "    .dataframe tbody tr th {\n",
       "        vertical-align: top;\n",
       "    }\n",
       "\n",
       "    .dataframe thead th {\n",
       "        text-align: right;\n",
       "    }\n",
       "</style>\n",
       "<table border=\"1\" class=\"dataframe\">\n",
       "  <thead>\n",
       "    <tr style=\"text-align: right;\">\n",
       "      <th></th>\n",
       "      <th>FO538757.2</th>\n",
       "      <th>AP006222.2</th>\n",
       "      <th>RP4-669L17.10</th>\n",
       "      <th>RP11-206L10.9</th>\n",
       "      <th>LINC00115</th>\n",
       "      <th>FAM41C</th>\n",
       "      <th>NOC2L</th>\n",
       "      <th>KLHL17</th>\n",
       "      <th>ISG15</th>\n",
       "      <th>C1orf159</th>\n",
       "      <th>...</th>\n",
       "      <th>DLL3</th>\n",
       "      <th>B3GNT8</th>\n",
       "      <th>NLGN4Y</th>\n",
       "      <th>RFPL1S</th>\n",
       "      <th>NEFH</th>\n",
       "      <th>RP6-109B7.5</th>\n",
       "      <th>ODF3B</th>\n",
       "      <th>LRRC3</th>\n",
       "      <th>RP11-563D10.1</th>\n",
       "      <th>RPS6KA6</th>\n",
       "    </tr>\n",
       "  </thead>\n",
       "  <tbody>\n",
       "    <tr>\n",
       "      <th>memento_group^D1^Th0</th>\n",
       "      <td>341.233705</td>\n",
       "      <td>280.170831</td>\n",
       "      <td>13.170424</td>\n",
       "      <td>70.641363</td>\n",
       "      <td>17.959669</td>\n",
       "      <td>28.735470</td>\n",
       "      <td>929.113526</td>\n",
       "      <td>23.946225</td>\n",
       "      <td>35264.408101</td>\n",
       "      <td>76.627920</td>\n",
       "      <td>...</td>\n",
       "      <td>41.905894</td>\n",
       "      <td>5.986556</td>\n",
       "      <td>40.708582</td>\n",
       "      <td>8.381179</td>\n",
       "      <td>198.753667</td>\n",
       "      <td>19.156980</td>\n",
       "      <td>420.256247</td>\n",
       "      <td>33.524715</td>\n",
       "      <td>10.775801</td>\n",
       "      <td>3.591934</td>\n",
       "    </tr>\n",
       "    <tr>\n",
       "      <th>memento_group^D1^UNS</th>\n",
       "      <td>71.828265</td>\n",
       "      <td>32.547183</td>\n",
       "      <td>2.805792</td>\n",
       "      <td>14.590116</td>\n",
       "      <td>7.295058</td>\n",
       "      <td>8.978533</td>\n",
       "      <td>97.080389</td>\n",
       "      <td>5.611583</td>\n",
       "      <td>164.419388</td>\n",
       "      <td>6.733900</td>\n",
       "      <td>...</td>\n",
       "      <td>1.683475</td>\n",
       "      <td>2.244633</td>\n",
       "      <td>3.928108</td>\n",
       "      <td>2.244633</td>\n",
       "      <td>2.805792</td>\n",
       "      <td>1.683475</td>\n",
       "      <td>2.244633</td>\n",
       "      <td>1.122317</td>\n",
       "      <td>2.805792</td>\n",
       "      <td>1.683475</td>\n",
       "    </tr>\n",
       "    <tr>\n",
       "      <th>memento_group^D2^Th0</th>\n",
       "      <td>357.710382</td>\n",
       "      <td>362.820531</td>\n",
       "      <td>12.775371</td>\n",
       "      <td>80.484836</td>\n",
       "      <td>28.105816</td>\n",
       "      <td>54.934094</td>\n",
       "      <td>1140.840613</td>\n",
       "      <td>25.550742</td>\n",
       "      <td>15519.520450</td>\n",
       "      <td>97.092818</td>\n",
       "      <td>...</td>\n",
       "      <td>95.815281</td>\n",
       "      <td>5.110148</td>\n",
       "      <td>42.158724</td>\n",
       "      <td>12.775371</td>\n",
       "      <td>210.793618</td>\n",
       "      <td>15.330445</td>\n",
       "      <td>365.375605</td>\n",
       "      <td>35.771038</td>\n",
       "      <td>7.665222</td>\n",
       "      <td>5.110148</td>\n",
       "    </tr>\n",
       "    <tr>\n",
       "      <th>memento_group^D2^UNS</th>\n",
       "      <td>40.883264</td>\n",
       "      <td>15.600193</td>\n",
       "      <td>1.075875</td>\n",
       "      <td>10.758754</td>\n",
       "      <td>4.303502</td>\n",
       "      <td>4.303502</td>\n",
       "      <td>56.483457</td>\n",
       "      <td>4.841439</td>\n",
       "      <td>93.601158</td>\n",
       "      <td>6.455252</td>\n",
       "      <td>...</td>\n",
       "      <td>1.075875</td>\n",
       "      <td>3.765564</td>\n",
       "      <td>1.075875</td>\n",
       "      <td>1.613813</td>\n",
       "      <td>2.689688</td>\n",
       "      <td>1.075875</td>\n",
       "      <td>4.303502</td>\n",
       "      <td>1.075875</td>\n",
       "      <td>2.151751</td>\n",
       "      <td>1.613813</td>\n",
       "    </tr>\n",
       "    <tr>\n",
       "      <th>memento_group^D3^Th0</th>\n",
       "      <td>373.494175</td>\n",
       "      <td>430.588826</td>\n",
       "      <td>4.757888</td>\n",
       "      <td>82.073561</td>\n",
       "      <td>42.820988</td>\n",
       "      <td>45.199932</td>\n",
       "      <td>814.788249</td>\n",
       "      <td>26.168382</td>\n",
       "      <td>26867.791191</td>\n",
       "      <td>61.852539</td>\n",
       "      <td>...</td>\n",
       "      <td>52.336763</td>\n",
       "      <td>7.136831</td>\n",
       "      <td>26.168382</td>\n",
       "      <td>7.136831</td>\n",
       "      <td>139.168212</td>\n",
       "      <td>8.326303</td>\n",
       "      <td>381.820479</td>\n",
       "      <td>41.631516</td>\n",
       "      <td>4.757888</td>\n",
       "      <td>3.568416</td>\n",
       "    </tr>\n",
       "    <tr>\n",
       "      <th>memento_group^D3^UNS</th>\n",
       "      <td>78.988197</td>\n",
       "      <td>26.889599</td>\n",
       "      <td>2.240800</td>\n",
       "      <td>10.643800</td>\n",
       "      <td>5.041800</td>\n",
       "      <td>10.083600</td>\n",
       "      <td>112.600195</td>\n",
       "      <td>3.361200</td>\n",
       "      <td>161.897793</td>\n",
       "      <td>6.722400</td>\n",
       "      <td>...</td>\n",
       "      <td>1.680600</td>\n",
       "      <td>1.120400</td>\n",
       "      <td>2.801000</td>\n",
       "      <td>1.680600</td>\n",
       "      <td>1.120400</td>\n",
       "      <td>1.680600</td>\n",
       "      <td>2.240800</td>\n",
       "      <td>1.680600</td>\n",
       "      <td>3.361200</td>\n",
       "      <td>1.120400</td>\n",
       "    </tr>\n",
       "    <tr>\n",
       "      <th>memento_group^D4^Th0</th>\n",
       "      <td>588.350499</td>\n",
       "      <td>595.223753</td>\n",
       "      <td>5.498603</td>\n",
       "      <td>147.087625</td>\n",
       "      <td>49.487425</td>\n",
       "      <td>67.357884</td>\n",
       "      <td>1649.580840</td>\n",
       "      <td>41.239521</td>\n",
       "      <td>78499.428210</td>\n",
       "      <td>114.096008</td>\n",
       "      <td>...</td>\n",
       "      <td>239.189222</td>\n",
       "      <td>12.371856</td>\n",
       "      <td>57.735329</td>\n",
       "      <td>10.997206</td>\n",
       "      <td>250.186427</td>\n",
       "      <td>39.864870</td>\n",
       "      <td>848.159482</td>\n",
       "      <td>118.219960</td>\n",
       "      <td>5.498603</td>\n",
       "      <td>5.498603</td>\n",
       "    </tr>\n",
       "    <tr>\n",
       "      <th>memento_group^D4^UNS</th>\n",
       "      <td>52.002225</td>\n",
       "      <td>11.258214</td>\n",
       "      <td>3.752738</td>\n",
       "      <td>5.361054</td>\n",
       "      <td>3.216632</td>\n",
       "      <td>5.361054</td>\n",
       "      <td>60.579912</td>\n",
       "      <td>1.608316</td>\n",
       "      <td>85.240761</td>\n",
       "      <td>5.361054</td>\n",
       "      <td>...</td>\n",
       "      <td>1.072211</td>\n",
       "      <td>1.072211</td>\n",
       "      <td>2.144422</td>\n",
       "      <td>2.680527</td>\n",
       "      <td>1.608316</td>\n",
       "      <td>1.072211</td>\n",
       "      <td>2.680527</td>\n",
       "      <td>1.072211</td>\n",
       "      <td>1.608316</td>\n",
       "      <td>1.072211</td>\n",
       "    </tr>\n",
       "  </tbody>\n",
       "</table>\n",
       "<p>8 rows × 12029 columns</p>\n",
       "</div>"
      ],
      "text/plain": [
       "                      FO538757.2  AP006222.2  RP4-669L17.10  RP11-206L10.9   \n",
       "memento_group^D1^Th0  341.233705  280.170831      13.170424      70.641363  \\\n",
       "memento_group^D1^UNS   71.828265   32.547183       2.805792      14.590116   \n",
       "memento_group^D2^Th0  357.710382  362.820531      12.775371      80.484836   \n",
       "memento_group^D2^UNS   40.883264   15.600193       1.075875      10.758754   \n",
       "memento_group^D3^Th0  373.494175  430.588826       4.757888      82.073561   \n",
       "memento_group^D3^UNS   78.988197   26.889599       2.240800      10.643800   \n",
       "memento_group^D4^Th0  588.350499  595.223753       5.498603     147.087625   \n",
       "memento_group^D4^UNS   52.002225   11.258214       3.752738       5.361054   \n",
       "\n",
       "                      LINC00115     FAM41C        NOC2L     KLHL17   \n",
       "memento_group^D1^Th0  17.959669  28.735470   929.113526  23.946225  \\\n",
       "memento_group^D1^UNS   7.295058   8.978533    97.080389   5.611583   \n",
       "memento_group^D2^Th0  28.105816  54.934094  1140.840613  25.550742   \n",
       "memento_group^D2^UNS   4.303502   4.303502    56.483457   4.841439   \n",
       "memento_group^D3^Th0  42.820988  45.199932   814.788249  26.168382   \n",
       "memento_group^D3^UNS   5.041800  10.083600   112.600195   3.361200   \n",
       "memento_group^D4^Th0  49.487425  67.357884  1649.580840  41.239521   \n",
       "memento_group^D4^UNS   3.216632   5.361054    60.579912   1.608316   \n",
       "\n",
       "                             ISG15    C1orf159  ...        DLL3     B3GNT8   \n",
       "memento_group^D1^Th0  35264.408101   76.627920  ...   41.905894   5.986556  \\\n",
       "memento_group^D1^UNS    164.419388    6.733900  ...    1.683475   2.244633   \n",
       "memento_group^D2^Th0  15519.520450   97.092818  ...   95.815281   5.110148   \n",
       "memento_group^D2^UNS     93.601158    6.455252  ...    1.075875   3.765564   \n",
       "memento_group^D3^Th0  26867.791191   61.852539  ...   52.336763   7.136831   \n",
       "memento_group^D3^UNS    161.897793    6.722400  ...    1.680600   1.120400   \n",
       "memento_group^D4^Th0  78499.428210  114.096008  ...  239.189222  12.371856   \n",
       "memento_group^D4^UNS     85.240761    5.361054  ...    1.072211   1.072211   \n",
       "\n",
       "                         NLGN4Y     RFPL1S        NEFH  RP6-109B7.5   \n",
       "memento_group^D1^Th0  40.708582   8.381179  198.753667    19.156980  \\\n",
       "memento_group^D1^UNS   3.928108   2.244633    2.805792     1.683475   \n",
       "memento_group^D2^Th0  42.158724  12.775371  210.793618    15.330445   \n",
       "memento_group^D2^UNS   1.075875   1.613813    2.689688     1.075875   \n",
       "memento_group^D3^Th0  26.168382   7.136831  139.168212     8.326303   \n",
       "memento_group^D3^UNS   2.801000   1.680600    1.120400     1.680600   \n",
       "memento_group^D4^Th0  57.735329  10.997206  250.186427    39.864870   \n",
       "memento_group^D4^UNS   2.144422   2.680527    1.608316     1.072211   \n",
       "\n",
       "                           ODF3B       LRRC3  RP11-563D10.1   RPS6KA6  \n",
       "memento_group^D1^Th0  420.256247   33.524715      10.775801  3.591934  \n",
       "memento_group^D1^UNS    2.244633    1.122317       2.805792  1.683475  \n",
       "memento_group^D2^Th0  365.375605   35.771038       7.665222  5.110148  \n",
       "memento_group^D2^UNS    4.303502    1.075875       2.151751  1.613813  \n",
       "memento_group^D3^Th0  381.820479   41.631516       4.757888  3.568416  \n",
       "memento_group^D3^UNS    2.240800    1.680600       3.361200  1.120400  \n",
       "memento_group^D4^Th0  848.159482  118.219960       5.498603  5.498603  \n",
       "memento_group^D4^UNS    2.680527    1.072211       1.608316  1.072211  \n",
       "\n",
       "[8 rows x 12029 columns]"
      ]
     },
     "execution_count": 69,
     "metadata": {},
     "output_type": "execute_result"
    }
   ],
   "source": [
    "expr"
   ]
  },
  {
   "cell_type": "code",
   "execution_count": null,
   "id": "e6b6e93d-a70c-45bd-9d8b-89f87ead986f",
   "metadata": {},
   "outputs": [],
   "source": [
    "dd"
   ]
  },
  {
   "cell_type": "code",
   "execution_count": null,
   "id": "5dc00819-c094-4dff-9a2a-325194657d30",
   "metadata": {},
   "outputs": [],
   "source": [
    "\n"
   ]
  },
  {
   "cell_type": "code",
   "execution_count": 54,
   "id": "4290f226-e124-46b7-b6b6-69a8f5864254",
   "metadata": {},
   "outputs": [
    {
     "data": {
      "text/plain": [
       "memento_group^D1^Th0    0.277432\n",
       "memento_group^D1^UNS    0.665459\n",
       "memento_group^D2^Th0    0.308361\n",
       "memento_group^D2^UNS    0.721924\n",
       "memento_group^D3^Th0    0.290212\n",
       "memento_group^D3^UNS    0.676479\n",
       "memento_group^D4^Th0    0.276313\n",
       "memento_group^D4^UNS    0.720073\n",
       "Name: GAPDH, dtype: float64"
      ]
     },
     "execution_count": 54,
     "metadata": {},
     "output_type": "execute_result"
    }
   ],
   "source": [
    "weights['GAPDH']"
   ]
  },
  {
   "cell_type": "code",
   "execution_count": 56,
   "id": "30e03906-e965-47d6-b702-502d1b435a73",
   "metadata": {},
   "outputs": [],
   "source": [
    "genewise_weights = weights.mean(axis=0)"
   ]
  },
  {
   "cell_type": "code",
   "execution_count": 57,
   "id": "4a728072-7614-4d75-ab50-88769cbabf7e",
   "metadata": {},
   "outputs": [
    {
     "data": {
      "text/plain": [
       "0.49203180144984565"
      ]
     },
     "execution_count": 57,
     "metadata": {},
     "output_type": "execute_result"
    }
   ],
   "source": [
    "genewise_weights['GAPDH']"
   ]
  },
  {
   "cell_type": "code",
   "execution_count": 58,
   "id": "92397f0a-6b66-4ba7-a40c-2037657342a4",
   "metadata": {},
   "outputs": [
    {
     "data": {
      "text/plain": [
       "<Axes: ylabel='Density'>"
      ]
     },
     "execution_count": 58,
     "metadata": {},
     "output_type": "execute_result"
    },
    {
     "data": {
      "image/png": "[encoded data removed]",
      "text/plain": [
       "<Figure size 640x480 with 1 Axes>"
      ]
     },
     "metadata": {},
     "output_type": "display_data"
    }
   ],
   "source": [
    "sns.kdeplot(genewise_weights)"
   ]
  },
  {
   "cell_type": "code",
   "execution_count": 13,
   "id": "f476ea99-87e2-436d-afdc-062fcbce97f6",
   "metadata": {},
   "outputs": [
    {
     "name": "stderr",
     "output_type": "stream",
     "text": [
      "[Parallel(n_jobs=5)]: Using backend LokyBackend with 5 concurrent workers.\n",
      "[Parallel(n_jobs=5)]: Done  78 tasks      | elapsed:    0.1s\n",
      "[Parallel(n_jobs=5)]: Done 3574 tasks      | elapsed:    3.6s\n",
      "[Parallel(n_jobs=5)]: Done 10070 tasks      | elapsed:    9.9s\n",
      "/home/ssm-user/anaconda3/envs/single_cell/lib/python3.10/site-packages/statsmodels/genmod/families/varfuncs.py:265: RuntimeWarning: overflow encountered in square\n",
      "  return p + self.alpha*p**2\n",
      "/home/ssm-user/anaconda3/envs/single_cell/lib/python3.10/site-packages/statsmodels/genmod/families/family.py:132: RuntimeWarning: invalid value encountered in multiply\n",
      "  return 1. / (self.link.deriv(mu)**2 * self.variance(mu))\n",
      "[Parallel(n_jobs=5)]: Done 12029 out of 12029 | elapsed:   11.8s finished\n"
     ]
    }
   ],
   "source": [
    "df = pd.DataFrame(index=adata.uns['memento']['groups'])\n",
    "df['mouse'] = df.index.str.split('^').str[1]\n",
    "df['stim'] = df.index.str.split('^').str[2]\n",
    "\n",
    "cov_df = pd.get_dummies(df[['mouse']], drop_first=True).astype(float)\n",
    "stim_df = (df[['stim']]==stim).astype(float)\n",
    "cov_df = sm.add_constant(cov_df)\n",
    "\n",
    "glm_result = model.differential_mean(\n",
    "    covariates=cov_df, \n",
    "    treatments=stim_df,\n",
    "    family='WGLM',\n",
    "    dispersions=dispersions,\n",
    "    verbose=2,\n",
    "    n_jobs=5)\n",
    "\n",
    "_, glm_result['fdr'] = fdrcorrection(glm_result['pval'])\n",
    "glm_result.to_csv(data_path + 'sc_results/{}_{}_repro.csv'.format(dataset, trial))"
   ]
  },
  {
   "cell_type": "code",
   "execution_count": 17,
   "id": "0e4c86c5-afe6-40b8-b6b8-ab10ff3598e8",
   "metadata": {},
   "outputs": [
    {
     "data": {
      "text/html": [
       "<div>\n",
       "<style scoped>\n",
       "    .dataframe tbody tr th:only-of-type {\n",
       "        vertical-align: middle;\n",
       "    }\n",
       "\n",
       "    .dataframe tbody tr th {\n",
       "        vertical-align: top;\n",
       "    }\n",
       "\n",
       "    .dataframe thead th {\n",
       "        text-align: right;\n",
       "    }\n",
       "</style>\n",
       "<table border=\"1\" class=\"dataframe\">\n",
       "  <thead>\n",
       "    <tr style=\"text-align: right;\">\n",
       "      <th></th>\n",
       "      <th>treatment</th>\n",
       "      <th>coef</th>\n",
       "      <th>pval</th>\n",
       "      <th>fdr</th>\n",
       "    </tr>\n",
       "    <tr>\n",
       "      <th>gene</th>\n",
       "      <th></th>\n",
       "      <th></th>\n",
       "      <th></th>\n",
       "      <th></th>\n",
       "    </tr>\n",
       "  </thead>\n",
       "  <tbody>\n",
       "    <tr>\n",
       "      <th>CDT1</th>\n",
       "      <td>stim</td>\n",
       "      <td>5.844626</td>\n",
       "      <td>4.074694e-290</td>\n",
       "      <td>4.901449e-286</td>\n",
       "    </tr>\n",
       "    <tr>\n",
       "      <th>CCNA2</th>\n",
       "      <td>stim</td>\n",
       "      <td>5.437427</td>\n",
       "      <td>4.010531e-243</td>\n",
       "      <td>2.412134e-239</td>\n",
       "    </tr>\n",
       "    <tr>\n",
       "      <th>BIRC5</th>\n",
       "      <td>stim</td>\n",
       "      <td>5.485304</td>\n",
       "      <td>1.288913e-222</td>\n",
       "      <td>5.168111e-219</td>\n",
       "    </tr>\n",
       "    <tr>\n",
       "      <th>NCAPG</th>\n",
       "      <td>stim</td>\n",
       "      <td>4.976096</td>\n",
       "      <td>7.946012e-221</td>\n",
       "      <td>2.389564e-217</td>\n",
       "    </tr>\n",
       "    <tr>\n",
       "      <th>RMI2</th>\n",
       "      <td>stim</td>\n",
       "      <td>4.825368</td>\n",
       "      <td>1.859478e-212</td>\n",
       "      <td>4.473532e-209</td>\n",
       "    </tr>\n",
       "    <tr>\n",
       "      <th>...</th>\n",
       "      <td>...</td>\n",
       "      <td>...</td>\n",
       "      <td>...</td>\n",
       "      <td>...</td>\n",
       "    </tr>\n",
       "    <tr>\n",
       "      <th>ENTPD1</th>\n",
       "      <td>stim</td>\n",
       "      <td>1.542136</td>\n",
       "      <td>1.000000e+00</td>\n",
       "      <td>1.000000e+00</td>\n",
       "    </tr>\n",
       "    <tr>\n",
       "      <th>HOXB2</th>\n",
       "      <td>stim</td>\n",
       "      <td>-0.000173</td>\n",
       "      <td>9.996403e-01</td>\n",
       "      <td>1.000000e+00</td>\n",
       "    </tr>\n",
       "    <tr>\n",
       "      <th>C21orf33</th>\n",
       "      <td>stim</td>\n",
       "      <td>0.000000</td>\n",
       "      <td>1.000000e+00</td>\n",
       "      <td>1.000000e+00</td>\n",
       "    </tr>\n",
       "    <tr>\n",
       "      <th>MTRNR2L1</th>\n",
       "      <td>stim</td>\n",
       "      <td>15.661125</td>\n",
       "      <td>1.000000e+00</td>\n",
       "      <td>1.000000e+00</td>\n",
       "    </tr>\n",
       "    <tr>\n",
       "      <th>ZNF75A</th>\n",
       "      <td>stim</td>\n",
       "      <td>0.000111</td>\n",
       "      <td>9.994275e-01</td>\n",
       "      <td>1.000000e+00</td>\n",
       "    </tr>\n",
       "  </tbody>\n",
       "</table>\n",
       "<p>12029 rows × 4 columns</p>\n",
       "</div>"
      ],
      "text/plain": [
       "         treatment       coef           pval            fdr\n",
       "gene                                                       \n",
       "CDT1          stim   5.844626  4.074694e-290  4.901449e-286\n",
       "CCNA2         stim   5.437427  4.010531e-243  2.412134e-239\n",
       "BIRC5         stim   5.485304  1.288913e-222  5.168111e-219\n",
       "NCAPG         stim   4.976096  7.946012e-221  2.389564e-217\n",
       "RMI2          stim   4.825368  1.859478e-212  4.473532e-209\n",
       "...            ...        ...            ...            ...\n",
       "ENTPD1        stim   1.542136   1.000000e+00   1.000000e+00\n",
       "HOXB2         stim  -0.000173   9.996403e-01   1.000000e+00\n",
       "C21orf33      stim   0.000000   1.000000e+00   1.000000e+00\n",
       "MTRNR2L1      stim  15.661125   1.000000e+00   1.000000e+00\n",
       "ZNF75A        stim   0.000111   9.994275e-01   1.000000e+00\n",
       "\n",
       "[12029 rows x 4 columns]"
      ]
     },
     "execution_count": 17,
     "metadata": {},
     "output_type": "execute_result"
    }
   ],
   "source": [
    "glm_result.sort_values('fdr')"
   ]
  },
  {
   "cell_type": "code",
   "execution_count": 19,
   "id": "32beee26-cf3d-4580-ac13-7d8be786ee5e",
   "metadata": {},
   "outputs": [
    {
     "data": {
      "text/plain": [
       "array(['stim', 3.1643372010235087, 1.28032772346962e-10,\n",
       "       3.0648879971375236e-10], dtype=object)"
      ]
     },
     "execution_count": 19,
     "metadata": {},
     "output_type": "execute_result"
    }
   ],
   "source": [
    "glm_result.loc['GAPDH'].values"
   ]
  },
  {
   "cell_type": "code",
   "execution_count": null,
   "id": "1a0cb2fc-81cc-4e9f-b2ed-f4409676a60e",
   "metadata": {},
   "outputs": [],
   "source": []
  },
  {
   "cell_type": "code",
   "execution_count": null,
   "id": "35c8693b-5608-466c-82e5-b272f1f48050",
   "metadata": {},
   "outputs": [],
   "source": []
  },
  {
   "cell_type": "code",
   "execution_count": null,
   "id": "1b73826c-f8a6-4983-b331-b263c9bffc34",
   "metadata": {},
   "outputs": [],
   "source": []
  },
  {
   "cell_type": "code",
   "execution_count": null,
   "id": "5b839b2d-59f4-42b7-9b01-36a748c9c0cb",
   "metadata": {},
   "outputs": [],
   "source": []
  },
  {
   "cell_type": "code",
   "execution_count": null,
   "id": "34c9495f-d559-471e-b0df-1a9b7f88a80f",
   "metadata": {},
   "outputs": [],
   "source": []
  },
  {
   "cell_type": "code",
   "execution_count": null,
   "id": "5692347f-d789-48f8-911d-e269f455b361",
   "metadata": {},
   "outputs": [],
   "source": []
  },
  {
   "cell_type": "markdown",
   "id": "ce9eb8bb-f754-4141-88ea-4250386fd895",
   "metadata": {},
   "source": [
    "### RUn tt-est and MWU"
   ]
  },
  {
   "cell_type": "code",
   "execution_count": 75,
   "id": "5821d080-66c5-490f-8120-1a4f0edcfb75",
   "metadata": {},
   "outputs": [
    {
     "name": "stdout",
     "output_type": "stream",
     "text": [
      "working on CD4_Memory-Th0\n",
      "working on CD4_Memory-Th2\n",
      "working on CD4_Memory-Th17\n",
      "working on CD4_Memory-iTreg\n",
      "working on CD4_Naive-Th0\n",
      "working on CD4_Naive-Th2\n",
      "working on CD4_Naive-Th17\n",
      "working on CD4_Naive-iTreg\n"
     ]
    }
   ],
   "source": [
    "def safe_fdr(x):\n",
    "    fdr = np.ones(x.shape[0])\n",
    "    _, fdr[np.isfinite(x)] = fdrcorrection(x[np.isfinite(x)])\n",
    "    return fdr\n",
    "\n",
    "for dataset in datasets:\n",
    "    for trial in range(1,2):\n",
    "        print('working on', dataset)\n",
    "\n",
    "        # stim = file.split('-')[-1]\n",
    "\n",
    "        adata = sc.read_h5ad(data_path + 'single_cell/{}_{}.h5ad'.format(dataset, trial))\n",
    "        labels = adata.obs['cytokine.condition'].drop_duplicates().tolist()\n",
    "\n",
    "        data1 = adata[adata.obs['cytokine.condition'] ==labels[0]].X.todense()\n",
    "        data2 = adata[adata.obs['cytokine.condition'] ==labels[1]].X.todense()\n",
    "\n",
    "        statistic, pvalue = stats.ttest_ind(data1, data2, axis=0)\n",
    "\n",
    "        logfc = data1.mean(axis=0) - data2.mean(axis=0)\n",
    "\n",
    "        ttest_result = pd.DataFrame(\n",
    "            zip(logfc.A1, pvalue, safe_fdr(pvalue)), \n",
    "            index=adata.var.index,\n",
    "            columns=['logFC', 'PValue', 'FDR'])\n",
    "        ttest_result.to_csv(data_path + 'sc_results/{}_{}_t-test.csv'.format(dataset, trial))\n",
    "\n",
    "        mwu_stat, mwu_pval = stats.mannwhitneyu(data1, data2, axis=0)\n",
    "        mwu_result = pd.DataFrame(\n",
    "            zip(logfc.A1, mwu_pval, safe_fdr(mwu_pval)), \n",
    "            index=adata.var.index,\n",
    "            columns=['logFC', 'PValue', 'FDR'])\n",
    "        mwu_result.to_csv(data_path + 'sc_results/{}_{}_MWU.csv'.format(dataset, trial))"
   ]
  },
  {
   "cell_type": "code",
   "execution_count": 70,
   "id": "7b6f2627-8f2e-46fa-9233-8b2f0855e24e",
   "metadata": {},
   "outputs": [
    {
     "data": {
      "text/plain": [
       "DesignMatrix with shape (7, 5)\n",
       "  Intercept  ind[T.D2]  ind[T.D3]  ind[T.D4]  ct\n",
       "          1          0          0          0   1\n",
       "          1          0          0          0   0\n",
       "          1          1          0          0   0\n",
       "          1          0          1          0   1\n",
       "          1          0          1          0   0\n",
       "          1          0          0          1   1\n",
       "          1          0          0          1   0\n",
       "  Terms:\n",
       "    'Intercept' (column 0)\n",
       "    'ind' (columns 1:4)\n",
       "    'ct' (column 4)"
      ]
     },
     "execution_count": 70,
     "metadata": {},
     "output_type": "execute_result"
    }
   ],
   "source": [
    "design"
   ]
  },
  {
   "cell_type": "code",
   "execution_count": 52,
   "id": "4cd4e684-0d9a-4d1a-a1bc-a83825097aa9",
   "metadata": {},
   "outputs": [
    {
     "data": {
      "text/plain": [
       "array([20453175.08590253,  3857003.2564052 , 20857495.18365347,\n",
       "        2338389.72324883, 18823216.80367367,  3732974.70533321,\n",
       "       28151555.14636867,  2354873.10729187])"
      ]
     },
     "execution_count": 52,
     "metadata": {},
     "output_type": "execute_result"
    }
   ],
   "source": [
    "totals"
   ]
  },
  {
   "cell_type": "code",
   "execution_count": 53,
   "id": "49662e2c-c7ca-45a9-83e5-9bfeba4ead6d",
   "metadata": {},
   "outputs": [
    {
     "data": {
      "text/plain": [
       "'CD4_Memory-Th0'"
      ]
     },
     "execution_count": 53,
     "metadata": {},
     "output_type": "execute_result"
    }
   ],
   "source": [
    "dataset"
   ]
  },
  {
   "cell_type": "code",
   "execution_count": 54,
   "id": "04ae7b9e-867e-4fe1-8aa8-afbed2a78d5e",
   "metadata": {},
   "outputs": [
    {
     "data": {
      "text/plain": [
       "9519"
      ]
     },
     "execution_count": 54,
     "metadata": {},
     "output_type": "execute_result"
    }
   ],
   "source": [
    "idx"
   ]
  },
  {
   "cell_type": "code",
   "execution_count": 56,
   "id": "82fee0f5-162d-4007-b519-127c0d7fe5b7",
   "metadata": {},
   "outputs": [
    {
     "data": {
      "text/plain": [
       "0    483.093552\n",
       "1      5.394017\n",
       "2     38.001428\n",
       "3     97.792908\n",
       "4     27.311584\n",
       "5     13.206822\n",
       "6     33.470755\n",
       "7     79.735536\n",
       "Name: MTRNR2L1, dtype: float64"
      ]
     },
     "execution_count": 56,
     "metadata": {},
     "output_type": "execute_result"
    }
   ],
   "source": [
    "scaled_means.iloc[:, idx]"
   ]
  },
  {
   "cell_type": "code",
   "execution_count": 33,
   "id": "0287958f-b683-49a0-b884-e703151754db",
   "metadata": {},
   "outputs": [
    {
     "data": {
      "text/plain": [
       "DesignMatrix with shape (8, 5)\n",
       "  Intercept  ind[T.D2]  ind[T.D3]  ind[T.D4]  ct\n",
       "          1          0          0          0   1\n",
       "          1          0          0          0   0\n",
       "          1          1          0          0   1\n",
       "          1          1          0          0   0\n",
       "          1          0          1          0   1\n",
       "          1          0          1          0   0\n",
       "          1          0          0          1   1\n",
       "          1          0          0          1   0\n",
       "  Terms:\n",
       "    'Intercept' (column 0)\n",
       "    'ind' (columns 1:4)\n",
       "    'ct' (column 4)"
      ]
     },
     "execution_count": 33,
     "metadata": {},
     "output_type": "execute_result"
    }
   ],
   "source": [
    "design"
   ]
  },
  {
   "cell_type": "code",
   "execution_count": 36,
   "id": "76ad617b-360a-4b85-9918-f383609898ec",
   "metadata": {},
   "outputs": [
    {
     "data": {
      "text/html": [
       "<div>\n",
       "<style scoped>\n",
       "    .dataframe tbody tr th:only-of-type {\n",
       "        vertical-align: middle;\n",
       "    }\n",
       "\n",
       "    .dataframe tbody tr th {\n",
       "        vertical-align: top;\n",
       "    }\n",
       "\n",
       "    .dataframe thead th {\n",
       "        text-align: right;\n",
       "    }\n",
       "</style>\n",
       "<table border=\"1\" class=\"dataframe\">\n",
       "  <thead>\n",
       "    <tr style=\"text-align: right;\">\n",
       "      <th>Gene</th>\n",
       "      <th>FO538757.2</th>\n",
       "      <th>AP006222.2</th>\n",
       "      <th>RP11-206L10.9</th>\n",
       "      <th>NOC2L</th>\n",
       "      <th>ISG15</th>\n",
       "      <th>SDF4</th>\n",
       "      <th>B3GALT6</th>\n",
       "      <th>UBE2J2</th>\n",
       "      <th>ACAP3</th>\n",
       "      <th>CPSF3L</th>\n",
       "      <th>...</th>\n",
       "      <th>MT-ATP8</th>\n",
       "      <th>MT-ATP6</th>\n",
       "      <th>MT-CO3</th>\n",
       "      <th>MT-ND3</th>\n",
       "      <th>MT-ND4L</th>\n",
       "      <th>MT-ND4</th>\n",
       "      <th>MT-ND5</th>\n",
       "      <th>MT-ND6</th>\n",
       "      <th>MT-CYB</th>\n",
       "      <th>AL592183.1</th>\n",
       "    </tr>\n",
       "  </thead>\n",
       "  <tbody>\n",
       "    <tr>\n",
       "      <th>0</th>\n",
       "      <td>0.175882</td>\n",
       "      <td>0.189918</td>\n",
       "      <td>0.316612</td>\n",
       "      <td>0.107929</td>\n",
       "      <td>0.003255</td>\n",
       "      <td>0.106241</td>\n",
       "      <td>0.548434</td>\n",
       "      <td>0.129368</td>\n",
       "      <td>0.240060</td>\n",
       "      <td>0.125772</td>\n",
       "      <td>...</td>\n",
       "      <td>0.498434</td>\n",
       "      <td>0.004245</td>\n",
       "      <td>0.002694</td>\n",
       "      <td>0.008942</td>\n",
       "      <td>0.041943</td>\n",
       "      <td>0.002243</td>\n",
       "      <td>0.014872</td>\n",
       "      <td>0.029733</td>\n",
       "      <td>0.006323</td>\n",
       "      <td>0.269635</td>\n",
       "    </tr>\n",
       "    <tr>\n",
       "      <th>1</th>\n",
       "      <td>0.526103</td>\n",
       "      <td>0.430368</td>\n",
       "      <td>0.481983</td>\n",
       "      <td>0.340468</td>\n",
       "      <td>0.197334</td>\n",
       "      <td>0.256486</td>\n",
       "      <td>0.614926</td>\n",
       "      <td>0.253410</td>\n",
       "      <td>0.547080</td>\n",
       "      <td>0.292842</td>\n",
       "      <td>...</td>\n",
       "      <td>0.543599</td>\n",
       "      <td>0.023869</td>\n",
       "      <td>0.015807</td>\n",
       "      <td>0.026462</td>\n",
       "      <td>0.106650</td>\n",
       "      <td>0.018694</td>\n",
       "      <td>0.068735</td>\n",
       "      <td>0.160795</td>\n",
       "      <td>0.025417</td>\n",
       "      <td>0.477404</td>\n",
       "    </tr>\n",
       "    <tr>\n",
       "      <th>2</th>\n",
       "      <td>NaN</td>\n",
       "      <td>NaN</td>\n",
       "      <td>NaN</td>\n",
       "      <td>NaN</td>\n",
       "      <td>NaN</td>\n",
       "      <td>NaN</td>\n",
       "      <td>NaN</td>\n",
       "      <td>NaN</td>\n",
       "      <td>NaN</td>\n",
       "      <td>NaN</td>\n",
       "      <td>...</td>\n",
       "      <td>NaN</td>\n",
       "      <td>NaN</td>\n",
       "      <td>NaN</td>\n",
       "      <td>NaN</td>\n",
       "      <td>NaN</td>\n",
       "      <td>NaN</td>\n",
       "      <td>NaN</td>\n",
       "      <td>NaN</td>\n",
       "      <td>NaN</td>\n",
       "      <td>NaN</td>\n",
       "    </tr>\n",
       "    <tr>\n",
       "      <th>3</th>\n",
       "      <td>0.231916</td>\n",
       "      <td>0.599702</td>\n",
       "      <td>1.028791</td>\n",
       "      <td>0.245167</td>\n",
       "      <td>0.149812</td>\n",
       "      <td>0.271725</td>\n",
       "      <td>0.574552</td>\n",
       "      <td>0.281538</td>\n",
       "      <td>0.316310</td>\n",
       "      <td>0.341576</td>\n",
       "      <td>...</td>\n",
       "      <td>0.342683</td>\n",
       "      <td>0.020453</td>\n",
       "      <td>0.019116</td>\n",
       "      <td>0.023989</td>\n",
       "      <td>0.120082</td>\n",
       "      <td>0.021157</td>\n",
       "      <td>0.090077</td>\n",
       "      <td>0.171027</td>\n",
       "      <td>0.030226</td>\n",
       "      <td>0.303191</td>\n",
       "    </tr>\n",
       "    <tr>\n",
       "      <th>4</th>\n",
       "      <td>0.192648</td>\n",
       "      <td>0.137048</td>\n",
       "      <td>0.601480</td>\n",
       "      <td>0.114311</td>\n",
       "      <td>0.002999</td>\n",
       "      <td>0.085146</td>\n",
       "      <td>0.287437</td>\n",
       "      <td>0.161695</td>\n",
       "      <td>0.216897</td>\n",
       "      <td>0.133580</td>\n",
       "      <td>...</td>\n",
       "      <td>0.347202</td>\n",
       "      <td>0.006053</td>\n",
       "      <td>0.002958</td>\n",
       "      <td>0.010878</td>\n",
       "      <td>0.053367</td>\n",
       "      <td>0.002908</td>\n",
       "      <td>0.019480</td>\n",
       "      <td>0.041335</td>\n",
       "      <td>0.009147</td>\n",
       "      <td>0.249143</td>\n",
       "    </tr>\n",
       "    <tr>\n",
       "      <th>5</th>\n",
       "      <td>0.344229</td>\n",
       "      <td>0.467455</td>\n",
       "      <td>0.649016</td>\n",
       "      <td>0.249929</td>\n",
       "      <td>0.200633</td>\n",
       "      <td>0.234944</td>\n",
       "      <td>0.575523</td>\n",
       "      <td>0.252357</td>\n",
       "      <td>0.465758</td>\n",
       "      <td>0.324595</td>\n",
       "      <td>...</td>\n",
       "      <td>0.504536</td>\n",
       "      <td>0.019205</td>\n",
       "      <td>0.015615</td>\n",
       "      <td>0.022688</td>\n",
       "      <td>0.128699</td>\n",
       "      <td>0.018262</td>\n",
       "      <td>0.083069</td>\n",
       "      <td>0.200419</td>\n",
       "      <td>0.023527</td>\n",
       "      <td>0.469300</td>\n",
       "    </tr>\n",
       "    <tr>\n",
       "      <th>6</th>\n",
       "      <td>0.156977</td>\n",
       "      <td>0.142387</td>\n",
       "      <td>0.228027</td>\n",
       "      <td>0.106110</td>\n",
       "      <td>0.003479</td>\n",
       "      <td>0.088724</td>\n",
       "      <td>0.324586</td>\n",
       "      <td>0.127284</td>\n",
       "      <td>0.322641</td>\n",
       "      <td>0.131425</td>\n",
       "      <td>...</td>\n",
       "      <td>0.331563</td>\n",
       "      <td>0.005402</td>\n",
       "      <td>0.002544</td>\n",
       "      <td>0.009792</td>\n",
       "      <td>0.062447</td>\n",
       "      <td>0.002610</td>\n",
       "      <td>0.018423</td>\n",
       "      <td>0.018876</td>\n",
       "      <td>0.008590</td>\n",
       "      <td>0.220013</td>\n",
       "    </tr>\n",
       "    <tr>\n",
       "      <th>7</th>\n",
       "      <td>0.297986</td>\n",
       "      <td>0.586409</td>\n",
       "      <td>0.769669</td>\n",
       "      <td>0.228430</td>\n",
       "      <td>0.168349</td>\n",
       "      <td>0.234615</td>\n",
       "      <td>0.438616</td>\n",
       "      <td>0.184553</td>\n",
       "      <td>0.436684</td>\n",
       "      <td>0.331795</td>\n",
       "      <td>...</td>\n",
       "      <td>0.500247</td>\n",
       "      <td>0.025498</td>\n",
       "      <td>0.027182</td>\n",
       "      <td>0.033474</td>\n",
       "      <td>0.206970</td>\n",
       "      <td>0.023675</td>\n",
       "      <td>0.104392</td>\n",
       "      <td>0.292843</td>\n",
       "      <td>0.044026</td>\n",
       "      <td>0.289309</td>\n",
       "    </tr>\n",
       "  </tbody>\n",
       "</table>\n",
       "<p>8 rows × 7396 columns</p>\n",
       "</div>"
      ],
      "text/plain": [
       "Gene  FO538757.2  AP006222.2  RP11-206L10.9     NOC2L     ISG15      SDF4   \n",
       "0       0.175882    0.189918       0.316612  0.107929  0.003255  0.106241  \\\n",
       "1       0.526103    0.430368       0.481983  0.340468  0.197334  0.256486   \n",
       "2            NaN         NaN            NaN       NaN       NaN       NaN   \n",
       "3       0.231916    0.599702       1.028791  0.245167  0.149812  0.271725   \n",
       "4       0.192648    0.137048       0.601480  0.114311  0.002999  0.085146   \n",
       "5       0.344229    0.467455       0.649016  0.249929  0.200633  0.234944   \n",
       "6       0.156977    0.142387       0.228027  0.106110  0.003479  0.088724   \n",
       "7       0.297986    0.586409       0.769669  0.228430  0.168349  0.234615   \n",
       "\n",
       "Gene   B3GALT6    UBE2J2     ACAP3    CPSF3L  ...   MT-ATP8   MT-ATP6   \n",
       "0     0.548434  0.129368  0.240060  0.125772  ...  0.498434  0.004245  \\\n",
       "1     0.614926  0.253410  0.547080  0.292842  ...  0.543599  0.023869   \n",
       "2          NaN       NaN       NaN       NaN  ...       NaN       NaN   \n",
       "3     0.574552  0.281538  0.316310  0.341576  ...  0.342683  0.020453   \n",
       "4     0.287437  0.161695  0.216897  0.133580  ...  0.347202  0.006053   \n",
       "5     0.575523  0.252357  0.465758  0.324595  ...  0.504536  0.019205   \n",
       "6     0.324586  0.127284  0.322641  0.131425  ...  0.331563  0.005402   \n",
       "7     0.438616  0.184553  0.436684  0.331795  ...  0.500247  0.025498   \n",
       "\n",
       "Gene    MT-CO3    MT-ND3   MT-ND4L    MT-ND4    MT-ND5    MT-ND6    MT-CYB   \n",
       "0     0.002694  0.008942  0.041943  0.002243  0.014872  0.029733  0.006323  \\\n",
       "1     0.015807  0.026462  0.106650  0.018694  0.068735  0.160795  0.025417   \n",
       "2          NaN       NaN       NaN       NaN       NaN       NaN       NaN   \n",
       "3     0.019116  0.023989  0.120082  0.021157  0.090077  0.171027  0.030226   \n",
       "4     0.002958  0.010878  0.053367  0.002908  0.019480  0.041335  0.009147   \n",
       "5     0.015615  0.022688  0.128699  0.018262  0.083069  0.200419  0.023527   \n",
       "6     0.002544  0.009792  0.062447  0.002610  0.018423  0.018876  0.008590   \n",
       "7     0.027182  0.033474  0.206970  0.023675  0.104392  0.292843  0.044026   \n",
       "\n",
       "Gene  AL592183.1  \n",
       "0       0.269635  \n",
       "1       0.477404  \n",
       "2            NaN  \n",
       "3       0.303191  \n",
       "4       0.249143  \n",
       "5       0.469300  \n",
       "6       0.220013  \n",
       "7       0.289309  \n",
       "\n",
       "[8 rows x 7396 columns]"
      ]
     },
     "execution_count": 36,
     "metadata": {},
     "output_type": "execute_result"
    }
   ],
   "source": [
    "weights"
   ]
  },
  {
   "cell_type": "code",
   "execution_count": 35,
   "id": "f50d8181-0fde-4c10-a3e4-0489c2c19c28",
   "metadata": {},
   "outputs": [
    {
     "data": {
      "text/html": [
       "<div>\n",
       "<style scoped>\n",
       "    .dataframe tbody tr th:only-of-type {\n",
       "        vertical-align: middle;\n",
       "    }\n",
       "\n",
       "    .dataframe tbody tr th {\n",
       "        vertical-align: top;\n",
       "    }\n",
       "\n",
       "    .dataframe thead th {\n",
       "        text-align: right;\n",
       "    }\n",
       "</style>\n",
       "<table border=\"1\" class=\"dataframe\">\n",
       "  <thead>\n",
       "    <tr style=\"text-align: right;\">\n",
       "      <th>Gene</th>\n",
       "      <th>FO538757.2</th>\n",
       "      <th>AP006222.2</th>\n",
       "      <th>RP11-206L10.9</th>\n",
       "      <th>NOC2L</th>\n",
       "      <th>ISG15</th>\n",
       "      <th>SDF4</th>\n",
       "      <th>B3GALT6</th>\n",
       "      <th>UBE2J2</th>\n",
       "      <th>ACAP3</th>\n",
       "      <th>CPSF3L</th>\n",
       "      <th>...</th>\n",
       "      <th>MT-ATP8</th>\n",
       "      <th>MT-ATP6</th>\n",
       "      <th>MT-CO3</th>\n",
       "      <th>MT-ND3</th>\n",
       "      <th>MT-ND4L</th>\n",
       "      <th>MT-ND4</th>\n",
       "      <th>MT-ND5</th>\n",
       "      <th>MT-ND6</th>\n",
       "      <th>MT-CYB</th>\n",
       "      <th>AL592183.1</th>\n",
       "    </tr>\n",
       "  </thead>\n",
       "  <tbody>\n",
       "    <tr>\n",
       "      <th>0</th>\n",
       "      <td>26.580271</td>\n",
       "      <td>28.477228</td>\n",
       "      <td>9.166770</td>\n",
       "      <td>61.244877</td>\n",
       "      <td>2697.981470</td>\n",
       "      <td>75.121549</td>\n",
       "      <td>5.971062</td>\n",
       "      <td>65.909435</td>\n",
       "      <td>14.915811</td>\n",
       "      <td>58.012672</td>\n",
       "      <td>...</td>\n",
       "      <td>4.814692</td>\n",
       "      <td>2940.712183</td>\n",
       "      <td>5129.097175</td>\n",
       "      <td>1668.880278</td>\n",
       "      <td>232.469719</td>\n",
       "      <td>8195.446272</td>\n",
       "      <td>955.358719</td>\n",
       "      <td>407.607758</td>\n",
       "      <td>1771.489970</td>\n",
       "      <td>10.352074</td>\n",
       "    </tr>\n",
       "    <tr>\n",
       "      <th>1</th>\n",
       "      <td>4.868210</td>\n",
       "      <td>6.125504</td>\n",
       "      <td>3.584307</td>\n",
       "      <td>11.227320</td>\n",
       "      <td>26.416029</td>\n",
       "      <td>16.241032</td>\n",
       "      <td>2.029506</td>\n",
       "      <td>14.919105</td>\n",
       "      <td>3.415609</td>\n",
       "      <td>10.540060</td>\n",
       "      <td>...</td>\n",
       "      <td>3.372572</td>\n",
       "      <td>1004.991345</td>\n",
       "      <td>1341.521078</td>\n",
       "      <td>721.203308</td>\n",
       "      <td>71.888429</td>\n",
       "      <td>1340.550952</td>\n",
       "      <td>159.763806</td>\n",
       "      <td>21.336843</td>\n",
       "      <td>665.023269</td>\n",
       "      <td>4.356726</td>\n",
       "    </tr>\n",
       "    <tr>\n",
       "      <th>2</th>\n",
       "      <td>0.000000</td>\n",
       "      <td>0.000000</td>\n",
       "      <td>0.000000</td>\n",
       "      <td>0.000000</td>\n",
       "      <td>0.000000</td>\n",
       "      <td>0.000000</td>\n",
       "      <td>0.000000</td>\n",
       "      <td>0.000000</td>\n",
       "      <td>0.000000</td>\n",
       "      <td>0.000000</td>\n",
       "      <td>...</td>\n",
       "      <td>0.000000</td>\n",
       "      <td>0.000000</td>\n",
       "      <td>0.000000</td>\n",
       "      <td>0.000000</td>\n",
       "      <td>0.000000</td>\n",
       "      <td>0.000000</td>\n",
       "      <td>0.000000</td>\n",
       "      <td>0.000000</td>\n",
       "      <td>0.000000</td>\n",
       "      <td>0.000000</td>\n",
       "    </tr>\n",
       "    <tr>\n",
       "      <th>3</th>\n",
       "      <td>17.255712</td>\n",
       "      <td>3.268531</td>\n",
       "      <td>1.325556</td>\n",
       "      <td>18.871645</td>\n",
       "      <td>31.905155</td>\n",
       "      <td>14.801774</td>\n",
       "      <td>3.270195</td>\n",
       "      <td>13.114347</td>\n",
       "      <td>11.206776</td>\n",
       "      <td>9.282823</td>\n",
       "      <td>...</td>\n",
       "      <td>4.583885</td>\n",
       "      <td>1282.449598</td>\n",
       "      <td>1276.416181</td>\n",
       "      <td>940.002858</td>\n",
       "      <td>64.778586</td>\n",
       "      <td>1403.387756</td>\n",
       "      <td>128.267884</td>\n",
       "      <td>29.519061</td>\n",
       "      <td>647.627624</td>\n",
       "      <td>11.010394</td>\n",
       "    </tr>\n",
       "    <tr>\n",
       "      <th>4</th>\n",
       "      <td>26.458071</td>\n",
       "      <td>43.504049</td>\n",
       "      <td>4.031524</td>\n",
       "      <td>55.580922</td>\n",
       "      <td>1589.492575</td>\n",
       "      <td>92.912437</td>\n",
       "      <td>7.028116</td>\n",
       "      <td>39.399254</td>\n",
       "      <td>11.581210</td>\n",
       "      <td>40.899940</td>\n",
       "      <td>...</td>\n",
       "      <td>8.438977</td>\n",
       "      <td>2053.291805</td>\n",
       "      <td>4556.550603</td>\n",
       "      <td>1294.327374</td>\n",
       "      <td>181.557757</td>\n",
       "      <td>6514.940799</td>\n",
       "      <td>645.908046</td>\n",
       "      <td>332.822909</td>\n",
       "      <td>1337.246263</td>\n",
       "      <td>12.615007</td>\n",
       "    </tr>\n",
       "    <tr>\n",
       "      <th>5</th>\n",
       "      <td>10.040101</td>\n",
       "      <td>5.843941</td>\n",
       "      <td>2.379377</td>\n",
       "      <td>19.219009</td>\n",
       "      <td>25.112033</td>\n",
       "      <td>17.072694</td>\n",
       "      <td>3.291453</td>\n",
       "      <td>13.533838</td>\n",
       "      <td>5.177834</td>\n",
       "      <td>10.916390</td>\n",
       "      <td>...</td>\n",
       "      <td>4.919544</td>\n",
       "      <td>1586.017112</td>\n",
       "      <td>1694.755920</td>\n",
       "      <td>1058.400092</td>\n",
       "      <td>72.493620</td>\n",
       "      <td>1589.525898</td>\n",
       "      <td>123.865474</td>\n",
       "      <td>24.355055</td>\n",
       "      <td>939.636343</td>\n",
       "      <td>5.936413</td>\n",
       "    </tr>\n",
       "    <tr>\n",
       "      <th>6</th>\n",
       "      <td>34.059567</td>\n",
       "      <td>38.519652</td>\n",
       "      <td>10.149671</td>\n",
       "      <td>65.786875</td>\n",
       "      <td>4214.179649</td>\n",
       "      <td>77.141735</td>\n",
       "      <td>8.853274</td>\n",
       "      <td>61.929655</td>\n",
       "      <td>10.444494</td>\n",
       "      <td>51.991910</td>\n",
       "      <td>...</td>\n",
       "      <td>6.949855</td>\n",
       "      <td>2122.180282</td>\n",
       "      <td>4317.609648</td>\n",
       "      <td>1506.982087</td>\n",
       "      <td>128.724081</td>\n",
       "      <td>6230.474109</td>\n",
       "      <td>705.383229</td>\n",
       "      <td>618.772160</td>\n",
       "      <td>1290.068124</td>\n",
       "      <td>15.268535</td>\n",
       "    </tr>\n",
       "    <tr>\n",
       "      <th>7</th>\n",
       "      <td>11.918690</td>\n",
       "      <td>3.287267</td>\n",
       "      <td>2.234547</td>\n",
       "      <td>21.990299</td>\n",
       "      <td>29.492231</td>\n",
       "      <td>18.695332</td>\n",
       "      <td>4.567248</td>\n",
       "      <td>20.479965</td>\n",
       "      <td>6.135121</td>\n",
       "      <td>10.946109</td>\n",
       "      <td>...</td>\n",
       "      <td>4.302498</td>\n",
       "      <td>712.513564</td>\n",
       "      <td>860.598315</td>\n",
       "      <td>537.503477</td>\n",
       "      <td>23.761321</td>\n",
       "      <td>844.195493</td>\n",
       "      <td>91.123197</td>\n",
       "      <td>12.288590</td>\n",
       "      <td>384.408625</td>\n",
       "      <td>11.262069</td>\n",
       "    </tr>\n",
       "  </tbody>\n",
       "</table>\n",
       "<p>8 rows × 7396 columns</p>\n",
       "</div>"
      ],
      "text/plain": [
       "Gene  FO538757.2  AP006222.2  RP11-206L10.9      NOC2L        ISG15   \n",
       "0      26.580271   28.477228       9.166770  61.244877  2697.981470  \\\n",
       "1       4.868210    6.125504       3.584307  11.227320    26.416029   \n",
       "2       0.000000    0.000000       0.000000   0.000000     0.000000   \n",
       "3      17.255712    3.268531       1.325556  18.871645    31.905155   \n",
       "4      26.458071   43.504049       4.031524  55.580922  1589.492575   \n",
       "5      10.040101    5.843941       2.379377  19.219009    25.112033   \n",
       "6      34.059567   38.519652      10.149671  65.786875  4214.179649   \n",
       "7      11.918690    3.287267       2.234547  21.990299    29.492231   \n",
       "\n",
       "Gene       SDF4   B3GALT6     UBE2J2      ACAP3     CPSF3L  ...   MT-ATP8   \n",
       "0     75.121549  5.971062  65.909435  14.915811  58.012672  ...  4.814692  \\\n",
       "1     16.241032  2.029506  14.919105   3.415609  10.540060  ...  3.372572   \n",
       "2      0.000000  0.000000   0.000000   0.000000   0.000000  ...  0.000000   \n",
       "3     14.801774  3.270195  13.114347  11.206776   9.282823  ...  4.583885   \n",
       "4     92.912437  7.028116  39.399254  11.581210  40.899940  ...  8.438977   \n",
       "5     17.072694  3.291453  13.533838   5.177834  10.916390  ...  4.919544   \n",
       "6     77.141735  8.853274  61.929655  10.444494  51.991910  ...  6.949855   \n",
       "7     18.695332  4.567248  20.479965   6.135121  10.946109  ...  4.302498   \n",
       "\n",
       "Gene      MT-ATP6       MT-CO3       MT-ND3     MT-ND4L       MT-ND4   \n",
       "0     2940.712183  5129.097175  1668.880278  232.469719  8195.446272  \\\n",
       "1     1004.991345  1341.521078   721.203308   71.888429  1340.550952   \n",
       "2        0.000000     0.000000     0.000000    0.000000     0.000000   \n",
       "3     1282.449598  1276.416181   940.002858   64.778586  1403.387756   \n",
       "4     2053.291805  4556.550603  1294.327374  181.557757  6514.940799   \n",
       "5     1586.017112  1694.755920  1058.400092   72.493620  1589.525898   \n",
       "6     2122.180282  4317.609648  1506.982087  128.724081  6230.474109   \n",
       "7      712.513564   860.598315   537.503477   23.761321   844.195493   \n",
       "\n",
       "Gene      MT-ND5      MT-ND6       MT-CYB  AL592183.1  \n",
       "0     955.358719  407.607758  1771.489970   10.352074  \n",
       "1     159.763806   21.336843   665.023269    4.356726  \n",
       "2       0.000000    0.000000     0.000000    0.000000  \n",
       "3     128.267884   29.519061   647.627624   11.010394  \n",
       "4     645.908046  332.822909  1337.246263   12.615007  \n",
       "5     123.865474   24.355055   939.636343    5.936413  \n",
       "6     705.383229  618.772160  1290.068124   15.268535  \n",
       "7      91.123197   12.288590   384.408625   11.262069  \n",
       "\n",
       "[8 rows x 7396 columns]"
      ]
     },
     "execution_count": 35,
     "metadata": {},
     "output_type": "execute_result"
    }
   ],
   "source": [
    "scaled_means"
   ]
  },
  {
   "cell_type": "code",
   "execution_count": 16,
   "id": "c237aac7-ab6e-4906-92b6-f91dca00fe52",
   "metadata": {},
   "outputs": [
    {
     "data": {
      "text/plain": [
       "DesignMatrix with shape (8, 5)\n",
       "  Intercept  ind[T.D2]  ind[T.D3]  ind[T.D4]  ct\n",
       "          1          0          0          0   0\n",
       "          1          0          0          0   0\n",
       "          1          1          0          0   0\n",
       "          1          1          0          0   0\n",
       "          1          0          1          0   0\n",
       "          1          0          1          0   0\n",
       "          1          0          0          1   0\n",
       "          1          0          0          1   0\n",
       "  Terms:\n",
       "    'Intercept' (column 0)\n",
       "    'ind' (columns 1:4)\n",
       "    'ct' (column 4)"
      ]
     },
     "execution_count": 16,
     "metadata": {},
     "output_type": "execute_result"
    }
   ],
   "source": [
    "design"
   ]
  },
  {
   "cell_type": "code",
   "execution_count": null,
   "id": "daf8eb20-e8e8-4940-b6cf-a88d0c6fcf25",
   "metadata": {},
   "outputs": [],
   "source": []
  },
  {
   "cell_type": "code",
   "execution_count": null,
   "id": "d0e940e4-0850-4506-89c1-89eb6eb18301",
   "metadata": {},
   "outputs": [],
   "source": []
  },
  {
   "cell_type": "code",
   "execution_count": null,
   "id": "fc262cd6-2938-4eff-ab7d-61ac5a290b22",
   "metadata": {},
   "outputs": [],
   "source": []
  },
  {
   "cell_type": "code",
   "execution_count": null,
   "id": "d1fb3e23-bde7-481d-852f-36328519b76c",
   "metadata": {},
   "outputs": [],
   "source": []
  },
  {
   "cell_type": "code",
   "execution_count": null,
   "id": "b45389ca-fbca-4e6e-90b2-8771e87be96b",
   "metadata": {},
   "outputs": [],
   "source": []
  },
  {
   "cell_type": "code",
   "execution_count": null,
   "id": "00f7391c-b2d6-4d29-9f83-2c8598df1091",
   "metadata": {},
   "outputs": [],
   "source": []
  },
  {
   "cell_type": "markdown",
   "id": "9d0f57a9-9eab-49d4-bc2f-636943853bdc",
   "metadata": {},
   "source": [
    "### Use the sampling dispersions directly and compute log-likelihood"
   ]
  },
  {
   "cell_type": "code",
   "execution_count": 118,
   "id": "a12324d8-27e0-40e5-8630-b4411492eb94",
   "metadata": {},
   "outputs": [
    {
     "name": "stdout",
     "output_type": "stream",
     "text": [
      "working on Hagai2018_mouse-lps\n",
      "working on Hagai2018_mouse-pic\n",
      "working on Hagai2018_pig-lps\n",
      "working on Hagai2018_rabbit-lps\n",
      "working on Hagai2018_rat-lps\n",
      "working on Hagai2018_rat-pic\n"
     ]
    }
   ],
   "source": [
    "# Add the average sampling dispersion to edgeR dispersion\n",
    "def _ll_nbin(fit, alpha):\n",
    "    \n",
    "    gamma_ln = gammaln\n",
    "    endog = fit.model.endog\n",
    "    mu = fit.predict()\n",
    "    size = 1/alpha\n",
    "    prob = size/(size+mu)\n",
    "    coeff = (gamma_ln(size+endog) - gamma_ln(endog+1) -\n",
    "             gamma_ln(size))\n",
    "    llf = coeff + size*np.log(prob) + endog*np.log(1-prob)\n",
    "    return llf.sum()\n",
    "\n",
    "for file in files:\n",
    "    for trial in range(1,2):\n",
    "        print('working on', file)\n",
    "\n",
    "        stim = file.split('-')[-1]\n",
    "\n",
    "        adata = sc.read_h5ad(data_path +'replicates/' + file + '_{}.h5ad'.format(trial))\n",
    "\n",
    "        dispersions = pd.read_csv(data_path + '../results/{}_{}_dispersions.csv'.format(file, trial))\n",
    "        gene_list = dispersions['gene'].tolist()\n",
    "        dispersions = dispersions['dispersion'].tolist()\n",
    "\n",
    "        groups = adata.obs[['replicate', 'label']].drop_duplicates().reset_index()\n",
    "        \n",
    "        expr = []\n",
    "        sampling_dispersions = []\n",
    "        meta = []\n",
    "        for idx, row in groups.iterrows():\n",
    "\n",
    "            ind = row['replicate']\n",
    "            condition = row['label']\n",
    "\n",
    "            # Compute everything\n",
    "            group_adata =  adata[(adata.obs['replicate']==ind) & (adata.obs['label']==condition)].copy()\n",
    "            data = group_adata.X.toarray()\n",
    "            means = data.mean(axis=0)\n",
    "            variances = data.var(axis=0)\n",
    "            count_disp = (variances-means)/(means**2+1e-8)\n",
    "            sum_var = variances*data.shape[0]\n",
    "            sum_disp = count_disp/data.shape[0]\n",
    "            sums = data.sum(axis=0)\n",
    "            \n",
    "            # Gather everything\n",
    "            expr.append(sums)\n",
    "            sampling_dispersions.append(sum_var)\n",
    "            meta.append((ind, int(stim in condition)))\n",
    "            \n",
    "        expr = pd.DataFrame(expr, columns=adata.var.index)\n",
    "        sampling_dispersions = pd.DataFrame(sampling_dispersions, columns=adata.var.index).clip(lower=0)+1e-8\n",
    "        meta = pd.DataFrame(meta, columns=['replicate', 'label'])\n",
    "\n",
    "        # Filter and re-order by gene_list\n",
    "        libsize = expr.values.sum(axis=1)\n",
    "        expr = expr[gene_list]\n",
    "        sampling_dispersions = sampling_dispersions[gene_list]\n",
    "        weights = np.sqrt(1/sampling_dispersions)\n",
    "        weights = weights/weights.values.mean()\n",
    "        \n",
    "        # Compute the dispersions\n",
    "        genewise_additional_disp = dispersions - sampling_dispersions.clip(lower=0).mean(axis=0).values\n",
    "        genewise_additional_disp[genewise_additional_disp < 0] = 1e-8\n",
    "        \n",
    "        # Get the design matrix\n",
    "        design = dmatrix('replicate+label', meta)\n",
    "    \n",
    "        results = []\n",
    "        for idx in range(len(gene_list)):\n",
    "            model = sm.GLM(\n",
    "                expr.iloc[:, [idx]], \n",
    "                design,\n",
    "                var_weights=1/weights.iloc[:, idx],\n",
    "                offset=np.log(libsize),\n",
    "                family=sm.families.NegativeBinomial(alpha=dispersions[idx]))\n",
    "            res_model = sm.GLM(\n",
    "                expr.iloc[:, [idx]], \n",
    "                design[:, :-1] , \n",
    "                var_weights=1/weights.iloc[:, idx],\n",
    "                offset=np.log(libsize),\n",
    "                family=sm.families.NegativeBinomial(alpha=dispersions[idx]))\n",
    "            fit = model.fit()\n",
    "            res_fit = res_model.fit()\n",
    "            \n",
    "            pv = stats.chi2.sf(-2*(res_fit.llf - fit.llf), df=res_fit.df_resid-fit.df_resid)\n",
    "            results.append((fit.params[-1], pv))\n",
    "        results = pd.DataFrame(results, columns=['logFC', 'PValue'], index=gene_list)\n",
    "        _, results['FDR'] = fdrcorrection(results['PValue'])\n",
    "\n",
    "        results.index = gene_list\n",
    "        results.to_csv(data_path + '../results/{}_{}_memento_var_weights.csv'.format(file, trial))\n"
   ]
  },
  {
   "cell_type": "code",
   "execution_count": 116,
   "id": "26eed801-4e90-44d6-a12d-0556b063b7d7",
   "metadata": {},
   "outputs": [
    {
     "data": {
      "text/html": [
       "<div>\n",
       "<style scoped>\n",
       "    .dataframe tbody tr th:only-of-type {\n",
       "        vertical-align: middle;\n",
       "    }\n",
       "\n",
       "    .dataframe tbody tr th {\n",
       "        vertical-align: top;\n",
       "    }\n",
       "\n",
       "    .dataframe thead th {\n",
       "        text-align: right;\n",
       "    }\n",
       "</style>\n",
       "<table border=\"1\" class=\"dataframe\">\n",
       "  <thead>\n",
       "    <tr style=\"text-align: right;\">\n",
       "      <th></th>\n",
       "      <th>0610009B22Rik</th>\n",
       "      <th>0610010F05Rik</th>\n",
       "      <th>0610010K14Rik</th>\n",
       "      <th>0610012G03Rik</th>\n",
       "      <th>0610030E20Rik</th>\n",
       "      <th>0610037L13Rik</th>\n",
       "      <th>1110004F10Rik</th>\n",
       "      <th>1110008P14Rik</th>\n",
       "      <th>1110012L19Rik</th>\n",
       "      <th>1110032A03Rik</th>\n",
       "      <th>...</th>\n",
       "      <th>Zswim8</th>\n",
       "      <th>Zup1</th>\n",
       "      <th>Zw10</th>\n",
       "      <th>Zwint</th>\n",
       "      <th>Zxdb</th>\n",
       "      <th>Zxdc</th>\n",
       "      <th>Zyg11b</th>\n",
       "      <th>Zyx</th>\n",
       "      <th>Zzef1</th>\n",
       "      <th>Zzz3</th>\n",
       "    </tr>\n",
       "  </thead>\n",
       "  <tbody>\n",
       "    <tr>\n",
       "      <th>0</th>\n",
       "      <td>0.648929</td>\n",
       "      <td>1.248106</td>\n",
       "      <td>1.725492</td>\n",
       "      <td>0.102687</td>\n",
       "      <td>0.988816</td>\n",
       "      <td>0.598772</td>\n",
       "      <td>0.091690</td>\n",
       "      <td>0.049313</td>\n",
       "      <td>2.364832</td>\n",
       "      <td>0.952753</td>\n",
       "      <td>...</td>\n",
       "      <td>1.371545</td>\n",
       "      <td>0.510589</td>\n",
       "      <td>5.731099</td>\n",
       "      <td>0.480246</td>\n",
       "      <td>1.165244</td>\n",
       "      <td>3.860122</td>\n",
       "      <td>1.147391</td>\n",
       "      <td>0.017482</td>\n",
       "      <td>0.558576</td>\n",
       "      <td>0.771494</td>\n",
       "    </tr>\n",
       "    <tr>\n",
       "      <th>1</th>\n",
       "      <td>0.232278</td>\n",
       "      <td>0.678318</td>\n",
       "      <td>0.748864</td>\n",
       "      <td>0.089406</td>\n",
       "      <td>1.923451</td>\n",
       "      <td>0.843948</td>\n",
       "      <td>0.096214</td>\n",
       "      <td>0.107431</td>\n",
       "      <td>5.731099</td>\n",
       "      <td>1.021178</td>\n",
       "      <td>...</td>\n",
       "      <td>0.843948</td>\n",
       "      <td>5.731099</td>\n",
       "      <td>1.725492</td>\n",
       "      <td>0.561648</td>\n",
       "      <td>5.731099</td>\n",
       "      <td>1.991659</td>\n",
       "      <td>0.579317</td>\n",
       "      <td>0.203091</td>\n",
       "      <td>0.493756</td>\n",
       "      <td>1.063727</td>\n",
       "    </tr>\n",
       "    <tr>\n",
       "      <th>2</th>\n",
       "      <td>0.442416</td>\n",
       "      <td>0.624053</td>\n",
       "      <td>1.200102</td>\n",
       "      <td>0.056606</td>\n",
       "      <td>0.463406</td>\n",
       "      <td>0.464940</td>\n",
       "      <td>0.065115</td>\n",
       "      <td>0.038944</td>\n",
       "      <td>1.371545</td>\n",
       "      <td>0.993188</td>\n",
       "      <td>...</td>\n",
       "      <td>0.670224</td>\n",
       "      <td>0.620263</td>\n",
       "      <td>5.731099</td>\n",
       "      <td>0.226654</td>\n",
       "      <td>2.364832</td>\n",
       "      <td>1.063727</td>\n",
       "      <td>1.248106</td>\n",
       "      <td>0.064572</td>\n",
       "      <td>0.604247</td>\n",
       "      <td>0.429394</td>\n",
       "    </tr>\n",
       "    <tr>\n",
       "      <th>3</th>\n",
       "      <td>0.221339</td>\n",
       "      <td>0.677092</td>\n",
       "      <td>0.645943</td>\n",
       "      <td>0.025161</td>\n",
       "      <td>0.344675</td>\n",
       "      <td>0.670224</td>\n",
       "      <td>0.109153</td>\n",
       "      <td>0.052246</td>\n",
       "      <td>1.526217</td>\n",
       "      <td>1.063727</td>\n",
       "      <td>...</td>\n",
       "      <td>0.800068</td>\n",
       "      <td>1.470282</td>\n",
       "      <td>0.952753</td>\n",
       "      <td>0.569911</td>\n",
       "      <td>5.731099</td>\n",
       "      <td>0.894343</td>\n",
       "      <td>0.453673</td>\n",
       "      <td>0.220297</td>\n",
       "      <td>0.677092</td>\n",
       "      <td>0.464940</td>\n",
       "    </tr>\n",
       "    <tr>\n",
       "      <th>4</th>\n",
       "      <td>0.404645</td>\n",
       "      <td>0.333223</td>\n",
       "      <td>0.473764</td>\n",
       "      <td>0.068615</td>\n",
       "      <td>0.412370</td>\n",
       "      <td>0.301071</td>\n",
       "      <td>0.074807</td>\n",
       "      <td>0.039276</td>\n",
       "      <td>2.925248</td>\n",
       "      <td>5.731099</td>\n",
       "      <td>...</td>\n",
       "      <td>0.456810</td>\n",
       "      <td>0.545554</td>\n",
       "      <td>5.731099</td>\n",
       "      <td>0.163009</td>\n",
       "      <td>1.991659</td>\n",
       "      <td>1.725492</td>\n",
       "      <td>1.526217</td>\n",
       "      <td>0.049106</td>\n",
       "      <td>0.577827</td>\n",
       "      <td>0.645943</td>\n",
       "    </tr>\n",
       "    <tr>\n",
       "      <th>5</th>\n",
       "      <td>0.315887</td>\n",
       "      <td>0.598772</td>\n",
       "      <td>0.624053</td>\n",
       "      <td>0.032583</td>\n",
       "      <td>0.558576</td>\n",
       "      <td>0.485015</td>\n",
       "      <td>0.084010</td>\n",
       "      <td>0.053756</td>\n",
       "      <td>0.835785</td>\n",
       "      <td>0.697266</td>\n",
       "      <td>...</td>\n",
       "      <td>0.598772</td>\n",
       "      <td>2.925248</td>\n",
       "      <td>1.470282</td>\n",
       "      <td>0.353682</td>\n",
       "      <td>2.364832</td>\n",
       "      <td>1.991659</td>\n",
       "      <td>0.800068</td>\n",
       "      <td>0.124548</td>\n",
       "      <td>0.677092</td>\n",
       "      <td>0.336417</td>\n",
       "    </tr>\n",
       "  </tbody>\n",
       "</table>\n",
       "<p>6 rows × 7927 columns</p>\n",
       "</div>"
      ],
      "text/plain": [
       "   0610009B22Rik  0610010F05Rik  0610010K14Rik  0610012G03Rik  0610030E20Rik   \n",
       "0       0.648929       1.248106       1.725492       0.102687       0.988816  \\\n",
       "1       0.232278       0.678318       0.748864       0.089406       1.923451   \n",
       "2       0.442416       0.624053       1.200102       0.056606       0.463406   \n",
       "3       0.221339       0.677092       0.645943       0.025161       0.344675   \n",
       "4       0.404645       0.333223       0.473764       0.068615       0.412370   \n",
       "5       0.315887       0.598772       0.624053       0.032583       0.558576   \n",
       "\n",
       "   0610037L13Rik  1110004F10Rik  1110008P14Rik  1110012L19Rik  1110032A03Rik   \n",
       "0       0.598772       0.091690       0.049313       2.364832       0.952753  \\\n",
       "1       0.843948       0.096214       0.107431       5.731099       1.021178   \n",
       "2       0.464940       0.065115       0.038944       1.371545       0.993188   \n",
       "3       0.670224       0.109153       0.052246       1.526217       1.063727   \n",
       "4       0.301071       0.074807       0.039276       2.925248       5.731099   \n",
       "5       0.485015       0.084010       0.053756       0.835785       0.697266   \n",
       "\n",
       "   ...    Zswim8      Zup1      Zw10     Zwint      Zxdb      Zxdc    Zyg11b   \n",
       "0  ...  1.371545  0.510589  5.731099  0.480246  1.165244  3.860122  1.147391  \\\n",
       "1  ...  0.843948  5.731099  1.725492  0.561648  5.731099  1.991659  0.579317   \n",
       "2  ...  0.670224  0.620263  5.731099  0.226654  2.364832  1.063727  1.248106   \n",
       "3  ...  0.800068  1.470282  0.952753  0.569911  5.731099  0.894343  0.453673   \n",
       "4  ...  0.456810  0.545554  5.731099  0.163009  1.991659  1.725492  1.526217   \n",
       "5  ...  0.598772  2.925248  1.470282  0.353682  2.364832  1.991659  0.800068   \n",
       "\n",
       "        Zyx     Zzef1      Zzz3  \n",
       "0  0.017482  0.558576  0.771494  \n",
       "1  0.203091  0.493756  1.063727  \n",
       "2  0.064572  0.604247  0.429394  \n",
       "3  0.220297  0.677092  0.464940  \n",
       "4  0.049106  0.577827  0.645943  \n",
       "5  0.124548  0.677092  0.336417  \n",
       "\n",
       "[6 rows x 7927 columns]"
      ]
     },
     "execution_count": 116,
     "metadata": {},
     "output_type": "execute_result"
    }
   ],
   "source": [
    "weights"
   ]
  },
  {
   "cell_type": "code",
   "execution_count": 102,
   "id": "fcea5739-c8d6-4d4e-9d76-c568a07553c8",
   "metadata": {},
   "outputs": [
    {
     "data": {
      "text/plain": [
       "0.9018544215970733"
      ]
     },
     "execution_count": 102,
     "metadata": {},
     "output_type": "execute_result"
    }
   ],
   "source": [
    "(genewise_additional_disp>0).mean()"
   ]
  },
  {
   "cell_type": "code",
   "execution_count": null,
   "id": "c26616b1-f0e9-4d0c-a3d6-4535216262c4",
   "metadata": {},
   "outputs": [],
   "source": []
  },
  {
   "cell_type": "code",
   "execution_count": 85,
   "id": "a5e5701b-9c9c-4471-a86f-ff22a607dce8",
   "metadata": {},
   "outputs": [
    {
     "data": {
      "text/plain": [
       "-17.219189890231956"
      ]
     },
     "execution_count": 85,
     "metadata": {},
     "output_type": "execute_result"
    }
   ],
   "source": [
    "_ll_nbin(fit, dispersions[idx])"
   ]
  },
  {
   "cell_type": "code",
   "execution_count": 86,
   "id": "73a3b026-0af1-45eb-a2ee-522010a800c0",
   "metadata": {},
   "outputs": [
    {
     "data": {
      "text/plain": [
       "-15.515143707455543"
      ]
     },
     "execution_count": 86,
     "metadata": {},
     "output_type": "execute_result"
    }
   ],
   "source": [
    "_ll_nbin(fit, sampling_dispersions.iloc[:, idx].values+1e-8)"
   ]
  },
  {
   "cell_type": "markdown",
   "id": "f4cd5042-cc66-4c38-a8b6-383f31d5c103",
   "metadata": {},
   "source": [
    "### Vanilla (memento)"
   ]
  },
  {
   "cell_type": "code",
   "execution_count": 23,
   "id": "946133d5-2165-42c6-b4c1-aaa5a7283e71",
   "metadata": {
    "tags": []
   },
   "outputs": [
    {
     "name": "stdout",
     "output_type": "stream",
     "text": [
      "working on Hagai2018_mouse-lps\n",
      "working on Hagai2018_mouse-pic\n",
      "working on Hagai2018_pig-lps\n",
      "working on Hagai2018_rabbit-lps\n",
      "working on Hagai2018_rat-lps\n",
      "working on Hagai2018_rat-pic\n"
     ]
    }
   ],
   "source": [
    "# add dispersions\n",
    "\n",
    "for file in files:\n",
    "    for trial in range(1,2):\n",
    "        print('working on', file)\n",
    "\n",
    "        stim = file.split('-')[-1]\n",
    "\n",
    "        adata = sc.read_h5ad(data_path +'replicates/' + file + '_{}.h5ad'.format(trial))\n",
    "\n",
    "        dispersions = pd.read_csv(data_path + '../results/{}_{}_dispersions.csv'.format(file, trial))\n",
    "        gene_list = dispersions['gene'].tolist()\n",
    "        dispersions = dispersions['dispersion'].tolist()\n",
    "\n",
    "        groups = adata.obs[['replicate', 'label']].drop_duplicates().reset_index()\n",
    "        \n",
    "        expr = []\n",
    "        meta = []\n",
    "        for idx, row in groups.iterrows():\n",
    "\n",
    "            ind = row['replicate']\n",
    "            condition = row['label']\n",
    "\n",
    "            # Compute everything\n",
    "            group_adata =  adata[(adata.obs['replicate']==ind) & (adata.obs['label']==condition)].copy()\n",
    "            data = group_adata.X.toarray()\n",
    "            sums = data.sum(axis=0)\n",
    "            \n",
    "            # Gather everything\n",
    "            expr.append(sums) \n",
    "            meta.append((ind, int(stim in condition)))\n",
    "            \n",
    "        expr = pd.DataFrame(expr, columns=adata.var.index)\n",
    "        meta = pd.DataFrame(meta, columns=['replicate', 'label'])\n",
    "\n",
    "        # Filter and re-order by gene_list\n",
    "        libsize = expr.values.sum(axis=1)\n",
    "        expr = expr[gene_list]\n",
    "        \n",
    "        # Get the design matrix\n",
    "        design = dmatrix('replicate+label', meta)\n",
    "\n",
    "\n",
    "        results = []\n",
    "        for idx in range(len(gene_list)):\n",
    "            model = sm.GLM(\n",
    "                expr.iloc[:, [idx]], \n",
    "                design , \n",
    "                offset=np.log(libsize),\n",
    "                family=sm.families.NegativeBinomial(alpha=dispersions[idx]))\n",
    "            res_model = sm.GLM(\n",
    "                expr.iloc[:, [idx]], design[:, :-1] , \n",
    "                offset=np.log(libsize),\n",
    "                family=sm.families.NegativeBinomial(alpha=dispersions[idx]))\n",
    "            fit = model.fit()\n",
    "            res_fit = res_model.fit()\n",
    "            pv = stats.chi2.sf(-2*(res_fit.llf - fit.llf), df=res_fit.df_resid-fit.df_resid)\n",
    "            results.append((fit.params[-1], pv))\n",
    "        results = pd.DataFrame(results, columns=['logFC', 'PValue'], index=gene_list)\n",
    "        _, results['FDR'] = fdrcorrection(results['PValue'])\n",
    "\n",
    "        results.index = gene_list\n",
    "        results.to_csv(data_path + '../results/{}_{}_memento.csv'.format(file, trial))\n"
   ]
  },
  {
   "cell_type": "code",
   "execution_count": 61,
   "id": "4ff85ff9-40c2-494f-a3b2-3278a9ee0664",
   "metadata": {},
   "outputs": [
    {
     "data": {
      "text/plain": [
       "array([23.08607315, 25.85243233, 31.22370082, 37.75068135, 14.93534009,\n",
       "       26.36355818])"
      ]
     },
     "execution_count": 61,
     "metadata": {},
     "output_type": "execute_result"
    }
   ],
   "source": [
    "fit.predict(design)*libsize"
   ]
  },
  {
   "cell_type": "code",
   "execution_count": 62,
   "id": "2af517b6-8888-4a5c-9fb9-57fd7aa2dae1",
   "metadata": {},
   "outputs": [
    {
     "data": {
      "text/html": [
       "<div>\n",
       "<style scoped>\n",
       "    .dataframe tbody tr th:only-of-type {\n",
       "        vertical-align: middle;\n",
       "    }\n",
       "\n",
       "    .dataframe tbody tr th {\n",
       "        vertical-align: top;\n",
       "    }\n",
       "\n",
       "    .dataframe thead th {\n",
       "        text-align: right;\n",
       "    }\n",
       "</style>\n",
       "<table border=\"1\" class=\"dataframe\">\n",
       "  <thead>\n",
       "    <tr style=\"text-align: right;\">\n",
       "      <th></th>\n",
       "      <th>Zzz3</th>\n",
       "    </tr>\n",
       "  </thead>\n",
       "  <tbody>\n",
       "    <tr>\n",
       "      <th>0</th>\n",
       "      <td>22.0</td>\n",
       "    </tr>\n",
       "    <tr>\n",
       "      <th>1</th>\n",
       "      <td>27.0</td>\n",
       "    </tr>\n",
       "    <tr>\n",
       "      <th>2</th>\n",
       "      <td>31.0</td>\n",
       "    </tr>\n",
       "    <tr>\n",
       "      <th>3</th>\n",
       "      <td>38.0</td>\n",
       "    </tr>\n",
       "    <tr>\n",
       "      <th>4</th>\n",
       "      <td>16.0</td>\n",
       "    </tr>\n",
       "    <tr>\n",
       "      <th>5</th>\n",
       "      <td>25.0</td>\n",
       "    </tr>\n",
       "  </tbody>\n",
       "</table>\n",
       "</div>"
      ],
      "text/plain": [
       "   Zzz3\n",
       "0  22.0\n",
       "1  27.0\n",
       "2  31.0\n",
       "3  38.0\n",
       "4  16.0\n",
       "5  25.0"
      ]
     },
     "execution_count": 62,
     "metadata": {},
     "output_type": "execute_result"
    }
   ],
   "source": [
    "expr.iloc[:, [idx]]"
   ]
  },
  {
   "cell_type": "code",
   "execution_count": 20,
   "id": "0abbea39-efb3-4274-bae9-b0d4b8a0a1fe",
   "metadata": {},
   "outputs": [
    {
     "data": {
      "text/plain": [
       "1"
      ]
     },
     "execution_count": 20,
     "metadata": {},
     "output_type": "execute_result"
    }
   ],
   "source": [
    "res_fit.df_resid-fit.df_resid"
   ]
  },
  {
   "cell_type": "code",
   "execution_count": null,
   "id": "3a69cbd3-42de-472d-a276-4da883c6a146",
   "metadata": {},
   "outputs": [],
   "source": []
  },
  {
   "cell_type": "code",
   "execution_count": null,
   "id": "3230782f-9056-439c-b562-e9359303f0e8",
   "metadata": {},
   "outputs": [],
   "source": []
  },
  {
   "cell_type": "code",
   "execution_count": null,
   "id": "0306d1a8-9938-4101-9429-f3966e2b63a5",
   "metadata": {},
   "outputs": [],
   "source": []
  },
  {
   "cell_type": "code",
   "execution_count": null,
   "id": "a73ae5ec-53a5-46ee-b3c1-c9c0256567d2",
   "metadata": {},
   "outputs": [],
   "source": []
  },
  {
   "cell_type": "code",
   "execution_count": null,
   "id": "2b52631b-35a8-4d8c-acf0-bcd1dc1af886",
   "metadata": {},
   "outputs": [],
   "source": []
  },
  {
   "cell_type": "code",
   "execution_count": 88,
   "id": "d7826458-6ea6-45c8-ad42-01b2d07146fa",
   "metadata": {
    "tags": []
   },
   "outputs": [
    {
     "data": {
      "text/plain": [
       "'Hagai2018_mouse-lps'"
      ]
     },
     "execution_count": 88,
     "metadata": {},
     "output_type": "execute_result"
    }
   ],
   "source": [
    "file"
   ]
  },
  {
   "cell_type": "code",
   "execution_count": 9,
   "id": "1c4af43f-172e-4db3-9c6d-e64d69c55dbb",
   "metadata": {
    "tags": []
   },
   "outputs": [
    {
     "name": "stdout",
     "output_type": "stream",
     "text": [
      "working on Hagai2018_mouse-lps\n"
     ]
    },
    {
     "name": "stderr",
     "output_type": "stream",
     "text": [
      "[Parallel(n_jobs=93)]: Using backend LokyBackend with 93 concurrent workers.\n",
      "[Parallel(n_jobs=93)]: Done 179 tasks      | elapsed:   40.5s\n",
      "[Parallel(n_jobs=93)]: Done 462 tasks      | elapsed:  1.5min\n",
      "[Parallel(n_jobs=93)]: Done 827 tasks      | elapsed:  2.4min\n",
      "[Parallel(n_jobs=93)]: Done 1272 tasks      | elapsed:  3.7min\n",
      "Bad pipe message: %s [b'M:\\xb7\\xab\\x86\\xbf\\xdb\\x1bYY*f@\\x93\\x08\\xda%\\xbe \\x1d\\xa8\\x05${\\x16Bl-)\\xbc\\x9c\\x19\\xf2{NHV\\x1e\\xb6\\x9e%qY\\xec\"\\xa1\\x01b \\x08\\x00\\x00&\\xc0+\\xc0/\\xc0,\\xc00\\xcc\\xa9\\xcc\\xa8\\xc0\\t\\xc0\\x13\\xc0\\n\\xc0\\x14\\x00\\x9c\\x00\\x9d\\x00/\\x005\\xc0\\x12\\x00\\n\\x13\\x01\\x13\\x02\\x13\\x03\\x01\\x00\\x00\\x89\\x00\\x00\\x00\\x0e\\x00\\x0c\\x00\\x00\\tlocalhost']\n",
      "[Parallel(n_jobs=93)]: Done 1799 tasks      | elapsed:  5.1min\n",
      "[Parallel(n_jobs=93)]: Done 2406 tasks      | elapsed:  6.8min\n",
      "[Parallel(n_jobs=93)]: Done 3095 tasks      | elapsed:  8.8min\n",
      "[Parallel(n_jobs=93)]: Done 3864 tasks      | elapsed: 10.9min\n",
      "[Parallel(n_jobs=93)]: Done 4715 tasks      | elapsed: 13.3min\n",
      "[Parallel(n_jobs=93)]: Done 5646 tasks      | elapsed: 15.9min\n",
      "[Parallel(n_jobs=93)]: Done 6659 tasks      | elapsed: 18.7min\n",
      "[Parallel(n_jobs=93)]: Done 7927 out of 7927 | elapsed: 22.1min finished\n"
     ]
    },
    {
     "name": "stdout",
     "output_type": "stream",
     "text": [
      "CPU times: user 31.2 s, sys: 6.61 s, total: 37.8 s\n",
      "Wall time: 22min 13s\n"
     ]
    }
   ],
   "source": [
    "%%time\n",
    "\n",
    "\n",
    "for file in files:\n",
    "    for trial in range(1,11):\n",
    "        print('working on', file)\n",
    "\n",
    "        stim = file.split('-')[-1]\n",
    "\n",
    "        adata = sc.read_h5ad(data_path +'replicates/' + file + '_{}.h5ad'.format(trial))\n",
    "        adata.obs['q'] = 0.07\n",
    "        memento.setup_memento(adata, q_column='q', trim_percent=0.99, filter_mean_thresh=0.00000001, estimator_type='sum')\n",
    "        adata.obs['memento_size_factor'] = adata.X.sum(axis=1).A1\n",
    "        memento.create_groups(adata, label_columns=['replicate', 'label'])\n",
    "        dispersions = pd.read_csv(data_path + '../results/{}_{}_dispersions.csv'.format(file, trial))\n",
    "        gene_list = dispersions['gene'].tolist()\n",
    "        dispersions = dispersions['dispersion'].tolist()\n",
    "\n",
    "        # adata = adata[:, gene_list].copy()\n",
    "\n",
    "        memento.compute_1d_moments(adata, gene_list=gene_list)\n",
    "        adata.var['dispersion'] = dispersions\n",
    "\n",
    "        meta = pd.get_dummies(memento.get_groups(adata), drop_first=True)\n",
    "        cov = meta.iloc[:, [0, 1]].astype(int)\n",
    "        cov['intercept'] = 1\n",
    "        treatment = meta.iloc[:, [2]].astype(int)\n",
    "\n",
    "        memento.ht_1d_moments(\n",
    "            adata,\n",
    "            covariate=cov,\n",
    "            treatment=treatment,\n",
    "            num_boot=5000,\n",
    "            verbose=2,\n",
    "            num_cpus=93)\n",
    "        results = memento.get_1d_ht_result(adata)\n",
    "        results['FDR'] = memento.util._fdrcorrect(results['de_pval'])\n",
    "        results.to_csv(data_path + '../results/{}_{}_memento.csv'.format(file, trial), index=False)\n",
    "        break\n",
    "    break"
   ]
  },
  {
   "cell_type": "code",
   "execution_count": 89,
   "id": "02481d2d-ef9f-4134-a1c5-84026435329c",
   "metadata": {
    "tags": []
   },
   "outputs": [
    {
     "data": {
      "text/plain": [
       "0    1597.966263\n",
       "1      20.087687\n",
       "2     621.789328\n",
       "3       3.101967\n",
       "4     385.786913\n",
       "5       7.007130\n",
       "Name: Nlrp3, dtype: float64"
      ]
     },
     "execution_count": 89,
     "metadata": {},
     "output_type": "execute_result"
    }
   ],
   "source": [
    "scaled_means['Nlrp3']"
   ]
  },
  {
   "cell_type": "code",
   "execution_count": 90,
   "id": "c7cb4149-981d-47ff-98ab-32607677bb72",
   "metadata": {
    "tags": []
   },
   "outputs": [
    {
     "data": {
      "text/plain": [
       "0    0.187828\n",
       "1    1.192380\n",
       "2    0.283577\n",
       "3    0.765142\n",
       "4    0.320115\n",
       "5    1.177536\n",
       "Name: Nlrp3, dtype: float64"
      ]
     },
     "execution_count": 90,
     "metadata": {},
     "output_type": "execute_result"
    }
   ],
   "source": [
    "weights['Nlrp3']"
   ]
  },
  {
   "cell_type": "code",
   "execution_count": 95,
   "id": "9d8e4845-6ddf-48af-a470-4d18c98d79d0",
   "metadata": {
    "tags": []
   },
   "outputs": [
    {
     "data": {
      "text/plain": [
       "0    0.002180\n",
       "1    0.013840\n",
       "2    0.003291\n",
       "3    0.008881\n",
       "4    0.003715\n",
       "5    0.013667\n",
       "Name: Nlrp3, dtype: float64"
      ]
     },
     "execution_count": 95,
     "metadata": {},
     "output_type": "execute_result"
    }
   ],
   "source": [
    "1/(variances/scaled_means)['Nlrp3']"
   ]
  },
  {
   "cell_type": "code",
   "execution_count": 85,
   "id": "bc480b71-ee42-4c59-a28a-ab25c22212ff",
   "metadata": {
    "tags": []
   },
   "outputs": [
    {
     "data": {
      "text/plain": [
       "0    0.053459\n",
       "1    1.201353\n",
       "2    0.105303\n",
       "3    2.448954\n",
       "4    0.142039\n",
       "5    2.021367\n",
       "Name: Nlrp3, dtype: float64"
      ]
     },
     "execution_count": 85,
     "metadata": {},
     "output_type": "execute_result"
    }
   ],
   "source": [
    "temp = 1/np.sqrt(variances)\n",
    "temp = temp/temp.values.mean()\n",
    "temp['Nlrp3']"
   ]
  },
  {
   "cell_type": "code",
   "execution_count": 68,
   "id": "f574c39c-cbf0-467e-8f72-af70eb90bc88",
   "metadata": {
    "tags": []
   },
   "outputs": [
    {
     "data": {
      "text/plain": [
       "False"
      ]
     },
     "execution_count": 68,
     "metadata": {},
     "output_type": "execute_result"
    }
   ],
   "source": [
    "'Nirp3' in gene_list"
   ]
  },
  {
   "cell_type": "code",
   "execution_count": 45,
   "id": "c4f4c440-f82b-4863-9d90-fbacdae9f574",
   "metadata": {
    "tags": []
   },
   "outputs": [
    {
     "data": {
      "text/plain": [
       "logFC     2.912061\n",
       "PValue         0.0\n",
       "FDR            0.0\n",
       "gene          Ccl5\n",
       "Name: Ccl5, dtype: object"
      ]
     },
     "execution_count": 45,
     "metadata": {},
     "output_type": "execute_result"
    }
   ],
   "source": [
    "weighted_mean_glm_results.loc['Ccl5']"
   ]
  },
  {
   "cell_type": "code",
   "execution_count": 44,
   "id": "991360ba-0e8f-42b8-9315-0bf688ce16fb",
   "metadata": {
    "tags": []
   },
   "outputs": [
    {
     "data": {
      "text/html": [
       "<div>\n",
       "<style scoped>\n",
       "    .dataframe tbody tr th:only-of-type {\n",
       "        vertical-align: middle;\n",
       "    }\n",
       "\n",
       "    .dataframe tbody tr th {\n",
       "        vertical-align: top;\n",
       "    }\n",
       "\n",
       "    .dataframe thead th {\n",
       "        text-align: right;\n",
       "    }\n",
       "</style>\n",
       "<table border=\"1\" class=\"dataframe\">\n",
       "  <thead>\n",
       "    <tr style=\"text-align: right;\">\n",
       "      <th></th>\n",
       "      <th>logFC</th>\n",
       "      <th>PValue</th>\n",
       "      <th>FDR</th>\n",
       "      <th>gene</th>\n",
       "    </tr>\n",
       "  </thead>\n",
       "  <tbody>\n",
       "    <tr>\n",
       "      <th>Gbp3</th>\n",
       "      <td>3.550863</td>\n",
       "      <td>5.683614e-15</td>\n",
       "      <td>1.520324e-13</td>\n",
       "      <td>Gbp3</td>\n",
       "    </tr>\n",
       "  </tbody>\n",
       "</table>\n",
       "</div>"
      ],
      "text/plain": [
       "         logFC        PValue           FDR  gene\n",
       "Gbp3  3.550863  5.683614e-15  1.520324e-13  Gbp3"
      ]
     },
     "execution_count": 44,
     "metadata": {},
     "output_type": "execute_result"
    }
   ],
   "source": [
    "weighted_mean_glm_results.query('gene == \"Gbp3\"')"
   ]
  },
  {
   "cell_type": "code",
   "execution_count": null,
   "id": "3835ca71-8d6a-4ace-ae07-393f45fc9a6a",
   "metadata": {
    "tags": []
   },
   "outputs": [],
   "source": [
    "weights"
   ]
  },
  {
   "cell_type": "code",
   "execution_count": null,
   "id": "3857f251-8a12-450d-a667-4ab40202eb24",
   "metadata": {
    "tags": []
   },
   "outputs": [],
   "source": [
    "dispersions"
   ]
  },
  {
   "cell_type": "code",
   "execution_count": null,
   "id": "b09d3713-ed6a-400f-a2fc-ddc424ead9eb",
   "metadata": {},
   "outputs": [],
   "source": []
  },
  {
   "cell_type": "code",
   "execution_count": null,
   "id": "118eb78c-39ef-4b04-be1b-de3f36afea72",
   "metadata": {},
   "outputs": [],
   "source": []
  },
  {
   "cell_type": "code",
   "execution_count": 42,
   "id": "1581a488-0e15-4f2c-ad52-8c272c3fd940",
   "metadata": {
    "tags": []
   },
   "outputs": [
    {
     "data": {
      "text/plain": [
       "0610009B22Rik      0.936955\n",
       "0610009L18Rik    263.080223\n",
       "0610010F05Rik      4.270511\n",
       "0610010K14Rik     14.793980\n",
       "0610012G03Rik      0.000000\n",
       "                    ...    \n",
       "Zxdc              54.571092\n",
       "Zyg11b            12.241629\n",
       "Zyx                0.017547\n",
       "Zzef1              1.545507\n",
       "Zzz3               3.453833\n",
       "Length: 8961, dtype: float64"
      ]
     },
     "execution_count": 42,
     "metadata": {},
     "output_type": "execute_result"
    }
   ],
   "source": []
  },
  {
   "cell_type": "code",
   "execution_count": null,
   "id": "31a0476f-3a4e-4b2c-983b-43d3ac6cc836",
   "metadata": {},
   "outputs": [],
   "source": []
  },
  {
   "cell_type": "code",
   "execution_count": null,
   "id": "0d0ac474-f784-4a4b-82b2-dd2f4c2ab2c7",
   "metadata": {},
   "outputs": [],
   "source": []
  },
  {
   "cell_type": "code",
   "execution_count": null,
   "id": "635279f4-8cb1-4d43-9faf-dbfa2b5ff760",
   "metadata": {},
   "outputs": [],
   "source": []
  },
  {
   "cell_type": "code",
   "execution_count": null,
   "id": "3387e0ef-f809-49fc-9f18-5af19156efda",
   "metadata": {},
   "outputs": [],
   "source": []
  },
  {
   "cell_type": "code",
   "execution_count": null,
   "id": "67f82966-8d43-4787-b81e-ef4c78392619",
   "metadata": {},
   "outputs": [],
   "source": []
  },
  {
   "cell_type": "code",
   "execution_count": null,
   "id": "9e3e86c8-9330-4a26-a9c7-70ab1fa42683",
   "metadata": {},
   "outputs": [],
   "source": []
  },
  {
   "cell_type": "code",
   "execution_count": null,
   "id": "1f9cd371-053c-4eb7-a0df-595a9858db73",
   "metadata": {},
   "outputs": [],
   "source": []
  },
  {
   "cell_type": "code",
   "execution_count": null,
   "id": "7eadc487-43a0-442c-9e0d-d2c9fac96143",
   "metadata": {},
   "outputs": [],
   "source": []
  },
  {
   "cell_type": "code",
   "execution_count": 66,
   "id": "22694a22-e409-4f36-affd-e4f52c54a4c0",
   "metadata": {},
   "outputs": [],
   "source": [
    "weighted_mean_glm_results = []\n",
    "for idx in range(len(gene_list)):\n",
    "    model = sm.GLM(\n",
    "        scaled_means.iloc[:, [idx]], \n",
    "        design , \n",
    "        exposure=totals,\n",
    "        var_weights=weights.iloc[:, idx],\n",
    "        family=sm.families.NegativeBinomial(alpha=0.05))\n",
    "    res_model = sm.GLM(\n",
    "        scaled_means.iloc[:, [idx]], design[:, :-1] , \n",
    "        exposure=totals,\n",
    "        var_weights=weights.iloc[:, idx],\n",
    "        family=sm.families.NegativeBinomial(alpha=0.05))\n",
    "    fit = model.fit()\n",
    "    res_fit = res_model.fit()\n",
    "    pv = stats.chi2.sf(-2*(res_fit.llf - fit.llf), df=res_fit.df_resid-fit.df_resid)\n",
    "    weighted_mean_glm_results.append((fit.params[-1], pv))\n",
    "weighted_mean_glm_results = pd.DataFrame(weighted_mean_glm_results, columns=['logFC', 'PValue'], index=gene_list)\n",
    "_, weighted_mean_glm_results['FDR'] = fdrcorrection(weighted_mean_glm_results['PValue'])"
   ]
  },
  {
   "cell_type": "code",
   "execution_count": 39,
   "id": "7dbb216b-2bae-4f14-8f1a-58cbf579e3e8",
   "metadata": {},
   "outputs": [
    {
     "data": {
      "text/plain": [
       "(array([11098.,  1306.,   936.,   750.,   708.,   625.,   601.,   588.,\n",
       "          517.,   552.]),\n",
       " array([5.36163695e-91, 9.99920244e-02, 1.99984049e-01, 2.99976073e-01,\n",
       "        3.99968098e-01, 4.99960122e-01, 5.99952147e-01, 6.99944171e-01,\n",
       "        7.99936195e-01, 8.99928220e-01, 9.99920244e-01]),\n",
       " <BarContainer object of 10 artists>)"
      ]
     },
     "execution_count": 39,
     "metadata": {},
     "output_type": "execute_result"
    },
    {
     "data": {
      "image/png": "[encoded data removed]",
      "text/plain": [
       "<Figure size 640x480 with 1 Axes>"
      ]
     },
     "metadata": {},
     "output_type": "display_data"
    }
   ],
   "source": [
    "plt.hist(weighted_mean_glm_results['PValue'])"
   ]
  },
  {
   "cell_type": "code",
   "execution_count": 12,
   "id": "08928e9c-3714-498c-9f03-038150dc2606",
   "metadata": {},
   "outputs": [
    {
     "data": {
      "text/html": [
       "<div>\n",
       "<style scoped>\n",
       "    .dataframe tbody tr th:only-of-type {\n",
       "        vertical-align: middle;\n",
       "    }\n",
       "\n",
       "    .dataframe tbody tr th {\n",
       "        vertical-align: top;\n",
       "    }\n",
       "\n",
       "    .dataframe thead th {\n",
       "        text-align: right;\n",
       "    }\n",
       "</style>\n",
       "<table border=\"1\" class=\"dataframe\">\n",
       "  <thead>\n",
       "    <tr style=\"text-align: right;\">\n",
       "      <th></th>\n",
       "      <th>replicate</th>\n",
       "      <th>label</th>\n",
       "    </tr>\n",
       "  </thead>\n",
       "  <tbody>\n",
       "    <tr>\n",
       "      <th>0</th>\n",
       "      <td>muc3838</td>\n",
       "      <td>24m</td>\n",
       "    </tr>\n",
       "    <tr>\n",
       "      <th>1</th>\n",
       "      <td>muc3839</td>\n",
       "      <td>24m</td>\n",
       "    </tr>\n",
       "    <tr>\n",
       "      <th>2</th>\n",
       "      <td>muc3840</td>\n",
       "      <td>3m</td>\n",
       "    </tr>\n",
       "    <tr>\n",
       "      <th>3</th>\n",
       "      <td>muc3841</td>\n",
       "      <td>3m</td>\n",
       "    </tr>\n",
       "    <tr>\n",
       "      <th>4</th>\n",
       "      <td>muc4166</td>\n",
       "      <td>24m</td>\n",
       "    </tr>\n",
       "    <tr>\n",
       "      <th>5</th>\n",
       "      <td>muc4167</td>\n",
       "      <td>24m</td>\n",
       "    </tr>\n",
       "    <tr>\n",
       "      <th>6</th>\n",
       "      <td>muc4168</td>\n",
       "      <td>24m</td>\n",
       "    </tr>\n",
       "    <tr>\n",
       "      <th>7</th>\n",
       "      <td>muc4169</td>\n",
       "      <td>3m</td>\n",
       "    </tr>\n",
       "    <tr>\n",
       "      <th>8</th>\n",
       "      <td>muc4170</td>\n",
       "      <td>3m</td>\n",
       "    </tr>\n",
       "    <tr>\n",
       "      <th>9</th>\n",
       "      <td>muc4172</td>\n",
       "      <td>3m</td>\n",
       "    </tr>\n",
       "    <tr>\n",
       "      <th>10</th>\n",
       "      <td>muc4173</td>\n",
       "      <td>3m</td>\n",
       "    </tr>\n",
       "    <tr>\n",
       "      <th>11</th>\n",
       "      <td>muc4174</td>\n",
       "      <td>24m</td>\n",
       "    </tr>\n",
       "    <tr>\n",
       "      <th>12</th>\n",
       "      <td>muc4175</td>\n",
       "      <td>24m</td>\n",
       "    </tr>\n",
       "    <tr>\n",
       "      <th>13</th>\n",
       "      <td>muc4654</td>\n",
       "      <td>3m</td>\n",
       "    </tr>\n",
       "    <tr>\n",
       "      <th>14</th>\n",
       "      <td>muc4657</td>\n",
       "      <td>3m</td>\n",
       "    </tr>\n",
       "  </tbody>\n",
       "</table>\n",
       "</div>"
      ],
      "text/plain": [
       "   replicate label\n",
       "0    muc3838   24m\n",
       "1    muc3839   24m\n",
       "2    muc3840    3m\n",
       "3    muc3841    3m\n",
       "4    muc4166   24m\n",
       "5    muc4167   24m\n",
       "6    muc4168   24m\n",
       "7    muc4169    3m\n",
       "8    muc4170    3m\n",
       "9    muc4172    3m\n",
       "10   muc4173    3m\n",
       "11   muc4174   24m\n",
       "12   muc4175   24m\n",
       "13   muc4654    3m\n",
       "14   muc4657    3m"
      ]
     },
     "execution_count": 12,
     "metadata": {},
     "output_type": "execute_result"
    }
   ],
   "source": [
    "adata.obs[['replicate', 'label']].drop_duplicates().reset_index(drop=True)"
   ]
  },
  {
   "cell_type": "code",
   "execution_count": 9,
   "id": "b2413ff1-1be8-4df1-b3b1-f2a4d95b6851",
   "metadata": {},
   "outputs": [
    {
     "data": {
      "text/plain": [
       "replicate  label\n",
       "muc3838    24m      155\n",
       "muc3839    24m      131\n",
       "muc3840    3m       293\n",
       "muc3841    3m       176\n",
       "muc4166    24m      252\n",
       "muc4167    24m      275\n",
       "muc4168    24m       99\n",
       "muc4169    3m       487\n",
       "muc4170    3m       364\n",
       "muc4172    3m       410\n",
       "muc4173    3m       583\n",
       "muc4174    24m      175\n",
       "muc4175    24m      103\n",
       "muc4654    3m       498\n",
       "muc4657    3m       198\n",
       "dtype: int64"
      ]
     },
     "execution_count": 9,
     "metadata": {},
     "output_type": "execute_result"
    }
   ],
   "source": [
    "adata.obs.groupby(['replicate', 'label'])"
   ]
  },
  {
   "cell_type": "code",
   "execution_count": null,
   "id": "66656ad2-d1ce-46d3-aabb-6420aca43b27",
   "metadata": {},
   "outputs": [],
   "source": [
    "def sample_sum(data):\n",
    "    \n",
    "    s = data.sum(axis=0)\n",
    "    return s\n",
    "\n",
    "def scaled_mean_se2(data, sf, q):\n",
    "\n",
    "    augmented_data = np.append(data, np.ones((1,data.shape[1])), axis=0)\n",
    "\n",
    "    sf = np.append(sf, sf.mean())\n",
    "    q = q.mean()\n",
    "    X = augmented_data/sf.reshape(-1,1)\n",
    "\n",
    "    naive_v = X.var(axis=0)\n",
    "    naive_m = X.mean(axis=0)\n",
    "    v = naive_v-(1-q)*(augmented_data/(sf**2-sf*(1-q)).reshape(-1,1)).mean(axis=0)\n",
    "    variance_contributions = ((1-q)/sf).reshape(-1,1)*naive_m.reshape(1,-1) + v.reshape(1,-1)\n",
    "    m = np.average( X, weights=1/variance_contributions, axis=0)\n",
    "    m[~np.isfinite(m)] = naive_m[~np.isfinite(m)]\n",
    "    m[m<0] = 0\n",
    "    # return np.log(naive_m), v/data.shape[0]\n",
    "    total = data.sum()\n",
    "    # return m*total, v*total**2\n",
    "    return m*total, (v/data.shape[0])*total**2"
   ]
  }
 ],
 "metadata": {
  "kernelspec": {
   "display_name": "Python (single_cell)",
   "language": "python",
   "name": "single_cell"
  },
  "language_info": {
   "codemirror_mode": {
    "name": "ipython",
    "version": 3
   },
   "file_extension": ".py",
   "mimetype": "text/x-python",
   "name": "python",
   "nbconvert_exporter": "python",
   "pygments_lexer": "ipython3",
   "version": "3.10.11"
  }
 },
 "nbformat": 4,
 "nbformat_minor": 5
}
