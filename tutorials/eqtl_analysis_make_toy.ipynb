{
 "cells": [
  {
   "cell_type": "markdown",
   "id": "1e981ef2-dae3-4825-8625-d4bd34cf1cf8",
   "metadata": {},
   "source": [
    "#Toy file generation for eQTL testing"
   ]
  },
  {
   "cell_type": "code",
   "execution_count": 1,
   "id": "73668ca7-79e3-4906-964c-46deb1a4b974",
   "metadata": {
    "tags": []
   },
   "outputs": [
    {
     "name": "stderr",
     "output_type": "stream",
     "text": [
      "/tmp/ipykernel_52261/3278081242.py:12: DeprecationWarning: the imp module is deprecated in favour of importlib and slated for removal in Python 3.12; see the module's documentation for alternative uses\n",
      "  import imp\n"
     ]
    }
   ],
   "source": [
    "import scanpy as sc\n",
    "import seaborn as sns\n",
    "import pandas as pd\n",
    "import matplotlib.pyplot as plt\n",
    "import numpy as np\n",
    "import scipy.stats as stats\n",
    "import itertools\n",
    "# from pybedtools import BedTool\n",
    "\n",
    "import statsmodels.formula.api as smf\n",
    "import statsmodels.api as sm\n",
    "import imp\n",
    "\n",
    "import os\n",
    "import pickle as pkl\n",
    "%matplotlib inline"
   ]
  },
  {
   "cell_type": "code",
   "execution_count": 2,
   "id": "17301f6e-ef45-4451-8452-e7916ca240b9",
   "metadata": {
    "tags": []
   },
   "outputs": [],
   "source": [
    "import sys\n",
    "sys.path.append('/home/ubuntu/Github/scrna-parameter-estimation/')\n",
    "import memento"
   ]
  },
  {
   "cell_type": "code",
   "execution_count": 3,
   "id": "aacd5af6-7a7e-4d48-9358-851f62e12a0d",
   "metadata": {
    "tags": []
   },
   "outputs": [],
   "source": [
    "data_path  = '/data_volume/lupus/'"
   ]
  },
  {
   "cell_type": "markdown",
   "id": "e098f2fb-a6ef-4057-97bf-4147c67cc2a4",
   "metadata": {},
   "source": [
    "## Read the inputs: variables of interest (SNPs), covariates, SNP-gene pairs.\n",
    "\n",
    "For each of these SNP and covariate, each row is an individual and columns are different variables of interest. \n",
    "\n",
    "For the tutorial, we use the genotypes and covariates used in 2022 Perez, Gordon, Subramaniam et al. paper from the lab. These inputs are identical to Matrix eQTL inputs - I just transpose them here because I think it makes more sense that observations are rows...\n",
    "\n",
    "For the tutorial, we just setup some random SNP-gene pairs to test; however, you can flexibly design this mapping to fit your needs. I purposefully didn't encode all possible variations of how you can define gene-SNP relationships."
   ]
  },
  {
   "cell_type": "markdown",
   "id": "8e18df78-fd65-4d9a-83dc-a908ce4b50df",
   "metadata": {},
   "source": [
    "#### Make toy gene-SNP pairs"
   ]
  },
  {
   "cell_type": "code",
   "execution_count": 20,
   "id": "7ed919d2-d21c-4902-a991-87121be6d978",
   "metadata": {
    "tags": []
   },
   "outputs": [],
   "source": [
    "# You can define this mapping DataFrame however you want - for example, you can take find gene-SNP pairs via looking for a 100kb.\n",
    "# Here, to make the tutorial faster, we'll just randomly take 50k lines.\n",
    "gene_snp_pairs = pd.read_csv(data_path + 'mateqtl_input/{}/gene_snp_pairs_hg19_100kb.csv'.format(pop))\n",
    "gene_snp_pairs.columns = ['gene', 'SNP']\n",
    "gene_snp_pairs = gene_snp_pairs.query('SNP in @snps.columns').sample(50)"
   ]
  },
  {
   "cell_type": "code",
   "execution_count": 22,
   "id": "7464f617-c9b9-4429-b061-70e00ad3bfc8",
   "metadata": {
    "tags": []
   },
   "outputs": [],
   "source": [
    "selected_snps = gene_snp_pairs.SNP.tolist()"
   ]
  },
  {
   "cell_type": "code",
   "execution_count": 29,
   "id": "779c1162-eda7-4679-800e-b05e2b2d1432",
   "metadata": {
    "tags": []
   },
   "outputs": [],
   "source": [
    "gene_snp_pairs.to_csv('toy_gene_snp_pairs.csv')"
   ]
  },
  {
   "cell_type": "markdown",
   "id": "1e4f1c83-c8de-4aa3-9085-f54fc7b39b2f",
   "metadata": {},
   "source": [
    "### Make toy genotypes and covariates"
   ]
  },
  {
   "cell_type": "code",
   "execution_count": 33,
   "id": "4d9ad878-e939-40a0-9cf1-112094d56259",
   "metadata": {
    "tags": []
   },
   "outputs": [],
   "source": [
    "pop = 'eur'\n",
    "snps_path = data_path + 'mateqtl_input/{}_genos.tsv'.format(pop)\n",
    "cov_path = data_path + 'mateqtl_input/{}_mateqtl_cov.txt'.format(pop)"
   ]
  },
  {
   "cell_type": "code",
   "execution_count": 34,
   "id": "abb29e4f-e5ef-47b5-9aab-6f59f14acec8",
   "metadata": {
    "tags": []
   },
   "outputs": [],
   "source": [
    "snps = pd.read_csv(snps_path, sep='\\t', index_col=0).T\n",
    "cov = pd.read_csv(cov_path, sep='\\t', index_col=0).T"
   ]
  },
  {
   "cell_type": "code",
   "execution_count": 35,
   "id": "56ff9d75-4cd7-44f2-bfce-c1584a6566b9",
   "metadata": {
    "tags": []
   },
   "outputs": [],
   "source": [
    "# Print the first 5 SNPs for the first 5 individuals to show the structure\n",
    "snps.loc[:, selected_snps].head(10).to_csv('toy_genotypes.csv')"
   ]
  },
  {
   "cell_type": "code",
   "execution_count": 36,
   "id": "a4680414-47c0-4f71-ab6c-1dd06dd423ca",
   "metadata": {
    "tags": []
   },
   "outputs": [],
   "source": [
    "cov.head(10).to_csv('toy_covariates.csv')"
   ]
  },
  {
   "cell_type": "markdown",
   "id": "aab61a9a-6752-43e4-b2e7-0bb474647efb",
   "metadata": {},
   "source": [
    "### Read h5ad object\n",
    "\n",
    "Standard h5ad file in the scanpy workflow. Some things to keep in mind:\n",
    "\n",
    "- `adata.X` should be the raw counts with all genes detected. Typically, this will be the size of N cells with ~30k genes in a standard 10X experiment. \n",
    "- Here, we will just use the T4 cells defined by one of the AnnData.obs columns.\n"
   ]
  },
  {
   "cell_type": "code",
   "execution_count": 37,
   "id": "5753b84b-d749-462a-8554-627927e781b3",
   "metadata": {
    "tags": []
   },
   "outputs": [],
   "source": [
    "ct = 'T4'"
   ]
  },
  {
   "cell_type": "code",
   "execution_count": 40,
   "id": "ce97ce4a-81c2-4df0-84dc-a3cb83b64a57",
   "metadata": {
    "tags": []
   },
   "outputs": [
    {
     "name": "stderr",
     "output_type": "stream",
     "text": [
      "/home/ubuntu/anaconda3/envs/cellxgene/lib/python3.11/site-packages/anndata/__init__.py:51: FutureWarning: `anndata.read` is deprecated, use `anndata.read_h5ad` instead. `ad.read` will be removed in mid 2024.\n",
      "  warnings.warn(\n"
     ]
    }
   ],
   "source": [
    "adata = sc.read(data_path + 'single_cell/{}_{}.h5ad'.format(pop, ct))\n",
    "adata = adata[adata.obs.ind_cov.isin(cov.head(10).index)].copy() # pick out individuals we have genotype and covariates for\n"
   ]
  },
  {
   "cell_type": "code",
   "execution_count": 41,
   "id": "b68da28e-816d-4602-a4be-53c708dc4f5b",
   "metadata": {
    "tags": []
   },
   "outputs": [
    {
     "name": "stdout",
     "output_type": "stream",
     "text": [
      "We have 16907 cells labeled as T4\n"
     ]
    }
   ],
   "source": [
    "print('We have {} cells labeled as T4'.format(adata.shape[0]))"
   ]
  },
  {
   "cell_type": "code",
   "execution_count": 43,
   "id": "80bed384-14e6-467a-9858-ac918efd82e7",
   "metadata": {
    "tags": []
   },
   "outputs": [],
   "source": [
    "adata.write('toy_adata.h5ad')"
   ]
  },
  {
   "cell_type": "code",
   "execution_count": 22,
   "id": "86663a13-89b6-462a-af5f-fb38c0ddc3a0",
   "metadata": {
    "tags": []
   },
   "outputs": [
    {
     "name": "stdout",
     "output_type": "stream",
     "text": [
      "Confirming that adata.X is a sparse matrix of counts.\n",
      "Row sums are:\n",
      "[[1905.]\n",
      " [2104.]\n",
      " [2102.]\n",
      " [1209.]\n",
      " [2030.]]\n",
      "\n",
      "The matrix itself:\n"
     ]
    },
    {
     "data": {
      "text/plain": [
       "<129531x32738 sparse matrix of type '<class 'numpy.float32'>'\n",
       "\twith 83322139 stored elements in Compressed Sparse Row format>"
      ]
     },
     "execution_count": 22,
     "metadata": {},
     "output_type": "execute_result"
    }
   ],
   "source": [
    "# adata.X should be a sparse matrix with counts\n",
    "print('Confirming that adata.X is a sparse matrix of counts.')\n",
    "print('Row sums are:')\n",
    "print(adata.X.sum(axis=1)[:5])\n",
    "print('')\n",
    "print('The matrix itself:')\n",
    "adata.X"
   ]
  }
 ],
 "metadata": {
  "kernelspec": {
   "display_name": "cellcensus",
   "language": "python",
   "name": "myenv"
  },
  "language_info": {
   "codemirror_mode": {
    "name": "ipython",
    "version": 3
   },
   "file_extension": ".py",
   "mimetype": "text/x-python",
   "name": "python",
   "nbconvert_exporter": "python",
   "pygments_lexer": "ipython3",
   "version": "3.11.8"
  }
 },
 "nbformat": 4,
 "nbformat_minor": 5
}
