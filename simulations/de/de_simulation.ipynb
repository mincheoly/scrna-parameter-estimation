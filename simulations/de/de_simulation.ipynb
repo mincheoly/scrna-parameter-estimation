{
 "cells": [
  {
   "cell_type": "markdown",
   "id": "65a5ae53-e884-41cf-93e6-91a5b5d296d2",
   "metadata": {},
   "source": [
    "# Simulate differential mean expression data"
   ]
  },
  {
   "cell_type": "code",
   "execution_count": 1,
   "id": "1cde5d0b-c60f-485a-92a7-bbd7f329088d",
   "metadata": {},
   "outputs": [
    {
     "name": "stderr",
     "output_type": "stream",
     "text": [
      "/tmp/ipykernel_2067744/644427709.py:12: DeprecationWarning: the imp module is deprecated in favour of importlib and slated for removal in Python 3.12; see the module's documentation for alternative uses\n",
      "  import imp\n"
     ]
    }
   ],
   "source": [
    "import pandas as pd\n",
    "import matplotlib.pyplot as plt\n",
    "import scanpy as sc\n",
    "import scipy as sp\n",
    "import itertools\n",
    "import numpy as np\n",
    "import scipy.stats as stats\n",
    "from scipy.integrate import dblquad\n",
    "import seaborn as sns\n",
    "from statsmodels.stats.multitest import fdrcorrection\n",
    "import statsmodels.api as sm\n",
    "import imp\n",
    "pd.options.display.max_rows = 999\n",
    "pd.set_option('display.max_colwidth', 100)\n",
    "import pickle as pkl\n",
    "import time\n",
    "import string\n",
    "from sklearn.datasets import make_spd_matrix\n",
    "from statsmodels.stats.moment_helpers import cov2corr\n",
    "import string"
   ]
  },
  {
   "cell_type": "code",
   "execution_count": 2,
   "id": "558e2b79-5ae8-4e1e-adb9-aff4edf21c70",
   "metadata": {},
   "outputs": [],
   "source": [
    "import matplotlib as mpl\n",
    "mpl.rcParams['pdf.fonttype'] = 42\n",
    "mpl.rcParams['ps.fonttype'] = 42\n",
    "\n",
    "import matplotlib.pylab as pylab\n",
    "params = {'legend.fontsize': 'medium',\n",
    "         'axes.labelsize': 'medium',\n",
    "         'axes.titlesize':'medium',\n",
    "         'figure.titlesize':'medium',\n",
    "         'xtick.labelsize':'small',\n",
    "         'ytick.labelsize':'small'}\n",
    "pylab.rcParams.update(params)\n"
   ]
  },
  {
   "cell_type": "code",
   "execution_count": 3,
   "id": "4fb66a3f-ed9a-417a-bdfd-15a9b17cc3ad",
   "metadata": {},
   "outputs": [],
   "source": [
    "import sys\n",
    "sys.path.append('/home/ssm-user/Github/scrna-parameter-estimation/dist/memento-0.1.0-py3.10.egg')\n",
    "import memento\n",
    "import memento.simulate as simulate"
   ]
  },
  {
   "cell_type": "code",
   "execution_count": 5,
   "id": "d17e7d3e-3ec3-4065-b745-0acd87ecc0cd",
   "metadata": {},
   "outputs": [],
   "source": [
    "data_path = '/data_volume/memento/simulation/'"
   ]
  },
  {
   "cell_type": "code",
   "execution_count": 5,
   "id": "cf91caaa-30a2-4864-af94-c8c28a02389a",
   "metadata": {},
   "outputs": [],
   "source": [
    "def convert_params_nb(mu, theta):\n",
    "    \"\"\"\n",
    "    Convert mean/dispersion parameterization of a negative binomial to the ones scipy supports\n",
    "\n",
    "    See https://en.wikipedia.org/wiki/Negative_binomial_distribution#Alternative_formulations\n",
    "    \"\"\"\n",
    "    r = theta\n",
    "    var = mu + 1 / r * mu ** 2\n",
    "    p = (var - mu) / var\n",
    "    return r, 1 - p\n",
    "\n",
    "def convert_params_binom(mu, v):\n",
    "    \"\"\"\n",
    "    Convert mean/dispersion parameterization of a negative binomial to the ones scipy supports\n",
    "\n",
    "    See https://en.wikipedia.org/wiki/Negative_binomial_distribution#Alternative_formulations\n",
    "    \"\"\"\n",
    "    p = 1-(v/mu)\n",
    "    n = mu/p\n",
    "\n",
    "    return np.ceil(n), np.p"
   ]
  },
  {
   "cell_type": "markdown",
   "id": "4db5599f-6bde-41af-8e9f-f879042be1da",
   "metadata": {},
   "source": [
    "### Extract parameters from HBEC dataset"
   ]
  },
  {
   "cell_type": "code",
   "execution_count": 238,
   "id": "6fe20f02-4019-4269-99d0-b14c94f1ea48",
   "metadata": {},
   "outputs": [],
   "source": [
    "ifn_adata = sc.read('/data_volume/memento/hbec/' + 'HBEC_type_I_filtered_counts_deep.h5ad')\n",
    "q=0.07"
   ]
  },
  {
   "cell_type": "code",
   "execution_count": 241,
   "id": "bd6c7981-35c1-497f-828e-727789edd354",
   "metadata": {},
   "outputs": [],
   "source": [
    "X = ifn_adata[\n",
    "    (ifn_adata.obs['stim'] == 'control') & \\\n",
    "    (ifn_adata.obs['cell_type'] == 'basal')].X.toarray()\n",
    "\n",
    "m = X.mean(axis=0)\n",
    "v = X.var(axis=0)\n",
    "\n",
    "df = pd.DataFrame(\n",
    "    zip(m,v),\n",
    "    index=ifn_adata.var.index,\n",
    "    columns=['m', 'v'])\n",
    "\n",
    "m_filtered = m[m > 0.01]\n",
    "v_filtered = v[m > 0.01]"
   ]
  },
  {
   "cell_type": "code",
   "execution_count": 242,
   "id": "0061d3e1-61b4-45ac-a6c2-7d3e309ac413",
   "metadata": {},
   "outputs": [
    {
     "data": {
      "text/plain": [
       "[<matplotlib.lines.Line2D at 0x7f83c60677c0>]"
      ]
     },
     "execution_count": 242,
     "metadata": {},
     "output_type": "execute_result"
    },
    {
     "data": {
      "image/png": "[encoded data removed]",
      "text/plain": [
       "<Figure size 640x480 with 1 Axes>"
      ]
     },
     "metadata": {},
     "output_type": "display_data"
    }
   ],
   "source": [
    "plt.scatter(\n",
    "    np.log(m_filtered),\n",
    "    np.log(v_filtered))\n",
    "plt.plot(np.log(m_filtered), np.log(m_filtered), '--', color='red')"
   ]
  },
  {
   "cell_type": "code",
   "execution_count": 264,
   "id": "3b92ccc6-e22d-4278-a59a-29148efe18d0",
   "metadata": {},
   "outputs": [],
   "source": [
    "adata_1 = ifn_adata[(ifn_adata.obs['cell_type'] == 'ciliated') & (ifn_adata.obs['stim'] == 'control')]\n",
    "adata_2 = ifn_adata[(ifn_adata.obs['cell_type'] == 'ciliated') & (ifn_adata.obs['stim'] == 'beta')]\n",
    "\n",
    "x_param_1, z_param_1, Nc_1, good_idx_1 = simulate.extract_parameters(adata_1.X, q=q)\n",
    "x_param_2, z_param_2, Nc_2, good_idx_2 = simulate.extract_parameters(adata_2.X, q=q)"
   ]
  },
  {
   "cell_type": "code",
   "execution_count": 19,
   "id": "4316b46e-c3ba-4751-b030-23d0278f4c06",
   "metadata": {},
   "outputs": [],
   "source": [
    "import sys\n",
    "sys.path.append('/home/ssm-user/Github/memento')\n",
    "\n",
    "import memento.model.rna as rna\n",
    "import memento.estimator.hypergeometric as hg\n",
    "import memento.estimator.sample as samp\n",
    "\n",
    "import memento.util as util\n",
    "\n",
    "import logging\n",
    "logging.basicConfig(\n",
    "    format=\"%(asctime)s %(process)-7s %(levelname)-8s %(message)s\",\n",
    "    level=logging.INFO, \n",
    "    datefmt=\"%Y-%m-%d %H:%M:%S\",\n",
    ")\n",
    "logging.captureWarnings(True)"
   ]
  },
  {
   "cell_type": "code",
   "execution_count": 6,
   "id": "dc4a5ec2-ac26-4c29-9ecb-0021fadb7c8e",
   "metadata": {},
   "outputs": [
    {
     "name": "stderr",
     "output_type": "stream",
     "text": [
      "2023-07-20 20:48:09 2067744 INFO     setup_anndata: creating groups\n",
      "2023-07-20 20:48:09 2067744 INFO     setup_anndata: computing cell sizes\n",
      "2023-07-20 20:48:09 2067744 INFO     compute_estimate: running estimators for ['sum', 'mean', 'log_mean', 'log1p_mean', 'se_sum', 'se_mean', 'se_log_mean', 'se_log1p_mean', 'total_umi', 'cell_count']\n",
      "2023-07-20 20:48:09 2067744 INFO     compute_estimate: gene_list is None, using all genes in AnnData object\n",
      "2023-07-20 20:48:09 2067744 INFO     compute_estimate: getting estimates for memento_group^A^ctrl using 30 parallel jobs\n",
      "2023-07-20 20:48:09 2067744 INFO     compute_estimate: getting estimates for memento_group^A^stim using 30 parallel jobs\n",
      "2023-07-20 20:48:09 2067744 INFO     compute_estimate: getting estimates for memento_group^B^ctrl using 30 parallel jobs\n",
      "2023-07-20 20:48:09 2067744 INFO     compute_estimate: getting estimates for memento_group^B^stim using 30 parallel jobs\n"
     ]
    }
   ],
   "source": [
    "adata = sc.read(data_path + 'de/anndata.h5ad')\n",
    "\n",
    "adata.obs['q'] = 0.1\n",
    "adata.X = adata.X.astype(float)\n",
    "\n",
    "rna.MementoRNA.setup_anndata(\n",
    "        adata=adata,\n",
    "        q_column='q',\n",
    "        label_columns=['group', 'condition'],\n",
    "        num_bins=30,\n",
    "        trim_percent=1,\n",
    "        shrinkage=0.5)\n",
    "\n",
    "adata = adata[:, adata.X.mean(axis=0).A1 > 0.01]\n",
    "model = rna.MementoRNA(adata=adata)\n",
    "\n",
    "model.compute_estimate(\n",
    "    estimand='mean',\n",
    "    get_se=True,\n",
    "    n_jobs=30,\n",
    ")"
   ]
  },
  {
   "cell_type": "code",
   "execution_count": 8,
   "id": "5ebc0341-6820-4ecf-8993-d4f93e7558dd",
   "metadata": {},
   "outputs": [],
   "source": [
    "count_multiplier = model.estimates['total_umi'].values/model.adata.uns['memento']['umi_depth']\n",
    "sampling_variance =  (model.estimates['se_mean']**2)*count_multiplier**2"
   ]
  },
  {
   "cell_type": "code",
   "execution_count": 18,
   "id": "f4a0cec4-c613-478b-bfd6-2ffe046b4f82",
   "metadata": {},
   "outputs": [
    {
     "data": {
      "text/plain": [
       "memento_group^A^ctrl    0.005147\n",
       "memento_group^A^stim    0.025671\n",
       "memento_group^B^ctrl    0.020607\n",
       "memento_group^B^stim    0.019237\n",
       "Name: gene_24, dtype: float64"
      ]
     },
     "execution_count": 18,
     "metadata": {},
     "output_type": "execute_result"
    }
   ],
   "source": [
    "model.estimates['mean']['gene_24']"
   ]
  },
  {
   "cell_type": "code",
   "execution_count": 28,
   "id": "b49482cd-8748-48f0-9061-3fe610ee285c",
   "metadata": {},
   "outputs": [],
   "source": [
    "group = 'memento_group^A^ctrl'\n",
    "barcodes = model.adata.uns['memento']['group_barcodes'][group]\n",
    "\n",
    "data = model.subset_matrix(barcodes, ['gene_24']).tocsc() #CSC format is faster\n",
    "sf = model.adata.obs.loc[barcodes]['memento_size_factor'].values\n",
    "approx_sf = model.adata.obs.loc[barcodes]['memento_approx_size_factor'].values\n",
    "q = model.adata.uns['memento']['group_q'][group]"
   ]
  },
  {
   "cell_type": "code",
   "execution_count": null,
   "id": "eb3cdf51-0cae-4077-84e4-6cd426417c50",
   "metadata": {},
   "outputs": [],
   "source": [
    "model"
   ]
  },
  {
   "cell_type": "code",
   "execution_count": 14,
   "id": "7a1aa890-d4bc-4e79-9e7a-b1efaf338dbe",
   "metadata": {},
   "outputs": [
    {
     "data": {
      "text/plain": [
       "memento_group^A^ctrl    0.000000\n",
       "memento_group^A^stim    9.694920\n",
       "memento_group^B^ctrl    1.471632\n",
       "memento_group^B^stim    7.015041\n",
       "Name: gene_24, dtype: float64"
      ]
     },
     "execution_count": 14,
     "metadata": {},
     "output_type": "execute_result"
    }
   ],
   "source": [
    "sampling_variance['gene_24']"
   ]
  },
  {
   "cell_type": "code",
   "execution_count": null,
   "id": "57b655fc-b1de-45ba-9ec5-8aa985bcaa31",
   "metadata": {},
   "outputs": [],
   "source": []
  },
  {
   "cell_type": "code",
   "execution_count": null,
   "id": "555dda03-f910-4b8a-b799-f11647fbeb8b",
   "metadata": {},
   "outputs": [],
   "source": []
  },
  {
   "cell_type": "code",
   "execution_count": null,
   "id": "6332ac7b-88eb-4d23-8e6e-34d33bdaca8a",
   "metadata": {},
   "outputs": [],
   "source": []
  },
  {
   "cell_type": "code",
   "execution_count": null,
   "id": "cfe9200b-dfec-469b-ba67-c1c746251feb",
   "metadata": {},
   "outputs": [],
   "source": []
  },
  {
   "cell_type": "markdown",
   "id": "78d527cb-01fd-4854-806f-691b03cb6e72",
   "metadata": {},
   "source": [
    "### Simulate data"
   ]
  },
  {
   "cell_type": "code",
   "execution_count": 271,
   "id": "c7ad73ec-2200-43a3-acc3-2bc2ea5dbf05",
   "metadata": {},
   "outputs": [
    {
     "data": {
      "text/plain": [
       "(array([0, 0, 0, ..., 3, 3, 3]),\n",
       " array([    1,    13,    23, ..., 21122, 21123, 21125]))"
      ]
     },
     "execution_count": 271,
     "metadata": {},
     "output_type": "execute_result"
    }
   ],
   "source": [
    "np.where(means > variances)"
   ]
  },
  {
   "cell_type": "code",
   "execution_count": 269,
   "id": "dee4304f-a841-408b-832f-f1f2e81a4760",
   "metadata": {},
   "outputs": [],
   "source": [
    "base_mean = z_param_1[0]\n",
    "num_genes = base_mean.shape[0]\n",
    "treatment_effect = np.zeros(num_genes)\n",
    "treatment_effect[:100] = 0.3\n",
    "\n",
    "means = np.zeros((4, num_genes))\n",
    "means[0] = base_mean\n",
    "means[1] = base_mean+treatment_effect\n",
    "means[2] = base_mean + (0.2)\n",
    "means[3] = base_mean + (0.2) + treatment_effect + (1)\n",
    "\n",
    "# For Binom\n",
    "variances = np.zeros((4, num_genes))\n",
    "variances[0] = z_param_1[1]\n",
    "variances[1] = z_param_1[1]\n",
    "variances[2] = z_param_1[1]\n",
    "variances[3] = z_param_1[1]"
   ]
  },
  {
   "cell_type": "code",
   "execution_count": 276,
   "id": "b8d38919-df7c-4f7b-a151-e668e57f03c7",
   "metadata": {},
   "outputs": [
    {
     "ename": "NameError",
     "evalue": "name 'binom_variances' is not defined",
     "output_type": "error",
     "traceback": [
      "\u001b[0;31m---------------------------------------------------------------------------\u001b[0m",
      "\u001b[0;31mNameError\u001b[0m                                 Traceback (most recent call last)",
      "Cell \u001b[0;32mIn[276], line 1\u001b[0m\n\u001b[0;32m----> 1\u001b[0m convert_params_binom(means, \u001b[43mbinom_variances\u001b[49m)\n",
      "\u001b[0;31mNameError\u001b[0m: name 'binom_variances' is not defined"
     ]
    }
   ],
   "source": [
    "convert_params_binom(means, binom_variances)"
   ]
  },
  {
   "cell_type": "code",
   "execution_count": 282,
   "id": "fabe1aac-254c-433e-8752-d40c6bc4d01c",
   "metadata": {},
   "outputs": [],
   "source": [
    "def simulate_counts(means, variances, num_cell_per_group):\n",
    "    \n",
    "    num_groups, num_genes = means.shape\n",
    "    \n",
    "    counts = np.zeros((num_cells_per_group, num_groups, num_genes))\n",
    "    \n",
    "    binom_idxs = np.where(means >= variances)\n",
    "    nb_idxs = np.where(means < variances)\n",
    "    \n",
    "    binom_variances = variances\n",
    "    binom_variances[binom_variances > means] = means[binom_variances > means]-1e-3\n",
    "    nb_dispersions = (variances-means)/means**2\n",
    "    nb_dispersions[nb_dispersions < 0] = 1e-3\n",
    "    \n",
    "    return convert_params_binom(means, binom_variances)\n",
    "    binom_counts = stats.binom.rvs(\n",
    "        *convert_params_binom(means, binom_variances), \n",
    "        size=(num_cells_per_group, num_groups, num_genes))\n",
    "    nb_counts = stats.nbinom.rvs(\n",
    "        *convert_params_nb(means, 1/nb_dispersions), \n",
    "        size=(num_cells_per_group, num_groups, num_genes))\n",
    "\n",
    "    counts[:, binom_idxs[0], binom_idxs[1]] = binom_counts\n",
    "    counts[:, nb_idxs[0], nb_idxs[1]] = nb_counts\n",
    "\n",
    "    return counts.reshape(-1, num_genes)"
   ]
  },
  {
   "cell_type": "code",
   "execution_count": 284,
   "id": "977bad77-bdb2-4e3e-90b2-9349ab9a304e",
   "metadata": {},
   "outputs": [],
   "source": [
    "n, p=simulate_counts(means, variances, 100)"
   ]
  },
  {
   "cell_type": "code",
   "execution_count": 290,
   "id": "c24efa8b-0cd4-43c3-85e5-0e7a03849c04",
   "metadata": {},
   "outputs": [
    {
     "data": {
      "text/plain": [
       "1.6959756848099379"
      ]
     },
     "execution_count": 290,
     "metadata": {},
     "output_type": "execute_result"
    }
   ],
   "source": [
    "p.max()"
   ]
  },
  {
   "cell_type": "code",
   "execution_count": 262,
   "id": "23bd5f3b-18ca-406b-bf4b-9319947f7147",
   "metadata": {},
   "outputs": [],
   "source": [
    "base_mean = z_param_1[0]\n",
    "num_genes = base_mean.shape[0]\n",
    "treatment_effect = np.zeros(num_genes)\n",
    "treatment_effect[:100] = 0.3\n",
    "\n",
    "means = np.zeros((4, num_genes))\n",
    "means[0] = base_mean\n",
    "means[1] = base_mean+treatment_effect\n",
    "means[2] = base_mean + (0.2)\n",
    "means[3] = base_mean + (0.2) + treatment_effect + (1)\n",
    "\n",
    "# For Binom\n",
    "variances = np.zeros((4, num_genes))\n",
    "variances[0] = z_param_1[1]\n",
    "variances[1] = z_param_2[1]\n",
    "variances[2] = z_param_1[1]\n",
    "variances[3] = z_param_2[1]\n",
    "\n",
    "# For NB\n",
    "dispersions = np.zeros((4, num_genes))\n",
    "dispersions[0] = 0.1\n",
    "dispersions[1] = 5\n",
    "dispersions[2] = 0.1\n",
    "dispersions[3] = 5\n",
    "\n",
    "num_cells_per_group = 50\n",
    "design = pd.DataFrame(\n",
    "    [\n",
    "        ('ctrl', 'A'),\n",
    "        ('stim', 'A'),\n",
    "        ('ctrl', 'B'),\n",
    "        ('stim', 'B')], columns=['condition', 'group'])\n",
    "design = pd.concat([design for i in range(num_cells_per_group)])\n",
    "     \n",
    "\n",
    "counts = stats.nbinom.rvs(\n",
    "    *convert_params_nb(means, 1/dispersions), \n",
    "    size=(num_cells_per_group, 4, num_genes)).reshape(-1, num_genes)\n",
    "# counts = stats.binom.rvs(\n",
    "#     *convert_params_binom(means, variances), \n",
    "#     size=(num_cells_per_group, 4, num_genes)).reshape(-1, num_genes)\n",
    "_, hyper_captured = simulate.capture_sampling(counts, q=q, process='hyper')\n",
    "# hyper_captured = counts\n",
    "\n",
    "trial = 0\n",
    "expr_df = pd.DataFrame(counts)\n",
    "grouped = pd.concat([design.reset_index(drop=True), expr_df], axis=1)\n",
    "pseudobulks = grouped.groupby(['group', 'condition']).sum()\n",
    "pseudobulks.index = [x+'-'+y for x, y in itertools.product(design['group'].unique(), design['condition'].unique())]\n",
    "\n",
    "# anndata = sc.AnnData(sp.sparse.csr_matrix(hyper_captured))\n",
    "# # anndata.var['is_null'] = null_de_genes\n",
    "# anndata.obs = design.copy()\n",
    "\n",
    "# anndata.write(data_path + 'means/anndata_{}.h5ad'.format(trial))\n",
    "pseudobulks.T.to_csv(data_path + 'means/pseudobulks_{}.csv'.format(trial))"
   ]
  },
  {
   "cell_type": "code",
   "execution_count": null,
   "id": "417bd9a1-6ec9-46e6-8646-ba6830be4ec3",
   "metadata": {},
   "outputs": [],
   "source": []
  },
  {
   "cell_type": "code",
   "execution_count": null,
   "id": "f6f42694-c987-4872-8079-aa46da385bc5",
   "metadata": {},
   "outputs": [],
   "source": []
  },
  {
   "cell_type": "code",
   "execution_count": 209,
   "id": "349ae66a-15c1-4d9d-a681-804b988fd2cd",
   "metadata": {},
   "outputs": [],
   "source": [
    "X1 = np.array([\n",
    "    [1, 0, -0.5, 0],\n",
    "    [1, 1, -0.5, -0.5],\n",
    "    [1, 0, 0.5, 0],\n",
    "    [1, 1, 0.5, 0.5]\n",
    "])\n",
    "\n",
    "X2 = np.array([\n",
    "    [1, 0, 0],\n",
    "    [1, 1, 0,],\n",
    "    [1, 0, 1,],\n",
    "    [1, 1, 1,]\n",
    "])\n",
    "\n",
    "X3 = np.array([\n",
    "    [1, 0,],\n",
    "    [1, 1,],\n",
    "    [1, 0,],\n",
    "    [1, 1,]\n",
    "])\n",
    "\n",
    "pv = np.zeros(1000)\n",
    "for trial in range(1000):\n",
    "    beta = np.array([5, 0, 2, 1]).reshape(-1,1)\n",
    "    y = stats.poisson.rvs(np.exp(X1@beta))\n",
    "    fit = sm.Poisson(y,X1).fit(disp=0)\n",
    "    pv[trial] = fit.pvalues[1]\n",
    "    "
   ]
  },
  {
   "cell_type": "code",
   "execution_count": 210,
   "id": "d4786c69-d98d-4857-b1b5-c91c28831fb5",
   "metadata": {},
   "outputs": [
    {
     "data": {
      "text/plain": [
       "array([[ 54.59815003],\n",
       "       [ 33.11545196],\n",
       "       [403.42879349],\n",
       "       [665.14163304]])"
      ]
     },
     "execution_count": 210,
     "metadata": {},
     "output_type": "execute_result"
    }
   ],
   "source": [
    "np.exp(X1@beta)"
   ]
  },
  {
   "cell_type": "code",
   "execution_count": 211,
   "id": "11aca38e-4a50-4659-9e5f-513def0ea6f1",
   "metadata": {},
   "outputs": [
    {
     "data": {
      "text/plain": [
       "(array([104., 103., 110.,  94., 109., 101.,  93.,  95., 111.,  80.]),\n",
       " array([6.62217359e-04, 1.00066950e-01, 1.99471682e-01, 2.98876415e-01,\n",
       "        3.98281147e-01, 4.97685880e-01, 5.97090612e-01, 6.96495345e-01,\n",
       "        7.95900077e-01, 8.95304810e-01, 9.94709542e-01]),\n",
       " <BarContainer object of 10 artists>)"
      ]
     },
     "execution_count": 211,
     "metadata": {},
     "output_type": "execute_result"
    },
    {
     "data": {
      "image/png": "[encoded data removed]",
      "text/plain": [
       "<Figure size 640x480 with 1 Axes>"
      ]
     },
     "metadata": {},
     "output_type": "display_data"
    }
   ],
   "source": [
    "plt.hist(pv)"
   ]
  },
  {
   "cell_type": "code",
   "execution_count": null,
   "id": "4ac81ce5-58d8-40e3-b467-6cc7e322d61c",
   "metadata": {},
   "outputs": [],
   "source": []
  },
  {
   "cell_type": "code",
   "execution_count": 271,
   "id": "22f87cf8-88ab-4e9b-bdc4-64d20b5b75e8",
   "metadata": {},
   "outputs": [
    {
     "name": "stdout",
     "output_type": "stream",
     "text": [
      "edger_lrt - fpr: 0.03946530872056015 - tpr : 0.6684733514001807 - thresh : 0.05\n",
      "edger_qlft - fpr: 0.03488224061107575 - tpr : 0.6540198735320687 - thresh : 0.05\n",
      "memento - fpr: 0.044812221514958624 - tpr : 0.6946702800361337 - thresh : 0.05\n",
      "t - fpr: 0.05658816040738383 - tpr : 0.6648599819331527 - thresh : 0.05\n"
     ]
    },
    {
     "data": {
      "text/plain": [
       "<matplotlib.legend.Legend at 0x7f130f730970>"
      ]
     },
     "execution_count": 271,
     "metadata": {},
     "output_type": "execute_result"
    },
    {
     "data": {
      "image/png": "[encoded data removed]",
      "text/plain": [
       "<Figure size 640x480 with 1 Axes>"
      ]
     },
     "metadata": {},
     "output_type": "display_data"
    }
   ],
   "source": [
    "# Read anndata object and setup results\n",
    "adata = sc.read(data_path + 'de/anndata.h5ad')\n",
    "\n",
    "# Set up results holder\n",
    "results = {}\n",
    "\n",
    "# Read edger\n",
    "results['edger_lrt'] = pd.read_csv(data_path + 'de/edger_lrt.csv', index_col=0)[['logFC', 'PValue', 'FDR']]\n",
    "results['edger_qlft'] = pd.read_csv(data_path + 'de/edger_qlft.csv', index_col=0)[['logFC', 'PValue', 'FDR']]\n",
    "\n",
    "# Read memento\n",
    "results['memento'] = pd.read_csv(data_path + 'de/memento.csv', index_col=0)[['coef', 'pval', 'fdr']]\n",
    "\n",
    "# Read t test\n",
    "results['t'] = pd.read_csv(data_path + 'de/t.csv', index_col=0)[['coef', 'pval', 'fdr']]\n",
    "\n",
    "# Get overlapping genes\n",
    "genes = set(adata.var.index)\n",
    "for method, result in results.items():\n",
    "    results[method] = result.join(adata.var,how='inner')\n",
    "    genes &= set(result.index)\n",
    "genes = list(genes)\n",
    "for method, result in results.items():\n",
    "    results[method] = result.loc[genes]\n",
    "    results[method].columns = ['coef', 'pval', 'fdr', 'is_de']\n",
    "\n",
    "# Print some statistics\n",
    "n=12\n",
    "thresholds = {\n",
    "    'memento':np.linspace(0.001, 0.2, n),\n",
    "    't':np.linspace(0.001, 0.2, n),\n",
    "    'edger_lrt':np.linspace(0.01, 0.7, n),\n",
    "    'edger_qlft':np.linspace(0.01, 0.6, n-2)       \n",
    "}\n",
    "check_thresh = 0.05\n",
    "plt.figure()\n",
    "for method, result in results.items():\n",
    "\n",
    "    tpr = (result.query('is_de')['pval'] < check_thresh).mean()\n",
    "    fpr = (result.query('~is_de')['pval'] < check_thresh).mean()\n",
    "    print(f'{method} - fpr: {fpr} - tpr : {tpr} - thresh : {check_thresh}')\n",
    "\n",
    "    fdr = []\n",
    "    tpr = []\n",
    "    sorted_result = result.sort_values('fdr')\n",
    "    for thresh in thresholds[method]:\n",
    "\n",
    "        hits = result.query(f'fdr < {thresh}')\n",
    "        fdr.append(1-hits['is_de'].mean())\n",
    "        tpr.append(hits['is_de'].sum()/result['is_de'].sum())\n",
    "    plt.plot(fdr, tpr, '-o', label=method)\n",
    "plt.legend()"
   ]
  },
  {
   "cell_type": "code",
   "execution_count": null,
   "id": "c8e6e281-f54f-4eeb-8c50-82f581fb4edd",
   "metadata": {},
   "outputs": [],
   "source": []
  }
 ],
 "metadata": {
  "kernelspec": {
   "display_name": "Python (single_cell)",
   "language": "python",
   "name": "single_cell"
  },
  "language_info": {
   "codemirror_mode": {
    "name": "ipython",
    "version": 3
   },
   "file_extension": ".py",
   "mimetype": "text/x-python",
   "name": "python",
   "nbconvert_exporter": "python",
   "pygments_lexer": "ipython3",
   "version": "3.10.11"
  }
 },
 "nbformat": 4,
 "nbformat_minor": 5
}
