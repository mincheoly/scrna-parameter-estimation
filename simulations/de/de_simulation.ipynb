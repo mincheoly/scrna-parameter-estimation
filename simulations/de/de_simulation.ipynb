{
 "cells": [
  {
   "cell_type": "markdown",
   "id": "65a5ae53-e884-41cf-93e6-91a5b5d296d2",
   "metadata": {},
   "source": [
    "# Simulate differential mean expression data"
   ]
  },
  {
   "cell_type": "code",
   "execution_count": 2,
   "id": "1cde5d0b-c60f-485a-92a7-bbd7f329088d",
   "metadata": {},
   "outputs": [],
   "source": [
    "import pandas as pd\n",
    "import matplotlib.pyplot as plt\n",
    "import scanpy as sc\n",
    "import scipy as sp\n",
    "import itertools\n",
    "import numpy as np\n",
    "import scipy.stats as stats\n",
    "from scipy.integrate import dblquad\n",
    "import seaborn as sns\n",
    "from statsmodels.stats.multitest import fdrcorrection\n",
    "import statsmodels.api as sm\n",
    "import imp\n",
    "pd.options.display.max_rows = 999\n",
    "pd.set_option('display.max_colwidth', 100)\n",
    "import pickle as pkl\n",
    "import time\n",
    "import string\n",
    "from sklearn.datasets import make_spd_matrix\n",
    "from statsmodels.stats.moment_helpers import cov2corr\n",
    "import string"
   ]
  },
  {
   "cell_type": "code",
   "execution_count": 3,
   "id": "558e2b79-5ae8-4e1e-adb9-aff4edf21c70",
   "metadata": {},
   "outputs": [],
   "source": [
    "import matplotlib as mpl\n",
    "mpl.rcParams['pdf.fonttype'] = 42\n",
    "mpl.rcParams['ps.fonttype'] = 42\n",
    "\n",
    "import matplotlib.pylab as pylab\n",
    "params = {'legend.fontsize': 'medium',\n",
    "         'axes.labelsize': 'medium',\n",
    "         'axes.titlesize':'medium',\n",
    "         'figure.titlesize':'medium',\n",
    "         'xtick.labelsize':'small',\n",
    "         'ytick.labelsize':'small'}\n",
    "pylab.rcParams.update(params)\n"
   ]
  },
  {
   "cell_type": "code",
   "execution_count": 4,
   "id": "4fb66a3f-ed9a-417a-bdfd-15a9b17cc3ad",
   "metadata": {},
   "outputs": [],
   "source": [
    "import sys\n",
    "sys.path.append('/home/ssm-user/Github/scrna-parameter-estimation/dist/memento-0.1.0-py3.10.egg')\n",
    "import memento\n",
    "import memento.simulate as simulate"
   ]
  },
  {
   "cell_type": "code",
   "execution_count": 5,
   "id": "d17e7d3e-3ec3-4065-b745-0acd87ecc0cd",
   "metadata": {},
   "outputs": [],
   "source": [
    "data_path = '/data_volume/memento/simulation/inference/'"
   ]
  },
  {
   "cell_type": "code",
   "execution_count": 134,
   "id": "cf91caaa-30a2-4864-af94-c8c28a02389a",
   "metadata": {},
   "outputs": [],
   "source": [
    "def convert_params_nb(mu, theta):\n",
    "    \"\"\"\n",
    "    Convert mean/dispersion parameterization of a negative binomial to the ones scipy supports\n",
    "\n",
    "    See https://en.wikipedia.org/wiki/Negative_binomial_distribution#Alternative_formulations\n",
    "    \"\"\"\n",
    "    r = theta\n",
    "    var = mu + 1 / r * mu ** 2\n",
    "    p = (var - mu) / var\n",
    "    return r, 1 - p\n",
    "\n",
    "def convert_params_binom(mu, v):\n",
    "    \"\"\"\n",
    "    Convert mean/dispersion parameterization of a negative binomial to the ones scipy supports\n",
    "\n",
    "    See https://en.wikipedia.org/wiki/Negative_binomial_distribution#Alternative_formulations\n",
    "    \"\"\"\n",
    "    p = 1-(v/mu)\n",
    "    n = mu/p\n",
    "\n",
    "    return n.astype(int), p"
   ]
  },
  {
   "cell_type": "markdown",
   "id": "4db5599f-6bde-41af-8e9f-f879042be1da",
   "metadata": {},
   "source": [
    "### Extract parameters from HBEC dataset"
   ]
  },
  {
   "cell_type": "code",
   "execution_count": 135,
   "id": "6fe20f02-4019-4269-99d0-b14c94f1ea48",
   "metadata": {},
   "outputs": [],
   "source": [
    "ifn_adata = sc.read('/data_volume/memento/hbec/' + 'HBEC_type_I_filtered_counts_deep.h5ad')\n",
    "q=0.07"
   ]
  },
  {
   "cell_type": "code",
   "execution_count": 201,
   "id": "bd6c7981-35c1-497f-828e-727789edd354",
   "metadata": {},
   "outputs": [],
   "source": [
    "X = ifn_adata[\n",
    "    (ifn_adata.obs['stim'] == 'control') & \\\n",
    "    (ifn_adata.obs['cell_type'] == 'basal')].X.toarray()\n",
    "\n",
    "m = X.mean(axis=0)\n",
    "v = X.var(axis=0)\n",
    "\n",
    "df = pd.DataFrame(\n",
    "    zip(m,v),\n",
    "    index=ifn_adata.var.index,\n",
    "    columns=['m', 'v'])\n",
    "\n",
    "m_filtered = m[m > 0.01]\n",
    "v_filtered = v[m > 0.01]"
   ]
  },
  {
   "cell_type": "code",
   "execution_count": 214,
   "id": "0061d3e1-61b4-45ac-a6c2-7d3e309ac413",
   "metadata": {},
   "outputs": [
    {
     "data": {
      "text/plain": [
       "[<matplotlib.lines.Line2D at 0x7f83c63082e0>]"
      ]
     },
     "execution_count": 214,
     "metadata": {},
     "output_type": "execute_result"
    },
    {
     "data": {
      "image/png": "[encoded data removed]",
      "text/plain": [
       "<Figure size 640x480 with 1 Axes>"
      ]
     },
     "metadata": {},
     "output_type": "display_data"
    }
   ],
   "source": [
    "plt.scatter(\n",
    "    np.log(m_filtered),\n",
    "    np.log(v_filtered))\n",
    "plt.plot(np.log(m_filtered), np.log(m_filtered), '--', color='red')"
   ]
  },
  {
   "cell_type": "code",
   "execution_count": null,
   "id": "863fa4d6-3ab1-435b-a7b0-ea5f258e0304",
   "metadata": {},
   "outputs": [],
   "source": []
  },
  {
   "cell_type": "code",
   "execution_count": 215,
   "id": "3b92ccc6-e22d-4278-a59a-29148efe18d0",
   "metadata": {},
   "outputs": [],
   "source": [
    "adata_1 = ifn_adata[(ifn_adata.obs['cell_type'] == 'ciliated') & (ifn_adata.obs['stim'] == 'control')]\n",
    "adata_2 = ifn_adata[(ifn_adata.obs['cell_type'] == 'ciliated') & (ifn_adata.obs['stim'] == 'beta')]\n",
    "\n",
    "x_param_1, z_param_1, Nc_1, good_idx_1 = simulate.extract_parameters(adata_1.X, q=q)\n",
    "x_param_2, z_param_2, Nc_2, good_idx_2 = simulate.extract_parameters(adata_2.X, q=q)"
   ]
  },
  {
   "cell_type": "markdown",
   "id": "78d527cb-01fd-4854-806f-691b03cb6e72",
   "metadata": {},
   "source": [
    "### Simulate data"
   ]
  },
  {
   "cell_type": "code",
   "execution_count": 222,
   "id": "23bd5f3b-18ca-406b-bf4b-9319947f7147",
   "metadata": {},
   "outputs": [],
   "source": [
    "base_mean = z_param_1[0]\n",
    "num_genes = base_mean.shape[0]\n",
    "treatment_effect = np.zeros(num_genes)\n",
    "treatment_effect[:100] = 1\n",
    "\n",
    "means = np.zeros((4, num_genes))\n",
    "means[0] = base_mean\n",
    "means[1] = base_mean+treatment_effect\n",
    "means[2] = base_mean + (0.2)\n",
    "means[3] = base_mean + (0.2) + treatment_effect + (1)\n",
    "\n",
    "# For Binom\n",
    "variances = np.zeros((4, num_genes))\n",
    "variances[0] = 0.9*means[0] \n",
    "variances[1] = 0.9*means[1] \n",
    "variances[2] = 0.9*means[2] \n",
    "variances[3] = 0.9*means[3] \n",
    "\n",
    "# For NB\n",
    "dispersions = np.zeros((4, num_genes))\n",
    "dispersions[0] = 0.001\n",
    "dispersions[1] = 2\n",
    "dispersions[2] = 0.001\n",
    "dispersions[3] = 2\n",
    "\n",
    "num_cells_per_group = 50\n",
    "design = pd.DataFrame(\n",
    "    [\n",
    "        ('ctrl', 'A'),\n",
    "        ('stim', 'A'),\n",
    "        ('ctrl', 'B'),\n",
    "        ('stim', 'B')], columns=['condition', 'group'])\n",
    "design = pd.concat([design for i in range(num_cells_per_group)])\n",
    "     \n",
    "\n",
    "counts = stats.nbinom.rvs(\n",
    "    *convert_params_nb(means, 1/dispersions), \n",
    "    size=(num_cells_per_group, 4, num_genes)).reshape(-1, num_genes)\n",
    "# counts = stats.binom.rvs(\n",
    "#     *convert_params_binom(means, variances), \n",
    "#     size=(num_cells_per_group, 4, num_genes)).reshape(-1, num_genes)\n",
    "_, hyper_captured = simulate.capture_sampling(counts, q=q, process='hyper')\n",
    "# hyper_captured = counts\n",
    "\n",
    "trial = 0\n",
    "expr_df = pd.DataFrame(counts)\n",
    "grouped = pd.concat([design.reset_index(drop=True), expr_df], axis=1)\n",
    "pseudobulks = grouped.groupby(['group', 'condition']).sum()\n",
    "pseudobulks.index = [x+'-'+y for x, y in itertools.product(design['group'].unique(), design['condition'].unique())]\n",
    "\n",
    "# anndata = sc.AnnData(sp.sparse.csr_matrix(hyper_captured))\n",
    "# # anndata.var['is_null'] = null_de_genes\n",
    "# anndata.obs = design.copy()\n",
    "\n",
    "# anndata.write(data_path + 'means/anndata_{}.h5ad'.format(trial))\n",
    "pseudobulks.T.to_csv(data_path + 'means/pseudobulks_{}.csv'.format(trial))"
   ]
  }
 ],
 "metadata": {
  "kernelspec": {
   "display_name": "Python (single_cell)",
   "language": "python",
   "name": "single_cell"
  },
  "language_info": {
   "codemirror_mode": {
    "name": "ipython",
    "version": 3
   },
   "file_extension": ".py",
   "mimetype": "text/x-python",
   "name": "python",
   "nbconvert_exporter": "python",
   "pygments_lexer": "ipython3",
   "version": "3.10.11"
  }
 },
 "nbformat": 4,
 "nbformat_minor": 5
}
