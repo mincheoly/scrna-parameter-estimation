{
 "cells": [
  {
   "cell_type": "markdown",
   "id": "65a5ae53-e884-41cf-93e6-91a5b5d296d2",
   "metadata": {},
   "source": [
    "# Generate plots for differential expression simulation"
   ]
  },
  {
   "cell_type": "code",
   "execution_count": 1,
   "id": "1cde5d0b-c60f-485a-92a7-bbd7f329088d",
   "metadata": {},
   "outputs": [
    {
     "name": "stderr",
     "output_type": "stream",
     "text": [
      "/tmp/ipykernel_3990464/3080105211.py:12: DeprecationWarning: the imp module is deprecated in favour of importlib and slated for removal in Python 3.12; see the module's documentation for alternative uses\n",
      "  import imp\n"
     ]
    }
   ],
   "source": [
    "import pandas as pd\n",
    "import matplotlib.pyplot as plt\n",
    "import scanpy as sc\n",
    "import scipy as sp\n",
    "import itertools\n",
    "import numpy as np\n",
    "import scipy.stats as stats\n",
    "from scipy.integrate import dblquad\n",
    "import seaborn as sns\n",
    "from statsmodels.stats.multitest import fdrcorrection\n",
    "import statsmodels.api as sm\n",
    "import imp\n",
    "pd.options.display.max_rows = 999\n",
    "pd.set_option('display.max_colwidth', 100)\n",
    "import pickle as pkl\n",
    "import time\n",
    "import string\n",
    "from sklearn.datasets import make_spd_matrix\n",
    "from statsmodels.stats.moment_helpers import cov2corr\n",
    "import string\n",
    "from collections import OrderedDict\n",
    "from matplotlib.lines import Line2D\n",
    "import random"
   ]
  },
  {
   "cell_type": "code",
   "execution_count": 2,
   "id": "558e2b79-5ae8-4e1e-adb9-aff4edf21c70",
   "metadata": {},
   "outputs": [],
   "source": [
    "import matplotlib as mpl\n",
    "mpl.rcParams['pdf.fonttype'] = 42\n",
    "mpl.rcParams['ps.fonttype'] = 42\n",
    "\n",
    "import matplotlib.pylab as pylab\n",
    "params = {'legend.fontsize': 'x-small',\n",
    "         'axes.labelsize': 'medium',\n",
    "         'axes.titlesize':'medium',\n",
    "         'figure.titlesize':'medium',\n",
    "         'xtick.labelsize':'small',\n",
    "         'ytick.labelsize':'small'}\n",
    "pylab.rcParams.update(params)\n"
   ]
  },
  {
   "cell_type": "code",
   "execution_count": 3,
   "id": "d17e7d3e-3ec3-4065-b745-0acd87ecc0cd",
   "metadata": {},
   "outputs": [],
   "source": [
    "data_path = '/data_volume/memento/simulation/'"
   ]
  },
  {
   "cell_type": "code",
   "execution_count": 4,
   "id": "7186628f-0b02-4a0d-8c5d-881c7537861e",
   "metadata": {},
   "outputs": [],
   "source": [
    "# plt.rcParams[\"axes.prop_cycle\"] = plt.cycler(\"color\", ['turquoise', 'slategrey', 'silver', 'lightsteelblue'])\n"
   ]
  },
  {
   "cell_type": "code",
   "execution_count": 5,
   "id": "35d930d5-a563-4ceb-a247-bdefc6927db1",
   "metadata": {},
   "outputs": [],
   "source": [
    "results = OrderedDict()\n"
   ]
  },
  {
   "cell_type": "markdown",
   "id": "0c058879-4068-4d44-a800-7ffe5558dda7",
   "metadata": {},
   "source": [
    "### Run memento - no replicate mode"
   ]
  },
  {
   "cell_type": "code",
   "execution_count": 45,
   "id": "4ae323a0-8ab3-4c68-9104-aeb52f32fb31",
   "metadata": {},
   "outputs": [
    {
     "name": "stdout",
     "output_type": "stream",
     "text": [
      "The autoreload extension is already loaded. To reload it, use:\n",
      "  %reload_ext autoreload\n"
     ]
    }
   ],
   "source": [
    "%load_ext autoreload"
   ]
  },
  {
   "cell_type": "code",
   "execution_count": 46,
   "id": "e8eecea5-6a2e-4e50-a052-432367be2028",
   "metadata": {},
   "outputs": [],
   "source": [
    "%autoreload 2"
   ]
  },
  {
   "cell_type": "code",
   "execution_count": 60,
   "id": "2f77cc42-fa0d-4923-b5e9-a69e68a9ad8f",
   "metadata": {},
   "outputs": [],
   "source": [
    "import sys\n",
    "sys.path.append('/home/ssm-user/Github/memento')\n",
    "\n",
    "import memento.model.rna as rna\n",
    "import memento.estimator.hypergeometric as hg\n",
    "import memento.estimator.sample as samp\n",
    "import memento.util as util"
   ]
  },
  {
   "cell_type": "code",
   "execution_count": 61,
   "id": "31a1585d-28a0-4ff6-8fc1-5ef0f375d310",
   "metadata": {},
   "outputs": [],
   "source": [
    "import logging\n",
    "logging.basicConfig(\n",
    "    format=\"%(asctime)s %(process)-7s %(levelname)-8s %(message)s\",\n",
    "    level=logging.INFO, \n",
    "    datefmt=\"%Y-%m-%d %H:%M:%S\",\n",
    ")\n",
    "logging.captureWarnings(True)"
   ]
  },
  {
   "cell_type": "code",
   "execution_count": 62,
   "id": "3d0a0c1a-29e2-4a62-aac6-5b86fe511902",
   "metadata": {},
   "outputs": [],
   "source": [
    "q=0.1"
   ]
  },
  {
   "cell_type": "code",
   "execution_count": 87,
   "id": "8b8b20e1-5f86-40f8-9c71-daeef0e90f67",
   "metadata": {},
   "outputs": [
    {
     "name": "stderr",
     "output_type": "stream",
     "text": [
      "2023-07-30 23:47:23 3990464 INFO     setup_anndata: creating groups\n",
      "2023-07-30 23:47:23 3990464 INFO     setup_anndata: computing cell sizes\n",
      "2023-07-30 23:47:23 3990464 INFO     compute_estimate: running estimators for ['sum', 'mean', 'log_mean', 'log1p_mean', 'se_sum', 'se_mean', 'se_log_mean', 'se_log1p_mean', 'total_umi', 'cell_count']\n",
      "2023-07-30 23:47:23 3990464 INFO     compute_estimate: gene_list is None, using all genes in AnnData object\n",
      "2023-07-30 23:47:23 3990464 INFO     compute_estimate: getting estimates for memento_group^raewc^ctrl using 30 parallel jobs\n",
      "2023-07-30 23:47:31 3990464 INFO     compute_estimate: getting estimates for memento_group^raewc^stim using 30 parallel jobs\n",
      "2023-07-30 23:47:40 3990464 INFO     compute_estimate: getting estimates for memento_group^mtmvf^ctrl using 30 parallel jobs\n",
      "2023-07-30 23:47:45 3990464 INFO     compute_estimate: getting estimates for memento_group^mtmvf^stim using 30 parallel jobs\n",
      "2023-07-30 23:47:45 3990464 WARNING  /home/ssm-user/Github/memento/memento/model/rna.py:228: RuntimeWarning: divide by zero encountered in log\n",
      "  estimates['log_mean'][group] = np.log(estimates['mean'][group])\n",
      "\n",
      "2023-07-30 23:47:49 3990464 INFO     compute_estimate: getting estimates for memento_group^llyjq^ctrl using 30 parallel jobs\n",
      "2023-07-30 23:47:54 3990464 INFO     compute_estimate: getting estimates for memento_group^llyjq^stim using 30 parallel jobs\n",
      "2023-07-30 23:47:54 3990464 WARNING  /home/ssm-user/Github/memento/memento/model/rna.py:228: RuntimeWarning: divide by zero encountered in log\n",
      "  estimates['log_mean'][group] = np.log(estimates['mean'][group])\n",
      "\n",
      "2023-07-30 23:47:59 3990464 INFO     compute_estimate: getting estimates for memento_group^awyky^ctrl using 30 parallel jobs\n",
      "2023-07-30 23:47:59 3990464 WARNING  /home/ssm-user/Github/memento/memento/model/rna.py:228: RuntimeWarning: divide by zero encountered in log\n",
      "  estimates['log_mean'][group] = np.log(estimates['mean'][group])\n",
      "\n",
      "2023-07-30 23:48:02 3990464 INFO     compute_estimate: getting estimates for memento_group^awyky^stim using 30 parallel jobs\n",
      "2023-07-30 23:48:02 3990464 WARNING  /home/ssm-user/Github/memento/memento/model/rna.py:228: RuntimeWarning: divide by zero encountered in log\n",
      "  estimates['log_mean'][group] = np.log(estimates['mean'][group])\n",
      "\n",
      "2023-07-30 23:48:06 3990464 INFO     compute_estimate: getting estimates for memento_group^woeai^ctrl using 30 parallel jobs\n",
      "2023-07-30 23:48:15 3990464 INFO     compute_estimate: getting estimates for memento_group^woeai^stim using 30 parallel jobs\n"
     ]
    }
   ],
   "source": [
    "adata = sc.read(data_path + 'de/anndata.h5ad')\n",
    "\n",
    "adata.obs['q'] = q\n",
    "adata.X = adata.X.astype(float)\n",
    "\n",
    "rna.MementoRNA.setup_anndata(\n",
    "        adata=adata,\n",
    "        q_column='q',\n",
    "        label_columns=['group','condition'],\n",
    "        num_bins=30,\n",
    "        trim_percent=1.0,\n",
    "        shrinkage=0.0)\n",
    "\n",
    "adata = adata[:, adata.X.mean(axis=0).A1 > 0.07]\n",
    "model = rna.MementoRNA(adata=adata)\n",
    "\n",
    "model.compute_estimate(\n",
    "    estimand='mean',\n",
    "    get_se=True,\n",
    "    n_jobs=30,\n",
    ")"
   ]
  },
  {
   "cell_type": "code",
   "execution_count": null,
   "id": "3f7c2a19-485e-4c76-ab90-685596d0cdfe",
   "metadata": {},
   "outputs": [],
   "source": [
    "df = pd.DataFrame(index=adata.uns['memento']['groups'])\n",
    "df['group'] = df.index.str.split('^').str[1]\n",
    "df['condition'] = df.index.str.split('^').str[2]\n",
    "\n",
    "cov_df = pd.get_dummies(df[['group']], drop_first=True).astype(float)\n",
    "# cov_df -= cov_df.mean()\n",
    "stim_df = (df[['condition']]=='stim').astype(float)\n",
    "interaction_df = cov_df*stim_df[['condition']].values\n",
    "interaction_df.columns=[f'interaction_{col}' for col in cov_df.columns]\n",
    "cov_df = pd.concat([cov_df, interaction_df], axis=1)\n",
    "cov_df = sm.add_constant(cov_df)\n",
    "# cov_df = cov_df.iloc[:, [0]]\n",
    "\n",
    "results['memento'] = model.differential_mean(\n",
    "    covariates=cov_df, \n",
    "    treatments=stim_df,\n",
    "    estimator='log_mean',\n",
    "    family='WLS',\n",
    "    verbose=0,\n",
    "    n_jobs=5)"
   ]
  },
  {
   "cell_type": "code",
   "execution_count": 89,
   "id": "f6755186-0971-43c0-aa4e-4476b8001ed9",
   "metadata": {},
   "outputs": [],
   "source": [
    "Z = pd.get_dummies(df[['group']], drop_first=False).values"
   ]
  },
  {
   "cell_type": "code",
   "execution_count": 90,
   "id": "0e908834-4bc8-43f4-979f-0d7fc652f178",
   "metadata": {},
   "outputs": [
    {
     "name": "stdout",
     "output_type": "stream",
     "text": [
      "[[0.5]]\n",
      "[[0.5]]\n",
      "[[0.5]]\n",
      "[[0.5]]\n",
      "[[0.5]]\n",
      "[[0.5]]\n",
      "[[0.5]]\n",
      "[[0.5]]\n",
      "[[0.5]]\n",
      "[[0.5]]\n"
     ]
    }
   ],
   "source": [
    "for idx in range(Z.shape[0]):\n",
    "    print(0.5*Z[[idx]]@Z[[idx]].T)"
   ]
  },
  {
   "cell_type": "code",
   "execution_count": 91,
   "id": "9baa13c0-6594-4f5c-b679-914453774185",
   "metadata": {},
   "outputs": [],
   "source": [
    "_, results['memento']['fdr'] = fdrcorrection(results['memento']['pval'])\n",
    "results['memento'] = results['memento'][['coef', 'pval', 'fdr']]"
   ]
  },
  {
   "cell_type": "code",
   "execution_count": 92,
   "id": "4dfec68c-9452-4cbc-b554-de19f00e9bf3",
   "metadata": {},
   "outputs": [
    {
     "data": {
      "text/html": [
       "<div>\n",
       "<style scoped>\n",
       "    .dataframe tbody tr th:only-of-type {\n",
       "        vertical-align: middle;\n",
       "    }\n",
       "\n",
       "    .dataframe tbody tr th {\n",
       "        vertical-align: top;\n",
       "    }\n",
       "\n",
       "    .dataframe thead th {\n",
       "        text-align: right;\n",
       "    }\n",
       "</style>\n",
       "<table border=\"1\" class=\"dataframe\">\n",
       "  <thead>\n",
       "    <tr style=\"text-align: right;\">\n",
       "      <th></th>\n",
       "      <th>coef</th>\n",
       "      <th>pval</th>\n",
       "      <th>fdr</th>\n",
       "    </tr>\n",
       "    <tr>\n",
       "      <th>gene</th>\n",
       "      <th></th>\n",
       "      <th></th>\n",
       "      <th></th>\n",
       "    </tr>\n",
       "  </thead>\n",
       "  <tbody>\n",
       "    <tr>\n",
       "      <th>gene_2</th>\n",
       "      <td>-0.021407</td>\n",
       "      <td>0.928490</td>\n",
       "      <td>0.996909</td>\n",
       "    </tr>\n",
       "    <tr>\n",
       "      <th>gene_5</th>\n",
       "      <td>0.447591</td>\n",
       "      <td>0.201308</td>\n",
       "      <td>0.883351</td>\n",
       "    </tr>\n",
       "    <tr>\n",
       "      <th>gene_6</th>\n",
       "      <td>0.124623</td>\n",
       "      <td>0.523010</td>\n",
       "      <td>0.972648</td>\n",
       "    </tr>\n",
       "    <tr>\n",
       "      <th>gene_8</th>\n",
       "      <td>-0.395381</td>\n",
       "      <td>0.369568</td>\n",
       "      <td>0.947438</td>\n",
       "    </tr>\n",
       "    <tr>\n",
       "      <th>gene_10</th>\n",
       "      <td>-0.052791</td>\n",
       "      <td>0.533928</td>\n",
       "      <td>0.974567</td>\n",
       "    </tr>\n",
       "  </tbody>\n",
       "</table>\n",
       "</div>"
      ],
      "text/plain": [
       "             coef      pval       fdr\n",
       "gene                                 \n",
       "gene_2  -0.021407  0.928490  0.996909\n",
       "gene_5   0.447591  0.201308  0.883351\n",
       "gene_6   0.124623  0.523010  0.972648\n",
       "gene_8  -0.395381  0.369568  0.947438\n",
       "gene_10 -0.052791  0.533928  0.974567"
      ]
     },
     "execution_count": 92,
     "metadata": {},
     "output_type": "execute_result"
    }
   ],
   "source": [
    "results['memento'].head(5)"
   ]
  },
  {
   "cell_type": "markdown",
   "id": "54364490-b3c3-46b5-b480-0545fd11baae",
   "metadata": {},
   "source": [
    "### Read results"
   ]
  },
  {
   "cell_type": "code",
   "execution_count": 93,
   "id": "22f87cf8-88ab-4e9b-bdc4-64d20b5b75e8",
   "metadata": {
    "tags": []
   },
   "outputs": [],
   "source": [
    "# Read anndata object and setup results\n",
    "# adata = sc.read(data_path + 'de/anndata.h5ad')\n",
    "\n",
    "# Set up results holder\n",
    "\n",
    "# Read edger\n",
    "results['edger_lrt'] = pd.read_csv(data_path + 'de/edger_lrt.csv', index_col=0)[['logFC', 'PValue', 'FDR']]\n",
    "results['edger_qlft'] = pd.read_csv(data_path + 'de/edger_qlft.csv', index_col=0)[['logFC', 'PValue', 'FDR']]\n",
    "\n",
    "\n",
    "\n",
    "# Read t test\n",
    "results['t'] = pd.read_csv(data_path + 'de/t.csv', index_col=0)[['coef', 'pval', 'fdr']]\n",
    "\n"
   ]
  },
  {
   "cell_type": "markdown",
   "id": "f32ceb3d-41ce-4c00-8651-a5bf94d91b55",
   "metadata": {},
   "source": [
    "### Make power vs FDR curve"
   ]
  },
  {
   "cell_type": "code",
   "execution_count": 94,
   "id": "1e750fb1-9ed4-48e1-b090-5e6cc3aab96b",
   "metadata": {},
   "outputs": [],
   "source": [
    "# Get overlapping genes\n",
    "genes = set(adata.var.index)\n",
    "for method, result in results.items():\n",
    "    results[method] = result.join(adata.var[['is_de']],how='inner')\n",
    "    genes &= set(result.index)\n",
    "genes = list(genes)\n",
    "for method, result in results.items():\n",
    "    results[method] = result.loc[genes]\n",
    "    results[method].columns = ['coef', 'pval', 'fdr', 'is_de']"
   ]
  },
  {
   "cell_type": "code",
   "execution_count": 95,
   "id": "c8e6e281-f54f-4eeb-8c50-82f581fb4edd",
   "metadata": {},
   "outputs": [
    {
     "name": "stdout",
     "output_type": "stream",
     "text": [
      "memento - fpr: 0.0421731123388582 - tpr : 0.6087551299589603 - thresh : 0.05\n",
      "edger_lrt - fpr: 0.06970534069981583 - tpr : 0.9534883720930233 - thresh : 0.05\n",
      "edger_qlft - fpr: 0.06906077348066299 - tpr : 0.9534883720930233 - thresh : 0.05\n",
      "t - fpr: 0.04392265193370166 - tpr : 0.948016415868673 - thresh : 0.05\n"
     ]
    },
    {
     "data": {
      "text/plain": [
       "Text(0.5, 0, 'FDR')"
      ]
     },
     "execution_count": 95,
     "metadata": {},
     "output_type": "execute_result"
    },
    {
     "data": {
      "image/png": "[encoded data removed]",
      "text/plain": [
       "<Figure size 250x200 with 1 Axes>"
      ]
     },
     "metadata": {},
     "output_type": "display_data"
    }
   ],
   "source": [
    "plt.figure(figsize=(2.5, 2))\n",
    "# Print some statistics\n",
    "n=8\n",
    "thresholds = OrderedDict([\n",
    "    ('memento',np.linspace(0.01, 0.5, n)),\n",
    "    ('memento_wls',np.linspace(0.01, 0.1, n)),\n",
    "    ('old_memento', np.linspace(0.01, 0.1, n)),\n",
    "    ('t',np.linspace(0.01, 0.5, n-1)),\n",
    "    ('edger_lrt',np.linspace(0.01, 0.5, n)),\n",
    "    ('edger_qlft',np.linspace(0.01, 0.5, n-2))     \n",
    "])\n",
    "check_thresh = 0.05\n",
    "for method, result in results.items():\n",
    "    if method == 'old_memento':continue\n",
    "\n",
    "    tpr = (result.query('is_de')['pval'] < check_thresh).mean()\n",
    "    fpr = (result.query('~is_de')['pval'] < check_thresh).mean()\n",
    "    print(f'{method} - fpr: {fpr} - tpr : {tpr} - thresh : {check_thresh}')\n",
    "\n",
    "    fdr = []\n",
    "    tpr = []\n",
    "    sorted_result = result.sort_values('fdr')\n",
    "    for thresh in thresholds[method]:\n",
    "\n",
    "        hits = result.query(f'fdr < {thresh}')\n",
    "        fdr.append(1-hits['is_de'].mean())\n",
    "        tpr.append(hits['is_de'].sum()/result['is_de'].sum())\n",
    "    plt.plot(fdr, tpr, '-o', label=method)\n",
    "plt.legend(frameon=False, ncol=2, )\n",
    "plt.ylabel('Power'); plt.xlabel('FDR')"
   ]
  },
  {
   "cell_type": "code",
   "execution_count": 96,
   "id": "883b037c-7082-4393-86d4-18b0cb6d2e52",
   "metadata": {},
   "outputs": [
    {
     "name": "stdout",
     "output_type": "stream",
     "text": [
      "memento - fpr: 0.0421731123388582 - tpr : 0.6087551299589603 - thresh : 0.05\n",
      "edger_lrt - fpr: 0.06970534069981583 - tpr : 0.9534883720930233 - thresh : 0.05\n",
      "edger_qlft - fpr: 0.06906077348066299 - tpr : 0.9534883720930233 - thresh : 0.05\n",
      "t - fpr: 0.04392265193370166 - tpr : 0.948016415868673 - thresh : 0.05\n"
     ]
    },
    {
     "data": {
      "text/plain": [
       "Text(0.5, 0, 'FPR')"
      ]
     },
     "execution_count": 96,
     "metadata": {},
     "output_type": "execute_result"
    },
    {
     "data": {
      "image/png": "[encoded data removed]",
      "text/plain": [
       "<Figure size 250x200 with 1 Axes>"
      ]
     },
     "metadata": {},
     "output_type": "display_data"
    }
   ],
   "source": [
    "plt.figure(figsize=(2.5, 2))\n",
    "# Print some statistics\n",
    "n=8\n",
    "thresholds = OrderedDict([\n",
    "    ('memento',np.logspace(-3, -1, n-1)),\n",
    "    ('memento_wls',np.linspace(0.001, 0.1, n)),\n",
    "    ('old_memento', np.linspace(0.001, 0.1, n)),\n",
    "\n",
    "    ('t',np.logspace(-3, -1, n-1)),\n",
    "    ('edger_lrt',np.logspace(-3, -1., n-1)),\n",
    "    ('edger_qlft',np.logspace(-3, -1, n-1))     \n",
    "])\n",
    "check_thresh = 0.05\n",
    "for method, result in results.items():\n",
    "\n",
    "    tpr = (result.query('is_de')['pval'] < check_thresh).mean()\n",
    "    fpr = (result.query('~is_de')['pval'] < check_thresh).mean()\n",
    "    print(f'{method} - fpr: {fpr} - tpr : {tpr} - thresh : {check_thresh}')\n",
    "\n",
    "    fpr = []\n",
    "    tpr = []\n",
    "    sorted_result = result.sort_values('fdr')\n",
    "    for thresh in thresholds[method]:\n",
    "\n",
    "        hits = result.query(f'pval < {thresh}')\n",
    "        fpr.append((result.query('~is_de')['pval'] < thresh).mean())\n",
    "        tpr.append(hits['is_de'].sum()/result['is_de'].sum())\n",
    "    plt.plot(fpr, tpr, '-o', label=method, markersize=3)\n",
    "plt.legend(frameon=False, ncol=2, )\n",
    "plt.ylabel('Power'); plt.xlabel('FPR')"
   ]
  },
  {
   "cell_type": "markdown",
   "id": "618fc9dd-b1a7-4ece-b6e6-3b6984869378",
   "metadata": {},
   "source": [
    "### Make calibration curves"
   ]
  },
  {
   "cell_type": "code",
   "execution_count": 97,
   "id": "60bab540-9c57-4329-ab0e-49c0efa21361",
   "metadata": {},
   "outputs": [
    {
     "data": {
      "text/plain": [
       "<matplotlib.legend.Legend at 0x7fa7bd119660>"
      ]
     },
     "execution_count": 97,
     "metadata": {},
     "output_type": "execute_result"
    },
    {
     "data": {
      "image/png": "[encoded data removed]",
      "text/plain": [
       "<Figure size 260x200 with 1 Axes>"
      ]
     },
     "metadata": {},
     "output_type": "display_data"
    }
   ],
   "source": [
    "means = pd.DataFrame(adata.X.mean(axis=0).A1, index=adata.var.index)\n",
    "means.columns=['mean']\n",
    "plt.figure(figsize=(2.6,2))\n",
    "\n",
    "# LOW EXPR genes\n",
    "sig_thresholds = np.linspace(0, 0.1, n)\n",
    "\n",
    "for method, result in results.items():\n",
    "    result = result.join(means)\n",
    "    result = result.loc[result['mean'] < np.quantile(result['mean'], 0.1)]\n",
    "    \n",
    "    fdr = []\n",
    "    fpr = []\n",
    "    \n",
    "    sorted_result = result.sort_values('fdr')\n",
    "    for thresh in sig_thresholds:\n",
    "\n",
    "        fdr_hits = result.query(f'fdr < {thresh}')\n",
    "        fpr_hits = result.query(f'pval < {thresh}')\n",
    "        fdr.append(1-fdr_hits['is_de'].mean())\n",
    "        fpr.append((result.query('~is_de')['pval'] < thresh).mean())\n",
    "    plt.plot(sig_thresholds, fpr, '-o', label=method, markersize=5)\n",
    "plt.ylabel('False positive rate')\n",
    "plt.xlabel('P-value cutoff')\n",
    "plt.title('Lowly expressed')\n",
    "\n",
    "plt.gca().set_prop_cycle(None)\n",
    "\n",
    "# HIGH EXPR genes\n",
    "for method, result in results.items():\n",
    "    result = result.join(means)\n",
    "    result = result.loc[result['mean'] > np.quantile(result['mean'], 0.9)]\n",
    "\n",
    "    fdr = []\n",
    "    fpr = []\n",
    "    \n",
    "    sorted_result = result.sort_values('fdr')\n",
    "    for thresh in sig_thresholds:\n",
    "\n",
    "        fdr_hits = result.query(f'fdr < {thresh}')\n",
    "        fpr_hits = result.query(f'pval < {thresh}')\n",
    "        fdr.append(1-fdr_hits['is_de'].mean())\n",
    "        fpr.append((result.query('~is_de')['pval'] < thresh).mean())\n",
    "    plt.plot(sig_thresholds, fpr, '--o', markersize=5)\n",
    "plt.rcParams['legend.handlelength'] = 0\n",
    "plt.legend(frameon=False, loc='upper center', bbox_to_anchor=(0, 1.5), ncol=2)\n",
    "plt.rcParams['legend.handlelength'] = 2\n",
    "# plt.plot([0, 0.1], [0, 0.1], '--', color='k', lw=3)\n",
    "plt.xlabel('P-value cutoff')\n",
    "legend_elements = [Line2D([0], [0], color='k', lw=1, label='high expr', linestyle='--'),\n",
    "                   Line2D([0], [0], color='k', lw=1, label='low expr')]\n",
    "plt.legend(handles=legend_elements, frameon=False)\n"
   ]
  },
  {
   "cell_type": "code",
   "execution_count": 98,
   "id": "d6337046-5070-4535-9276-faccdf90bc4f",
   "metadata": {},
   "outputs": [
    {
     "name": "stdout",
     "output_type": "stream",
     "text": [
      "(1159, 5)\n",
      "(1159, 5)\n",
      "(1159, 5)\n",
      "(1159, 5)\n"
     ]
    },
    {
     "data": {
      "text/plain": [
       "Text(0.5, 1.0, 'Highly expressed')"
      ]
     },
     "execution_count": 98,
     "metadata": {},
     "output_type": "execute_result"
    },
    {
     "data": {
      "image/png": "[encoded data removed]",
      "text/plain": [
       "<Figure size 400x200 with 2 Axes>"
      ]
     },
     "metadata": {},
     "output_type": "display_data"
    }
   ],
   "source": [
    "means = pd.DataFrame(adata.X.mean(axis=0).A1, index=adata.var.index)\n",
    "means.columns=['mean']\n",
    "plt.figure(figsize=(4,2))\n",
    "plt.subplots_adjust(wspace=0.3)\n",
    "\n",
    "# LOW EXPR genes\n",
    "plt.subplot(1, 2, 1);\n",
    "sig_thresholds = np.linspace(0, 0.1, n)\n",
    "\n",
    "for method, result in results.items():\n",
    "    result = result.join(means)\n",
    "    result = result.loc[result['mean'] < np.quantile(result['mean'], 0.1)]\n",
    "    print(result.shape)\n",
    "    \n",
    "    fdr = []\n",
    "    fpr = []\n",
    "    \n",
    "    sorted_result = result.sort_values('fdr')\n",
    "    for thresh in sig_thresholds:\n",
    "\n",
    "        fdr_hits = result.query(f'fdr < {thresh}')\n",
    "        fpr_hits = result.query(f'pval < {thresh}')\n",
    "        fdr.append(1-fdr_hits['is_de'].mean())\n",
    "        fpr.append((result.query('~is_de')['pval'] < thresh).mean())\n",
    "    plt.plot(sig_thresholds, fpr, '-o', label=method, markersize=5)\n",
    "plt.ylabel('False positive rate')\n",
    "plt.plot([0, 0.1], [0, 0.1], '--', color='k', lw=3)\n",
    "plt.xlabel('P-value cutoff')\n",
    "plt.title('Lowly expressed')\n",
    "\n",
    "# HIGH EXPR genes\n",
    "plt.subplot(1, 2, 2)\n",
    "for method, result in results.items():\n",
    "    result = result.join(means)\n",
    "    result = result.loc[result['mean'] > np.quantile(result['mean'], 0.9)]\n",
    "\n",
    "    fdr = []\n",
    "    fpr = []\n",
    "    \n",
    "    sorted_result = result.sort_values('fdr')\n",
    "    for thresh in sig_thresholds:\n",
    "\n",
    "        fdr_hits = result.query(f'fdr < {thresh}')\n",
    "        fpr_hits = result.query(f'pval < {thresh}')\n",
    "        fdr.append(1-fdr_hits['is_de'].mean())\n",
    "        fpr.append((result.query('~is_de')['pval'] < thresh).mean())\n",
    "    plt.plot(sig_thresholds, fpr, '-o', label=method, markersize=5)\n",
    "    plt.legend(frameon=False, loc='upper center', bbox_to_anchor=(0, 1.5), ncol=2)\n",
    "plt.plot([0, 0.1], [0, 0.1], '--', color='k', lw=3)\n",
    "plt.xlabel('P-value cutoff')\n",
    "plt.title('Highly expressed')\n"
   ]
  },
  {
   "cell_type": "code",
   "execution_count": null,
   "id": "5bf6fcdf-8ed1-46f9-b9f0-fe4eeb935ba1",
   "metadata": {},
   "outputs": [],
   "source": []
  },
  {
   "cell_type": "code",
   "execution_count": null,
   "id": "de607fff-8006-4582-b0e5-baeb3349d87d",
   "metadata": {},
   "outputs": [],
   "source": []
  },
  {
   "cell_type": "markdown",
   "id": "400a08cd-bccf-4370-a3c0-509cc6b5c56a",
   "metadata": {},
   "source": [
    "# Old sections"
   ]
  },
  {
   "cell_type": "markdown",
   "id": "34bfd443-ecff-4098-ba6b-6d3fb24874df",
   "metadata": {
    "tags": []
   },
   "source": [
    "### Debugging section"
   ]
  },
  {
   "cell_type": "code",
   "execution_count": 144,
   "id": "fdd4c60b-973f-48c4-ad0c-0658aca20025",
   "metadata": {},
   "outputs": [],
   "source": [
    "group = 'memento_group^ctrl'\n",
    "barcodes = model.adata.uns['memento']['group_barcodes'][group]\n",
    "gene_list = model.adata.var.index.tolist()\n",
    "\n",
    "data = model.subset_matrix(barcodes, gene_list).tocsc() #CSC format is faster\n",
    "sf = model.adata.obs.loc[barcodes]['memento_size_factor'].values\n",
    "approx_sf = model.adata.obs.loc[barcodes]['memento_approx_size_factor'].values\n",
    "q = model.adata.uns['memento']['group_q'][group]"
   ]
  },
  {
   "cell_type": "code",
   "execution_count": 187,
   "id": "5974974e-4816-4f0d-8e09-86853a455c4a",
   "metadata": {},
   "outputs": [],
   "source": [
    "group2 = 'memento_group^stim'\n",
    "barcodes2 = model.adata.uns['memento']['group_barcodes'][group2]\n",
    "\n",
    "data2 = model.subset_matrix(barcodes2, gene_list).tocsc() #CSC format is faster\n",
    "sf2 = model.adata.obs.loc[barcodes2]['memento_size_factor'].values\n",
    "approx_sf2 = model.adata.obs.loc[barcodes2]['memento_approx_size_factor'].values\n"
   ]
  },
  {
   "cell_type": "code",
   "execution_count": 275,
   "id": "221c6e85-5634-4207-bcd4-b01ec9355b6b",
   "metadata": {},
   "outputs": [],
   "source": [
    "tstat, pv = stats.ttest_ind(\n",
    "    data/approx_sf.reshape(-1,1), \n",
    "    data2/approx_sf2.reshape(-1,1))\n",
    "_, fdr = fdrcorrection(pv)\n",
    "results['memento'] = pd.DataFrame(zip(tstat, pv, fdr), columns=['coef', 'pval', 'fdr'], index=gene_list)\n"
   ]
  },
  {
   "cell_type": "code",
   "execution_count": 378,
   "id": "a43906bc-8e00-417f-99f7-13493b2b64d0",
   "metadata": {},
   "outputs": [],
   "source": [
    "tstat, pv = stats.ttest_ind_from_stats(\n",
    "    (data/approx_sf.reshape(-1,1)).mean(axis=0).A1,\n",
    "    (data/approx_sf.reshape(-1,1)).std(axis=0).A1,\n",
    "    data.shape[0],\n",
    "    (data2/approx_sf2.reshape(-1,1)).mean(axis=0).A1,\n",
    "    (data2/approx_sf2.reshape(-1,1)).std(axis=0).A1,\n",
    "    data2.shape[0],   \n",
    "    equal_var=False,\n",
    ")\n",
    "_, fdr = fdrcorrection(pv)\n",
    "results['memento'] = pd.DataFrame(zip(tstat, pv, fdr), columns=['coef', 'pval', 'fdr'], index=gene_list)\n"
   ]
  },
  {
   "cell_type": "code",
   "execution_count": 296,
   "id": "c2e96117-860b-4e22-b2a2-a18406fb26b8",
   "metadata": {},
   "outputs": [],
   "source": [
    "m1 = model.estimates['mean'].iloc[0, :]\n",
    "m2 = model.estimates['mean'].iloc[1, :]\n",
    "v1 = samp.sample_variance(data, approx_sf)\n",
    "v2 = samp.sample_variance(data2, approx_sf2)\n",
    "n1 = data.shape[0]\n",
    "n2 = data.shape[0]"
   ]
  },
  {
   "cell_type": "code",
   "execution_count": 371,
   "id": "aed6cf3c-b97c-4bbf-938f-d6a425d28b10",
   "metadata": {},
   "outputs": [],
   "source": [
    "coef = samp.sample_mean(data2, approx_sf2) - samp.sample_mean(data, approx_sf)\n",
    "sv1 =  samp.sample_variance(data, approx_sf)/data.shape[0]\n",
    "sv2 = samp.sample_variance(data2, approx_sf2)/data2.shape[0]\n",
    "se = np.sqrt(sv1 + sv2)\n",
    "pv = 2*stats.norm.sf(np.absolute(coef/se))\n",
    "_, fdr = fdrcorrection(pv)\n",
    "\n",
    "\n",
    "results['memento'] = pd.DataFrame(zip(coef, pv, fdr), columns=['coef', 'pval', 'fdr'], index=gene_list)\n"
   ]
  },
  {
   "cell_type": "code",
   "execution_count": 314,
   "id": "38a56b2c-5b50-4599-95c4-f2653da2b23a",
   "metadata": {},
   "outputs": [],
   "source": [
    "idx = 8548\n",
    "# idx = 0"
   ]
  },
  {
   "cell_type": "code",
   "execution_count": 315,
   "id": "0b5da72e-4318-4248-94d0-c465093615e2",
   "metadata": {},
   "outputs": [],
   "source": [
    "a = hg.hg_sem_for_gene(data[:, idx], q, approx_sf, 1000, group, return_boot_samples=True)"
   ]
  },
  {
   "cell_type": "code",
   "execution_count": 316,
   "id": "d6a09814-197f-4537-b1ea-86dae8e84612",
   "metadata": {},
   "outputs": [
    {
     "data": {
      "text/plain": [
       "<Axes: ylabel='Density'>"
      ]
     },
     "execution_count": 316,
     "metadata": {},
     "output_type": "execute_result"
    },
    {
     "data": {
      "image/png": "[encoded data removed]",
      "text/plain": [
       "<Figure size 640x480 with 1 Axes>"
      ]
     },
     "metadata": {},
     "output_type": "display_data"
    }
   ],
   "source": [
    "sns.kdeplot(a)"
   ]
  },
  {
   "cell_type": "code",
   "execution_count": 317,
   "id": "efd9100e-fab2-4dc8-b836-11ae0eec4521",
   "metadata": {},
   "outputs": [
    {
     "data": {
      "text/plain": [
       "(14.192574156448677,\n",
       " 7991.134813478997,\n",
       " 0.04525080069634406,\n",
       " 0.04510661781260613)"
      ]
     },
     "execution_count": 317,
     "metadata": {},
     "output_type": "execute_result"
    }
   ],
   "source": [
    " hg.hg_sem_for_gene(data[:, idx], q, approx_sf, 1000, group, return_boot_samples=False)"
   ]
  },
  {
   "cell_type": "code",
   "execution_count": 318,
   "id": "4e2f8dba-58ca-4818-b90c-63abf1eee319",
   "metadata": {},
   "outputs": [],
   "source": [
    "s = samp.sample_variance(data, approx_sf)/data.shape[0]"
   ]
  },
  {
   "cell_type": "code",
   "execution_count": 319,
   "id": "9a0395a0-4fe3-407f-8617-40a08586b400",
   "metadata": {},
   "outputs": [
    {
     "data": {
      "text/plain": [
       "13.662617819397619"
      ]
     },
     "execution_count": 319,
     "metadata": {},
     "output_type": "execute_result"
    }
   ],
   "source": [
    "np.sqrt(s[idx])"
   ]
  }
 ],
 "metadata": {
  "kernelspec": {
   "display_name": "Python (single_cell)",
   "language": "python",
   "name": "single_cell"
  },
  "language_info": {
   "codemirror_mode": {
    "name": "ipython",
    "version": 3
   },
   "file_extension": ".py",
   "mimetype": "text/x-python",
   "name": "python",
   "nbconvert_exporter": "python",
   "pygments_lexer": "ipython3",
   "version": "3.10.11"
  }
 },
 "nbformat": 4,
 "nbformat_minor": 5
}
