{
 "cells": [
  {
   "cell_type": "markdown",
   "id": "608abf8f-39a9-4a40-a751-3d0c3f293e3b",
   "metadata": {},
   "source": [
    "# Generate DE data\n",
    "\n",
    "Generate DE data with 2 replicates"
   ]
  },
  {
   "cell_type": "code",
   "execution_count": 114,
   "id": "0d3e36a7-e1d3-4dc0-8384-67c2a1031317",
   "metadata": {},
   "outputs": [],
   "source": [
    "import pandas as pd\n",
    "import matplotlib.pyplot as plt\n",
    "import scanpy as sc\n",
    "import scipy as sp\n",
    "import itertools\n",
    "import numpy as np\n",
    "import scipy.stats as stats\n",
    "from scipy.integrate import dblquad\n",
    "import seaborn as sns\n",
    "from statsmodels.stats.multitest import fdrcorrection\n",
    "import statsmodels.api as sm\n",
    "import pickle as pkl\n",
    "import time\n",
    "import string\n",
    "import random\n",
    "from sklearn.datasets import make_spd_matrix\n",
    "from statsmodels.stats.moment_helpers import cov2corr"
   ]
  },
  {
   "cell_type": "code",
   "execution_count": 115,
   "id": "e92a804e-92d9-4faf-a4b1-834266eadfae",
   "metadata": {},
   "outputs": [],
   "source": [
    "import sys\n",
    "sys.path.append('/home/ssm-user/Github/scrna-parameter-estimation/dist/memento-0.1.0-py3.10.egg')\n",
    "import memento\n",
    "import memento.simulate as simulate"
   ]
  },
  {
   "cell_type": "code",
   "execution_count": 116,
   "id": "150c5cf5-dac2-4a44-b3c0-b78fda66adbe",
   "metadata": {},
   "outputs": [],
   "source": [
    "data_path = '/data_volume/memento/simulation/'\n"
   ]
  },
  {
   "cell_type": "markdown",
   "id": "cc75e0e5-eae6-42aa-a8d7-19150e3d5466",
   "metadata": {},
   "source": [
    "### Setup simulation"
   ]
  },
  {
   "cell_type": "code",
   "execution_count": 185,
   "id": "1df22e2d-93e4-4ffe-98ab-fad179122e97",
   "metadata": {},
   "outputs": [],
   "source": [
    "ifn_adata = sc.read('/data_volume/memento/hbec/' + 'HBEC_type_I_filtered_counts_deep.h5ad')\n",
    "q=0.07\n",
    "\n",
    "adata_1 = ifn_adata[(ifn_adata.obs['cell_type'] == 'ciliated') & (ifn_adata.obs['stim'] == 'control')]\n",
    "adata_2 = ifn_adata[(ifn_adata.obs['cell_type'] == 'ciliated') & (ifn_adata.obs['stim'] == 'beta')]\n",
    "\n",
    "x_param_1, z_param_1, Nc_1, good_idx_1 = simulate.extract_parameters(adata_1.X, q=q)\n",
    "x_param_2, z_param_2, Nc_2, good_idx_2 = simulate.extract_parameters(adata_2.X, q=q)\n",
    "common_set = np.array(list(set(good_idx_1) & set(good_idx_2)))\n",
    "x_param_1 = (\n",
    "    np.array([x for x,i in zip(x_param_1[0], good_idx_1) if i in common_set]),\n",
    "    np.array([x for x,i in zip(x_param_1[1], good_idx_1) if i in common_set]))\n",
    "x_param_2 = (\n",
    "    np.array([x for x,i in zip(x_param_2[0], good_idx_2) if i in common_set]),\n",
    "    np.array([x for x,i in zip(x_param_2[1], good_idx_2) if i in common_set]))\n",
    "z_param_1 = (\n",
    "    np.array([x for x,i in zip(z_param_1[0], good_idx_1) if i in common_set]),\n",
    "    np.array([x for x,i in zip(z_param_1[1], good_idx_1) if i in common_set]))\n",
    "z_param_2 = (\n",
    "    np.array([x for x,i in zip(z_param_2[0], good_idx_2) if i in common_set]),\n",
    "    np.array([x for x,i in zip(z_param_2[1], good_idx_2) if i in common_set]))\n",
    "\n",
    "pos_var_condition = (z_param_1[1] > 0) & (z_param_2[1] > 0)\n",
    "x_param_1 = (x_param_1[0][pos_var_condition], x_param_1[1][pos_var_condition])\n",
    "x_param_2 = (x_param_2[0][pos_var_condition], x_param_2[1][pos_var_condition])\n",
    "z_param_1 = (z_param_1[0][pos_var_condition], z_param_1[1][pos_var_condition])\n",
    "z_param_2 = (z_param_2[0][pos_var_condition], z_param_2[1][pos_var_condition])\n",
    "\n",
    "d1 = (z_param_1[1] - z_param_1[0])/z_param_1[0]**2\n",
    "d2 = (z_param_2[1] - z_param_2[0])/z_param_2[0]**2\n",
    "d1[d1 < 0] = 1e-3\n",
    "d2[d2 < 0] = 1e-3"
   ]
  },
  {
   "cell_type": "code",
   "execution_count": 186,
   "id": "922c4fa6-2df4-4128-971b-10654dead875",
   "metadata": {},
   "outputs": [],
   "source": [
    "estimated_TE = np.log(x_param_2[0]) - np.log(x_param_1[0])\n",
    "estimated_TE[np.absolute(estimated_TE) < 0.25] = 0\n",
    "available_de_idxs = np.where(np.absolute(estimated_TE) > 0)[0]\n",
    "\n",
    "num_genes = x_param_1[0].shape[0]\n",
    "base_mean = np.log(x_param_1[0])\n",
    "treatment_effects = np.zeros(num_genes)\n",
    "num_de = 2000\n",
    "de_idxs = np.random.choice(available_de_idxs, num_de)\n",
    "treatment_effects[de_idxs] =  estimated_TE[de_idxs]/2"
   ]
  },
  {
   "cell_type": "code",
   "execution_count": 187,
   "id": "0f119a06-b3b2-4956-8fdf-293d1a49f576",
   "metadata": {},
   "outputs": [
    {
     "data": {
      "text/plain": [
       "<Axes: ylabel='Density'>"
      ]
     },
     "execution_count": 187,
     "metadata": {},
     "output_type": "execute_result"
    },
    {
     "data": {
      "image/png": "[encoded data removed]",
      "text/plain": [
       "<Figure size 640x480 with 1 Axes>"
      ]
     },
     "metadata": {},
     "output_type": "display_data"
    }
   ],
   "source": [
    "sns.kdeplot(treatment_effects[de_idxs])"
   ]
  },
  {
   "cell_type": "markdown",
   "id": "e8a66869-b4dc-40b7-9a8f-d369524b37f2",
   "metadata": {},
   "source": [
    "### Generate"
   ]
  },
  {
   "cell_type": "code",
   "execution_count": 188,
   "id": "ff18259b-940d-4691-8a2e-b562c3234f1a",
   "metadata": {},
   "outputs": [],
   "source": [
    "def convert_params_nb(mu, theta):\n",
    "    \"\"\"\n",
    "    Convert mean/dispersion parameterization of a negative binomial to the ones scipy supports\n",
    "\n",
    "    See https://en.wikipedia.org/wiki/Negative_binomial_distribution#Alternative_formulations\n",
    "    \"\"\"\n",
    "    r = theta\n",
    "    var = mu + 1 / r * mu ** 2\n",
    "    p = (var - mu) / var\n",
    "    return r, 1 - p"
   ]
  },
  {
   "cell_type": "code",
   "execution_count": 231,
   "id": "f0f5a6c2-ba28-4e7d-8685-75baa10b15da",
   "metadata": {},
   "outputs": [],
   "source": [
    "n1 = 1000\n",
    "n2 = 2000\n",
    "num_cells = n1*2+n2*2\n",
    "expr_matrix = np.zeros((num_cells, num_genes))\n",
    "ind1_intercepts = base_mean\n",
    "ind2_intercepts = base_mean\n",
    "delta_te = stats.norm.rvs(scale=1, size=num_genes)\n",
    "\n",
    "relative_means = np.exp(np.vstack([\n",
    "    ind1_intercepts,\n",
    "    ind1_intercepts + treatment_effects + delta_te/2,\n",
    "    ind2_intercepts,\n",
    "    ind2_intercepts + treatment_effects - delta_te/2]))\n",
    "# relative_means /= relative_means.sum(axis=1).reshape(-1,1)\n",
    "\n",
    "for i in range(num_genes):\n",
    "\n",
    "    # intercept_diff = stats.norm.rvs(scale=0.1)\n",
    "    # ind1_intercept = ind1_intercepts[i] - intercept_diff/2\n",
    "    # ind2_intercept = ind2_intercepts[i] + intercept_diff/2\n",
    "    # treatment_effect = treatment_effects[i]\n",
    "    # delta_te_random = delta_te[i]\n",
    "\n",
    "    # ctrl_ind1 = ind1_intercept\n",
    "    # stim_ind1 = ind1_intercept + treatment_effect + delta_te_random/2\n",
    "    \n",
    "    # ctrl_ind2 = ind2_intercept\n",
    "    # stim_ind2 = ind2_intercept + treatment_effect - delta_te_random/2\n",
    "\n",
    "    ctrl_ind1, stim_ind1, ctrl_ind2, stim_ind2 = relative_means[:, i]\n",
    "\n",
    "\n",
    "    ctrl_ind1 = ctrl_ind1*np.random.choice(Nc_1, n1)\n",
    "    stim_ind1 = stim_ind1*np.random.choice(Nc_1, n1)\n",
    "    ctrl_ind2 = ctrl_ind2*np.random.choice(Nc_1, n2)\n",
    "    stim_ind2 = stim_ind2*np.random.choice(Nc_1, n2)\n",
    "\n",
    "    \n",
    "    ctrl_ind1_cells = stats.nbinom.rvs(*convert_params_nb(ctrl_ind1, 5), size=n1)\n",
    "    stim_ind1_cells = stats.nbinom.rvs(*convert_params_nb(stim_ind1, 5), size=n1)\n",
    "    \n",
    "    ctrl_ind2_cells = stats.nbinom.rvs(*convert_params_nb(ctrl_ind2, 5), size=n2)\n",
    "    stim_ind2_cells = stats.nbinom.rvs(*convert_params_nb(stim_ind2, 5), size=n2)\n",
    "\n",
    "    expr_matrix[:, i] = np.concatenate([ctrl_ind1_cells, stim_ind1_cells, ctrl_ind2_cells, stim_ind2_cells])"
   ]
  },
  {
   "cell_type": "markdown",
   "id": "773b03dc-b6f3-4016-af05-57e6f66d7604",
   "metadata": {},
   "source": [
    "### Perform sampling"
   ]
  },
  {
   "cell_type": "code",
   "execution_count": 232,
   "id": "677ca19d-49d0-4d46-8441-6e7ca2f4dd6a",
   "metadata": {},
   "outputs": [],
   "source": [
    "_, expr_matrix = simulate.capture_sampling(expr_matrix.astype(int), q=q, process='hyper')"
   ]
  },
  {
   "cell_type": "markdown",
   "id": "60bae572-1fa5-44fc-84fc-9b62700b4fa9",
   "metadata": {},
   "source": [
    "### Generate the dataframes"
   ]
  },
  {
   "cell_type": "code",
   "execution_count": 233,
   "id": "3088efd1-f8fe-47c3-aeba-451a1e931047",
   "metadata": {},
   "outputs": [],
   "source": [
    "group = ['A' for i in range(2*n1)] + ['B' for i in range(2*n2)]\n",
    "condition = \\\n",
    "    ['ctrl' for i in range(n1)] + \\\n",
    "    ['stim' for i in range(n1)] + \\\n",
    "    ['ctrl' for i in range(n2)] + \\\n",
    "    ['stim' for i in range(n2)]\n",
    "obs = pd.DataFrame(\n",
    "        zip(group, condition), \n",
    "        index=['cell'+str(i) for i in range(num_cells)],\n",
    "        columns=['group', 'condition'])\n",
    "var = pd.DataFrame(index=['gene'+str(i) for i in range(num_genes)])"
   ]
  },
  {
   "cell_type": "markdown",
   "id": "5bb4a54e-06df-446f-8360-5eab866305fb",
   "metadata": {},
   "source": [
    "### Save AnnData"
   ]
  },
  {
   "cell_type": "code",
   "execution_count": 234,
   "id": "7d918ec5-2c92-4c08-b24b-54fbcf92df48",
   "metadata": {},
   "outputs": [],
   "source": [
    "anndata = sc.AnnData(\n",
    "    sp.sparse.csr_matrix(expr_matrix, dtype=float), \n",
    "    obs=obs, \n",
    "    var=var)\n",
    "de_genes = np.zeros(num_genes)\n",
    "de_genes[de_idxs] = 1\n",
    "anndata.var['is_de'] = de_genes.astype(bool)\n",
    "anndata.var['treatment_effect'] = treatment_effect\n",
    "\n",
    "anndata.write(data_path + 'de/anndata.h5ad')"
   ]
  },
  {
   "cell_type": "code",
   "execution_count": 235,
   "id": "1c883aeb-a39e-41bb-9464-39f91b8eb760",
   "metadata": {},
   "outputs": [],
   "source": [
    "norm_adata = anndata.copy().copy()\n",
    "sc.pp.normalize_total(norm_adata, target_sum=1)\n",
    "norm_adata.write(data_path + 'de/norm_anndata.h5ad')"
   ]
  },
  {
   "cell_type": "code",
   "execution_count": 228,
   "id": "1cf4edde-ae69-4e12-92f4-990175bda94a",
   "metadata": {},
   "outputs": [],
   "source": [
    "expr_df = pd.DataFrame(expr_matrix, index=obs.index, columns=var.index)\n",
    "grouped = pd.concat([obs, expr_df], axis=1)\n",
    "pseudobulks = grouped.groupby(['group', 'condition'])[expr_df.columns].sum()\n",
    "pseudobulks.index = [x+'_'+y for x,y in pseudobulks.index]\n",
    "pseudobulks.T.to_csv(data_path + 'de/pseudobulks.csv')"
   ]
  },
  {
   "cell_type": "code",
   "execution_count": null,
   "id": "40733f39-bcad-4294-ba98-aa30414fe146",
   "metadata": {},
   "outputs": [],
   "source": []
  }
 ],
 "metadata": {
  "kernelspec": {
   "display_name": "Python (single_cell)",
   "language": "python",
   "name": "myenv"
  },
  "language_info": {
   "codemirror_mode": {
    "name": "ipython",
    "version": 3
   },
   "file_extension": ".py",
   "mimetype": "text/x-python",
   "name": "python",
   "nbconvert_exporter": "python",
   "pygments_lexer": "ipython3",
   "version": "3.10.12"
  }
 },
 "nbformat": 4,
 "nbformat_minor": 5
}
