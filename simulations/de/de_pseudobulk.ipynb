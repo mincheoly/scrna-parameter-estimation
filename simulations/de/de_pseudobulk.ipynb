{
 "cells": [
  {
   "cell_type": "markdown",
   "id": "462dcd18-b19f-4478-819f-dc36b30d59c0",
   "metadata": {},
   "source": [
    "# Pseudobulk methods for DE"
   ]
  },
  {
   "cell_type": "code",
   "execution_count": 342,
   "id": "7ae1adbd-0307-4bb8-a6f1-51f5eb1848cb",
   "metadata": {},
   "outputs": [],
   "source": [
    "library(edgeR)"
   ]
  },
  {
   "cell_type": "markdown",
   "id": "1b4e4681-c0d7-4c43-b490-75a79b7f507d",
   "metadata": {},
   "source": [
    "### Repeated"
   ]
  },
  {
   "cell_type": "code",
   "execution_count": 343,
   "id": "74c1fa89-77ad-40ec-90fa-3e737e039a15",
   "metadata": {},
   "outputs": [],
   "source": [
    "num_groups_per_condition <- 2"
   ]
  },
  {
   "cell_type": "code",
   "execution_count": 344,
   "id": "b5602c34-b5e9-4415-9170-d27a9c8e97a5",
   "metadata": {},
   "outputs": [],
   "source": [
    "data = read.table('/data_volume/memento/simulation/inference/means/pseudobulks_0.csv', sep=',', header=1, row.names=1)\n",
    "# groups <- c( rep('ctrl', num_groups_per_condition), rep('stim', num_groups_per_condition))\n",
    "groups <- c('ctrl', 'stim', 'ctrl', 'stim')\n",
    "names <- \n",
    "replicates <- c('A', 'A', 'B', 'B')"
   ]
  },
  {
   "cell_type": "code",
   "execution_count": 345,
   "id": "58dcd114-7796-483d-8a49-e98e42e5e6ee",
   "metadata": {},
   "outputs": [],
   "source": [
    "y <- DGEList(counts=data,group=groups)\n",
    "keep <- filterByExpr(y,min.count=1)\n",
    "y <- y[keep,,keep.lib.sizes=FALSE]\n",
    "y <- calcNormFactors(y)\n",
    "design <- model.matrix(~groups + replicates)\n",
    "y <- estimateDisp(y,design)"
   ]
  },
  {
   "cell_type": "code",
   "execution_count": 346,
   "id": "cca22912-0ee0-4708-9439-923e2b5675dc",
   "metadata": {},
   "outputs": [],
   "source": [
    "fit <- glmFit(y,design)\n",
    "lrt <- glmLRT(fit,coef=2)"
   ]
  },
  {
   "cell_type": "code",
   "execution_count": 347,
   "id": "92cf7868-89c7-48ba-b8f4-aa3162b74141",
   "metadata": {},
   "outputs": [],
   "source": [
    "thresh <- 0.3"
   ]
  },
  {
   "cell_type": "code",
   "execution_count": 348,
   "id": "790fd36d-626a-4d13-b1be-33e4447f4dcc",
   "metadata": {},
   "outputs": [],
   "source": [
    "fpr <- mean(lrt$table[101:dim(lrt$table)[1],'PValue'] < thresh)"
   ]
  },
  {
   "cell_type": "code",
   "execution_count": 351,
   "id": "b4212af7-6830-4299-92af-3396235f7a5c",
   "metadata": {},
   "outputs": [],
   "source": [
    "tpr <- mean(lrt$table[1:100, 'PValue'] < thresh)"
   ]
  },
  {
   "cell_type": "code",
   "execution_count": 352,
   "id": "bbf35eeb-e5d9-425e-8e39-1cacc016b401",
   "metadata": {},
   "outputs": [
    {
     "data": {
      "text/html": [
       "0.7"
      ],
      "text/latex": [
       "0.7"
      ],
      "text/markdown": [
       "0.7"
      ],
      "text/plain": [
       "[1] 0.7"
      ]
     },
     "metadata": {},
     "output_type": "display_data"
    }
   ],
   "source": [
    "tpr"
   ]
  },
  {
   "cell_type": "code",
   "execution_count": 353,
   "id": "8cc93909-0e82-431f-acd1-2728ae5952a7",
   "metadata": {},
   "outputs": [
    {
     "data": {
      "text/html": [
       "0.414058784362218"
      ],
      "text/latex": [
       "0.414058784362218"
      ],
      "text/markdown": [
       "0.414058784362218"
      ],
      "text/plain": [
       "[1] 0.4140588"
      ]
     },
     "metadata": {},
     "output_type": "display_data"
    }
   ],
   "source": [
    "fpr"
   ]
  },
  {
   "cell_type": "code",
   "execution_count": null,
   "id": "56b32dd8-4da6-4be5-932e-c12d1ed54474",
   "metadata": {},
   "outputs": [],
   "source": []
  },
  {
   "cell_type": "code",
   "execution_count": null,
   "id": "63955211-5c5b-40e7-825f-272dc789738f",
   "metadata": {},
   "outputs": [],
   "source": []
  },
  {
   "cell_type": "code",
   "execution_count": null,
   "id": "b3fde57c-6769-40d6-85e6-bc93f8e09269",
   "metadata": {},
   "outputs": [],
   "source": []
  },
  {
   "cell_type": "code",
   "execution_count": null,
   "id": "aebbf85b-c2fc-4884-b5d3-ceb047c69e6f",
   "metadata": {},
   "outputs": [],
   "source": []
  },
  {
   "cell_type": "code",
   "execution_count": null,
   "id": "047ab8ea-cd7d-415a-88d0-5df53ef026e8",
   "metadata": {},
   "outputs": [],
   "source": []
  },
  {
   "cell_type": "code",
   "execution_count": null,
   "id": "298bd800-dfad-4d22-a25c-c6870969f19b",
   "metadata": {},
   "outputs": [],
   "source": []
  },
  {
   "cell_type": "code",
   "execution_count": null,
   "id": "93a345a5-4ebb-4654-8273-c555b703346e",
   "metadata": {},
   "outputs": [],
   "source": []
  },
  {
   "cell_type": "code",
   "execution_count": 58,
   "id": "2f2b7167-738f-4dbf-bafd-debc867a880a",
   "metadata": {},
   "outputs": [],
   "source": [
    "write.csv(topTags(lrt, n=Inf), '/data_volume/memento/simulation/inference/means/edger_0.csv',)\n",
    "\n",
    "dispersion_df = data.frame(gene=rownames(y), dispersion=y$tagwise.dispersion)\n",
    "\n",
    "write.csv(dispersion_df, '/data_volume/memento/simulation/inference/means/dispersions_0.csv')"
   ]
  }
 ],
 "metadata": {
  "kernelspec": {
   "display_name": "R",
   "language": "R",
   "name": "ir"
  },
  "language_info": {
   "codemirror_mode": "r",
   "file_extension": ".r",
   "mimetype": "text/x-r-source",
   "name": "R",
   "pygments_lexer": "r",
   "version": "4.3.1"
  }
 },
 "nbformat": 4,
 "nbformat_minor": 5
}
