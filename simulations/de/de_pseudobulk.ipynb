{
 "cells": [
  {
   "cell_type": "markdown",
   "id": "462dcd18-b19f-4478-819f-dc36b30d59c0",
   "metadata": {},
   "source": [
    "# Pseudobulk methods for DE"
   ]
  },
  {
   "cell_type": "code",
   "execution_count": 60,
   "id": "7ae1adbd-0307-4bb8-a6f1-51f5eb1848cb",
   "metadata": {},
   "outputs": [],
   "source": [
    "library(edgeR)"
   ]
  },
  {
   "cell_type": "markdown",
   "id": "1b4e4681-c0d7-4c43-b490-75a79b7f507d",
   "metadata": {},
   "source": [
    "### Repeated"
   ]
  },
  {
   "cell_type": "code",
   "execution_count": 171,
   "id": "57cdff5b-8073-4df0-913b-f4ff27feed22",
   "metadata": {},
   "outputs": [
    {
     "name": "stdout",
     "output_type": "stream",
     "text": [
      "[1] \"tpr 0.42 fpr 0.108394768133175 at 0.05\"\n"
     ]
    }
   ],
   "source": [
    "num_groups_per_condition <- 2\n",
    "\n",
    "data = read.table('/data_volume/memento/simulation/inference/means/pseudobulks_0.csv', sep=',', header=1, row.names=1)\n",
    "# groups <- c( rep('ctrl', num_groups_per_condition), rep('stim', num_groups_per_condition))\n",
    "groups <- c('ctrl', 'stim', 'ctrl', 'stim')\n",
    "names <- \n",
    "replicates <- c('A', 'A', 'B', 'B')\n",
    "\n",
    "y <- DGEList(counts=data,group=groups)\n",
    "keep <- filterByExpr(y,min.count=1)\n",
    "y <- y[keep,,keep.lib.sizes=FALSE]\n",
    "y <- calcNormFactors(y)\n",
    "design <- model.matrix(~groups + replicates)\n",
    "y <- estimateDisp(y,design)\n",
    "\n",
    "fit <- glmFit(y,design)\n",
    "lrt <- glmLRT(fit,coef=2)\n",
    "qfit <- glmQLFit(y,design)\n",
    "qlft <- glmQLFTest(qfit,coef=2)\n",
    "\n",
    "thresh <- 0.05\n",
    "\n",
    "fpr <- mean(lrt$table[101:dim(lrt$table)[1],'PValue'] < thresh)\n",
    "\n",
    "tpr <- mean(lrt$table[1:100, 'PValue'] < thresh)\n",
    "\n",
    "print(paste('edger','tpr', tpr, 'fpr', fpr, 'at', thresh))"
   ]
  },
  {
   "cell_type": "code",
   "execution_count": null,
   "id": "56b32dd8-4da6-4be5-932e-c12d1ed54474",
   "metadata": {},
   "outputs": [],
   "source": []
  },
  {
   "cell_type": "code",
   "execution_count": null,
   "id": "63955211-5c5b-40e7-825f-272dc789738f",
   "metadata": {},
   "outputs": [],
   "source": []
  },
  {
   "cell_type": "code",
   "execution_count": null,
   "id": "b3fde57c-6769-40d6-85e6-bc93f8e09269",
   "metadata": {},
   "outputs": [],
   "source": []
  },
  {
   "cell_type": "code",
   "execution_count": null,
   "id": "aebbf85b-c2fc-4884-b5d3-ceb047c69e6f",
   "metadata": {},
   "outputs": [],
   "source": []
  },
  {
   "cell_type": "code",
   "execution_count": null,
   "id": "047ab8ea-cd7d-415a-88d0-5df53ef026e8",
   "metadata": {},
   "outputs": [],
   "source": []
  },
  {
   "cell_type": "code",
   "execution_count": null,
   "id": "298bd800-dfad-4d22-a25c-c6870969f19b",
   "metadata": {},
   "outputs": [],
   "source": []
  },
  {
   "cell_type": "code",
   "execution_count": null,
   "id": "93a345a5-4ebb-4654-8273-c555b703346e",
   "metadata": {},
   "outputs": [],
   "source": []
  },
  {
   "cell_type": "code",
   "execution_count": 58,
   "id": "2f2b7167-738f-4dbf-bafd-debc867a880a",
   "metadata": {},
   "outputs": [],
   "source": [
    "write.csv(topTags(lrt, n=Inf), '/data_volume/memento/simulation/inference/means/edger_0.csv',)\n",
    "\n",
    "dispersion_df = data.frame(gene=rownames(y), dispersion=y$tagwise.dispersion)\n",
    "\n",
    "write.csv(dispersion_df, '/data_volume/memento/simulation/inference/means/dispersions_0.csv')"
   ]
  }
 ],
 "metadata": {
  "kernelspec": {
   "display_name": "R",
   "language": "R",
   "name": "ir"
  },
  "language_info": {
   "codemirror_mode": "r",
   "file_extension": ".r",
   "mimetype": "text/x-r-source",
   "name": "R",
   "pygments_lexer": "r",
   "version": "4.3.1"
  }
 },
 "nbformat": 4,
 "nbformat_minor": 5
}
