{
 "cells": [
  {
   "cell_type": "markdown",
   "id": "8f368131-3cd4-445d-960f-101f1525c01a",
   "metadata": {},
   "source": [
    "# Non-approximate memento\n",
    "\n",
    "Test old memento see what it does"
   ]
  },
  {
   "cell_type": "code",
   "execution_count": 1,
   "id": "484076a8-fbb2-412d-adf9-848627e0e338",
   "metadata": {},
   "outputs": [],
   "source": [
    "import scanpy as sc\n",
    "import seaborn as sns\n",
    "import pandas as pd\n",
    "import matplotlib.pyplot as plt\n",
    "import numpy as np\n",
    "import scipy.stats as stats\n",
    "# from pybedtools import BedTool\n",
    "import pickle as pkl\n",
    "from statsmodels.stats.multitest import fdrcorrection\n",
    "\n",
    "%matplotlib inline"
   ]
  },
  {
   "cell_type": "code",
   "execution_count": 2,
   "id": "7a644784-ea16-499e-93dc-be9865502a01",
   "metadata": {},
   "outputs": [],
   "source": [
    "import sys\n",
    "sys.path.append('/home/ssm-user/Github/memento')\n",
    "# sys.path.append('/home/ssm-user/Github/misc-seq/miscseq/')\n",
    "# import encode\n",
    "import memento.model.rna as rna\n",
    "import memento.estimator.hypergeometric as hg\n",
    "import memento.util as util"
   ]
  },
  {
   "cell_type": "code",
   "execution_count": 3,
   "id": "9a3abfd2-d92a-4f02-97a2-2131d50ee694",
   "metadata": {},
   "outputs": [],
   "source": [
    "data_path = '/data_volume/memento/simulation/'"
   ]
  },
  {
   "cell_type": "markdown",
   "id": "2800461f-06ad-4456-ba71-8edd6513a2d0",
   "metadata": {},
   "source": [
    "### Debug memento"
   ]
  },
  {
   "cell_type": "code",
   "execution_count": 4,
   "id": "e021d725-caf0-4a13-9d5e-ea20ce8e72b1",
   "metadata": {},
   "outputs": [],
   "source": [
    "adata = sc.read(data_path + 'de/anndata.h5ad')\n",
    "adata.obs['q'] = 0.1"
   ]
  },
  {
   "cell_type": "code",
   "execution_count": null,
   "id": "62b886c7-9fb1-4733-9647-25735d0c922a",
   "metadata": {},
   "outputs": [],
   "source": []
  }
 ],
 "metadata": {
  "kernelspec": {
   "display_name": "single_cell",
   "language": "python",
   "name": "myenv"
  },
  "language_info": {
   "codemirror_mode": {
    "name": "ipython",
    "version": 3
   },
   "file_extension": ".py",
   "mimetype": "text/x-python",
   "name": "python",
   "nbconvert_exporter": "python",
   "pygments_lexer": "ipython3",
   "version": "3.10.12"
  }
 },
 "nbformat": 4,
 "nbformat_minor": 5
}
