{
 "cells": [
  {
   "cell_type": "markdown",
   "id": "eb39f4ef-e2a2-417a-b590-3f647e46f976",
   "metadata": {},
   "source": [
    "# Scratch"
   ]
  },
  {
   "cell_type": "code",
   "execution_count": 1,
   "id": "7e24d82b-6a52-4d8f-b0f6-af147bc6ebe6",
   "metadata": {
    "tags": []
   },
   "outputs": [
    {
     "name": "stderr",
     "output_type": "stream",
     "text": [
      "/tmp/ipykernel_2707/1976549207.py:13: DeprecationWarning: the imp module is deprecated in favour of importlib and slated for removal in Python 3.12; see the module's documentation for alternative uses\n",
      "  import imp\n"
     ]
    }
   ],
   "source": [
    "import pandas as pd\n",
    "import matplotlib.pyplot as plt\n",
    "import scanpy as sc\n",
    "import scipy as sp\n",
    "import scipy.sparse as sparse\n",
    "import itertools\n",
    "import numpy as np\n",
    "import scipy.stats as stats\n",
    "from scipy.special import kl_div\n",
    "from scipy.integrate import dblquad\n",
    "import seaborn as sns\n",
    "from statsmodels.stats.multitest import fdrcorrection\n",
    "import imp\n",
    "pd.options.display.max_rows = 999\n",
    "pd.set_option('display.max_colwidth', 100)\n",
    "import pickle as pkl\n",
    "import time"
   ]
  },
  {
   "cell_type": "code",
   "execution_count": 2,
   "id": "65466846-eb29-4ae3-a7c0-3ce69ef5b82c",
   "metadata": {
    "tags": []
   },
   "outputs": [],
   "source": [
    "import matplotlib as mpl\n",
    "mpl.rcParams['pdf.fonttype'] = 42\n",
    "mpl.rcParams['ps.fonttype'] = 42\n",
    "\n",
    "import matplotlib.pylab as pylab\n",
    "params = {'legend.fontsize': 'small',\n",
    "         'axes.labelsize': 'medium',\n",
    "         'axes.titlesize':'medium',\n",
    "         'figure.titlesize':'medium',\n",
    "         'xtick.labelsize':'medium',\n",
    "         'ytick.labelsize':'medium'}\n",
    "pylab.rcParams.update(params)\n"
   ]
  },
  {
   "cell_type": "code",
   "execution_count": 3,
   "id": "cb83a5c5-0f7b-4b2c-bcbb-c0dc5f6faa8d",
   "metadata": {
    "tags": []
   },
   "outputs": [],
   "source": [
    "import sys\n",
    "sys.path.append('/home/ubuntu/Github/memento/')\n",
    "import memento\n",
    "import memento.auxillary.simulate as simulate"
   ]
  },
  {
   "cell_type": "code",
   "execution_count": 4,
   "id": "21b43cee-e058-4c72-9ddf-d8f9844a7e37",
   "metadata": {
    "tags": []
   },
   "outputs": [],
   "source": [
    "data_path = '/home/ubuntu/Data/'"
   ]
  },
  {
   "cell_type": "code",
   "execution_count": 5,
   "id": "83f38f68-e998-437e-a2b9-ebdf73e88541",
   "metadata": {
    "tags": []
   },
   "outputs": [],
   "source": [
    "%load_ext autoreload"
   ]
  },
  {
   "cell_type": "code",
   "execution_count": 6,
   "id": "6eb6370e-9ac5-461c-95d3-ae4625b73a01",
   "metadata": {
    "tags": []
   },
   "outputs": [],
   "source": [
    "%autoreload 2"
   ]
  },
  {
   "cell_type": "markdown",
   "id": "4dc78a3c-0f1d-43de-a1eb-ace6300e31c3",
   "metadata": {},
   "source": [
    "# memento\n",
    "\n",
    "`memento` is a Python package for estimating the mean, variability, and gene correlation from scRNA-seq data as well as contructing a framework for hypothesis testing of differences in these parameters between groups of cells. Method-of-moments estimators are used for parameter estimation, and efficient resampling is used to construct confidence intervals and establish statistical significance.\n",
    "\n",
    "### Installation\n",
    "\n",
    "To install `memento`, pull the package from PyPI:\n",
    "\n",
    "```\n",
    "pip install -i https://test.pypi.org/simple/ memento\n",
    "```\n",
    "\n",
    "### Basic usage\n",
    "\n",
    "The most basic usage for `memento` is to test for differences in mean, variability, and coexpression between two groups of cells defined by the experiment. The following tutorials demonstrate quick usage cases:\n",
    "\n",
    "- [Analyzing the effect of exogenous IFN-B in CD14+ monocytes](https://nbviewer.org/github/yelabucsf/scrna-parameter-estimation/blob/master/tutorials/binary_testing.ipynb)\n",
    "\n",
    "### Advanced usage\n",
    "\n",
    "`memento` is capable of handling experiments with multiple technical and biological replicates, such as batches/wells and different individuals respectively. The independent variable of interest can be defined at the cell level (environmental or genetic perturbation) or at a replicate level (SNPs in a population scale-study, individuals are replicates). The following tutorials demonstrate some more advanced use cases for `memento`:\n",
    "\n",
    "- [Performing mean eQTL analysis](https://nbviewer.org/github/yelabucsf/scrna-parameter-estimation/blob/master/tutorials/eqtl_analysis.ipynb)\n",
    "\n",
    "\n",
    "### Replicating the paper\n",
    "\n",
    "#### Figure 2 - method validation and comparisons\n",
    "\n",
    "\n",
    "\n",
    "- Simulations - Mean\n",
    "    1) Run simulations/estimation_m/mean_estimation.py\n",
    "    2) Generate plots with simulations/estimation_m/mean_comparison.ipynb notebook\n",
    "- Simulations - Variance\n",
    "    1) Generate simulation datasets with simluations/estimation_v/simulation_variance_datasets.py\n",
    "    2) Run BASiCS with simluations/estimation_v/run_basics.r\n",
    "    3) Run simluations/estimation_v/variance_estimation.py\n",
    "    4) Generate plot with simulations/estimation_m/variance_comparison.ipynb notebook"
   ]
  },
  {
   "cell_type": "code",
   "execution_count": null,
   "id": "a70754b6-9ae2-4096-bc98-99fedae3e6cd",
   "metadata": {},
   "outputs": [],
   "source": []
  }
 ],
 "metadata": {
  "kernelspec": {
   "display_name": "mementocxg",
   "language": "python",
   "name": "myenv"
  },
  "language_info": {
   "codemirror_mode": {
    "name": "ipython",
    "version": 3
   },
   "file_extension": ".py",
   "mimetype": "text/x-python",
   "name": "python",
   "nbconvert_exporter": "python",
   "pygments_lexer": "ipython3",
   "version": "3.11.5"
  }
 },
 "nbformat": 4,
 "nbformat_minor": 5
}
