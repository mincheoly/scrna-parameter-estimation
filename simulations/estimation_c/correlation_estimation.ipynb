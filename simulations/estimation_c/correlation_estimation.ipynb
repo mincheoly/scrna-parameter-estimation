{
 "cells": [
  {
   "cell_type": "markdown",
   "id": "eb39f4ef-e2a2-417a-b590-3f647e46f976",
   "metadata": {},
   "source": [
    "# Scratch"
   ]
  },
  {
   "cell_type": "code",
   "execution_count": 39,
   "id": "7e24d82b-6a52-4d8f-b0f6-af147bc6ebe6",
   "metadata": {
    "tags": []
   },
   "outputs": [],
   "source": [
    "import scanpy as sc\n",
    "import matplotlib.pyplot as plt\n",
    "import numpy as np\n",
    "import pandas as pd\n",
    "\n",
    "import sys\n",
    "sys.path.append('/home/ubuntu/Github/memento/')\n",
    "import memento\n",
    "import memento.auxillary.simulate as simulate\n",
    "import scipy.sparse as sparse\n",
    "\n",
    "import sklearn.datasets as sklearn_datasets\n",
    "\n",
    "\n",
    "DATA_PATH = '/home/ubuntu/Data/'\n",
    "CELL_TYPE = 'CD4 T cells - ctrl'\n",
    "\n",
    "NUM_TRIALS = 20\n",
    "METHODS = ['naive', 'poisson', 'hypergeometric']\n",
    "CAPTURE_EFFICIENCIES = [0.01, 0.05, 0.1, 0.2, 0.3, 0.5, 0.8, 1]\n",
    "NUMBER_OF_CELLS = [50, 100, 500]\n",
    "\n",
    "\n",
    "def get_simulation_parameters(q=0.07):\n",
    "    \"\"\" Extracts simulation parameters. \"\"\"\n",
    "    \n",
    "    adata = sc.read(DATA_PATH + 'interferon_filtered.h5ad')\n",
    "    adata = adata[adata.obs.cell_type == CELL_TYPE]\n",
    "    data = adata.X.copy()\n",
    "    relative_data = data.toarray()/data.sum(axis=1)\n",
    "    \n",
    "    x_param, z_param, Nc, good_idx = simulate.extract_parameters(adata.X, q=q, min_mean=0.01)\n",
    "    \n",
    "    return x_param, z_param, Nc\n",
    "\n",
    "\n",
    "def simulate_data(n_cells, z_param, Nc):\n",
    "    \"\"\" Generates simulated data. \"\"\"\n",
    "    \n",
    "    true_data = simulate.simulate_transcriptomes(n_cells=n_cells, means=z_param[0], variances=z_param[1], Nc=Nc, norm_cov='uncorrelated')\n",
    "    true_data[true_data < 0] = 0\n",
    "    \n",
    "    qs, captured_data = simulate.capture_sampling(true_data, q, q_sq=None)\n",
    "    captured_data = sparse.csr_matrix(captured_data)\n",
    "    \n",
    "    return true_data, captured_data"
   ]
  },
  {
   "cell_type": "code",
   "execution_count": 40,
   "id": "65b5e8d0-c19b-46ae-b3a0-c3b8769910ed",
   "metadata": {
    "tags": []
   },
   "outputs": [
    {
     "name": "stderr",
     "output_type": "stream",
     "text": [
      "/home/ubuntu/anaconda3/envs/mementocxg/lib/python3.11/site-packages/anndata/__init__.py:51: FutureWarning: `anndata.read` is deprecated, use `anndata.read_h5ad` instead. `ad.read` will be removed in mid 2024.\n",
      "  warnings.warn(\n"
     ]
    }
   ],
   "source": [
    "x_param, z_param, Nc = get_simulation_parameters(q=0.07)\n"
   ]
  },
  {
   "cell_type": "code",
   "execution_count": 41,
   "id": "c205c6a2-f035-44fa-9cc1-d23aa041abf2",
   "metadata": {
    "tags": []
   },
   "outputs": [],
   "source": [
    "cov_matrix = sklearn_datasets.make_spd_matrix(500)"
   ]
  },
  {
   "cell_type": "code",
   "execution_count": 42,
   "id": "a74b4865-6c29-4d3c-bff3-dd5633efe71f",
   "metadata": {
    "tags": []
   },
   "outputs": [],
   "source": [
    "n_cells = 3\n",
    "true_data = simulate.simulate_transcriptomes(n_cells=n_cells, means=z_param[0], variances=z_param[1], Nc=Nc, norm_cov=cov_matrix)\n",
    "true_data[true_data < 0] = 0\n",
    "size_factor = true_data.sum(axis=1)"
   ]
  },
  {
   "cell_type": "code",
   "execution_count": 43,
   "id": "b1e1b53d-2a14-41f5-8acc-ff30150598b9",
   "metadata": {
    "tags": []
   },
   "outputs": [],
   "source": [
    "import itertools"
   ]
  },
  {
   "cell_type": "code",
   "execution_count": 45,
   "id": "1f6f778b-75e5-40ed-8eb8-f63040a3127f",
   "metadata": {
    "tags": []
   },
   "outputs": [],
   "source": [
    "a, b = zip(*list(itertools.combinations(np.arange(3), 2)))"
   ]
  },
  {
   "cell_type": "code",
   "execution_count": 46,
   "id": "bacd7eda-8166-4161-b305-9b0c7428a485",
   "metadata": {
    "tags": []
   },
   "outputs": [
    {
     "data": {
      "text/plain": [
       "array([-3.41885938e-08,  0.00000000e+00,  0.00000000e+00])"
      ]
     },
     "execution_count": 46,
     "metadata": {},
     "output_type": "execute_result"
    }
   ],
   "source": [
    "memento.estimator.RNAHypergeometric(1).covariance(sparse.csr_matrix(true_data, dtype=np.float64), size_factor,idx1=a, idx2=b)"
   ]
  },
  {
   "cell_type": "code",
   "execution_count": null,
   "id": "5b602266-435a-4981-b9b9-e94eacd54f56",
   "metadata": {},
   "outputs": [],
   "source": [
    "memento.estimator.RNAHypergeometric(1).covariance(sparse.csr_matrix(true_data, dtype=np.float64), size_factor,idx1=a, idx2=b)"
   ]
  },
  {
   "cell_type": "code",
   "execution_count": 30,
   "id": "01f94150-83be-4876-a1c5-ba04182c2204",
   "metadata": {
    "tags": []
   },
   "outputs": [
    {
     "data": {
      "text/plain": [
       "<500x6263 sparse matrix of type '<class 'numpy.int64'>'\n",
       "\twith 1045780 stored elements in Compressed Sparse Row format>"
      ]
     },
     "execution_count": 30,
     "metadata": {},
     "output_type": "execute_result"
    }
   ],
   "source": [
    "sparse.csr_matrix(true_data)"
   ]
  },
  {
   "cell_type": "code",
   "execution_count": null,
   "id": "d6f2784d-3a8c-4489-9bdd-9fd2b2544a2f",
   "metadata": {},
   "outputs": [],
   "source": []
  },
  {
   "cell_type": "code",
   "execution_count": 2,
   "id": "83f38f68-e998-437e-a2b9-ebdf73e88541",
   "metadata": {
    "tags": []
   },
   "outputs": [],
   "source": [
    "%load_ext autoreload"
   ]
  },
  {
   "cell_type": "code",
   "execution_count": 3,
   "id": "6eb6370e-9ac5-461c-95d3-ae4625b73a01",
   "metadata": {
    "tags": []
   },
   "outputs": [],
   "source": [
    "%autoreload 2"
   ]
  },
  {
   "cell_type": "code",
   "execution_count": null,
   "id": "a70754b6-9ae2-4096-bc98-99fedae3e6cd",
   "metadata": {},
   "outputs": [],
   "source": []
  }
 ],
 "metadata": {
  "kernelspec": {
   "display_name": "mementocxg",
   "language": "python",
   "name": "myenv"
  },
  "language_info": {
   "codemirror_mode": {
    "name": "ipython",
    "version": 3
   },
   "file_extension": ".py",
   "mimetype": "text/x-python",
   "name": "python",
   "nbconvert_exporter": "python",
   "pygments_lexer": "ipython3",
   "version": "3.11.5"
  }
 },
 "nbformat": 4,
 "nbformat_minor": 5
}
