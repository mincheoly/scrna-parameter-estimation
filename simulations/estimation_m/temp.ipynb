{
 "cells": [
  {
   "cell_type": "markdown",
   "id": "fd0d7176-3f10-4286-907e-0b211e87d812",
   "metadata": {},
   "source": [
    "### Simulations for the mean"
   ]
  },
  {
   "cell_type": "code",
   "execution_count": 3,
   "id": "96104131-1e35-406c-8ccf-5cda4a506dbe",
   "metadata": {},
   "outputs": [],
   "source": [
    "import scanpy as sc"
   ]
  },
  {
   "cell_type": "code",
   "execution_count": 56,
   "id": "92a7daf4-8220-4812-af89-d6e747b17f49",
   "metadata": {},
   "outputs": [
    {
     "name": "stderr",
     "output_type": "stream",
     "text": [
      "/Users/mincheolkim/opt/miniconda3/envs/single_cell/lib/python3.7/site-packages/ipykernel_launcher.py:14: FutureWarning: Passing a negative integer is deprecated in version 1.0 and will not be supported in future version. Instead, use None to not limit the column width.\n",
      "  \n"
     ]
    }
   ],
   "source": [
    "import pandas as pd\n",
    "import matplotlib.pyplot as plt\n",
    "import scanpy as sc\n",
    "import scipy as sp\n",
    "import scipy.sparse as sparse\n",
    "import itertools\n",
    "import numpy as np\n",
    "import scipy.stats as stats\n",
    "from scipy.integrate import dblquad\n",
    "import seaborn as sns\n",
    "from statsmodels.stats.multitest import fdrcorrection\n",
    "import imp\n",
    "pd.options.display.max_rows = 999\n",
    "pd.set_option('display.max_colwidth', -1)\n",
    "import pickle as pkl\n",
    "import time"
   ]
  },
  {
   "cell_type": "code",
   "execution_count": 5,
   "id": "781a5d76-2b1c-4aa1-aea6-0bed45c4b8bc",
   "metadata": {},
   "outputs": [],
   "source": [
    "import matplotlib as mpl\n",
    "mpl.rcParams['pdf.fonttype'] = 42\n",
    "mpl.rcParams['ps.fonttype'] = 42\n",
    "\n",
    "import matplotlib.pylab as pylab\n",
    "params = {'legend.fontsize': 'x-small',\n",
    "         'axes.labelsize': 'medium',\n",
    "         'axes.titlesize':'medium',\n",
    "         'figure.titlesize':'medium',\n",
    "         'xtick.labelsize':'xx-small',\n",
    "         'ytick.labelsize':'xx-small'}\n",
    "pylab.rcParams.update(params)\n"
   ]
  },
  {
   "cell_type": "code",
   "execution_count": 6,
   "id": "98f99368-095d-4812-b7e7-780c489af360",
   "metadata": {},
   "outputs": [],
   "source": [
    "import sys\n",
    "sys.path.append('/Users/mincheolkim/Github/scrna-parameter-estimation/')\n",
    "import memento\n",
    "import memento.simulate as simulate"
   ]
  },
  {
   "cell_type": "code",
   "execution_count": 7,
   "id": "a2ddbccc-53a3-48cc-bb1e-b748b9bf8252",
   "metadata": {},
   "outputs": [],
   "source": [
    "data_path = '/Users/mincheolkim/Data/'"
   ]
  },
  {
   "cell_type": "markdown",
   "id": "3822bac8-df96-4310-978d-90b0b7528b92",
   "metadata": {},
   "source": [
    "### Extract parameters from interferon dataset"
   ]
  },
  {
   "cell_type": "code",
   "execution_count": 8,
   "id": "e4d398f0-bc34-429c-9eda-db66e2534f78",
   "metadata": {},
   "outputs": [],
   "source": [
    "adata = sc.read(data_path + 'interferon_filtered.h5ad')\n",
    "adata = adata[adata.obs.cell_type == 'CD4 T cells - ctrl']\n",
    "data = adata.X.copy()\n",
    "relative_data = data.toarray()/data.sum(axis=1)"
   ]
  },
  {
   "cell_type": "code",
   "execution_count": 9,
   "id": "9bb832c2-9fc8-498c-a000-9deea3c2e974",
   "metadata": {},
   "outputs": [],
   "source": [
    "q = 0.07\n",
    "x_param, z_param, Nc, good_idx = memento.simulate.extract_parameters(adata.X, q=q, min_mean=q)"
   ]
  },
  {
   "cell_type": "code",
   "execution_count": 10,
   "id": "1b6bfeef-f40d-4340-9114-309da9b26a99",
   "metadata": {},
   "outputs": [
    {
     "data": {
      "text/plain": [
       "array([7.1957336e-05, 1.9856083e-04, 6.7119239e-05, ..., 1.9565161e-04,\n",
       "       7.3280156e-05, 2.2130340e-04], dtype=float32)"
      ]
     },
     "execution_count": 10,
     "metadata": {},
     "output_type": "execute_result"
    }
   ],
   "source": [
    "x_param[0]"
   ]
  },
  {
   "cell_type": "markdown",
   "id": "6579d663-0a69-4e19-9f53-0128ee8fa77b",
   "metadata": {},
   "source": [
    "### Implementing Good estimator"
   ]
  },
  {
   "cell_type": "code",
   "execution_count": 47,
   "id": "2f833565-35a6-4cbe-946b-fad1633cc98d",
   "metadata": {},
   "outputs": [],
   "source": [
    "n_cells=500"
   ]
  },
  {
   "cell_type": "code",
   "execution_count": 48,
   "id": "a8980ef4-5379-4927-bd01-bdd34d528534",
   "metadata": {},
   "outputs": [],
   "source": [
    "true_data = memento.simulate.simulate_transcriptomes(n_cells=n_cells, means=z_param[0], variances=z_param[1], Nc=Nc, norm_cov='uncorrelated')\n",
    "qs, captured_data = memento.simulate.capture_sampling(true_data, q, q**2+1e-7)"
   ]
  },
  {
   "cell_type": "code",
   "execution_count": 49,
   "id": "07c75a7c-9edb-4b37-8a10-a7678133155d",
   "metadata": {},
   "outputs": [],
   "source": [
    "def bincount2d(arr, bins=None):\n",
    "    if bins is None:\n",
    "        bins = np.max(arr) + 1\n",
    "    count = np.zeros(shape=[len(arr), bins], dtype=np.int64)\n",
    "    indexing = (np.ones_like(arr).T * np.arange(len(arr))).T\n",
    "    np.add.at(count, (indexing, arr), 1)\n",
    "\n",
    "    return count\n",
    "\n",
    "def bincount2d_sparse(sparse_arr, bins=None):\n",
    "\n",
    "    bins = np.round(sparse_arr.max()).astype(int) + 1\n",
    "    num_cells, num_genes = sparse_arr.shape\n",
    "    count = sparse.lil_matrix((num_cells, bins))\n",
    "    for cell in range(num_cells):\n",
    "        cell_counts = np.bincount(np.round(sparse_arr[cell].data).astype(int))\n",
    "        cell_counts[0] = num_genes - sparse_arr[cell].nnz\n",
    "        count[cell, np.arange(cell_counts.shape[0])] = cell_counts\n",
    "    return count"
   ]
  },
  {
   "cell_type": "code",
   "execution_count": 57,
   "id": "803c3612-6af0-42cf-9392-a20d6dc719b8",
   "metadata": {},
   "outputs": [],
   "source": [
    "true_data = sparse.csr_matrix(true_data)"
   ]
  },
  {
   "cell_type": "code",
   "execution_count": 62,
   "id": "f378f74d-9c4e-4605-b9e8-196096d323bd",
   "metadata": {},
   "outputs": [
    {
     "data": {
      "text/plain": [
       "matrix([[2, 5, 1, ..., 5, 2, 0]])"
      ]
     },
     "execution_count": 62,
     "metadata": {},
     "output_type": "execute_result"
    }
   ],
   "source": [
    "arr[smooth_mask]"
   ]
  },
  {
   "cell_type": "code",
   "execution_count": 65,
   "id": "8da31b45-1cb5-4301-9697-ed9b0365eac3",
   "metadata": {},
   "outputs": [],
   "source": [
    "arr = true_data\n",
    "smooth_arr = arr.copy().astype(np.float64)\n",
    "freqs = bincount2d_sparse(arr)\n",
    "expected_freqs = freqs.mean(axis=0).A1\n",
    "\n",
    "smooth_mask = (arr < 10)\n",
    "smooth_arr[smooth_mask] = (arr[smooth_mask].A1+1)*expected_freqs[arr[smooth_mask].A1+1] / expected_freqs[arr[smooth_mask].A1]\n"
   ]
  },
  {
   "cell_type": "code",
   "execution_count": null,
   "id": "b95dc65d-d7ed-4951-a965-a153bef68a52",
   "metadata": {},
   "outputs": [],
   "source": [
    "smooth_mask = (arr == 0)\n",
    "pb = (arr.sum(axis=0).A1+1)"
   ]
  },
  {
   "cell_type": "code",
   "execution_count": 52,
   "id": "f4d65857-480c-4b5a-9b04-b008e2adb771",
   "metadata": {},
   "outputs": [],
   "source": [
    "\n",
    "denom = np.array([pb[smooth_mask[i]].sum() for i in range(n_cells)]) # individual cell version\n",
    "denom = np.array([pb[smooth_mask[i]].sum() for i in range(n_cells)]).mean()\n",
    "\n",
    "alpha=0.9\n",
    "smooth_arr[smooth_mask] = expected_freqs[1]*(alpha*(pb[np.where(smooth_mask)[1]]/denom) + ((1-alpha)/expected_freqs[0]))\n",
    "m = (smooth_arr/arr.sum(axis=1)[:, np.newaxis]).mean(axis=0)"
   ]
  },
  {
   "cell_type": "code",
   "execution_count": 54,
   "id": "3ef6490d-6fb8-4698-80f5-d0af9230cb48",
   "metadata": {},
   "outputs": [
    {
     "data": {
      "text/plain": [
       "<matplotlib.collections.PathCollection at 0x7fd0332f2950>"
      ]
     },
     "execution_count": 54,
     "metadata": {},
     "output_type": "execute_result"
    },
    {
     "data": {
      "image/png": "[encoded data removed]",
      "text/plain": [
       "<Figure size 432x288 with 1 Axes>"
      ]
     },
     "metadata": {
      "needs_background": "light"
     },
     "output_type": "display_data"
    }
   ],
   "source": [
    "plt.scatter(np.log10(x_param[0]), np.log10(m), s=1)"
   ]
  }
 ],
 "metadata": {
  "kernelspec": {
   "display_name": "Python 3 (ipykernel)",
   "language": "python",
   "name": "python3"
  },
  "language_info": {
   "codemirror_mode": {
    "name": "ipython",
    "version": 3
   },
   "file_extension": ".py",
   "mimetype": "text/x-python",
   "name": "python",
   "nbconvert_exporter": "python",
   "pygments_lexer": "ipython3",
   "version": "3.7.11"
  }
 },
 "nbformat": 4,
 "nbformat_minor": 5
}
