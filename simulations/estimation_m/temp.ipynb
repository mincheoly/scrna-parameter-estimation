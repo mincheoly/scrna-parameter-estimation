{
 "cells": [
  {
   "cell_type": "markdown",
   "id": "fd0d7176-3f10-4286-907e-0b211e87d812",
   "metadata": {},
   "source": [
    "### Simulations for the mean"
   ]
  },
  {
   "cell_type": "code",
   "execution_count": 1,
   "id": "92a7daf4-8220-4812-af89-d6e747b17f49",
   "metadata": {},
   "outputs": [
    {
     "name": "stderr",
     "output_type": "stream",
     "text": [
      "/Users/mincheolkim/opt/miniconda3/envs/single_cell/lib/python3.7/site-packages/ipykernel_launcher.py:14: FutureWarning: Passing a negative integer is deprecated in version 1.0 and will not be supported in future version. Instead, use None to not limit the column width.\n",
      "  \n"
     ]
    }
   ],
   "source": [
    "import pandas as pd\n",
    "import matplotlib.pyplot as plt\n",
    "import scanpy as sc\n",
    "import scipy as sp\n",
    "import scipy.sparse as sparse\n",
    "import itertools\n",
    "import numpy as np\n",
    "import scipy.stats as stats\n",
    "from scipy.integrate import dblquad\n",
    "import seaborn as sns\n",
    "from statsmodels.stats.multitest import fdrcorrection\n",
    "import imp\n",
    "pd.options.display.max_rows = 999\n",
    "pd.set_option('display.max_colwidth', -1)\n",
    "import pickle as pkl\n",
    "import time"
   ]
  },
  {
   "cell_type": "code",
   "execution_count": 2,
   "id": "781a5d76-2b1c-4aa1-aea6-0bed45c4b8bc",
   "metadata": {},
   "outputs": [],
   "source": [
    "import matplotlib as mpl\n",
    "mpl.rcParams['pdf.fonttype'] = 42\n",
    "mpl.rcParams['ps.fonttype'] = 42\n",
    "\n",
    "import matplotlib.pylab as pylab\n",
    "params = {'legend.fontsize': 'small',\n",
    "         'axes.labelsize': 'medium',\n",
    "         'axes.titlesize':'medium',\n",
    "         'figure.titlesize':'medium',\n",
    "         'xtick.labelsize':'medium',\n",
    "         'ytick.labelsize':'medium'}\n",
    "pylab.rcParams.update(params)\n"
   ]
  },
  {
   "cell_type": "code",
   "execution_count": 34,
   "id": "98f99368-095d-4812-b7e7-780c489af360",
   "metadata": {},
   "outputs": [],
   "source": [
    "import sys\n",
    "sys.path.append('/Users/mincheolkim/Github/scrna-parameter-estimation/')\n",
    "import memento\n",
    "import memento.simulate as simulate"
   ]
  },
  {
   "cell_type": "code",
   "execution_count": 4,
   "id": "a2ddbccc-53a3-48cc-bb1e-b748b9bf8252",
   "metadata": {},
   "outputs": [],
   "source": [
    "data_path = '/Users/mincheolkim/Data/'"
   ]
  },
  {
   "cell_type": "markdown",
   "id": "3822bac8-df96-4310-978d-90b0b7528b92",
   "metadata": {},
   "source": [
    "### Extract parameters from interferon dataset"
   ]
  },
  {
   "cell_type": "code",
   "execution_count": 5,
   "id": "e4d398f0-bc34-429c-9eda-db66e2534f78",
   "metadata": {},
   "outputs": [],
   "source": [
    "adata = sc.read(data_path + 'interferon_filtered.h5ad')\n",
    "adata = adata[adata.obs.cell_type == 'CD4 T cells - ctrl']\n",
    "data = adata.X.copy()\n",
    "relative_data = data.toarray()/data.sum(axis=1)"
   ]
  },
  {
   "cell_type": "code",
   "execution_count": 6,
   "id": "9bb832c2-9fc8-498c-a000-9deea3c2e974",
   "metadata": {},
   "outputs": [],
   "source": [
    "q = 0.07\n",
    "x_param, z_param, Nc, good_idx = memento.simulate.extract_parameters(adata.X, q=q, min_mean=q)"
   ]
  },
  {
   "cell_type": "code",
   "execution_count": 7,
   "id": "1b6bfeef-f40d-4340-9114-309da9b26a99",
   "metadata": {},
   "outputs": [
    {
     "data": {
      "text/plain": [
       "array([7.1957336e-05, 1.9856083e-04, 6.7119239e-05, ..., 1.9565161e-04,\n",
       "       7.3280156e-05, 2.2130340e-04], dtype=float32)"
      ]
     },
     "execution_count": 7,
     "metadata": {},
     "output_type": "execute_result"
    }
   ],
   "source": [
    "x_param[0]"
   ]
  },
  {
   "cell_type": "markdown",
   "id": "6579d663-0a69-4e19-9f53-0128ee8fa77b",
   "metadata": {},
   "source": [
    "### Implementing Good estimator"
   ]
  },
  {
   "cell_type": "code",
   "execution_count": 8,
   "id": "2f833565-35a6-4cbe-946b-fad1633cc98d",
   "metadata": {},
   "outputs": [],
   "source": [
    "n_cells=500\n",
    "n_genes = x_param[0].shape[0]"
   ]
  },
  {
   "cell_type": "code",
   "execution_count": 9,
   "id": "a8980ef4-5379-4927-bd01-bdd34d528534",
   "metadata": {},
   "outputs": [],
   "source": [
    "true_data = memento.simulate.simulate_transcriptomes(n_cells=n_cells, means=z_param[0], variances=z_param[1], Nc=Nc, norm_cov='uncorrelated')\n",
    "qs, captured_data = memento.simulate.capture_sampling(true_data, 0.07, q**2+1e-7)"
   ]
  },
  {
   "cell_type": "code",
   "execution_count": 10,
   "id": "07c75a7c-9edb-4b37-8a10-a7678133155d",
   "metadata": {},
   "outputs": [],
   "source": [
    "def bincount2d(arr, bins=None):\n",
    "    if bins is None:\n",
    "        bins = np.max(arr) + 1\n",
    "    count = np.zeros(shape=[len(arr), bins], dtype=np.int64)\n",
    "    indexing = (np.ones_like(arr).T * np.arange(len(arr))).T\n",
    "    np.add.at(count, (indexing, arr), 1)\n",
    "\n",
    "    return count\n",
    "\n",
    "def bincount2d_sparse(sparse_arr, bins=None):\n",
    "\n",
    "    bins = np.round(sparse_arr.max()).astype(int) + 1\n",
    "    num_cells, num_genes = sparse_arr.shape\n",
    "    count = sparse.lil_matrix((num_cells, bins))\n",
    "    for cell in range(num_cells):\n",
    "        cell_counts = np.bincount(np.round(sparse_arr[cell].data).astype(int))\n",
    "        cell_counts[0] = num_genes - sparse_arr[cell].nnz\n",
    "        count[cell, np.arange(cell_counts.shape[0])] = cell_counts\n",
    "    return count"
   ]
  },
  {
   "cell_type": "code",
   "execution_count": 11,
   "id": "803c3612-6af0-42cf-9392-a20d6dc719b8",
   "metadata": {},
   "outputs": [],
   "source": [
    "captured_data = sparse.csr_matrix(captured_data)"
   ]
  },
  {
   "cell_type": "code",
   "execution_count": 56,
   "id": "cbac22c2-2abc-4180-8ec5-145847018d4a",
   "metadata": {},
   "outputs": [],
   "source": [
    "\n",
    "arr = captured_data\n",
    "size_factor = arr.sum(axis=1).A1\n",
    "\n",
    "pb = (arr.sum(axis=0).A1+1)\n",
    "alpha=0.9\n",
    "max_to_replace = 10\n",
    "total_umi = pb.sum()\n",
    "denom = np.array([total_umi - pb[sparse.find(arr[i])[1]].sum() for i in range(n_cells)]).mean()\n",
    "\n",
    "\n",
    "freqs = bincount2d_sparse(arr)\n",
    "expected_freqs = freqs.mean(axis=0).A1\n",
    "initial_values = np.tile(np.arange(max_to_replace)[:,np.newaxis], (1,n_genes))\n",
    "final_values = (initial_values + 1) * expected_freqs[initial_values+1] / expected_freqs[initial_values]\n",
    "final_values[0] = (0+1) * expected_freqs[1] * (alpha*(pb/denom) + ((1-alpha)/expected_freqs[0]))\n",
    "\n",
    "corrected_counts = sparse.csr_matrix(arr, dtype=float)\n",
    "for val in range(1,max_to_replace):\n",
    "    corrected_counts.data[corrected_counts.data == val] = final_values[val, 0]\n",
    "    \n",
    "corrected_counts = sparse.diags(1/size_factor) @ corrected_counts # normalize for size_factor\n",
    "nonzero_sum = corrected_counts.sum(axis=0).A1\n",
    "num_zeros_per_column = arr.shape[0] - arr.getnnz(axis=0)\n",
    "zero_sum = np.array([(final_values[0, idx]/size_factor[~np.in1d(range(size_factor.shape[0]), sparse.find(arr[:, idx])[0])]).sum() for idx in range(n_genes)])\n",
    "m = (nonzero_sum + zero_sum)/arr.shape[0]"
   ]
  },
  {
   "cell_type": "code",
   "execution_count": 51,
   "id": "a5138848-6b0d-49cf-aa15-4f13fd522522",
   "metadata": {},
   "outputs": [
    {
     "data": {
      "text/plain": [
       "array([9.08805869e-05, 2.75634520e-04, 1.10201243e-04, ...,\n",
       "       2.64625514e-04, 9.27884306e-05, 2.71518244e-04])"
      ]
     },
     "execution_count": 51,
     "metadata": {},
     "output_type": "execute_result"
    }
   ],
   "source": [
    "m"
   ]
  },
  {
   "cell_type": "code",
   "execution_count": 16,
   "id": "8da31b45-1cb5-4301-9697-ed9b0365eac3",
   "metadata": {},
   "outputs": [
    {
     "name": "stderr",
     "output_type": "stream",
     "text": [
      "/Users/mincheolkim/opt/miniconda3/envs/single_cell/lib/python3.7/site-packages/scipy/sparse/compressed.py:291: SparseEfficiencyWarning: Comparing a sparse matrix with a scalar greater than zero using < is inefficient, try using >= instead.\n",
      "  warn(bad_scalar_msg, SparseEfficiencyWarning)\n",
      "/Users/mincheolkim/opt/miniconda3/envs/single_cell/lib/python3.7/site-packages/scipy/sparse/_index.py:125: SparseEfficiencyWarning: Changing the sparsity structure of a csr_matrix is expensive. lil_matrix is more efficient.\n",
      "  self._set_arrayXarray(i, j, x)\n",
      "/Users/mincheolkim/opt/miniconda3/envs/single_cell/lib/python3.7/site-packages/IPython/core/interactiveshell.py:3524: SparseEfficiencyWarning: Comparing a sparse matrix with 0 using == is inefficient, try using != instead.\n",
      "  exec(code_obj, self.user_global_ns, self.user_ns)\n"
     ]
    }
   ],
   "source": [
    "arr = captured_data\n",
    "pb = (arr.sum(axis=0).A1+1)\n",
    "alpha=0.9\n",
    "\n",
    "\n",
    "smooth_arr = arr.copy().astype(np.float64)\n",
    "freqs = bincount2d_sparse(arr)\n",
    "expected_freqs = freqs.mean(axis=0).A1\n",
    "\n",
    "smooth_mask = (arr < 10)\n",
    "smooth_arr[smooth_mask] = (arr[smooth_mask].A1+1)*expected_freqs[arr[smooth_mask].A1+1] / expected_freqs[arr[smooth_mask].A1]\n",
    "\n",
    "smooth_mask = (arr == 0)\n",
    "denom = np.array([pb[sparse.find(smooth_mask[i])[1]].sum() for i in range(n_cells)]).mean()\n",
    "\n",
    "rows, cols, _ = sparse.find(smooth_mask)\n",
    "smooth_arr[rows, cols] = expected_freqs[1]*(alpha*(pb[cols]/denom) + ((1-alpha)/expected_freqs[0]))\n",
    "m = (smooth_arr/arr.sum(axis=1).A1[:, np.newaxis]).mean(axis=0).A1"
   ]
  },
  {
   "cell_type": "markdown",
   "id": "799d2c23-51aa-4913-be84-63666197ce0f",
   "metadata": {},
   "source": [
    "### put in in a function"
   ]
  },
  {
   "cell_type": "code",
   "execution_count": 52,
   "id": "eb1e8b2a-05f5-44f2-83b1-5a94eac9c87c",
   "metadata": {},
   "outputs": [],
   "source": [
    "def _mean_only_shrink(data, n_obs, q, size_factor=None, alpha=0.9):\n",
    "    \"\"\"\n",
    "        Hypergeometric mean estimator based on Good's estimator.\n",
    "    \"\"\"\n",
    "\n",
    "    if type(data) == tuple:\n",
    "        return\n",
    "    else:\n",
    "        \n",
    "    \n",
    "        smooth_arr = data.copy().astype(np.float64)\n",
    "        freqs = bincount2d_sparse(data)\n",
    "        expected_freqs = freqs.mean(axis=0).A1\n",
    "\n",
    "        smooth_mask = (data < 10)\n",
    "        smooth_arr[smooth_mask] = (data[smooth_mask].A1+1)*expected_freqs[data[smooth_mask].A1+1] / expected_freqs[data[smooth_mask].A1]\n",
    "\n",
    "        smooth_mask = (data == 0)\n",
    "        pb = (arr.sum(axis=0).A1+1)\n",
    "\n",
    "        denom = np.array([pb[sparse.find(smooth_mask[i])[1]].sum() for i in range(n_obs)]).mean()\n",
    "\n",
    "        rows, cols, _ = sparse.find(smooth_mask)\n",
    "        smooth_arr[rows, cols] = expected_freqs[1]*(alpha*(pb[cols]/denom) + ((1-alpha)/expected_freqs[0]))\n",
    "        m = (smooth_arr/size_factor[:, np.newaxis]).mean(axis=0).A1\n",
    "\n",
    "        return m, np.ones(m.shape)"
   ]
  },
  {
   "cell_type": "code",
   "execution_count": 53,
   "id": "f4d65857-480c-4b5a-9b04-b008e2adb771",
   "metadata": {},
   "outputs": [
    {
     "name": "stderr",
     "output_type": "stream",
     "text": [
      "/Users/mincheolkim/opt/miniconda3/envs/single_cell/lib/python3.7/site-packages/ipykernel_launcher.py:1: SparseEfficiencyWarning: Comparing a sparse matrix with 0 using == is inefficient, try using != instead.\n",
      "  \"\"\"Entry point for launching an IPython kernel.\n"
     ]
    }
   ],
   "source": [
    "m, v = _mean_only_shrink(captured_data, n_obs=n_cells, q=q, size_factor=captured_data.sum(axis=1).A1)"
   ]
  },
  {
   "cell_type": "code",
   "execution_count": 54,
   "id": "329a1221-b234-438d-bebb-ec4ede272f0a",
   "metadata": {},
   "outputs": [
    {
     "data": {
      "text/plain": [
       "<5142x35635 sparse matrix of type '<class 'numpy.float32'>'\n",
       "\twith 2568577 stored elements in Compressed Sparse Row format>"
      ]
     },
     "execution_count": 54,
     "metadata": {},
     "output_type": "execute_result"
    }
   ],
   "source": [
    "data"
   ]
  },
  {
   "cell_type": "code",
   "execution_count": 55,
   "id": "fab95eff-e632-476e-918b-045e415fc34c",
   "metadata": {},
   "outputs": [
    {
     "data": {
      "text/plain": [
       "array([9.08805869e-05, 2.75634520e-04, 1.10201243e-04, ...,\n",
       "       2.64625514e-04, 9.27884306e-05, 2.71518244e-04])"
      ]
     },
     "execution_count": 55,
     "metadata": {},
     "output_type": "execute_result"
    }
   ],
   "source": [
    "m"
   ]
  },
  {
   "cell_type": "code",
   "execution_count": 20,
   "id": "3ef6490d-6fb8-4698-80f5-d0af9230cb48",
   "metadata": {},
   "outputs": [
    {
     "data": {
      "text/plain": [
       "<matplotlib.collections.PathCollection at 0x7fee6f053790>"
      ]
     },
     "execution_count": 20,
     "metadata": {},
     "output_type": "execute_result"
    },
    {
     "data": {
      "image/png": "[encoded data removed]",
      "text/plain": [
       "<Figure size 432x288 with 1 Axes>"
      ]
     },
     "metadata": {
      "needs_background": "light"
     },
     "output_type": "display_data"
    }
   ],
   "source": [
    "plt.scatter(np.log10(x_param[0]), np.log10(m), s=5)"
   ]
  },
  {
   "cell_type": "markdown",
   "id": "894a1e6a-6806-4269-b1dd-f662ec9f4d71",
   "metadata": {},
   "source": [
    "### Try it out in the full memento codebase"
   ]
  },
  {
   "cell_type": "code",
   "execution_count": 27,
   "id": "cb635463-b0fe-48dd-9585-ace1736ff41d",
   "metadata": {},
   "outputs": [],
   "source": [
    "%load_ext autoreload"
   ]
  },
  {
   "cell_type": "code",
   "execution_count": 35,
   "id": "e55053dc-68b5-4d57-923c-5b20ce72a7de",
   "metadata": {},
   "outputs": [],
   "source": [
    "%autoreload 2"
   ]
  },
  {
   "cell_type": "code",
   "execution_count": 58,
   "id": "dce9075c-8283-4c6e-ad79-07a426a0cc34",
   "metadata": {},
   "outputs": [],
   "source": [
    "adata.obs['q'] = 0.07"
   ]
  },
  {
   "cell_type": "code",
   "execution_count": 61,
   "id": "471c2464-2d05-4ebd-93fd-d630d0f6455c",
   "metadata": {},
   "outputs": [],
   "source": [
    "memento.setup_memento(adata, q_column='q')"
   ]
  },
  {
   "cell_type": "code",
   "execution_count": 68,
   "id": "91c91cd0-2e50-4455-a39b-9227e7c1b228",
   "metadata": {},
   "outputs": [],
   "source": [
    "memento.create_groups(adata, label_columns=['cell'])"
   ]
  },
  {
   "cell_type": "code",
   "execution_count": 69,
   "id": "2031b174-b41c-47d5-92bc-7a32d5658e79",
   "metadata": {},
   "outputs": [],
   "source": [
    "memento.compute_1d_moments(adata)"
   ]
  },
  {
   "cell_type": "code",
   "execution_count": 76,
   "id": "996e5a24-398b-4d89-abe4-e3a3c793b446",
   "metadata": {},
   "outputs": [
    {
     "data": {
      "text/plain": [
       "[array([7.0354872e-05, 2.0055490e-04, 7.0600538e-05, ..., 1.9567333e-04,\n",
       "        7.1403862e-05, 2.1235883e-04], dtype=float32),\n",
       " array([9.3322754e-09, 9.5357666e-07, 5.0630437e-08, ..., 3.0482820e-08,\n",
       "        7.4649424e-09, 5.4613079e-08], dtype=float32),\n",
       " array([ 0.67086899, 19.38791847,  3.62503791, ...,  0.6392253 ,\n",
       "         0.52752513,  1.03328931])]"
      ]
     },
     "execution_count": 76,
     "metadata": {},
     "output_type": "execute_result"
    }
   ],
   "source": [
    "adata.uns['memento']['1d_moments']['sg^CD4 T cells'][0]"
   ]
  },
  {
   "cell_type": "code",
   "execution_count": null,
   "id": "fa71767b-f7e8-4c2b-99e0-f2b3044e894b",
   "metadata": {},
   "outputs": [],
   "source": []
  },
  {
   "cell_type": "code",
   "execution_count": null,
   "id": "e3456d89-e2f5-4211-abed-2066b4651271",
   "metadata": {},
   "outputs": [],
   "source": []
  },
  {
   "cell_type": "code",
   "execution_count": null,
   "id": "6064a702-13e1-4da7-8985-d914d2d63cd6",
   "metadata": {},
   "outputs": [],
   "source": []
  },
  {
   "cell_type": "code",
   "execution_count": null,
   "id": "c68bec10-ebaf-4e03-a3c7-aae16a0d2a1b",
   "metadata": {},
   "outputs": [],
   "source": []
  },
  {
   "cell_type": "code",
   "execution_count": null,
   "id": "efdc648e-b5a9-4eac-9b51-967ab144af1f",
   "metadata": {},
   "outputs": [],
   "source": [
    "\n",
    "def _mean_only_shrink(data, n_obs, q, size_factor=None, alpha=0.9):\n",
    "    \"\"\"\n",
    "        Hypergeometric mean estimator based on Good's estimator.\n",
    "    \"\"\"\n",
    "\n",
    "    if type(data) == tuple:\n",
    "        return\n",
    "    else:\n",
    "        \n",
    "    \n",
    "        smooth_arr = data.copy().astype(np.float64)\n",
    "        freqs = bincount2d_sparse(data)\n",
    "        expected_freqs = freqs.mean(axis=0).A1\n",
    "\n",
    "        smooth_mask = (data < 10)\n",
    "        smooth_arr[smooth_mask] = (data[smooth_mask].A1+1)*expected_freqs[data[smooth_mask].A1+1] / expected_freqs[data[smooth_mask].A1]\n",
    "\n",
    "        smooth_mask = (data == 0)\n",
    "        pb = (arr.sum(axis=0).A1+1)\n",
    "\n",
    "        denom = np.array([pb[sparse.find(smooth_mask[i])[1]].sum() for i in range(n_obs)]).mean()\n",
    "\n",
    "        rows, cols, _ = sparse.find(smooth_mask)\n",
    "        smooth_arr[rows, cols] = expected_freqs[1]*(alpha*(pb[cols]/denom) + ((1-alpha)/expected_freqs[0]))\n",
    "        m = (smooth_arr/size_factor[:, np.newaxis]).mean(axis=0).A1\n",
    "\n",
    "        return m, np.ones(m.shape)"
   ]
  }
 ],
 "metadata": {
  "kernelspec": {
   "display_name": "Python 3 (ipykernel)",
   "language": "python",
   "name": "python3"
  },
  "language_info": {
   "codemirror_mode": {
    "name": "ipython",
    "version": 3
   },
   "file_extension": ".py",
   "mimetype": "text/x-python",
   "name": "python",
   "nbconvert_exporter": "python",
   "pygments_lexer": "ipython3",
   "version": "3.7.11"
  }
 },
 "nbformat": 4,
 "nbformat_minor": 5
}
