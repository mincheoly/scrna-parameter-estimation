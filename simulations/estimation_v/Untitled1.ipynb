{
 "cells": [
  {
   "cell_type": "code",
   "execution_count": 1,
   "id": "69cf8bf5-7411-44e2-805f-2d4064326224",
   "metadata": {
    "tags": []
   },
   "outputs": [],
   "source": [
    "import scanpy as sc\n",
    "import matplotlib.pyplot as plt\n",
    "import numpy as np\n",
    "import pandas as pd\n",
    "\n",
    "import sys\n",
    "sys.path.append('/home/ubuntu/Github/memento/')\n",
    "import memento\n",
    "import memento.auxillary.simulate as simulate\n",
    "import scipy.sparse as sparse\n",
    "\n",
    "\n",
    "DATA_PATH = '/home/ubuntu/Data/'\n",
    "CELL_TYPE = 'CD4 T cells - ctrl'\n",
    "\n",
    "NUM_TRIALS = 20\n",
    "CAPTURE_EFFICIENCIES = [0.01, 0.05, 0.1, 0.2, 0.3, 0.5, 0.8, 1]\n",
    "NUMBER_OF_CELLS = [10, 20, 30, 40, 50, 100, 200]"
   ]
  },
  {
   "cell_type": "code",
   "execution_count": 6,
   "id": "829a7db1-4b86-47aa-acab-decb6b1534f4",
   "metadata": {
    "tags": []
   },
   "outputs": [],
   "source": [
    "q=0.07"
   ]
  },
  {
   "cell_type": "code",
   "execution_count": 7,
   "id": "dad9556c-fb77-4577-ba77-0ac394aa1961",
   "metadata": {
    "tags": []
   },
   "outputs": [
    {
     "name": "stderr",
     "output_type": "stream",
     "text": [
      "/home/ubuntu/anaconda3/envs/mementocxg/lib/python3.11/site-packages/anndata/__init__.py:51: FutureWarning: `anndata.read` is deprecated, use `anndata.read_h5ad` instead. `ad.read` will be removed in mid 2024.\n",
      "  warnings.warn(\n"
     ]
    }
   ],
   "source": [
    "adata = sc.read(DATA_PATH + 'interferon_filtered.h5ad')\n",
    "adata = adata[adata.obs.cell_type == CELL_TYPE]\n",
    "data = adata.X.copy()\n",
    "relative_data = data.toarray()/data.sum(axis=1)\n",
    "\n",
    "x_param, z_param, Nc, good_idx = simulate.extract_parameters(adata.X, q=q, min_mean=0.01)"
   ]
  },
  {
   "cell_type": "code",
   "execution_count": 9,
   "id": "12bf58c8-96ca-4565-93d5-6547cfa081e6",
   "metadata": {
    "tags": []
   },
   "outputs": [
    {
     "data": {
      "text/plain": [
       "(6263,)"
      ]
     },
     "execution_count": 9,
     "metadata": {},
     "output_type": "execute_result"
    }
   ],
   "source": [
    "x_param[0].shape"
   ]
  },
  {
   "cell_type": "code",
   "execution_count": 10,
   "id": "6c1bf317-765f-426a-8548-e8a35c1174c0",
   "metadata": {
    "tags": []
   },
   "outputs": [
    {
     "data": {
      "text/plain": [
       "array([9.7235802e-09, 4.9285354e-09, 6.8652184e-07, ..., 3.0476830e-09,\n",
       "       2.5096519e-08, 6.9261631e-08], dtype=float32)"
      ]
     },
     "execution_count": 10,
     "metadata": {},
     "output_type": "execute_result"
    }
   ],
   "source": [
    "x_param[1]"
   ]
  },
  {
   "cell_type": "code",
   "execution_count": 12,
   "id": "1968d7d9-94df-468f-a94a-0881c608d4e7",
   "metadata": {
    "tags": []
   },
   "outputs": [
    {
     "data": {
      "text/plain": [
       "array([7.1957336e-05, 1.0512898e-05, 1.9856083e-04, ..., 1.8969877e-05,\n",
       "       2.1390095e-05, 2.2130340e-04], dtype=float32)"
      ]
     },
     "execution_count": 12,
     "metadata": {},
     "output_type": "execute_result"
    }
   ],
   "source": [
    "x_param[0]"
   ]
  },
  {
   "cell_type": "code",
   "execution_count": 15,
   "id": "a1b39cb5-ccd2-45a1-bb24-315045f22423",
   "metadata": {
    "tags": []
   },
   "outputs": [],
   "source": [
    "basics_result = pd.read_csv('/home/ubuntu/Data/simulation/variance/test.csv')"
   ]
  },
  {
   "cell_type": "code",
   "execution_count": 20,
   "id": "4acff359-7ee6-4675-878e-b769eda74f6b",
   "metadata": {
    "tags": []
   },
   "outputs": [
    {
     "data": {
      "text/html": [
       "<div>\n",
       "<style scoped>\n",
       "    .dataframe tbody tr th:only-of-type {\n",
       "        vertical-align: middle;\n",
       "    }\n",
       "\n",
       "    .dataframe tbody tr th {\n",
       "        vertical-align: top;\n",
       "    }\n",
       "\n",
       "    .dataframe thead th {\n",
       "        text-align: right;\n",
       "    }\n",
       "</style>\n",
       "<table border=\"1\" class=\"dataframe\">\n",
       "  <thead>\n",
       "    <tr style=\"text-align: right;\">\n",
       "      <th></th>\n",
       "      <th>Unnamed: 0</th>\n",
       "      <th>mu</th>\n",
       "      <th>delta</th>\n",
       "      <th>variance</th>\n",
       "    </tr>\n",
       "  </thead>\n",
       "  <tbody>\n",
       "    <tr>\n",
       "      <th>0</th>\n",
       "      <td>0</td>\n",
       "      <td>0.585411</td>\n",
       "      <td>1.311206</td>\n",
       "      <td>1.034768</td>\n",
       "    </tr>\n",
       "    <tr>\n",
       "      <th>1</th>\n",
       "      <td>1</td>\n",
       "      <td>0.013692</td>\n",
       "      <td>125.158503</td>\n",
       "      <td>0.037156</td>\n",
       "    </tr>\n",
       "    <tr>\n",
       "      <th>2</th>\n",
       "      <td>2</td>\n",
       "      <td>1.246841</td>\n",
       "      <td>16.589590</td>\n",
       "      <td>27.037218</td>\n",
       "    </tr>\n",
       "    <tr>\n",
       "      <th>3</th>\n",
       "      <td>3</td>\n",
       "      <td>0.286620</td>\n",
       "      <td>7.875985</td>\n",
       "      <td>0.933642</td>\n",
       "    </tr>\n",
       "    <tr>\n",
       "      <th>4</th>\n",
       "      <td>4</td>\n",
       "      <td>0.416850</td>\n",
       "      <td>8.917843</td>\n",
       "      <td>1.966450</td>\n",
       "    </tr>\n",
       "    <tr>\n",
       "      <th>...</th>\n",
       "      <td>...</td>\n",
       "      <td>...</td>\n",
       "      <td>...</td>\n",
       "      <td>...</td>\n",
       "    </tr>\n",
       "    <tr>\n",
       "      <th>6258</th>\n",
       "      <td>6258</td>\n",
       "      <td>0.087227</td>\n",
       "      <td>5.405299</td>\n",
       "      <td>0.128354</td>\n",
       "    </tr>\n",
       "    <tr>\n",
       "      <th>6259</th>\n",
       "      <td>6259</td>\n",
       "      <td>0.107357</td>\n",
       "      <td>1.843549</td>\n",
       "      <td>0.128605</td>\n",
       "    </tr>\n",
       "    <tr>\n",
       "      <th>6260</th>\n",
       "      <td>6260</td>\n",
       "      <td>0.198675</td>\n",
       "      <td>4.655494</td>\n",
       "      <td>0.382435</td>\n",
       "    </tr>\n",
       "    <tr>\n",
       "      <th>6261</th>\n",
       "      <td>6261</td>\n",
       "      <td>0.101532</td>\n",
       "      <td>110.537143</td>\n",
       "      <td>1.241026</td>\n",
       "    </tr>\n",
       "    <tr>\n",
       "      <th>6262</th>\n",
       "      <td>6262</td>\n",
       "      <td>1.806953</td>\n",
       "      <td>1.292711</td>\n",
       "      <td>6.027754</td>\n",
       "    </tr>\n",
       "  </tbody>\n",
       "</table>\n",
       "<p>6263 rows × 4 columns</p>\n",
       "</div>"
      ],
      "text/plain": [
       "      Unnamed: 0        mu       delta   variance\n",
       "0              0  0.585411    1.311206   1.034768\n",
       "1              1  0.013692  125.158503   0.037156\n",
       "2              2  1.246841   16.589590  27.037218\n",
       "3              3  0.286620    7.875985   0.933642\n",
       "4              4  0.416850    8.917843   1.966450\n",
       "...          ...       ...         ...        ...\n",
       "6258        6258  0.087227    5.405299   0.128354\n",
       "6259        6259  0.107357    1.843549   0.128605\n",
       "6260        6260  0.198675    4.655494   0.382435\n",
       "6261        6261  0.101532  110.537143   1.241026\n",
       "6262        6262  1.806953    1.292711   6.027754\n",
       "\n",
       "[6263 rows x 4 columns]"
      ]
     },
     "execution_count": 20,
     "metadata": {},
     "output_type": "execute_result"
    }
   ],
   "source": [
    "basics_result"
   ]
  },
  {
   "cell_type": "code",
   "execution_count": 32,
   "id": "3dedf3df-5e51-41f8-a330-37a239086f94",
   "metadata": {
    "tags": []
   },
   "outputs": [],
   "source": [
    "scale_factor = (basics_result['mu']/x_param[0]).mean()"
   ]
  },
  {
   "cell_type": "code",
   "execution_count": 33,
   "id": "a30c07f0-3072-40c3-af58-e2b2aae49477",
   "metadata": {
    "tags": []
   },
   "outputs": [
    {
     "data": {
      "text/plain": [
       "8635.110065259412"
      ]
     },
     "execution_count": 33,
     "metadata": {},
     "output_type": "execute_result"
    }
   ],
   "source": [
    "scale_factor"
   ]
  },
  {
   "cell_type": "code",
   "execution_count": 39,
   "id": "fbcb0435-4114-4326-86ce-3c6a28ff481b",
   "metadata": {
    "tags": []
   },
   "outputs": [
    {
     "data": {
      "text/plain": [
       "<matplotlib.collections.PathCollection at 0x7fe04ccef790>"
      ]
     },
     "execution_count": 39,
     "metadata": {},
     "output_type": "execute_result"
    },
    {
     "data": {
      "image/png": "[encoded data removed]",
      "text/plain": [
       "<Figure size 640x480 with 1 Axes>"
      ]
     },
     "metadata": {},
     "output_type": "display_data"
    }
   ],
   "source": [
    "plt.scatter(\n",
    "    np.log(x_param[0]),\n",
    "    np.log(basics_result['mu']/scale_factor))"
   ]
  },
  {
   "cell_type": "code",
   "execution_count": 37,
   "id": "cf34adba-1184-40cb-8c4f-f7f87eec3777",
   "metadata": {
    "tags": []
   },
   "outputs": [
    {
     "data": {
      "text/plain": [
       "<matplotlib.collections.PathCollection at 0x7fe04cd8af50>"
      ]
     },
     "execution_count": 37,
     "metadata": {},
     "output_type": "execute_result"
    },
    {
     "data": {
      "image/png": "[encoded data removed]",
      "text/plain": [
       "<Figure size 640x480 with 1 Axes>"
      ]
     },
     "metadata": {},
     "output_type": "display_data"
    }
   ],
   "source": [
    "plt.scatter(\n",
    "    np.log(x_param[1]),\n",
    "    np.log(basics_result['variance']/scale_factor**2))"
   ]
  },
  {
   "cell_type": "code",
   "execution_count": 17,
   "id": "3a9983be-2124-4f0d-96f5-f24fe33c6792",
   "metadata": {
    "tags": []
   },
   "outputs": [
    {
     "data": {
      "text/plain": [
       "0        1.034768\n",
       "1        0.037156\n",
       "2       27.037218\n",
       "3        0.933642\n",
       "4        1.966450\n",
       "          ...    \n",
       "6258     0.128354\n",
       "6259     0.128605\n",
       "6260     0.382435\n",
       "6261     1.241026\n",
       "6262     6.027754\n",
       "Name: variance, Length: 6263, dtype: float64"
      ]
     },
     "execution_count": 17,
     "metadata": {},
     "output_type": "execute_result"
    }
   ],
   "source": [
    "basics_result['variance']"
   ]
  },
  {
   "cell_type": "code",
   "execution_count": null,
   "id": "e291bfc5-56e8-41cc-bcee-95b1cf1e4d89",
   "metadata": {},
   "outputs": [],
   "source": []
  }
 ],
 "metadata": {
  "kernelspec": {
   "display_name": "mementocxg",
   "language": "python",
   "name": "myenv"
  },
  "language_info": {
   "codemirror_mode": {
    "name": "ipython",
    "version": 3
   },
   "file_extension": ".py",
   "mimetype": "text/x-python",
   "name": "python",
   "nbconvert_exporter": "python",
   "pygments_lexer": "ipython3",
   "version": "3.11.5"
  }
 },
 "nbformat": 4,
 "nbformat_minor": 5
}
