{
 "cells": [
  {
   "cell_type": "markdown",
   "id": "2afb43fe-272b-4370-a84d-dba5bd738d13",
   "metadata": {},
   "source": [
    "# Comparing simulation output for variance estimation"
   ]
  },
  {
   "cell_type": "code",
   "execution_count": 21,
   "id": "68e7bf97-becd-40d6-9aa2-ad971ec8c8d3",
   "metadata": {
    "tags": []
   },
   "outputs": [],
   "source": [
    "import pandas as pd\n",
    "import matplotlib.pyplot as plt\n",
    "import scanpy as sc\n",
    "import scipy as sp\n",
    "import scipy.sparse as sparse\n",
    "import itertools\n",
    "import numpy as np\n",
    "import scipy.stats as stats\n",
    "from scipy.special import kl_div\n",
    "from scipy.integrate import dblquad\n",
    "import seaborn as sns\n",
    "from statsmodels.stats.multitest import fdrcorrection\n",
    "import imp\n",
    "pd.options.display.max_rows = 999\n",
    "pd.set_option('display.max_colwidth', 100)\n",
    "import pickle as pkl\n",
    "import time"
   ]
  },
  {
   "cell_type": "code",
   "execution_count": 22,
   "id": "10e5d2c2-5441-494c-9593-38b970fcd1a8",
   "metadata": {
    "tags": []
   },
   "outputs": [],
   "source": [
    "import matplotlib as mpl\n",
    "mpl.rcParams['pdf.fonttype'] = 42\n",
    "mpl.rcParams['ps.fonttype'] = 42\n",
    "\n",
    "import matplotlib.pylab as pylab\n",
    "params = {'legend.fontsize': 'small',\n",
    "         'axes.labelsize': 'medium',\n",
    "         'axes.titlesize':'medium',\n",
    "         'figure.titlesize':'medium',\n",
    "         'xtick.labelsize':'medium',\n",
    "         'ytick.labelsize':'medium'}\n",
    "pylab.rcParams.update(params)\n"
   ]
  },
  {
   "cell_type": "code",
   "execution_count": 23,
   "id": "3567541f-85be-490b-a1ef-3b12d5cba25a",
   "metadata": {
    "tags": []
   },
   "outputs": [],
   "source": [
    "import sys\n",
    "sys.path.append('/home/ubuntu/Github/memento/')\n",
    "import memento\n",
    "import memento.auxillary.simulate as simulate"
   ]
  },
  {
   "cell_type": "code",
   "execution_count": 24,
   "id": "d0c05f75-a67a-4e90-ba49-f1c799056fc6",
   "metadata": {
    "tags": []
   },
   "outputs": [],
   "source": [
    "data_path = '/home/ubuntu/Data/'\n",
    "cell_type = 'CD4 T cells - ctrl'\n"
   ]
  },
  {
   "cell_type": "code",
   "execution_count": 25,
   "id": "668284d2-c172-432d-8cc2-3ac85024ac69",
   "metadata": {
    "tags": []
   },
   "outputs": [
    {
     "name": "stdout",
     "output_type": "stream",
     "text": [
      "The autoreload extension is already loaded. To reload it, use:\n",
      "  %reload_ext autoreload\n"
     ]
    }
   ],
   "source": [
    "%load_ext autoreload"
   ]
  },
  {
   "cell_type": "code",
   "execution_count": 26,
   "id": "2a7312f9-27d9-4029-ae0f-a92d610f5e45",
   "metadata": {
    "tags": []
   },
   "outputs": [],
   "source": [
    "%autoreload 2"
   ]
  },
  {
   "cell_type": "markdown",
   "id": "ef3747c0-a877-4463-ad5c-7f36fbb6120c",
   "metadata": {},
   "source": [
    "### Pick genes"
   ]
  },
  {
   "cell_type": "code",
   "execution_count": 27,
   "id": "c9b39d8a-c82d-4a45-b61c-db3ffc2a3c9d",
   "metadata": {
    "tags": []
   },
   "outputs": [],
   "source": [
    "def get_simulation_parameters(q=0.07):\n",
    "    \"\"\" Extracts simulation parameters. \"\"\"\n",
    "    \n",
    "    adata = sc.read(data_path + 'interferon_filtered.h5ad')\n",
    "    adata = adata[adata.obs.cell_type == cell_type]\n",
    "    data = adata.X.copy()\n",
    "    relative_data = data.toarray()/data.sum(axis=1)\n",
    "    \n",
    "    x_param, z_param, Nc, good_idx = simulate.extract_parameters(adata.X, q=q, min_mean=0.01)\n",
    "    \n",
    "    return x_param, z_param, Nc"
   ]
  },
  {
   "cell_type": "code",
   "execution_count": 28,
   "id": "dbcda28c-7f14-40f1-846f-a72d513ec6e6",
   "metadata": {
    "tags": []
   },
   "outputs": [
    {
     "name": "stderr",
     "output_type": "stream",
     "text": [
      "/home/ubuntu/anaconda3/envs/mementocxg/lib/python3.11/site-packages/anndata/__init__.py:51: FutureWarning: `anndata.read` is deprecated, use `anndata.read_h5ad` instead. `ad.read` will be removed in mid 2024.\n",
      "  warnings.warn(\n"
     ]
    }
   ],
   "source": [
    "x_param, z_param, Nc = get_simulation_parameters(q=0.07)"
   ]
  },
  {
   "cell_type": "code",
   "execution_count": 29,
   "id": "e335be84-bba6-4c84-ae4e-26323c48124f",
   "metadata": {
    "tags": []
   },
   "outputs": [],
   "source": [
    "# Pick top 500 genes in terms of expression\n",
    "selected_idxs = np.argsort(x_param[0])[:]"
   ]
  },
  {
   "cell_type": "markdown",
   "id": "6d552222-fcdf-4fea-ae86-bd670ffca0db",
   "metadata": {},
   "source": [
    "### Calculate concordances"
   ]
  },
  {
   "cell_type": "code",
   "execution_count": 30,
   "id": "e8dddacb-7974-43c5-833d-48e236abf996",
   "metadata": {
    "tags": []
   },
   "outputs": [],
   "source": [
    "def concordance(x, y, mask, log=True):\n",
    "    \n",
    "    cond = mask\n",
    "\n",
    "    if log:\n",
    "        a = np.log(x[cond])\n",
    "        b = np.log(y[cond])\n",
    "    else:\n",
    "        a = x[cond]\n",
    "        b = y[cond]\n",
    "\n",
    "    cmat = np.cov(a, b)\n",
    "    return cond.sum(), 2*cmat[0,1]/(cmat[0,0] + cmat[1,1] + (a.mean()-b.mean())**2)"
   ]
  },
  {
   "cell_type": "code",
   "execution_count": 31,
   "id": "e40f8133-5b02-4de0-9db8-9be27e356753",
   "metadata": {
    "tags": []
   },
   "outputs": [],
   "source": [
    "variances = np.load(data_path + 'simulation/variance/simulation_variances.npz')['means']\n",
    "meta = pd.read_csv(data_path + 'simulation/variance/simulation_metadata.csv')\n",
    "\n",
    "# OPTIONAL - filter genes for comparison\n",
    "variances = variances[:, selected_idxs]\n",
    "gene_names = [f'gene_{i}' for i in range(variances.shape[1])]\n",
    "\n",
    "results = pd.concat([\n",
    "    meta, \n",
    "    pd.DataFrame(variances, columns=gene_names)],\n",
    "    axis=1)"
   ]
  },
  {
   "cell_type": "code",
   "execution_count": 32,
   "id": "be31e6bb-93bb-4406-ae4c-9747e038457a",
   "metadata": {
    "tags": []
   },
   "outputs": [],
   "source": [
    "concordances = []\n",
    "for name, group in results.groupby(['q', 'num_cell', 'trial']):\n",
    "    methods = group['method']\n",
    "    q, num_cell, trial = name\n",
    "    indices = np.all((group[gene_names].values > 0), axis=0)\n",
    "    for idx, method in enumerate(methods):\n",
    "    \n",
    "        estimates = group[gene_names].values[idx]\n",
    "        \n",
    "        num_genes_used, c = concordance(estimates, group[gene_names].values[0], indices)\n",
    "\n",
    "        concordances.append((\n",
    "            q,\n",
    "            num_cell, \n",
    "            trial,\n",
    "            method,\n",
    "            num_genes_used,\n",
    "            c\n",
    "        ))\n",
    "    \n",
    "results = pd.DataFrame(concordances, columns=['q', 'num_cell', 'trial', 'method','num_valid_genes',  'concordance'])"
   ]
  },
  {
   "cell_type": "code",
   "execution_count": 60,
   "id": "6c652e24-25a5-4b0e-90ad-d4fcf3769116",
   "metadata": {
    "tags": []
   },
   "outputs": [],
   "source": [
    "def plot_curve(x, y, data, ax, marker, color, markersize, linestyle='-', label=''):\n",
    "    \n",
    "    agg_data = data.groupby(x)[y].agg(['mean', 'std'])\n",
    "    x_data = agg_data.index\n",
    "    y_data = agg_data['mean'].values\n",
    "    y_err = agg_data['std']*3\n",
    "    \n",
    "    ax.plot(x_data, y_data, marker=marker, color=color, markersize=markersize, linestyle=linestyle, label=label)\n",
    "    ax.fill_between(x_data, y_data-y_err, y_data+y_err, alpha=0.2, color=color)"
   ]
  },
  {
   "cell_type": "code",
   "execution_count": 62,
   "id": "d7fc34f1-cae4-4f41-a92b-c341af3500cb",
   "metadata": {
    "tags": []
   },
   "outputs": [
    {
     "data": {
      "text/plain": [
       "<matplotlib.legend.Legend at 0x7fdb9eee6950>"
      ]
     },
     "execution_count": 62,
     "metadata": {},
     "output_type": "execute_result"
    },
    {
     "data": {
      "image/png": "[encoded data removed]",
      "text/plain": [
       "<Figure size 250x200 with 1 Axes>"
      ]
     },
     "metadata": {},
     "output_type": "display_data"
    }
   ],
   "source": [
    "fig, ax = plt.subplots(figsize=(2.5,2))\n",
    "\n",
    "num_cell_to_show = 100\n",
    "q_limit=0.6\n",
    "\n",
    "plot_curve('q', 'concordance', \n",
    "           data=results\\\n",
    "            .query(f'num_cell == {num_cell_to_show}')\\\n",
    "            .query('method == \"hypergeometric\"')\\\n",
    "            .query(f'q < {q_limit}') ,\n",
    "           ax=ax, \n",
    "           color='turquoise',\n",
    "           marker='o', \n",
    "           markersize=5,\n",
    "           label='memento')\n",
    "\n",
    "plot_curve('q', 'concordance', \n",
    "           data=results\\\n",
    "            .query(f'num_cell == {num_cell_to_show}')\\\n",
    "            .query('method == \"poisson\"')\\\n",
    "            .query(f'q < {q_limit}') ,\n",
    "           ax=ax, \n",
    "           color='gray', \n",
    "           marker=\"s\", \n",
    "           markersize=5,\n",
    "           label='Poisson')\n",
    "\n",
    "plot_curve('q', 'concordance', \n",
    "           data=results\\\n",
    "            .query(f'num_cell == {num_cell_to_show}')\\\n",
    "            .query('method == \"basics\"')\\\n",
    "            .query(f'q < {q_limit}') ,\n",
    "           ax=ax, \n",
    "           color='gray', \n",
    "           marker='^', \n",
    "           markersize=6,\n",
    "           label='BASiCS')\n",
    "\n",
    "plot_curve('q', 'concordance', \n",
    "           data=results\\\n",
    "            .query(f'num_cell == {num_cell_to_show}')\\\n",
    "            .query('method == \"naive\"')\\\n",
    "            .query(f'q < {q_limit}') ,\n",
    "           ax=ax, \n",
    "           color='gray', \n",
    "           marker=\",\", \n",
    "           linestyle='--',\n",
    "           markersize=5,\n",
    "           label='naive')\n",
    "\n",
    "plt.ylim(0.5, 1.01)\n",
    "\n",
    "\n",
    "plt.xlabel('Overall capture efficiency')\n",
    "plt.ylabel('Concordance')\n",
    "plt.legend(frameon=False)"
   ]
  },
  {
   "cell_type": "code",
   "execution_count": null,
   "id": "8a73ca6e-fd79-4f1f-bf7a-b863f4975808",
   "metadata": {},
   "outputs": [],
   "source": []
  }
 ],
 "metadata": {
  "kernelspec": {
   "display_name": "mementocxg",
   "language": "python",
   "name": "myenv"
  },
  "language_info": {
   "codemirror_mode": {
    "name": "ipython",
    "version": 3
   },
   "file_extension": ".py",
   "mimetype": "text/x-python",
   "name": "python",
   "nbconvert_exporter": "python",
   "pygments_lexer": "ipython3",
   "version": "3.11.5"
  }
 },
 "nbformat": 4,
 "nbformat_minor": 5
}
