{
 "cells": [
  {
   "cell_type": "markdown",
   "id": "fd0d7176-3f10-4286-907e-0b211e87d812",
   "metadata": {},
   "source": [
    "# Comparing outcomes of mean simulations"
   ]
  },
  {
   "cell_type": "code",
   "execution_count": 2,
   "id": "92a7daf4-8220-4812-af89-d6e747b17f49",
   "metadata": {
    "tags": []
   },
   "outputs": [],
   "source": [
    "import pandas as pd\n",
    "import matplotlib.pyplot as plt\n",
    "import scanpy as sc\n",
    "import scipy as sp\n",
    "import scipy.sparse as sparse\n",
    "import itertools\n",
    "import numpy as np\n",
    "import scipy.stats as stats\n",
    "from scipy.special import kl_div\n",
    "from scipy.integrate import dblquad\n",
    "import seaborn as sns\n",
    "from statsmodels.stats.multitest import fdrcorrection\n",
    "import imp\n",
    "pd.options.display.max_rows = 999\n",
    "pd.set_option('display.max_colwidth', 100)\n",
    "import pickle as pkl\n",
    "import time"
   ]
  },
  {
   "cell_type": "code",
   "execution_count": 3,
   "id": "781a5d76-2b1c-4aa1-aea6-0bed45c4b8bc",
   "metadata": {
    "tags": []
   },
   "outputs": [],
   "source": [
    "import matplotlib as mpl\n",
    "mpl.rcParams['pdf.fonttype'] = 42\n",
    "mpl.rcParams['ps.fonttype'] = 42\n",
    "\n",
    "import matplotlib.pylab as pylab\n",
    "params = {'legend.fontsize': 'small',\n",
    "         'axes.labelsize': 'medium',\n",
    "         'axes.titlesize':'medium',\n",
    "         'figure.titlesize':'medium',\n",
    "         'xtick.labelsize':'medium',\n",
    "         'ytick.labelsize':'medium'}\n",
    "pylab.rcParams.update(params)\n"
   ]
  },
  {
   "cell_type": "code",
   "execution_count": 4,
   "id": "98f99368-095d-4812-b7e7-780c489af360",
   "metadata": {
    "tags": []
   },
   "outputs": [],
   "source": [
    "import sys\n",
    "sys.path.append('/home/ubuntu/Github/memento/')\n",
    "import memento\n",
    "import memento.auxillary.simulate as simulate"
   ]
  },
  {
   "cell_type": "code",
   "execution_count": 5,
   "id": "a2ddbccc-53a3-48cc-bb1e-b748b9bf8252",
   "metadata": {
    "tags": []
   },
   "outputs": [],
   "source": [
    "data_path = '/home/ubuntu/Data/'"
   ]
  },
  {
   "cell_type": "code",
   "execution_count": 6,
   "id": "86537a41-99fb-4ae4-ac7c-ebd2b322a583",
   "metadata": {
    "tags": []
   },
   "outputs": [],
   "source": [
    "%load_ext autoreload"
   ]
  },
  {
   "cell_type": "code",
   "execution_count": 7,
   "id": "6f15c62c-93d7-4abd-9856-bef3e91dae8d",
   "metadata": {
    "tags": []
   },
   "outputs": [],
   "source": [
    "%autoreload 2"
   ]
  },
  {
   "cell_type": "markdown",
   "id": "6c64d601-5d17-4212-b71c-07c141165dba",
   "metadata": {},
   "source": [
    "### Plotting"
   ]
  },
  {
   "cell_type": "code",
   "execution_count": 8,
   "id": "49458ab7-c68a-41cf-a2ae-42e54c361aff",
   "metadata": {
    "tags": []
   },
   "outputs": [],
   "source": [
    "def concordance(x, y, log=True):\n",
    "    \n",
    "    if log:\n",
    "        a = np.log(x)\n",
    "        b = np.log(y)\n",
    "    else:\n",
    "        a = x\n",
    "        b = y\n",
    "    cond = np.isfinite(a) & np.isfinite(b)\n",
    "    a = a[cond]\n",
    "    b = b[cond]\n",
    "    cmat = np.cov(a, b)\n",
    "    return 2*cmat[0,1]/(cmat[0,0] + cmat[1,1] + (a.mean()-b.mean())**2)"
   ]
  },
  {
   "cell_type": "code",
   "execution_count": 9,
   "id": "734f02fc-8dc8-45fb-90d0-68e4fd957648",
   "metadata": {
    "tags": []
   },
   "outputs": [],
   "source": [
    "means = np.load(data_path + 'simulation/mean/simulation_means.npz')['means']\n",
    "meta = pd.read_csv(data_path + 'simulation/mean/simulation_metadata.csv')\n",
    "results = meta.iloc[1:].copy()"
   ]
  },
  {
   "cell_type": "code",
   "execution_count": 10,
   "id": "228037b4-7242-4b88-a1b4-ad3e316e7879",
   "metadata": {
    "tags": []
   },
   "outputs": [
    {
     "name": "stderr",
     "output_type": "stream",
     "text": [
      "/tmp/ipykernel_1924/3688686602.py:5: RuntimeWarning: divide by zero encountered in log\n",
      "  b = np.log(y)\n"
     ]
    }
   ],
   "source": [
    "concordances = []\n",
    "for i in range(1, means.shape[0]):\n",
    "    \n",
    "    c = concordance(means[0], means[i])\n",
    "    concordances.append(c)\n",
    "results['concordance'] = concordances"
   ]
  },
  {
   "cell_type": "code",
   "execution_count": 11,
   "id": "e57af1a3-bd76-40f1-a527-c1652b2d1aa3",
   "metadata": {
    "tags": []
   },
   "outputs": [],
   "source": [
    "num_cell_to_show = [200]\n",
    "methods_to_show = ['hypergeometric']\n",
    "q_limit = 0.3\n",
    "results_to_show = results\\\n",
    "    .query('method in @methods_to_show')\\\n",
    "    .query(f'q < {q_limit}')\\\n",
    "    .sort_values('num_cell', ascending=False)"
   ]
  },
  {
   "cell_type": "code",
   "execution_count": 30,
   "id": "89f62193-8ee9-4b10-abf0-6697dd5a8913",
   "metadata": {
    "tags": []
   },
   "outputs": [],
   "source": [
    "def plot_curve(x, y, data, ax, marker, color, markersize, linestyle='-'):\n",
    "    \n",
    "    agg_data = data.groupby(x)[y].agg(['mean', 'std'])\n",
    "    x_data = agg_data.index\n",
    "    y_data = agg_data['mean'].values\n",
    "    y_err = agg_data['std']*2\n",
    "    \n",
    "    ax.plot(x_data, y_data, marker=marker, color=color, markersize=markersize, linestyle=linestyle)\n",
    "    # ax.errorbar(x_data, y_data, y_err, marker=marker, color=color, markersize=markersize, linestyle=linestyle)\n",
    "\n",
    "    ax.fill_between(x_data, y_data-y_err, y_data+y_err, alpha=0.4, color=color)"
   ]
  },
  {
   "cell_type": "code",
   "execution_count": 39,
   "id": "eda7c681-00ea-46f7-a5e3-b9fdcd291ab6",
   "metadata": {
    "tags": []
   },
   "outputs": [
    {
     "data": {
      "image/png": "[encoded data removed]",
      "text/plain": [
       "<Figure size 250x200 with 1 Axes>"
      ]
     },
     "metadata": {},
     "output_type": "display_data"
    }
   ],
   "source": [
    "fig, ax = plt.subplots(figsize=(2.5,2))\n",
    "\n",
    "\n",
    "plot_curve('q', 'concordance', \n",
    "           data=results\\\n",
    "            .query('num_cell == 100')\\\n",
    "            .query('method == \"hypergeometric\"')\\\n",
    "            .query(f'q < {q_limit}') ,\n",
    "           ax=ax, \n",
    "           color='turquoise',\n",
    "           marker='o', \n",
    "           markersize=5)\n",
    "\n",
    "plot_curve('q', 'concordance', \n",
    "           data=results\\\n",
    "            .query('num_cell == 100')\\\n",
    "            .query('method == \"naive\"')\\\n",
    "            .query(f'q < {q_limit}') ,\n",
    "           ax=ax, \n",
    "           color='gray', \n",
    "           marker=',', \n",
    "           markersize=5,\n",
    "           linestyle='--')\n",
    "\n",
    "plot_curve('q', 'concordance', \n",
    "           data=results\\\n",
    "            .query('num_cell == 10')\\\n",
    "            .query('method == \"hypergeometric\"')\\\n",
    "            .query(f'q < {q_limit}') ,\n",
    "           ax=ax, \n",
    "           color='turquoise', \n",
    "           marker='o', \n",
    "           markersize=5)\n",
    "\n",
    "plot_curve('q', 'concordance', \n",
    "           data=results\\\n",
    "            .query('num_cell == 10')\\\n",
    "            .query('method == \"naive\"')\\\n",
    "            .query(f'q < {q_limit}') ,\n",
    "           ax=ax, \n",
    "           color='gray', \n",
    "           marker=',', \n",
    "           markersize=5,\n",
    "           linestyle='--')\n",
    "\n",
    "plt.xlim(0, 0.28)\n",
    "plt.savefig('mean_simulation.pdf', bbox_inches='tight')"
   ]
  },
  {
   "cell_type": "code",
   "execution_count": null,
   "id": "dbb2c166-becb-444f-9d14-3e223e87eaa7",
   "metadata": {},
   "outputs": [],
   "source": []
  }
 ],
 "metadata": {
  "kernelspec": {
   "display_name": "mementocxg",
   "language": "python",
   "name": "myenv"
  },
  "language_info": {
   "codemirror_mode": {
    "name": "ipython",
    "version": 3
   },
   "file_extension": ".py",
   "mimetype": "text/x-python",
   "name": "python",
   "nbconvert_exporter": "python",
   "pygments_lexer": "ipython3",
   "version": "3.11.5"
  }
 },
 "nbformat": 4,
 "nbformat_minor": 5
}
