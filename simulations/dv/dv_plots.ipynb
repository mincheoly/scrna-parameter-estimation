{
 "cells": [
  {
   "cell_type": "markdown",
   "id": "38b95582-894d-4162-aaae-a2c829c04285",
   "metadata": {},
   "source": [
    "# Differential variability comparison plots"
   ]
  },
  {
   "cell_type": "code",
   "execution_count": 382,
   "id": "6a73343b-703a-4c24-9955-c37e9929c742",
   "metadata": {},
   "outputs": [],
   "source": [
    "import pandas as pd\n",
    "import matplotlib.pyplot as plt\n",
    "import scanpy as sc\n",
    "import scipy as sp\n",
    "import itertools\n",
    "import numpy as np\n",
    "import scipy.stats as stats\n",
    "from scipy.integrate import dblquad\n",
    "import seaborn as sns\n",
    "from statsmodels.stats.multitest import fdrcorrection\n",
    "import imp\n",
    "pd.options.display.max_rows = 999\n",
    "pd.set_option('display.max_colwidth', 200)\n",
    "pd.set_option('display.max_columns', 100)\n",
    "\n",
    "import pickle as pkl\n",
    "import time\n",
    "import string\n",
    "from sklearn.datasets import make_spd_matrix\n",
    "from sklearn.metrics import roc_curve, precision_recall_curve"
   ]
  },
  {
   "cell_type": "code",
   "execution_count": 383,
   "id": "651105e6-50ed-4e37-bd82-4741e49c4d05",
   "metadata": {},
   "outputs": [],
   "source": [
    "import matplotlib as mpl\n",
    "mpl.rcParams['pdf.fonttype'] = 42\n",
    "mpl.rcParams['ps.fonttype'] = 42\n",
    "plt.rcParams[\"axes.prop_cycle\"] = plt.cycler(\"color\", ['turquoise', 'slategrey', 'silver'])\n",
    "\n",
    "import matplotlib.pylab as pylab\n",
    "params = {'legend.fontsize': 'medium',\n",
    "         'axes.labelsize': 'medium',\n",
    "         'axes.titlesize':'medium',\n",
    "         'figure.titlesize':'medium',\n",
    "         'xtick.labelsize':'small',\n",
    "         'ytick.labelsize':'small'}\n",
    "pylab.rcParams.update(params)\n"
   ]
  },
  {
   "cell_type": "code",
   "execution_count": 384,
   "id": "4e72db37-04c9-4d8c-8a02-d00c2adc96b6",
   "metadata": {},
   "outputs": [],
   "source": [
    "# import sys\n",
    "# sys.path.append('/home/ssm-user/Github/scrna-parameter-estimation/dist/memento-0.0.9-py3.8.egg')\n",
    "# import memento\n",
    "# import memento.simulate as simulate"
   ]
  },
  {
   "cell_type": "code",
   "execution_count": 385,
   "id": "035cf9a6-bbec-4f2a-92be-7c700cc63ef4",
   "metadata": {},
   "outputs": [],
   "source": [
    "import matplotlib\n",
    "matplotlib.rcParams['legend.handlelength'] = 0"
   ]
  },
  {
   "cell_type": "code",
   "execution_count": 386,
   "id": "0f64f8dd-93a6-4c79-9198-22b5d002b44b",
   "metadata": {},
   "outputs": [],
   "source": [
    "data_path = '/data_volume/memento/simulation/dv/'"
   ]
  },
  {
   "cell_type": "markdown",
   "id": "087c4291-f050-49e6-bf2a-f6019b4a6776",
   "metadata": {},
   "source": [
    "### Compare DV methods"
   ]
  },
  {
   "cell_type": "code",
   "execution_count": 427,
   "id": "7c54df34-5ea0-46fe-b011-9fbec0561b83",
   "metadata": {},
   "outputs": [
    {
     "name": "stdout",
     "output_type": "stream",
     "text": [
      "basics num (1972, 8)\n"
     ]
    }
   ],
   "source": [
    "\n",
    "dv_adata = sc.read(data_path + 'anndata.h5ad')\n",
    "result = dv_adata.var.copy()\n",
    "result['de'] = dv_adata.var['is_de'].values\n",
    "result['dv'] = dv_adata.var['is_dv'].values\n",
    "result['dv_effect_size'] = dv_adata.var['dv_effect_size'].values\n",
    "memento_dv = pd.read_csv(data_path + 'memento.csv', index_col=0)\n",
    "basics_dv = pd.read_csv(data_path +'dv_basics.csv')\n",
    "print('basics num', basics_dv.shape)\n",
    "basics_dv.index = memento_dv.iloc[basics_dv['GeneName']].index.tolist()\n",
    "\n",
    "result = memento_dv.join(result, how='left').join(basics_dv, how='inner')\n",
    "\n",
    "\n",
    "result['basics_es'] = basics_dv['ResDispDistance'] * (basics_dv['ResultDiffResDisp']=='stim+') - basics_dv['ResDispDistance'] * (basics_dv['ResultDiffResDisp']=='stim+')\n",
    "result['basics'] = 1- basics_dv['ProbDiffResDisp']\n",
    "result['basics'] =  result['basics']\n",
    "result['memento'] = result['pval']"
   ]
  },
  {
   "cell_type": "code",
   "execution_count": 428,
   "id": "b6215c7d-8df2-49b1-8db3-80aaac7597c9",
   "metadata": {},
   "outputs": [
    {
     "name": "stdout",
     "output_type": "stream",
     "text": [
      "memento - fpr: 0.1753607103218646 - tpr : 0.18823529411764706 - thresh : 0.05\n",
      "basics - fpr: 0.20477247502774695 - tpr : 0.18823529411764706 - thresh : 0.05\n"
     ]
    }
   ],
   "source": [
    "check_thresh = 0.05\n",
    "for method in ['memento', 'basics']:\n",
    "\n",
    "    tpr = (result.query('is_de')[method] < check_thresh).mean()\n",
    "    fpr = (result.query('~is_de')[method] < check_thresh).mean()\n",
    "    print(f'{method} - fpr: {fpr} - tpr : {tpr} - thresh : {check_thresh}')"
   ]
  },
  {
   "cell_type": "code",
   "execution_count": 412,
   "id": "8bb90a5f-d2b9-4e6e-b7b1-acb539421307",
   "metadata": {},
   "outputs": [],
   "source": [
    "n=10\n",
    "thresholds = {\n",
    "    'memento':np.logspace(-3, -1,n),\n",
    "    'basics':np.linspace(0.0, 0.01, n)}\n",
    "\n",
    "tpr_dict = {}\n",
    "fdr_dict = {}\n",
    "fpr_dict = {}\n",
    "for method in ['memento', 'basics']:\n",
    "    tpr = []\n",
    "    fpr = []\n",
    "    fdr = []\n",
    "\n",
    "    for thresh in thresholds[method]:\n",
    "    \n",
    "        tpr.append((result.query('dv')[method] < thresh).mean())\n",
    "        fdr.append(    1-result.query('{} < {}'.format(method, thresh))['dv'].mean()     )\n",
    "        fpr.append(    (result.query('~dv')[method] < thresh).mean()       )\n",
    "    tpr_dict[method] = tpr\n",
    "    fpr_dict[method] = fpr\n",
    "    fdr_dict[method] = fdr"
   ]
  },
  {
   "cell_type": "code",
   "execution_count": 413,
   "id": "80d66723-9b04-4639-b380-95f6600da720",
   "metadata": {},
   "outputs": [
    {
     "data": {
      "text/plain": [
       "Text(0.5, 0, 'P-value cutoff (memento)\\nPr(null) cutoff (BASiCS)')"
      ]
     },
     "execution_count": 413,
     "metadata": {},
     "output_type": "execute_result"
    },
    {
     "data": {
      "image/png": "[encoded data removed]",
      "text/plain": [
       "<Figure size 250x400 with 2 Axes>"
      ]
     },
     "metadata": {},
     "output_type": "display_data"
    }
   ],
   "source": [
    "plt.figure(figsize=(2.5, 4))\n",
    "plt.subplots_adjust(hspace=0.09)\n",
    "plt.subplot(2, 1, 1)\n",
    "for method in ['memento', 'basics']:\n",
    "    plt.plot(thresholds[method], tpr_dict[method], '-o', label=method, ms=4)\n",
    "plt.legend(['memento', 'BASiCS'], frameon=False, loc='center right')\n",
    "plt.xticks([])\n",
    "\n",
    "plt.subplot(2, 1, 2)\n",
    "for method in ['memento', 'basics']:\n",
    "    plt.plot(thresholds[method], fpr_dict[method], '-o', label=method, ms=4)\n",
    "# plt.legend(['memento', 'BASiCS'], frameon=False, loc='center right')\n",
    "# plt.ylabel('FPR')\n",
    "plt.xlabel('P-value cutoff (memento)\\nPr(null) cutoff (BASiCS)')"
   ]
  },
  {
   "cell_type": "code",
   "execution_count": 381,
   "id": "0ffe284e-c0bd-453f-8ac0-f6e00373af53",
   "metadata": {},
   "outputs": [
    {
     "data": {
      "image/png": "[encoded data removed]",
      "text/plain": [
       "<Figure size 250x200 with 1 Axes>"
      ]
     },
     "metadata": {},
     "output_type": "display_data"
    }
   ],
   "source": [
    "plt.figure(figsize=(2.5, 2))\n",
    "\n",
    "\n",
    "for method in ['memento', 'basics']:\n",
    "    plt.plot(fdr_dict[method], tpr_dict[method], '-o', label=method, ms=5)"
   ]
  },
  {
   "cell_type": "markdown",
   "id": "ac98d7f2-0487-48cc-9b9c-185d6df75940",
   "metadata": {},
   "source": [
    "### Memento debugging"
   ]
  },
  {
   "cell_type": "code",
   "execution_count": 18,
   "id": "21f9d8b0-c6cc-4382-b8bd-389aae7c99fe",
   "metadata": {},
   "outputs": [],
   "source": [
    "%load_ext autoreload"
   ]
  },
  {
   "cell_type": "code",
   "execution_count": 19,
   "id": "a96e3fef-7989-43c6-af10-593188cfd4cc",
   "metadata": {},
   "outputs": [],
   "source": [
    "%autoreload 2"
   ]
  },
  {
   "cell_type": "code",
   "execution_count": 20,
   "id": "acc5049b-3e6b-4c52-aa25-5cfaccb432f9",
   "metadata": {},
   "outputs": [],
   "source": [
    "q=0.1\n",
    "data_path = '/data_volume/memento/simulation/'"
   ]
  },
  {
   "cell_type": "code",
   "execution_count": 24,
   "id": "22967028-8776-4fc8-89f0-16dec4904b3e",
   "metadata": {},
   "outputs": [],
   "source": [
    "import sys\n",
    "sys.path.append('/home/ssm-user/Github/memento')\n",
    "import memento.model.rna as rna\n",
    "import memento.estimator.hypergeometric as hg\n",
    "import memento.util as util\n",
    "\n",
    "import logging\n",
    "logging.basicConfig(\n",
    "    format=\"%(asctime)s %(process)-7s %(levelname)-8s %(message)s\",\n",
    "    level=logging.WARN, \n",
    "    datefmt=\"%Y-%m-%d %H:%M:%S\",\n",
    ")"
   ]
  },
  {
   "cell_type": "code",
   "execution_count": 25,
   "id": "f346eca8-da5b-4ac3-8114-5746309dd73f",
   "metadata": {},
   "outputs": [],
   "source": [
    "adata = sc.read(data_path + 'dv/anndata.h5ad')\n",
    "\n",
    "adata.obs['q'] = q\n",
    "adata.X = adata.X.astype(float)\n",
    "\n",
    "rna.MementoRNA.setup_anndata(\n",
    "        adata=adata,\n",
    "        q_column='q',\n",
    "        label_columns=['group', 'condition'],\n",
    "        num_bins=30,\n",
    "        trim_percent=0.03,\n",
    "        shrinkage=0.0)\n",
    "\n",
    "means = adata.X.mean(axis=0).A1\n",
    "adata = adata[:, means > np.quantile(means, 0.95)]\n",
    "model = rna.MementoRNA(adata=adata)\n",
    "\n",
    "model.compute_estimate(\n",
    "    estimand='var',\n",
    "    get_se=False,\n",
    "    n_jobs=30,\n",
    ")\n",
    "model.compute_estimate(\n",
    "    estimand='mean',\n",
    "    get_se=False,\n",
    "    n_jobs=30,\n",
    ")"
   ]
  }
 ],
 "metadata": {
  "kernelspec": {
   "display_name": "Python (single_cell)",
   "language": "python",
   "name": "single_cell"
  },
  "language_info": {
   "codemirror_mode": {
    "name": "ipython",
    "version": 3
   },
   "file_extension": ".py",
   "mimetype": "text/x-python",
   "name": "python",
   "nbconvert_exporter": "python",
   "pygments_lexer": "ipython3",
   "version": "3.10.11"
  }
 },
 "nbformat": 4,
 "nbformat_minor": 5
}
