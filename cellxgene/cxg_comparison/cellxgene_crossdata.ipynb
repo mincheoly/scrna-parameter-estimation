{
 "cells": [
  {
   "cell_type": "markdown",
   "id": "419ceff7-e2b9-4fbb-ae95-18aaba177cfc",
   "metadata": {},
   "source": [
    "# Memento-CXG cross-dataset showcase"
   ]
  },
  {
   "cell_type": "code",
   "execution_count": 1,
   "id": "cfcf1e00-5588-45d8-a19f-97cc18c80da1",
   "metadata": {
    "tags": []
   },
   "outputs": [],
   "source": [
    "import tiledb\n",
    "import tiledbsoma as soma\n",
    "from somacore import ExperimentAxisQuery, AxisQuery\n",
    "import pandas as pd\n",
    "pd.set_option('display.max_columns', 200)\n",
    "import numpy as np\n",
    "import itertools\n",
    "import seaborn as sns\n",
    "import scipy.stats as stats\n",
    "import matplotlib.pyplot as plt\n",
    "import time\n",
    "import scanpy as sc\n",
    "import statsmodels.api as sm"
   ]
  },
  {
   "cell_type": "code",
   "execution_count": 2,
   "id": "0bf7b060-5048-42d4-a38c-7f610740bf7a",
   "metadata": {
    "tags": []
   },
   "outputs": [],
   "source": [
    "import sys\n",
    "sys.path.append('/home/ubuntu/Github/scrna-parameter-estimation/')\n",
    "import memento"
   ]
  },
  {
   "cell_type": "code",
   "execution_count": 3,
   "id": "d3102312-964c-40f2-a4c5-1fe61d24e233",
   "metadata": {
    "tags": []
   },
   "outputs": [],
   "source": [
    "import matplotlib.pylab as pylab\n",
    "params = {'legend.fontsize': 'medium',\n",
    "         'axes.labelsize': 'medium',\n",
    "         'axes.titlesize':'medium',\n",
    "         'figure.titlesize':'large',\n",
    "         'xtick.labelsize':'small',\n",
    "         'ytick.labelsize':'small'}\n",
    "pylab.rcParams.update(params)"
   ]
  },
  {
   "cell_type": "code",
   "execution_count": 4,
   "id": "f9f0ba2c-8523-4502-9e0b-0c937d975af5",
   "metadata": {
    "tags": []
   },
   "outputs": [],
   "source": [
    "import matplotlib\n",
    "matplotlib.rcParams['pdf.fonttype'] = 42\n",
    "matplotlib.rcParams['ps.fonttype'] = 42"
   ]
  },
  {
   "cell_type": "code",
   "execution_count": 5,
   "id": "8d677ed5-f01a-4ac4-8d2e-19e9151e74ff",
   "metadata": {},
   "outputs": [],
   "source": [
    "cube_path = '/home/ubuntu/Github/memento-cxg/'\n",
    "save_path = '/home/ubuntu/results/'"
   ]
  },
  {
   "cell_type": "markdown",
   "id": "5a783919-5305-4c5e-804c-5a00eb4da7dd",
   "metadata": {},
   "source": [
    "### Read estimators"
   ]
  },
  {
   "cell_type": "code",
   "execution_count": 6,
   "id": "df934f4a-697a-4831-9654-a072fe09a427",
   "metadata": {
    "tags": []
   },
   "outputs": [],
   "source": [
    "cube_path = '/home/ubuntu/Github/memento-cxg/'\n",
    "save_path = '/home/ubuntu/results/'"
   ]
  },
  {
   "cell_type": "code",
   "execution_count": 7,
   "id": "5b4208c0-b459-443a-8db2-aa678dd904b3",
   "metadata": {
    "tags": []
   },
   "outputs": [],
   "source": [
    "all_estimators = tiledb.open(cube_path + 'estimators_cube_2').df[:]\\\n",
    "    .rename(columns={\n",
    "    'feature_id':'cell_type',\n",
    "    'cell_type':'dataset_id',\n",
    "    'dataset_id':'feature_id',\n",
    "})"
   ]
  },
  {
   "cell_type": "code",
   "execution_count": 8,
   "id": "23c6f911-cad6-419e-aca7-86e4cc2c0ba7",
   "metadata": {
    "tags": []
   },
   "outputs": [],
   "source": [
    "def treatment_assignment(row):\n",
    "    \n",
    "    ct = row['cell_type']\n",
    "    if 'plasma' in ct:\n",
    "        return 'pdc'\n",
    "    if 'conven' in ct or 'myeloid' in ct:\n",
    "        return 'cdc'\n",
    "    else:\n",
    "        return 'unknown'"
   ]
  },
  {
   "cell_type": "code",
   "execution_count": null,
   "id": "fe5e6a65-8a8b-4d9a-bdf4-b3aa0ed3ed3b",
   "metadata": {
    "tags": []
   },
   "outputs": [],
   "source": [
    "all_estimators['treatment'] = all_estimators.apply(treatment_assignment, axis=1)\n",
    "estimators = all_estimators.query('treatment != \"unknown\"').copy()"
   ]
  },
  {
   "cell_type": "code",
   "execution_count": null,
   "id": "bbe2963c-4049-4051-b3b9-deee043c0924",
   "metadata": {
    "tags": []
   },
   "outputs": [],
   "source": [
    "donors_to_use = estimators[['cell_type', 'donor_id']].drop_duplicates().groupby('donor_id').size()\n",
    "donors_to_use = donors_to_use[donors_to_use > 1].index.tolist()\n",
    "# donors_to_use = ['1004',\n",
    "#  '1019',]\n",
    "    \n",
    "\n",
    "estimators = estimators.query('donor_id in @donors_to_use').copy()\n"
   ]
  },
  {
   "cell_type": "code",
   "execution_count": null,
   "id": "f569ecd7-f62d-4482-bed5-5d4ec5bf765a",
   "metadata": {
    "tags": []
   },
   "outputs": [],
   "source": [
    "estimators['treatment'] = estimators['treatment'].sample(frac=1)"
   ]
  },
  {
   "cell_type": "code",
   "execution_count": null,
   "id": "1c6e69a0-a7e8-4cef-814c-05973ffe7972",
   "metadata": {
    "tags": []
   },
   "outputs": [],
   "source": [
    "CUBE_TILEDB_DIMS_OBS = [\n",
    "    \"cell_type\",\n",
    "    \"dataset_id\",\n",
    "]\n",
    "\n",
    "CUBE_TILEDB_ATTRS_OBS = [\n",
    "    \"assay\",\n",
    "    \"suspension_type\",\n",
    "    \"donor_id\",\n",
    "    \"disease\",\n",
    "    \"sex\"\n",
    "]\n",
    "\n",
    "CUBE_LOGICAL_DIMS_OBS = CUBE_TILEDB_DIMS_OBS + CUBE_TILEDB_ATTRS_OBS\n",
    "\n",
    "DE_TREATMENT = 'treatment'\n",
    "DE_COVARIATES = ['donor_id']\n",
    "DE_VARIABLES = [DE_TREATMENT] + DE_COVARIATES"
   ]
  },
  {
   "cell_type": "code",
   "execution_count": null,
   "id": "3696bde3-8957-495b-8f57-640859004afa",
   "metadata": {
    "tags": []
   },
   "outputs": [],
   "source": [
    "names = estimators[DE_TREATMENT].copy()\n",
    "for col in DE_COVARIATES:\n",
    "    names += '_' + estimators[col]\n",
    "estimators['group_name'] = names.tolist()"
   ]
  },
  {
   "cell_type": "code",
   "execution_count": null,
   "id": "1b2fd077-15ff-4eea-bfda-0ae5d20d3143",
   "metadata": {
    "tags": []
   },
   "outputs": [],
   "source": [
    "features = estimators['feature_id'].drop_duplicates().tolist()\n",
    "groups = estimators.drop_duplicates(subset='group_name').set_index('group_name')"
   ]
  },
  {
   "cell_type": "code",
   "execution_count": null,
   "id": "f005b22c-d4d5-46ec-b60b-a50718b3cd37",
   "metadata": {
    "tags": []
   },
   "outputs": [],
   "source": [
    "mean = estimators.pivot(index='group_name', columns='feature_id', values='mean')\n",
    "se_mean = estimators.pivot(index='group_name', columns='feature_id', values='sem')\n",
    "cell_counts = groups['n_obs'].sort_index().values\n",
    "\n",
    "# Filter genes for actually expressed ones\n",
    "genes_to_test = mean.columns[mean.isnull().values.mean(axis=0) < 0.1]\n",
    "mean = mean[genes_to_test]\n",
    "se_mean = se_mean[genes_to_test]"
   ]
  },
  {
   "cell_type": "code",
   "execution_count": null,
   "id": "b16616e2-d99c-47f6-b68f-7e1ca919bfd3",
   "metadata": {
    "tags": []
   },
   "outputs": [],
   "source": [
    "design = pd.get_dummies(groups[DE_VARIABLES], drop_first=True).astype(int)"
   ]
  },
  {
   "cell_type": "code",
   "execution_count": 51,
   "id": "df62c8bc-dadc-48af-94a7-ee1409f04367",
   "metadata": {
    "tags": []
   },
   "outputs": [],
   "source": [
    "# design = design.iloc[:, :2]"
   ]
  },
  {
   "cell_type": "markdown",
   "id": "7eecc248-358c-4bb8-9095-a00ae4c39556",
   "metadata": {},
   "source": [
    "### Run DE"
   ]
  },
  {
   "cell_type": "code",
   "execution_count": 52,
   "id": "fccf87aa-7011-4400-afea-fccbd55c1c23",
   "metadata": {
    "tags": []
   },
   "outputs": [],
   "source": [
    "def get_final_design_matrix(design):\n",
    "    cov_df = design.iloc[:, 1:]\n",
    "    cov_df -= cov_df.mean(axis=0)\n",
    "    stim_df = design.iloc[:, [0]]\n",
    "    interaction_df = cov_df*stim_df[['treatment_pdc']].values\n",
    "    interaction_df.columns=[f'interaction_{col}' for col in cov_df.columns]\n",
    "    cov_df = pd.concat([cov_df, interaction_df], axis=1)\n",
    "    cov_df = sm.add_constant(cov_df)\n",
    "    return  pd.concat([stim_df, cov_df], axis=1).values\n",
    "    "
   ]
  },
  {
   "cell_type": "code",
   "execution_count": 53,
   "id": "42f21ca7-bff6-457d-b652-4c9f9caed4b7",
   "metadata": {
    "tags": []
   },
   "outputs": [],
   "source": [
    "def de_wls(X, y, n, v):\n",
    "    \n",
    "    from sklearn.linear_model import LinearRegression\n",
    "    \n",
    "    # fit WLS using sample_weights\n",
    "    WLS = LinearRegression(fit_intercept=False)\n",
    "    WLS.fit(X, y, sample_weight=n)\n",
    "    sample_err = ((WLS.predict(X) - y)**2).mean()\n",
    "\n",
    "    coef = WLS.coef_[0]\n",
    "\n",
    "    W = np.diag(1/ (v) )\n",
    "    beta_var_hat = np.diag(np.linalg.pinv(X.T@W@X))\n",
    "    se = np.sqrt( beta_var_hat[0] )\n",
    "\n",
    "    z = coef/se\n",
    "    pv = stats.norm.sf(np.abs(z))*2\n",
    "    \n",
    "    return coef, z, pv"
   ]
  },
  {
   "cell_type": "code",
   "execution_count": null,
   "id": "f1a0d0fd-7baf-4516-9e0b-cca81ab5ed20",
   "metadata": {},
   "outputs": [],
   "source": [
    "def resample_donors"
   ]
  },
  {
   "cell_type": "code",
   "execution_count": 54,
   "id": "16128673-b29a-4896-b1c2-fc2154c1b0a2",
   "metadata": {
    "tags": []
   },
   "outputs": [],
   "source": [
    "from sklearn.linear_model import LinearRegression"
   ]
  },
  {
   "cell_type": "code",
   "execution_count": 67,
   "id": "c1817553-006b-4ad8-afb9-f9d00dc04438",
   "metadata": {
    "tags": []
   },
   "outputs": [
    {
     "name": "stdout",
     "output_type": "stream",
     "text": [
      "CPU times: user 4.28 s, sys: 0 ns, total: 4.28 s\n",
      "Wall time: 4.28 s\n"
     ]
    }
   ],
   "source": [
    "%%time\n",
    "de_result = []\n",
    "for feature in genes_to_test: # Can be vectorized heavily, showing for 1K genes\n",
    "    \n",
    "    m = mean[feature].values\n",
    "    sem = se_mean[feature].values\n",
    "    \n",
    "    # Transform to log space (alternatively can resample in log space)\n",
    "    lm = np.log(m)\n",
    "    selm = (np.log(m+sem)-np.log(m-sem))/2\n",
    "\n",
    "    sample_idxs = np.isfinite(m) & np.isfinite(sem)\n",
    "\n",
    "    X, y, n, v = get_final_design_matrix(design.iloc[sample_idxs]), lm[sample_idxs], cell_counts[sample_idxs], selm[sample_idxs]**2\n",
    "    \n",
    "    # fit WLS using sample_weights\n",
    "    WLS = LinearRegression(fit_intercept=False)\n",
    "    WLS.fit(X, y, sample_weight=n)\n",
    "    sample_err = ((WLS.predict(X) - y)**2).mean()\n",
    "\n",
    "    coef = WLS.coef_[0]\n",
    "\n",
    "    W = np.diag(1/ (v) )\n",
    "    beta_var_hat = np.diag(np.linalg.pinv(X.T@W@X))\n",
    "    se = np.sqrt( beta_var_hat[0] )\n",
    "\n",
    "    z = coef/se\n",
    "    pv = stats.norm.sf(np.abs(z))*2\n",
    "    # coef, z, pv = de_wls(2)\n",
    "    \n",
    "    de_result.append((feature, coef, z, pv))\n",
    "    \n",
    "    \n",
    "de_result = pd.DataFrame(de_result, columns=['feature_id','coef', 'z', 'pval']).set_index('feature_id')"
   ]
  },
  {
   "cell_type": "code",
   "execution_count": 68,
   "id": "45893a4c-854f-4d12-a482-e76bc345a50e",
   "metadata": {
    "tags": []
   },
   "outputs": [
    {
     "data": {
      "text/plain": [
       "<Axes: >"
      ]
     },
     "execution_count": 68,
     "metadata": {},
     "output_type": "execute_result"
    },
    {
     "data": {
      "image/png": "[encoded data removed]",
      "text/plain": [
       "<Figure size 640x480 with 1 Axes>"
      ]
     },
     "metadata": {},
     "output_type": "display_data"
    }
   ],
   "source": [
    "de_result['pval'].hist()"
   ]
  }
 ],
 "metadata": {
  "kernelspec": {
   "display_name": "mementocxg",
   "language": "python",
   "name": "myenv"
  },
  "language_info": {
   "codemirror_mode": {
    "name": "ipython",
    "version": 3
   },
   "file_extension": ".py",
   "mimetype": "text/x-python",
   "name": "python",
   "nbconvert_exporter": "python",
   "pygments_lexer": "ipython3",
   "version": "3.11.5"
  }
 },
 "nbformat": 4,
 "nbformat_minor": 5
}
