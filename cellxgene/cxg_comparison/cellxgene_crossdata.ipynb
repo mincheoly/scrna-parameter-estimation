{
 "cells": [
  {
   "cell_type": "markdown",
   "id": "419ceff7-e2b9-4fbb-ae95-18aaba177cfc",
   "metadata": {},
   "source": [
    "# Memento-CXG cross-dataset showcase"
   ]
  },
  {
   "cell_type": "code",
   "execution_count": 257,
   "id": "cfcf1e00-5588-45d8-a19f-97cc18c80da1",
   "metadata": {
    "tags": []
   },
   "outputs": [],
   "source": [
    "import tiledb\n",
    "import tiledbsoma as soma\n",
    "from somacore import ExperimentAxisQuery, AxisQuery\n",
    "import pandas as pd\n",
    "pd.set_option('display.max_columns', 200)\n",
    "import numpy as np\n",
    "import itertools\n",
    "import seaborn as sns\n",
    "import scipy.stats as stats\n",
    "import matplotlib.pyplot as plt\n",
    "import time\n",
    "import scanpy as sc\n",
    "import statsmodels.api as sm\n",
    "pd.set_option('display.max_rows', 500)"
   ]
  },
  {
   "cell_type": "code",
   "execution_count": 258,
   "id": "06f877ae-4429-4513-a42f-d2704c9940dd",
   "metadata": {
    "tags": []
   },
   "outputs": [],
   "source": [
    "from statsmodels.stats.multitest import fdrcorrection"
   ]
  },
  {
   "cell_type": "code",
   "execution_count": 259,
   "id": "0bf7b060-5048-42d4-a38c-7f610740bf7a",
   "metadata": {
    "tags": []
   },
   "outputs": [],
   "source": [
    "import sys\n",
    "sys.path.append('/home/ubuntu/Github/scrna-parameter-estimation/')\n",
    "import memento"
   ]
  },
  {
   "cell_type": "code",
   "execution_count": 260,
   "id": "d3102312-964c-40f2-a4c5-1fe61d24e233",
   "metadata": {
    "tags": []
   },
   "outputs": [],
   "source": [
    "import matplotlib.pylab as pylab\n",
    "params = {'legend.fontsize': 'medium',\n",
    "         'axes.labelsize': 'medium',\n",
    "         'axes.titlesize':'medium',\n",
    "         'figure.titlesize':'large',\n",
    "         'xtick.labelsize':'small',\n",
    "         'ytick.labelsize':'small'}\n",
    "pylab.rcParams.update(params)"
   ]
  },
  {
   "cell_type": "code",
   "execution_count": 261,
   "id": "f9f0ba2c-8523-4502-9e0b-0c937d975af5",
   "metadata": {
    "tags": []
   },
   "outputs": [],
   "source": [
    "import matplotlib\n",
    "matplotlib.rcParams['pdf.fonttype'] = 42\n",
    "matplotlib.rcParams['ps.fonttype'] = 42"
   ]
  },
  {
   "cell_type": "code",
   "execution_count": 262,
   "id": "1202a753-1a2c-44b2-807a-7ac8a8a1ec99",
   "metadata": {
    "tags": []
   },
   "outputs": [],
   "source": [
    "cube_path = '/home/ubuntu/Github/memento-cxg/'\n",
    "save_path = '/home/ubuntu/Data/mementocxg/'"
   ]
  },
  {
   "cell_type": "markdown",
   "id": "fc2fa55b-3c05-49e3-818b-dca87448712e",
   "metadata": {},
   "source": [
    "### Identify datasets\n",
    "\n",
    "Pick datasets with a few donors, see if combining datasets improve power."
   ]
  },
  {
   "cell_type": "code",
   "execution_count": null,
   "id": "5c3f26f5-2934-404d-9122-15eb296303a7",
   "metadata": {
    "tags": []
   },
   "outputs": [],
   "source": [
    "dataset_ids_to_query = ['c7775e88-49bf-4ba2-a03b-93f00447c958', '218acb0f-9f2f-4f76-b90b-15a4b7c7f629', '4c4cd77c-8fee-4836-9145-16562a8782fe']\n",
    "dataset_query = '('\n",
    "for idx, di in enumerate(dataset_ids_to_query): \n",
    "    dataset_query += f'dataset_id == \"{di}\" '\n",
    "    if idx != len(dataset_ids_to_query)-1:\n",
    "        dataset_query += 'or '\n",
    "dataset_query += ')'\n",
    "\n",
    "celltypes_to_query = [\n",
    "    'conventional dendritic cell',\n",
    "    'plasmacytoid dendritic cell',\n",
    "    'conventional dendritic cell',\n",
    "    'plasmacytoid dendritic cell, human',\n",
    "    'dendritic cell',\n",
    "    'dendritic cell, human',\n",
    "    'myeloid dendritic cell',\n",
    "    'plasmacytoid dendritic cell']\n",
    "celltype_query = '('\n",
    "for idx, ct in enumerate(celltypes_to_query): \n",
    "    celltype_query += f'cell_type == \"{ct}\" '\n",
    "    if idx != len(celltypes_to_query)-1:\n",
    "        celltype_query += 'or '\n",
    "celltype_query += ')'\n",
    "\n",
    "OBS_VALUE_FILTER_1 = dataset_query # All cells in three datasets\n",
    "OBS_VALUE_FILTER_2 = celltype_query + ' and ' + celltype_query # only relevant celltypes\n",
    "\n",
    "exp_uri = 's3://cellxgene-data-public/cell-census/2023-10-30/soma/census_data/homo_sapiens'\n",
    "layer = \"raw\"\n",
    "measurement_name = \"RNA\"\n",
    "\n",
    "with soma.Experiment.open(uri=exp_uri,\n",
    "                          context=soma.SOMATileDBContext().replace(tiledb_config={\n",
    "                              \"vfs.s3.region\":\"us-west-2\",\n",
    "                              \"vfs.s3.no_sign_request\":True})\n",
    "                          ) as exp:\n",
    "\n",
    "    query = exp.axis_query(measurement_name=measurement_name,\n",
    "                           obs_query=AxisQuery(value_filter=OBS_VALUE_FILTER_2),\n",
    "                           # Note: Must use *all* genes to compute size factors correctly, even when var filter is\n",
    "                           # being used for testing\n",
    "                           var_query=AxisQuery())\n",
    "obs_df = query.obs().concat().to_pandas()"
   ]
  },
  {
   "cell_type": "code",
   "execution_count": 264,
   "id": "f965e907-0f21-4e01-89b5-cdb2714085c0",
   "metadata": {
    "tags": []
   },
   "outputs": [],
   "source": [
    "cell_counts = obs_df.groupby(['dataset_id', 'donor_id']).size().reset_index(name='count')"
   ]
  },
  {
   "cell_type": "code",
   "execution_count": 265,
   "id": "5538c113-870d-47b1-95cf-e133ee2a1fa5",
   "metadata": {
    "tags": []
   },
   "outputs": [],
   "source": [
    "donor_counts = cell_counts.groupby('dataset_id').donor_id.size().sort_values()\n",
    "relevant_datasets = donor_counts[(donor_counts >= 5) & (donor_counts < 10)].index.tolist()"
   ]
  },
  {
   "cell_type": "markdown",
   "id": "fdba83e7-200f-422f-8a01-11633cfa9308",
   "metadata": {},
   "source": [
    "### Read results and plot"
   ]
  },
  {
   "cell_type": "code",
   "execution_count": 293,
   "id": "851310ba-bca8-48bb-b156-2889a04382e5",
   "metadata": {
    "tags": []
   },
   "outputs": [],
   "source": [
    "relevant_datasets = [\n",
    "    '2672b679-8048-4f5e-9786-f1b196ccfd08',\n",
    "    '86282760-5099-4c71-8cdd-412dcbbbd0b9',\n",
    "    '2872f4b0-b171-46e2-abc6-befcf6de6306',\n",
    "    '644a578d-ffdc-446b-9679-e7ab4c919c13',\n",
    "    '11ff73e8-d3e4-4445-9309-477a2c5be6f6',\n",
    "    '4dd00779-7f73-4f50-89bb-e2d3c6b71b18',\n",
    "    'bd65a70f-b274-4133-b9dd-0d1431b6af34',\n",
    "    'b07fb54c-d7ad-4995-8bb0-8f3d8611cabe',\n",
    "    '3f32121d-126b-4e8d-9f69-d86502d2a1b1',\n",
    "    'a51c6ece-5731-4128-8c1e-5060e80c69e4',\n",
    "    'd7dcfd8f-2ee7-4385-b9ac-e074c23ed190',\n",
    "    '2d31c0ca-0233-41ce-bd1a-05aa8404b073',\n",
    "    '1e5bd3b8-6a0e-4959-8d69-cafed30fe814',\n",
    "    # 'cd4c96bb-ad66-4e83-ba9e-a7df8790eb12',\n",
    "    '44882825-0da1-4547-b721-2c6105d4a9d1',\n",
    "    '4ed927e9-c099-49af-b8ce-a2652d069333',\n",
    "    '00ff600e-6e2e-4d76-846f-0eec4f0ae417',\n",
    "    '105c7dad-0468-4628-a5be-2bb42c6a8ae4',\n",
    "    'c5d88abe-f23a-45fa-a534-788985e93dad',\n",
    "    # 'ed5d841d-6346-47d4-ab2f-7119ad7e3a35',\n",
    "    '53d208b0-2cfd-4366-9866-c3c6114081bc',\n",
    "    '3de0ad6d-4378-4f62-b37b-ec0b75a50d94',\n",
    "    '574e9f9e-f8b4-41ef-bf19-89a9964fd9c7',\n",
    "    '1a2e3350-28a8-4f49-b33c-5b67ceb001f6',\n",
    "    'd3a83885-5198-4b04-8314-b753b66ef9a8']"
   ]
  },
  {
   "cell_type": "code",
   "execution_count": 335,
   "id": "b2bcd4eb-bcc2-417f-a571-800034c5c561",
   "metadata": {},
   "outputs": [],
   "source": [
    "def draw_qq(df_input, thresh=1000, color='gray'):\n",
    "    \n",
    "    df = df_input[df_input[f'pval'] != 1.00].copy()\n",
    "    df = (df[df[f'coef'].abs() < thresh])\n",
    "    pvals = df[f'pval'].sort_values().values\n",
    "    pvals = pvals[np.isfinite(pvals)]\n",
    "    unif = np.linspace(1e-6, 1, len(pvals))\n",
    "    # plt.scatter(unif, pvals, s=1)\n",
    "    plt.scatter(-np.log10(unif), -np.log10(pvals), s=(3 if color=='cyan' else 1), color=color)\n",
    "    # plt.plot(-np.log10(unif), -np.log10(unif), color='k')\n",
    "\n"
   ]
  },
  {
   "cell_type": "code",
   "execution_count": 336,
   "id": "e4282a6f-8c2f-4ad7-a423-76ddb2bbd652",
   "metadata": {},
   "outputs": [],
   "source": [
    "result_fnames = ['rare_ct_whole.csv'] + [f'rare_ct_{d_id}.csv' for d_id in relevant_datasets]\n",
    "names = ['whole'] + relevant_datasets"
   ]
  },
  {
   "cell_type": "code",
   "execution_count": 337,
   "id": "0c4efbb7-9097-4cbb-915a-161a26895931",
   "metadata": {},
   "outputs": [],
   "source": [
    "all_results = []\n",
    "common_genes = set()\n",
    "for name, fname in zip(names, result_fnames):\n",
    "    \n",
    "    res = pd.read_csv(save_path + fname).dropna()\n",
    "    if res.shape[0] == 0:\n",
    "        continue\n",
    "    res = res.set_index('feature_id')\n",
    "    if name == 'whole':\n",
    "        common_genes = set(res.index)\n",
    "    else:\n",
    "        common_genes = common_genes & set(res.index)\n",
    "    res['dataset'] = name\n",
    "    all_results.append(res)\n",
    "    # plt.ylim(-1, 10)\n",
    "all_results = pd.concat(all_results).dropna().loc[list(common_genes)]"
   ]
  },
  {
   "cell_type": "code",
   "execution_count": 338,
   "id": "152b3d31-39fb-4e48-8393-5137f85a80c0",
   "metadata": {},
   "outputs": [
    {
     "data": {
      "text/plain": [
       "Text(0, 0.5, 'Observed\\n-log10(P-value)')"
      ]
     },
     "execution_count": 338,
     "metadata": {},
     "output_type": "execute_result"
    },
    {
     "data": {
      "image/png": "[encoded data removed]",
      "text/plain": [
       "<Figure size 300x200 with 1 Axes>"
      ]
     },
     "metadata": {},
     "output_type": "display_data"
    }
   ],
   "source": [
    "plt.figure(figsize=(3,2))\n",
    "for name in names:\n",
    "\n",
    "    draw_qq(all_results.query(f'dataset == \"{name}\" & pval > 1e-31'), color='cyan' if name == 'whole' else 'gray')\n",
    "\n",
    "\n",
    "# draw_qq(all_results.query('dataset == \"d1\"'))\n",
    "# draw_qq(all_results.query('dataset == \"d2\"'))\n",
    "# draw_qq(all_results.query('dataset == \"d3\"'))\n",
    "plt.ylim(-5, 30)\n",
    "plt.xlim(-0.2, 4)\n",
    "plt.plot([0,8], [0, 8],'--', color='k', );\n",
    "plt.xlabel('Expected'); plt.ylabel('Observed\\n-log10(P-value)')"
   ]
  },
  {
   "cell_type": "markdown",
   "id": "24bc89ab-8c67-4192-955b-9f9af16900ee",
   "metadata": {
    "tags": []
   },
   "source": [
    "### Read cube"
   ]
  },
  {
   "cell_type": "code",
   "execution_count": 214,
   "id": "e2441ae2-b14a-4f07-82cc-25c48cbdb430",
   "metadata": {
    "tags": []
   },
   "outputs": [],
   "source": [
    "all_estimators = tiledb.open(cube_path + 'estimators_cube_dcs_many').df[:]\\\n",
    "    .rename(columns={\n",
    "    'feature_id':'cell_type',\n",
    "    'cell_type':'dataset_id',\n",
    "    'dataset_id':'feature_id',\n",
    "})"
   ]
  },
  {
   "cell_type": "code",
   "execution_count": 86,
   "id": "d05e843c-964a-452c-ab6d-c19726fb3643",
   "metadata": {
    "tags": []
   },
   "outputs": [],
   "source": [
    "def get_cell_counts():\n",
    "    \n",
    "    dataset_ids_to_query = ['c7775e88-49bf-4ba2-a03b-93f00447c958', '218acb0f-9f2f-4f76-b90b-15a4b7c7f629', '4c4cd77c-8fee-4836-9145-16562a8782fe']\n",
    "    dataset_query = '('\n",
    "    for idx, di in enumerate(dataset_ids_to_query): \n",
    "        dataset_query += f'dataset_id == \"{di}\" '\n",
    "        if idx != len(dataset_ids_to_query)-1:\n",
    "            dataset_query += 'or '\n",
    "    dataset_query += ')'\n",
    "\n",
    "    celltypes_to_query = [\n",
    "        'conventional dendritic cell',\n",
    "        'plasmacytoid dendritic cell',\n",
    "        'conventional dendritic cell',\n",
    "        'plasmacytoid dendritic cell, human',\n",
    "        'dendritic cell',\n",
    "        'dendritic cell, human',\n",
    "        'myeloid dendritic cell',\n",
    "        'plasmacytoid dendritic cell']\n",
    "    celltype_query = '('\n",
    "    for idx, ct in enumerate(celltypes_to_query): \n",
    "        celltype_query += f'cell_type == \"{ct}\" '\n",
    "        if idx != len(celltypes_to_query)-1:\n",
    "            celltype_query += 'or '\n",
    "    celltype_query += ')'\n",
    "\n",
    "    OBS_VALUE_FILTER_1 = dataset_query # All cells in three datasets\n",
    "    OBS_VALUE_FILTER_2 = celltype_query + ' and ' + celltype_query # only relevant celltypes\n",
    "\n",
    "    exp_uri = 's3://cellxgene-data-public/cell-census/2023-10-30/soma/census_data/homo_sapiens'\n",
    "    layer = \"raw\"\n",
    "    measurement_name = \"RNA\"\n",
    "\n",
    "    with soma.Experiment.open(uri=exp_uri,\n",
    "                              context=soma.SOMATileDBContext().replace(tiledb_config={\n",
    "                                  \"vfs.s3.region\":\"us-west-2\",\n",
    "                                  \"vfs.s3.no_sign_request\":True})\n",
    "                              ) as exp:\n",
    "\n",
    "        query = exp.axis_query(measurement_name=measurement_name,\n",
    "                               obs_query=AxisQuery(value_filter=OBS_VALUE_FILTER_2),\n",
    "                               # Note: Must use *all* genes to compute size factors correctly, even when var filter is\n",
    "                               # being used for testing\n",
    "                               var_query=AxisQuery())\n",
    "    obs_df = query.obs().concat().to_pandas()\n",
    "    \n",
    "    cell_count = obs_df.groupby(['cell_type', 'donor_id']).size().reset_index(name='count')\n",
    "    cell_count['treatment'] = cell_count.apply(treatment_assignment, axis=1)\n",
    "\n",
    "    names = cell_count[DE_TREATMENT].copy()\n",
    "    for col in DE_COVARIATES:\n",
    "        names += '_' + cell_count[col]\n",
    "    cell_count['group_name'] = names.tolist()\n",
    "    cell_count = cell_count.drop_duplicates('group_name').set_index('group_name')\n",
    "    \n",
    "    return cell_count\n",
    "\n",
    "    \n",
    "def get_final_design_matrix(design):\n",
    "    cov_df = design.iloc[:, 1:]\n",
    "    cov_df -= cov_df.mean(axis=0)\n",
    "    stim_df = design.iloc[:, [0]]\n",
    "    interaction_df = cov_df*stim_df[['treatment']].values\n",
    "    interaction_df.columns=[f'interaction_{col}' for col in cov_df.columns]\n",
    "    cov_df = pd.concat([cov_df, interaction_df], axis=1)\n",
    "    cov_df = sm.add_constant(cov_df)\n",
    "    return  pd.concat([stim_df, cov_df], axis=1).values.astype(float)\n",
    "\n",
    "\n",
    "def wls(X, y, n, v, tau2=0, thresh=1):\n",
    "\n",
    "    from sklearn.linear_model import LinearRegression\n",
    "    \n",
    "    # fit WLS using sample_weights\n",
    "    WLS = LinearRegression(fit_intercept=False)\n",
    "    WLS.fit(X, y)\n",
    "    sample_err = ((WLS.predict(X) - y)**2).mean()\n",
    "    # print(WLS.coef_)\n",
    "\n",
    "    coef = WLS.coef_[0]\n",
    "\n",
    "    # W = np.diag(1/ (v) )\n",
    "    W = 1/v\n",
    "    try:\n",
    "        beta_var_hat = np.diag(np.linalg.pinv((X.T *W)@X ))\n",
    "    except:\n",
    "        return coef, np.nan, 0, 0\n",
    "    # print(beta_var_hat)\n",
    "    se = np.sqrt( beta_var_hat[0] )\n",
    "    \n",
    "    if np.abs(coef) < LFC_THRESHOLD:\n",
    "        z = 0\n",
    "        pv = 1\n",
    "    else:\n",
    "        z = (np.abs(coef)-LFC_THRESHOLD)/se\n",
    "        pv = stats.norm.sf(np.abs(z))*2\n",
    "\n",
    "    return coef, se, z, pv"
   ]
  },
  {
   "cell_type": "code",
   "execution_count": 79,
   "id": "6fc25df3-83d3-4776-aa4a-2fbcc40be762",
   "metadata": {
    "tags": []
   },
   "outputs": [],
   "source": [
    "import tiledb\n",
    "import tiledbsoma as soma\n",
    "from somacore import ExperimentAxisQuery, AxisQuery\n",
    "import pandas as pd\n",
    "pd.set_option('display.max_columns', 200)\n",
    "import numpy as np\n",
    "import itertools\n",
    "import seaborn as sns\n",
    "import scipy.stats as stats\n",
    "import matplotlib.pyplot as plt\n",
    "import time\n",
    "import scanpy as sc\n",
    "import statsmodels.api as sm\n",
    "from sklearn.linear_model import LinearRegression\n",
    "from pymare import meta_regression\n",
    "\n",
    "\n",
    "CUBE_PATH = '/home/ubuntu/Github/memento-cxg/'\n",
    "SAVE_PATH = '/home/ubuntu/Data/mementocxg/'\n",
    "\n",
    "CUBE_TILEDB_DIMS_OBS = [\n",
    "    \"cell_type\",\n",
    "    \"dataset_id\",\n",
    "]\n",
    "\n",
    "CUBE_TILEDB_ATTRS_OBS = [\n",
    "    \"assay\",\n",
    "    \"suspension_type\",\n",
    "    \"donor_id\",\n",
    "    \"disease\",\n",
    "    \"sex\"\n",
    "]\n",
    "\n",
    "CUBE_LOGICAL_DIMS_OBS = CUBE_TILEDB_DIMS_OBS + CUBE_TILEDB_ATTRS_OBS\n",
    "\n",
    "DE_TREATMENT = 'treatment'\n",
    "DE_COVARIATES = ['donor_id']\n",
    "DE_VARIABLES = [DE_TREATMENT] + DE_COVARIATES\n",
    "\n",
    "LFC_THRESHOLD = 0\n",
    "\n",
    "\n",
    "def treatment_assignment(row):\n",
    "\n",
    "    ct = row['cell_type']\n",
    "    if 'plasma' in ct:\n",
    "        return 'pdc'\n",
    "    if 'conven' in ct or 'myeloid' in ct:\n",
    "        return 'cdc'\n",
    "    else:\n",
    "        return 'unknown'\n",
    "    \n",
    "    \n",
    "def get_final_design_matrix(design):\n",
    "    cov_df = design.iloc[:, 1:]\n",
    "    cov_df -= cov_df.mean(axis=0)\n",
    "    stim_df = design.iloc[:, [0]]\n",
    "    interaction_df = cov_df*stim_df[['treatment']].values\n",
    "    interaction_df.columns=[f'interaction_{col}' for col in cov_df.columns]\n",
    "    cov_df = pd.concat([cov_df, interaction_df], axis=1)\n",
    "    cov_df = sm.add_constant(cov_df)\n",
    "    return  pd.concat([stim_df, cov_df], axis=1).values.astype(float)\n",
    "\n",
    "\n",
    "def wls(X, y, n, v, tau2=0, thresh=1):\n",
    "\n",
    "    from sklearn.linear_model import LinearRegression\n",
    "    \n",
    "    # fit WLS using sample_weights\n",
    "    WLS = LinearRegression(fit_intercept=False)\n",
    "    WLS.fit(X, y)\n",
    "    sample_err = ((WLS.predict(X) - y)**2).mean()\n",
    "    # print(WLS.coef_)\n",
    "\n",
    "    coef = WLS.coef_[0]\n",
    "\n",
    "    # W = np.diag(1/ (v) )\n",
    "    W = 1/v\n",
    "    try:\n",
    "        beta_var_hat = np.diag(np.linalg.pinv((X.T *W)@X ))\n",
    "    except:\n",
    "        return coef, np.nan, 0, 0\n",
    "    # print(beta_var_hat)\n",
    "    se = np.sqrt( beta_var_hat[0] )\n",
    "    \n",
    "    if np.abs(coef) < LFC_THRESHOLD:\n",
    "        z = 0\n",
    "        pv = 1\n",
    "    else:\n",
    "        z = (np.abs(coef)-LFC_THRESHOLD)/se\n",
    "        pv = stats.norm.sf(np.abs(z))*2\n",
    "\n",
    "    return coef, se, z, pv\n",
    "    \n",
    "all_estimators['treatment'] = all_estimators.apply(treatment_assignment, axis=1)\n",
    "\n",
    "donor_to_check = [\n",
    "    '1004',\n",
    " '1014',\n",
    " '1015',\n",
    " '1019',\n",
    "    \n",
    "    \n",
    "    \n",
    " '1022',\n",
    " '1031',\n",
    "    \n",
    "    \n",
    "    \n",
    "#  '1039',\n",
    "#  '1045',\n",
    "#  '1046',\n",
    "#  '1051',\n",
    "#  '1054',\n",
    "#  '1056',\n",
    "#  '1063',\n",
    "]\n",
    "\n",
    "estimators = all_estimators.query('treatment != \"unknown\"').copy()\n",
    "\n",
    "donors_to_use = estimators[['cell_type', 'donor_id']].drop_duplicates().groupby('donor_id').size()\n",
    "donors_to_use = donors_to_use[donors_to_use > 1].index.tolist()\n",
    "estimators = estimators.query('donor_id in @donors_to_use').copy()\n",
    "\n",
    "names = estimators[DE_TREATMENT].copy()\n",
    "for col in DE_COVARIATES:\n",
    "    names += '_' + estimators[col]\n",
    "estimators['group_name'] = names.tolist()\n",
    "\n",
    "estimators = estimators.drop_duplicates(subset=['group_name', 'feature_id'])\n",
    "\n",
    "features = estimators['feature_id'].drop_duplicates().tolist()\n",
    "\n",
    "groups = estimators.drop_duplicates(subset='group_name').set_index('group_name')\n",
    "\n",
    "mean = estimators.pivot(index='group_name', columns='feature_id', values='mean')\n",
    "se_mean = estimators.pivot(index='group_name', columns='feature_id', values='sem')\n",
    "cell_counts = groups['n_obs'].sort_index().values\n",
    "\n",
    "# Filter genes for actually expressed ones\n",
    "genes_to_test = mean.columns[mean.isnull().values.mean(axis=0) < 0.1]\n",
    "mean = mean.loc[groups.index, genes_to_test]\n",
    "se_mean = se_mean.loc[groups.index, genes_to_test]\n",
    "\n",
    "design = groups[DE_VARIABLES].copy()\n",
    "design['treatment'] = (design['treatment'] == 'pdc').astype(float)\n",
    "design['constant'] = 1\n",
    "\n",
    "\n",
    "\n",
    "\n"
   ]
  },
  {
   "cell_type": "code",
   "execution_count": 87,
   "id": "c145179e-0976-4ff4-9868-71d57b727f84",
   "metadata": {
    "tags": []
   },
   "outputs": [],
   "source": [
    "cell_counts = get_cell_counts()\n"
   ]
  },
  {
   "cell_type": "code",
   "execution_count": 88,
   "id": "2c7b325c-812a-4422-809e-1153a96822c0",
   "metadata": {
    "tags": []
   },
   "outputs": [
    {
     "data": {
      "text/plain": [
       "(732,)"
      ]
     },
     "execution_count": 88,
     "metadata": {},
     "output_type": "execute_result"
    }
   ],
   "source": [
    "groups.index.shape"
   ]
  },
  {
   "cell_type": "code",
   "execution_count": 90,
   "id": "e514c46d-35a8-43c7-864d-f558241fb7a5",
   "metadata": {
    "tags": []
   },
   "outputs": [
    {
     "data": {
      "text/plain": [
       "(732, 4)"
      ]
     },
     "execution_count": 90,
     "metadata": {},
     "output_type": "execute_result"
    }
   ],
   "source": [
    "cell_counts.loc[groups.index].shape"
   ]
  },
  {
   "cell_type": "code",
   "execution_count": 82,
   "id": "3a1855c5-d025-4963-96e2-26de4069dbeb",
   "metadata": {
    "tags": []
   },
   "outputs": [
    {
     "data": {
      "text/plain": [
       "(732, 1810)"
      ]
     },
     "execution_count": 82,
     "metadata": {},
     "output_type": "execute_result"
    }
   ],
   "source": [
    "mean.shape"
   ]
  },
  {
   "cell_type": "code",
   "execution_count": 48,
   "id": "63bc2a44-4169-4fa2-a55c-e339a6d285cb",
   "metadata": {
    "tags": []
   },
   "outputs": [
    {
     "name": "stdout",
     "output_type": "stream",
     "text": [
      "CPU times: user 24min 15s, sys: 54min 5s, total: 1h 18min 21s\n",
      "Wall time: 1min 42s\n"
     ]
    }
   ],
   "source": [
    "%%time\n",
    "regression_de_result = []\n",
    "counter = 0\n",
    "for feature in genes_to_test[:300]: # Can be vectorized heavily, showing for 1K genes\n",
    "\n",
    "    m = mean[feature].values\n",
    "    sem = se_mean[feature].values\n",
    "\n",
    "    # Transform to log space (alternatively can resample in log space)\n",
    "    lm = np.log(m)\n",
    "    selm = (np.log(m+sem)-np.log(m-sem))/2\n",
    "\n",
    "    sample_idxs = np.isfinite(m) & np.isfinite(sem) & (m > 0) & (sem > 0)\n",
    "\n",
    "    sample_design = design[['treatment', 'donor_id', 'dataset_id']].iloc[sample_idxs]\n",
    "\n",
    "    donors_to_use_ = sample_design.groupby('donor_id').size()\n",
    "    donors_to_use_ = donors_to_use_[donors_to_use_ > 1].index.tolist()\n",
    "\n",
    "    final_sample_idxs = sample_design['donor_id'].isin(donors_to_use_).values\n",
    "\n",
    "    final_sample_idxs = np.ones(final_sample_idxs.shape[0]).astype(bool)\n",
    "    \n",
    "    donor_dummies = pd.get_dummies(sample_design.iloc[final_sample_idxs, :2], columns=['donor_id'], drop_first=True).astype(float)\n",
    "    X, y, n, v = (\n",
    "        get_final_design_matrix(donor_dummies), \n",
    "        lm[sample_idxs][final_sample_idxs], \n",
    "        cell_counts[sample_idxs][final_sample_idxs], \n",
    "        selm[sample_idxs][final_sample_idxs]**2)\n",
    "\n",
    "    coef, se, z, pv = wls(X, y, n, v)\n",
    "    \n",
    "    # result = meta_regression(y, v, donor_dummies.values, add_intercept=True, method='dl').get_fe_stats()\n",
    "    # coef, se, z, pv = result['est'][1][0], result['se'][1][0], result['z'][1][0], result['p'][1][0]\n",
    "    regression_de_result.append((feature, coef, se, z, pv))\n",
    "    \n",
    "#     if pv < 1e-1:\n",
    "#         data = sample_design.copy()\n",
    "#         data['expr'] = y\n",
    "#         plt.figure()\n",
    "#         sns.stripplot(x='treatment', y='expr', data=data)\n",
    "#         counter +=1\n",
    "        \n",
    "#     if counter > 20:\n",
    "#         break\n",
    "regression_de_result_wls = pd.DataFrame(regression_de_result, columns=['feature_id','coef', 'se','z', 'pval']).set_index('feature_id')\n"
   ]
  },
  {
   "cell_type": "code",
   "execution_count": 49,
   "id": "6786a84e-01ee-41f7-9950-b40464e469d9",
   "metadata": {
    "tags": []
   },
   "outputs": [],
   "source": [
    "def draw_qq(df_input, thresh=1000,):\n",
    "    \n",
    "    df = df_input[df_input[f'pval'] != 1.00].copy()\n",
    "    df = (df[df[f'coef'].abs() < thresh])\n",
    "    pvals = df[f'pval'].sort_values().values\n",
    "    pvals = pvals[np.isfinite(pvals)]\n",
    "    unif = np.linspace(1e-6, 1, len(pvals))\n",
    "    plt.scatter(-np.log(unif), -np.log(pvals), s=1)\n",
    "    plt.plot(-np.log10(unif), -np.log10(unif), color='k')"
   ]
  },
  {
   "cell_type": "code",
   "execution_count": 50,
   "id": "a0c8f331-2693-4a2e-b9b2-4b35a25b28f7",
   "metadata": {
    "tags": []
   },
   "outputs": [
    {
     "data": {
      "image/png": "[encoded data removed]",
      "text/plain": [
       "<Figure size 640x480 with 1 Axes>"
      ]
     },
     "metadata": {},
     "output_type": "display_data"
    }
   ],
   "source": [
    "draw_qq(regression_de_result_wls[regression_de_result_wls['coef'].abs() > 1])"
   ]
  },
  {
   "cell_type": "code",
   "execution_count": 53,
   "id": "94c7d1e2-9c84-405a-a97d-6031b50b4c9c",
   "metadata": {
    "tags": []
   },
   "outputs": [
    {
     "data": {
      "text/html": [
       "<div>\n",
       "<style scoped>\n",
       "    .dataframe tbody tr th:only-of-type {\n",
       "        vertical-align: middle;\n",
       "    }\n",
       "\n",
       "    .dataframe tbody tr th {\n",
       "        vertical-align: top;\n",
       "    }\n",
       "\n",
       "    .dataframe thead th {\n",
       "        text-align: right;\n",
       "    }\n",
       "</style>\n",
       "<table border=\"1\" class=\"dataframe\">\n",
       "  <thead>\n",
       "    <tr style=\"text-align: right;\">\n",
       "      <th></th>\n",
       "      <th>coef</th>\n",
       "      <th>se</th>\n",
       "      <th>z</th>\n",
       "      <th>pval</th>\n",
       "    </tr>\n",
       "    <tr>\n",
       "      <th>feature_id</th>\n",
       "      <th></th>\n",
       "      <th></th>\n",
       "      <th></th>\n",
       "      <th></th>\n",
       "    </tr>\n",
       "  </thead>\n",
       "  <tbody>\n",
       "    <tr>\n",
       "      <th>ENSG00000008130</th>\n",
       "      <td>1.225295</td>\n",
       "      <td>0.186643</td>\n",
       "      <td>1.207089</td>\n",
       "      <td>2.273978e-01</td>\n",
       "    </tr>\n",
       "    <tr>\n",
       "      <th>ENSG00000021355</th>\n",
       "      <td>-1.010283</td>\n",
       "      <td>0.124490</td>\n",
       "      <td>0.082604</td>\n",
       "      <td>9.341661e-01</td>\n",
       "    </tr>\n",
       "    <tr>\n",
       "      <th>ENSG00000023191</th>\n",
       "      <td>-1.297824</td>\n",
       "      <td>0.245135</td>\n",
       "      <td>1.214937</td>\n",
       "      <td>2.243902e-01</td>\n",
       "    </tr>\n",
       "    <tr>\n",
       "      <th>ENSG00000025708</th>\n",
       "      <td>-1.721119</td>\n",
       "      <td>0.178964</td>\n",
       "      <td>4.029416</td>\n",
       "      <td>5.591559e-05</td>\n",
       "    </tr>\n",
       "    <tr>\n",
       "      <th>ENSG00000026025</th>\n",
       "      <td>-1.051202</td>\n",
       "      <td>0.064927</td>\n",
       "      <td>0.788602</td>\n",
       "      <td>4.303446e-01</td>\n",
       "    </tr>\n",
       "    <tr>\n",
       "      <th>ENSG00000046651</th>\n",
       "      <td>2.185643</td>\n",
       "      <td>0.096848</td>\n",
       "      <td>12.242373</td>\n",
       "      <td>1.845559e-34</td>\n",
       "    </tr>\n",
       "    <tr>\n",
       "      <th>ENSG00000054277</th>\n",
       "      <td>1.230965</td>\n",
       "      <td>0.129242</td>\n",
       "      <td>1.787073</td>\n",
       "      <td>7.392571e-02</td>\n",
       "    </tr>\n",
       "    <tr>\n",
       "      <th>ENSG00000067225</th>\n",
       "      <td>-1.227040</td>\n",
       "      <td>0.110133</td>\n",
       "      <td>2.061501</td>\n",
       "      <td>3.925527e-02</td>\n",
       "    </tr>\n",
       "    <tr>\n",
       "      <th>ENSG00000070081</th>\n",
       "      <td>2.224711</td>\n",
       "      <td>0.114116</td>\n",
       "      <td>10.732150</td>\n",
       "      <td>7.190316e-27</td>\n",
       "    </tr>\n",
       "    <tr>\n",
       "      <th>ENSG00000071073</th>\n",
       "      <td>1.396331</td>\n",
       "      <td>0.308683</td>\n",
       "      <td>1.283941</td>\n",
       "      <td>1.991626e-01</td>\n",
       "    </tr>\n",
       "    <tr>\n",
       "      <th>ENSG00000074695</th>\n",
       "      <td>1.457524</td>\n",
       "      <td>0.140285</td>\n",
       "      <td>3.261383</td>\n",
       "      <td>1.108701e-03</td>\n",
       "    </tr>\n",
       "    <tr>\n",
       "      <th>ENSG00000075624</th>\n",
       "      <td>-1.207311</td>\n",
       "      <td>0.062803</td>\n",
       "      <td>3.300966</td>\n",
       "      <td>9.635243e-04</td>\n",
       "    </tr>\n",
       "    <tr>\n",
       "      <th>ENSG00000076662</th>\n",
       "      <td>-1.096225</td>\n",
       "      <td>0.148713</td>\n",
       "      <td>0.647050</td>\n",
       "      <td>5.175996e-01</td>\n",
       "    </tr>\n",
       "    <tr>\n",
       "      <th>ENSG00000078177</th>\n",
       "      <td>1.119500</td>\n",
       "      <td>0.143559</td>\n",
       "      <td>0.832408</td>\n",
       "      <td>4.051786e-01</td>\n",
       "    </tr>\n",
       "    <tr>\n",
       "      <th>ENSG00000084207</th>\n",
       "      <td>-1.085633</td>\n",
       "      <td>0.070058</td>\n",
       "      <td>1.222322</td>\n",
       "      <td>2.215860e-01</td>\n",
       "    </tr>\n",
       "    <tr>\n",
       "      <th>ENSG00000086062</th>\n",
       "      <td>1.162293</td>\n",
       "      <td>0.190159</td>\n",
       "      <td>0.853457</td>\n",
       "      <td>3.934062e-01</td>\n",
       "    </tr>\n",
       "    <tr>\n",
       "      <th>ENSG00000090013</th>\n",
       "      <td>-1.476276</td>\n",
       "      <td>0.150259</td>\n",
       "      <td>3.169701</td>\n",
       "      <td>1.525959e-03</td>\n",
       "    </tr>\n",
       "    <tr>\n",
       "      <th>ENSG00000090382</th>\n",
       "      <td>-3.635744</td>\n",
       "      <td>0.100104</td>\n",
       "      <td>26.329990</td>\n",
       "      <td>8.700625e-153</td>\n",
       "    </tr>\n",
       "    <tr>\n",
       "      <th>ENSG00000095585</th>\n",
       "      <td>2.319870</td>\n",
       "      <td>0.138210</td>\n",
       "      <td>9.549741</td>\n",
       "      <td>1.300208e-21</td>\n",
       "    </tr>\n",
       "    <tr>\n",
       "      <th>ENSG00000100055</th>\n",
       "      <td>1.308339</td>\n",
       "      <td>0.125832</td>\n",
       "      <td>2.450399</td>\n",
       "      <td>1.426978e-02</td>\n",
       "    </tr>\n",
       "    <tr>\n",
       "      <th>ENSG00000100097</th>\n",
       "      <td>-1.829779</td>\n",
       "      <td>0.077707</td>\n",
       "      <td>10.678310</td>\n",
       "      <td>1.285909e-26</td>\n",
       "    </tr>\n",
       "    <tr>\n",
       "      <th>ENSG00000100219</th>\n",
       "      <td>1.101201</td>\n",
       "      <td>0.088150</td>\n",
       "      <td>1.148064</td>\n",
       "      <td>2.509421e-01</td>\n",
       "    </tr>\n",
       "    <tr>\n",
       "      <th>ENSG00000100300</th>\n",
       "      <td>-1.826239</td>\n",
       "      <td>0.112455</td>\n",
       "      <td>7.347267</td>\n",
       "      <td>2.023001e-13</td>\n",
       "    </tr>\n",
       "    <tr>\n",
       "      <th>ENSG00000100600</th>\n",
       "      <td>1.588953</td>\n",
       "      <td>0.111173</td>\n",
       "      <td>5.297646</td>\n",
       "      <td>1.173052e-07</td>\n",
       "    </tr>\n",
       "  </tbody>\n",
       "</table>\n",
       "</div>"
      ],
      "text/plain": [
       "                     coef        se          z           pval\n",
       "feature_id                                                   \n",
       "ENSG00000008130  1.225295  0.186643   1.207089   2.273978e-01\n",
       "ENSG00000021355 -1.010283  0.124490   0.082604   9.341661e-01\n",
       "ENSG00000023191 -1.297824  0.245135   1.214937   2.243902e-01\n",
       "ENSG00000025708 -1.721119  0.178964   4.029416   5.591559e-05\n",
       "ENSG00000026025 -1.051202  0.064927   0.788602   4.303446e-01\n",
       "ENSG00000046651  2.185643  0.096848  12.242373   1.845559e-34\n",
       "ENSG00000054277  1.230965  0.129242   1.787073   7.392571e-02\n",
       "ENSG00000067225 -1.227040  0.110133   2.061501   3.925527e-02\n",
       "ENSG00000070081  2.224711  0.114116  10.732150   7.190316e-27\n",
       "ENSG00000071073  1.396331  0.308683   1.283941   1.991626e-01\n",
       "ENSG00000074695  1.457524  0.140285   3.261383   1.108701e-03\n",
       "ENSG00000075624 -1.207311  0.062803   3.300966   9.635243e-04\n",
       "ENSG00000076662 -1.096225  0.148713   0.647050   5.175996e-01\n",
       "ENSG00000078177  1.119500  0.143559   0.832408   4.051786e-01\n",
       "ENSG00000084207 -1.085633  0.070058   1.222322   2.215860e-01\n",
       "ENSG00000086062  1.162293  0.190159   0.853457   3.934062e-01\n",
       "ENSG00000090013 -1.476276  0.150259   3.169701   1.525959e-03\n",
       "ENSG00000090382 -3.635744  0.100104  26.329990  8.700625e-153\n",
       "ENSG00000095585  2.319870  0.138210   9.549741   1.300208e-21\n",
       "ENSG00000100055  1.308339  0.125832   2.450399   1.426978e-02\n",
       "ENSG00000100097 -1.829779  0.077707  10.678310   1.285909e-26\n",
       "ENSG00000100219  1.101201  0.088150   1.148064   2.509421e-01\n",
       "ENSG00000100300 -1.826239  0.112455   7.347267   2.023001e-13\n",
       "ENSG00000100600  1.588953  0.111173   5.297646   1.173052e-07"
      ]
     },
     "execution_count": 53,
     "metadata": {},
     "output_type": "execute_result"
    }
   ],
   "source": [
    "regression_de_result_wls[regression_de_result_wls['coef'].abs() > 1]"
   ]
  },
  {
   "cell_type": "code",
   "execution_count": 52,
   "id": "80beb5a5-0470-4976-addc-03f04423564f",
   "metadata": {
    "tags": []
   },
   "outputs": [
    {
     "data": {
      "text/plain": [
       "<Axes: >"
      ]
     },
     "execution_count": 52,
     "metadata": {},
     "output_type": "execute_result"
    },
    {
     "data": {
      "image/png": "[encoded data removed]",
      "text/plain": [
       "<Figure size 640x480 with 1 Axes>"
      ]
     },
     "metadata": {},
     "output_type": "display_data"
    }
   ],
   "source": [
    "regression_de_result_wls[regression_de_result_wls['coef'].abs() > 1]['pval'].hist()"
   ]
  },
  {
   "cell_type": "code",
   "execution_count": 32,
   "id": "bf217925-0b4d-4cc2-ad05-73b0bdf203f9",
   "metadata": {
    "tags": []
   },
   "outputs": [
    {
     "data": {
      "text/plain": [
       "0.0"
      ]
     },
     "execution_count": 32,
     "metadata": {},
     "output_type": "execute_result"
    }
   ],
   "source": [
    "regression_de_result_wls['pval'].min()"
   ]
  },
  {
   "cell_type": "code",
   "execution_count": 10,
   "id": "3a78e6ac-7de1-49f8-900d-946c58bfb4ee",
   "metadata": {
    "tags": []
   },
   "outputs": [
    {
     "data": {
      "text/plain": [
       "(680, 728)"
      ]
     },
     "execution_count": 10,
     "metadata": {},
     "output_type": "execute_result"
    }
   ],
   "source": [
    "X.shape"
   ]
  },
  {
   "cell_type": "code",
   "execution_count": 11,
   "id": "be8691a8-3129-4ccf-ad25-ef69530d841e",
   "metadata": {
    "tags": []
   },
   "outputs": [
    {
     "data": {
      "text/plain": [
       "(300, 4)"
      ]
     },
     "execution_count": 11,
     "metadata": {},
     "output_type": "execute_result"
    }
   ],
   "source": [
    "regression_de_result_wls.shape"
   ]
  },
  {
   "cell_type": "code",
   "execution_count": null,
   "id": "b749ab0d-3e9a-41a1-96bf-e561893b641e",
   "metadata": {},
   "outputs": [],
   "source": [
    "donor = '1004'"
   ]
  },
  {
   "cell_type": "code",
   "execution_count": 13,
   "id": "fabc9951-c10a-4893-9b35-719ef47b5e4b",
   "metadata": {},
   "outputs": [
    {
     "ename": "NameError",
     "evalue": "name 'donor' is not defined",
     "output_type": "error",
     "traceback": [
      "\u001b[0;31m---------------------------------------------------------------------------\u001b[0m",
      "\u001b[0;31mNameError\u001b[0m                                 Traceback (most recent call last)",
      "Cell \u001b[0;32mIn[13], line 1\u001b[0m\n\u001b[0;32m----> 1\u001b[0m donor_mean \u001b[38;5;241m=\u001b[39m mean[mean\u001b[38;5;241m.\u001b[39mindex\u001b[38;5;241m.\u001b[39mstr\u001b[38;5;241m.\u001b[39mcontains(donor)]\u001b[38;5;241m.\u001b[39msort_index()\n",
      "\u001b[0;31mNameError\u001b[0m: name 'donor' is not defined"
     ]
    }
   ],
   "source": [
    "donor_mean = mean[mean.index.str.contains(donor)].sort_index()"
   ]
  },
  {
   "cell_type": "code",
   "execution_count": 14,
   "id": "b58abddd-055f-4be2-a14b-a0f8aacd584d",
   "metadata": {},
   "outputs": [],
   "source": [
    "donor_list = estimators.donor_id.drop_duplicates()"
   ]
  },
  {
   "cell_type": "code",
   "execution_count": 15,
   "id": "6f886dfa-8c07-4da9-b3ad-1142dc8d0fc1",
   "metadata": {},
   "outputs": [
    {
     "data": {
      "text/html": [
       "<div>\n",
       "<style scoped>\n",
       "    .dataframe tbody tr th:only-of-type {\n",
       "        vertical-align: middle;\n",
       "    }\n",
       "\n",
       "    .dataframe tbody tr th {\n",
       "        vertical-align: top;\n",
       "    }\n",
       "\n",
       "    .dataframe thead th {\n",
       "        text-align: right;\n",
       "    }\n",
       "</style>\n",
       "<table border=\"1\" class=\"dataframe\">\n",
       "  <thead>\n",
       "    <tr style=\"text-align: right;\">\n",
       "      <th></th>\n",
       "      <th>cell_type</th>\n",
       "      <th>dataset_id</th>\n",
       "      <th>feature_id</th>\n",
       "      <th>assay</th>\n",
       "      <th>suspension_type</th>\n",
       "      <th>donor_id</th>\n",
       "      <th>disease</th>\n",
       "      <th>sex</th>\n",
       "      <th>nnz</th>\n",
       "      <th>n_obs</th>\n",
       "      <th>min</th>\n",
       "      <th>max</th>\n",
       "      <th>sum</th>\n",
       "      <th>mean</th>\n",
       "      <th>sem</th>\n",
       "      <th>treatment</th>\n",
       "    </tr>\n",
       "  </thead>\n",
       "  <tbody>\n",
       "    <tr>\n",
       "      <th>1641186</th>\n",
       "      <td>conventional dendritic cell</td>\n",
       "      <td>218acb0f-9f2f-4f76-b90b-15a4b7c7f629</td>\n",
       "      <td>ENSG00000002330</td>\n",
       "      <td>10x 3' v2</td>\n",
       "      <td>cell</td>\n",
       "      <td>1763</td>\n",
       "      <td>systemic lupus erythematosus</td>\n",
       "      <td>female</td>\n",
       "      <td>8.0</td>\n",
       "      <td>18203.0</td>\n",
       "      <td>1.0</td>\n",
       "      <td>1.0</td>\n",
       "      <td>8.0</td>\n",
       "      <td>9.591638e-08</td>\n",
       "      <td>3.680239e-08</td>\n",
       "      <td>cdc</td>\n",
       "    </tr>\n",
       "    <tr>\n",
       "      <th>4588890</th>\n",
       "      <td>plasmacytoid dendritic cell</td>\n",
       "      <td>218acb0f-9f2f-4f76-b90b-15a4b7c7f629</td>\n",
       "      <td>ENSG00000002330</td>\n",
       "      <td>10x 3' v2</td>\n",
       "      <td>cell</td>\n",
       "      <td>1763</td>\n",
       "      <td>systemic lupus erythematosus</td>\n",
       "      <td>female</td>\n",
       "      <td>5.0</td>\n",
       "      <td>5233.0</td>\n",
       "      <td>1.0</td>\n",
       "      <td>2.0</td>\n",
       "      <td>6.0</td>\n",
       "      <td>2.942933e-07</td>\n",
       "      <td>1.484096e-07</td>\n",
       "      <td>pdc</td>\n",
       "    </tr>\n",
       "  </tbody>\n",
       "</table>\n",
       "</div>"
      ],
      "text/plain": [
       "                           cell_type                            dataset_id  \\\n",
       "1641186  conventional dendritic cell  218acb0f-9f2f-4f76-b90b-15a4b7c7f629   \n",
       "4588890  plasmacytoid dendritic cell  218acb0f-9f2f-4f76-b90b-15a4b7c7f629   \n",
       "\n",
       "              feature_id      assay suspension_type donor_id  \\\n",
       "1641186  ENSG00000002330  10x 3' v2            cell     1763   \n",
       "4588890  ENSG00000002330  10x 3' v2            cell     1763   \n",
       "\n",
       "                              disease     sex  nnz    n_obs  min  max  sum  \\\n",
       "1641186  systemic lupus erythematosus  female  8.0  18203.0  1.0  1.0  8.0   \n",
       "4588890  systemic lupus erythematosus  female  5.0   5233.0  1.0  2.0  6.0   \n",
       "\n",
       "                 mean           sem treatment  \n",
       "1641186  9.591638e-08  3.680239e-08       cdc  \n",
       "4588890  2.942933e-07  1.484096e-07       pdc  "
      ]
     },
     "execution_count": 15,
     "metadata": {},
     "output_type": "execute_result"
    }
   ],
   "source": [
    "all_estimators.query('donor_id == \"1763\" & feature_id == \"ENSG00000002330\"')"
   ]
  },
  {
   "cell_type": "code",
   "execution_count": 16,
   "id": "edd40ee0-e03f-4ce5-bfc9-28cfe57f6bf7",
   "metadata": {
    "tags": []
   },
   "outputs": [],
   "source": [
    "donor_mean_centers = []\n",
    "for donor in donor_list:\n",
    "    donor_mean = mean[mean.index.str.contains(donor)].sort_index()\n",
    "    if donor_mean.shape[0] < 2:\n",
    "        continue\n",
    "    donor_mean_centers.append( (donor, np.nanmean(np.log(donor_mean.iloc[1, :]/donor_mean.iloc[0, :]))))\n",
    "donor_mean_centers = pd.DataFrame(donor_mean_centers, columns=['donor', 'center'])"
   ]
  },
  {
   "cell_type": "code",
   "execution_count": 17,
   "id": "85eaa80f-55b1-4d71-9a25-c1706431582e",
   "metadata": {
    "tags": []
   },
   "outputs": [
    {
     "data": {
      "text/plain": [
       "<Axes: >"
      ]
     },
     "execution_count": 17,
     "metadata": {},
     "output_type": "execute_result"
    },
    {
     "data": {
      "image/png": "[encoded data removed]",
      "text/plain": [
       "<Figure size 640x480 with 1 Axes>"
      ]
     },
     "metadata": {},
     "output_type": "display_data"
    }
   ],
   "source": [
    "donor_mean_centers.sort_values('center').center.hist(bins=30)"
   ]
  },
  {
   "cell_type": "code",
   "execution_count": 18,
   "id": "a024b8df-1fa6-4bb0-bfda-f41cd3897f8c",
   "metadata": {
    "tags": []
   },
   "outputs": [
    {
     "data": {
      "text/html": [
       "<div>\n",
       "<style scoped>\n",
       "    .dataframe tbody tr th:only-of-type {\n",
       "        vertical-align: middle;\n",
       "    }\n",
       "\n",
       "    .dataframe tbody tr th {\n",
       "        vertical-align: top;\n",
       "    }\n",
       "\n",
       "    .dataframe thead th {\n",
       "        text-align: right;\n",
       "    }\n",
       "</style>\n",
       "<table border=\"1\" class=\"dataframe\">\n",
       "  <thead>\n",
       "    <tr style=\"text-align: right;\">\n",
       "      <th></th>\n",
       "      <th>donor</th>\n",
       "      <th>center</th>\n",
       "    </tr>\n",
       "  </thead>\n",
       "  <tbody>\n",
       "    <tr>\n",
       "      <th>326</th>\n",
       "      <td>CV0160</td>\n",
       "      <td>1.592757</td>\n",
       "    </tr>\n",
       "    <tr>\n",
       "      <th>306</th>\n",
       "      <td>IGTB1819</td>\n",
       "      <td>1.663976</td>\n",
       "    </tr>\n",
       "    <tr>\n",
       "      <th>172</th>\n",
       "      <td>C-8912</td>\n",
       "      <td>1.703512</td>\n",
       "    </tr>\n",
       "    <tr>\n",
       "      <th>66</th>\n",
       "      <td>HC-580</td>\n",
       "      <td>1.782013</td>\n",
       "    </tr>\n",
       "    <tr>\n",
       "      <th>343</th>\n",
       "      <td>CV0120</td>\n",
       "      <td>1.811110</td>\n",
       "    </tr>\n",
       "    <tr>\n",
       "      <th>177</th>\n",
       "      <td>C-8910</td>\n",
       "      <td>2.087592</td>\n",
       "    </tr>\n",
       "    <tr>\n",
       "      <th>182</th>\n",
       "      <td>C-8902</td>\n",
       "      <td>2.450011</td>\n",
       "    </tr>\n",
       "    <tr>\n",
       "      <th>178</th>\n",
       "      <td>C-8931</td>\n",
       "      <td>2.772693</td>\n",
       "    </tr>\n",
       "    <tr>\n",
       "      <th>364</th>\n",
       "      <td>CV0094</td>\n",
       "      <td>3.163429</td>\n",
       "    </tr>\n",
       "    <tr>\n",
       "      <th>315</th>\n",
       "      <td>AP1</td>\n",
       "      <td>3.282542</td>\n",
       "    </tr>\n",
       "  </tbody>\n",
       "</table>\n",
       "</div>"
      ],
      "text/plain": [
       "        donor    center\n",
       "326    CV0160  1.592757\n",
       "306  IGTB1819  1.663976\n",
       "172    C-8912  1.703512\n",
       "66     HC-580  1.782013\n",
       "343    CV0120  1.811110\n",
       "177    C-8910  2.087592\n",
       "182    C-8902  2.450011\n",
       "178    C-8931  2.772693\n",
       "364    CV0094  3.163429\n",
       "315       AP1  3.282542"
      ]
     },
     "execution_count": 18,
     "metadata": {},
     "output_type": "execute_result"
    }
   ],
   "source": [
    "donor_mean_centers.sort_values('center').tail(10)"
   ]
  },
  {
   "cell_type": "code",
   "execution_count": 20,
   "id": "5cd8da01-cfe1-4e54-8d0c-459400904977",
   "metadata": {
    "tags": []
   },
   "outputs": [
    {
     "data": {
      "text/plain": [
       "0.014873071777733785"
      ]
     },
     "execution_count": 20,
     "metadata": {},
     "output_type": "execute_result"
    }
   ],
   "source": [
    "np.mean(donor_mean_centers.center)"
   ]
  },
  {
   "cell_type": "code",
   "execution_count": 37,
   "id": "8f6c4466-3b32-4233-9c2b-5bf5ccb4f464",
   "metadata": {
    "tags": []
   },
   "outputs": [
    {
     "data": {
      "text/plain": [
       "0.02290255865509656"
      ]
     },
     "execution_count": 37,
     "metadata": {},
     "output_type": "execute_result"
    }
   ],
   "source": [
    "np.nanmean(np.log(donor_mean.iloc[1, :]/donor_mean.iloc[0, :]))"
   ]
  },
  {
   "cell_type": "code",
   "execution_count": null,
   "id": "a811c5c9-cf20-4eea-9a41-98123ec3f031",
   "metadata": {},
   "outputs": [],
   "source": []
  },
  {
   "cell_type": "code",
   "execution_count": 46,
   "id": "b8afa865-7fd9-4418-a6d2-a29c92c04ba9",
   "metadata": {
    "tags": []
   },
   "outputs": [
    {
     "data": {
      "text/plain": [
       "<Axes: >"
      ]
     },
     "execution_count": 46,
     "metadata": {},
     "output_type": "execute_result"
    },
    {
     "data": {
      "image/png": "[encoded data removed]",
      "text/plain": [
       "<Figure size 640x480 with 1 Axes>"
      ]
     },
     "metadata": {},
     "output_type": "display_data"
    }
   ],
   "source": [
    "regression_de_result_wls['coef'].hist()"
   ]
  },
  {
   "cell_type": "code",
   "execution_count": 23,
   "id": "b151e0a8-485d-4819-a8f0-b79c271cb1cf",
   "metadata": {
    "tags": []
   },
   "outputs": [
    {
     "data": {
      "text/plain": [
       "<Axes: xlabel='coef', ylabel='Density'>"
      ]
     },
     "execution_count": 23,
     "metadata": {},
     "output_type": "execute_result"
    },
    {
     "data": {
      "image/png": "[encoded data removed]",
      "text/plain": [
       "<Figure size 640x480 with 1 Axes>"
      ]
     },
     "metadata": {},
     "output_type": "display_data"
    }
   ],
   "source": [
    "sns.kdeplot(regression_de_result_wls['coef'])"
   ]
  },
  {
   "cell_type": "code",
   "execution_count": 19,
   "id": "fbe16c5a-de22-40be-a4e0-8dd491b1e5b1",
   "metadata": {
    "tags": []
   },
   "outputs": [
    {
     "data": {
      "text/html": [
       "<div>\n",
       "<style scoped>\n",
       "    .dataframe tbody tr th:only-of-type {\n",
       "        vertical-align: middle;\n",
       "    }\n",
       "\n",
       "    .dataframe tbody tr th {\n",
       "        vertical-align: top;\n",
       "    }\n",
       "\n",
       "    .dataframe thead th {\n",
       "        text-align: right;\n",
       "    }\n",
       "</style>\n",
       "<table border=\"1\" class=\"dataframe\">\n",
       "  <thead>\n",
       "    <tr style=\"text-align: right;\">\n",
       "      <th></th>\n",
       "      <th>coef</th>\n",
       "      <th>se</th>\n",
       "      <th>z</th>\n",
       "      <th>pval</th>\n",
       "    </tr>\n",
       "    <tr>\n",
       "      <th>feature_id</th>\n",
       "      <th></th>\n",
       "      <th></th>\n",
       "      <th></th>\n",
       "      <th></th>\n",
       "    </tr>\n",
       "  </thead>\n",
       "  <tbody>\n",
       "    <tr>\n",
       "      <th>ENSG00000000419</th>\n",
       "      <td>0.083848</td>\n",
       "      <td>0.116763</td>\n",
       "      <td>0.718103</td>\n",
       "      <td>0.472694</td>\n",
       "    </tr>\n",
       "    <tr>\n",
       "      <th>ENSG00000000938</th>\n",
       "      <td>0.057297</td>\n",
       "      <td>0.068988</td>\n",
       "      <td>0.830543</td>\n",
       "      <td>0.406232</td>\n",
       "    </tr>\n",
       "    <tr>\n",
       "      <th>ENSG00000001036</th>\n",
       "      <td>0.117353</td>\n",
       "      <td>0.424327</td>\n",
       "      <td>0.276563</td>\n",
       "      <td>0.782116</td>\n",
       "    </tr>\n",
       "    <tr>\n",
       "      <th>ENSG00000002330</th>\n",
       "      <td>0.031638</td>\n",
       "      <td>0.140905</td>\n",
       "      <td>0.224535</td>\n",
       "      <td>0.822341</td>\n",
       "    </tr>\n",
       "    <tr>\n",
       "      <th>ENSG00000002549</th>\n",
       "      <td>0.063782</td>\n",
       "      <td>0.073257</td>\n",
       "      <td>0.870654</td>\n",
       "      <td>0.383943</td>\n",
       "    </tr>\n",
       "    <tr>\n",
       "      <th>...</th>\n",
       "      <td>...</td>\n",
       "      <td>...</td>\n",
       "      <td>...</td>\n",
       "      <td>...</td>\n",
       "    </tr>\n",
       "    <tr>\n",
       "      <th>ENSG00000271605</th>\n",
       "      <td>0.129875</td>\n",
       "      <td>0.164984</td>\n",
       "      <td>0.787197</td>\n",
       "      <td>0.431167</td>\n",
       "    </tr>\n",
       "    <tr>\n",
       "      <th>ENSG00000271614</th>\n",
       "      <td>0.091422</td>\n",
       "      <td>0.089476</td>\n",
       "      <td>1.021742</td>\n",
       "      <td>0.306903</td>\n",
       "    </tr>\n",
       "    <tr>\n",
       "      <th>ENSG00000272047</th>\n",
       "      <td>0.106062</td>\n",
       "      <td>0.100643</td>\n",
       "      <td>1.053835</td>\n",
       "      <td>0.291958</td>\n",
       "    </tr>\n",
       "    <tr>\n",
       "      <th>ENSG00000272325</th>\n",
       "      <td>0.116230</td>\n",
       "      <td>0.118467</td>\n",
       "      <td>0.981121</td>\n",
       "      <td>0.326533</td>\n",
       "    </tr>\n",
       "    <tr>\n",
       "      <th>ENSG00000273338</th>\n",
       "      <td>0.065141</td>\n",
       "      <td>0.111437</td>\n",
       "      <td>0.584552</td>\n",
       "      <td>0.558849</td>\n",
       "    </tr>\n",
       "  </tbody>\n",
       "</table>\n",
       "<p>3274 rows × 4 columns</p>\n",
       "</div>"
      ],
      "text/plain": [
       "                     coef        se         z      pval\n",
       "feature_id                                             \n",
       "ENSG00000000419  0.083848  0.116763  0.718103  0.472694\n",
       "ENSG00000000938  0.057297  0.068988  0.830543  0.406232\n",
       "ENSG00000001036  0.117353  0.424327  0.276563  0.782116\n",
       "ENSG00000002330  0.031638  0.140905  0.224535  0.822341\n",
       "ENSG00000002549  0.063782  0.073257  0.870654  0.383943\n",
       "...                   ...       ...       ...       ...\n",
       "ENSG00000271605  0.129875  0.164984  0.787197  0.431167\n",
       "ENSG00000271614  0.091422  0.089476  1.021742  0.306903\n",
       "ENSG00000272047  0.106062  0.100643  1.053835  0.291958\n",
       "ENSG00000272325  0.116230  0.118467  0.981121  0.326533\n",
       "ENSG00000273338  0.065141  0.111437  0.584552  0.558849\n",
       "\n",
       "[3274 rows x 4 columns]"
      ]
     },
     "execution_count": 19,
     "metadata": {},
     "output_type": "execute_result"
    }
   ],
   "source": [
    "regression_de_result_wls"
   ]
  },
  {
   "cell_type": "code",
   "execution_count": 18,
   "id": "f30df497-0be2-4f9d-90f1-ebb9487d5196",
   "metadata": {
    "tags": []
   },
   "outputs": [
    {
     "data": {
      "text/plain": [
       "<Axes: >"
      ]
     },
     "execution_count": 18,
     "metadata": {},
     "output_type": "execute_result"
    },
    {
     "data": {
      "image/png": "[encoded data removed]",
      "text/plain": [
       "<Figure size 640x480 with 1 Axes>"
      ]
     },
     "metadata": {},
     "output_type": "display_data"
    }
   ],
   "source": [
    "regression_de_result_wls['pval'].hist(bins=30)"
   ]
  },
  {
   "cell_type": "code",
   "execution_count": 29,
   "id": "fa284a3d-77df-4a4d-b06b-278223d006fb",
   "metadata": {
    "tags": []
   },
   "outputs": [
    {
     "data": {
      "text/plain": [
       "(array([  1.,   0.,   3.,   3.,   2.,  12.,  29.,  40.,  58.,  92., 128.,\n",
       "        124., 143., 140., 202., 138., 131., 235., 193., 183.,  33., 174.,\n",
       "        199.,   0.,  31.,   5.,   5.,   3.,   2.,   1.]),\n",
       " array([-3.22642982, -3.01278474, -2.79913967, -2.5854946 , -2.37184953,\n",
       "        -2.15820445, -1.94455938, -1.73091431, -1.51726924, -1.30362416,\n",
       "        -1.08997909, -0.87633402, -0.66268895, -0.44904387, -0.2353988 ,\n",
       "        -0.02175373,  0.19189134,  0.40553642,  0.61918149,  0.83282656,\n",
       "         1.04647163,  1.26011671,  1.47376178,  1.68740685,  1.90105192,\n",
       "         2.114697  ,  2.32834207,  2.54198714,  2.75563221,  2.96927729,\n",
       "         3.18292236]),\n",
       " <BarContainer object of 30 artists>)"
      ]
     },
     "execution_count": 29,
     "metadata": {},
     "output_type": "execute_result"
    },
    {
     "data": {
      "image/png": "[encoded data removed]",
      "text/plain": [
       "<Figure size 640x480 with 1 Axes>"
      ]
     },
     "metadata": {},
     "output_type": "display_data"
    }
   ],
   "source": [
    "plt.hist(regression_de_result_wls['coef'], bins=30)"
   ]
  },
  {
   "cell_type": "code",
   "execution_count": null,
   "id": "c3659742-1ad7-4cbf-9ca7-59cf3d8b9e7a",
   "metadata": {
    "tags": []
   },
   "outputs": [],
   "source": [
    "import statsmodels.api as sm\n",
    "import statsmodels.formula.api as smf"
   ]
  },
  {
   "cell_type": "code",
   "execution_count": null,
   "id": "501b7794-4576-4e8b-b491-54d69cfcba3a",
   "metadata": {},
   "outputs": [],
   "source": []
  },
  {
   "cell_type": "code",
   "execution_count": null,
   "id": "e5c49496-e8ad-46bf-a576-3d44fe229938",
   "metadata": {
    "tags": []
   },
   "outputs": [],
   "source": [
    "result = meta_regression(y, v, sample_design[['treatment']].values, add_intercept=True, method='REML')\n",
    "print(result.get_fe_stats()['z'])"
   ]
  },
  {
   "cell_type": "code",
   "execution_count": null,
   "id": "dd9ad646-09f5-4907-8bf7-a15c31188dae",
   "metadata": {
    "tags": []
   },
   "outputs": [],
   "source": [
    "wls(X, y, n, v)"
   ]
  },
  {
   "cell_type": "code",
   "execution_count": null,
   "id": "db35bd34-974c-400c-8a81-8c9871594c03",
   "metadata": {
    "tags": []
   },
   "outputs": [],
   "source": [
    "data = sample_design.copy()\n",
    "data['expr'] = y"
   ]
  },
  {
   "cell_type": "code",
   "execution_count": null,
   "id": "9f4bedf2-c5ea-46de-bb42-e22df7e4ff95",
   "metadata": {
    "tags": []
   },
   "outputs": [],
   "source": [
    "sns.stripplot(x='treatment', y='expr', data=data)"
   ]
  },
  {
   "cell_type": "code",
   "execution_count": null,
   "id": "b596bcc5-0499-42ef-a3db-8cd20704e351",
   "metadata": {
    "tags": []
   },
   "outputs": [],
   "source": [
    "feature"
   ]
  },
  {
   "cell_type": "code",
   "execution_count": null,
   "id": "2bc08751-11ad-429a-bc1b-f0e23b06fbed",
   "metadata": {
    "tags": []
   },
   "outputs": [],
   "source": [
    "md = smf.mixedlm(\"expr ~ treatment + dataset_id\", data, groups=data['donor_id'])\n",
    "mdf = md.fit()\n",
    "mdf.summary()"
   ]
  },
  {
   "cell_type": "code",
   "execution_count": null,
   "id": "ad9485e4-0def-41ce-9187-e6e02d77d383",
   "metadata": {
    "tags": []
   },
   "outputs": [],
   "source": []
  },
  {
   "cell_type": "code",
   "execution_count": null,
   "id": "53529886-2e73-40ab-8bfd-17bb14fb5143",
   "metadata": {
    "tags": []
   },
   "outputs": [],
   "source": [
    "mdf.summary()"
   ]
  },
  {
   "cell_type": "code",
   "execution_count": null,
   "id": "c3091079-7702-496e-b2ee-33a593d71f2f",
   "metadata": {},
   "outputs": [],
   "source": [
    "data = "
   ]
  },
  {
   "cell_type": "code",
   "execution_count": null,
   "id": "1b5c2a83-7a1f-4c41-8ec5-3c098fbc2b5c",
   "metadata": {},
   "outputs": [],
   "source": [
    "smf.mixedlm(\"Weight ~ Time\", data, groups=data[\"Pig\"])"
   ]
  },
  {
   "cell_type": "code",
   "execution_count": null,
   "id": "54e8b9b0-65dc-46ae-b3ad-43edd22d741a",
   "metadata": {
    "tags": []
   },
   "outputs": [],
   "source": [
    "regression_de_result_wls"
   ]
  },
  {
   "cell_type": "code",
   "execution_count": null,
   "id": "32d64754-ad7f-4683-96e6-b8bbb034b7b0",
   "metadata": {
    "tags": []
   },
   "outputs": [],
   "source": [
    "regression_de_result_wls['pval'].hist()"
   ]
  },
  {
   "cell_type": "code",
   "execution_count": null,
   "id": "e4bec31d-8b37-4c9f-83fe-654b166723ad",
   "metadata": {
    "tags": []
   },
   "outputs": [],
   "source": [
    "from pymare import meta_regression\n"
   ]
  },
  {
   "cell_type": "code",
   "execution_count": null,
   "id": "1dd1cf85-d565-4531-b310-7ca192c0ee3b",
   "metadata": {
    "tags": []
   },
   "outputs": [],
   "source": [
    "result = meta_regression(y, v, sample_design[['treatment']].values, add_intercept=True, method='dl')"
   ]
  },
  {
   "cell_type": "code",
   "execution_count": null,
   "id": "88f41d4b-4eed-407b-b9ee-b3781bc905dc",
   "metadata": {
    "tags": []
   },
   "outputs": [],
   "source": [
    "result.get_fe_stats()"
   ]
  },
  {
   "cell_type": "code",
   "execution_count": null,
   "id": "aff70081-0304-42e1-b9b2-69623b977979",
   "metadata": {
    "tags": []
   },
   "outputs": [],
   "source": [
    "dir(result)"
   ]
  },
  {
   "cell_type": "code",
   "execution_count": null,
   "id": "6175df36-222b-45bf-a0cc-98ef57f1fe7b",
   "metadata": {
    "tags": []
   },
   "outputs": [],
   "source": [
    "result.to_df()"
   ]
  },
  {
   "cell_type": "code",
   "execution_count": null,
   "id": "aef7d0ba-1d84-4600-b0be-ef56230a023a",
   "metadata": {
    "tags": []
   },
   "outputs": [],
   "source": [
    "sample_design[['treatment']]"
   ]
  },
  {
   "cell_type": "markdown",
   "id": "76547d93-ba14-4b07-bfe6-c2d79992e043",
   "metadata": {
    "tags": []
   },
   "source": [
    "### Read rare ct comparison results"
   ]
  },
  {
   "cell_type": "code",
   "execution_count": 335,
   "id": "5f4ea636",
   "metadata": {},
   "outputs": [],
   "source": [
    "def draw_qq(df_input, thresh=1000, color='gray'):\n",
    "    \n",
    "    df = df_input[df_input[f'pval'] != 1.00].copy()\n",
    "    df = (df[df[f'coef'].abs() < thresh])\n",
    "    pvals = df[f'pval'].sort_values().values\n",
    "    pvals = pvals[np.isfinite(pvals)]\n",
    "    unif = np.linspace(1e-6, 1, len(pvals))\n",
    "    # plt.scatter(unif, pvals, s=1)\n",
    "    plt.scatter(-np.log10(unif), -np.log10(pvals), s=(3 if color=='cyan' else 1), color=color)\n",
    "    # plt.plot(-np.log10(unif), -np.log10(unif), color='k')\n",
    "\n"
   ]
  },
  {
   "cell_type": "code",
   "execution_count": 336,
   "id": "003b939b",
   "metadata": {},
   "outputs": [],
   "source": [
    "result_fnames = ['rare_ct_whole.csv'] + [f'rare_ct_{d_id}.csv' for d_id in relevant_datasets]\n",
    "names = ['whole'] + relevant_datasets"
   ]
  },
  {
   "cell_type": "code",
   "execution_count": 337,
   "id": "11f5fca5",
   "metadata": {},
   "outputs": [],
   "source": [
    "all_results = []\n",
    "common_genes = set()\n",
    "for name, fname in zip(names, result_fnames):\n",
    "    \n",
    "    res = pd.read_csv(save_path + fname).dropna()\n",
    "    if res.shape[0] == 0:\n",
    "        continue\n",
    "    res = res.set_index('feature_id')\n",
    "    if name == 'whole':\n",
    "        common_genes = set(res.index)\n",
    "    else:\n",
    "        common_genes = common_genes & set(res.index)\n",
    "    res['dataset'] = name\n",
    "    all_results.append(res)\n",
    "    # plt.ylim(-1, 10)\n",
    "all_results = pd.concat(all_results).dropna().loc[list(common_genes)]"
   ]
  },
  {
   "cell_type": "code",
   "execution_count": 338,
   "id": "7dd1c038",
   "metadata": {},
   "outputs": [
    {
     "data": {
      "text/plain": [
       "Text(0, 0.5, 'Observed\\n-log10(P-value)')"
      ]
     },
     "execution_count": 338,
     "metadata": {},
     "output_type": "execute_result"
    },
    {
     "data": {
      "image/png": "[encoded data removed]",
      "text/plain": [
       "<Figure size 300x200 with 1 Axes>"
      ]
     },
     "metadata": {},
     "output_type": "display_data"
    }
   ],
   "source": [
    "plt.figure(figsize=(3,2))\n",
    "for name in names:\n",
    "\n",
    "    draw_qq(all_results.query(f'dataset == \"{name}\" & pval > 1e-31'), color='cyan' if name == 'whole' else 'gray')\n",
    "\n",
    "\n",
    "# draw_qq(all_results.query('dataset == \"d1\"'))\n",
    "# draw_qq(all_results.query('dataset == \"d2\"'))\n",
    "# draw_qq(all_results.query('dataset == \"d3\"'))\n",
    "plt.ylim(-5, 30)\n",
    "plt.xlim(-0.2, 4)\n",
    "plt.plot([0,8], [0, 8],'--', color='k', );\n",
    "plt.xlabel('Expected'); plt.ylabel('Observed\\n-log10(P-value)')"
   ]
  },
  {
   "cell_type": "code",
   "execution_count": 125,
   "id": "51c5b4cc-562e-43f7-ad5a-43675c733e8b",
   "metadata": {
    "tags": []
   },
   "outputs": [
    {
     "data": {
      "text/html": [
       "<div>\n",
       "<style scoped>\n",
       "    .dataframe tbody tr th:only-of-type {\n",
       "        vertical-align: middle;\n",
       "    }\n",
       "\n",
       "    .dataframe tbody tr th {\n",
       "        vertical-align: top;\n",
       "    }\n",
       "\n",
       "    .dataframe thead th {\n",
       "        text-align: right;\n",
       "    }\n",
       "</style>\n",
       "<table border=\"1\" class=\"dataframe\">\n",
       "  <thead>\n",
       "    <tr style=\"text-align: right;\">\n",
       "      <th></th>\n",
       "      <th>coef</th>\n",
       "      <th>se</th>\n",
       "      <th>z</th>\n",
       "      <th>pval</th>\n",
       "      <th>dataset</th>\n",
       "    </tr>\n",
       "    <tr>\n",
       "      <th>feature_id</th>\n",
       "      <th></th>\n",
       "      <th></th>\n",
       "      <th></th>\n",
       "      <th></th>\n",
       "      <th></th>\n",
       "    </tr>\n",
       "  </thead>\n",
       "  <tbody>\n",
       "    <tr>\n",
       "      <th>ENSG00000000419</th>\n",
       "      <td>-0.251705</td>\n",
       "      <td>0.166104</td>\n",
       "      <td>1.515342</td>\n",
       "      <td>1.296857e-01</td>\n",
       "      <td>whole</td>\n",
       "    </tr>\n",
       "    <tr>\n",
       "      <th>ENSG00000000457</th>\n",
       "      <td>1.554262</td>\n",
       "      <td>0.364091</td>\n",
       "      <td>4.268884</td>\n",
       "      <td>1.964533e-05</td>\n",
       "      <td>whole</td>\n",
       "    </tr>\n",
       "    <tr>\n",
       "      <th>ENSG00000000938</th>\n",
       "      <td>-2.361452</td>\n",
       "      <td>0.270333</td>\n",
       "      <td>8.735336</td>\n",
       "      <td>2.429334e-18</td>\n",
       "      <td>whole</td>\n",
       "    </tr>\n",
       "    <tr>\n",
       "      <th>ENSG00000001036</th>\n",
       "      <td>-0.897049</td>\n",
       "      <td>0.290389</td>\n",
       "      <td>3.089125</td>\n",
       "      <td>2.007472e-03</td>\n",
       "      <td>whole</td>\n",
       "    </tr>\n",
       "    <tr>\n",
       "      <th>ENSG00000001084</th>\n",
       "      <td>0.093108</td>\n",
       "      <td>0.272019</td>\n",
       "      <td>0.342286</td>\n",
       "      <td>7.321360e-01</td>\n",
       "      <td>whole</td>\n",
       "    </tr>\n",
       "    <tr>\n",
       "      <th>...</th>\n",
       "      <td>...</td>\n",
       "      <td>...</td>\n",
       "      <td>...</td>\n",
       "      <td>...</td>\n",
       "      <td>...</td>\n",
       "    </tr>\n",
       "    <tr>\n",
       "      <th>ENSG00000284968</th>\n",
       "      <td>0.583517</td>\n",
       "      <td>1.136739</td>\n",
       "      <td>0.513325</td>\n",
       "      <td>6.077241e-01</td>\n",
       "      <td>d3</td>\n",
       "    </tr>\n",
       "    <tr>\n",
       "      <th>ENSG00000285043</th>\n",
       "      <td>-0.265193</td>\n",
       "      <td>0.469652</td>\n",
       "      <td>0.564657</td>\n",
       "      <td>5.723068e-01</td>\n",
       "      <td>d3</td>\n",
       "    </tr>\n",
       "    <tr>\n",
       "      <th>ENSG00000285079</th>\n",
       "      <td>4.463383</td>\n",
       "      <td>2.735666</td>\n",
       "      <td>1.631552</td>\n",
       "      <td>1.027738e-01</td>\n",
       "      <td>d3</td>\n",
       "    </tr>\n",
       "    <tr>\n",
       "      <th>ENSG00000285437</th>\n",
       "      <td>0.312501</td>\n",
       "      <td>0.271750</td>\n",
       "      <td>1.149961</td>\n",
       "      <td>2.501600e-01</td>\n",
       "      <td>d3</td>\n",
       "    </tr>\n",
       "    <tr>\n",
       "      <th>ENSG00000285492</th>\n",
       "      <td>0.497108</td>\n",
       "      <td>1.257989</td>\n",
       "      <td>0.395161</td>\n",
       "      <td>6.927241e-01</td>\n",
       "      <td>d3</td>\n",
       "    </tr>\n",
       "  </tbody>\n",
       "</table>\n",
       "<p>42720 rows × 5 columns</p>\n",
       "</div>"
      ],
      "text/plain": [
       "                     coef        se         z          pval dataset\n",
       "feature_id                                                         \n",
       "ENSG00000000419 -0.251705  0.166104  1.515342  1.296857e-01   whole\n",
       "ENSG00000000457  1.554262  0.364091  4.268884  1.964533e-05   whole\n",
       "ENSG00000000938 -2.361452  0.270333  8.735336  2.429334e-18   whole\n",
       "ENSG00000001036 -0.897049  0.290389  3.089125  2.007472e-03   whole\n",
       "ENSG00000001084  0.093108  0.272019  0.342286  7.321360e-01   whole\n",
       "...                   ...       ...       ...           ...     ...\n",
       "ENSG00000284968  0.583517  1.136739  0.513325  6.077241e-01      d3\n",
       "ENSG00000285043 -0.265193  0.469652  0.564657  5.723068e-01      d3\n",
       "ENSG00000285079  4.463383  2.735666  1.631552  1.027738e-01      d3\n",
       "ENSG00000285437  0.312501  0.271750  1.149961  2.501600e-01      d3\n",
       "ENSG00000285492  0.497108  1.257989  0.395161  6.927241e-01      d3\n",
       "\n",
       "[42720 rows x 5 columns]"
      ]
     },
     "execution_count": 125,
     "metadata": {},
     "output_type": "execute_result"
    }
   ],
   "source": [
    "all_results"
   ]
  },
  {
   "cell_type": "code",
   "execution_count": 119,
   "id": "876e58a5-6f3a-48f2-8610-e7937e051e88",
   "metadata": {
    "tags": []
   },
   "outputs": [],
   "source": [
    "marker_genes = \"\"\"TCF4: ENSG00000196628\n",
    "BCL11A: ENSG00000119866\n",
    "LY6D: ENSG00000167656\n",
    "ID2: ENSG00000115738\n",
    "BDCA2: ENSG00000198178\n",
    "BDCA4: ENSG00000099250\n",
    "IL3R: ENSG00000292332\n",
    "RAG1: ENSG00000166349\n",
    "EBF1: ENSG00000164330\n",
    "RAG2: ENSG00000175097\"\"\".split('\\n')\n",
    "marker_genes = {x.split(': ')[0]:x.split(': ')[1] for x in marker_genes} "
   ]
  },
  {
   "cell_type": "code",
   "execution_count": 120,
   "id": "c127e2e4-df4b-473e-b17e-94b04f1b1ab7",
   "metadata": {
    "tags": []
   },
   "outputs": [
    {
     "data": {
      "text/plain": [
       "dict_values(['ENSG00000196628', 'ENSG00000119866', 'ENSG00000167656', 'ENSG00000115738', 'ENSG00000198178', 'ENSG00000099250', 'ENSG00000292332', 'ENSG00000166349', 'ENSG00000164330', 'ENSG00000175097'])"
      ]
     },
     "execution_count": 120,
     "metadata": {},
     "output_type": "execute_result"
    }
   ],
   "source": [
    "marker_genes.values()"
   ]
  },
  {
   "cell_type": "code",
   "execution_count": 128,
   "id": "fbd9c537-1c8c-49dd-95c0-93b7d53f4558",
   "metadata": {
    "tags": []
   },
   "outputs": [],
   "source": [
    "nonsig = all_results.query('dataset == \"d2\" & pval > 0.05 ')"
   ]
  },
  {
   "cell_type": "code",
   "execution_count": 141,
   "id": "af8072e3-e641-4185-8652-df5f1f650076",
   "metadata": {
    "tags": []
   },
   "outputs": [],
   "source": [
    "subset = nonsig.join(all_results.query('dataset == \"whole\" & pval < 0.0001'), lsuffix='d2', rsuffix='whole', how='inner')\\\n",
    "    .sort_values('pvalwhole')"
   ]
  },
  {
   "cell_type": "code",
   "execution_count": 142,
   "id": "64faeace-1922-4054-938b-9e177b87c34f",
   "metadata": {
    "tags": []
   },
   "outputs": [
    {
     "data": {
      "text/html": [
       "<div>\n",
       "<style scoped>\n",
       "    .dataframe tbody tr th:only-of-type {\n",
       "        vertical-align: middle;\n",
       "    }\n",
       "\n",
       "    .dataframe tbody tr th {\n",
       "        vertical-align: top;\n",
       "    }\n",
       "\n",
       "    .dataframe thead th {\n",
       "        text-align: right;\n",
       "    }\n",
       "</style>\n",
       "<table border=\"1\" class=\"dataframe\">\n",
       "  <thead>\n",
       "    <tr style=\"text-align: right;\">\n",
       "      <th></th>\n",
       "      <th>coefd2</th>\n",
       "      <th>sed2</th>\n",
       "      <th>zd2</th>\n",
       "      <th>pvald2</th>\n",
       "      <th>datasetd2</th>\n",
       "      <th>coefwhole</th>\n",
       "      <th>sewhole</th>\n",
       "      <th>zwhole</th>\n",
       "      <th>pvalwhole</th>\n",
       "      <th>datasetwhole</th>\n",
       "    </tr>\n",
       "    <tr>\n",
       "      <th>feature_id</th>\n",
       "      <th></th>\n",
       "      <th></th>\n",
       "      <th></th>\n",
       "      <th></th>\n",
       "      <th></th>\n",
       "      <th></th>\n",
       "      <th></th>\n",
       "      <th></th>\n",
       "      <th></th>\n",
       "      <th></th>\n",
       "    </tr>\n",
       "  </thead>\n",
       "  <tbody>\n",
       "    <tr>\n",
       "      <th>ENSG00000105640</th>\n",
       "      <td>-0.028631</td>\n",
       "      <td>0.021354</td>\n",
       "      <td>1.340769</td>\n",
       "      <td>0.179996</td>\n",
       "      <td>d2</td>\n",
       "      <td>-0.174181</td>\n",
       "      <td>0.029189</td>\n",
       "      <td>5.967291</td>\n",
       "      <td>2.412257e-09</td>\n",
       "      <td>whole</td>\n",
       "    </tr>\n",
       "    <tr>\n",
       "      <th>ENSG00000116489</th>\n",
       "      <td>-0.094051</td>\n",
       "      <td>0.050610</td>\n",
       "      <td>1.858370</td>\n",
       "      <td>0.063116</td>\n",
       "      <td>d2</td>\n",
       "      <td>-0.233530</td>\n",
       "      <td>0.040290</td>\n",
       "      <td>5.796210</td>\n",
       "      <td>6.783020e-09</td>\n",
       "      <td>whole</td>\n",
       "    </tr>\n",
       "    <tr>\n",
       "      <th>ENSG00000019582</th>\n",
       "      <td>0.021448</td>\n",
       "      <td>0.021677</td>\n",
       "      <td>0.989440</td>\n",
       "      <td>0.322448</td>\n",
       "      <td>d2</td>\n",
       "      <td>-0.163312</td>\n",
       "      <td>0.029255</td>\n",
       "      <td>5.582306</td>\n",
       "      <td>2.373499e-08</td>\n",
       "      <td>whole</td>\n",
       "    </tr>\n",
       "    <tr>\n",
       "      <th>ENSG00000110077</th>\n",
       "      <td>0.012616</td>\n",
       "      <td>0.033302</td>\n",
       "      <td>0.378829</td>\n",
       "      <td>0.704815</td>\n",
       "      <td>d2</td>\n",
       "      <td>-0.163474</td>\n",
       "      <td>0.030317</td>\n",
       "      <td>5.392238</td>\n",
       "      <td>6.958560e-08</td>\n",
       "      <td>whole</td>\n",
       "    </tr>\n",
       "    <tr>\n",
       "      <th>ENSG00000241468</th>\n",
       "      <td>-0.019301</td>\n",
       "      <td>0.027785</td>\n",
       "      <td>0.694652</td>\n",
       "      <td>0.487273</td>\n",
       "      <td>d2</td>\n",
       "      <td>-0.155060</td>\n",
       "      <td>0.032677</td>\n",
       "      <td>4.745202</td>\n",
       "      <td>2.082983e-06</td>\n",
       "      <td>whole</td>\n",
       "    </tr>\n",
       "    <tr>\n",
       "      <th>ENSG00000143537</th>\n",
       "      <td>-0.962804</td>\n",
       "      <td>0.534343</td>\n",
       "      <td>1.801848</td>\n",
       "      <td>0.071569</td>\n",
       "      <td>d2</td>\n",
       "      <td>-1.521809</td>\n",
       "      <td>0.334574</td>\n",
       "      <td>4.548495</td>\n",
       "      <td>5.403104e-06</td>\n",
       "      <td>whole</td>\n",
       "    </tr>\n",
       "    <tr>\n",
       "      <th>ENSG00000112149</th>\n",
       "      <td>-0.500342</td>\n",
       "      <td>0.265604</td>\n",
       "      <td>1.883790</td>\n",
       "      <td>0.059593</td>\n",
       "      <td>d2</td>\n",
       "      <td>-0.869869</td>\n",
       "      <td>0.198566</td>\n",
       "      <td>4.380753</td>\n",
       "      <td>1.182699e-05</td>\n",
       "      <td>whole</td>\n",
       "    </tr>\n",
       "    <tr>\n",
       "      <th>ENSG00000205352</th>\n",
       "      <td>-0.041074</td>\n",
       "      <td>0.034992</td>\n",
       "      <td>1.173791</td>\n",
       "      <td>0.240479</td>\n",
       "      <td>d2</td>\n",
       "      <td>-0.156228</td>\n",
       "      <td>0.036380</td>\n",
       "      <td>4.294353</td>\n",
       "      <td>1.752039e-05</td>\n",
       "      <td>whole</td>\n",
       "    </tr>\n",
       "    <tr>\n",
       "      <th>ENSG00000227039</th>\n",
       "      <td>-0.761968</td>\n",
       "      <td>0.464616</td>\n",
       "      <td>1.639996</td>\n",
       "      <td>0.101006</td>\n",
       "      <td>d2</td>\n",
       "      <td>-1.373975</td>\n",
       "      <td>0.321085</td>\n",
       "      <td>4.279161</td>\n",
       "      <td>1.875992e-05</td>\n",
       "      <td>whole</td>\n",
       "    </tr>\n",
       "    <tr>\n",
       "      <th>ENSG00000106348</th>\n",
       "      <td>-0.919471</td>\n",
       "      <td>0.576118</td>\n",
       "      <td>1.595978</td>\n",
       "      <td>0.110494</td>\n",
       "      <td>d2</td>\n",
       "      <td>-1.595917</td>\n",
       "      <td>0.375528</td>\n",
       "      <td>4.249798</td>\n",
       "      <td>2.139634e-05</td>\n",
       "      <td>whole</td>\n",
       "    </tr>\n",
       "    <tr>\n",
       "      <th>ENSG00000140740</th>\n",
       "      <td>-0.155200</td>\n",
       "      <td>0.084605</td>\n",
       "      <td>1.834413</td>\n",
       "      <td>0.066593</td>\n",
       "      <td>d2</td>\n",
       "      <td>-0.270044</td>\n",
       "      <td>0.063588</td>\n",
       "      <td>4.246793</td>\n",
       "      <td>2.168523e-05</td>\n",
       "      <td>whole</td>\n",
       "    </tr>\n",
       "    <tr>\n",
       "      <th>ENSG00000186480</th>\n",
       "      <td>-0.443758</td>\n",
       "      <td>0.250726</td>\n",
       "      <td>1.769894</td>\n",
       "      <td>0.076745</td>\n",
       "      <td>d2</td>\n",
       "      <td>-0.765342</td>\n",
       "      <td>0.182199</td>\n",
       "      <td>4.200582</td>\n",
       "      <td>2.662297e-05</td>\n",
       "      <td>whole</td>\n",
       "    </tr>\n",
       "    <tr>\n",
       "      <th>ENSG00000239998</th>\n",
       "      <td>-1.337788</td>\n",
       "      <td>0.706603</td>\n",
       "      <td>1.893267</td>\n",
       "      <td>0.058322</td>\n",
       "      <td>d2</td>\n",
       "      <td>-1.927055</td>\n",
       "      <td>0.460035</td>\n",
       "      <td>4.188932</td>\n",
       "      <td>2.802698e-05</td>\n",
       "      <td>whole</td>\n",
       "    </tr>\n",
       "    <tr>\n",
       "      <th>ENSG00000149357</th>\n",
       "      <td>-0.065540</td>\n",
       "      <td>0.046762</td>\n",
       "      <td>1.401561</td>\n",
       "      <td>0.161046</td>\n",
       "      <td>d2</td>\n",
       "      <td>-0.202655</td>\n",
       "      <td>0.048405</td>\n",
       "      <td>4.186641</td>\n",
       "      <td>2.831129e-05</td>\n",
       "      <td>whole</td>\n",
       "    </tr>\n",
       "    <tr>\n",
       "      <th>ENSG00000109321</th>\n",
       "      <td>-0.786974</td>\n",
       "      <td>0.422812</td>\n",
       "      <td>1.861288</td>\n",
       "      <td>0.062703</td>\n",
       "      <td>d2</td>\n",
       "      <td>-1.009293</td>\n",
       "      <td>0.244902</td>\n",
       "      <td>4.121207</td>\n",
       "      <td>3.768932e-05</td>\n",
       "      <td>whole</td>\n",
       "    </tr>\n",
       "    <tr>\n",
       "      <th>ENSG00000140368</th>\n",
       "      <td>-0.776993</td>\n",
       "      <td>0.429711</td>\n",
       "      <td>1.808177</td>\n",
       "      <td>0.070579</td>\n",
       "      <td>d2</td>\n",
       "      <td>-1.251847</td>\n",
       "      <td>0.304739</td>\n",
       "      <td>4.107925</td>\n",
       "      <td>3.992305e-05</td>\n",
       "      <td>whole</td>\n",
       "    </tr>\n",
       "    <tr>\n",
       "      <th>ENSG00000124588</th>\n",
       "      <td>-0.819348</td>\n",
       "      <td>0.426861</td>\n",
       "      <td>1.919473</td>\n",
       "      <td>0.054925</td>\n",
       "      <td>d2</td>\n",
       "      <td>-1.198610</td>\n",
       "      <td>0.293899</td>\n",
       "      <td>4.078310</td>\n",
       "      <td>4.536419e-05</td>\n",
       "      <td>whole</td>\n",
       "    </tr>\n",
       "    <tr>\n",
       "      <th>ENSG00000091436</th>\n",
       "      <td>-1.421686</td>\n",
       "      <td>0.752108</td>\n",
       "      <td>1.890268</td>\n",
       "      <td>0.058722</td>\n",
       "      <td>d2</td>\n",
       "      <td>-1.878664</td>\n",
       "      <td>0.466860</td>\n",
       "      <td>4.024038</td>\n",
       "      <td>5.720869e-05</td>\n",
       "      <td>whole</td>\n",
       "    </tr>\n",
       "    <tr>\n",
       "      <th>ENSG00000134996</th>\n",
       "      <td>-0.207432</td>\n",
       "      <td>0.110223</td>\n",
       "      <td>1.881926</td>\n",
       "      <td>0.059846</td>\n",
       "      <td>d2</td>\n",
       "      <td>-0.328990</td>\n",
       "      <td>0.081788</td>\n",
       "      <td>4.022483</td>\n",
       "      <td>5.758791e-05</td>\n",
       "      <td>whole</td>\n",
       "    </tr>\n",
       "    <tr>\n",
       "      <th>ENSG00000089195</th>\n",
       "      <td>-0.573700</td>\n",
       "      <td>0.362440</td>\n",
       "      <td>1.582884</td>\n",
       "      <td>0.113448</td>\n",
       "      <td>d2</td>\n",
       "      <td>-1.040398</td>\n",
       "      <td>0.259776</td>\n",
       "      <td>4.004977</td>\n",
       "      <td>6.202346e-05</td>\n",
       "      <td>whole</td>\n",
       "    </tr>\n",
       "    <tr>\n",
       "      <th>ENSG00000188229</th>\n",
       "      <td>-0.334905</td>\n",
       "      <td>0.211777</td>\n",
       "      <td>1.581408</td>\n",
       "      <td>0.113785</td>\n",
       "      <td>d2</td>\n",
       "      <td>-0.605742</td>\n",
       "      <td>0.153242</td>\n",
       "      <td>3.952840</td>\n",
       "      <td>7.722899e-05</td>\n",
       "      <td>whole</td>\n",
       "    </tr>\n",
       "    <tr>\n",
       "      <th>ENSG00000185885</th>\n",
       "      <td>-0.353180</td>\n",
       "      <td>0.309688</td>\n",
       "      <td>1.140439</td>\n",
       "      <td>0.254103</td>\n",
       "      <td>d2</td>\n",
       "      <td>-0.802588</td>\n",
       "      <td>0.203929</td>\n",
       "      <td>3.935618</td>\n",
       "      <td>8.298277e-05</td>\n",
       "      <td>whole</td>\n",
       "    </tr>\n",
       "    <tr>\n",
       "      <th>ENSG00000189067</th>\n",
       "      <td>-0.149505</td>\n",
       "      <td>0.090326</td>\n",
       "      <td>1.655169</td>\n",
       "      <td>0.097890</td>\n",
       "      <td>d2</td>\n",
       "      <td>-0.290664</td>\n",
       "      <td>0.074447</td>\n",
       "      <td>3.904307</td>\n",
       "      <td>9.449586e-05</td>\n",
       "      <td>whole</td>\n",
       "    </tr>\n",
       "    <tr>\n",
       "      <th>ENSG00000103507</th>\n",
       "      <td>-0.604246</td>\n",
       "      <td>0.330616</td>\n",
       "      <td>1.827639</td>\n",
       "      <td>0.067604</td>\n",
       "      <td>d2</td>\n",
       "      <td>-0.898179</td>\n",
       "      <td>0.230793</td>\n",
       "      <td>3.891703</td>\n",
       "      <td>9.954289e-05</td>\n",
       "      <td>whole</td>\n",
       "    </tr>\n",
       "  </tbody>\n",
       "</table>\n",
       "</div>"
      ],
      "text/plain": [
       "                   coefd2      sed2       zd2    pvald2 datasetd2  coefwhole  \\\n",
       "feature_id                                                                     \n",
       "ENSG00000105640 -0.028631  0.021354  1.340769  0.179996        d2  -0.174181   \n",
       "ENSG00000116489 -0.094051  0.050610  1.858370  0.063116        d2  -0.233530   \n",
       "ENSG00000019582  0.021448  0.021677  0.989440  0.322448        d2  -0.163312   \n",
       "ENSG00000110077  0.012616  0.033302  0.378829  0.704815        d2  -0.163474   \n",
       "ENSG00000241468 -0.019301  0.027785  0.694652  0.487273        d2  -0.155060   \n",
       "ENSG00000143537 -0.962804  0.534343  1.801848  0.071569        d2  -1.521809   \n",
       "ENSG00000112149 -0.500342  0.265604  1.883790  0.059593        d2  -0.869869   \n",
       "ENSG00000205352 -0.041074  0.034992  1.173791  0.240479        d2  -0.156228   \n",
       "ENSG00000227039 -0.761968  0.464616  1.639996  0.101006        d2  -1.373975   \n",
       "ENSG00000106348 -0.919471  0.576118  1.595978  0.110494        d2  -1.595917   \n",
       "ENSG00000140740 -0.155200  0.084605  1.834413  0.066593        d2  -0.270044   \n",
       "ENSG00000186480 -0.443758  0.250726  1.769894  0.076745        d2  -0.765342   \n",
       "ENSG00000239998 -1.337788  0.706603  1.893267  0.058322        d2  -1.927055   \n",
       "ENSG00000149357 -0.065540  0.046762  1.401561  0.161046        d2  -0.202655   \n",
       "ENSG00000109321 -0.786974  0.422812  1.861288  0.062703        d2  -1.009293   \n",
       "ENSG00000140368 -0.776993  0.429711  1.808177  0.070579        d2  -1.251847   \n",
       "ENSG00000124588 -0.819348  0.426861  1.919473  0.054925        d2  -1.198610   \n",
       "ENSG00000091436 -1.421686  0.752108  1.890268  0.058722        d2  -1.878664   \n",
       "ENSG00000134996 -0.207432  0.110223  1.881926  0.059846        d2  -0.328990   \n",
       "ENSG00000089195 -0.573700  0.362440  1.582884  0.113448        d2  -1.040398   \n",
       "ENSG00000188229 -0.334905  0.211777  1.581408  0.113785        d2  -0.605742   \n",
       "ENSG00000185885 -0.353180  0.309688  1.140439  0.254103        d2  -0.802588   \n",
       "ENSG00000189067 -0.149505  0.090326  1.655169  0.097890        d2  -0.290664   \n",
       "ENSG00000103507 -0.604246  0.330616  1.827639  0.067604        d2  -0.898179   \n",
       "\n",
       "                  sewhole    zwhole     pvalwhole datasetwhole  \n",
       "feature_id                                                      \n",
       "ENSG00000105640  0.029189  5.967291  2.412257e-09        whole  \n",
       "ENSG00000116489  0.040290  5.796210  6.783020e-09        whole  \n",
       "ENSG00000019582  0.029255  5.582306  2.373499e-08        whole  \n",
       "ENSG00000110077  0.030317  5.392238  6.958560e-08        whole  \n",
       "ENSG00000241468  0.032677  4.745202  2.082983e-06        whole  \n",
       "ENSG00000143537  0.334574  4.548495  5.403104e-06        whole  \n",
       "ENSG00000112149  0.198566  4.380753  1.182699e-05        whole  \n",
       "ENSG00000205352  0.036380  4.294353  1.752039e-05        whole  \n",
       "ENSG00000227039  0.321085  4.279161  1.875992e-05        whole  \n",
       "ENSG00000106348  0.375528  4.249798  2.139634e-05        whole  \n",
       "ENSG00000140740  0.063588  4.246793  2.168523e-05        whole  \n",
       "ENSG00000186480  0.182199  4.200582  2.662297e-05        whole  \n",
       "ENSG00000239998  0.460035  4.188932  2.802698e-05        whole  \n",
       "ENSG00000149357  0.048405  4.186641  2.831129e-05        whole  \n",
       "ENSG00000109321  0.244902  4.121207  3.768932e-05        whole  \n",
       "ENSG00000140368  0.304739  4.107925  3.992305e-05        whole  \n",
       "ENSG00000124588  0.293899  4.078310  4.536419e-05        whole  \n",
       "ENSG00000091436  0.466860  4.024038  5.720869e-05        whole  \n",
       "ENSG00000134996  0.081788  4.022483  5.758791e-05        whole  \n",
       "ENSG00000089195  0.259776  4.004977  6.202346e-05        whole  \n",
       "ENSG00000188229  0.153242  3.952840  7.722899e-05        whole  \n",
       "ENSG00000185885  0.203929  3.935618  8.298277e-05        whole  \n",
       "ENSG00000189067  0.074447  3.904307  9.449586e-05        whole  \n",
       "ENSG00000103507  0.230793  3.891703  9.954289e-05        whole  "
      ]
     },
     "execution_count": 142,
     "metadata": {},
     "output_type": "execute_result"
    }
   ],
   "source": [
    "subset"
   ]
  },
  {
   "cell_type": "code",
   "execution_count": 127,
   "id": "420ea874-56d1-4366-bcec-5ca251485b62",
   "metadata": {
    "tags": []
   },
   "outputs": [
    {
     "data": {
      "text/html": [
       "<div>\n",
       "<style scoped>\n",
       "    .dataframe tbody tr th:only-of-type {\n",
       "        vertical-align: middle;\n",
       "    }\n",
       "\n",
       "    .dataframe tbody tr th {\n",
       "        vertical-align: top;\n",
       "    }\n",
       "\n",
       "    .dataframe thead th {\n",
       "        text-align: right;\n",
       "    }\n",
       "</style>\n",
       "<table border=\"1\" class=\"dataframe\">\n",
       "  <thead>\n",
       "    <tr style=\"text-align: right;\">\n",
       "      <th></th>\n",
       "      <th>coef</th>\n",
       "      <th>se</th>\n",
       "      <th>z</th>\n",
       "      <th>pval</th>\n",
       "      <th>dataset</th>\n",
       "    </tr>\n",
       "    <tr>\n",
       "      <th>feature_id</th>\n",
       "      <th></th>\n",
       "      <th></th>\n",
       "      <th></th>\n",
       "      <th></th>\n",
       "      <th></th>\n",
       "    </tr>\n",
       "  </thead>\n",
       "  <tbody>\n",
       "    <tr>\n",
       "      <th>ENSG00000196628</th>\n",
       "      <td>3.411365</td>\n",
       "      <td>0.062140</td>\n",
       "      <td>54.898373</td>\n",
       "      <td>0.000000e+00</td>\n",
       "      <td>whole</td>\n",
       "    </tr>\n",
       "    <tr>\n",
       "      <th>ENSG00000196628</th>\n",
       "      <td>3.392549</td>\n",
       "      <td>0.204209</td>\n",
       "      <td>16.613151</td>\n",
       "      <td>5.597385e-62</td>\n",
       "      <td>d1</td>\n",
       "    </tr>\n",
       "    <tr>\n",
       "      <th>ENSG00000196628</th>\n",
       "      <td>3.540395</td>\n",
       "      <td>0.075303</td>\n",
       "      <td>47.015519</td>\n",
       "      <td>0.000000e+00</td>\n",
       "      <td>d2</td>\n",
       "    </tr>\n",
       "    <tr>\n",
       "      <th>ENSG00000196628</th>\n",
       "      <td>3.023588</td>\n",
       "      <td>0.115605</td>\n",
       "      <td>26.154581</td>\n",
       "      <td>8.741098e-151</td>\n",
       "      <td>d3</td>\n",
       "    </tr>\n",
       "    <tr>\n",
       "      <th>ENSG00000099250</th>\n",
       "      <td>3.134274</td>\n",
       "      <td>0.529375</td>\n",
       "      <td>5.920702</td>\n",
       "      <td>3.205693e-09</td>\n",
       "      <td>whole</td>\n",
       "    </tr>\n",
       "    <tr>\n",
       "      <th>ENSG00000099250</th>\n",
       "      <td>3.580700</td>\n",
       "      <td>0.901553</td>\n",
       "      <td>3.971704</td>\n",
       "      <td>7.136038e-05</td>\n",
       "      <td>d1</td>\n",
       "    </tr>\n",
       "    <tr>\n",
       "      <th>ENSG00000099250</th>\n",
       "      <td>3.093041</td>\n",
       "      <td>0.714356</td>\n",
       "      <td>4.329833</td>\n",
       "      <td>1.492225e-05</td>\n",
       "      <td>d2</td>\n",
       "    </tr>\n",
       "    <tr>\n",
       "      <th>ENSG00000099250</th>\n",
       "      <td>3.120265</td>\n",
       "      <td>0.885519</td>\n",
       "      <td>3.523655</td>\n",
       "      <td>4.256386e-04</td>\n",
       "      <td>d3</td>\n",
       "    </tr>\n",
       "    <tr>\n",
       "      <th>ENSG00000115738</th>\n",
       "      <td>-2.217410</td>\n",
       "      <td>0.106235</td>\n",
       "      <td>20.872598</td>\n",
       "      <td>9.502663e-97</td>\n",
       "      <td>whole</td>\n",
       "    </tr>\n",
       "    <tr>\n",
       "      <th>ENSG00000115738</th>\n",
       "      <td>-1.766388</td>\n",
       "      <td>0.418603</td>\n",
       "      <td>4.219723</td>\n",
       "      <td>2.446032e-05</td>\n",
       "      <td>d1</td>\n",
       "    </tr>\n",
       "    <tr>\n",
       "      <th>ENSG00000115738</th>\n",
       "      <td>-2.327777</td>\n",
       "      <td>0.130667</td>\n",
       "      <td>17.814539</td>\n",
       "      <td>5.450468e-71</td>\n",
       "      <td>d2</td>\n",
       "    </tr>\n",
       "    <tr>\n",
       "      <th>ENSG00000115738</th>\n",
       "      <td>-1.939182</td>\n",
       "      <td>0.186897</td>\n",
       "      <td>10.375695</td>\n",
       "      <td>3.198772e-25</td>\n",
       "      <td>d3</td>\n",
       "    </tr>\n",
       "    <tr>\n",
       "      <th>ENSG00000119866</th>\n",
       "      <td>2.273902</td>\n",
       "      <td>0.059651</td>\n",
       "      <td>38.119933</td>\n",
       "      <td>0.000000e+00</td>\n",
       "      <td>whole</td>\n",
       "    </tr>\n",
       "    <tr>\n",
       "      <th>ENSG00000119866</th>\n",
       "      <td>2.110584</td>\n",
       "      <td>0.173544</td>\n",
       "      <td>12.161691</td>\n",
       "      <td>4.971882e-34</td>\n",
       "      <td>d1</td>\n",
       "    </tr>\n",
       "    <tr>\n",
       "      <th>ENSG00000119866</th>\n",
       "      <td>2.446209</td>\n",
       "      <td>0.072506</td>\n",
       "      <td>33.738169</td>\n",
       "      <td>1.594218e-249</td>\n",
       "      <td>d2</td>\n",
       "    </tr>\n",
       "    <tr>\n",
       "      <th>ENSG00000119866</th>\n",
       "      <td>1.779311</td>\n",
       "      <td>0.110452</td>\n",
       "      <td>16.109291</td>\n",
       "      <td>2.195265e-58</td>\n",
       "      <td>d3</td>\n",
       "    </tr>\n",
       "    <tr>\n",
       "      <th>ENSG00000198178</th>\n",
       "      <td>4.454368</td>\n",
       "      <td>0.314933</td>\n",
       "      <td>14.143852</td>\n",
       "      <td>2.038148e-45</td>\n",
       "      <td>whole</td>\n",
       "    </tr>\n",
       "    <tr>\n",
       "      <th>ENSG00000198178</th>\n",
       "      <td>4.698655</td>\n",
       "      <td>0.590632</td>\n",
       "      <td>7.955294</td>\n",
       "      <td>1.787064e-15</td>\n",
       "      <td>d1</td>\n",
       "    </tr>\n",
       "    <tr>\n",
       "      <th>ENSG00000198178</th>\n",
       "      <td>4.653761</td>\n",
       "      <td>0.427825</td>\n",
       "      <td>10.877729</td>\n",
       "      <td>1.471836e-27</td>\n",
       "      <td>d2</td>\n",
       "    </tr>\n",
       "    <tr>\n",
       "      <th>ENSG00000198178</th>\n",
       "      <td>3.927147</td>\n",
       "      <td>0.386333</td>\n",
       "      <td>10.165194</td>\n",
       "      <td>2.835559e-24</td>\n",
       "      <td>d3</td>\n",
       "    </tr>\n",
       "  </tbody>\n",
       "</table>\n",
       "</div>"
      ],
      "text/plain": [
       "                     coef        se          z           pval dataset\n",
       "feature_id                                                           \n",
       "ENSG00000196628  3.411365  0.062140  54.898373   0.000000e+00   whole\n",
       "ENSG00000196628  3.392549  0.204209  16.613151   5.597385e-62      d1\n",
       "ENSG00000196628  3.540395  0.075303  47.015519   0.000000e+00      d2\n",
       "ENSG00000196628  3.023588  0.115605  26.154581  8.741098e-151      d3\n",
       "ENSG00000099250  3.134274  0.529375   5.920702   3.205693e-09   whole\n",
       "ENSG00000099250  3.580700  0.901553   3.971704   7.136038e-05      d1\n",
       "ENSG00000099250  3.093041  0.714356   4.329833   1.492225e-05      d2\n",
       "ENSG00000099250  3.120265  0.885519   3.523655   4.256386e-04      d3\n",
       "ENSG00000115738 -2.217410  0.106235  20.872598   9.502663e-97   whole\n",
       "ENSG00000115738 -1.766388  0.418603   4.219723   2.446032e-05      d1\n",
       "ENSG00000115738 -2.327777  0.130667  17.814539   5.450468e-71      d2\n",
       "ENSG00000115738 -1.939182  0.186897  10.375695   3.198772e-25      d3\n",
       "ENSG00000119866  2.273902  0.059651  38.119933   0.000000e+00   whole\n",
       "ENSG00000119866  2.110584  0.173544  12.161691   4.971882e-34      d1\n",
       "ENSG00000119866  2.446209  0.072506  33.738169  1.594218e-249      d2\n",
       "ENSG00000119866  1.779311  0.110452  16.109291   2.195265e-58      d3\n",
       "ENSG00000198178  4.454368  0.314933  14.143852   2.038148e-45   whole\n",
       "ENSG00000198178  4.698655  0.590632   7.955294   1.787064e-15      d1\n",
       "ENSG00000198178  4.653761  0.427825  10.877729   1.471836e-27      d2\n",
       "ENSG00000198178  3.927147  0.386333  10.165194   2.835559e-24      d3"
      ]
     },
     "execution_count": 127,
     "metadata": {},
     "output_type": "execute_result"
    }
   ],
   "source": [
    "all_results.loc[list(set(marker_genes.values()) & set(all_results.index))]"
   ]
  },
  {
   "cell_type": "code",
   "execution_count": null,
   "id": "91fc4054-23e6-49f2-8cfd-683bb773cdff",
   "metadata": {
    "tags": []
   },
   "outputs": [],
   "source": [
    "df_1.loc['ENSG00000075624']"
   ]
  },
  {
   "cell_type": "code",
   "execution_count": null,
   "id": "d82392c3-fb7d-483a-819e-6c40f7395898",
   "metadata": {
    "tags": []
   },
   "outputs": [],
   "source": [
    "df_whole.loc[list(set(marker_genes.values()) & set(df_whole.index))]"
   ]
  },
  {
   "cell_type": "code",
   "execution_count": null,
   "id": "1f4ebcfe-7998-4708-ac24-a9b37104f3bc",
   "metadata": {
    "tags": []
   },
   "outputs": [],
   "source": [
    "pvals = df['pval'].sort_values().values\n",
    "pvals = pvals[np.isfinite(pvals)]\n",
    "unif = np.linspace(1e-6, 1, len(pvals))\n",
    "plt.scatter(-np.log(unif), -np.log(pvals))\n",
    "plt.plot(-np.log10(unif), -np.log10(unif))"
   ]
  },
  {
   "cell_type": "code",
   "execution_count": null,
   "id": "8c245e8b-c363-4481-83d7-2deb15c0cacb",
   "metadata": {
    "tags": []
   },
   "outputs": [],
   "source": [
    "plt.hist(pvals)"
   ]
  },
  {
   "cell_type": "code",
   "execution_count": null,
   "id": "04245c35-10f8-4521-ab46-19c5db634600",
   "metadata": {
    "tags": []
   },
   "outputs": [],
   "source": []
  },
  {
   "cell_type": "code",
   "execution_count": null,
   "id": "a3eba056-c04f-4add-b0ec-1ab0adfd79d3",
   "metadata": {
    "tags": []
   },
   "outputs": [],
   "source": [
    "draw_qq(df[df['coef'].abs() < 0.1], 'logp')"
   ]
  },
  {
   "cell_type": "code",
   "execution_count": null,
   "id": "b2d42a0e-6baf-4442-9c21-2776a291a1a0",
   "metadata": {
    "tags": []
   },
   "outputs": [],
   "source": [
    "\n",
    "df[df['z'].abs() > 0]['pval'].hist(bins=30)"
   ]
  },
  {
   "cell_type": "code",
   "execution_count": null,
   "id": "81e05fd3-92bd-453d-9067-16c9235224a1",
   "metadata": {
    "tags": []
   },
   "outputs": [],
   "source": [
    "draw_qq(df_whole)"
   ]
  },
  {
   "cell_type": "code",
   "execution_count": null,
   "id": "0e8f923a-8926-45a1-b977-a8184a2afd0b",
   "metadata": {
    "tags": []
   },
   "outputs": [],
   "source": []
  },
  {
   "cell_type": "code",
   "execution_count": null,
   "id": "d84cb17a-8ade-4a30-a876-2205c70789c6",
   "metadata": {
    "tags": []
   },
   "outputs": [],
   "source": []
  },
  {
   "cell_type": "code",
   "execution_count": null,
   "id": "9da83dfe-ea0a-475d-8417-7c025983bab5",
   "metadata": {
    "tags": []
   },
   "outputs": [],
   "source": [
    "pvals"
   ]
  },
  {
   "cell_type": "code",
   "execution_count": null,
   "id": "2c7715f2-4772-4b60-80e5-0c2da6f95a1c",
   "metadata": {
    "tags": []
   },
   "outputs": [],
   "source": [
    "df_whole = pd.read_csv(save_path + 'rare_ct_whole.csv').set_index('feature_id')"
   ]
  },
  {
   "cell_type": "code",
   "execution_count": null,
   "id": "675665ca-3098-4a09-aea5-7172596c43cb",
   "metadata": {
    "tags": []
   },
   "outputs": [],
   "source": [
    "df_part.join(df_whole, lsuffix='_part', rsuffix='_whole').dropna().query('pval_part < 1.0')"
   ]
  },
  {
   "cell_type": "code",
   "execution_count": null,
   "id": "b84e9ab1-a7cf-4661-b44e-f0b03c2c01bf",
   "metadata": {
    "tags": []
   },
   "outputs": [],
   "source": [
    "df[df['z'].abs() > 0]['pval']"
   ]
  },
  {
   "cell_type": "code",
   "execution_count": null,
   "id": "da13226b-c412-42ea-841c-7f987951aaed",
   "metadata": {
    "tags": []
   },
   "outputs": [],
   "source": [
    "df_part[df_part['z'].abs() > 0]['pval'].hist(bins=20)"
   ]
  },
  {
   "cell_type": "code",
   "execution_count": null,
   "id": "4458d382-8c1e-4e5b-8f3a-8e94ebfe0965",
   "metadata": {},
   "outputs": [],
   "source": []
  },
  {
   "cell_type": "code",
   "execution_count": null,
   "id": "2b1797d4-6cfa-484b-9b0d-91037bbebf67",
   "metadata": {},
   "outputs": [],
   "source": []
  },
  {
   "cell_type": "code",
   "execution_count": null,
   "id": "03e5ca41-ad81-4b2b-b8f2-dd0e6fe8a52b",
   "metadata": {},
   "outputs": [],
   "source": []
  },
  {
   "cell_type": "code",
   "execution_count": null,
   "id": "531b431b-e29d-4e0a-a06d-df78099d8d20",
   "metadata": {},
   "outputs": [],
   "source": []
  },
  {
   "cell_type": "code",
   "execution_count": null,
   "id": "9ee0bbcf-04d7-418e-bdf7-a7f604318030",
   "metadata": {},
   "outputs": [],
   "source": []
  },
  {
   "cell_type": "code",
   "execution_count": null,
   "id": "ef6176ec-484b-45b5-a579-6518836c644a",
   "metadata": {},
   "outputs": [],
   "source": []
  },
  {
   "cell_type": "code",
   "execution_count": null,
   "id": "fd825aac-b44f-4645-9b60-b77c62750dc5",
   "metadata": {},
   "outputs": [],
   "source": []
  },
  {
   "cell_type": "code",
   "execution_count": null,
   "id": "55ba7e65-fa84-4507-a3c3-ac370490fc79",
   "metadata": {},
   "outputs": [],
   "source": []
  },
  {
   "cell_type": "code",
   "execution_count": null,
   "id": "8d677ed5-f01a-4ac4-8d2e-19e9151e74ff",
   "metadata": {},
   "outputs": [],
   "source": []
  },
  {
   "cell_type": "code",
   "execution_count": null,
   "id": "8d4105f3-d82e-4f4e-88f3-16bbf4bbac97",
   "metadata": {},
   "outputs": [],
   "source": [
    "def compare_dcs(all_estimators):\n",
    "    \n",
    "    def treatment_assignment(row):\n",
    "\n",
    "        ct = row['cell_type']\n",
    "        if 'plasma' in ct:\n",
    "            return 'pdc'\n",
    "        if 'conven' in ct or 'myeloid' in ct:\n",
    "            return 'cdc'\n",
    "        else:\n",
    "            return 'unknown'\n",
    "\n",
    "    all_estimators['treatment'] = all_estimators.apply(treatment_assignment, axis=1)\n",
    "    estimators = all_estimators.query('treatment != \"unknown\"').copy()\n",
    "\n",
    "    donors_to_use = estimators[['cell_type', 'donor_id']].drop_duplicates().groupby('donor_id').size()\n",
    "    donors_to_use = donors_to_use[donors_to_use > 1].index.tolist()\n",
    "    estimators = estimators.query('donor_id in @donors_to_use').copy()\n",
    "\n",
    "\n",
    "\n",
    "    CUBE_TILEDB_DIMS_OBS = [\n",
    "        \"cell_type\",\n",
    "        \"dataset_id\",\n",
    "    ]\n",
    "\n",
    "    CUBE_TILEDB_ATTRS_OBS = [\n",
    "        \"assay\",\n",
    "        \"suspension_type\",\n",
    "        \"donor_id\",\n",
    "        \"disease\",\n",
    "        \"sex\"\n",
    "    ]\n",
    "\n",
    "    CUBE_LOGICAL_DIMS_OBS = CUBE_TILEDB_DIMS_OBS + CUBE_TILEDB_ATTRS_OBS\n",
    "\n",
    "    DE_TREATMENT = 'treatment'\n",
    "    DE_COVARIATES = ['donor_id']\n",
    "    DE_VARIABLES = [DE_TREATMENT] + DE_COVARIATES\n",
    "\n",
    "    names = estimators[DE_TREATMENT].copy()\n",
    "    for col in DE_COVARIATES:\n",
    "        names += '_' + estimators[col]\n",
    "    estimators['group_name'] = names.tolist()\n",
    "\n",
    "    estimators = estimators.drop_duplicates(subset=['group_name', 'feature_id'])\n",
    "\n",
    "    features = estimators['feature_id'].drop_duplicates().tolist()\n",
    "\n",
    "    # This line doesnt do anything for actual run, just for shuffled\n",
    "    groups = estimators.drop_duplicates(subset='group_name').set_index('group_name')\n",
    "\n",
    "    mean = estimators.pivot(index='group_name', columns='feature_id', values='mean')\n",
    "    se_mean = estimators.pivot(index='group_name', columns='feature_id', values='sem')\n",
    "    cell_counts = groups['n_obs'].sort_index().values\n",
    "\n",
    "    # Filter genes for actually expressed ones\n",
    "    genes_to_test = mean.columns[mean.isnull().values.mean(axis=0) < 0.6]\n",
    "    mean = mean[genes_to_test]\n",
    "    se_mean = se_mean[genes_to_test]\n",
    "\n",
    "    # design = pd.get_dummies(groups[DE_VARIABLES], drop_first=True).astype(int)\n",
    "\n",
    "    design = pd.get_dummies(groups[DE_VARIABLES], drop_first=True, columns=['treatment'])\n",
    "    design['constant'] = 1\n",
    "    \n",
    "    print(len(genes_to_test))\n",
    "\n",
    "    # meta = \n",
    "\n",
    "    def get_final_design_matrix(design):\n",
    "        cov_df = design.iloc[:, 1:]\n",
    "        cov_df -= cov_df.mean(axis=0)\n",
    "        stim_df = design.iloc[:, [0]]\n",
    "        interaction_df = cov_df*stim_df[['treatment_pdc']].values\n",
    "        interaction_df.columns=[f'interaction_{col}' for col in cov_df.columns]\n",
    "        cov_df = pd.concat([cov_df, interaction_df], axis=1)\n",
    "        cov_df = sm.add_constant(cov_df)\n",
    "        return  pd.concat([stim_df, cov_df], axis=1).values.astype(float)\n",
    "\n",
    "\n",
    "    def wls(X, y, n, v, tau2=0, thresh=1):\n",
    "\n",
    "        from sklearn.linear_model import LinearRegression\n",
    "\n",
    "        # fit WLS using sample_weights\n",
    "        WLS = LinearRegression(fit_intercept=False)\n",
    "        WLS.fit(X, y, sample_weight=n)\n",
    "        sample_err = ((WLS.predict(X) - y)**2).mean()\n",
    "\n",
    "        coef = WLS.coef_[0]\n",
    "\n",
    "        W = np.diag(1/ (v+tau2) )\n",
    "        beta_var_hat = np.diag(np.linalg.pinv(X.T@W@X))\n",
    "        se = np.sqrt( beta_var_hat[0] )\n",
    "\n",
    "        z = coef/se\n",
    "        pv = stats.norm.sf(np.abs(z))\n",
    "\n",
    "        return coef, z, pv\n",
    "\n",
    "    # def resample_donors(X, y, n, v):\n",
    "\n",
    "    from sklearn.linear_model import LinearRegression\n",
    "\n",
    "    # %%time\n",
    "    de_result = []\n",
    "    for feature in genes_to_test[:2000]: # Can be vectorized heavily, showing for 1K genes\n",
    "\n",
    "        m = mean[feature].values\n",
    "        sem = se_mean[feature].values\n",
    "\n",
    "        # Transform to log space (alternatively can resample in log space)\n",
    "        lm = np.log(m)\n",
    "        selm = (np.log(m+sem)-np.log(m-sem))/2\n",
    "\n",
    "        sample_idxs = np.isfinite(m) & np.isfinite(sem)\n",
    "\n",
    "        sample_design = design[['treatment_pdc', 'donor_id']].iloc[sample_idxs]\n",
    "\n",
    "        donors_to_use_ = sample_design.groupby('donor_id').size()\n",
    "        donors_to_use_ = donors_to_use_[donors_to_use_ > 1].index.tolist()\n",
    "\n",
    "        final_sample_idxs = sample_design['donor_id'].isin(donors_to_use_).values\n",
    "\n",
    "        # final_sample_idxs = np.ones(final_sample_idxs.shape[0]).astype(bool)\n",
    "\n",
    "\n",
    "        X, y, n, v = (\n",
    "            get_final_design_matrix(pd.get_dummies(sample_design.iloc[final_sample_idxs], columns=['donor_id'], drop_first=True)), \n",
    "            lm[sample_idxs][final_sample_idxs], \n",
    "            cell_counts[sample_idxs][final_sample_idxs], \n",
    "            selm[sample_idxs][final_sample_idxs]**2)\n",
    "        \n",
    "        \n",
    "        if X.shape[0] != X.shape[1]:\n",
    "            continue\n",
    "\n",
    "        coef, z, pv = wls(X, y, n, v)\n",
    "\n",
    "        de_result.append((feature, coef, z, pv))\n",
    "\n",
    "    de_result_wls = pd.DataFrame(de_result, columns=['feature_id','coef', 'z', 'pval']).set_index('feature_id')\n",
    "    \n",
    "    return de_result_wls"
   ]
  },
  {
   "cell_type": "markdown",
   "id": "e4ae922c-6173-49bd-b084-4027d9c7afd8",
   "metadata": {},
   "source": [
    "### Grab cell counts"
   ]
  },
  {
   "cell_type": "code",
   "execution_count": null,
   "id": "7ca441cd-68c2-417f-af4d-df4cd04d57d0",
   "metadata": {
    "tags": []
   },
   "outputs": [],
   "source": [
    "import concurrent\n",
    "import gc\n",
    "import logging\n",
    "import multiprocessing\n",
    "import os\n",
    "import sys\n",
    "from concurrent import futures\n",
    "import time\n",
    "\n",
    "import numpy as np\n",
    "import pandas as pd\n",
    "import pyarrow as pa\n",
    "import scipy.sparse\n",
    "import scipy.sparse\n",
    "import tiledb\n",
    "import tiledbsoma as soma\n",
    "from somacore import ExperimentAxisQuery, AxisQuery\n",
    "from tiledb import ZstdFilter, ArraySchema, Domain, Dim, Attr, FilterList"
   ]
  },
  {
   "cell_type": "code",
   "execution_count": null,
   "id": "1e2844ad-0424-4ddc-a3d5-ec7c97a2d8ba",
   "metadata": {
    "tags": []
   },
   "outputs": [],
   "source": [
    "dataset_ids_to_query = ['c7775e88-49bf-4ba2-a03b-93f00447c958', '218acb0f-9f2f-4f76-b90b-15a4b7c7f629', '4c4cd77c-8fee-4836-9145-16562a8782fe']\n",
    "dataset_query = '('\n",
    "for idx, di in enumerate(dataset_ids_to_query): \n",
    "    dataset_query += f'dataset_id == \"{di}\" '\n",
    "    if idx != len(dataset_ids_to_query)-1:\n",
    "        dataset_query += 'or '\n",
    "dataset_query += ')'\n",
    "\n",
    "celltypes_to_query = [\n",
    "    'conventional dendritic cell',\n",
    "    'plasmacytoid dendritic cell',\n",
    "    'conventional dendritic cell',\n",
    "    'plasmacytoid dendritic cell, human',\n",
    "    'dendritic cell',\n",
    "    'dendritic cell, human',\n",
    "    'myeloid dendritic cell',\n",
    "    'plasmacytoid dendritic cell']\n",
    "celltype_query = '('\n",
    "for idx, ct in enumerate(celltypes_to_query): \n",
    "    celltype_query += f'cell_type == \"{ct}\" '\n",
    "    if idx != len(celltypes_to_query)-1:\n",
    "        celltype_query += 'or '\n",
    "celltype_query += ')'\n",
    "\n",
    "OBS_VALUE_FILTER_1 = dataset_query # All cells in three datasets\n",
    "OBS_VALUE_FILTER_2 = celltype_query + ' and ' + celltype_query # only relevant celltypes"
   ]
  },
  {
   "cell_type": "code",
   "execution_count": null,
   "id": "c63f8472-6716-4104-8f80-22054790a266",
   "metadata": {
    "tags": []
   },
   "outputs": [],
   "source": [
    "# init multiprocessing\n",
    "start = time.time()\n",
    "if multiprocessing.get_start_method(True) != \"spawn\":\n",
    "    multiprocessing.set_start_method(\"spawn\", True)\n",
    "\n",
    "exp_uri = 's3://cellxgene-data-public/cell-census/2023-10-30/soma/census_data/homo_sapiens'\n",
    "layer = \"raw\"\n",
    "measurement_name = \"RNA\"\n",
    "\n",
    "with soma.Experiment.open(uri=exp_uri,\n",
    "                          context=soma.SOMATileDBContext().replace(tiledb_config={\n",
    "                              \"vfs.s3.region\":\"us-west-2\",\n",
    "                              \"vfs.s3.no_sign_request\":True})\n",
    "                          ) as exp:\n",
    "\n",
    "    query = exp.axis_query(measurement_name=measurement_name,\n",
    "                           obs_query=AxisQuery(value_filter=OBS_VALUE_FILTER_2),\n",
    "                           # Note: Must use *all* genes to compute size factors correctly, even when var filter is\n",
    "                           # being used for testing\n",
    "                           var_query=AxisQuery())"
   ]
  },
  {
   "cell_type": "code",
   "execution_count": null,
   "id": "4ebbc623-610f-4fd5-8a83-1993633a18ad",
   "metadata": {
    "tags": []
   },
   "outputs": [],
   "source": [
    "TEST_MODE = bool(os.getenv(\"TEST_MODE\", False))  # Read data from simple test fixture Census data\n",
    "PROFILE_MODE = bool(os.getenv(\"PROFILE_MODE\", False))  # Run pass 2 in single-process mode with profiling output\n",
    "\n",
    "ESTIMATORS_CUBE_ARRAY_URI = \"estimators_cube\"\n",
    "\n",
    "OBS_WITH_SIZE_FACTOR_TILEDB_ARRAY_URI = \"obs_with_size_factor\"\n",
    "\n",
    "TILEDB_SOMA_BUFFER_BYTES = 2**31\n",
    "if TEST_MODE:\n",
    "    TILEDB_SOMA_BUFFER_BYTES = 10 * 1024 ** 2\n",
    "\n",
    "# The minimum number of cells that should be processed at a time by each child process.\n",
    "MIN_BATCH_SIZE = 2**14\n",
    "# For testing\n",
    "MIN_BATCH_SIZE = 20000\n",
    "\n",
    "CUBE_TILEDB_DIMS_OBS = [\n",
    "    \"cell_type\",\n",
    "    \"dataset_id\",\n",
    "]\n",
    "\n",
    "CUBE_TILEDB_ATTRS_OBS = [\n",
    "    \"assay\",\n",
    "    \"suspension_type\",\n",
    "    \"donor_id\",\n",
    "    \"disease\",\n",
    "    \"sex\"\n",
    "]\n",
    "\n",
    "if TEST_MODE:\n",
    "    CUBE_TILEDB_DIMS_OBS = [\"celltype\"]\n",
    "    CUBE_TILEDB_ATTRS_OBS = [\"study\"]\n",
    "\n",
    "CUBE_LOGICAL_DIMS_OBS = CUBE_TILEDB_DIMS_OBS + CUBE_TILEDB_ATTRS_OBS\n",
    "\n",
    "CUBE_DIMS_VAR = ['feature_id']\n",
    "\n",
    "if TEST_MODE:\n",
    "    CUBE_DIMS_VAR = ['var_id']\n",
    "\n",
    "CUBE_TILEDB_DIMS = CUBE_DIMS_VAR + CUBE_TILEDB_DIMS_OBS\n",
    "\n",
    "ESTIMATOR_NAMES = ['nnz', 'n_obs', 'min', 'max', 'sum', 'mean', 'sem', 'var', 'sev', 'selv']\n",
    "\n",
    "\n",
    "CUBE_SCHEMA = ArraySchema(\n",
    "  domain=Domain(*[\n",
    "    Dim(name=dim_name, dtype=\"ascii\", filters=FilterList([ZstdFilter(level=-1), ]))\n",
    "    for dim_name in CUBE_TILEDB_DIMS\n",
    "  ]),\n",
    "  attrs=[Attr(name=attr_name, dtype='ascii', nullable=False, filters=FilterList([ZstdFilter(level=-1), ]))\n",
    "         for attr_name in CUBE_TILEDB_ATTRS_OBS] +\n",
    "        [Attr(name=estimator_name, dtype='float64', var=False, nullable=False, filters=FilterList([ZstdFilter(level=-1), ]))\n",
    "         for estimator_name in ESTIMATOR_NAMES],\n",
    "  cell_order='row-major',\n",
    "  tile_order='row-major',\n",
    "  capacity=10000,\n",
    "  sparse=True,\n",
    "  allows_duplicates=True,\n",
    ")\n"
   ]
  },
  {
   "cell_type": "code",
   "execution_count": null,
   "id": "7935cbd1-4589-44a4-96d5-0368b2c642b3",
   "metadata": {
    "tags": []
   },
   "outputs": [],
   "source": [
    "obs_df = query.obs().concat().to_pandas()"
   ]
  },
  {
   "cell_type": "code",
   "execution_count": null,
   "id": "3c49edb1-41a4-4ec6-8ae8-ada74220814c",
   "metadata": {
    "tags": []
   },
   "outputs": [],
   "source": [
    "obs_df.head(5)"
   ]
  },
  {
   "cell_type": "code",
   "execution_count": null,
   "id": "cb359039-10ef-49ca-8891-351a462dd02f",
   "metadata": {
    "tags": []
   },
   "outputs": [],
   "source": [
    "donor_counts = dict(obs_df.groupby('donor_id').size())"
   ]
  },
  {
   "cell_type": "markdown",
   "id": "5a783919-5305-4c5e-804c-5a00eb4da7dd",
   "metadata": {},
   "source": [
    "### Using 3 datasets"
   ]
  },
  {
   "cell_type": "code",
   "execution_count": null,
   "id": "df934f4a-697a-4831-9654-a072fe09a427",
   "metadata": {
    "tags": []
   },
   "outputs": [],
   "source": [
    "cube_path = '/home/ubuntu/Github/memento-cxg/'\n",
    "save_path = '/home/ubuntu/results/'"
   ]
  },
  {
   "cell_type": "code",
   "execution_count": null,
   "id": "5b4208c0-b459-443a-8db2-aa678dd904b3",
   "metadata": {
    "tags": []
   },
   "outputs": [],
   "source": [
    "all_estimators = tiledb.open(cube_path + 'estimators_cube_dcs').df[:]\\\n",
    "    .rename(columns={\n",
    "    'feature_id':'cell_type',\n",
    "    'cell_type':'dataset_id',\n",
    "    'dataset_id':'feature_id',\n",
    "})"
   ]
  },
  {
   "cell_type": "code",
   "execution_count": null,
   "id": "c178a254-46a8-4161-a2be-de04b4128b63",
   "metadata": {
    "tags": []
   },
   "outputs": [],
   "source": [
    "three_dataset_result = compare_dcs(all_estimators)"
   ]
  },
  {
   "cell_type": "code",
   "execution_count": null,
   "id": "ec017863-40c5-4bea-ab5b-c0d49ec72dd2",
   "metadata": {
    "tags": []
   },
   "outputs": [],
   "source": [
    "three_dataset_result.to_csv(save_path + 'three_datasets.csv')"
   ]
  },
  {
   "cell_type": "markdown",
   "id": "fe3aa51b-bb1f-40dc-b83d-e6c0b48a0d69",
   "metadata": {},
   "source": [
    "### Using 1 datasets"
   ]
  },
  {
   "cell_type": "code",
   "execution_count": null,
   "id": "52cbcbf8-646a-4f80-8dff-87f15cfb7d46",
   "metadata": {
    "tags": []
   },
   "outputs": [],
   "source": [
    "dataset_ids_to_query = ['c7775e88-49bf-4ba2-a03b-93f00447c958', '218acb0f-9f2f-4f76-b90b-15a4b7c7f629', '4c4cd77c-8fee-4836-9145-16562a8782fe']\n"
   ]
  },
  {
   "cell_type": "code",
   "execution_count": null,
   "id": "10939272-8d53-4329-9523-b8261a3d848f",
   "metadata": {
    "tags": []
   },
   "outputs": [],
   "source": [
    "all_estimators = tiledb.open(cube_path + 'estimators_cube_dcs').df[:]\\\n",
    "    .rename(columns={\n",
    "    'feature_id':'cell_type',\n",
    "    'cell_type':'dataset_id',\n",
    "    'dataset_id':'feature_id',\n",
    "})"
   ]
  },
  {
   "cell_type": "code",
   "execution_count": null,
   "id": "9c151713-c814-4eee-986f-d25f24708add",
   "metadata": {},
   "outputs": [],
   "source": [
    "for dataset in dataset_ids_to_query:\n",
    "    \n",
    "    dataset_estimators = all_estimators.query(f'dataset_id == \"{dataset}\"')\n",
    "    \n",
    "    dataset_result = compare_dcs(dataset_estimators)\n",
    "    break\n",
    "    \n",
    "    dataset_result.to_csv(save_path + f'{dataset}.csv')"
   ]
  },
  {
   "cell_type": "code",
   "execution_count": null,
   "id": "8874795d-4294-45be-ba27-0aeaed6d0993",
   "metadata": {
    "tags": []
   },
   "outputs": [],
   "source": [
    "filtered=dataset_result.query('coef > 1 | coef < -1')"
   ]
  },
  {
   "cell_type": "code",
   "execution_count": null,
   "id": "4889d2ad-1b96-4aa3-b888-ee48a12942dc",
   "metadata": {},
   "outputs": [],
   "source": [
    "pv = filtered['pval'].values\n",
    "pv = np.sort(pv)"
   ]
  },
  {
   "cell_type": "code",
   "execution_count": null,
   "id": "2663d23e-8946-4df0-a776-cfad218cc397",
   "metadata": {
    "tags": []
   },
   "outputs": [],
   "source": [
    "ref = np.linspace(0, 1, pv.shape[0])"
   ]
  },
  {
   "cell_type": "code",
   "execution_count": null,
   "id": "983e3c4f-15cc-4cd8-a440-3525a7dc50ea",
   "metadata": {},
   "outputs": [],
   "source": [
    "plt.scatter(-np.log10(ref), -np.log10(pv))\n",
    "plt.plot([0, 20], [0, 20])"
   ]
  },
  {
   "cell_type": "markdown",
   "id": "5233dabe-ef76-4fe1-a758-39cdde8259db",
   "metadata": {},
   "source": [
    "### Randomly shuffled dataset (not0"
   ]
  },
  {
   "cell_type": "code",
   "execution_count": null,
   "id": "a90b3d81-e8b5-4bf0-932e-5339140eef63",
   "metadata": {
    "tags": []
   },
   "outputs": [],
   "source": [
    "all_shuffled_estimators.query('dataset_id == \"c7775e88-49bf-4ba2-a03b-93f00447c958\"')"
   ]
  },
  {
   "cell_type": "code",
   "execution_count": null,
   "id": "44ae388c-5110-4cde-a780-d63c815618fd",
   "metadata": {
    "tags": []
   },
   "outputs": [],
   "source": [
    "all_shuffled_estimators = tiledb.open(cube_path + 'estimators_cube_dcs').df[:]\\\n",
    "    .rename(columns={\n",
    "    'feature_id':'cell_type',\n",
    "    'cell_type':'dataset_id',\n",
    "    'dataset_id':'feature_id',\n",
    "})"
   ]
  },
  {
   "cell_type": "code",
   "execution_count": null,
   "id": "4619c52b-e211-4431-aabc-9df35be12585",
   "metadata": {
    "tags": []
   },
   "outputs": [],
   "source": [
    "# shuffled_dataset_result = compare_dcs(all_shuffled_estimators)"
   ]
  },
  {
   "cell_type": "code",
   "execution_count": null,
   "id": "637cb602-3578-42e8-a2db-f5267dbf7eb0",
   "metadata": {
    "tags": []
   },
   "outputs": [],
   "source": [
    "def treatment_assignment(row):\n",
    "\n",
    "    ct = row['cell_type']\n",
    "    if 'plasma' in ct:\n",
    "        return 'pdc'\n",
    "    if 'conven' in ct or 'myeloid' in ct:\n",
    "        return 'cdc'\n",
    "    else:\n",
    "        return 'unknown'\n",
    "\n",
    "all_shuffled_estimators['treatment'] = all_shuffled_estimators.apply(treatment_assignment, axis=1)\n",
    "estimators = all_shuffled_estimators.query('treatment != \"unknown\"').copy()\n",
    "\n",
    "donors_to_use = estimators[['cell_type', 'donor_id']].drop_duplicates().groupby('donor_id').size()\n",
    "donors_to_use = donors_to_use[donors_to_use > 1].index.tolist()\n",
    "estimators = estimators.query('donor_id in @donors_to_use').copy()\n",
    "\n",
    "\n",
    "\n",
    "CUBE_TILEDB_DIMS_OBS = [\n",
    "    \"cell_type\",\n",
    "    \"dataset_id\",\n",
    "]\n",
    "\n",
    "CUBE_TILEDB_ATTRS_OBS = [\n",
    "    \"assay\",\n",
    "    \"suspension_type\",\n",
    "    \"donor_id\",\n",
    "    \"disease\",\n",
    "    \"sex\"\n",
    "]\n",
    "\n",
    "CUBE_LOGICAL_DIMS_OBS = CUBE_TILEDB_DIMS_OBS + CUBE_TILEDB_ATTRS_OBS\n",
    "\n",
    "DE_TREATMENT = 'treatment'\n",
    "DE_COVARIATES = ['donor_id']\n",
    "DE_VARIABLES = [DE_TREATMENT] + DE_COVARIATES\n",
    "\n",
    "names = estimators[DE_TREATMENT].copy()\n",
    "for col in DE_COVARIATES:\n",
    "    names += '_' + estimators[col]\n",
    "estimators['group_name'] = names.tolist()\n",
    "\n",
    "estimators = estimators.drop_duplicates(subset=['group_name', 'feature_id'])\n",
    "\n",
    "features = estimators['feature_id'].drop_duplicates().tolist()\n",
    "\n",
    "# This line doesnt do anything for actual run, just for shuffled\n",
    "groups = estimators.drop_duplicates(subset='group_name').set_index('group_name')\n",
    "\n",
    "# mean = estimators.pivot(index='group_name', columns='feature_id', values='mean')\n",
    "# se_mean = estimators.pivot(index='group_name', columns='feature_id', values='sem')\n",
    "# cell_counts = groups['n_obs'].sort_index().values\n",
    "\n",
    "# # Filter genes for actually expressed ones\n",
    "# genes_to_test = mean.columns[mean.isnull().values.mean(axis=0) < 0.6]\n",
    "# mean = mean[genes_to_test]\n",
    "# se_mean = se_mean[genes_to_test]\n",
    "\n",
    "# # design = pd.get_dummies(groups[DE_VARIABLES], drop_first=True).astype(int)\n",
    "\n",
    "# design = pd.get_dummies(groups[DE_VARIABLES], drop_first=True, columns=['treatment'])\n",
    "# design['constant'] = 1"
   ]
  },
  {
   "cell_type": "code",
   "execution_count": null,
   "id": "27458322-08e6-4ba1-a289-f67f318ba622",
   "metadata": {},
   "outputs": [],
   "source": [
    "# problematic '1031' '1022',\n",
    "# good '1004', '1014' '1015', '1019', '1039'"
   ]
  },
  {
   "cell_type": "code",
   "execution_count": null,
   "id": "f11a5529-2c83-4b64-88d5-e91faca7fe24",
   "metadata": {
    "tags": []
   },
   "outputs": [],
   "source": [
    "\n",
    "one_donor_estimators = estimators#.query(f'donor_id in @donor_to_check')\n",
    "\n",
    "groups = one_donor_estimators.drop_duplicates(subset='group_name').set_index('group_name')\n"
   ]
  },
  {
   "cell_type": "code",
   "execution_count": null,
   "id": "440d2fda-7d75-45da-918c-fa349446fab9",
   "metadata": {
    "tags": []
   },
   "outputs": [],
   "source": [
    "mean = one_donor_estimators.pivot(index='group_name', columns='feature_id', values='mean')\n",
    "se_mean = one_donor_estimators.pivot(index='group_name', columns='feature_id', values='sem')\n",
    "cell_counts = groups['n_obs'].sort_index().values\n",
    "\n",
    "# Filter genes for actually expressed ones\n",
    "genes_to_test = mean.columns[mean.isnull().values.mean(axis=0) < 0.7]\n",
    "mean = mean[genes_to_test]\n",
    "se_mean = se_mean[genes_to_test]"
   ]
  },
  {
   "cell_type": "code",
   "execution_count": null,
   "id": "de9434bd-6fea-4570-9548-12fbd60cd73b",
   "metadata": {
    "tags": []
   },
   "outputs": [],
   "source": [
    "# design = pd.get_dummies(groups[DE_VARIABLES], drop_first=True).astype(int)\n",
    "\n",
    "LFC_THRESHOLD = 0.5\n",
    "\n",
    "\n",
    "design = pd.get_dummies(groups[DE_VARIABLES], drop_first=True, columns=['treatment'])\n",
    "design['constant'] = 1\n",
    "\n",
    "print(len(genes_to_test))\n",
    "\n",
    "# meta = \n",
    "\n",
    "def get_final_design_matrix(design):\n",
    "    cov_df = design.iloc[:, 1:]\n",
    "    cov_df -= cov_df.mean(axis=0)\n",
    "    stim_df = design.iloc[:, [0]]\n",
    "    interaction_df = cov_df*stim_df[['treatment_pdc']].values\n",
    "    interaction_df.columns=[f'interaction_{col}' for col in cov_df.columns]\n",
    "    cov_df = pd.concat([cov_df, interaction_df], axis=1)\n",
    "    cov_df = sm.add_constant(cov_df)\n",
    "    return  pd.concat([stim_df, cov_df], axis=1).values.astype(float)\n",
    "\n",
    "\n",
    "def wls(X, y, n, v, tau2=0, thresh=1):\n",
    "\n",
    "    from sklearn.linear_model import LinearRegression\n",
    "    \n",
    "    # fit WLS using sample_weights\n",
    "    WLS = LinearRegression(fit_intercept=False)\n",
    "    WLS.fit(X, y)\n",
    "    sample_err = ((WLS.predict(X) - y)**2).mean()\n",
    "    # print(WLS.coef_)\n",
    "\n",
    "    coef = WLS.coef_[0]\n",
    "\n",
    "    # W = np.diag(1/ (v) )\n",
    "    W = 1/v\n",
    "    try:\n",
    "        beta_var_hat = np.diag(np.linalg.pinv((X.T *W)@X ))\n",
    "    except:\n",
    "        return coef, 0, 0\n",
    "    # print(beta_var_hat)\n",
    "    se = np.sqrt( beta_var_hat[0] )\n",
    "    \n",
    "    if np.abs(coef) < LFC_THRESHOLD:\n",
    "        z = 0\n",
    "        pv = 1\n",
    "    else:\n",
    "        z = (np.abs(coef)-LFC_THRESHOLD)/se\n",
    "        pv = stats.norm.sf(np.abs(z))*2\n",
    "\n",
    "    return coef, z, pv\n",
    "\n",
    "# def resample_donors(X, y, n, v):\n",
    "\n",
    "from sklearn.linear_model import LinearRegression\n",
    "\n",
    "# %%time\n",
    "regression_de_result = []\n",
    "manual_de_result = []\n",
    "\n",
    "for feature in genes_to_test: # Can be vectorized heavily, showing for 1K genes\n",
    "\n",
    "    m = mean[feature].values\n",
    "    sem = se_mean[feature].values\n",
    "\n",
    "    # Transform to log space (alternatively can resample in log space)\n",
    "    lm = np.log(m)\n",
    "    selm = (np.log(m+sem)-np.log(m-sem))/2\n",
    "\n",
    "    sample_idxs = np.isfinite(m) & np.isfinite(sem)\n",
    "\n",
    "    sample_design = design[['treatment_pdc', 'donor_id']].iloc[sample_idxs]\n",
    "\n",
    "    donors_to_use_ = sample_design.groupby('donor_id').size()\n",
    "    donors_to_use_ = donors_to_use_[donors_to_use_ > 1].index.tolist()\n",
    "\n",
    "    final_sample_idxs = sample_design['donor_id'].isin(donors_to_use_).values\n",
    "\n",
    "    final_sample_idxs = np.ones(final_sample_idxs.shape[0]).astype(bool)\n",
    "\n",
    "\n",
    "    X, y, n, v = (\n",
    "        get_final_design_matrix(pd.get_dummies(sample_design.iloc[final_sample_idxs], columns=['donor_id'], drop_first=True)), \n",
    "        lm[sample_idxs][final_sample_idxs], \n",
    "        cell_counts[sample_idxs][final_sample_idxs], \n",
    "        selm[sample_idxs][final_sample_idxs]**2)\n",
    "\n",
    "    \n",
    "    # if X.shape[0] != X.shape[1]:\n",
    "    #     continue\n",
    "\n",
    "    coef1, z1, pv1 = wls(X, y, n, v)\n",
    "    regression_de_result.append((feature, coef1, z1, pv1))\n",
    "\n",
    "\n",
    "manual_de_result_wls = pd.DataFrame(manual_de_result, columns=['feature_id','coef', 'z', 'pval']).set_index('feature_id')\n",
    "regression_de_result_wls = pd.DataFrame(regression_de_result, columns=['feature_id','coef', 'z', 'pval']).set_index('feature_id')"
   ]
  },
  {
   "cell_type": "code",
   "execution_count": null,
   "id": "b23d3f2c-a869-4542-87eb-83574b216c2b",
   "metadata": {
    "tags": []
   },
   "outputs": [],
   "source": [
    "regression_de_result_wls"
   ]
  },
  {
   "cell_type": "code",
   "execution_count": null,
   "id": "8700495d-2ec5-4052-bd01-f1794db521e5",
   "metadata": {
    "tags": []
   },
   "outputs": [],
   "source": [
    "sns.kdeplot(regression_de_result_wls['coef'])"
   ]
  },
  {
   "cell_type": "code",
   "execution_count": null,
   "id": "2f05f89f-a127-4e71-bad7-5b5901a8ef7d",
   "metadata": {
    "tags": []
   },
   "outputs": [],
   "source": [
    "regression_de_result_wls.query('z != 0')['pval'].hist(bins=10, density=True)"
   ]
  },
  {
   "cell_type": "code",
   "execution_count": null,
   "id": "005bdc8a-0564-4317-99ab-9ca1e1fc8777",
   "metadata": {},
   "outputs": [],
   "source": []
  },
  {
   "cell_type": "code",
   "execution_count": null,
   "id": "15349ee2-9262-4ec8-a5ee-e86da8f2ed18",
   "metadata": {},
   "outputs": [],
   "source": []
  },
  {
   "cell_type": "code",
   "execution_count": null,
   "id": "f23216e9-39b4-46a8-bc8a-f8c7dd93d868",
   "metadata": {},
   "outputs": [],
   "source": []
  },
  {
   "cell_type": "code",
   "execution_count": null,
   "id": "cde9369b-0b2b-4d31-bde8-7983a117abcc",
   "metadata": {},
   "outputs": [],
   "source": []
  },
  {
   "cell_type": "code",
   "execution_count": null,
   "id": "62b4c57e-ecb3-4c77-8eae-9657c078a301",
   "metadata": {},
   "outputs": [],
   "source": []
  },
  {
   "cell_type": "code",
   "execution_count": null,
   "id": "35f8a930-919e-4dc8-970f-68c855b44fd0",
   "metadata": {},
   "outputs": [],
   "source": []
  },
  {
   "cell_type": "code",
   "execution_count": null,
   "id": "285591c1-d8de-403c-94b8-6da0b5ca5938",
   "metadata": {},
   "outputs": [],
   "source": [
    "_, manual_de_result_wls['fdr'] = fdrcorrection(manual_de_result_wls['pval'])"
   ]
  },
  {
   "cell_type": "code",
   "execution_count": null,
   "id": "9d272312-2808-49bf-b92c-b09c7acec265",
   "metadata": {
    "tags": []
   },
   "outputs": [],
   "source": [
    "manual_de_result_wls.query('fdr < 0.1').sort_values('fdr')"
   ]
  },
  {
   "cell_type": "code",
   "execution_count": null,
   "id": "908b7386-5490-479c-b881-899afe986df3",
   "metadata": {},
   "outputs": [],
   "source": []
  },
  {
   "cell_type": "code",
   "execution_count": null,
   "id": "171613d5-234b-4d89-ad87-b644f374bc54",
   "metadata": {},
   "outputs": [],
   "source": []
  },
  {
   "cell_type": "code",
   "execution_count": null,
   "id": "a3a2f459-a84f-4cd8-a462-52a2e78b5bf3",
   "metadata": {},
   "outputs": [],
   "source": []
  },
  {
   "cell_type": "code",
   "execution_count": null,
   "id": "10a0824b-480b-48e7-aaff-0f39807b7a67",
   "metadata": {
    "tags": []
   },
   "outputs": [],
   "source": [
    "mean"
   ]
  },
  {
   "cell_type": "code",
   "execution_count": null,
   "id": "5c18ca19-7190-4cc6-bcb9-2d1f6c581e89",
   "metadata": {},
   "outputs": [],
   "source": []
  },
  {
   "cell_type": "code",
   "execution_count": null,
   "id": "b5021e2a-133e-45e9-a218-6a21fbb09406",
   "metadata": {},
   "outputs": [],
   "source": []
  },
  {
   "cell_type": "code",
   "execution_count": null,
   "id": "e221554e-02a9-4b56-99ae-197b4e32654c",
   "metadata": {},
   "outputs": [],
   "source": []
  },
  {
   "cell_type": "code",
   "execution_count": null,
   "id": "3bc95bca-ce15-43f3-8937-0a1ba184b601",
   "metadata": {},
   "outputs": [],
   "source": []
  },
  {
   "cell_type": "code",
   "execution_count": null,
   "id": "e10e6573-7c16-45bd-b172-03b859bbe16b",
   "metadata": {},
   "outputs": [],
   "source": []
  },
  {
   "cell_type": "code",
   "execution_count": null,
   "id": "8f4ca3e9-e63e-40bd-84ec-f36626adf151",
   "metadata": {
    "tags": []
   },
   "outputs": [],
   "source": [
    "(shuffled_dataset_result['pval']*2).hist()"
   ]
  },
  {
   "cell_type": "code",
   "execution_count": null,
   "id": "650cca71-ffb5-46f9-8ff3-90defb6118a0",
   "metadata": {},
   "outputs": [],
   "source": []
  },
  {
   "cell_type": "code",
   "execution_count": null,
   "id": "4cc5ea91-7a2c-4a3b-8695-a60124d97012",
   "metadata": {},
   "outputs": [],
   "source": []
  },
  {
   "cell_type": "code",
   "execution_count": null,
   "id": "13f2cb5a-fff4-4837-9f7d-7e6ee8a6825b",
   "metadata": {},
   "outputs": [],
   "source": []
  },
  {
   "cell_type": "code",
   "execution_count": null,
   "id": "ad99ce04-02cc-4094-bd10-466412d9918f",
   "metadata": {},
   "outputs": [],
   "source": []
  },
  {
   "cell_type": "code",
   "execution_count": null,
   "id": "53347087-dbc6-41a8-b6e7-263f2f9d0364",
   "metadata": {
    "tags": []
   },
   "outputs": [],
   "source": [
    "def treatment_assignment(row):\n",
    "    \n",
    "    ct = row['cell_type']\n",
    "    if 'plasma' in ct:\n",
    "        return 'pdc'\n",
    "    if 'conven' in ct or 'myeloid' in ct:\n",
    "        return 'cdc'\n",
    "    else:\n",
    "        return 'unknown'\n",
    "\n",
    "all_estimators['treatment'] = all_estimators.apply(treatment_assignment, axis=1)\n",
    "estimators = all_estimators.query('treatment != \"unknown\"').copy()\n",
    "\n",
    "donors_to_use = estimators[['cell_type', 'donor_id']].drop_duplicates().groupby('donor_id').size()\n",
    "donors_to_use = donors_to_use[donors_to_use > 1].index.tolist()\n",
    "estimators = estimators.query('donor_id in @donors_to_use').copy()\n",
    "\n",
    "\n",
    "\n",
    "CUBE_TILEDB_DIMS_OBS = [\n",
    "    \"cell_type\",\n",
    "    \"dataset_id\",\n",
    "]\n",
    "\n",
    "CUBE_TILEDB_ATTRS_OBS = [\n",
    "    \"assay\",\n",
    "    \"suspension_type\",\n",
    "    \"donor_id\",\n",
    "    \"disease\",\n",
    "    \"sex\"\n",
    "]\n",
    "\n",
    "CUBE_LOGICAL_DIMS_OBS = CUBE_TILEDB_DIMS_OBS + CUBE_TILEDB_ATTRS_OBS\n",
    "\n",
    "DE_TREATMENT = 'treatment'\n",
    "DE_COVARIATES = ['donor_id']\n",
    "DE_VARIABLES = [DE_TREATMENT] + DE_COVARIATES\n",
    "\n",
    "names = estimators[DE_TREATMENT].copy()\n",
    "for col in DE_COVARIATES:\n",
    "    names += '_' + estimators[col]\n",
    "estimators['group_name'] = names.tolist()\n",
    "\n",
    "estimators = estimators.drop_duplicates(subset=['group_name', 'feature_id'])\n",
    "\n",
    "features = estimators['feature_id'].drop_duplicates().tolist()\n",
    "\n",
    "mean = estimators.pivot(index='group_name', columns='feature_id', values='mean')\n",
    "se_mean = estimators.pivot(index='group_name', columns='feature_id', values='sem')\n",
    "cell_counts = groups['n_obs'].sort_index().values\n",
    "\n",
    "# Filter genes for actually expressed ones\n",
    "genes_to_test = mean.columns[mean.isnull().values.mean(axis=0) < 0.6]\n",
    "mean = mean[genes_to_test]\n",
    "se_mean = se_mean[genes_to_test]\n",
    "\n",
    "# design = pd.get_dummies(groups[DE_VARIABLES], drop_first=True).astype(int)\n",
    "\n",
    "design = pd.get_dummies(groups[DE_VARIABLES], drop_first=True, columns=['treatment'])\n",
    "design['constant'] = 1\n",
    "\n",
    "# meta = \n",
    "\n",
    "def get_final_design_matrix(design):\n",
    "    cov_df = design.iloc[:, 1:]\n",
    "    cov_df -= cov_df.mean(axis=0)\n",
    "    stim_df = design.iloc[:, [0]]\n",
    "    interaction_df = cov_df*stim_df[['treatment_pdc']].values\n",
    "    interaction_df.columns=[f'interaction_{col}' for col in cov_df.columns]\n",
    "    cov_df = pd.concat([cov_df, interaction_df], axis=1)\n",
    "    cov_df = sm.add_constant(cov_df)\n",
    "    return  pd.concat([stim_df, cov_df], axis=1).values.astype(float)\n",
    "    \n",
    "\n",
    "def wls(X, y, n, v, tau2=0):\n",
    "    \n",
    "    from sklearn.linear_model import LinearRegression\n",
    "    \n",
    "    # fit WLS using sample_weights\n",
    "    WLS = LinearRegression(fit_intercept=False)\n",
    "    WLS.fit(X, y, sample_weight=n)\n",
    "    sample_err = ((WLS.predict(X) - y)**2).mean()\n",
    "\n",
    "    coef = WLS.coef_[0]\n",
    "\n",
    "    W = np.diag(1/ (v+tau2) )\n",
    "    beta_var_hat = np.diag(np.linalg.pinv(X.T@W@X))\n",
    "    se = np.sqrt( beta_var_hat[0] )\n",
    "\n",
    "    z = coef/se\n",
    "    pv = stats.norm.sf(np.abs(z))*2\n",
    "    \n",
    "    return coef, z, pv\n",
    "\n",
    "# def resample_donors(X, y, n, v):\n",
    "\n",
    "from sklearn.linear_model import LinearRegression\n",
    "\n",
    "# %%time\n",
    "de_result = []\n",
    "for feature in genes_to_test[:2000]: # Can be vectorized heavily, showing for 1K genes\n",
    "    \n",
    "    m = mean[feature].values\n",
    "    sem = se_mean[feature].values\n",
    "    \n",
    "    # Transform to log space (alternatively can resample in log space)\n",
    "    lm = np.log(m)\n",
    "    selm = (np.log(m+sem)-np.log(m-sem))/2\n",
    "\n",
    "    sample_idxs = np.isfinite(m) & np.isfinite(sem)\n",
    "    \n",
    "    sample_design = design[['treatment_pdc', 'donor_id']].iloc[sample_idxs]\n",
    "    \n",
    "    donors_to_use_ = sample_design.groupby('donor_id').size()\n",
    "    donors_to_use_ = donors_to_use_[donors_to_use_ > 1].index.tolist()\n",
    "    \n",
    "    final_sample_idxs = sample_design['donor_id'].isin(donors_to_use_).values\n",
    "    \n",
    "    # final_sample_idxs = np.ones(final_sample_idxs.shape[0]).astype(bool)\n",
    "    \n",
    "\n",
    "    X, y, n, v = (\n",
    "        get_final_design_matrix(pd.get_dummies(sample_design.iloc[final_sample_idxs], columns=['donor_id'], drop_first=True)), \n",
    "        lm[sample_idxs][final_sample_idxs], \n",
    "        cell_counts[sample_idxs][final_sample_idxs], \n",
    "        selm[sample_idxs][final_sample_idxs]**2)\n",
    "    assert X.shape[0] == X.shape[1]\n",
    "\n",
    "    coef, z, pv = wls(X, y, n, v)\n",
    "    \n",
    "    de_result.append((feature, coef, z, pv))\n",
    "\n",
    "de_result_wls = pd.DataFrame(de_result, columns=['feature_id','coef', 'z', 'pval']).set_index('feature_id')\n",
    "de_result_wls.to_csv(save_path + 'three_datasets.csv')"
   ]
  },
  {
   "cell_type": "code",
   "execution_count": null,
   "id": "9b7c13a8-f505-4a80-9943-7b68b4d67235",
   "metadata": {
    "tags": []
   },
   "outputs": [],
   "source": [
    "_, de_result_wls['fdr'] = fdrcorrection(de_result_wls['pval'])"
   ]
  },
  {
   "cell_type": "code",
   "execution_count": null,
   "id": "54f26839-9f6e-4c0f-9bd5-18edf9619c22",
   "metadata": {
    "tags": []
   },
   "outputs": [],
   "source": [
    "de_result_wls['pval'].hist(density=True)"
   ]
  },
  {
   "cell_type": "markdown",
   "id": "c3c9bdfa-d2ed-41bf-b387-d08ffd21e5a5",
   "metadata": {},
   "source": [
    "### Using 3 datasets"
   ]
  },
  {
   "cell_type": "code",
   "execution_count": null,
   "id": "56e0173a-61a1-43b4-b47a-6645f6f30287",
   "metadata": {
    "tags": []
   },
   "outputs": [],
   "source": [
    "cube_path = '/home/ubuntu/Github/memento-cxg/'\n",
    "save_path = '/home/ubuntu/results/'"
   ]
  },
  {
   "cell_type": "code",
   "execution_count": null,
   "id": "9d21e105-2b62-4b12-ac1f-4b2bd6a6f2fb",
   "metadata": {
    "tags": []
   },
   "outputs": [],
   "source": [
    "all_estimators = tiledb.open(cube_path + 'estimators_cube_2').df[:]\\\n",
    "    .rename(columns={\n",
    "    'feature_id':'cell_type',\n",
    "    'cell_type':'dataset_id',\n",
    "    'dataset_id':'feature_id',\n",
    "})"
   ]
  },
  {
   "cell_type": "code",
   "execution_count": null,
   "id": "6f896384-9c7a-4928-94d7-629378ded674",
   "metadata": {
    "tags": []
   },
   "outputs": [],
   "source": [
    "def treatment_assignment(row):\n",
    "    \n",
    "    ct = row['cell_type']\n",
    "    if 'plasma' in ct:\n",
    "        return 'pdc'\n",
    "    if 'conven' in ct or 'myeloid' in ct:\n",
    "        return 'cdc'\n",
    "    else:\n",
    "        return 'unknown'"
   ]
  },
  {
   "cell_type": "code",
   "execution_count": null,
   "id": "82e5632e-526f-4a6f-bf3b-ee3d277a7269",
   "metadata": {
    "tags": []
   },
   "outputs": [],
   "source": [
    "all_estimators['treatment'] = all_estimators.apply(treatment_assignment, axis=1)\n",
    "estimators = all_estimators.query('treatment != \"unknown\"').copy()"
   ]
  },
  {
   "cell_type": "code",
   "execution_count": null,
   "id": "972e7dca-19e6-480a-9c68-74bc8236f074",
   "metadata": {
    "tags": []
   },
   "outputs": [],
   "source": [
    "donors_to_use = estimators[['cell_type', 'donor_id']].drop_duplicates().groupby('donor_id').size()\n",
    "donors_to_use = donors_to_use[donors_to_use > 1].index.tolist()\n",
    "estimators = estimators.query('donor_id in @donors_to_use').copy()\n",
    "\n"
   ]
  },
  {
   "cell_type": "code",
   "execution_count": null,
   "id": "2637fbfc-ee43-4987-a9e7-f4517345322a",
   "metadata": {
    "tags": []
   },
   "outputs": [],
   "source": [
    "CUBE_TILEDB_DIMS_OBS = [\n",
    "    \"cell_type\",\n",
    "    \"dataset_id\",\n",
    "]\n",
    "\n",
    "CUBE_TILEDB_ATTRS_OBS = [\n",
    "    \"assay\",\n",
    "    \"suspension_type\",\n",
    "    \"donor_id\",\n",
    "    \"disease\",\n",
    "    \"sex\"\n",
    "]\n",
    "\n",
    "CUBE_LOGICAL_DIMS_OBS = CUBE_TILEDB_DIMS_OBS + CUBE_TILEDB_ATTRS_OBS\n",
    "\n",
    "DE_TREATMENT = 'treatment'\n",
    "DE_COVARIATES = ['donor_id']\n",
    "DE_VARIABLES = [DE_TREATMENT] + DE_COVARIATES"
   ]
  },
  {
   "cell_type": "code",
   "execution_count": null,
   "id": "64ec60f6-3970-4925-8997-817cd4ec30a1",
   "metadata": {
    "tags": []
   },
   "outputs": [],
   "source": [
    "names = estimators[DE_TREATMENT].copy()\n",
    "for col in DE_COVARIATES:\n",
    "    names += '_' + estimators[col]\n",
    "estimators['group_name'] = names.tolist()\n",
    "\n",
    "estimators = estimators.drop_duplicates(subset=['group_name', 'feature_id'])"
   ]
  },
  {
   "cell_type": "code",
   "execution_count": null,
   "id": "70fb68df-ffaf-4f6f-9133-9881fa000fb0",
   "metadata": {
    "tags": []
   },
   "outputs": [],
   "source": [
    "features = estimators['feature_id'].drop_duplicates().tolist()\n",
    "\n",
    "# This line doesnt do anything for actual run, just for shuffled\n",
    "groups = estimators.drop_duplicates(subset='group_name').set_index('group_name')"
   ]
  },
  {
   "cell_type": "code",
   "execution_count": null,
   "id": "1ea4a95b-0f3f-437c-8b8c-b37ff712a1ba",
   "metadata": {
    "tags": []
   },
   "outputs": [],
   "source": [
    "mean = estimators.pivot(index='group_name', columns='feature_id', values='mean')\n",
    "se_mean = estimators.pivot(index='group_name', columns='feature_id', values='sem')\n",
    "cell_counts = groups['n_obs'].sort_index().values\n",
    "\n",
    "# Filter genes for actually expressed ones\n",
    "genes_to_test = mean.columns[mean.isnull().values.mean(axis=0) < 0.6]\n",
    "mean = mean[genes_to_test]\n",
    "se_mean = se_mean[genes_to_test]"
   ]
  },
  {
   "cell_type": "code",
   "execution_count": null,
   "id": "277294ad-788e-4140-aed4-cf821cf6f612",
   "metadata": {
    "tags": []
   },
   "outputs": [],
   "source": [
    "# design = pd.get_dummies(groups[DE_VARIABLES], drop_first=True).astype(int)\n",
    "\n",
    "design = pd.get_dummies(groups[DE_VARIABLES], drop_first=True, columns=['treatment'])\n",
    "design['constant'] = 1\n",
    "\n",
    "# meta = "
   ]
  },
  {
   "cell_type": "markdown",
   "id": "85001329-24f2-4115-a261-96136d3967d8",
   "metadata": {},
   "source": [
    "### Run DE"
   ]
  },
  {
   "cell_type": "code",
   "execution_count": null,
   "id": "49237dee-f8fd-4a32-b9a7-203864e2472d",
   "metadata": {
    "tags": []
   },
   "outputs": [],
   "source": [
    "def get_final_design_matrix(design):\n",
    "    cov_df = design.iloc[:, 1:]\n",
    "    cov_df -= cov_df.mean(axis=0)\n",
    "    stim_df = design.iloc[:, [0]]\n",
    "    interaction_df = cov_df*stim_df[['treatment_pdc']].values\n",
    "    interaction_df.columns=[f'interaction_{col}' for col in cov_df.columns]\n",
    "    cov_df = pd.concat([cov_df, interaction_df], axis=1)\n",
    "    cov_df = sm.add_constant(cov_df)\n",
    "    return  pd.concat([stim_df, cov_df], axis=1).values.astype(float)\n",
    "    "
   ]
  },
  {
   "cell_type": "code",
   "execution_count": null,
   "id": "e0d28b72-7ae7-4094-8e47-1fc1699fce95",
   "metadata": {
    "tags": []
   },
   "outputs": [],
   "source": [
    "def wls(X, y, n, v, tau2=0):\n",
    "    \n",
    "    from sklearn.linear_model import LinearRegression\n",
    "    \n",
    "    # fit WLS using sample_weights\n",
    "    WLS = LinearRegression(fit_intercept=False)\n",
    "    WLS.fit(X, y, sample_weight=n)\n",
    "    sample_err = ((WLS.predict(X) - y)**2).mean()\n",
    "\n",
    "    coef = WLS.coef_[0]\n",
    "\n",
    "    W = np.diag(1/ (v+tau2) )\n",
    "    beta_var_hat = np.diag(np.linalg.pinv(X.T@W@X))\n",
    "    se = np.sqrt( beta_var_hat[0] )\n",
    "\n",
    "    z = coef/se\n",
    "    pv = stats.norm.sf(np.abs(z))*2\n",
    "    \n",
    "    return coef, z, pv"
   ]
  },
  {
   "cell_type": "code",
   "execution_count": null,
   "id": "6ca52150-941f-4481-bb8c-e39a8e309dee",
   "metadata": {
    "tags": []
   },
   "outputs": [],
   "source": [
    "# def resample_donors(X, y, n, v):"
   ]
  },
  {
   "cell_type": "code",
   "execution_count": null,
   "id": "c6fa9f11-367f-4745-8fdd-2ca6b252d3cd",
   "metadata": {
    "tags": []
   },
   "outputs": [],
   "source": [
    "from sklearn.linear_model import LinearRegression"
   ]
  },
  {
   "cell_type": "code",
   "execution_count": null,
   "id": "3bf62c9c-49be-460c-8e8e-398376f70a2b",
   "metadata": {
    "tags": []
   },
   "outputs": [],
   "source": [
    "# %%time\n",
    "de_result = []\n",
    "for feature in genes_to_test[:2000]: # Can be vectorized heavily, showing for 1K genes\n",
    "    \n",
    "    m = mean[feature].values\n",
    "    sem = se_mean[feature].values\n",
    "    \n",
    "    # Transform to log space (alternatively can resample in log space)\n",
    "    lm = np.log(m)\n",
    "    selm = (np.log(m+sem)-np.log(m-sem))/2\n",
    "\n",
    "    sample_idxs = np.isfinite(m) & np.isfinite(sem)\n",
    "    \n",
    "    sample_design = design[['treatment_pdc', 'donor_id']].iloc[sample_idxs]\n",
    "    \n",
    "    donors_to_use_ = sample_design.groupby('donor_id').size()\n",
    "    donors_to_use_ = donors_to_use_[donors_to_use_ > 1].index.tolist()\n",
    "    \n",
    "    final_sample_idxs = sample_design['donor_id'].isin(donors_to_use_).values\n",
    "    \n",
    "    # final_sample_idxs = np.ones(final_sample_idxs.shape[0]).astype(bool)\n",
    "    \n",
    "\n",
    "    X, y, n, v = (\n",
    "        get_final_design_matrix(pd.get_dummies(sample_design.iloc[final_sample_idxs], columns=['donor_id'], drop_first=True)), \n",
    "        lm[sample_idxs][final_sample_idxs], \n",
    "        cell_counts[sample_idxs][final_sample_idxs], \n",
    "        selm[sample_idxs][final_sample_idxs]**2)\n",
    "    assert X.shape[0] == X.shape[1]\n",
    "\n",
    "    coef, z, pv = wls(X, y, n, v)\n",
    "    \n",
    "    de_result.append((feature, coef, z, pv))\n",
    "\n",
    "de_result_wls = pd.DataFrame(de_result, columns=['feature_id','coef', 'z', 'pval']).set_index('feature_id')\n",
    "de_result_wls.to_csv(save_path + 'three_datasets.csv')"
   ]
  },
  {
   "cell_type": "code",
   "execution_count": null,
   "id": "86d6b3dd-d756-4aff-a5e8-be8f552f32db",
   "metadata": {
    "tags": []
   },
   "outputs": [],
   "source": [
    "_, de_result_wls['fdr'] = fdrcorrection(de_result_wls['pval'])"
   ]
  },
  {
   "cell_type": "code",
   "execution_count": null,
   "id": "d8f108dd-fdc0-469b-b20c-3c484d6bd6a9",
   "metadata": {
    "tags": []
   },
   "outputs": [],
   "source": [
    "de_result_wls['pval'].hist(density=True)"
   ]
  },
  {
   "cell_type": "code",
   "execution_count": null,
   "id": "f4aca3dd-14b3-4d8d-b285-eebf5340c4f5",
   "metadata": {},
   "outputs": [],
   "source": []
  },
  {
   "cell_type": "code",
   "execution_count": null,
   "id": "50122cec-b85a-44dc-a485-6d9a2099d103",
   "metadata": {},
   "outputs": [],
   "source": []
  },
  {
   "cell_type": "code",
   "execution_count": null,
   "id": "03bd1f5d-d175-417b-ba99-f91aedb953f4",
   "metadata": {},
   "outputs": [],
   "source": []
  },
  {
   "cell_type": "code",
   "execution_count": null,
   "id": "107fb1d5-4a21-494b-87f2-d98dc24d4baa",
   "metadata": {},
   "outputs": [],
   "source": []
  },
  {
   "cell_type": "code",
   "execution_count": null,
   "id": "3133663f-b9c1-47a5-b8b3-a4c1e83e7622",
   "metadata": {},
   "outputs": [],
   "source": []
  },
  {
   "cell_type": "code",
   "execution_count": null,
   "id": "d132e57a-cd1c-4e19-a542-640ee11652d6",
   "metadata": {},
   "outputs": [],
   "source": []
  },
  {
   "cell_type": "code",
   "execution_count": null,
   "id": "d7aea275-f5b9-454b-b802-f2d711760a62",
   "metadata": {},
   "outputs": [],
   "source": []
  },
  {
   "cell_type": "code",
   "execution_count": null,
   "id": "b8912353-467d-42be-a12e-5ca407700a71",
   "metadata": {},
   "outputs": [],
   "source": []
  },
  {
   "cell_type": "code",
   "execution_count": null,
   "id": "7ff5fac4-6846-4c5a-b93a-df1b4cbc939f",
   "metadata": {},
   "outputs": [],
   "source": []
  },
  {
   "cell_type": "code",
   "execution_count": null,
   "id": "fe8e0fd4-fd62-48bb-a2ae-3df837fa0dc4",
   "metadata": {},
   "outputs": [],
   "source": []
  },
  {
   "cell_type": "code",
   "execution_count": null,
   "id": "4a231ff3-48f9-4fb6-afd1-23c3c4efa10b",
   "metadata": {},
   "outputs": [],
   "source": []
  },
  {
   "cell_type": "code",
   "execution_count": null,
   "id": "9134f2f4-4512-465a-a6f3-d63b0c7db923",
   "metadata": {},
   "outputs": [],
   "source": []
  },
  {
   "cell_type": "code",
   "execution_count": null,
   "id": "6f25dd32-c97d-467d-86d1-03a527af398c",
   "metadata": {},
   "outputs": [],
   "source": []
  },
  {
   "cell_type": "code",
   "execution_count": null,
   "id": "836b6fe5-5fdc-439d-9504-ed3cb86f7653",
   "metadata": {},
   "outputs": [],
   "source": []
  },
  {
   "cell_type": "code",
   "execution_count": null,
   "id": "f46ba6e0-6dd8-461e-b4db-4ec2dd1efa9a",
   "metadata": {},
   "outputs": [],
   "source": []
  },
  {
   "cell_type": "code",
   "execution_count": null,
   "id": "88136954-2122-4a30-9fb1-0090d4b0b47c",
   "metadata": {},
   "outputs": [],
   "source": []
  },
  {
   "cell_type": "code",
   "execution_count": null,
   "id": "21f00a98-28f4-4f21-9ae3-24e66cf4d355",
   "metadata": {},
   "outputs": [],
   "source": []
  },
  {
   "cell_type": "code",
   "execution_count": null,
   "id": "388b1263-39d3-43f6-ab6e-b7c08be9d279",
   "metadata": {},
   "outputs": [],
   "source": []
  },
  {
   "cell_type": "code",
   "execution_count": null,
   "id": "4775b1fc-49a0-4502-a2bc-8ab436bc7804",
   "metadata": {},
   "outputs": [],
   "source": []
  },
  {
   "cell_type": "code",
   "execution_count": null,
   "id": "753fdf12-f7c0-4c62-a7da-0b471488a96c",
   "metadata": {},
   "outputs": [],
   "source": []
  },
  {
   "cell_type": "code",
   "execution_count": null,
   "id": "144aa6ca-f4b7-4397-8219-cd79e511d00a",
   "metadata": {},
   "outputs": [],
   "source": []
  },
  {
   "cell_type": "code",
   "execution_count": null,
   "id": "1eed80b8-b42d-4926-94f7-e40514120764",
   "metadata": {},
   "outputs": [],
   "source": []
  },
  {
   "cell_type": "code",
   "execution_count": null,
   "id": "be6e1566-5962-4c40-9b09-04176418490c",
   "metadata": {},
   "outputs": [],
   "source": []
  },
  {
   "cell_type": "code",
   "execution_count": null,
   "id": "f91e863f-9a19-4bc7-a42c-4a57b032c297",
   "metadata": {},
   "outputs": [],
   "source": []
  },
  {
   "cell_type": "code",
   "execution_count": null,
   "id": "c1817553-006b-4ad8-afb9-f9d00dc04438",
   "metadata": {
    "tags": []
   },
   "outputs": [],
   "source": [
    "%%time\n",
    "de_result = []\n",
    "for feature in genes_to_test[:3000]: # Can be vectorized heavily, showing for 1K genes\n",
    "    \n",
    "    m = mean[feature].values\n",
    "    sem = se_mean[feature].values\n",
    "    \n",
    "    # Transform to log space (alternatively can resample in log space)\n",
    "    lm = np.log(m)\n",
    "    selm = (np.log(m+sem)-np.log(m-sem))/2\n",
    "\n",
    "    sample_idxs = np.isfinite(m) & np.isfinite(sem)\n",
    "\n",
    "    X, y, n, v = design.iloc[sample_idxs], lm[sample_idxs], cell_counts[sample_idxs], selm[sample_idxs]**2\n",
    "    info = X.copy()\n",
    "    info['y'] = y\n",
    "    info['n'] = n\n",
    "    info['v'] = v\n",
    "    info.index = info['donor_id']\n",
    "    \n",
    "    donors = info['donor_id'].drop_duplicates().tolist()\n",
    "    num_donors =len(donors)\n",
    "    \n",
    "    num_boot = 1000\n",
    "    params = np.zeros(num_boot)\n",
    "    for b in range(num_boot):\n",
    "        boot_donors = np.random.choice(donors, num_donors, replace=True)\n",
    "        info_b = info.loc[list(boot_donors)]\n",
    "        info_b['y_b'] = stats.norm.rvs(info_b['y'], np.sqrt(info_b['v']))\n",
    "        params[b] = LinearRegression(fit_intercept=False).fit(info_b[['treatment_pdc', 'constant']], info_b['y_b'], sample_weight=info_b['n']).coef_[0]\n",
    "    \n",
    "    coef = params.mean()\n",
    "    se = params.std()\n",
    "    z = coef/se\n",
    "    pv = stats.norm.sf(np.abs(z))*2\n",
    "    # coef, z, pv = de_wls(2)\n",
    "    \n",
    "    de_result.append((feature, coef, z, pv))\n",
    "    \n",
    "de_result_resampled = pd.DataFrame(de_result, columns=['feature_id','coef', 'z', 'pval']).set_index('feature_id')"
   ]
  },
  {
   "cell_type": "code",
   "execution_count": null,
   "id": "0e5acb97-741c-4c66-9d2f-6cf6e0b2f550",
   "metadata": {
    "tags": []
   },
   "outputs": [],
   "source": [
    "de_result_resampled.shape"
   ]
  },
  {
   "cell_type": "code",
   "execution_count": null,
   "id": "45893a4c-854f-4d12-a482-e76bc345a50e",
   "metadata": {
    "tags": []
   },
   "outputs": [],
   "source": [
    "de_result_resampled['pval'].hist(density=True)"
   ]
  },
  {
   "cell_type": "code",
   "execution_count": null,
   "id": "cff7f6e7-7c3e-4dd5-b833-175deb7f34ef",
   "metadata": {},
   "outputs": [],
   "source": [
    "%%time\n",
    "de_result = []\n",
    "for feature in genes_to_test[:1000]: # Can be vectorized heavily, showing for 1K genes\n",
    "    \n",
    "    m = mean[feature].values\n",
    "    sem = se_mean[feature].values\n",
    "    \n",
    "    # Transform to log space (alternatively can resample in log space)\n",
    "    lm = np.log(m)\n",
    "    selm = (np.log(m+sem)-np.log(m-sem))/2\n",
    "\n",
    "    sample_idxs = np.isfinite(m) & np.isfinite(sem)\n",
    "\n",
    "    X, y, n, v = design.iloc[sample_idxs], lm[sample_idxs], cell_counts[sample_idxs], selm[sample_idxs]**2\n",
    "    \n",
    "    \n",
    "    \n",
    "    \n",
    "    # coef, z, pv = de_wls(2)\n",
    "    \n",
    "    de_result.append((feature, coef, z, pv))\n",
    "    \n",
    "de_result_dsl = pd.DataFrame(de_result, columns=['feature_id','coef', 'z', 'pval']).set_index('feature_id')"
   ]
  }
 ],
 "metadata": {
  "kernelspec": {
   "display_name": "mementocxg",
   "language": "python",
   "name": "myenv"
  },
  "language_info": {
   "codemirror_mode": {
    "name": "ipython",
    "version": 3
   },
   "file_extension": ".py",
   "mimetype": "text/x-python",
   "name": "python",
   "nbconvert_exporter": "python",
   "pygments_lexer": "ipython3",
   "version": "3.11.5"
  }
 },
 "nbformat": 4,
 "nbformat_minor": 5
}
