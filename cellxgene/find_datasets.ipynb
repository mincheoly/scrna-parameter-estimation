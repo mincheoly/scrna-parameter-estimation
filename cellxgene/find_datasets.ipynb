{
 "cells": [
  {
   "cell_type": "code",
   "execution_count": 1,
   "id": "93927da4-77bb-4e01-9661-6daa399f60b1",
   "metadata": {
    "tags": []
   },
   "outputs": [],
   "source": [
    "import concurrent\n",
    "import gc\n",
    "import logging\n",
    "import multiprocessing\n",
    "import os\n",
    "import sys\n",
    "from concurrent import futures\n",
    "import time\n",
    "\n",
    "import numpy as np\n",
    "import pandas as pd\n",
    "import pyarrow as pa\n",
    "import scipy.sparse\n",
    "import scipy.sparse\n",
    "import tiledb\n",
    "import tiledbsoma as soma\n",
    "from somacore import ExperimentAxisQuery, AxisQuery\n",
    "from tiledb import ZstdFilter, ArraySchema, Domain, Dim, Attr, FilterList"
   ]
  },
  {
   "cell_type": "code",
   "execution_count": 3,
   "id": "869c901d-7498-46a5-a8f8-0f7680587c5c",
   "metadata": {
    "tags": []
   },
   "outputs": [],
   "source": [
    "dataset_ids_to_query = [ '218acb0f-9f2f-4f76-b90b-15a4b7c7f629',]\n",
    "dataset_query = '('\n",
    "for idx, di in enumerate(dataset_ids_to_query): \n",
    "    dataset_query += f'dataset_id == \"{di}\" '\n",
    "    if idx != len(dataset_ids_to_query)-1:\n",
    "        dataset_query += 'or '\n",
    "dataset_query += ')'\n",
    "\n",
    "celltypes_to_query = [\n",
    "    'conventional dendritic cell',\n",
    "    'plasmacytoid dendritic cell',\n",
    "    'conventional dendritic cell',\n",
    "    'plasmacytoid dendritic cell, human',\n",
    "    'dendritic cell',\n",
    "    'dendritic cell, human',\n",
    "    'myeloid dendritic cell',\n",
    "    'plasmacytoid dendritic cell']\n",
    "celltype_query = '('\n",
    "for idx, ct in enumerate(celltypes_to_query): \n",
    "    celltype_query += f'cell_type == \"{ct}\" '\n",
    "    if idx != len(celltypes_to_query)-1:\n",
    "        celltype_query += 'or '\n",
    "celltype_query += ')'\n",
    "\n",
    "OBS_VALUE_FILTER_1 = celltype_query # All cells in three datasets\n",
    "OBS_VALUE_FILTER_2 = celltype_query + ' and ' + celltype_query # only relevant celltypes"
   ]
  },
  {
   "cell_type": "code",
   "execution_count": 4,
   "id": "38a116e9-b18f-4ae3-8fc7-50689918ff40",
   "metadata": {
    "tags": []
   },
   "outputs": [
    {
     "data": {
      "text/plain": [
       "'(cell_type == \"conventional dendritic cell\" or cell_type == \"plasmacytoid dendritic cell\" or cell_type == \"conventional dendritic cell\" or cell_type == \"plasmacytoid dendritic cell, human\" or cell_type == \"dendritic cell\" or cell_type == \"dendritic cell, human\" or cell_type == \"myeloid dendritic cell\" or cell_type == \"plasmacytoid dendritic cell\" ) and (cell_type == \"conventional dendritic cell\" or cell_type == \"plasmacytoid dendritic cell\" or cell_type == \"conventional dendritic cell\" or cell_type == \"plasmacytoid dendritic cell, human\" or cell_type == \"dendritic cell\" or cell_type == \"dendritic cell, human\" or cell_type == \"myeloid dendritic cell\" or cell_type == \"plasmacytoid dendritic cell\" )'"
      ]
     },
     "execution_count": 4,
     "metadata": {},
     "output_type": "execute_result"
    }
   ],
   "source": [
    "OBS_VALUE_FILTER_2"
   ]
  },
  {
   "cell_type": "code",
   "execution_count": 7,
   "id": "663d58c1-da0c-4373-8c1e-61d1ee857237",
   "metadata": {
    "tags": []
   },
   "outputs": [],
   "source": [
    "# init multiprocessing\n",
    "start = time.time()\n",
    "if multiprocessing.get_start_method(True) != \"spawn\":\n",
    "    multiprocessing.set_start_method(\"spawn\", True)\n",
    "\n",
    "exp_uri = 's3://cellxgene-data-public/cell-census/2023-10-30/soma/census_data/homo_sapiens'\n",
    "layer = \"raw\"\n",
    "measurement_name = \"RNA\"\n",
    "\n",
    "with soma.Experiment.open(uri=exp_uri,\n",
    "                          context=soma.SOMATileDBContext().replace(tiledb_config={\n",
    "                              \"vfs.s3.region\":\"us-west-2\",\n",
    "                              \"vfs.s3.no_sign_request\":True})\n",
    "                          ) as exp:\n",
    "\n",
    "    query = exp.axis_query(measurement_name=measurement_name,\n",
    "                           obs_query=AxisQuery(value_filter=OBS_VALUE_FILTER_2),\n",
    "                           # Note: Must use *all* genes to compute size factors correctly, even when var filter is\n",
    "                           # being used for testing\n",
    "                           var_query=AxisQuery())"
   ]
  },
  {
   "cell_type": "code",
   "execution_count": 8,
   "id": "66f2725d-7164-4aaf-a479-2d799d8cae6b",
   "metadata": {
    "tags": []
   },
   "outputs": [],
   "source": [
    "TEST_MODE = bool(os.getenv(\"TEST_MODE\", False))  # Read data from simple test fixture Census data\n",
    "PROFILE_MODE = bool(os.getenv(\"PROFILE_MODE\", False))  # Run pass 2 in single-process mode with profiling output\n",
    "\n",
    "ESTIMATORS_CUBE_ARRAY_URI = \"estimators_cube\"\n",
    "\n",
    "OBS_WITH_SIZE_FACTOR_TILEDB_ARRAY_URI = \"obs_with_size_factor\"\n",
    "\n",
    "TILEDB_SOMA_BUFFER_BYTES = 2**31\n",
    "if TEST_MODE:\n",
    "    TILEDB_SOMA_BUFFER_BYTES = 10 * 1024 ** 2\n",
    "\n",
    "# The minimum number of cells that should be processed at a time by each child process.\n",
    "MIN_BATCH_SIZE = 2**14\n",
    "# For testing\n",
    "MIN_BATCH_SIZE = 20000\n",
    "\n",
    "CUBE_TILEDB_DIMS_OBS = [\n",
    "    \"cell_type\",\n",
    "    \"dataset_id\",\n",
    "]\n",
    "\n",
    "CUBE_TILEDB_ATTRS_OBS = [\n",
    "    \"assay\",\n",
    "    \"suspension_type\",\n",
    "    \"donor_id\",\n",
    "    \"disease\",\n",
    "    \"sex\"\n",
    "]\n",
    "\n",
    "if TEST_MODE:\n",
    "    CUBE_TILEDB_DIMS_OBS = [\"celltype\"]\n",
    "    CUBE_TILEDB_ATTRS_OBS = [\"study\"]\n",
    "\n",
    "CUBE_LOGICAL_DIMS_OBS = CUBE_TILEDB_DIMS_OBS + CUBE_TILEDB_ATTRS_OBS\n",
    "\n",
    "CUBE_DIMS_VAR = ['feature_id']\n",
    "\n",
    "if TEST_MODE:\n",
    "    CUBE_DIMS_VAR = ['var_id']\n",
    "\n",
    "CUBE_TILEDB_DIMS = CUBE_DIMS_VAR + CUBE_TILEDB_DIMS_OBS\n",
    "\n",
    "ESTIMATOR_NAMES = ['nnz', 'n_obs', 'min', 'max', 'sum', 'mean', 'sem', 'var', 'sev', 'selv']\n",
    "\n",
    "\n",
    "CUBE_SCHEMA = ArraySchema(\n",
    "  domain=Domain(*[\n",
    "    Dim(name=dim_name, dtype=\"ascii\", filters=FilterList([ZstdFilter(level=-1), ]))\n",
    "    for dim_name in CUBE_TILEDB_DIMS\n",
    "  ]),\n",
    "  attrs=[Attr(name=attr_name, dtype='ascii', nullable=False, filters=FilterList([ZstdFilter(level=-1), ]))\n",
    "         for attr_name in CUBE_TILEDB_ATTRS_OBS] +\n",
    "        [Attr(name=estimator_name, dtype='float64', var=False, nullable=False, filters=FilterList([ZstdFilter(level=-1), ]))\n",
    "         for estimator_name in ESTIMATOR_NAMES],\n",
    "  cell_order='row-major',\n",
    "  tile_order='row-major',\n",
    "  capacity=10000,\n",
    "  sparse=True,\n",
    "  allows_duplicates=True,\n",
    ")\n"
   ]
  },
  {
   "cell_type": "code",
   "execution_count": 9,
   "id": "3ac68057-dae0-4f8f-906e-b45f1fa23be2",
   "metadata": {
    "tags": []
   },
   "outputs": [],
   "source": [
    "obs_df = query.obs().concat().to_pandas()\n",
    "var_df = query.var().concat().to_pandas()"
   ]
  },
  {
   "cell_type": "code",
   "execution_count": 13,
   "id": "948779cc-ec3d-441a-9d7f-058d5440d344",
   "metadata": {
    "tags": []
   },
   "outputs": [
    {
     "data": {
      "text/plain": [
       "<bound method ExperimentAxisQuery.X of <somacore.query.query.ExperimentAxisQuery object at 0x7fd5667a89d0>>"
      ]
     },
     "execution_count": 13,
     "metadata": {},
     "output_type": "execute_result"
    }
   ],
   "source": [
    "X"
   ]
  },
  {
   "cell_type": "code",
   "execution_count": null,
   "id": "5cc6c18f-01dd-4a09-aaa8-d4da1b3ebfbc",
   "metadata": {
    "tags": []
   },
   "outputs": [],
   "source": [
    "adata = query.to_anndata('raw')"
   ]
  },
  {
   "cell_type": "code",
   "execution_count": 15,
   "id": "09da6ca9-3ee0-45dd-9684-dbb147cc635b",
   "metadata": {
    "tags": []
   },
   "outputs": [
    {
     "data": {
      "text/plain": [
       "<tiledbsoma._sparse_nd_array.SparseNDArrayRead at 0x7fd532de2c10>"
      ]
     },
     "execution_count": 15,
     "metadata": {},
     "output_type": "execute_result"
    }
   ],
   "source": [
    "X"
   ]
  },
  {
   "cell_type": "code",
   "execution_count": 10,
   "id": "e9ffbbba-fc8a-4311-85f5-302d2ffdf18d",
   "metadata": {
    "tags": []
   },
   "outputs": [],
   "source": [
    "counts = obs_df.groupby(['dataset_id', 'cell_type']).size().reset_index(name='count')"
   ]
  },
  {
   "cell_type": "code",
   "execution_count": 11,
   "id": "04073c3a-be43-445d-ad10-eaef5772180a",
   "metadata": {
    "tags": []
   },
   "outputs": [
    {
     "data": {
      "text/html": [
       "<div>\n",
       "<style scoped>\n",
       "    .dataframe tbody tr th:only-of-type {\n",
       "        vertical-align: middle;\n",
       "    }\n",
       "\n",
       "    .dataframe tbody tr th {\n",
       "        vertical-align: top;\n",
       "    }\n",
       "\n",
       "    .dataframe thead th {\n",
       "        text-align: right;\n",
       "    }\n",
       "</style>\n",
       "<table border=\"1\" class=\"dataframe\">\n",
       "  <thead>\n",
       "    <tr style=\"text-align: right;\">\n",
       "      <th></th>\n",
       "      <th>dataset_id</th>\n",
       "      <th>cell_type</th>\n",
       "      <th>count</th>\n",
       "    </tr>\n",
       "  </thead>\n",
       "  <tbody>\n",
       "    <tr>\n",
       "      <th>0</th>\n",
       "      <td>00ff600e-6e2e-4d76-846f-0eec4f0ae417</td>\n",
       "      <td>conventional dendritic cell</td>\n",
       "      <td>28</td>\n",
       "    </tr>\n",
       "    <tr>\n",
       "      <th>1</th>\n",
       "      <td>00ff600e-6e2e-4d76-846f-0eec4f0ae417</td>\n",
       "      <td>plasmacytoid dendritic cell</td>\n",
       "      <td>117</td>\n",
       "    </tr>\n",
       "    <tr>\n",
       "      <th>2</th>\n",
       "      <td>01ad3cd7-3929-4654-84c0-6db05bd5fd59</td>\n",
       "      <td>conventional dendritic cell</td>\n",
       "      <td>7895</td>\n",
       "    </tr>\n",
       "    <tr>\n",
       "      <th>3</th>\n",
       "      <td>01ad3cd7-3929-4654-84c0-6db05bd5fd59</td>\n",
       "      <td>plasmacytoid dendritic cell</td>\n",
       "      <td>2224</td>\n",
       "    </tr>\n",
       "    <tr>\n",
       "      <th>4</th>\n",
       "      <td>055ca631-6ffb-40de-815e-b931e10718c0</td>\n",
       "      <td>conventional dendritic cell</td>\n",
       "      <td>451</td>\n",
       "    </tr>\n",
       "    <tr>\n",
       "      <th>...</th>\n",
       "      <td>...</td>\n",
       "      <td>...</td>\n",
       "      <td>...</td>\n",
       "    </tr>\n",
       "    <tr>\n",
       "      <th>212</th>\n",
       "      <td>fa8605cf-f27e-44af-ac2a-476bee4410d3</td>\n",
       "      <td>plasmacytoid dendritic cell</td>\n",
       "      <td>575</td>\n",
       "    </tr>\n",
       "    <tr>\n",
       "      <th>213</th>\n",
       "      <td>fd072bc3-2dfb-46f8-b4e3-467cb3223182</td>\n",
       "      <td>dendritic cell</td>\n",
       "      <td>19224</td>\n",
       "    </tr>\n",
       "    <tr>\n",
       "      <th>214</th>\n",
       "      <td>fd072bc3-2dfb-46f8-b4e3-467cb3223182</td>\n",
       "      <td>plasmacytoid dendritic cell</td>\n",
       "      <td>3005</td>\n",
       "    </tr>\n",
       "    <tr>\n",
       "      <th>215</th>\n",
       "      <td>fe52003e-1460-4a65-a213-2bb1a508332f</td>\n",
       "      <td>conventional dendritic cell</td>\n",
       "      <td>1503</td>\n",
       "    </tr>\n",
       "    <tr>\n",
       "      <th>216</th>\n",
       "      <td>fe52003e-1460-4a65-a213-2bb1a508332f</td>\n",
       "      <td>dendritic cell, human</td>\n",
       "      <td>262</td>\n",
       "    </tr>\n",
       "  </tbody>\n",
       "</table>\n",
       "<p>217 rows × 3 columns</p>\n",
       "</div>"
      ],
      "text/plain": [
       "                               dataset_id                    cell_type  count\n",
       "0    00ff600e-6e2e-4d76-846f-0eec4f0ae417  conventional dendritic cell     28\n",
       "1    00ff600e-6e2e-4d76-846f-0eec4f0ae417  plasmacytoid dendritic cell    117\n",
       "2    01ad3cd7-3929-4654-84c0-6db05bd5fd59  conventional dendritic cell   7895\n",
       "3    01ad3cd7-3929-4654-84c0-6db05bd5fd59  plasmacytoid dendritic cell   2224\n",
       "4    055ca631-6ffb-40de-815e-b931e10718c0  conventional dendritic cell    451\n",
       "..                                    ...                          ...    ...\n",
       "212  fa8605cf-f27e-44af-ac2a-476bee4410d3  plasmacytoid dendritic cell    575\n",
       "213  fd072bc3-2dfb-46f8-b4e3-467cb3223182               dendritic cell  19224\n",
       "214  fd072bc3-2dfb-46f8-b4e3-467cb3223182  plasmacytoid dendritic cell   3005\n",
       "215  fe52003e-1460-4a65-a213-2bb1a508332f  conventional dendritic cell   1503\n",
       "216  fe52003e-1460-4a65-a213-2bb1a508332f        dendritic cell, human    262\n",
       "\n",
       "[217 rows x 3 columns]"
      ]
     },
     "execution_count": 11,
     "metadata": {},
     "output_type": "execute_result"
    }
   ],
   "source": [
    "counts"
   ]
  },
  {
   "cell_type": "code",
   "execution_count": 67,
   "id": "e564dcf3-2577-4590-a866-fe8f4444d30a",
   "metadata": {
    "tags": []
   },
   "outputs": [],
   "source": [
    "counts = obs_df.groupby(['dataset_id', 'cell_type']).size().reset_index(name='count')"
   ]
  },
  {
   "cell_type": "code",
   "execution_count": 68,
   "id": "069879da-18b7-4bff-afb4-0ba8b39233cf",
   "metadata": {
    "tags": []
   },
   "outputs": [
    {
     "data": {
      "text/html": [
       "<div>\n",
       "<style scoped>\n",
       "    .dataframe tbody tr th:only-of-type {\n",
       "        vertical-align: middle;\n",
       "    }\n",
       "\n",
       "    .dataframe tbody tr th {\n",
       "        vertical-align: top;\n",
       "    }\n",
       "\n",
       "    .dataframe thead th {\n",
       "        text-align: right;\n",
       "    }\n",
       "</style>\n",
       "<table border=\"1\" class=\"dataframe\">\n",
       "  <thead>\n",
       "    <tr style=\"text-align: right;\">\n",
       "      <th></th>\n",
       "      <th>dataset_id</th>\n",
       "      <th>cell_type</th>\n",
       "      <th>count</th>\n",
       "    </tr>\n",
       "  </thead>\n",
       "  <tbody>\n",
       "    <tr>\n",
       "      <th>0</th>\n",
       "      <td>218acb0f-9f2f-4f76-b90b-15a4b7c7f629</td>\n",
       "      <td>conventional dendritic cell</td>\n",
       "      <td>18203</td>\n",
       "    </tr>\n",
       "    <tr>\n",
       "      <th>1</th>\n",
       "      <td>218acb0f-9f2f-4f76-b90b-15a4b7c7f629</td>\n",
       "      <td>plasmacytoid dendritic cell</td>\n",
       "      <td>5233</td>\n",
       "    </tr>\n",
       "  </tbody>\n",
       "</table>\n",
       "</div>"
      ],
      "text/plain": [
       "                             dataset_id                    cell_type  count\n",
       "0  218acb0f-9f2f-4f76-b90b-15a4b7c7f629  conventional dendritic cell  18203\n",
       "1  218acb0f-9f2f-4f76-b90b-15a4b7c7f629  plasmacytoid dendritic cell   5233"
      ]
     },
     "execution_count": 68,
     "metadata": {},
     "output_type": "execute_result"
    }
   ],
   "source": [
    "counts.query('dataset_id == \"218acb0f-9f2f-4f76-b90b-15a4b7c7f629\"')"
   ]
  },
  {
   "cell_type": "code",
   "execution_count": null,
   "id": "114cfa33-3e5e-4127-a583-bff8a9e838f9",
   "metadata": {},
   "outputs": [],
   "source": []
  }
 ],
 "metadata": {
  "kernelspec": {
   "display_name": "mementocxg",
   "language": "python",
   "name": "myenv"
  },
  "language_info": {
   "codemirror_mode": {
    "name": "ipython",
    "version": 3
   },
   "file_extension": ".py",
   "mimetype": "text/x-python",
   "name": "python",
   "nbconvert_exporter": "python",
   "pygments_lexer": "ipython3",
   "version": "3.11.5"
  }
 },
 "nbformat": 4,
 "nbformat_minor": 5
}
