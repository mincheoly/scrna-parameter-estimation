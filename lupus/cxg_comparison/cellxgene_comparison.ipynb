{
 "cells": [
  {
   "cell_type": "markdown",
   "id": "4452852b-0822-4289-b284-d5c141e1bd5d",
   "metadata": {},
   "source": [
    "# Run memento and compare to estimates from cellxgene estimators"
   ]
  },
  {
   "cell_type": "code",
   "execution_count": 65,
   "id": "5b7fdc75-a9ba-49fd-bc0b-f9fbabbb7d9e",
   "metadata": {
    "tags": []
   },
   "outputs": [],
   "source": [
    "import tiledb\n",
    "import tiledbsoma as soma\n",
    "from somacore import ExperimentAxisQuery, AxisQuery\n",
    "import pandas as pd\n",
    "pd.set_option('display.max_columns', 200)\n",
    "import numpy as np\n",
    "import itertools\n",
    "import seaborn as sns\n",
    "import scipy.stats as stats\n",
    "import matplotlib.pyplot as plt\n",
    "import time"
   ]
  },
  {
   "cell_type": "code",
   "execution_count": 2,
   "id": "d2835baf-929c-4a3e-8c21-643f213e1d9a",
   "metadata": {
    "tags": []
   },
   "outputs": [],
   "source": [
    "import sys\n",
    "sys.path.append('/home/ubuntu/Github/scrna-parameter-estimation/')\n",
    "import memento"
   ]
  },
  {
   "cell_type": "code",
   "execution_count": 263,
   "id": "2b196372-286d-4ffe-a121-41bdaba55aca",
   "metadata": {
    "tags": []
   },
   "outputs": [],
   "source": [
    "import matplotlib.pylab as pylab\n",
    "params = {'legend.fontsize': 'medium',\n",
    "         'axes.labelsize': 'medium',\n",
    "         'axes.titlesize':'medium',\n",
    "         'figure.titlesize':'large',\n",
    "         'xtick.labelsize':'small',\n",
    "         'ytick.labelsize':'small'}\n",
    "pylab.rcParams.update(params)"
   ]
  },
  {
   "cell_type": "code",
   "execution_count": 259,
   "id": "d4b7981c-9cc5-4784-a648-36cb63b3166c",
   "metadata": {
    "tags": []
   },
   "outputs": [],
   "source": [
    "import matplotlib\n",
    "matplotlib.rcParams['pdf.fonttype'] = 42\n",
    "matplotlib.rcParams['ps.fonttype'] = 42"
   ]
  },
  {
   "cell_type": "code",
   "execution_count": 3,
   "id": "91e37ae8-7d49-4120-97ff-ee148183d41c",
   "metadata": {},
   "outputs": [],
   "source": [
    "cube_path = '/home/ubuntu/Github/memento-cxg/'\n",
    "save_path = '/home/ubuntu/results/'"
   ]
  },
  {
   "cell_type": "markdown",
   "id": "15c008a7-23e2-4e9f-861b-f006ae049ff3",
   "metadata": {},
   "source": [
    "### Run memento\n",
    "\n",
    "lets try cM vs T4"
   ]
  },
  {
   "cell_type": "code",
   "execution_count": 4,
   "id": "3eafbb9c-3c87-48a2-8088-b911900406ac",
   "metadata": {
    "tags": []
   },
   "outputs": [],
   "source": [
    "CUBE_TILEDB_DIMS_OBS = [\n",
    "    \"cell_type\",\n",
    "    \"dataset_id\",\n",
    "]\n",
    "\n",
    "CUBE_TILEDB_ATTRS_OBS = [\n",
    "    \"assay\",\n",
    "    \"suspension_type\",\n",
    "    \"donor_id\",\n",
    "    \"disease\",\n",
    "    \"sex\"\n",
    "]\n",
    "\n",
    "CUBE_LOGICAL_DIMS_OBS = CUBE_TILEDB_DIMS_OBS + CUBE_TILEDB_ATTRS_OBS\n",
    "\n",
    "CUBE_DIMS_VAR = ['feature_id']\n",
    "\n",
    "TILEDB_SOMA_BUFFER_BYTES = 2**31\n",
    "\n",
    "OBS_VALUE_FILTER = \"is_primary_data == True and dataset_id ==  '218acb0f-9f2f-4f76-b90b-15a4b7c7f629' and donor_id == '1259'\" # Lupus dataset\n"
   ]
  },
  {
   "cell_type": "code",
   "execution_count": 5,
   "id": "5cd78678-569c-422e-898a-5212e38c0ea1",
   "metadata": {
    "tags": []
   },
   "outputs": [],
   "source": [
    "exp_uri = 's3://cellxgene-data-public/cell-census/2023-10-18/soma/census_data/homo_sapiens'\n",
    "measurement_name ='RNA'"
   ]
  },
  {
   "cell_type": "code",
   "execution_count": 6,
   "id": "09e36592-0b53-4446-9f85-b5d2108c9f83",
   "metadata": {},
   "outputs": [],
   "source": [
    "with soma.Experiment.open(uri=exp_uri,\n",
    "                          context=soma.SOMATileDBContext().replace(tiledb_config={\n",
    "                              \"soma.init_buffer_bytes\": TILEDB_SOMA_BUFFER_BYTES,\n",
    "                              \"vfs.s3.region\":\"us-west-2\",\n",
    "                              \"vfs.s3.no_sign_request\":True})\n",
    "                          ) as exp:\n",
    "\n",
    "    query = exp.axis_query(measurement_name=measurement_name,\n",
    "                           obs_query=AxisQuery(value_filter=OBS_VALUE_FILTER),\n",
    "                           # Note: Must use *all* genes to compute size factors correctly, even when var filter is\n",
    "                           # being used for testing\n",
    "                           var_query=AxisQuery())"
   ]
  },
  {
   "cell_type": "code",
   "execution_count": 7,
   "id": "e781249a-186b-411b-a68f-bfcce7b07364",
   "metadata": {
    "tags": []
   },
   "outputs": [],
   "source": [
    "lupus_adata=query.to_anndata('raw')"
   ]
  },
  {
   "cell_type": "code",
   "execution_count": 8,
   "id": "840fc971-8729-400e-bc4e-907ea2991b39",
   "metadata": {
    "tags": []
   },
   "outputs": [],
   "source": [
    "lupus_adata.var.index = lupus_adata.var.feature_id.tolist()"
   ]
  },
  {
   "cell_type": "code",
   "execution_count": 108,
   "id": "a0af7778-b1ec-40d9-9304-3424d05e883c",
   "metadata": {
    "tags": []
   },
   "outputs": [],
   "source": [
    "def run_memento(ct1, ct2):\n",
    "    \n",
    "    adata = lupus_adata[lupus_adata.obs['cell_type'].isin([ct1, ct2])].copy().copy()\n",
    "\n",
    "    adata.obs['q'] = 0.07\n",
    "    memento.setup_memento(adata, q_column='q', trim_percent=1, filter_mean_thresh=0.1, shrinkage=0)\n",
    "    memento.create_groups(adata, label_columns=['cell_type'])\n",
    "    memento.compute_1d_moments(adata, min_perc_group=.7)\n",
    "\n",
    "    meta_df = memento.get_groups(adata)\n",
    "    meta_df['intercept'] = 1\n",
    "    covariate = meta_df[['intercept']]\n",
    "    treatment = (meta_df[['cell_type']] == ct2).astype(float)\n",
    "        \n",
    "\n",
    "    memento.ht_1d_moments(\n",
    "        adata, \n",
    "        covariate=covariate,\n",
    "        treatment=treatment, \n",
    "        num_boot=5000, \n",
    "        verbose=1,\n",
    "        num_cpus=13,\n",
    "        resample_rep=False,\n",
    "        approx=True)\n",
    "    memento_results = memento.get_1d_ht_result(adata)\n",
    "    \n",
    "    return memento_results"
   ]
  },
  {
   "cell_type": "code",
   "execution_count": 48,
   "id": "a13d59d2-52d2-40a9-98c2-c214b1bfda90",
   "metadata": {},
   "outputs": [
    {
     "name": "stderr",
     "output_type": "stream",
     "text": [
      "[Parallel(n_jobs=13)]: Using backend LokyBackend with 13 concurrent workers.\n",
      "[Parallel(n_jobs=13)]: Done  24 tasks      | elapsed:    2.3s\n",
      "[Parallel(n_jobs=13)]: Done 174 tasks      | elapsed:    3.8s\n",
      "[Parallel(n_jobs=13)]: Done 627 tasks      | elapsed:    7.8s\n",
      "[Parallel(n_jobs=13)]: Done 1327 tasks      | elapsed:   14.3s\n",
      "[Parallel(n_jobs=13)]: Done 1473 out of 1498 | elapsed:   15.7s remaining:    0.3s\n",
      "[Parallel(n_jobs=13)]: Done 1498 out of 1498 | elapsed:   16.3s finished\n"
     ]
    }
   ],
   "source": [
    "memento_results = run_memento('classical monocyte','CD4-positive, alpha-beta T cell')"
   ]
  },
  {
   "cell_type": "markdown",
   "id": "21e7ddad-34ae-4261-a4cb-630f4b950f29",
   "metadata": {
    "tags": []
   },
   "source": [
    "### Run memento-cxg\n",
    "\n",
    "Take the estimators from the cube and perform DE"
   ]
  },
  {
   "cell_type": "code",
   "execution_count": 49,
   "id": "663ff620-2a1d-419d-b8d0-fdb178520822",
   "metadata": {
    "tags": []
   },
   "outputs": [],
   "source": [
    "def _fit_mv_regressor(mean, var):\n",
    "\t\"\"\"\n",
    "\t\tPerform regression of the variance against the mean.\n",
    "\t\"\"\"\n",
    "\t\n",
    "\tcond = (mean > 0) & (var > 0)\n",
    "\tm, v = np.log(mean[cond]), np.log(var[cond])\n",
    "\t\n",
    "\tpoly = np.polyfit(m, v, 2)\n",
    "\treturn poly\n",
    "\tf = np.poly1d(z)\n",
    "\n",
    "def _residual_variance(mean, var, mv_fit):\n",
    "\t\n",
    "\tcond = (mean > 0) & (var > 0)\n",
    "\trv = np.zeros(mean.shape)*np.nan\n",
    "\t\n",
    "\tf = np.poly1d(mv_fit)\n",
    "\twith np.errstate(invalid='ignore'):\n",
    "\t\trv[cond] = np.exp(np.log(var[cond]) - f(np.log(mean[cond])))\n",
    "\treturn rv\n",
    "\n",
    "def compute_residual_variance(df):\n",
    "    \n",
    "    m = df['mean']\n",
    "    v = df['var']\n",
    "    vv = df['sev']\n",
    "    mv_fit = _fit_mv_regressor(m, v)\n",
    "    rv = _residual_variance(m, v, mv_fit)\n",
    "    df['res_var'] = rv"
   ]
  },
  {
   "cell_type": "code",
   "execution_count": 50,
   "id": "c02d6fdc-e181-492b-9111-289b4d32e0b8",
   "metadata": {
    "tags": []
   },
   "outputs": [],
   "source": [
    "donor = '1259'"
   ]
  },
  {
   "cell_type": "code",
   "execution_count": 51,
   "id": "9e6f9334-57ba-4168-917b-23f5da3b5450",
   "metadata": {
    "tags": []
   },
   "outputs": [
    {
     "data": {
      "text/plain": [
       "'/home/ubuntu/Github/memento-cxg/estimators_cube'"
      ]
     },
     "execution_count": 51,
     "metadata": {},
     "output_type": "execute_result"
    }
   ],
   "source": [
    "cube_path + 'estimators_cube'"
   ]
  },
  {
   "cell_type": "code",
   "execution_count": 52,
   "id": "87691f0a-3b00-4418-a5f5-472fbd91ca0a",
   "metadata": {
    "tags": []
   },
   "outputs": [],
   "source": [
    "estimators = tiledb.open(cube_path + 'estimators_cube').df[:]"
   ]
  },
  {
   "cell_type": "code",
   "execution_count": 53,
   "id": "ba42d36c-0c0d-4541-ad35-8ff8e36bfb08",
   "metadata": {
    "tags": []
   },
   "outputs": [],
   "source": [
    "estimators = tiledb.open(cube_path + 'estimators_cube').df[:].query(f'donor_id == \"{donor}\"')\\\n",
    "    .rename(columns={\n",
    "    'feature_id':'cell_type',\n",
    "    'cell_type':'dataset_id',\n",
    "    'dataset_id':'feature_id',\n",
    "})"
   ]
  },
  {
   "cell_type": "code",
   "execution_count": 54,
   "id": "10233177-b0f6-4d80-885d-bed655a1782f",
   "metadata": {
    "tags": []
   },
   "outputs": [],
   "source": [
    "def compute_cxg_pvalues(ct1, ct2):\n",
    "    \n",
    "    ct1_df = estimators.query(f'cell_type == \"{ct1}\"').copy()\n",
    "    ct2_df = estimators.query(f'cell_type == \"{ct2}\"').copy()\n",
    "    compute_residual_variance(ct1_df)\n",
    "    compute_residual_variance(ct2_df)\n",
    "    \n",
    "    merged = ct1_df.merge(ct2_df, on='feature_id', suffixes=('_ct1', '_ct2'))\n",
    "\n",
    "    lfc = np.log(merged['mean_ct2'].values/merged['mean_ct1'].values)\n",
    "    log_mean_se_1 = (np.log(merged['mean_ct1'] + merged['sem_ct1']) - np.log(merged['mean_ct1'] - merged['sem_ct1']))/2\n",
    "    log_mean_se_2 = (np.log(merged['mean_ct2'] + merged['sem_ct2']) - np.log(merged['mean_ct2'] - merged['sem_ct2']))/2\n",
    "    se_lfc = np.sqrt((log_mean_se_2**2 + log_mean_se_1**2)).values\n",
    "    de_pvalues = stats.norm.sf(np.abs(lfc), loc=0, scale=se_lfc)*2\n",
    "\n",
    "    dv_lfc = np.log(merged['res_var_ct2'].values/merged['res_var_ct1'].values)\n",
    "    se_dv_lfc = np.sqrt((merged['selv_ct1']**2 + merged['selv_ct2']**2)).values\n",
    "    dv_pvalues = stats.norm.sf(np.abs(dv_lfc), loc=0, scale=se_dv_lfc)*2\n",
    "\n",
    "    cxg_results = pd.DataFrame(\n",
    "        zip(\n",
    "            merged['feature_id'].values,\n",
    "            lfc,\n",
    "            se_lfc,\n",
    "            de_pvalues,\n",
    "            dv_lfc,\n",
    "            se_dv_lfc,\n",
    "            dv_pvalues),\n",
    "        columns=['gene', 'cxg_de_coef', 'cxg_de_se', 'cxg_de_pval', 'cxg_dv_coef', 'cxg_dv_se', 'cxg_dv_pval'])\n",
    "    return cxg_results"
   ]
  },
  {
   "cell_type": "code",
   "execution_count": 55,
   "id": "50c67248-6376-4724-9a94-63c9fbb93932",
   "metadata": {
    "tags": []
   },
   "outputs": [],
   "source": [
    "cxg_results = compute_cxg_pvalues('classical monocyte','CD4-positive, alpha-beta T cell')"
   ]
  },
  {
   "cell_type": "code",
   "execution_count": 56,
   "id": "10954cfe-cbe9-4ae5-916b-8d359f794e3b",
   "metadata": {
    "tags": []
   },
   "outputs": [],
   "source": [
    "cxg_results = cxg_results.dropna()"
   ]
  },
  {
   "cell_type": "markdown",
   "id": "e9849ef9-9dbb-4388-a57e-4790477471ef",
   "metadata": {},
   "source": [
    "### Compare the results"
   ]
  },
  {
   "cell_type": "code",
   "execution_count": 57,
   "id": "06d18a1b-7c30-454c-a9b6-54f2fbac6eca",
   "metadata": {
    "tags": []
   },
   "outputs": [],
   "source": [
    "merged_results = memento_results.merge(cxg_results, on='gene')"
   ]
  },
  {
   "cell_type": "code",
   "execution_count": 58,
   "id": "edabcec1-46d3-402c-96fe-516c70f2b3bb",
   "metadata": {
    "tags": []
   },
   "outputs": [
    {
     "name": "stderr",
     "output_type": "stream",
     "text": [
      "/home/ubuntu/anaconda3/envs/mementocxg/lib/python3.11/site-packages/pandas/core/arraylike.py:396: RuntimeWarning: divide by zero encountered in log10\n",
      "  result = getattr(ufunc, method)(*inputs, **kwargs)\n",
      "/home/ubuntu/anaconda3/envs/mementocxg/lib/python3.11/site-packages/pandas/core/arraylike.py:396: RuntimeWarning: divide by zero encountered in log10\n",
      "  result = getattr(ufunc, method)(*inputs, **kwargs)\n"
     ]
    }
   ],
   "source": [
    "merged_results['cxg_de_logp'] = -np.log10(merged_results['cxg_de_pval'])\n",
    "merged_results['mem_de_logp'] = -np.log10(merged_results['de_pval'])\n",
    "\n",
    "merged_results['cxg_dv_logp'] = -np.log10(merged_results['cxg_dv_pval'])\n",
    "merged_results['mem_dv_logp'] = -np.log10(merged_results['dv_pval'])"
   ]
  },
  {
   "cell_type": "code",
   "execution_count": 88,
   "id": "0904342e-fac6-42a6-9e58-01b38309257a",
   "metadata": {
    "tags": []
   },
   "outputs": [
    {
     "data": {
      "image/png": "[encoded data removed]",
      "text/plain": [
       "<Figure size 250x150 with 1 Axes>"
      ]
     },
     "metadata": {},
     "output_type": "display_data"
    }
   ],
   "source": [
    "plt.figure(figsize=(2.5,1.5))\n",
    "to_show = merged_results.query('mem_de_logp < 200 & cxg_de_logp < 200')\n",
    "\n",
    "plt.scatter(\n",
    "    to_show['de_coef'],\n",
    "    to_show['cxg_de_coef'],\n",
    "    s=3)\n",
    "plt.title('mean LFC')\n",
    "plt.ylabel('Precomputed')\n",
    "plt.plot([-2, 2], [-2, 2], '--', color='k')\n",
    "plt.xlabel('Default')\n",
    "plt.savefig('de_coef_comparison.png', dpi=300, bbox_inches='tight')"
   ]
  },
  {
   "cell_type": "code",
   "execution_count": 89,
   "id": "8936b714-0aca-4164-a275-8b0a7fe786a0",
   "metadata": {
    "tags": []
   },
   "outputs": [
    {
     "data": {
      "image/png": "[encoded data removed]",
      "text/plain": [
       "<Figure size 250x150 with 1 Axes>"
      ]
     },
     "metadata": {},
     "output_type": "display_data"
    }
   ],
   "source": [
    "plt.figure(figsize=(2.5,1.5))\n",
    "to_show = merged_results.query('mem_de_logp < 200 & cxg_de_logp < 200')\n",
    "\n",
    "plt.scatter(\n",
    "    to_show['mem_de_logp'],\n",
    "    to_show['cxg_de_logp'],\n",
    "    s=3)\n",
    "plt.title('mean -log10(P)')\n",
    "plt.ylabel('Precomputed')\n",
    "plt.plot([0, 200], [0, 200], '--', color='k')\n",
    "plt.xlabel('Default')\n",
    "plt.savefig('de_pval_comparison.png', dpi=300, bbox_inches='tight')"
   ]
  },
  {
   "cell_type": "code",
   "execution_count": 90,
   "id": "98e3c843-71bc-4ab4-9d32-60c1160bc4ec",
   "metadata": {
    "tags": []
   },
   "outputs": [
    {
     "data": {
      "image/png": "[encoded data removed]",
      "text/plain": [
       "<Figure size 250x150 with 1 Axes>"
      ]
     },
     "metadata": {},
     "output_type": "display_data"
    }
   ],
   "source": [
    "plt.figure(figsize=(2.5,1.5))\n",
    "to_show = merged_results.query('dv_coef < 6 & cxg_dv_coef < 6 & mem_dv_logp < 25 & cxg_dv_logp < 25')\n",
    "\n",
    "plt.scatter(\n",
    "    to_show['dv_coef'],\n",
    "    to_show['cxg_dv_coef'],\n",
    "    s=3)\n",
    "plt.title('variability LFC')\n",
    "plt.ylabel('Precomputed')\n",
    "plt.plot([-2, 2], [-2, 2], '--', color='k')\n",
    "plt.xlabel('Default')\n",
    "plt.savefig('dv_coef_comparison.png', dpi=300, bbox_inches='tight')"
   ]
  },
  {
   "cell_type": "code",
   "execution_count": 91,
   "id": "b5e70d97-ea01-460b-b590-720ecea38cb2",
   "metadata": {
    "tags": []
   },
   "outputs": [
    {
     "data": {
      "image/png": "[encoded data removed]",
      "text/plain": [
       "<Figure size 250x150 with 1 Axes>"
      ]
     },
     "metadata": {},
     "output_type": "display_data"
    }
   ],
   "source": [
    "plt.figure(figsize=(2.5,1.5))\n",
    "to_show = merged_results.query('dv_coef < 6 & cxg_dv_coef < 6 & mem_dv_logp < 25 & cxg_dv_logp < 25')\n",
    "plt.scatter(\n",
    "    to_show['mem_dv_logp'],\n",
    "    to_show['cxg_dv_logp'],\n",
    "    s=3)\n",
    "plt.title('variability -log10(P)')\n",
    "plt.plot([0, 20], [0, 20], '--', color='k')\n",
    "plt.ylabel('Precomputed')\n",
    "plt.xlabel('Default')\n",
    "plt.savefig('dv_pval_comparison.png', dpi=300, bbox_inches='tight')"
   ]
  },
  {
   "cell_type": "markdown",
   "id": "22c1f6c7-4633-48f2-b501-95301f126f58",
   "metadata": {},
   "source": [
    "### Compare runtimes"
   ]
  },
  {
   "cell_type": "code",
   "execution_count": null,
   "id": "d73f35e9-4686-4b7e-a246-e0ea2419a4ba",
   "metadata": {},
   "outputs": [],
   "source": [
    "cell_types = lupus_adata.obs['cell_type'].drop_duplicates().tolist()"
   ]
  },
  {
   "cell_type": "code",
   "execution_count": 69,
   "id": "0fad151e-f8cd-4025-9108-ca86fab3e5ea",
   "metadata": {
    "tags": []
   },
   "outputs": [],
   "source": [
    "# Time cxg\n",
    "\n",
    "num_cts = len(cell_types)\n",
    "cxg_times = []\n",
    "for nct in range(2, num_cts):\n",
    "    \n",
    "    cts_to_compare = itertools.combinations(cell_types[:nct], 2)\n",
    "    \n",
    "    start = time.time()\n",
    "    for ct1, ct2 in cts_to_compare:\n",
    "        \n",
    "        # a = run_memento(ct1, ct2)\n",
    "        b = compute_cxg_pvalues(ct1, ct2)\n",
    "    duration = time.time()-start\n",
    "    cxg_times.append(duration)\n"
   ]
  },
  {
   "cell_type": "code",
   "execution_count": null,
   "id": "75ceef35-51f5-404d-a885-31a890677c8f",
   "metadata": {
    "tags": []
   },
   "outputs": [
    {
     "name": "stderr",
     "output_type": "stream",
     "text": [
      "[Parallel(n_jobs=13)]: Using backend LokyBackend with 13 concurrent workers.\n",
      "[Parallel(n_jobs=13)]: Done  24 tasks      | elapsed:    2.3s\n",
      "[Parallel(n_jobs=13)]: Done 174 tasks      | elapsed:    3.8s\n",
      "[Parallel(n_jobs=13)]: Done 627 tasks      | elapsed:    8.0s\n"
     ]
    }
   ],
   "source": [
    "# Time memento\n",
    "num_trial = 10\n",
    "num_cts = len(cell_types)\n",
    "memento_times = np.zeros((num_cts-1, num_trial))\n",
    "\n",
    "for idx, nct in enumerate(range(2, num_cts+1)):\n",
    "    \n",
    "    cts_to_compare = list(itertools.combinations(cell_types[:nct], 2))\n",
    "    \n",
    "    for trial in range(num_trial):\n",
    "        start = time.time()\n",
    "        \n",
    "        for ct1, ct2 in cts_to_compare:\n",
    "            a = run_memento(ct1, ct2)\n",
    "\n",
    "        end = time.time()\n",
    "        memento_times[idx, trial] = end-start"
   ]
  },
  {
   "cell_type": "code",
   "execution_count": 154,
   "id": "253ebd3b-6b8e-45f5-b2b9-e71f3997207b",
   "metadata": {
    "tags": []
   },
   "outputs": [],
   "source": [
    "num_comparisons = []\n",
    "for nct in range(2, num_cts+1):\n",
    "    \n",
    "    cts_to_compare = itertools.combinations(cell_types[:nct], 2)\n",
    "    num_comparisons.append(len(list(cts_to_compare)))"
   ]
  },
  {
   "cell_type": "code",
   "execution_count": 160,
   "id": "e9855941-0b01-4533-a6f7-1b579ef7890f",
   "metadata": {},
   "outputs": [],
   "source": [
    "cxg_times = [0.0445709228515625,\n",
    " 0.12334084510803223,\n",
    " 0.24467754364013672,\n",
    " 0.4052596092224121,\n",
    " 0.5705969333648682,\n",
    " 0.78609299659729,\n",
    " 1.0434541702270508,\n",
    " 1.396212100982666,\n",
    " 1.4767653942108154]\n",
    "\n",
    "memento_times = [16.082085132598877,\n",
    " 46.88715410232544,\n",
    " 86.9343409538269,\n",
    " 131.8815257549286,\n",
    " 161.52750897407532,\n",
    " 211.55276083946228,\n",
    " 266.297087430954,\n",
    " 295.0561339855194,\n",
    " 314.1077857017517]"
   ]
  },
  {
   "cell_type": "code",
   "execution_count": 161,
   "id": "0e2a4bf1-8676-462c-93fa-4cfd99f92351",
   "metadata": {
    "tags": []
   },
   "outputs": [],
   "source": [
    "num_comparisons = []\n",
    "for nct in range(2, num_cts):\n",
    "    \n",
    "    cts_to_compare = itertools.combinations(cell_types[:nct], 2)\n",
    "    num_comparisons.append(len(list(cts_to_compare)))"
   ]
  },
  {
   "cell_type": "code",
   "execution_count": 264,
   "id": "34ba6bbd-c4e8-4831-9df2-7b93d959156f",
   "metadata": {
    "tags": []
   },
   "outputs": [
    {
     "data": {
      "image/png": "[encoded data removed]",
      "text/plain": [
       "<Figure size 300x150 with 1 Axes>"
      ]
     },
     "metadata": {},
     "output_type": "display_data"
    }
   ],
   "source": [
    "plt.figure(figsize=(3,1.5))\n",
    "plt.plot(num_comparisons, memento_times, '-o', markeredgecolor='k')\n",
    "plt.plot(num_comparisons, cxg_times, '-o', markeredgecolor='k')\n",
    "plt.legend(['Default', 'Precomputed'], frameon=False,bbox_to_anchor=(0.5,1), loc='upper center')\n",
    "plt.xlabel('Number of binary comparisons')\n",
    "plt.title('Comparison runtime')\n",
    "plt.ylim(-50, 600)\n",
    "plt.savefig('comparison_runtime.pdf', bbox_inches='tight')"
   ]
  },
  {
   "cell_type": "code",
   "execution_count": 170,
   "id": "0712a9f0-8a2f-438c-aa55-190c79bbace3",
   "metadata": {
    "tags": []
   },
   "outputs": [],
   "source": [
    "lupus_adata_copy = lupus_adata.copy()\n",
    "lupus_adata_copy.obs['q'] = 0.1"
   ]
  },
  {
   "cell_type": "code",
   "execution_count": 171,
   "id": "4126bb42-bf83-48bd-bf4b-a3d94529870e",
   "metadata": {
    "tags": []
   },
   "outputs": [
    {
     "name": "stdout",
     "output_type": "stream",
     "text": [
      "0.21629118919372559\n"
     ]
    }
   ],
   "source": [
    "start = time.time()\n",
    "memento.setup_memento(lupus_adata_copy, q_column='q', trim_percent=1, filter_mean_thresh=0.1, shrinkage=0)\n",
    "print(time.time()-start)"
   ]
  },
  {
   "cell_type": "code",
   "execution_count": 172,
   "id": "5cc46c95-6777-49ae-86a5-be5b6066ecbe",
   "metadata": {
    "tags": []
   },
   "outputs": [],
   "source": [
    "cxg_precompute_time = 557.3624973297119\n",
    "default_precompute_time = 0.21629118919372559"
   ]
  },
  {
   "cell_type": "code",
   "execution_count": 224,
   "id": "8932616a-3bcf-4855-a098-46e80330cc10",
   "metadata": {
    "tags": []
   },
   "outputs": [],
   "source": [
    "prop_cycle = plt.rcParams['axes.prop_cycle']\n",
    "colors = prop_cycle.by_key()['color']"
   ]
  },
  {
   "cell_type": "code",
   "execution_count": 265,
   "id": "db5b3511-aae0-4f12-98e3-c6b26b287fac",
   "metadata": {
    "tags": []
   },
   "outputs": [
    {
     "data": {
      "image/png": "[encoded data removed]",
      "text/plain": [
       "<Figure size 150x150 with 1 Axes>"
      ]
     },
     "metadata": {},
     "output_type": "display_data"
    }
   ],
   "source": [
    "plt.figure(figsize=(1.5,1.5))\n",
    "plt.bar([0, 1], [default_precompute_time, cxg_precompute_time], color=colors[:2], linewidth=2.5, edgecolor='k')\n",
    "plt.ylabel('Runtime (s)')\n",
    "plt.xticks([0, 1], ['Default', 'Precomputed'], rotation=45)\n",
    "plt.ylim(-50, 600)\n",
    "plt.title('Precomputation\\nruntime')\n",
    "plt.savefig('precomputation_runtime.pdf', bbox_inches='tight')"
   ]
  },
  {
   "cell_type": "code",
   "execution_count": null,
   "id": "ce1e5c56-11c2-471a-b1d5-265dff5c588c",
   "metadata": {},
   "outputs": [],
   "source": []
  }
 ],
 "metadata": {
  "kernelspec": {
   "display_name": "mementocxg",
   "language": "python",
   "name": "myenv"
  },
  "language_info": {
   "codemirror_mode": {
    "name": "ipython",
    "version": 3
   },
   "file_extension": ".py",
   "mimetype": "text/x-python",
   "name": "python",
   "nbconvert_exporter": "python",
   "pygments_lexer": "ipython3",
   "version": "3.11.5"
  }
 },
 "nbformat": 4,
 "nbformat_minor": 5
}
