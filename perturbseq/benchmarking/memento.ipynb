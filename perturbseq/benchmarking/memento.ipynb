{
 "cells": [
  {
   "cell_type": "markdown",
   "id": "97a5850e-b5a3-4851-8e8f-3554a65a930d",
   "metadata": {},
   "source": [
    "# Run memento for Perturb-seq benchmarking\n"
   ]
  },
  {
   "cell_type": "code",
   "execution_count": 1,
   "id": "f20bec43-4ee8-405f-bb10-2d403062c2eb",
   "metadata": {},
   "outputs": [],
   "source": [
    "%load_ext autoreload"
   ]
  },
  {
   "cell_type": "code",
   "execution_count": 2,
   "id": "c57aa565-6875-468e-9218-bda16a3ec5fc",
   "metadata": {},
   "outputs": [],
   "source": [
    "%autoreload 2\n"
   ]
  },
  {
   "cell_type": "code",
   "execution_count": 3,
   "id": "da17c6c7-adaf-47b4-bf27-079b8f838cef",
   "metadata": {},
   "outputs": [],
   "source": [
    "import sys\n",
    "sys.path.append('/home/ssm-user/Github/memento')"
   ]
  },
  {
   "cell_type": "code",
   "execution_count": 4,
   "id": "595c06f0-2edd-494b-a538-b2cf6eb864bc",
   "metadata": {},
   "outputs": [],
   "source": [
    "import scanpy as sc\n",
    "import scipy.stats as stats\n",
    "import scipy.sparse as sparse\n",
    "import pandas as pd\n",
    "import numpy as np\n",
    "import string\n",
    "import random\n",
    "import logging\n",
    "import itertools\n",
    "import statsmodels.api as sm\n",
    "import seaborn as sns\n",
    "import random"
   ]
  },
  {
   "cell_type": "code",
   "execution_count": 5,
   "id": "6a4af79f-1d5a-4cea-ad74-5c922f3d0510",
   "metadata": {},
   "outputs": [],
   "source": [
    "import memento"
   ]
  },
  {
   "cell_type": "code",
   "execution_count": 6,
   "id": "b2005bdc-a14b-480e-bcfa-7e75501a2d3f",
   "metadata": {},
   "outputs": [],
   "source": [
    "import memento.model.rna as rna\n",
    "import memento.estimator.hypergeometric as hg"
   ]
  },
  {
   "cell_type": "code",
   "execution_count": 7,
   "id": "8bdc0ea9-cf94-4d2f-bbe9-b4bc56340344",
   "metadata": {},
   "outputs": [],
   "source": [
    "data_path = '/data_volume/memento/'"
   ]
  },
  {
   "cell_type": "code",
   "execution_count": 8,
   "id": "07df57bf-30c9-4998-9d78-c3eb19a130f5",
   "metadata": {},
   "outputs": [],
   "source": [
    "logging.basicConfig(\n",
    "    format=\"%(asctime)s %(process)-7s %(levelname)-8s %(message)s\",\n",
    "    level=logging.INFO, \n",
    "    datefmt=\"%Y-%m-%d %H:%M:%S\",\n",
    ")\n",
    "logging.captureWarnings(True)"
   ]
  },
  {
   "cell_type": "markdown",
   "id": "6168f13a-9c86-412e-a6d6-8bb312d74f80",
   "metadata": {},
   "source": [
    "### Perturbseq"
   ]
  },
  {
   "cell_type": "code",
   "execution_count": 9,
   "id": "420ad0b8-9b86-41e1-9039-71d9b598bfcb",
   "metadata": {},
   "outputs": [
    {
     "name": "stdout",
     "output_type": "stream",
     "text": [
      "WARNING: Your filename has more than two extensions: ['.sng', '.guides', '.full', '.ct', '.details', '.h5ad'].\n",
      "Only considering the two last: ['.details', '.h5ad'].\n",
      "WARNING: Your filename has more than two extensions: ['.sng', '.guides', '.full', '.ct', '.details', '.h5ad'].\n",
      "Only considering the two last: ['.details', '.h5ad'].\n"
     ]
    }
   ],
   "source": [
    "adata = sc.read(data_path + 'tfko140/tfko.sng.guides.full.ct.details.h5ad')"
   ]
  },
  {
   "cell_type": "code",
   "execution_count": 10,
   "id": "f4d5f207-6e2b-4b22-9110-89b0e00089c9",
   "metadata": {},
   "outputs": [],
   "source": [
    "donors = adata.obs.donor.drop_duplicates().tolist()"
   ]
  },
  {
   "cell_type": "code",
   "execution_count": 11,
   "id": "64383080-d2ab-446d-8e68-cb2a7668b7cc",
   "metadata": {},
   "outputs": [],
   "source": [
    "guide_pairs = pd.read_csv(data_path + 'tfko140/benchmarking/guide_pairs_to_test.csv')"
   ]
  },
  {
   "cell_type": "code",
   "execution_count": 12,
   "id": "3e2568ed-093e-473e-9269-b19221927f95",
   "metadata": {},
   "outputs": [
    {
     "name": "stderr",
     "output_type": "stream",
     "text": [
      "2023-06-29 18:24:43 3935896 INFO     setup_anndata: creating groups\n",
      "2023-06-29 18:25:06 3935896 INFO     setup_anndata: computing cell sizes\n"
     ]
    }
   ],
   "source": [
    "rna.MementoRNA.setup_anndata(\n",
    "    adata=adata,\n",
    "    q_column='q',\n",
    "    label_columns=['donor', 'guide'])"
   ]
  },
  {
   "cell_type": "code",
   "execution_count": 13,
   "id": "37e85a0b-ec2c-451f-9f2f-09b152773cf4",
   "metadata": {},
   "outputs": [],
   "source": [
    "# Define expressed genes\n",
    "adata.var['expr_genes'] = (adata.X.mean(axis=0).A1 > 0.01)\n",
    "adata = adata[:, adata.var['expr_genes']]"
   ]
  },
  {
   "cell_type": "code",
   "execution_count": 25,
   "id": "9f821e2d-1afe-4439-94c4-847d04e80bcb",
   "metadata": {},
   "outputs": [],
   "source": [
    "model = rna.MementoRNA(adata=adata)"
   ]
  },
  {
   "cell_type": "code",
   "execution_count": 26,
   "id": "d7614801-31d6-4f52-b5af-85eccedcf4f3",
   "metadata": {},
   "outputs": [
    {
     "name": "stderr",
     "output_type": "stream",
     "text": [
      "2023-06-29 18:39:33 3935896 INFO     compute_estimate: gene_list is None, using all genes in AnnData object...\n"
     ]
    }
   ],
   "source": [
    "model.compute_estimate(\n",
    "    estimator=[\n",
    "        'mean', \n",
    "        'sem', \n",
    "        'var', \n",
    "        'total_umi',\n",
    "        'cell_count'])"
   ]
  },
  {
   "cell_type": "code",
   "execution_count": null,
   "id": "ebccf6c5-79cb-47a3-ae59-0d1dac30e845",
   "metadata": {},
   "outputs": [
    {
     "name": "stderr",
     "output_type": "stream",
     "text": [
      "/home/ssm-user/anaconda3/envs/single_cell/lib/python3.10/site-packages/statsmodels/genmod/families/varfuncs.py:265: RuntimeWarning: overflow encountered in square\n",
      "  return p + self.alpha*p**2\n",
      "/home/ssm-user/anaconda3/envs/single_cell/lib/python3.10/site-packages/statsmodels/genmod/families/family.py:132: RuntimeWarning: invalid value encountered in multiply\n",
      "  return 1. / (self.link.deriv(mu)**2 * self.variance(mu))\n",
      "/home/ssm-user/anaconda3/envs/single_cell/lib/python3.10/site-packages/statsmodels/genmod/families/links.py:516: RuntimeWarning: overflow encountered in exp\n",
      "  return np.exp(z)\n",
      "/home/ssm-user/anaconda3/envs/single_cell/lib/python3.10/site-packages/statsmodels/genmod/families/family.py:1342: RuntimeWarning: divide by zero encountered in divide\n",
      "  endog_mu = self._clean(endog / mu)\n",
      "/home/ssm-user/anaconda3/envs/single_cell/lib/python3.10/site-packages/statsmodels/genmod/families/family.py:1346: RuntimeWarning: divide by zero encountered in log\n",
      "  resid_dev -= endog_alpha * np.log(endog_alpha / mu_alpha)\n",
      "/home/ssm-user/anaconda3/envs/single_cell/lib/python3.10/site-packages/statsmodels/genmod/families/family.py:132: RuntimeWarning: invalid value encountered in multiply\n",
      "  return 1. / (self.link.deriv(mu)**2 * self.variance(mu))\n",
      "/home/ssm-user/anaconda3/envs/single_cell/lib/python3.10/site-packages/statsmodels/genmod/generalized_linear_model.py:1211: RuntimeWarning: invalid value encountered in multiply\n",
      "  wlsendog = (lin_pred + self.family.link.deriv(mu) * (self.endog-mu)\n"
     ]
    }
   ],
   "source": [
    "for idx, row in guide_pairs.iterrows():\n",
    "    \n",
    "    sets = [(row['target1_guide1'], row['target2_guide1']), (row['target1_guide2'], row['target2_guide2'])]\n",
    "    for t1, t2 in sets:\n",
    "        \n",
    "\n",
    "        groups = [f'memento_group^{d}^{g}' for d,g in itertools.product(donors, [t1,t2])]\n",
    "        treatment = pd.DataFrame(index=groups)\n",
    "        covariate = pd.DataFrame(index=groups)\n",
    "        treatment['is_target1'] = treatment.index.str.contains(t1).astype(float)\n",
    "        covariate['donor'] = covariate.index.str.split('^').str[1]\n",
    "        covariate = pd.get_dummies(covariate, drop_first=True).astype(float)\n",
    "        covariate = sm.add_constant(covariate)\n",
    "        \n",
    "        result = model.differential_mean(covariates=covariate, treatments=treatment, family='NB', n_jobs=5)\n",
    "        result.to_csv(data_path + f'tfko140/benchmarking/memento_results/{t1}_{t2}.csv')"
   ]
  },
  {
   "cell_type": "code",
   "execution_count": null,
   "id": "2fb153da-ec6d-4de5-a236-e9b8e02982da",
   "metadata": {},
   "outputs": [],
   "source": []
  }
 ],
 "metadata": {
  "kernelspec": {
   "display_name": "Python (single_cell)",
   "language": "python",
   "name": "single_cell"
  },
  "language_info": {
   "codemirror_mode": {
    "name": "ipython",
    "version": 3
   },
   "file_extension": ".py",
   "mimetype": "text/x-python",
   "name": "python",
   "nbconvert_exporter": "python",
   "pygments_lexer": "ipython3",
   "version": "3.10.11"
  }
 },
 "nbformat": 4,
 "nbformat_minor": 5
}
