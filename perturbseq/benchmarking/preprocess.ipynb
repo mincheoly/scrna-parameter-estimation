{
 "cells": [
  {
   "cell_type": "markdown",
   "id": "12a0cd74-3929-4092-b866-c4952e4a9a75",
   "metadata": {},
   "source": [
    "# Preprocess Perturb-seq data for benchmarking"
   ]
  },
  {
   "cell_type": "code",
   "execution_count": 22,
   "id": "04141521-43a6-4b25-9ef1-66f32e6afc81",
   "metadata": {},
   "outputs": [],
   "source": [
    "%load_ext autoreload"
   ]
  },
  {
   "cell_type": "code",
   "execution_count": 23,
   "id": "318b8eba-a401-4fd6-ae21-bb0645dc7903",
   "metadata": {},
   "outputs": [],
   "source": [
    "%autoreload 2"
   ]
  },
  {
   "cell_type": "code",
   "execution_count": 12,
   "id": "f006510e-7914-48ad-876d-718ff948c883",
   "metadata": {},
   "outputs": [],
   "source": [
    "import scanpy as sc\n",
    "import scipy.stats as stats\n",
    "import scipy.sparse as sparse\n",
    "import pandas as pd\n",
    "import numpy as np\n",
    "import string\n",
    "import random\n",
    "import logging\n",
    "import itertools\n",
    "import statsmodels.api as sm\n",
    "import seaborn as sns\n",
    "import random"
   ]
  },
  {
   "cell_type": "code",
   "execution_count": 13,
   "id": "d0ffcadb-6460-4aba-94fc-ccb0ada78187",
   "metadata": {},
   "outputs": [],
   "source": [
    "import sys\n",
    "sys.path.append('/home/ssm-user/Github/memento')"
   ]
  },
  {
   "cell_type": "code",
   "execution_count": 14,
   "id": "ac26bbb4-7111-419b-9069-60d9a616dbb4",
   "metadata": {},
   "outputs": [],
   "source": [
    "import memento.model.rna as rna\n",
    "import memento.estimator.hypergeometric as hg"
   ]
  },
  {
   "cell_type": "code",
   "execution_count": 15,
   "id": "5ef53bfb-a11e-43fd-aa6d-2409c0dbff37",
   "metadata": {},
   "outputs": [],
   "source": [
    "data_path = '/data_volume/memento/'"
   ]
  },
  {
   "cell_type": "code",
   "execution_count": 16,
   "id": "3472e35a-fc1a-4896-b3e3-cb0d080cc864",
   "metadata": {},
   "outputs": [],
   "source": [
    "logging.basicConfig(\n",
    "    format=\"%(asctime)s %(process)-7s %(levelname)-8s %(message)s\",\n",
    "    level=logging.INFO, \n",
    "    datefmt=\"%Y-%m-%d %H:%M:%S\",\n",
    ")\n",
    "logging.captureWarnings(True)"
   ]
  },
  {
   "cell_type": "markdown",
   "id": "840c6f93-a3f6-438e-986e-7a4a1d20c6b2",
   "metadata": {},
   "source": [
    "### Generate guide pairs"
   ]
  },
  {
   "cell_type": "code",
   "execution_count": 17,
   "id": "ef4d9fc6-a27f-40c8-ba78-0008b3c50365",
   "metadata": {},
   "outputs": [
    {
     "name": "stdout",
     "output_type": "stream",
     "text": [
      "WARNING: Your filename has more than two extensions: ['.sng', '.guides', '.full', '.ct', '.h5ad'].\n",
      "Only considering the two last: ['.ct', '.h5ad'].\n",
      "WARNING: Your filename has more than two extensions: ['.sng', '.guides', '.full', '.ct', '.h5ad'].\n",
      "Only considering the two last: ['.ct', '.h5ad'].\n"
     ]
    },
    {
     "name": "stderr",
     "output_type": "stream",
     "text": [
      "... storing 'guide' as categorical\n",
      "... storing 'target' as categorical\n"
     ]
    }
   ],
   "source": [
    "adata = sc.read(data_path + 'tfko140/tfko.sng.guides.full.ct.h5ad')\n",
    "adata.obs['q'] = 0.15\n",
    "adata.obs['guide'] = adata.obs['guide1_cov'].str.split('.').str[0]+'.'+adata.obs['guide1_cov'].str.split('.').str[1]\n",
    "adata.obs['target'] = adata.obs['guide1_cov'].str.split('.').str[0]\n",
    "adata.write(data_path + 'tfko140/tfko.sng.guides.full.ct.details.h5ad')"
   ]
  },
  {
   "cell_type": "code",
   "execution_count": 18,
   "id": "fe391c23-a053-427a-8c83-6c933b2d63cd",
   "metadata": {},
   "outputs": [],
   "source": [
    "mapping = dict(adata.obs[['target', 'guide']].drop_duplicates().groupby('target')['guide'].apply(list))\n",
    "donors = adata.obs['donor'].drop_duplicates().tolist()\n",
    "targets = adata.obs['target'].drop_duplicates().tolist()"
   ]
  },
  {
   "cell_type": "code",
   "execution_count": 19,
   "id": "b72a33b8-5571-4b72-b4e3-687424a1440b",
   "metadata": {},
   "outputs": [],
   "source": [
    "pairs = list(itertools.combinations(targets, 2))\n",
    "random.shuffle(pairs)\n",
    "selected_pairs = pairs[:100]"
   ]
  },
  {
   "cell_type": "code",
   "execution_count": 27,
   "id": "6da4d142-f9bc-4a27-b880-802ebab28160",
   "metadata": {},
   "outputs": [],
   "source": [
    "guide_pairs = []\n",
    "for a, b in selected_pairs:\n",
    "    \n",
    "    guide_pairs.append((\n",
    "        mapping[a][0],\n",
    "        mapping[b][0],\n",
    "        mapping[a][1],\n",
    "        mapping[b][1]))\n",
    "guide_pairs = pd.DataFrame(guide_pairs, columns=['target1_guide1', 'target2_guide1', 'target1_guide2', 'target2_guide2'])\n",
    "guide_pairs.to_csv(data_path + 'tfko140/benchmarking/guide_pairs_to_test.csv', index=False)"
   ]
  },
  {
   "cell_type": "markdown",
   "id": "a259875b-4676-41e2-94d6-6a68efdce899",
   "metadata": {},
   "source": [
    "### Generate pseudobulks\n",
    "\n",
    "Can use memento's `sum` estimator for this"
   ]
  },
  {
   "cell_type": "code",
   "execution_count": 21,
   "id": "9220c846-c29f-43bc-963a-3d5e0c5e921d",
   "metadata": {},
   "outputs": [
    {
     "name": "stderr",
     "output_type": "stream",
     "text": [
      "2023-06-29 17:36:19 2614606 INFO     setup_anndata: creating groups\n",
      "2023-06-29 17:36:43 2614606 INFO     setup_anndata: computing cell sizes\n"
     ]
    }
   ],
   "source": [
    "rna.MementoRNA.setup_anndata(\n",
    "    adata=adata,\n",
    "    q_column='q',\n",
    "    label_columns=['donor', 'guide'])"
   ]
  },
  {
   "cell_type": "code",
   "execution_count": 22,
   "id": "f1d2ab98-70cc-42e5-b5a2-7333c472860c",
   "metadata": {},
   "outputs": [],
   "source": [
    "model = rna.MementoRNA(adata=adata)"
   ]
  },
  {
   "cell_type": "code",
   "execution_count": 23,
   "id": "39560764-5dc1-4984-a472-f5244d3929e4",
   "metadata": {},
   "outputs": [
    {
     "name": "stderr",
     "output_type": "stream",
     "text": [
      "2023-06-29 17:38:18 2614606 INFO     compute_estimate: gene_list is None, using all genes...\n"
     ]
    }
   ],
   "source": [
    "model.compute_estimate(estimator='sum')"
   ]
  },
  {
   "cell_type": "code",
   "execution_count": 26,
   "id": "be63abb6-7a5d-4991-baef-087c8fda1778",
   "metadata": {},
   "outputs": [],
   "source": [
    "model.estimates['sum'].T.to_csv(data_path + 'tfko140/pseudobulks.csv')"
   ]
  }
 ],
 "metadata": {
  "kernelspec": {
   "display_name": "Python (single_cell)",
   "language": "python",
   "name": "single_cell"
  },
  "language_info": {
   "codemirror_mode": {
    "name": "ipython",
    "version": 3
   },
   "file_extension": ".py",
   "mimetype": "text/x-python",
   "name": "python",
   "nbconvert_exporter": "python",
   "pygments_lexer": "ipython3",
   "version": "3.10.11"
  }
 },
 "nbformat": 4,
 "nbformat_minor": 5
}
