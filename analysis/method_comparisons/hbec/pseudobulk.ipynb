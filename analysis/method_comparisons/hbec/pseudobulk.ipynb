{
 "cells": [
  {
   "cell_type": "code",
   "execution_count": 1,
   "id": "968e4036",
   "metadata": {},
   "outputs": [
    {
     "name": "stderr",
     "output_type": "stream",
     "text": [
      "Loading required package: limma\n",
      "\n"
     ]
    }
   ],
   "source": [
    "library(edgeR)"
   ]
  },
  {
   "cell_type": "markdown",
   "id": "53d3d7d8",
   "metadata": {},
   "source": [
    "### Simple"
   ]
  },
  {
   "cell_type": "code",
   "execution_count": 65,
   "id": "0f5e29d8",
   "metadata": {},
   "outputs": [],
   "source": [
    "data = read.table('/data_volume/memento/simulation/inference/means/simple/rep_pseudobulks_0.csv', sep=',', header=1, row.names='Symbols')\n",
    "groups <- c(rep('ctrl', 2), rep('stim', 2))"
   ]
  },
  {
   "cell_type": "code",
   "execution_count": 66,
   "id": "3c91cf65",
   "metadata": {},
   "outputs": [
    {
     "data": {
      "text/html": [
       "<style>\n",
       ".list-inline {list-style: none; margin:0; padding: 0}\n",
       ".list-inline>li {display: inline-block}\n",
       ".list-inline>li:not(:last-child)::after {content: \"\\00b7\"; padding: 0 .5ex}\n",
       "</style>\n",
       "<ol class=list-inline><li>10218</li><li>4</li></ol>\n"
      ],
      "text/latex": [
       "\\begin{enumerate*}\n",
       "\\item 10218\n",
       "\\item 4\n",
       "\\end{enumerate*}\n"
      ],
      "text/markdown": [
       "1. 10218\n",
       "2. 4\n",
       "\n",
       "\n"
      ],
      "text/plain": [
       "[1] 10218     4"
      ]
     },
     "metadata": {},
     "output_type": "display_data"
    }
   ],
   "source": [
    "dim(data)"
   ]
  },
  {
   "cell_type": "code",
   "execution_count": 67,
   "id": "4c5d7a4f",
   "metadata": {},
   "outputs": [],
   "source": [
    "y <- DGEList(counts=data,group=groups)\n",
    "keep <- filterByExpr(y,min.count=1)\n",
    "y <- y[keep,,keep.lib.sizes=FALSE]\n",
    "y <- calcNormFactors(y)\n",
    "design <- model.matrix(~groups)\n",
    "y <- estimateDisp(y,design)"
   ]
  },
  {
   "cell_type": "code",
   "execution_count": 68,
   "id": "e6067b3a",
   "metadata": {},
   "outputs": [],
   "source": [
    "fit <- glmFit(y,design)\n",
    "lrt <- glmLRT(fit,coef=2)"
   ]
  },
  {
   "cell_type": "code",
   "execution_count": 69,
   "id": "5b5cd8d0",
   "metadata": {},
   "outputs": [],
   "source": [
    "write.csv(topTags(lrt, n=Inf), '/data_volume/memento/simulation/inference/means/simple/edger_0.csv',)"
   ]
  },
  {
   "cell_type": "markdown",
   "id": "668dafa0",
   "metadata": {},
   "source": [
    "### Repeated"
   ]
  },
  {
   "cell_type": "code",
   "execution_count": 2,
   "id": "0653f8c1",
   "metadata": {},
   "outputs": [],
   "source": [
    "for (trial in seq(0,99)){\n",
    "\n",
    "    data = read.table(sprintf('/data_volume/memento/simulation/inference/means/repeated/pseudobulks_%s.csv', trial), sep=',', header=1, row.names='Symbols')\n",
    "    groups <- c(rep('ctrl', 2), rep('stim', 2))\n",
    "\n",
    "    y <- DGEList(counts=data,group=groups)\n",
    "    keep <- filterByExpr(y,min.count=1)\n",
    "    y <- y[keep,,keep.lib.sizes=FALSE]\n",
    "    y <- calcNormFactors(y)\n",
    "    design <- model.matrix(~groups)\n",
    "    y <- estimateDisp(y,design)\n",
    "\n",
    "    fit <- glmFit(y,design)\n",
    "    lrt <- glmLRT(fit,coef=2)\n",
    "\n",
    "    write.csv(topTags(lrt, n=Inf), sprintf('/data_volume/memento/simulation/inference/means/repeated/edger_%s.csv', trial),)\n",
    "    }"
   ]
  },
  {
   "cell_type": "code",
   "execution_count": 61,
   "id": "e465b212",
   "metadata": {},
   "outputs": [],
   "source": []
  },
  {
   "cell_type": "code",
   "execution_count": 62,
   "id": "d2bf3be9",
   "metadata": {},
   "outputs": [],
   "source": []
  },
  {
   "cell_type": "code",
   "execution_count": 63,
   "id": "4555018e",
   "metadata": {},
   "outputs": [],
   "source": []
  },
  {
   "cell_type": "code",
   "execution_count": null,
   "id": "2bff056f",
   "metadata": {},
   "outputs": [],
   "source": []
  }
 ],
 "metadata": {
  "kernelspec": {
   "display_name": "R",
   "language": "R",
   "name": "ir"
  },
  "language_info": {
   "codemirror_mode": "r",
   "file_extension": ".r",
   "mimetype": "text/x-r-source",
   "name": "R",
   "pygments_lexer": "r",
   "version": "4.0.5"
  }
 },
 "nbformat": 4,
 "nbformat_minor": 5
}
