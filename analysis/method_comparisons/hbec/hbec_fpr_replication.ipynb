{
 "cells": [
  {
   "cell_type": "markdown",
   "id": "752e5900",
   "metadata": {},
   "source": [
    "# HBEC FPR and replication rate"
   ]
  },
  {
   "cell_type": "code",
   "execution_count": 1,
   "id": "b3f89c21",
   "metadata": {},
   "outputs": [],
   "source": [
    "import scanpy as sc\n",
    "import seaborn as sns\n",
    "import pandas as pd\n",
    "import matplotlib.pyplot as plt\n",
    "import numpy as np\n",
    "import scipy.stats as stats\n",
    "from pybedtools import BedTool\n",
    "import pickle as pkl\n",
    "%matplotlib inline"
   ]
  },
  {
   "cell_type": "code",
   "execution_count": 2,
   "id": "4861d480",
   "metadata": {},
   "outputs": [],
   "source": [
    "import sys\n",
    "sys.path.append('/home/ssm-user/Github/scrna-parameter-estimation/dist//memento-0.1.0-py3.8.egg')\n",
    "sys.path.append('/home/ssm-user/Github/misc-seq/miscseq/')\n",
    "import encode\n",
    "import memento"
   ]
  },
  {
   "cell_type": "code",
   "execution_count": 3,
   "id": "f0ce5387",
   "metadata": {},
   "outputs": [],
   "source": [
    "data_path = '/data_volume/memento/hbec/'"
   ]
  },
  {
   "cell_type": "markdown",
   "id": "7f18fffb",
   "metadata": {},
   "source": [
    "### Read the processed RNA data and setup\n",
    "\n",
    "Focus on the club and bc/club cells and type I interferons for now.\n",
    "\n",
    "Encode the timestamps to integers."
   ]
  },
  {
   "cell_type": "code",
   "execution_count": 4,
   "id": "58cd25d5",
   "metadata": {},
   "outputs": [],
   "source": [
    "adata_processed = sc.read(data_path + 'HBEC_type_I_processed_deep.h5ad')\n",
    "adata = sc.read(data_path + 'HBEC_type_I_filtered_counts_deep.h5ad')\n",
    "converter = {'basal/club':'BC', 'basal':'B', 'ciliated':'C', 'goblet':'G', 'ionocyte/tuft':'IT', 'neuroendo':'N', 'club':'club'}\n",
    "adata.obs['ct'] = adata.obs['cell_type'].apply(lambda x: converter[x])\n",
    "adata_processed.obs['filtered_expr'] = adata_processed[:, 'CXCL10'].X.reshape(-1)* (adata_processed.obs['time'] == '3')"
   ]
  },
  {
   "cell_type": "code",
   "execution_count": 5,
   "id": "a76363fd",
   "metadata": {},
   "outputs": [],
   "source": [
    "def assign_q(batch):\n",
    "    \n",
    "    if batch == 0:\n",
    "        return 0.387*0.25\n",
    "    elif batch == 1:\n",
    "        return 0.392*0.25\n",
    "    elif batch == 2:\n",
    "        return 0.436*0.25\n",
    "    else:\n",
    "        return 0.417*0.25"
   ]
  },
  {
   "cell_type": "code",
   "execution_count": 6,
   "id": "1ca9da48",
   "metadata": {},
   "outputs": [],
   "source": [
    "adata.obs['q'] = adata.obs['batch'].apply(assign_q)"
   ]
  },
  {
   "cell_type": "code",
   "execution_count": 7,
   "id": "e01ff660",
   "metadata": {},
   "outputs": [],
   "source": [
    "memento.setup_memento(adata, q_column='q', trim_percent=0.1)"
   ]
  },
  {
   "cell_type": "markdown",
   "id": "73ca7339",
   "metadata": {},
   "source": [
    "### Function for running Python-based methods"
   ]
  },
  {
   "cell_type": "code",
   "execution_count": 8,
   "id": "a1d49e33",
   "metadata": {},
   "outputs": [],
   "source": [
    "def evaluate_fpr(count_adata, norm_data, group_col, treatment_col):\n",
    "    \n",
    "    memento.setup_memento(count_adata, q_column='q', trim_percent=0.1)\n",
    "    \n",
    "    memento.create_groups(count_adata, label_columns=[group_col, treatment_col])\n",
    "    memento.compute_1d_moments(count_adata, min_perc_group=.5)\n",
    "\n",
    "    meta_df = memento.get_groups(count_adata)\n",
    "    meta_df = pd.get_dummies(meta_df, prefix='', prefix_sep='', drop_first=True)\n",
    "\n",
    "    treatment = meta_df[[treatment_col]]\n",
    "    covariate = meta_df[[x for x in meta_df.columns if x != treatment_col]]\n",
    "    covariate = pd.concat([covariate, covariate*treatment.values], axis=1)\n",
    "\n",
    "\n",
    "    memento.ht_1d_moments(\n",
    "        count_adata, \n",
    "        treatment=treatment,\n",
    "        covariate=covariate,\n",
    "        num_boot=5000, \n",
    "        verbose=1,\n",
    "        num_cpus=14,\n",
    "        resample_rep=False,\n",
    "        approx=True)\n",
    "   \n",
    "    result = memento.get_1d_ht_result(count_adata)\n",
    "    \n",
    "    genes = list(result.gene.tolist())\n",
    "    norm_data_overlap = norm_data[:, genes].copy()\n",
    "                 \n",
    "    A_data, B_data = norm_data_overlap[norm_data_overlap.obs[treatment_col] == 0].X.todense(), norm_data_overlap[norm_data_overlap.obs[treatment_col] == 1].X.todense()\n",
    "    _, result['ttest_pval'] = stats.ttest_ind(A_data, B_data, equal_var=False)\n",
    "#     result['mwu_pval'] = np.array([stats.mannwhitneyu(A_data[:, i], B_data[:,i])[1] for i in range(A_data.shape[1])])\n",
    "    \n",
    "    return result"
   ]
  },
  {
   "cell_type": "code",
   "execution_count": 9,
   "id": "1c4e080b",
   "metadata": {},
   "outputs": [
    {
     "name": "stdout",
     "output_type": "stream",
     "text": [
      "im here\n"
     ]
    },
    {
     "name": "stderr",
     "output_type": "stream",
     "text": [
      "[Parallel(n_jobs=14)]: Using backend LokyBackend with 14 concurrent workers.\n",
      "[Parallel(n_jobs=14)]: Done  22 tasks      | elapsed:    3.5s\n",
      "[Parallel(n_jobs=14)]: Done 172 tasks      | elapsed:    5.8s\n",
      "[Parallel(n_jobs=14)]: Done 422 tasks      | elapsed:    9.8s\n",
      "[Parallel(n_jobs=14)]: Done 772 tasks      | elapsed:   15.1s\n",
      "[Parallel(n_jobs=14)]: Done 1222 tasks      | elapsed:   21.6s\n",
      "[Parallel(n_jobs=14)]: Done 1772 tasks      | elapsed:   29.6s\n",
      "[Parallel(n_jobs=14)]: Done 2422 tasks      | elapsed:   39.0s\n",
      "[Parallel(n_jobs=14)]: Done 3172 tasks      | elapsed:   49.9s\n",
      "[Parallel(n_jobs=14)]: Done 4022 tasks      | elapsed:  1.0min\n",
      "[Parallel(n_jobs=14)]: Done 4972 tasks      | elapsed:  1.3min\n",
      "[Parallel(n_jobs=14)]: Done 6022 tasks      | elapsed:  1.5min\n",
      "[Parallel(n_jobs=14)]: Done 7172 tasks      | elapsed:  1.8min\n",
      "[Parallel(n_jobs=14)]: Done 8422 tasks      | elapsed:  2.1min\n",
      "[Parallel(n_jobs=14)]: Done 9772 tasks      | elapsed:  2.4min\n",
      "[Parallel(n_jobs=14)]: Done 10682 out of 10682 | elapsed:  2.7min finished\n"
     ]
    }
   ],
   "source": [
    "test_adata = adata.copy()[\n",
    "    adata.obs.time.isin(['0', '6'])&\\\n",
    "    adata.obs.ct.isin(['C']) & \\\n",
    "    adata.obs.stim.isin(['beta', 'control']), :].copy()\n",
    "stim_converter={'control':0, 'beta':1}\n",
    "test_adata.obs['stim_indicator'] = test_adata.obs['stim'].apply(lambda x: stim_converter[x])\n",
    "# sc.pp.subsample(test_adata, n_obs=200)\n",
    "\n",
    "# test_adata.obs['shuffled_treatment'] = test_adata.obs['stim_indicator'].sample(frac=1.0).tolist()\n",
    "test_norm_adata = sc.AnnData(adata_processed[test_adata.obs.index].raw.X, test_adata.obs, adata_processed.raw.var)\n",
    "\n",
    "result_C_beta = evaluate_fpr(test_adata, test_norm_adata, 'donor','stim_indicator')"
   ]
  },
  {
   "cell_type": "code",
   "execution_count": 22,
   "id": "bf6512e6",
   "metadata": {},
   "outputs": [
    {
     "name": "stdout",
     "output_type": "stream",
     "text": [
      "im here\n"
     ]
    },
    {
     "name": "stderr",
     "output_type": "stream",
     "text": [
      "[Parallel(n_jobs=14)]: Using backend LokyBackend with 14 concurrent workers.\n",
      "[Parallel(n_jobs=14)]: Done  22 tasks      | elapsed:    0.4s\n",
      "[Parallel(n_jobs=14)]: Done 316 tasks      | elapsed:    4.4s\n",
      "[Parallel(n_jobs=14)]: Done 816 tasks      | elapsed:   11.1s\n",
      "[Parallel(n_jobs=14)]: Done 1516 tasks      | elapsed:   20.0s\n",
      "[Parallel(n_jobs=14)]: Done 2416 tasks      | elapsed:   31.8s\n",
      "[Parallel(n_jobs=14)]: Done 3516 tasks      | elapsed:   46.5s\n",
      "[Parallel(n_jobs=14)]: Done 4816 tasks      | elapsed:  1.1min\n",
      "[Parallel(n_jobs=14)]: Done 6316 tasks      | elapsed:  1.4min\n",
      "[Parallel(n_jobs=14)]: Done 8016 tasks      | elapsed:  1.8min\n",
      "[Parallel(n_jobs=14)]: Done 8488 out of 8515 | elapsed:  1.9min remaining:    0.4s\n",
      "[Parallel(n_jobs=14)]: Done 8515 out of 8515 | elapsed:  1.9min finished\n"
     ]
    }
   ],
   "source": [
    "test_adata = adata.copy()[\n",
    "    adata.obs.time.isin(['0', '6'])&\\\n",
    "    adata.obs.ct.isin(['BC']) & \\\n",
    "    adata.obs.stim.isin(['beta', 'control']), :].copy()\n",
    "stim_converter={'control':0, 'beta':1}\n",
    "test_adata.obs['stim_indicator'] = test_adata.obs['stim'].apply(lambda x: stim_converter[x])\n",
    "# sc.pp.subsample(test_adata, n_obs=200)\n",
    "\n",
    "# test_adata.obs['shuffled_treatment'] = test_adata.obs['stim_indicator'].sample(frac=1.0).tolist()\n",
    "test_norm_adata = sc.AnnData(adata_processed[test_adata.obs.index].raw.X, test_adata.obs, adata_processed.raw.var)\n",
    "\n",
    "result_BC_beta = evaluate_fpr(test_adata, test_norm_adata, 'donor','stim_indicator')"
   ]
  },
  {
   "cell_type": "code",
   "execution_count": 29,
   "id": "818f9967",
   "metadata": {},
   "outputs": [],
   "source": [
    "merged = result_C_beta.merge(result_BC_beta, on='gene', suffixes=('_C', '_BC')).replace([np.inf, -np.inf], np.nan).dropna()"
   ]
  },
  {
   "cell_type": "code",
   "execution_count": 25,
   "id": "516a776f",
   "metadata": {},
   "outputs": [
    {
     "data": {
      "text/plain": [
       "[<matplotlib.lines.Line2D at 0x7f1e22df48e0>]"
      ]
     },
     "execution_count": 25,
     "metadata": {},
     "output_type": "execute_result"
    },
    {
     "data": {
      "image/png": "[encoded data removed]",
      "text/plain": [
       "<Figure size 432x288 with 1 Axes>"
      ]
     },
     "metadata": {
      "needs_background": "light"
     },
     "output_type": "display_data"
    }
   ],
   "source": [
    "plt.scatter(-np.log(merged['ttest_pval_C']), -np.log(merged['ttest_pval_BC']))\n",
    "plt.plot([0, 600], [0, 600])"
   ]
  },
  {
   "cell_type": "code",
   "execution_count": 26,
   "id": "cf74faa1",
   "metadata": {},
   "outputs": [
    {
     "data": {
      "text/plain": [
       "[<matplotlib.lines.Line2D at 0x7f1e2235b460>]"
      ]
     },
     "execution_count": 26,
     "metadata": {},
     "output_type": "execute_result"
    },
    {
     "data": {
      "image/png": "[encoded data removed]",
      "text/plain": [
       "<Figure size 432x288 with 1 Axes>"
      ]
     },
     "metadata": {
      "needs_background": "light"
     },
     "output_type": "display_data"
    }
   ],
   "source": [
    "plt.scatter(-np.log(merged['de_pval_C']), )\n",
    "plt.plot([0, 600], [0, 600])"
   ]
  },
  {
   "cell_type": "code",
   "execution_count": 35,
   "id": "ea27f5d2",
   "metadata": {},
   "outputs": [
    {
     "data": {
      "text/plain": [
       "(0.6592276863534976, 0.0)"
      ]
     },
     "execution_count": 35,
     "metadata": {},
     "output_type": "execute_result"
    }
   ],
   "source": [
    "stats.pearsonr(-np.log(merged['ttest_pval_C']+1e-50), -np.log(merged['ttest_pval_BC']+1e-50))"
   ]
  },
  {
   "cell_type": "code",
   "execution_count": 34,
   "id": "53977d91",
   "metadata": {},
   "outputs": [
    {
     "data": {
      "text/plain": [
       "(0.657399539530646, 0.0)"
      ]
     },
     "execution_count": 34,
     "metadata": {},
     "output_type": "execute_result"
    }
   ],
   "source": [
    "stats.pearsonr(-np.log(merged['de_pval_C']+1e-50), -np.log(merged['de_pval_BC']+1e-50))"
   ]
  },
  {
   "cell_type": "code",
   "execution_count": 48,
   "id": "d0cd2443",
   "metadata": {},
   "outputs": [],
   "source": [
    "merged['memento_fdr_C'] = memento.util._fdrcorrect(merged['de_pval_C'])\n",
    "merged['memento_fdr_BC'] = memento.util._fdrcorrect(merged['de_pval_BC'])\n",
    "\n",
    "merged['ttest_fdr_C'] = memento.util._fdrcorrect(merged['ttest_pval_C'])\n",
    "merged['ttest_fdr_BC'] = memento.util._fdrcorrect(merged['ttest_pval_BC'])"
   ]
  },
  {
   "cell_type": "code",
   "execution_count": 49,
   "id": "a5119147",
   "metadata": {},
   "outputs": [],
   "source": [
    "merged['memento_hit'] = (merged['memento_fdr_BC'] < 0.01)\n",
    "merged['ttest_hit'] = (merged['ttest_fdr_BC'] < 0.01)"
   ]
  },
  {
   "cell_type": "code",
   "execution_count": 51,
   "id": "0c6ed115",
   "metadata": {},
   "outputs": [
    {
     "data": {
      "text/plain": [
       "[<matplotlib.lines.Line2D at 0x7f1e1921dee0>]"
      ]
     },
     "execution_count": 51,
     "metadata": {},
     "output_type": "execute_result"
    },
    {
     "data": {
      "image/png": "[encoded data removed]",
      "text/plain": [
       "<Figure size 432x288 with 1 Axes>"
      ]
     },
     "metadata": {
      "needs_background": "light"
     },
     "output_type": "display_data"
    }
   ],
   "source": [
    "from sklearn.metrics import precision_recall_curve\n",
    "precision, recall, thresholds = precision_recall_curve(merged['memento_hit'], 1-merged['memento_fdr_C'])\n",
    "plt.plot(recall, precision)\n",
    "plt.title('memento')"
   ]
  },
  {
   "cell_type": "code",
   "execution_count": 52,
   "id": "0d0c5388",
   "metadata": {},
   "outputs": [
    {
     "data": {
      "text/plain": [
       "Text(0.5, 1.0, 'ttest')"
      ]
     },
     "execution_count": 52,
     "metadata": {},
     "output_type": "execute_result"
    },
    {
     "data": {
      "image/png": "[encoded data removed]",
      "text/plain": [
       "<Figure size 432x288 with 1 Axes>"
      ]
     },
     "metadata": {
      "needs_background": "light"
     },
     "output_type": "display_data"
    }
   ],
   "source": [
    "from sklearn.metrics import precision_recall_curve\n",
    "precision, recall, thresholds = precision_recall_curve(merged['ttest_hit'], 1-merged['ttest_fdr_C'])\n",
    "plt.plot(recall, precision)\n",
    "plt.title('ttest')"
   ]
  },
  {
   "cell_type": "code",
   "execution_count": 42,
   "id": "8c878702",
   "metadata": {},
   "outputs": [
    {
     "ename": "AttributeError",
     "evalue": "type object 'PrecisionRecallDisplay' has no attribute 'from_predictions'",
     "output_type": "error",
     "traceback": [
      "\u001b[0;31m---------------------------------------------------------------------------\u001b[0m",
      "\u001b[0;31mAttributeError\u001b[0m                            Traceback (most recent call last)",
      "Input \u001b[0;32mIn [42]\u001b[0m, in \u001b[0;36m<cell line: 2>\u001b[0;34m()\u001b[0m\n\u001b[1;32m      1\u001b[0m \u001b[38;5;28;01mfrom\u001b[39;00m \u001b[38;5;21;01msklearn\u001b[39;00m\u001b[38;5;21;01m.\u001b[39;00m\u001b[38;5;21;01mmetrics\u001b[39;00m \u001b[38;5;28;01mimport\u001b[39;00m PrecisionRecallDisplay\n\u001b[0;32m----> 2\u001b[0m display \u001b[38;5;241m=\u001b[39m \u001b[43mPrecisionRecallDisplay\u001b[49m\u001b[38;5;241;43m.\u001b[39;49m\u001b[43mfrom_predictions\u001b[49m(\u001b[38;5;241m1\u001b[39m\u001b[38;5;241m-\u001b[39mmerged[\u001b[38;5;124m'\u001b[39m\u001b[38;5;124mmemento_fdr_C\u001b[39m\u001b[38;5;124m'\u001b[39m], merged[\u001b[38;5;124m'\u001b[39m\u001b[38;5;124mmemento_hit\u001b[39m\u001b[38;5;124m'\u001b[39m], name\u001b[38;5;241m=\u001b[39m\u001b[38;5;124m\"\u001b[39m\u001b[38;5;124mmemento\u001b[39m\u001b[38;5;124m\"\u001b[39m)\n\u001b[1;32m      3\u001b[0m _ \u001b[38;5;241m=\u001b[39m display\u001b[38;5;241m.\u001b[39max_\u001b[38;5;241m.\u001b[39mset_title(\u001b[38;5;124m\"\u001b[39m\u001b[38;5;124m2-class Precision-Recall curve\u001b[39m\u001b[38;5;124m\"\u001b[39m)\n",
      "\u001b[0;31mAttributeError\u001b[0m: type object 'PrecisionRecallDisplay' has no attribute 'from_predictions'"
     ]
    }
   ],
   "source": [
    "from sklearn.metrics import PrecisionRecallDisplay\n",
    "display = PrecisionRecallDisplay.from_predictions(, merged['memento_hit'], name=\"memento\")\n",
    "_ = display.ax_.set_title(\"2-class Precision-Recall curve\")"
   ]
  },
  {
   "cell_type": "code",
   "execution_count": null,
   "id": "780c7e64",
   "metadata": {},
   "outputs": [],
   "source": []
  },
  {
   "cell_type": "code",
   "execution_count": null,
   "id": "e3138ec8",
   "metadata": {},
   "outputs": [],
   "source": []
  },
  {
   "cell_type": "code",
   "execution_count": null,
   "id": "210e0a25",
   "metadata": {},
   "outputs": [],
   "source": [
    "test_adata = adata.copy()[\n",
    "    adata.obs.time.isin(['0', '6'])&\\\n",
    "    adata.obs.ct.isin(['BC']) & \\\n",
    "    adata.obs.stim.isin(['beta', 'control']), :].copy()\n",
    "stim_converter={'control':0, 'beta':1}\n",
    "test_adata.obs['stim_indicator'] = test_adata.obs['stim'].apply(lambda x: stim_converter[x])\n",
    "sc.pp.subsample(test_adata, n_obs=200)\n",
    "\n",
    "test_adata.obs['shuffled_treatment'] = test_adata.obs['stim_indicator'].sample(frac=1.0).tolist()\n",
    "test_norm_adata = sc.AnnData(adata_processed[test_adata.obs.index].raw.X, test_adata.obs, adata_processed.raw.var)\n",
    "\n",
    "result_C = evaluate_fpr(test_adata, test_norm_adata, 'donor','stim_indicator')"
   ]
  }
 ],
 "metadata": {
  "kernelspec": {
   "display_name": "Python 3 (ipykernel)",
   "language": "python",
   "name": "python3"
  },
  "language_info": {
   "codemirror_mode": {
    "name": "ipython",
    "version": 3
   },
   "file_extension": ".py",
   "mimetype": "text/x-python",
   "name": "python",
   "nbconvert_exporter": "python",
   "pygments_lexer": "ipython3",
   "version": "3.8.8"
  }
 },
 "nbformat": 4,
 "nbformat_minor": 5
}
