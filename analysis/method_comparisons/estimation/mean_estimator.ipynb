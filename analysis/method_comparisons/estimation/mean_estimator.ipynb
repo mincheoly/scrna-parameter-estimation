{
 "cells": [
  {
   "cell_type": "markdown",
   "id": "1badb948",
   "metadata": {},
   "source": [
    "# Designing a mean estimator and comparing against FISH data\n",
    "\n",
    "Data: https://drive.google.com/drive/folders/1uos3DDymyrh3ZyxveDhqQIcOyD1brxeL"
   ]
  },
  {
   "cell_type": "code",
   "execution_count": 244,
   "id": "d75b34b3",
   "metadata": {},
   "outputs": [],
   "source": [
    "import pandas as pd\n",
    "import seaborn as sns\n",
    "import scanpy as sc\n",
    "import scipy.sparse as sparse\n",
    "import numpy as np\n",
    "import matplotlib.pyplot as plt\n",
    "import scipy.stats as stats\n",
    "import scipy.optimize as opt\n",
    "import itertools"
   ]
  },
  {
   "cell_type": "code",
   "execution_count": 245,
   "id": "84c38e88",
   "metadata": {},
   "outputs": [],
   "source": [
    "data_path = '/data_volume/memento/saver/'"
   ]
  },
  {
   "cell_type": "code",
   "execution_count": 246,
   "id": "167c613c",
   "metadata": {},
   "outputs": [],
   "source": [
    "dropseq = pd.read_csv('/data_volume/memento/saver/melanoma_dropseq.csv', index_col=0, sep=',').T\n",
    "# dropseq = dropseq[dropseq['GAPDH'] > 0]\n",
    "dropseq_sf = dropseq.sum(axis=1).values\n"
   ]
  },
  {
   "cell_type": "code",
   "execution_count": 247,
   "id": "73f1e606",
   "metadata": {},
   "outputs": [],
   "source": [
    "smfish = pd.read_csv('/data_volume/memento/saver/fishSubset.txt', index_col=0, sep=' ')\n",
    "# smfish = smfish[smfish['GAPDH'] > 0]\n",
    "fish_gapdh_sf = (smfish['GAPDH']+1).values\n",
    "# smfish_normalized = smfish#/fish_gapdh_sf.reshape(-1, 1)\n",
    "# smfish = pd.read_csv('fishSubset (1).txt', sep=' ', index_col=0)"
   ]
  },
  {
   "cell_type": "code",
   "execution_count": 248,
   "id": "1bef438c-4c3b-4b33-af28-ba1301ea12ee",
   "metadata": {},
   "outputs": [],
   "source": [
    "overlap_genes = list(set(dropseq.columns) & set(smfish.columns))\n",
    "overlap_genes = dropseq.mean(axis=0)[overlap_genes][dropseq.mean(axis=0)[overlap_genes] > 0.02].index.tolist()"
   ]
  },
  {
   "cell_type": "code",
   "execution_count": 249,
   "id": "4ef4d3cb-bc6a-4b58-9ab7-868c8807a71d",
   "metadata": {},
   "outputs": [],
   "source": [
    "smfish = smfish[overlap_genes].fillna(0.0)"
   ]
  },
  {
   "cell_type": "markdown",
   "id": "acf4667a-fd0f-4980-ac94-8054542ba6d4",
   "metadata": {},
   "source": [
    "### Confirm SAVER computes sample mean"
   ]
  },
  {
   "cell_type": "code",
   "execution_count": 311,
   "id": "b56232d6-c640-4c18-916c-079948a5e756",
   "metadata": {},
   "outputs": [
    {
     "data": {
      "text/plain": [
       "(8498, 12241)"
      ]
     },
     "execution_count": 311,
     "metadata": {},
     "output_type": "execute_result"
    }
   ],
   "source": [
    "variance_contributions.shape"
   ]
  },
  {
   "cell_type": "code",
   "execution_count": 312,
   "id": "f5e31793-3753-432d-b4e7-9fcbbd71b394",
   "metadata": {},
   "outputs": [],
   "source": [
    "q=0.02\n",
    "X = dropseq/dropseq_sf.reshape(-1,1)\n",
    "m1 = (dropseq/dropseq_sf.reshape(-1,1)).mean(axis=0)\n",
    "naive_v = X.var(axis=0)\n",
    "v = naive_v-(1-q)*(dropseq.values/(dropseq_sf**2-dropseq_sf*(1-q)).reshape(-1,1)).mean(axis=0)\n",
    "variance_contributions = ((1-q)/dropseq_sf).reshape(-1,1)*m1.values.reshape(1,-1) + v.values.reshape(1,-1)\n",
    "m3 = pd.Series(np.average( (dropseq/dropseq_sf.reshape(-1,1)), weights=1/variance_contributions, axis=0), index=m1.index)\n",
    "m3[m3<0] = m1[m3<0]"
   ]
  },
  {
   "cell_type": "code",
   "execution_count": 270,
   "id": "11e88a3a-8098-4535-972a-6f5c55aadf9b",
   "metadata": {},
   "outputs": [],
   "source": [
    "saver_estimates = pd.read_csv('/data_volume/memento/saver/saver_estimates.csv', index_col=0)"
   ]
  },
  {
   "cell_type": "code",
   "execution_count": 321,
   "id": "9660ab12-33b7-464c-9e60-69e33901ef25",
   "metadata": {},
   "outputs": [],
   "source": [
    "m_saver = (saver_estimates/dropseq_sf.mean()).mean(axis=1)"
   ]
  },
  {
   "cell_type": "code",
   "execution_count": 322,
   "id": "9d49feb6-cb6d-42c8-a9d7-05ba8f1fdc76",
   "metadata": {},
   "outputs": [
    {
     "data": {
      "text/plain": [
       "PearsonRResult(statistic=0.9999568794492765, pvalue=0.0)"
      ]
     },
     "execution_count": 322,
     "metadata": {},
     "output_type": "execute_result"
    }
   ],
   "source": [
    "stats.pearsonr(np.log(m1), np.log(m_saver)) # Pretty much identical"
   ]
  },
  {
   "cell_type": "code",
   "execution_count": 323,
   "id": "fb4177de-da4c-4583-b2b6-14021514da5b",
   "metadata": {},
   "outputs": [
    {
     "data": {
      "text/plain": [
       "PearsonRResult(statistic=0.9972203156894193, pvalue=0.0)"
      ]
     },
     "execution_count": 323,
     "metadata": {},
     "output_type": "execute_result"
    }
   ],
   "source": [
    "stats.pearsonr(np.log(m3), np.log(m_saver)) #pretty close but not identical"
   ]
  },
  {
   "cell_type": "markdown",
   "id": "e844241f-4c86-480d-9d9e-6c8c4425dd9d",
   "metadata": {},
   "source": [
    "### Numi vs # genes plot"
   ]
  },
  {
   "cell_type": "code",
   "execution_count": 284,
   "id": "040157fb-4266-4f70-a6c2-18aea33f75ff",
   "metadata": {},
   "outputs": [],
   "source": [
    "num_genes = (dropseq > 0).sum(axis=1)"
   ]
  },
  {
   "cell_type": "code",
   "execution_count": 285,
   "id": "506feca1-2b58-451e-ab56-a5f76a14b723",
   "metadata": {},
   "outputs": [
    {
     "data": {
      "text/plain": [
       "Text(0, 0.5, 'num genes detected')"
      ]
     },
     "execution_count": 285,
     "metadata": {},
     "output_type": "execute_result"
    },
    {
     "data": {
      "image/png": "[encoded data removed]",
      "text/plain": [
       "<Figure size 300x300 with 1 Axes>"
      ]
     },
     "metadata": {},
     "output_type": "display_data"
    }
   ],
   "source": [
    "plt.figure(figsize=(3,3))\n",
    "plt.scatter(dropseq.sum(axis=1), num_genes, s=1)\n",
    "plt.xlabel('num umi');plt.ylabel('num genes detected')"
   ]
  },
  {
   "cell_type": "markdown",
   "id": "a8a6f745-13fc-40b9-a38e-6439e41fe38b",
   "metadata": {},
   "source": [
    "### Function for comparing estimators using FISH data"
   ]
  },
  {
   "cell_type": "code",
   "execution_count": 101,
   "id": "d81abcc7-be7a-4af3-813b-b162fd16ffa1",
   "metadata": {},
   "outputs": [],
   "source": [
    "def compare_estimators(smfish, fish_gapdh_sf, dropseq, dropseq_sf, overlap_genes,p=1):\n",
    "\n",
    "    q=0.02*p\n",
    "    mfish = (smfish/fish_gapdh_sf.reshape(-1,1))[overlap_genes].mean(axis=0)\n",
    "\n",
    "    # Sample mean\n",
    "    m1 = (dropseq/dropseq_sf.reshape(-1,1))[overlap_genes].mean(axis=0)\n",
    "\n",
    "    # Filtering cells\n",
    "    cells_with_many_genes = (dropseq_sf > 1500*p)\n",
    "    m2 = (dropseq/dropseq_sf.reshape(-1,1)).loc[cells_with_many_genes,overlap_genes].mean(axis=0)\n",
    "    m2 = np.maximum(m1,m2)\n",
    "\n",
    "    # Solve for optimal weights\n",
    "    X = dropseq/dropseq_sf.reshape(-1,1)\n",
    "    naive_v = X.var(axis=0)[overlap_genes]\n",
    "    v = naive_v-(1-q)*(dropseq[overlap_genes].values/(dropseq_sf**2-dropseq_sf*(1-q)).reshape(-1,1)).mean(axis=0)\n",
    "    variance_contributions = ((1-q)/dropseq_sf).reshape(-1,1)*m1.values.reshape(1,-1) + v.values.reshape(1,-1)\n",
    "    m3 = pd.Series(np.average( (dropseq/dropseq_sf.reshape(-1,1))[overlap_genes], weights=1/variance_contributions, axis=0), index=m2.index)\n",
    "    m3[m3<0] = m2[m3<0]\n",
    "\n",
    "    return mfish, m1, m2, m3\n",
    "    plt.scatter(x=np.log(mfish), y=np.log(m1))\n",
    "    plt.scatter(x=np.log(mfish), y=np.log(m2))\n",
    "    plt.scatter(x=np.log(mfish), y=np.log(m3))\n",
    "\n",
    "    plt.xlabel('FISH'); plt.ylabel('Dropseq');\n",
    "    plt.legend(['naive r=%0.2f' % stats.pearsonr(np.log(mfish), np.log(m1))[0], \n",
    "                'filtered r=%0.2f' %stats.pearsonr(np.log(mfish), np.log(m2))[0], \n",
    "                'weighted r=%0.2f' %stats.pearsonr(np.log(mfish), np.log(m3))[0],\n",
    "               ])"
   ]
  },
  {
   "cell_type": "markdown",
   "id": "bfc5cf39-3d9f-4418-9ec5-6c064ec6d2ed",
   "metadata": {},
   "source": [
    "### Investigate performance with varying number of cells"
   ]
  },
  {
   "cell_type": "code",
   "execution_count": 332,
   "id": "602c241a-4a09-46bf-a70a-a5aa62c2855b",
   "metadata": {},
   "outputs": [],
   "source": [
    "result = []\n",
    "for num_cell in [50, 100, 200, 300, 500, 1000]:\n",
    "        \n",
    "        for trial in range(1000):\n",
    "\n",
    "            sample_idx = np.random.choice(dropseq.shape[0], num_cell)\n",
    "            tiny = dropseq.iloc[sample_idx]\n",
    "            shallow = tiny\n",
    "            counts = shallow.sum(axis=0)[overlap_genes]\n",
    "            relevant_genes = counts[counts > 0].index.tolist()\n",
    "            shallow_sf = shallow.sum(axis=1).values\n",
    "            mfish, m1, m2, m3 = compare_estimators(smfish, fish_gapdh_sf, shallow, shallow_sf, overlap_genes=relevant_genes, p=p)\n",
    "\n",
    "            mean_numi = shallow_sf.mean()\n",
    "            \n",
    "            corr1 = stats.pearsonr(np.log(mfish), np.log(m1))[0]\n",
    "            corr2 = stats.pearsonr(np.log(mfish), np.log(m2))[0]\n",
    "            corr3 = stats.pearsonr(np.log(mfish), np.log(m3))[0]\n",
    "            result.append((num_cell, p, mean_numi, corr1, corr2, corr3))\n",
    "experiment_result = pd.DataFrame(result, columns=['num_cell', 'p', 'mean_umi', 'naive', 'filtered', 'memento'])\n",
    "experiment_result.to_csv('numcells.csv', index=False)"
   ]
  },
  {
   "cell_type": "code",
   "execution_count": 333,
   "id": "51da0dfa-ffab-42c9-b281-919a0a5ad06f",
   "metadata": {},
   "outputs": [],
   "source": [
    "df = pd.melt(experiment_result, id_vars=['num_cell', 'p', 'mean_umi'], value_vars=['naive', 'memento'], var_name='estimator')"
   ]
  },
  {
   "cell_type": "code",
   "execution_count": 334,
   "id": "922ae10e-7c53-457f-a175-fbb8306f803a",
   "metadata": {},
   "outputs": [
    {
     "data": {
      "text/plain": [
       "<matplotlib.legend.Legend at 0x7ff3143e8640>"
      ]
     },
     "execution_count": 334,
     "metadata": {},
     "output_type": "execute_result"
    },
    {
     "data": {
      "image/png": "[encoded data removed]",
      "text/plain": [
       "<Figure size 300x200 with 1 Axes>"
      ]
     },
     "metadata": {},
     "output_type": "display_data"
    }
   ],
   "source": [
    "plt.figure(figsize=(3, 2))\n",
    "sns.pointplot(y='value', x='num_cell', hue='estimator',data=df, errorbar=('ci', 0), estimator='median')\n",
    "# sns.stripplot(y='value', x='p', hue='estimator',data=df, dodge=True, alpha=0.2,s=3)\n",
    "plt.legend([], frameon=False)"
   ]
  },
  {
   "cell_type": "code",
   "execution_count": 335,
   "id": "8a92c326-f30c-4dc3-a1ba-56437ae46229",
   "metadata": {},
   "outputs": [
    {
     "data": {
      "text/plain": [
       "<matplotlib.legend.Legend at 0x7ff32605e1f0>"
      ]
     },
     "execution_count": 335,
     "metadata": {},
     "output_type": "execute_result"
    },
    {
     "data": {
      "image/png": "[encoded data removed]",
      "text/plain": [
       "<Figure size 300x200 with 1 Axes>"
      ]
     },
     "metadata": {},
     "output_type": "display_data"
    }
   ],
   "source": [
    "plt.figure(figsize=(3, 2))\n",
    "sns.pointplot(y='value', x='num_cell', hue='estimator',data=df, errorbar=('ci', 0), estimator='mean')\n",
    "# sns.stripplot(y='value', x='p', hue='estimator',data=df, dodge=True, alpha=0.2,s=3)\n",
    "plt.legend([], frameon=False)"
   ]
  },
  {
   "cell_type": "markdown",
   "id": "cb0b93d2-1772-49f6-b884-7d4c4540b3d5",
   "metadata": {},
   "source": [
    "### Investigate performance with varying number of UMIs per cell"
   ]
  },
  {
   "cell_type": "code",
   "execution_count": null,
   "id": "fc7214b0-53af-4ad5-9e50-f47666ae1d9f",
   "metadata": {},
   "outputs": [
    {
     "name": "stderr",
     "output_type": "stream",
     "text": [
      "/tmp/ipykernel_4926/2380475113.py:19: RuntimeWarning: divide by zero encountered in true_divide\n",
      "  m3 = pd.Series(np.average( (dropseq/dropseq_sf.reshape(-1,1))[overlap_genes], weights=1/variance_contributions, axis=0), index=m2.index)\n",
      "/home/ssm-user/anaconda3/envs/single_cell/lib/python3.8/site-packages/numpy/lib/function_base.py:527: RuntimeWarning: invalid value encountered in multiply\n",
      "  avg = np.multiply(a, wgt, dtype=result_dtype).sum(axis)/scl\n",
      "/home/ssm-user/anaconda3/envs/single_cell/lib/python3.8/site-packages/pandas/core/arraylike.py:402: RuntimeWarning: divide by zero encountered in log\n",
      "  result = getattr(ufunc, method)(*inputs, **kwargs)\n",
      "/home/ssm-user/anaconda3/envs/single_cell/lib/python3.8/site-packages/scipy/stats/_stats_py.py:4446: RuntimeWarning: invalid value encountered in subtract\n",
      "  ym = y.astype(dtype) - ymean\n",
      "/tmp/ipykernel_4926/2380475113.py:19: RuntimeWarning: divide by zero encountered in true_divide\n",
      "  m3 = pd.Series(np.average( (dropseq/dropseq_sf.reshape(-1,1))[overlap_genes], weights=1/variance_contributions, axis=0), index=m2.index)\n",
      "/home/ssm-user/anaconda3/envs/single_cell/lib/python3.8/site-packages/numpy/lib/function_base.py:527: RuntimeWarning: invalid value encountered in multiply\n",
      "  avg = np.multiply(a, wgt, dtype=result_dtype).sum(axis)/scl\n",
      "/home/ssm-user/anaconda3/envs/single_cell/lib/python3.8/site-packages/pandas/core/arraylike.py:402: RuntimeWarning: divide by zero encountered in log\n",
      "  result = getattr(ufunc, method)(*inputs, **kwargs)\n",
      "/home/ssm-user/anaconda3/envs/single_cell/lib/python3.8/site-packages/scipy/stats/_stats_py.py:4446: RuntimeWarning: invalid value encountered in subtract\n",
      "  ym = y.astype(dtype) - ymean\n",
      "/tmp/ipykernel_4926/2380475113.py:19: RuntimeWarning: divide by zero encountered in true_divide\n",
      "  m3 = pd.Series(np.average( (dropseq/dropseq_sf.reshape(-1,1))[overlap_genes], weights=1/variance_contributions, axis=0), index=m2.index)\n",
      "/home/ssm-user/anaconda3/envs/single_cell/lib/python3.8/site-packages/numpy/lib/function_base.py:527: RuntimeWarning: invalid value encountered in multiply\n",
      "  avg = np.multiply(a, wgt, dtype=result_dtype).sum(axis)/scl\n",
      "/home/ssm-user/anaconda3/envs/single_cell/lib/python3.8/site-packages/pandas/core/arraylike.py:402: RuntimeWarning: divide by zero encountered in log\n",
      "  result = getattr(ufunc, method)(*inputs, **kwargs)\n",
      "/home/ssm-user/anaconda3/envs/single_cell/lib/python3.8/site-packages/scipy/stats/_stats_py.py:4446: RuntimeWarning: invalid value encountered in subtract\n",
      "  ym = y.astype(dtype) - ymean\n",
      "/tmp/ipykernel_4926/2380475113.py:19: RuntimeWarning: divide by zero encountered in true_divide\n",
      "  m3 = pd.Series(np.average( (dropseq/dropseq_sf.reshape(-1,1))[overlap_genes], weights=1/variance_contributions, axis=0), index=m2.index)\n",
      "/home/ssm-user/anaconda3/envs/single_cell/lib/python3.8/site-packages/numpy/lib/function_base.py:527: RuntimeWarning: invalid value encountered in multiply\n",
      "  avg = np.multiply(a, wgt, dtype=result_dtype).sum(axis)/scl\n",
      "/home/ssm-user/anaconda3/envs/single_cell/lib/python3.8/site-packages/pandas/core/arraylike.py:402: RuntimeWarning: divide by zero encountered in log\n",
      "  result = getattr(ufunc, method)(*inputs, **kwargs)\n",
      "/home/ssm-user/anaconda3/envs/single_cell/lib/python3.8/site-packages/scipy/stats/_stats_py.py:4446: RuntimeWarning: invalid value encountered in subtract\n",
      "  ym = y.astype(dtype) - ymean\n",
      "/tmp/ipykernel_4926/2380475113.py:19: RuntimeWarning: divide by zero encountered in true_divide\n",
      "  m3 = pd.Series(np.average( (dropseq/dropseq_sf.reshape(-1,1))[overlap_genes], weights=1/variance_contributions, axis=0), index=m2.index)\n",
      "/home/ssm-user/anaconda3/envs/single_cell/lib/python3.8/site-packages/numpy/lib/function_base.py:527: RuntimeWarning: invalid value encountered in multiply\n",
      "  avg = np.multiply(a, wgt, dtype=result_dtype).sum(axis)/scl\n",
      "/home/ssm-user/anaconda3/envs/single_cell/lib/python3.8/site-packages/pandas/core/arraylike.py:402: RuntimeWarning: divide by zero encountered in log\n",
      "  result = getattr(ufunc, method)(*inputs, **kwargs)\n",
      "/home/ssm-user/anaconda3/envs/single_cell/lib/python3.8/site-packages/scipy/stats/_stats_py.py:4446: RuntimeWarning: invalid value encountered in subtract\n",
      "  ym = y.astype(dtype) - ymean\n",
      "/tmp/ipykernel_4926/2380475113.py:19: RuntimeWarning: divide by zero encountered in true_divide\n",
      "  m3 = pd.Series(np.average( (dropseq/dropseq_sf.reshape(-1,1))[overlap_genes], weights=1/variance_contributions, axis=0), index=m2.index)\n",
      "/home/ssm-user/anaconda3/envs/single_cell/lib/python3.8/site-packages/numpy/lib/function_base.py:527: RuntimeWarning: invalid value encountered in multiply\n",
      "  avg = np.multiply(a, wgt, dtype=result_dtype).sum(axis)/scl\n",
      "/home/ssm-user/anaconda3/envs/single_cell/lib/python3.8/site-packages/pandas/core/arraylike.py:402: RuntimeWarning: divide by zero encountered in log\n",
      "  result = getattr(ufunc, method)(*inputs, **kwargs)\n",
      "/home/ssm-user/anaconda3/envs/single_cell/lib/python3.8/site-packages/scipy/stats/_stats_py.py:4446: RuntimeWarning: invalid value encountered in subtract\n",
      "  ym = y.astype(dtype) - ymean\n",
      "/tmp/ipykernel_4926/2380475113.py:19: RuntimeWarning: divide by zero encountered in true_divide\n",
      "  m3 = pd.Series(np.average( (dropseq/dropseq_sf.reshape(-1,1))[overlap_genes], weights=1/variance_contributions, axis=0), index=m2.index)\n",
      "/home/ssm-user/anaconda3/envs/single_cell/lib/python3.8/site-packages/numpy/lib/function_base.py:527: RuntimeWarning: invalid value encountered in multiply\n",
      "  avg = np.multiply(a, wgt, dtype=result_dtype).sum(axis)/scl\n",
      "/home/ssm-user/anaconda3/envs/single_cell/lib/python3.8/site-packages/pandas/core/arraylike.py:402: RuntimeWarning: divide by zero encountered in log\n",
      "  result = getattr(ufunc, method)(*inputs, **kwargs)\n",
      "/home/ssm-user/anaconda3/envs/single_cell/lib/python3.8/site-packages/scipy/stats/_stats_py.py:4446: RuntimeWarning: invalid value encountered in subtract\n",
      "  ym = y.astype(dtype) - ymean\n",
      "/tmp/ipykernel_4926/2380475113.py:19: RuntimeWarning: divide by zero encountered in true_divide\n",
      "  m3 = pd.Series(np.average( (dropseq/dropseq_sf.reshape(-1,1))[overlap_genes], weights=1/variance_contributions, axis=0), index=m2.index)\n",
      "/home/ssm-user/anaconda3/envs/single_cell/lib/python3.8/site-packages/numpy/lib/function_base.py:527: RuntimeWarning: invalid value encountered in multiply\n",
      "  avg = np.multiply(a, wgt, dtype=result_dtype).sum(axis)/scl\n",
      "/home/ssm-user/anaconda3/envs/single_cell/lib/python3.8/site-packages/pandas/core/arraylike.py:402: RuntimeWarning: divide by zero encountered in log\n",
      "  result = getattr(ufunc, method)(*inputs, **kwargs)\n",
      "/home/ssm-user/anaconda3/envs/single_cell/lib/python3.8/site-packages/scipy/stats/_stats_py.py:4446: RuntimeWarning: invalid value encountered in subtract\n",
      "  ym = y.astype(dtype) - ymean\n",
      "/tmp/ipykernel_4926/2380475113.py:19: RuntimeWarning: divide by zero encountered in true_divide\n",
      "  m3 = pd.Series(np.average( (dropseq/dropseq_sf.reshape(-1,1))[overlap_genes], weights=1/variance_contributions, axis=0), index=m2.index)\n",
      "/home/ssm-user/anaconda3/envs/single_cell/lib/python3.8/site-packages/numpy/lib/function_base.py:527: RuntimeWarning: invalid value encountered in multiply\n",
      "  avg = np.multiply(a, wgt, dtype=result_dtype).sum(axis)/scl\n",
      "/home/ssm-user/anaconda3/envs/single_cell/lib/python3.8/site-packages/pandas/core/arraylike.py:402: RuntimeWarning: divide by zero encountered in log\n",
      "  result = getattr(ufunc, method)(*inputs, **kwargs)\n",
      "/home/ssm-user/anaconda3/envs/single_cell/lib/python3.8/site-packages/scipy/stats/_stats_py.py:4446: RuntimeWarning: invalid value encountered in subtract\n",
      "  ym = y.astype(dtype) - ymean\n",
      "/tmp/ipykernel_4926/2380475113.py:19: RuntimeWarning: divide by zero encountered in true_divide\n",
      "  m3 = pd.Series(np.average( (dropseq/dropseq_sf.reshape(-1,1))[overlap_genes], weights=1/variance_contributions, axis=0), index=m2.index)\n",
      "/home/ssm-user/anaconda3/envs/single_cell/lib/python3.8/site-packages/numpy/lib/function_base.py:527: RuntimeWarning: invalid value encountered in multiply\n",
      "  avg = np.multiply(a, wgt, dtype=result_dtype).sum(axis)/scl\n",
      "/home/ssm-user/anaconda3/envs/single_cell/lib/python3.8/site-packages/pandas/core/arraylike.py:402: RuntimeWarning: divide by zero encountered in log\n",
      "  result = getattr(ufunc, method)(*inputs, **kwargs)\n",
      "/home/ssm-user/anaconda3/envs/single_cell/lib/python3.8/site-packages/scipy/stats/_stats_py.py:4446: RuntimeWarning: invalid value encountered in subtract\n",
      "  ym = y.astype(dtype) - ymean\n",
      "/tmp/ipykernel_4926/2380475113.py:19: RuntimeWarning: divide by zero encountered in true_divide\n",
      "  m3 = pd.Series(np.average( (dropseq/dropseq_sf.reshape(-1,1))[overlap_genes], weights=1/variance_contributions, axis=0), index=m2.index)\n",
      "/home/ssm-user/anaconda3/envs/single_cell/lib/python3.8/site-packages/numpy/lib/function_base.py:527: RuntimeWarning: invalid value encountered in multiply\n",
      "  avg = np.multiply(a, wgt, dtype=result_dtype).sum(axis)/scl\n",
      "/home/ssm-user/anaconda3/envs/single_cell/lib/python3.8/site-packages/pandas/core/arraylike.py:402: RuntimeWarning: divide by zero encountered in log\n",
      "  result = getattr(ufunc, method)(*inputs, **kwargs)\n",
      "/home/ssm-user/anaconda3/envs/single_cell/lib/python3.8/site-packages/scipy/stats/_stats_py.py:4446: RuntimeWarning: invalid value encountered in subtract\n",
      "  ym = y.astype(dtype) - ymean\n",
      "/tmp/ipykernel_4926/2380475113.py:19: RuntimeWarning: divide by zero encountered in true_divide\n",
      "  m3 = pd.Series(np.average( (dropseq/dropseq_sf.reshape(-1,1))[overlap_genes], weights=1/variance_contributions, axis=0), index=m2.index)\n",
      "/home/ssm-user/anaconda3/envs/single_cell/lib/python3.8/site-packages/numpy/lib/function_base.py:527: RuntimeWarning: invalid value encountered in multiply\n",
      "  avg = np.multiply(a, wgt, dtype=result_dtype).sum(axis)/scl\n",
      "/home/ssm-user/anaconda3/envs/single_cell/lib/python3.8/site-packages/pandas/core/arraylike.py:402: RuntimeWarning: divide by zero encountered in log\n",
      "  result = getattr(ufunc, method)(*inputs, **kwargs)\n",
      "/home/ssm-user/anaconda3/envs/single_cell/lib/python3.8/site-packages/scipy/stats/_stats_py.py:4446: RuntimeWarning: invalid value encountered in subtract\n",
      "  ym = y.astype(dtype) - ymean\n",
      "/tmp/ipykernel_4926/2380475113.py:19: RuntimeWarning: divide by zero encountered in true_divide\n",
      "  m3 = pd.Series(np.average( (dropseq/dropseq_sf.reshape(-1,1))[overlap_genes], weights=1/variance_contributions, axis=0), index=m2.index)\n",
      "/home/ssm-user/anaconda3/envs/single_cell/lib/python3.8/site-packages/numpy/lib/function_base.py:527: RuntimeWarning: invalid value encountered in multiply\n",
      "  avg = np.multiply(a, wgt, dtype=result_dtype).sum(axis)/scl\n",
      "/home/ssm-user/anaconda3/envs/single_cell/lib/python3.8/site-packages/pandas/core/arraylike.py:402: RuntimeWarning: divide by zero encountered in log\n",
      "  result = getattr(ufunc, method)(*inputs, **kwargs)\n",
      "/home/ssm-user/anaconda3/envs/single_cell/lib/python3.8/site-packages/scipy/stats/_stats_py.py:4446: RuntimeWarning: invalid value encountered in subtract\n",
      "  ym = y.astype(dtype) - ymean\n",
      "/tmp/ipykernel_4926/2380475113.py:19: RuntimeWarning: divide by zero encountered in true_divide\n",
      "  m3 = pd.Series(np.average( (dropseq/dropseq_sf.reshape(-1,1))[overlap_genes], weights=1/variance_contributions, axis=0), index=m2.index)\n",
      "/home/ssm-user/anaconda3/envs/single_cell/lib/python3.8/site-packages/numpy/lib/function_base.py:527: RuntimeWarning: invalid value encountered in multiply\n",
      "  avg = np.multiply(a, wgt, dtype=result_dtype).sum(axis)/scl\n",
      "/home/ssm-user/anaconda3/envs/single_cell/lib/python3.8/site-packages/pandas/core/arraylike.py:402: RuntimeWarning: divide by zero encountered in log\n",
      "  result = getattr(ufunc, method)(*inputs, **kwargs)\n",
      "/home/ssm-user/anaconda3/envs/single_cell/lib/python3.8/site-packages/scipy/stats/_stats_py.py:4446: RuntimeWarning: invalid value encountered in subtract\n",
      "  ym = y.astype(dtype) - ymean\n",
      "/tmp/ipykernel_4926/2380475113.py:19: RuntimeWarning: divide by zero encountered in true_divide\n",
      "  m3 = pd.Series(np.average( (dropseq/dropseq_sf.reshape(-1,1))[overlap_genes], weights=1/variance_contributions, axis=0), index=m2.index)\n",
      "/home/ssm-user/anaconda3/envs/single_cell/lib/python3.8/site-packages/numpy/lib/function_base.py:527: RuntimeWarning: invalid value encountered in multiply\n",
      "  avg = np.multiply(a, wgt, dtype=result_dtype).sum(axis)/scl\n",
      "/home/ssm-user/anaconda3/envs/single_cell/lib/python3.8/site-packages/pandas/core/arraylike.py:402: RuntimeWarning: divide by zero encountered in log\n",
      "  result = getattr(ufunc, method)(*inputs, **kwargs)\n",
      "/home/ssm-user/anaconda3/envs/single_cell/lib/python3.8/site-packages/scipy/stats/_stats_py.py:4446: RuntimeWarning: invalid value encountered in subtract\n",
      "  ym = y.astype(dtype) - ymean\n",
      "/tmp/ipykernel_4926/2380475113.py:19: RuntimeWarning: divide by zero encountered in true_divide\n",
      "  m3 = pd.Series(np.average( (dropseq/dropseq_sf.reshape(-1,1))[overlap_genes], weights=1/variance_contributions, axis=0), index=m2.index)\n",
      "/home/ssm-user/anaconda3/envs/single_cell/lib/python3.8/site-packages/numpy/lib/function_base.py:527: RuntimeWarning: invalid value encountered in multiply\n",
      "  avg = np.multiply(a, wgt, dtype=result_dtype).sum(axis)/scl\n",
      "/home/ssm-user/anaconda3/envs/single_cell/lib/python3.8/site-packages/pandas/core/arraylike.py:402: RuntimeWarning: divide by zero encountered in log\n",
      "  result = getattr(ufunc, method)(*inputs, **kwargs)\n",
      "/home/ssm-user/anaconda3/envs/single_cell/lib/python3.8/site-packages/scipy/stats/_stats_py.py:4446: RuntimeWarning: invalid value encountered in subtract\n",
      "  ym = y.astype(dtype) - ymean\n",
      "/tmp/ipykernel_4926/2380475113.py:19: RuntimeWarning: divide by zero encountered in true_divide\n",
      "  m3 = pd.Series(np.average( (dropseq/dropseq_sf.reshape(-1,1))[overlap_genes], weights=1/variance_contributions, axis=0), index=m2.index)\n",
      "/home/ssm-user/anaconda3/envs/single_cell/lib/python3.8/site-packages/numpy/lib/function_base.py:527: RuntimeWarning: invalid value encountered in multiply\n",
      "  avg = np.multiply(a, wgt, dtype=result_dtype).sum(axis)/scl\n",
      "/home/ssm-user/anaconda3/envs/single_cell/lib/python3.8/site-packages/pandas/core/arraylike.py:402: RuntimeWarning: divide by zero encountered in log\n",
      "  result = getattr(ufunc, method)(*inputs, **kwargs)\n",
      "/home/ssm-user/anaconda3/envs/single_cell/lib/python3.8/site-packages/scipy/stats/_stats_py.py:4446: RuntimeWarning: invalid value encountered in subtract\n",
      "  ym = y.astype(dtype) - ymean\n",
      "/tmp/ipykernel_4926/2380475113.py:19: RuntimeWarning: divide by zero encountered in true_divide\n",
      "  m3 = pd.Series(np.average( (dropseq/dropseq_sf.reshape(-1,1))[overlap_genes], weights=1/variance_contributions, axis=0), index=m2.index)\n",
      "/home/ssm-user/anaconda3/envs/single_cell/lib/python3.8/site-packages/numpy/lib/function_base.py:527: RuntimeWarning: invalid value encountered in multiply\n",
      "  avg = np.multiply(a, wgt, dtype=result_dtype).sum(axis)/scl\n",
      "/home/ssm-user/anaconda3/envs/single_cell/lib/python3.8/site-packages/pandas/core/arraylike.py:402: RuntimeWarning: divide by zero encountered in log\n",
      "  result = getattr(ufunc, method)(*inputs, **kwargs)\n",
      "/home/ssm-user/anaconda3/envs/single_cell/lib/python3.8/site-packages/scipy/stats/_stats_py.py:4446: RuntimeWarning: invalid value encountered in subtract\n",
      "  ym = y.astype(dtype) - ymean\n",
      "/tmp/ipykernel_4926/2380475113.py:19: RuntimeWarning: divide by zero encountered in true_divide\n",
      "  m3 = pd.Series(np.average( (dropseq/dropseq_sf.reshape(-1,1))[overlap_genes], weights=1/variance_contributions, axis=0), index=m2.index)\n",
      "/home/ssm-user/anaconda3/envs/single_cell/lib/python3.8/site-packages/numpy/lib/function_base.py:527: RuntimeWarning: invalid value encountered in multiply\n",
      "  avg = np.multiply(a, wgt, dtype=result_dtype).sum(axis)/scl\n",
      "/home/ssm-user/anaconda3/envs/single_cell/lib/python3.8/site-packages/pandas/core/arraylike.py:402: RuntimeWarning: divide by zero encountered in log\n",
      "  result = getattr(ufunc, method)(*inputs, **kwargs)\n",
      "/home/ssm-user/anaconda3/envs/single_cell/lib/python3.8/site-packages/scipy/stats/_stats_py.py:4446: RuntimeWarning: invalid value encountered in subtract\n",
      "  ym = y.astype(dtype) - ymean\n",
      "/tmp/ipykernel_4926/2380475113.py:19: RuntimeWarning: divide by zero encountered in true_divide\n",
      "  m3 = pd.Series(np.average( (dropseq/dropseq_sf.reshape(-1,1))[overlap_genes], weights=1/variance_contributions, axis=0), index=m2.index)\n",
      "/home/ssm-user/anaconda3/envs/single_cell/lib/python3.8/site-packages/numpy/lib/function_base.py:527: RuntimeWarning: invalid value encountered in multiply\n",
      "  avg = np.multiply(a, wgt, dtype=result_dtype).sum(axis)/scl\n",
      "/home/ssm-user/anaconda3/envs/single_cell/lib/python3.8/site-packages/pandas/core/arraylike.py:402: RuntimeWarning: divide by zero encountered in log\n",
      "  result = getattr(ufunc, method)(*inputs, **kwargs)\n",
      "/home/ssm-user/anaconda3/envs/single_cell/lib/python3.8/site-packages/scipy/stats/_stats_py.py:4446: RuntimeWarning: invalid value encountered in subtract\n",
      "  ym = y.astype(dtype) - ymean\n",
      "/tmp/ipykernel_4926/2380475113.py:19: RuntimeWarning: divide by zero encountered in true_divide\n",
      "  m3 = pd.Series(np.average( (dropseq/dropseq_sf.reshape(-1,1))[overlap_genes], weights=1/variance_contributions, axis=0), index=m2.index)\n",
      "/home/ssm-user/anaconda3/envs/single_cell/lib/python3.8/site-packages/numpy/lib/function_base.py:527: RuntimeWarning: invalid value encountered in multiply\n",
      "  avg = np.multiply(a, wgt, dtype=result_dtype).sum(axis)/scl\n",
      "/home/ssm-user/anaconda3/envs/single_cell/lib/python3.8/site-packages/pandas/core/arraylike.py:402: RuntimeWarning: divide by zero encountered in log\n",
      "  result = getattr(ufunc, method)(*inputs, **kwargs)\n",
      "/home/ssm-user/anaconda3/envs/single_cell/lib/python3.8/site-packages/scipy/stats/_stats_py.py:4446: RuntimeWarning: invalid value encountered in subtract\n",
      "  ym = y.astype(dtype) - ymean\n",
      "/tmp/ipykernel_4926/2380475113.py:19: RuntimeWarning: divide by zero encountered in true_divide\n",
      "  m3 = pd.Series(np.average( (dropseq/dropseq_sf.reshape(-1,1))[overlap_genes], weights=1/variance_contributions, axis=0), index=m2.index)\n",
      "/home/ssm-user/anaconda3/envs/single_cell/lib/python3.8/site-packages/numpy/lib/function_base.py:527: RuntimeWarning: invalid value encountered in multiply\n",
      "  avg = np.multiply(a, wgt, dtype=result_dtype).sum(axis)/scl\n",
      "/home/ssm-user/anaconda3/envs/single_cell/lib/python3.8/site-packages/pandas/core/arraylike.py:402: RuntimeWarning: divide by zero encountered in log\n",
      "  result = getattr(ufunc, method)(*inputs, **kwargs)\n",
      "/home/ssm-user/anaconda3/envs/single_cell/lib/python3.8/site-packages/scipy/stats/_stats_py.py:4446: RuntimeWarning: invalid value encountered in subtract\n",
      "  ym = y.astype(dtype) - ymean\n",
      "/tmp/ipykernel_4926/2380475113.py:19: RuntimeWarning: divide by zero encountered in true_divide\n",
      "  m3 = pd.Series(np.average( (dropseq/dropseq_sf.reshape(-1,1))[overlap_genes], weights=1/variance_contributions, axis=0), index=m2.index)\n",
      "/home/ssm-user/anaconda3/envs/single_cell/lib/python3.8/site-packages/numpy/lib/function_base.py:527: RuntimeWarning: invalid value encountered in multiply\n",
      "  avg = np.multiply(a, wgt, dtype=result_dtype).sum(axis)/scl\n",
      "/home/ssm-user/anaconda3/envs/single_cell/lib/python3.8/site-packages/pandas/core/arraylike.py:402: RuntimeWarning: divide by zero encountered in log\n",
      "  result = getattr(ufunc, method)(*inputs, **kwargs)\n",
      "/home/ssm-user/anaconda3/envs/single_cell/lib/python3.8/site-packages/scipy/stats/_stats_py.py:4446: RuntimeWarning: invalid value encountered in subtract\n",
      "  ym = y.astype(dtype) - ymean\n",
      "/tmp/ipykernel_4926/2380475113.py:19: RuntimeWarning: divide by zero encountered in true_divide\n",
      "  m3 = pd.Series(np.average( (dropseq/dropseq_sf.reshape(-1,1))[overlap_genes], weights=1/variance_contributions, axis=0), index=m2.index)\n",
      "/home/ssm-user/anaconda3/envs/single_cell/lib/python3.8/site-packages/numpy/lib/function_base.py:527: RuntimeWarning: invalid value encountered in multiply\n",
      "  avg = np.multiply(a, wgt, dtype=result_dtype).sum(axis)/scl\n",
      "/home/ssm-user/anaconda3/envs/single_cell/lib/python3.8/site-packages/pandas/core/arraylike.py:402: RuntimeWarning: divide by zero encountered in log\n",
      "  result = getattr(ufunc, method)(*inputs, **kwargs)\n",
      "/home/ssm-user/anaconda3/envs/single_cell/lib/python3.8/site-packages/scipy/stats/_stats_py.py:4446: RuntimeWarning: invalid value encountered in subtract\n",
      "  ym = y.astype(dtype) - ymean\n",
      "/tmp/ipykernel_4926/2380475113.py:19: RuntimeWarning: divide by zero encountered in true_divide\n",
      "  m3 = pd.Series(np.average( (dropseq/dropseq_sf.reshape(-1,1))[overlap_genes], weights=1/variance_contributions, axis=0), index=m2.index)\n",
      "/home/ssm-user/anaconda3/envs/single_cell/lib/python3.8/site-packages/numpy/lib/function_base.py:527: RuntimeWarning: invalid value encountered in multiply\n",
      "  avg = np.multiply(a, wgt, dtype=result_dtype).sum(axis)/scl\n",
      "/home/ssm-user/anaconda3/envs/single_cell/lib/python3.8/site-packages/pandas/core/arraylike.py:402: RuntimeWarning: divide by zero encountered in log\n",
      "  result = getattr(ufunc, method)(*inputs, **kwargs)\n",
      "/home/ssm-user/anaconda3/envs/single_cell/lib/python3.8/site-packages/scipy/stats/_stats_py.py:4446: RuntimeWarning: invalid value encountered in subtract\n",
      "  ym = y.astype(dtype) - ymean\n",
      "/tmp/ipykernel_4926/2380475113.py:19: RuntimeWarning: divide by zero encountered in true_divide\n",
      "  m3 = pd.Series(np.average( (dropseq/dropseq_sf.reshape(-1,1))[overlap_genes], weights=1/variance_contributions, axis=0), index=m2.index)\n",
      "/home/ssm-user/anaconda3/envs/single_cell/lib/python3.8/site-packages/numpy/lib/function_base.py:527: RuntimeWarning: invalid value encountered in multiply\n",
      "  avg = np.multiply(a, wgt, dtype=result_dtype).sum(axis)/scl\n",
      "/home/ssm-user/anaconda3/envs/single_cell/lib/python3.8/site-packages/pandas/core/arraylike.py:402: RuntimeWarning: divide by zero encountered in log\n",
      "  result = getattr(ufunc, method)(*inputs, **kwargs)\n",
      "/home/ssm-user/anaconda3/envs/single_cell/lib/python3.8/site-packages/scipy/stats/_stats_py.py:4446: RuntimeWarning: invalid value encountered in subtract\n",
      "  ym = y.astype(dtype) - ymean\n",
      "/tmp/ipykernel_4926/2380475113.py:19: RuntimeWarning: divide by zero encountered in true_divide\n",
      "  m3 = pd.Series(np.average( (dropseq/dropseq_sf.reshape(-1,1))[overlap_genes], weights=1/variance_contributions, axis=0), index=m2.index)\n",
      "/home/ssm-user/anaconda3/envs/single_cell/lib/python3.8/site-packages/numpy/lib/function_base.py:527: RuntimeWarning: invalid value encountered in multiply\n",
      "  avg = np.multiply(a, wgt, dtype=result_dtype).sum(axis)/scl\n",
      "/home/ssm-user/anaconda3/envs/single_cell/lib/python3.8/site-packages/pandas/core/arraylike.py:402: RuntimeWarning: divide by zero encountered in log\n",
      "  result = getattr(ufunc, method)(*inputs, **kwargs)\n",
      "/home/ssm-user/anaconda3/envs/single_cell/lib/python3.8/site-packages/scipy/stats/_stats_py.py:4446: RuntimeWarning: invalid value encountered in subtract\n",
      "  ym = y.astype(dtype) - ymean\n",
      "/tmp/ipykernel_4926/2380475113.py:19: RuntimeWarning: divide by zero encountered in true_divide\n",
      "  m3 = pd.Series(np.average( (dropseq/dropseq_sf.reshape(-1,1))[overlap_genes], weights=1/variance_contributions, axis=0), index=m2.index)\n",
      "/home/ssm-user/anaconda3/envs/single_cell/lib/python3.8/site-packages/numpy/lib/function_base.py:527: RuntimeWarning: invalid value encountered in multiply\n",
      "  avg = np.multiply(a, wgt, dtype=result_dtype).sum(axis)/scl\n",
      "/home/ssm-user/anaconda3/envs/single_cell/lib/python3.8/site-packages/pandas/core/arraylike.py:402: RuntimeWarning: divide by zero encountered in log\n",
      "  result = getattr(ufunc, method)(*inputs, **kwargs)\n",
      "/home/ssm-user/anaconda3/envs/single_cell/lib/python3.8/site-packages/scipy/stats/_stats_py.py:4446: RuntimeWarning: invalid value encountered in subtract\n",
      "  ym = y.astype(dtype) - ymean\n",
      "/tmp/ipykernel_4926/2380475113.py:19: RuntimeWarning: divide by zero encountered in true_divide\n",
      "  m3 = pd.Series(np.average( (dropseq/dropseq_sf.reshape(-1,1))[overlap_genes], weights=1/variance_contributions, axis=0), index=m2.index)\n",
      "/home/ssm-user/anaconda3/envs/single_cell/lib/python3.8/site-packages/numpy/lib/function_base.py:527: RuntimeWarning: invalid value encountered in multiply\n",
      "  avg = np.multiply(a, wgt, dtype=result_dtype).sum(axis)/scl\n",
      "/home/ssm-user/anaconda3/envs/single_cell/lib/python3.8/site-packages/pandas/core/arraylike.py:402: RuntimeWarning: divide by zero encountered in log\n",
      "  result = getattr(ufunc, method)(*inputs, **kwargs)\n",
      "/home/ssm-user/anaconda3/envs/single_cell/lib/python3.8/site-packages/scipy/stats/_stats_py.py:4446: RuntimeWarning: invalid value encountered in subtract\n",
      "  ym = y.astype(dtype) - ymean\n",
      "/tmp/ipykernel_4926/2380475113.py:19: RuntimeWarning: divide by zero encountered in true_divide\n",
      "  m3 = pd.Series(np.average( (dropseq/dropseq_sf.reshape(-1,1))[overlap_genes], weights=1/variance_contributions, axis=0), index=m2.index)\n",
      "/home/ssm-user/anaconda3/envs/single_cell/lib/python3.8/site-packages/numpy/lib/function_base.py:527: RuntimeWarning: invalid value encountered in multiply\n",
      "  avg = np.multiply(a, wgt, dtype=result_dtype).sum(axis)/scl\n",
      "/home/ssm-user/anaconda3/envs/single_cell/lib/python3.8/site-packages/pandas/core/arraylike.py:402: RuntimeWarning: divide by zero encountered in log\n",
      "  result = getattr(ufunc, method)(*inputs, **kwargs)\n",
      "/home/ssm-user/anaconda3/envs/single_cell/lib/python3.8/site-packages/scipy/stats/_stats_py.py:4446: RuntimeWarning: invalid value encountered in subtract\n",
      "  ym = y.astype(dtype) - ymean\n",
      "/tmp/ipykernel_4926/2380475113.py:19: RuntimeWarning: divide by zero encountered in true_divide\n",
      "  m3 = pd.Series(np.average( (dropseq/dropseq_sf.reshape(-1,1))[overlap_genes], weights=1/variance_contributions, axis=0), index=m2.index)\n",
      "/home/ssm-user/anaconda3/envs/single_cell/lib/python3.8/site-packages/numpy/lib/function_base.py:527: RuntimeWarning: invalid value encountered in multiply\n",
      "  avg = np.multiply(a, wgt, dtype=result_dtype).sum(axis)/scl\n",
      "/home/ssm-user/anaconda3/envs/single_cell/lib/python3.8/site-packages/pandas/core/arraylike.py:402: RuntimeWarning: divide by zero encountered in log\n",
      "  result = getattr(ufunc, method)(*inputs, **kwargs)\n",
      "/home/ssm-user/anaconda3/envs/single_cell/lib/python3.8/site-packages/scipy/stats/_stats_py.py:4446: RuntimeWarning: invalid value encountered in subtract\n",
      "  ym = y.astype(dtype) - ymean\n",
      "/tmp/ipykernel_4926/2380475113.py:19: RuntimeWarning: divide by zero encountered in true_divide\n",
      "  m3 = pd.Series(np.average( (dropseq/dropseq_sf.reshape(-1,1))[overlap_genes], weights=1/variance_contributions, axis=0), index=m2.index)\n",
      "/home/ssm-user/anaconda3/envs/single_cell/lib/python3.8/site-packages/numpy/lib/function_base.py:527: RuntimeWarning: invalid value encountered in multiply\n",
      "  avg = np.multiply(a, wgt, dtype=result_dtype).sum(axis)/scl\n",
      "/home/ssm-user/anaconda3/envs/single_cell/lib/python3.8/site-packages/pandas/core/arraylike.py:402: RuntimeWarning: divide by zero encountered in log\n",
      "  result = getattr(ufunc, method)(*inputs, **kwargs)\n",
      "/home/ssm-user/anaconda3/envs/single_cell/lib/python3.8/site-packages/scipy/stats/_stats_py.py:4446: RuntimeWarning: invalid value encountered in subtract\n",
      "  ym = y.astype(dtype) - ymean\n",
      "/tmp/ipykernel_4926/2380475113.py:19: RuntimeWarning: divide by zero encountered in true_divide\n",
      "  m3 = pd.Series(np.average( (dropseq/dropseq_sf.reshape(-1,1))[overlap_genes], weights=1/variance_contributions, axis=0), index=m2.index)\n",
      "/home/ssm-user/anaconda3/envs/single_cell/lib/python3.8/site-packages/numpy/lib/function_base.py:527: RuntimeWarning: invalid value encountered in multiply\n",
      "  avg = np.multiply(a, wgt, dtype=result_dtype).sum(axis)/scl\n",
      "/home/ssm-user/anaconda3/envs/single_cell/lib/python3.8/site-packages/pandas/core/arraylike.py:402: RuntimeWarning: divide by zero encountered in log\n",
      "  result = getattr(ufunc, method)(*inputs, **kwargs)\n",
      "/home/ssm-user/anaconda3/envs/single_cell/lib/python3.8/site-packages/scipy/stats/_stats_py.py:4446: RuntimeWarning: invalid value encountered in subtract\n",
      "  ym = y.astype(dtype) - ymean\n",
      "/tmp/ipykernel_4926/2380475113.py:19: RuntimeWarning: divide by zero encountered in true_divide\n",
      "  m3 = pd.Series(np.average( (dropseq/dropseq_sf.reshape(-1,1))[overlap_genes], weights=1/variance_contributions, axis=0), index=m2.index)\n",
      "/home/ssm-user/anaconda3/envs/single_cell/lib/python3.8/site-packages/numpy/lib/function_base.py:527: RuntimeWarning: invalid value encountered in multiply\n",
      "  avg = np.multiply(a, wgt, dtype=result_dtype).sum(axis)/scl\n",
      "/home/ssm-user/anaconda3/envs/single_cell/lib/python3.8/site-packages/pandas/core/arraylike.py:402: RuntimeWarning: divide by zero encountered in log\n",
      "  result = getattr(ufunc, method)(*inputs, **kwargs)\n",
      "/home/ssm-user/anaconda3/envs/single_cell/lib/python3.8/site-packages/scipy/stats/_stats_py.py:4446: RuntimeWarning: invalid value encountered in subtract\n",
      "  ym = y.astype(dtype) - ymean\n",
      "/tmp/ipykernel_4926/2380475113.py:19: RuntimeWarning: divide by zero encountered in true_divide\n",
      "  m3 = pd.Series(np.average( (dropseq/dropseq_sf.reshape(-1,1))[overlap_genes], weights=1/variance_contributions, axis=0), index=m2.index)\n",
      "/home/ssm-user/anaconda3/envs/single_cell/lib/python3.8/site-packages/numpy/lib/function_base.py:527: RuntimeWarning: invalid value encountered in multiply\n",
      "  avg = np.multiply(a, wgt, dtype=result_dtype).sum(axis)/scl\n",
      "/home/ssm-user/anaconda3/envs/single_cell/lib/python3.8/site-packages/pandas/core/arraylike.py:402: RuntimeWarning: divide by zero encountered in log\n",
      "  result = getattr(ufunc, method)(*inputs, **kwargs)\n",
      "/home/ssm-user/anaconda3/envs/single_cell/lib/python3.8/site-packages/scipy/stats/_stats_py.py:4446: RuntimeWarning: invalid value encountered in subtract\n",
      "  ym = y.astype(dtype) - ymean\n",
      "/tmp/ipykernel_4926/2380475113.py:19: RuntimeWarning: divide by zero encountered in true_divide\n",
      "  m3 = pd.Series(np.average( (dropseq/dropseq_sf.reshape(-1,1))[overlap_genes], weights=1/variance_contributions, axis=0), index=m2.index)\n",
      "/home/ssm-user/anaconda3/envs/single_cell/lib/python3.8/site-packages/numpy/lib/function_base.py:527: RuntimeWarning: invalid value encountered in multiply\n",
      "  avg = np.multiply(a, wgt, dtype=result_dtype).sum(axis)/scl\n",
      "/home/ssm-user/anaconda3/envs/single_cell/lib/python3.8/site-packages/pandas/core/arraylike.py:402: RuntimeWarning: divide by zero encountered in log\n",
      "  result = getattr(ufunc, method)(*inputs, **kwargs)\n",
      "/home/ssm-user/anaconda3/envs/single_cell/lib/python3.8/site-packages/scipy/stats/_stats_py.py:4446: RuntimeWarning: invalid value encountered in subtract\n",
      "  ym = y.astype(dtype) - ymean\n",
      "/tmp/ipykernel_4926/2380475113.py:19: RuntimeWarning: divide by zero encountered in true_divide\n",
      "  m3 = pd.Series(np.average( (dropseq/dropseq_sf.reshape(-1,1))[overlap_genes], weights=1/variance_contributions, axis=0), index=m2.index)\n",
      "/home/ssm-user/anaconda3/envs/single_cell/lib/python3.8/site-packages/numpy/lib/function_base.py:527: RuntimeWarning: invalid value encountered in multiply\n",
      "  avg = np.multiply(a, wgt, dtype=result_dtype).sum(axis)/scl\n",
      "/home/ssm-user/anaconda3/envs/single_cell/lib/python3.8/site-packages/pandas/core/arraylike.py:402: RuntimeWarning: divide by zero encountered in log\n",
      "  result = getattr(ufunc, method)(*inputs, **kwargs)\n",
      "/home/ssm-user/anaconda3/envs/single_cell/lib/python3.8/site-packages/scipy/stats/_stats_py.py:4446: RuntimeWarning: invalid value encountered in subtract\n",
      "  ym = y.astype(dtype) - ymean\n",
      "/tmp/ipykernel_4926/2380475113.py:19: RuntimeWarning: divide by zero encountered in true_divide\n",
      "  m3 = pd.Series(np.average( (dropseq/dropseq_sf.reshape(-1,1))[overlap_genes], weights=1/variance_contributions, axis=0), index=m2.index)\n",
      "/home/ssm-user/anaconda3/envs/single_cell/lib/python3.8/site-packages/numpy/lib/function_base.py:527: RuntimeWarning: invalid value encountered in multiply\n",
      "  avg = np.multiply(a, wgt, dtype=result_dtype).sum(axis)/scl\n",
      "/home/ssm-user/anaconda3/envs/single_cell/lib/python3.8/site-packages/pandas/core/arraylike.py:402: RuntimeWarning: divide by zero encountered in log\n",
      "  result = getattr(ufunc, method)(*inputs, **kwargs)\n",
      "/home/ssm-user/anaconda3/envs/single_cell/lib/python3.8/site-packages/scipy/stats/_stats_py.py:4446: RuntimeWarning: invalid value encountered in subtract\n",
      "  ym = y.astype(dtype) - ymean\n",
      "/tmp/ipykernel_4926/2380475113.py:19: RuntimeWarning: divide by zero encountered in true_divide\n",
      "  m3 = pd.Series(np.average( (dropseq/dropseq_sf.reshape(-1,1))[overlap_genes], weights=1/variance_contributions, axis=0), index=m2.index)\n",
      "/home/ssm-user/anaconda3/envs/single_cell/lib/python3.8/site-packages/numpy/lib/function_base.py:527: RuntimeWarning: invalid value encountered in multiply\n",
      "  avg = np.multiply(a, wgt, dtype=result_dtype).sum(axis)/scl\n",
      "/home/ssm-user/anaconda3/envs/single_cell/lib/python3.8/site-packages/pandas/core/arraylike.py:402: RuntimeWarning: divide by zero encountered in log\n",
      "  result = getattr(ufunc, method)(*inputs, **kwargs)\n",
      "/home/ssm-user/anaconda3/envs/single_cell/lib/python3.8/site-packages/scipy/stats/_stats_py.py:4446: RuntimeWarning: invalid value encountered in subtract\n",
      "  ym = y.astype(dtype) - ymean\n"
     ]
    }
   ],
   "source": [
    "result = []\n",
    "num_cell = 200\n",
    "for p in [0.5, 0.7, 0.9, 1]:\n",
    "        \n",
    "        for trial in range(1000):\n",
    "\n",
    "            sample_idx = np.random.choice(dropseq.shape[0], num_cell)\n",
    "            tiny = dropseq.iloc[sample_idx]\n",
    "    \n",
    "            shallow = pd.DataFrame(stats.binom.rvs(tiny, p=p), columns=tiny.columns)\n",
    "            relevant_genes = counts[counts > 0].index.tolist()\n",
    "            shallow_sf = shallow.sum(axis=1).values\n",
    "            mfish, m1, m2, m3 = compare_estimators(smfish, fish_gapdh_sf, shallow, shallow_sf, overlap_genes=relevant_genes, p=p)\n",
    "\n",
    "            mean_numi = shallow_sf.mean()\n",
    "            \n",
    "            try:\n",
    "                corr1 = stats.pearsonr(np.log(mfish), np.log(m1))[0]\n",
    "                corr2 = stats.pearsonr(np.log(mfish), np.log(m2))[0]\n",
    "                corr3 = stats.pearsonr(np.log(mfish), np.log(m3))[0]\n",
    "                result.append((num_cell, p, mean_numi, corr1, corr2, corr3))\n",
    "            except:\n",
    "                continue\n",
    "experiment_result = pd.DataFrame(result, columns=['num_cell', 'p', 'mean_umi', 'naive', 'filtered', 'memento'])\n",
    "experiment_result.to_csv('numi.csv', index=False)"
   ]
  },
  {
   "cell_type": "code",
   "execution_count": null,
   "id": "d72cda41-ff47-43f0-be2e-073bc7024921",
   "metadata": {},
   "outputs": [],
   "source": []
  },
  {
   "cell_type": "code",
   "execution_count": null,
   "id": "ea043633-667a-4c4b-bef2-9d73b1f60b2c",
   "metadata": {},
   "outputs": [],
   "source": []
  },
  {
   "cell_type": "code",
   "execution_count": null,
   "id": "8ccdfadf-cebf-4a8c-ac97-03878bb65a84",
   "metadata": {},
   "outputs": [],
   "source": []
  },
  {
   "cell_type": "code",
   "execution_count": 224,
   "id": "459833f7-8bcc-4059-8e81-1010a8f4960c",
   "metadata": {},
   "outputs": [
    {
     "data": {
      "text/plain": [
       "<matplotlib.legend.Legend at 0x7ff338820580>"
      ]
     },
     "execution_count": 224,
     "metadata": {},
     "output_type": "execute_result"
    },
    {
     "data": {
      "image/png": "[encoded data removed]",
      "text/plain": [
       "<Figure size 200x200 with 1 Axes>"
      ]
     },
     "metadata": {},
     "output_type": "display_data"
    }
   ],
   "source": [
    "plt.figure(figsize=(2, 2))\n",
    "sns.boxenplot(y='value', x='num_cell', hue='estimator',data=df, showfliers=False, k_depth=10)\n",
    "# sns.stripplot(y='value', x='p', hue='estimator',data=df, dodge=True, alpha=0.2,s=3)\n",
    "plt.legend([], frameon=False)"
   ]
  },
  {
   "cell_type": "code",
   "execution_count": 223,
   "id": "6690d51c-43c5-4c2b-887e-be4c7f2292d6",
   "metadata": {},
   "outputs": [
    {
     "ename": "TypeError",
     "evalue": "compare_estimators() missing 1 required positional argument: 'overlap_genes'",
     "output_type": "error",
     "traceback": [
      "\u001b[0;31m---------------------------------------------------------------------------\u001b[0m",
      "\u001b[0;31mTypeError\u001b[0m                                 Traceback (most recent call last)",
      "Cell \u001b[0;32mIn[223], line 3\u001b[0m\n\u001b[1;32m      1\u001b[0m tiny \u001b[38;5;241m=\u001b[39m dropseq\u001b[38;5;241m.\u001b[39miloc[sample_idx]\n\u001b[1;32m      2\u001b[0m tiny_sf \u001b[38;5;241m=\u001b[39m dropseq_sf[sample_idx]\n\u001b[0;32m----> 3\u001b[0m mfish, m1, m2, m3 \u001b[38;5;241m=\u001b[39m \u001b[43mcompare_estimators\u001b[49m\u001b[43m(\u001b[49m\u001b[43msmfish\u001b[49m\u001b[43m,\u001b[49m\u001b[43m \u001b[49m\u001b[43mfish_gapdh_sf\u001b[49m\u001b[43m,\u001b[49m\u001b[43m \u001b[49m\u001b[43mtiny\u001b[49m\u001b[43m,\u001b[49m\u001b[43m \u001b[49m\u001b[43mtiny_sf\u001b[49m\u001b[43m)\u001b[49m\n\u001b[1;32m      5\u001b[0m p\u001b[38;5;241m=\u001b[39m\u001b[38;5;241m0.1\u001b[39m\n\u001b[1;32m      6\u001b[0m shallow \u001b[38;5;241m=\u001b[39m pd\u001b[38;5;241m.\u001b[39mDataFrame(stats\u001b[38;5;241m.\u001b[39mbinom\u001b[38;5;241m.\u001b[39mrvs(tiny, p\u001b[38;5;241m=\u001b[39mp), columns\u001b[38;5;241m=\u001b[39mdropseq\u001b[38;5;241m.\u001b[39mcolumns)\n",
      "\u001b[0;31mTypeError\u001b[0m: compare_estimators() missing 1 required positional argument: 'overlap_genes'"
     ]
    }
   ],
   "source": [
    "tiny = dropseq.iloc[sample_idx]\n",
    "tiny_sf = dropseq_sf[sample_idx]\n",
    "mfish, m1, m2, m3 = compare_estimators(smfish, fish_gapdh_sf, tiny, tiny_sf)\n",
    "\n",
    "p=0.1\n",
    "shallow = pd.DataFrame(stats.binom.rvs(tiny, p=p), columns=dropseq.columns)\n",
    "shallow_sf = shallow.sum(axis=1).values\n",
    "mfish, m1, m2, m3 = compare_estimators(smfish, fish_gapdh_sf, shallow, shallow_sf, p=p)\n",
    "\n",
    "plt.scatter(x=np.log(mfish), y=np.log(m1))\n",
    "plt.scatter(x=np.log(mfish), y=np.log(m2))\n",
    "plt.scatter(x=np.log(mfish), y=np.log(m3))\n",
    "\n",
    "plt.xlabel('FISH'); plt.ylabel('Dropseq');\n",
    "plt.legend(['naive r=%0.2f' % stats.pearsonr(np.log(mfish), np.log(m1))[0], \n",
    "            'filtered r=%0.2f' %stats.pearsonr(np.log(mfish), np.log(m2))[0], \n",
    "            'weighted r=%0.2f' %stats.pearsonr(np.log(mfish), np.log(m3))[0],\n",
    "           ])"
   ]
  },
  {
   "cell_type": "code",
   "execution_count": null,
   "id": "460b3d05-539d-4914-b51c-086474dbfae1",
   "metadata": {},
   "outputs": [],
   "source": []
  },
  {
   "cell_type": "code",
   "execution_count": null,
   "id": "0f43a379-a90a-4253-a35d-532feba16223",
   "metadata": {},
   "outputs": [],
   "source": []
  },
  {
   "cell_type": "code",
   "execution_count": null,
   "id": "1eb5b932-76d5-45bb-b8a9-60325a2ae7c8",
   "metadata": {},
   "outputs": [],
   "source": []
  },
  {
   "cell_type": "code",
   "execution_count": null,
   "id": "500a26f8-91c6-491c-a3a7-dc05063db2f5",
   "metadata": {},
   "outputs": [],
   "source": []
  },
  {
   "cell_type": "code",
   "execution_count": null,
   "id": "9c24b537-7552-47dc-be34-9f162bbaf637",
   "metadata": {},
   "outputs": [],
   "source": []
  },
  {
   "cell_type": "code",
   "execution_count": null,
   "id": "7997e445-3287-4609-b671-0992f7434f84",
   "metadata": {},
   "outputs": [],
   "source": []
  },
  {
   "cell_type": "code",
   "execution_count": 187,
   "id": "b9960fc6-36a6-41ab-8744-4efd1f604eb4",
   "metadata": {},
   "outputs": [
    {
     "name": "stderr",
     "output_type": "stream",
     "text": [
      "/home/ssm-user/anaconda3/envs/single_cell/lib/python3.8/site-packages/pandas/core/arraylike.py:402: RuntimeWarning: invalid value encountered in log\n",
      "  result = getattr(ufunc, method)(*inputs, **kwargs)\n"
     ]
    },
    {
     "ename": "NameError",
     "evalue": "name 'mm1' is not defined",
     "output_type": "error",
     "traceback": [
      "\u001b[0;31m---------------------------------------------------------------------------\u001b[0m",
      "\u001b[0;31mNameError\u001b[0m                                 Traceback (most recent call last)",
      "Cell \u001b[0;32mIn[187], line 1\u001b[0m\n\u001b[0;32m----> 1\u001b[0m plt\u001b[38;5;241m.\u001b[39mscatter(np\u001b[38;5;241m.\u001b[39mlog(mfish), np\u001b[38;5;241m.\u001b[39mlog(m1\u001b[38;5;241m*\u001b[39mmmfish\u001b[38;5;241m/\u001b[39m\u001b[43mmm1\u001b[49m))\n\u001b[1;32m      2\u001b[0m \u001b[38;5;66;03m# plt.scatter(np.log(mfish), np.log(m2))\u001b[39;00m\n\u001b[1;32m      3\u001b[0m plt\u001b[38;5;241m.\u001b[39mscatter(np\u001b[38;5;241m.\u001b[39mlog(mfish), np\u001b[38;5;241m.\u001b[39mlog(m3\u001b[38;5;241m*\u001b[39mmmfish\u001b[38;5;241m/\u001b[39mmm3))\n",
      "\u001b[0;31mNameError\u001b[0m: name 'mm1' is not defined"
     ]
    }
   ],
   "source": [
    "plt.scatter(np.log(mfish), np.log(m1*mmfish/mm1))\n",
    "# plt.scatter(np.log(mfish), np.log(m2))\n",
    "plt.scatter(np.log(mfish), np.log(m3*mmfish/mm3))\n",
    "# plt.scatter(np.log(mfish), np.log(m4))\n",
    "\n",
    "plt.xlabel('FISH'); plt.ylabel('Dropseq');\n",
    "plt.legend(['naive r=%0.2f' % stats.pearsonr(np.log(mfish), np.log(m1*mmfish/mm1))[0], \n",
    "            # 'filtered r=%0.2f' %stats.pearsonr(np.log(mfish), np.log(m2))[0], \n",
    "            'weighted r=%0.2f' %stats.pearsonr(np.log(mfish), np.log(m3*mmfish/mm3))[0],\n",
    "            # 'medofmean r=%0.2f' %stats.pearsonr(np.log(mfish), np.log(m4))[0] \n",
    "           ])"
   ]
  },
  {
   "cell_type": "code",
   "execution_count": 188,
   "id": "55b03d7e-4e9b-43d8-a174-88dd045856dd",
   "metadata": {},
   "outputs": [
    {
     "name": "stderr",
     "output_type": "stream",
     "text": [
      "/tmp/ipykernel_22844/300944203.py:4: RuntimeWarning: invalid value encountered in log\n",
      "  plt.scatter(np.log(mfish), np.log(m4))\n"
     ]
    },
    {
     "ename": "ValueError",
     "evalue": "array must not contain infs or NaNs",
     "output_type": "error",
     "traceback": [
      "\u001b[0;31m---------------------------------------------------------------------------\u001b[0m",
      "\u001b[0;31mValueError\u001b[0m                                Traceback (most recent call last)",
      "Cell \u001b[0;32mIn[188], line 7\u001b[0m\n\u001b[1;32m      4\u001b[0m plt\u001b[38;5;241m.\u001b[39mscatter(np\u001b[38;5;241m.\u001b[39mlog(mfish), np\u001b[38;5;241m.\u001b[39mlog(m4))\n\u001b[1;32m      6\u001b[0m plt\u001b[38;5;241m.\u001b[39mxlabel(\u001b[38;5;124m'\u001b[39m\u001b[38;5;124mFISH\u001b[39m\u001b[38;5;124m'\u001b[39m); plt\u001b[38;5;241m.\u001b[39mylabel(\u001b[38;5;124m'\u001b[39m\u001b[38;5;124mDropseq\u001b[39m\u001b[38;5;124m'\u001b[39m);\n\u001b[0;32m----> 7\u001b[0m plt\u001b[38;5;241m.\u001b[39mlegend([\u001b[38;5;124m'\u001b[39m\u001b[38;5;124mnaive r=\u001b[39m\u001b[38;5;132;01m%0.2f\u001b[39;00m\u001b[38;5;124m'\u001b[39m \u001b[38;5;241m%\u001b[39m \u001b[43mstats\u001b[49m\u001b[38;5;241;43m.\u001b[39;49m\u001b[43mpearsonr\u001b[49m\u001b[43m(\u001b[49m\u001b[43mnp\u001b[49m\u001b[38;5;241;43m.\u001b[39;49m\u001b[43mlog\u001b[49m\u001b[43m(\u001b[49m\u001b[43mmfish\u001b[49m\u001b[43m)\u001b[49m\u001b[43m,\u001b[49m\u001b[43m \u001b[49m\u001b[43mnp\u001b[49m\u001b[38;5;241;43m.\u001b[39;49m\u001b[43mlog\u001b[49m\u001b[43m(\u001b[49m\u001b[43mm1\u001b[49m\u001b[43m)\u001b[49m\u001b[43m)\u001b[49m[\u001b[38;5;241m0\u001b[39m], \n\u001b[1;32m      8\u001b[0m             \u001b[38;5;124m'\u001b[39m\u001b[38;5;124mfiltered r=\u001b[39m\u001b[38;5;132;01m%0.2f\u001b[39;00m\u001b[38;5;124m'\u001b[39m \u001b[38;5;241m%\u001b[39mstats\u001b[38;5;241m.\u001b[39mpearsonr(np\u001b[38;5;241m.\u001b[39mlog(mfish), np\u001b[38;5;241m.\u001b[39mlog(m2))[\u001b[38;5;241m0\u001b[39m], \n\u001b[1;32m      9\u001b[0m             \u001b[38;5;124m'\u001b[39m\u001b[38;5;124mmedofmean r=\u001b[39m\u001b[38;5;132;01m%0.2f\u001b[39;00m\u001b[38;5;124m'\u001b[39m \u001b[38;5;241m%\u001b[39mstats\u001b[38;5;241m.\u001b[39mpearsonr(np\u001b[38;5;241m.\u001b[39mlog(mfish), np\u001b[38;5;241m.\u001b[39mlog(m4))[\u001b[38;5;241m0\u001b[39m] ])\n",
      "File \u001b[0;32m~/anaconda3/envs/single_cell/lib/python3.8/site-packages/scipy/stats/_stats_py.py:4451\u001b[0m, in \u001b[0;36mpearsonr\u001b[0;34m(x, y, alternative)\u001b[0m\n\u001b[1;32m   4446\u001b[0m ym \u001b[38;5;241m=\u001b[39m y\u001b[38;5;241m.\u001b[39mastype(dtype) \u001b[38;5;241m-\u001b[39m ymean\n\u001b[1;32m   4448\u001b[0m \u001b[38;5;66;03m# Unlike np.linalg.norm or the expression sqrt((xm*xm).sum()),\u001b[39;00m\n\u001b[1;32m   4449\u001b[0m \u001b[38;5;66;03m# scipy.linalg.norm(xm) does not overflow if xm is, for example,\u001b[39;00m\n\u001b[1;32m   4450\u001b[0m \u001b[38;5;66;03m# [-5e210, 5e210, 3e200, -3e200]\u001b[39;00m\n\u001b[0;32m-> 4451\u001b[0m normxm \u001b[38;5;241m=\u001b[39m \u001b[43mlinalg\u001b[49m\u001b[38;5;241;43m.\u001b[39;49m\u001b[43mnorm\u001b[49m\u001b[43m(\u001b[49m\u001b[43mxm\u001b[49m\u001b[43m)\u001b[49m\n\u001b[1;32m   4452\u001b[0m normym \u001b[38;5;241m=\u001b[39m linalg\u001b[38;5;241m.\u001b[39mnorm(ym)\n\u001b[1;32m   4454\u001b[0m threshold \u001b[38;5;241m=\u001b[39m \u001b[38;5;241m1e-13\u001b[39m\n",
      "File \u001b[0;32m~/anaconda3/envs/single_cell/lib/python3.8/site-packages/scipy/linalg/_misc.py:146\u001b[0m, in \u001b[0;36mnorm\u001b[0;34m(a, ord, axis, keepdims, check_finite)\u001b[0m\n\u001b[1;32m    144\u001b[0m \u001b[38;5;66;03m# Differs from numpy only in non-finite handling and the use of blas.\u001b[39;00m\n\u001b[1;32m    145\u001b[0m \u001b[38;5;28;01mif\u001b[39;00m check_finite:\n\u001b[0;32m--> 146\u001b[0m     a \u001b[38;5;241m=\u001b[39m \u001b[43mnp\u001b[49m\u001b[38;5;241;43m.\u001b[39;49m\u001b[43masarray_chkfinite\u001b[49m\u001b[43m(\u001b[49m\u001b[43ma\u001b[49m\u001b[43m)\u001b[49m\n\u001b[1;32m    147\u001b[0m \u001b[38;5;28;01melse\u001b[39;00m:\n\u001b[1;32m    148\u001b[0m     a \u001b[38;5;241m=\u001b[39m np\u001b[38;5;241m.\u001b[39masarray(a)\n",
      "File \u001b[0;32m~/anaconda3/envs/single_cell/lib/python3.8/site-packages/numpy/lib/function_base.py:603\u001b[0m, in \u001b[0;36masarray_chkfinite\u001b[0;34m(a, dtype, order)\u001b[0m\n\u001b[1;32m    601\u001b[0m a \u001b[38;5;241m=\u001b[39m asarray(a, dtype\u001b[38;5;241m=\u001b[39mdtype, order\u001b[38;5;241m=\u001b[39morder)\n\u001b[1;32m    602\u001b[0m \u001b[38;5;28;01mif\u001b[39;00m a\u001b[38;5;241m.\u001b[39mdtype\u001b[38;5;241m.\u001b[39mchar \u001b[38;5;129;01min\u001b[39;00m typecodes[\u001b[38;5;124m'\u001b[39m\u001b[38;5;124mAllFloat\u001b[39m\u001b[38;5;124m'\u001b[39m] \u001b[38;5;129;01mand\u001b[39;00m \u001b[38;5;129;01mnot\u001b[39;00m np\u001b[38;5;241m.\u001b[39misfinite(a)\u001b[38;5;241m.\u001b[39mall():\n\u001b[0;32m--> 603\u001b[0m     \u001b[38;5;28;01mraise\u001b[39;00m \u001b[38;5;167;01mValueError\u001b[39;00m(\n\u001b[1;32m    604\u001b[0m         \u001b[38;5;124m\"\u001b[39m\u001b[38;5;124marray must not contain infs or NaNs\u001b[39m\u001b[38;5;124m\"\u001b[39m)\n\u001b[1;32m    605\u001b[0m \u001b[38;5;28;01mreturn\u001b[39;00m a\n",
      "\u001b[0;31mValueError\u001b[0m: array must not contain infs or NaNs"
     ]
    },
    {
     "data": {
      "image/png": "[encoded data removed]",
      "text/plain": [
       "<Figure size 640x480 with 1 Axes>"
      ]
     },
     "metadata": {},
     "output_type": "display_data"
    }
   ],
   "source": [
    "plt.scatter(np.log(mfish), np.log(m1))\n",
    "plt.scatter(np.log(mfish), np.log(m2))\n",
    "# plt.scatter(np.log(mfish), np.log(m3))\n",
    "plt.scatter(np.log(mfish), np.log(m4))\n",
    "\n",
    "plt.xlabel('FISH'); plt.ylabel('Dropseq');\n",
    "plt.legend(['naive r=%0.2f' % stats.pearsonr(np.log(mfish), np.log(m1))[0], \n",
    "            'filtered r=%0.2f' %stats.pearsonr(np.log(mfish), np.log(m2))[0], \n",
    "            'medofmean r=%0.2f' %stats.pearsonr(np.log(mfish), np.log(m4))[0] ])"
   ]
  },
  {
   "cell_type": "markdown",
   "id": "cef5279e-daa8-4ac2-92b2-2e1d56aa4ead",
   "metadata": {},
   "source": [
    "### Test with simple generative model"
   ]
  },
  {
   "cell_type": "code",
   "execution_count": 181,
   "id": "bde4c759-9cf6-4954-b10c-c8c41bcbdcce",
   "metadata": {},
   "outputs": [],
   "source": [
    "Nc = dropseq_sf/0.05\n",
    "Mc = dropseq_sf"
   ]
  },
  {
   "cell_type": "code",
   "execution_count": 199,
   "id": "f29fd0c1-944b-42f2-991c-5d28dcdcf120",
   "metadata": {},
   "outputs": [],
   "source": [
    "sampling_dist1 = np.zeros(5000)\n",
    "for trial in range(5000):\n",
    "    Z = stats.poisson.rvs(Nc*1e-5, size=Nc.shape[0])\n",
    "    Y = stats.binom.rvs(Z, 0.05)\n",
    "    estimate1 = (Y/Mc).mean()\n",
    "    sampling_dist1[trial] = estimate1"
   ]
  },
  {
   "cell_type": "code",
   "execution_count": 200,
   "id": "0b181c28-3f51-4cad-af86-7744f8986c52",
   "metadata": {},
   "outputs": [
    {
     "data": {
      "text/plain": [
       "9.994229215738449e-06"
      ]
     },
     "execution_count": 200,
     "metadata": {},
     "output_type": "execute_result"
    }
   ],
   "source": [
    "sampling_dist1.mean()"
   ]
  },
  {
   "cell_type": "code",
   "execution_count": 155,
   "id": "26c50cf6-7b49-4705-a39f-a0f85bfdd33f",
   "metadata": {},
   "outputs": [
    {
     "data": {
      "text/plain": [
       "<AxesSubplot: ylabel='Density'>"
      ]
     },
     "execution_count": 155,
     "metadata": {},
     "output_type": "execute_result"
    },
    {
     "data": {
      "image/png": "[encoded data removed]",
      "text/plain": [
       "<Figure size 640x480 with 1 Axes>"
      ]
     },
     "metadata": {},
     "output_type": "display_data"
    }
   ],
   "source": [
    "sns.kdeplot(sampling_dist1)"
   ]
  },
  {
   "cell_type": "code",
   "execution_count": null,
   "id": "1be68889-3f48-467a-85d8-54949da2765a",
   "metadata": {},
   "outputs": [],
   "source": []
  },
  {
   "cell_type": "code",
   "execution_count": null,
   "id": "2cabd573-ec7b-4a62-968c-f6e572b12166",
   "metadata": {},
   "outputs": [],
   "source": []
  },
  {
   "cell_type": "code",
   "execution_count": 152,
   "id": "45f38acc-738b-4bb3-803d-01d62cc05fb1",
   "metadata": {},
   "outputs": [],
   "source": [
    "estimate = (Y/Mc).mean()"
   ]
  },
  {
   "cell_type": "code",
   "execution_count": 153,
   "id": "237670f3-08a2-4402-91b3-cdfdd600c7e5",
   "metadata": {},
   "outputs": [
    {
     "data": {
      "text/plain": [
       "0.0009475896876039991"
      ]
     },
     "execution_count": 153,
     "metadata": {},
     "output_type": "execute_result"
    }
   ],
   "source": [
    "estimate"
   ]
  },
  {
   "cell_type": "markdown",
   "id": "75f2ffc0",
   "metadata": {},
   "source": [
    "### Run memento for DropSeq"
   ]
  },
  {
   "cell_type": "code",
   "execution_count": 9,
   "id": "2d15307e",
   "metadata": {},
   "outputs": [],
   "source": [
    "import sys\n",
    "sys.path.append('/home/ssm-user/Github/scrna-parameter-estimation/dist/memento-0.0.9-py3.8.egg')\n",
    "sys.path.append('/home/ssm-user/Github/misc-seq/miscseq/')\n",
    "import encode\n",
    "import memento"
   ]
  },
  {
   "cell_type": "code",
   "execution_count": 53,
   "id": "475b3b02",
   "metadata": {},
   "outputs": [
    {
     "name": "stderr",
     "output_type": "stream",
     "text": [
      "... storing 'group' as categorical\n",
      "/home/ssm-user/anaconda3/envs/single_cell/lib/python3.8/site-packages/anndata/_core/anndata.py:1095: FutureWarning: The `inplace` parameter in pandas.Categorical.remove_unused_categories is deprecated and will be removed in a future version.\n",
      "  df_sub[k].cat.remove_unused_categories(inplace=True)\n",
      "/home/ssm-user/anaconda3/envs/single_cell/lib/python3.8/site-packages/anndata/_core/anndata.py:1095: FutureWarning: The `inplace` parameter in pandas.Categorical.remove_unused_categories is deprecated and will be removed in a future version.\n",
      "  df_sub[k].cat.remove_unused_categories(inplace=True)\n"
     ]
    }
   ],
   "source": [
    "adata = sc.AnnData(X=sparse.csr_matrix(dropseq.values), obs=pd.DataFrame(index=dropseq.index), var=pd.DataFrame(index=dropseq.columns))\n",
    "q = 0.01485030176341905\n",
    "adata.obs['q'] = q\n",
    "adata.obs['group'] = 'A'\n",
    "adata.write(data_path + 'dropseq.h5ad')\n",
    "\n",
    "memento.setup_memento(adata, q_column='q', filter_mean_thresh=0.02,trim_percent=0.5, shrinkage=0)\n",
    "\n",
    "#Optional\n",
    "mem_gapdh_sf = (adata[:, 'GAPDH'].X.todense().A1+1)/( adata[:, 'GAPDH'].X.todense().A1+1).mean()\n",
    "mem_total_sf = adata.obs['memento_size_factor']/adata.obs['memento_size_factor'].mean()\n",
    "adata.obs['memento_size_factor'] = 1\n",
    "\n",
    "memento.create_groups(adata, label_columns=['group'])\n",
    "memento.compute_1d_moments(adata, filter_genes=True)\n",
    "\n",
    "dropseq_m, dropseq_v, _ = adata.uns['memento']['1d_moments']['sg^A']\n",
    "dropseq_fano = dropseq_v/dropseq_m**2\n",
    "\n",
    "naive_sf = dropseq.sum(axis=1).values/adata.X.sum(axis=1).mean()\n",
    "naive_sf = 1# adata.obs['memento_size_factor'].values\n",
    "\n",
    "normalized_dropseq = adata.X.toarray()/naive_sf\n",
    "naive_m, naive_v = normalized_dropseq.mean(axis=0), normalized_dropseq.var(axis=0)\n",
    "naive_fano = naive_v/naive_m**2"
   ]
  },
  {
   "cell_type": "code",
   "execution_count": 54,
   "id": "a1cd99a2",
   "metadata": {},
   "outputs": [
    {
     "data": {
      "text/plain": [
       "[<matplotlib.lines.Line2D at 0x7f6fc1e361f0>]"
      ]
     },
     "execution_count": 54,
     "metadata": {},
     "output_type": "execute_result"
    },
    {
     "data": {
      "image/png": "[encoded data removed]",
      "text/plain": [
       "<Figure size 432x288 with 1 Axes>"
      ]
     },
     "metadata": {
      "needs_background": "light"
     },
     "output_type": "display_data"
    }
   ],
   "source": [
    "plt.scatter(np.log(dropseq_v), np.log(naive_v))\n",
    "plt.plot(np.log(dropseq_v),np.log(dropseq_v))"
   ]
  },
  {
   "cell_type": "markdown",
   "id": "e835e2ae",
   "metadata": {},
   "source": [
    "### Compute fish mean and variance"
   ]
  },
  {
   "cell_type": "code",
   "execution_count": 55,
   "id": "6bcab99c",
   "metadata": {},
   "outputs": [],
   "source": [
    "keep_genes = smfish.columns.tolist()\n",
    "overlap_genes = list(set(adata.var.index) & set(keep_genes))\n",
    "overlap_gene_idxs = np.array([adata.var.index.tolist().index(g) for g in overlap_genes])\n",
    "\n",
    "dropseq_m, dropseq_v, naive_m, naive_v = dropseq_m[overlap_gene_idxs], dropseq_v[overlap_gene_idxs], naive_m[overlap_gene_idxs], naive_v[overlap_gene_idxs]\n",
    "dropseq_fano, naive_fano = dropseq_fano[overlap_gene_idxs], naive_fano[overlap_gene_idxs]\n",
    "\n",
    "filtered_smfish = smfish_normalized[overlap_genes]\n",
    "\n",
    "means = np.nanmean(filtered_smfish, axis=0)\n",
    "variances = np.nanvar(filtered_smfish, axis=0)\n",
    "corrs = filtered_smfish.corr()\n",
    "covs = filtered_smfish.cov()\n",
    "fanos = variances/means**2\n",
    "\n",
    "naive_corr = np.corrcoef(normalized_dropseq[:, overlap_gene_idxs], rowvar=False)\n",
    "naive_cov = np.cov(normalized_dropseq[:, overlap_gene_idxs], rowvar=False)\n"
   ]
  },
  {
   "cell_type": "markdown",
   "id": "94cdf81d",
   "metadata": {},
   "source": [
    "### Make comparison for mean and variability"
   ]
  },
  {
   "cell_type": "code",
   "execution_count": 56,
   "id": "6fa36b71",
   "metadata": {},
   "outputs": [],
   "source": [
    "filtered_saver = normalized_saver_estimates[overlap_genes]"
   ]
  },
  {
   "cell_type": "code",
   "execution_count": 57,
   "id": "5286b6a9",
   "metadata": {},
   "outputs": [],
   "source": [
    "saver_m = np.nanmean(filtered_saver, axis=0)\n",
    "saver_v = np.nanvar(filtered_saver, axis=0)\n",
    "saver_fano = saver_v/saver_m**2\n",
    "\n",
    "a, b, _, _, _= stats.linregress(np.log(saver_m), np.log(saver_v))\n",
    "naive_rv = np.log(saver_v)-(np.log(saver_m)*a+b)"
   ]
  },
  {
   "cell_type": "code",
   "execution_count": 58,
   "id": "602e0b8f",
   "metadata": {},
   "outputs": [],
   "source": [
    "n_umi = adata.obs['memento_size_factor'].mean()"
   ]
  },
  {
   "cell_type": "code",
   "execution_count": 59,
   "id": "c9b8e04b",
   "metadata": {},
   "outputs": [
    {
     "data": {
      "image/png": "[encoded data removed]",
      "text/plain": [
       "<Figure size 576x108 with 3 Axes>"
      ]
     },
     "metadata": {
      "needs_background": "light"
     },
     "output_type": "display_data"
    }
   ],
   "source": [
    "plt.figure(figsize=(8,1.5))\n",
    "plt.subplots_adjust(wspace=0.7)\n",
    "\n",
    "plt.subplot(1,3,1)\n",
    "plt.scatter(np.log(means), np.log(naive_m/q))\n",
    "plt.plot([-1, 4],[-1, 4], '--', color='k')\n",
    "plt.xlabel('fish mean'); plt.ylabel('naive mean')\n",
    "plt.title('CCC = '+str.format('{0:.2f}', stats.spearmanr(np.log(means), np.log(naive_m/q))[0]))\n",
    "\n",
    "plt.subplot(1,3,2)\n",
    "plt.scatter(np.log(means), np.log(saver_m/q))\n",
    "plt.plot([-1, 4],[-1, 4], '--', color='k')\n",
    "plt.xlabel('fish mean'); plt.ylabel('saver mean')\n",
    "# print('saver', stats.pearsonr(fish_corr_array[selected_pairs], saver_corrs[selected_pairs])[0])\n",
    "plt.title('CCC = '+str.format('{0:.2f}', stats.spearmanr(np.log(means), np.log(saver_m/q))[0]))\n",
    "\n",
    "plt.subplot(1,3,3)\n",
    "plt.scatter(np.log(means), np.log(dropseq_m*n_umi/q))\n",
    "plt.plot([-1, 4],[-1, 4], '--', color='k')\n",
    "plt.xlabel('fish mean'); plt.ylabel('memento fmean')\n",
    "plt.title('CCC = '+str.format('{0:.2f}', stats.spearmanr(np.log(means), np.log(dropseq_m*n_umi/q))[0]))\n",
    "\n",
    "plt.savefig('mean_comparisons.png', dpi=300)"
   ]
  },
  {
   "cell_type": "code",
   "execution_count": 120,
   "id": "5833b910",
   "metadata": {},
   "outputs": [
    {
     "data": {
      "image/png": "[encoded data removed]",
      "text/plain": [
       "<Figure size 194.4x180 with 1 Axes>"
      ]
     },
     "metadata": {
      "needs_background": "light"
     },
     "output_type": "display_data"
    }
   ],
   "source": [
    "plt.figure(figsize=(2.7,2.5))\n",
    "plt.scatter(np.log(means), np.log(dropseq_m), s=40, color='turquoise')\n",
    "# plt.xlabel('smFISH log(CV)'); plt.ylabel('Dropseq log(CV)');\n",
    "plt.savefig('mean_comparisons.pdf', bbox_inches='tight')"
   ]
  },
  {
   "cell_type": "code",
   "execution_count": 80,
   "id": "4726f775",
   "metadata": {},
   "outputs": [
    {
     "data": {
      "image/png": "[encoded data removed]",
      "text/plain": [
       "<Figure size 576x108 with 3 Axes>"
      ]
     },
     "metadata": {
      "needs_background": "light"
     },
     "output_type": "display_data"
    }
   ],
   "source": [
    "plt.figure(figsize=(8,1.5))\n",
    "plt.subplots_adjust(wspace=0.7)\n",
    "\n",
    "plt.subplot(1,3,1)\n",
    "plt.scatter(np.log(fanos), np.log(naive_fano))\n",
    "plt.xlabel('fish CV'); plt.ylabel('naive CV')\n",
    "plt.title('CCC = '+str.format('{0:.2f}', stats.pearsonr(np.log(fanos), np.log(naive_fano))[0]))\n",
    "\n",
    "plt.subplot(1,3,2)\n",
    "plt.scatter(np.log(fanos), np.log(saver_fano))\n",
    "plt.xlabel('fish CV'); plt.ylabel('saver CV')\n",
    "# print('saver', stats.pearsonr(fish_corr_array[selected_pairs], saver_corrs[selected_pairs])[0])\n",
    "plt.title('CCC = '+str.format('{0:.2f}', stats.pearsonr(np.log(fanos), np.log(saver_fano))[0]))\n",
    "\n",
    "plt.subplot(1,3,3)\n",
    "plt.scatter(np.log(fanos), np.log(dropseq_fano))\n",
    "plt.xlabel('fish CV'); plt.ylabel('memento CV')\n",
    "plt.title('CCC = '+str.format('{0:.2f}', stats.pearsonr(np.log(fanos), np.log(dropseq_fano))[0]))\n",
    "\n",
    "plt.savefig('variability_comparisons.png', dpi=300)"
   ]
  },
  {
   "cell_type": "code",
   "execution_count": 122,
   "id": "8ab0e8ad",
   "metadata": {},
   "outputs": [],
   "source": [
    "result_path = '/data_volume/memento/saver/'"
   ]
  },
  {
   "cell_type": "code",
   "execution_count": 128,
   "id": "0d6ecd73",
   "metadata": {},
   "outputs": [],
   "source": [
    "mean = pd.read_csv(result_path + 'dropseq_BASiCS_mu.csv'.format(q)).mean(axis=0)\n",
    "delta = pd.read_csv(result_path + 'dropseq_BASiCS_delta.csv'.format(q)).mean(axis=0)\n",
    "v_basics = mean+delta*mean**2\n",
    "m_basics = mean\n",
    "fano_basics = v_basics/m_basics**2\n",
    "\n",
    "# scaling = (/m_basics)\n",
    "# m_basics = m_basics*scaling\n",
    "# v_basics = v_basics*scaling**2\n"
   ]
  },
  {
   "cell_type": "code",
   "execution_count": 137,
   "id": "5e1d1a44",
   "metadata": {},
   "outputs": [
    {
     "name": "stdout",
     "output_type": "stream",
     "text": [
      "memento 0.9405861170710372\n",
      "naive 0.8048828841819847\n",
      "basics 0.6088417637046718\n"
     ]
    }
   ],
   "source": [
    "print('memento', stats.pearsonr(np.log(fanos), np.log(dropseq_fano))[0])\n",
    "print('naive', stats.pearsonr(np.log(fanos), np.log(naive_fano))[0])\n",
    "print('basics', stats.pearsonr(np.log(fanos), np.log(fano_basics[overlap_genes]))[0])"
   ]
  },
  {
   "cell_type": "code",
   "execution_count": 135,
   "id": "8e903fe4",
   "metadata": {},
   "outputs": [
    {
     "data": {
      "image/png": "[encoded data removed]",
      "text/plain": [
       "<Figure size 194.4x180 with 1 Axes>"
      ]
     },
     "metadata": {
      "needs_background": "light"
     },
     "output_type": "display_data"
    }
   ],
   "source": [
    "plt.figure(figsize=(2.7,2.5))\n",
    "plt.scatter(np.log(fanos), np.log(naive_fano), s=40, color='silver')\n",
    "plt.scatter(np.log(fanos), np.log(fano_basics[overlap_genes]), s=40, color='dimgrey')\n",
    "plt.scatter(np.log(fanos), np.log(dropseq_fano), s=40, color='turquoise')\n",
    "\n",
    "# plt.xlabel('smFISH log(CV)'); plt.ylabel('Dropseq log(CV)');\n",
    "plt.savefig('variability_comparisons.pdf', bbox_inches='tight')"
   ]
  },
  {
   "cell_type": "markdown",
   "id": "3e33cbdb",
   "metadata": {},
   "source": [
    "### Make comparison for correlations"
   ]
  },
  {
   "cell_type": "code",
   "execution_count": 82,
   "id": "a4d54c0a",
   "metadata": {},
   "outputs": [],
   "source": [
    "saver_corrs = saver_corrs_all.loc[overlap_genes, overlap_genes].values.reshape(-1)"
   ]
  },
  {
   "cell_type": "code",
   "execution_count": 83,
   "id": "1df91486",
   "metadata": {},
   "outputs": [],
   "source": [
    "memento.compute_2d_moments(adata, gene_pairs=list(itertools.product(overlap_genes, overlap_genes)))"
   ]
  },
  {
   "cell_type": "code",
   "execution_count": 84,
   "id": "c122cde5",
   "metadata": {},
   "outputs": [],
   "source": [
    "memento_corr_array = adata.uns['memento']['2d_moments']['sg^A']['corr']\n",
    "memento_cov_array = adata.uns['memento']['2d_moments']['sg^A']['cov']"
   ]
  },
  {
   "cell_type": "code",
   "execution_count": 85,
   "id": "460d0414",
   "metadata": {},
   "outputs": [],
   "source": [
    "fish_corr_array = np.array([corrs.loc[x,y] for x,y in itertools.product(overlap_genes, overlap_genes)])\n",
    "fish_cov_array = np.array([covs.loc[x,y] for x,y in itertools.product(overlap_genes, overlap_genes)])"
   ]
  },
  {
   "cell_type": "code",
   "execution_count": 86,
   "id": "53a45ca5",
   "metadata": {},
   "outputs": [],
   "source": [
    "selected_pairs = ~np.isnan(fish_corr_array) & (fish_corr_array!=1)"
   ]
  },
  {
   "cell_type": "code",
   "execution_count": 87,
   "id": "8cc5cb50",
   "metadata": {},
   "outputs": [],
   "source": [
    "import matplotlib as mpl\n",
    "\n",
    "mpl.rcParams['pdf.fonttype'] = 42\n",
    "mpl.rcParams['ps.fonttype'] = 42\n",
    "\n",
    "import matplotlib.pylab as pylab\n",
    "params = {'legend.fontsize': 'medium',\n",
    "         'axes.labelsize': 'large',\n",
    "         'axes.titlesize':'medium',\n",
    "         'figure.titlesize':'medium',\n",
    "         'xtick.labelsize':'small',\n",
    "         'ytick.labelsize':'small'}\n",
    "pylab.rcParams.update(params)\n"
   ]
  },
  {
   "cell_type": "code",
   "execution_count": 88,
   "id": "4e2cdbb4",
   "metadata": {},
   "outputs": [
    {
     "data": {
      "image/png": "[encoded data removed]",
      "text/plain": [
       "<Figure size 576x108 with 3 Axes>"
      ]
     },
     "metadata": {
      "needs_background": "light"
     },
     "output_type": "display_data"
    }
   ],
   "source": [
    "plt.figure(figsize=(8,1.5))\n",
    "plt.subplots_adjust(wspace=0.7)\n",
    "\n",
    "plt.subplot(1,3,1)\n",
    "plt.scatter(fish_corr_array[selected_pairs], naive_corr.reshape(-1)[selected_pairs], s=7)\n",
    "plt.xlabel('fish corr'); plt.ylabel('naive corr')\n",
    "# print('naive', stats.pearsonr(fish_corr_array[selected_pairs], naive_corr.reshape(-1)[selected_pairs])[0])\n",
    "plt.title('R = '+str(concordance(fish_corr_array[selected_pairs], naive_corr.reshape(-1)[selected_pairs])))\n",
    "plt.title('R = '+str.format('{0:.2f}', stats.pearsonr(fish_corr_array[selected_pairs], naive_corr.reshape(-1)[selected_pairs])[0]))\n",
    "\n",
    "\n",
    "\n",
    "plt.subplot(1,3,2)\n",
    "plt.scatter(fish_corr_array[selected_pairs], saver_corrs[selected_pairs], s=7)\n",
    "plt.xlabel('fish corr'); plt.ylabel('saver corr')\n",
    "# print('saver', stats.pearsonr(fish_corr_array[selected_pairs], saver_corrs[selected_pairs])[0])\n",
    "plt.title('R = '+str(concordance(fish_corr_array[selected_pairs], saver_corrs[selected_pairs])))\n",
    "plt.title('R = '+str.format('{0:.2f}', stats.pearsonr(fish_corr_array[selected_pairs], saver_corrs[selected_pairs])[0]))\n",
    "\n",
    "plt.subplot(1,3,3)\n",
    "plt.scatter(fish_corr_array[selected_pairs], memento_corr_array[selected_pairs], s=7)\n",
    "plt.xlabel('fish corr'); plt.ylabel('memento corr')\n",
    "# print('memento', stats.pearsonr(fish_corr_array[selected_pairs], memento_corr_array[selected_pairs])[0])\n",
    "plt.title('R = '+str.format('{0:.2f}', stats.pearsonr(fish_corr_array[selected_pairs], memento_corr_array[selected_pairs])[0]))\n",
    "\n",
    "plt.savefig('coex_comparisons.png', dpi=300)"
   ]
  },
  {
   "cell_type": "code",
   "execution_count": 104,
   "id": "4da01719",
   "metadata": {},
   "outputs": [
    {
     "data": {
      "text/plain": [
       "0.7909050220217199"
      ]
     },
     "execution_count": 104,
     "metadata": {},
     "output_type": "execute_result"
    }
   ],
   "source": [
    "stats.pearsonr(fish_corr_array[selected_pairs], memento_corr_array[selected_pairs])[0]"
   ]
  },
  {
   "cell_type": "code",
   "execution_count": 119,
   "id": "ba265087",
   "metadata": {},
   "outputs": [
    {
     "data": {
      "image/png": "[encoded data removed]",
      "text/plain": [
       "<Figure size 194.4x180 with 1 Axes>"
      ]
     },
     "metadata": {
      "needs_background": "light"
     },
     "output_type": "display_data"
    }
   ],
   "source": [
    "plt.figure(figsize=(2.7,2.5))\n",
    "plt.scatter(fish_corr_array[selected_pairs], naive_corr.reshape(-1)[selected_pairs], s=40, color='silver')\n",
    "plt.scatter(fish_corr_array[selected_pairs], memento_corr_array[selected_pairs], s=40, color='turquoise')\n",
    "# plt.xlabel('smFISH corr'); plt.ylabel('Dropseq corr');\n",
    "plt.savefig('correlation_comparisons.pdf', bbox_inches='tight')"
   ]
  },
  {
   "cell_type": "code",
   "execution_count": null,
   "id": "47b6e426",
   "metadata": {},
   "outputs": [],
   "source": []
  }
 ],
 "metadata": {
  "kernelspec": {
   "display_name": "Python 3 (ipykernel)",
   "language": "python",
   "name": "python3"
  },
  "language_info": {
   "codemirror_mode": {
    "name": "ipython",
    "version": 3
   },
   "file_extension": ".py",
   "mimetype": "text/x-python",
   "name": "python",
   "nbconvert_exporter": "python",
   "pygments_lexer": "ipython3",
   "version": "3.8.16"
  }
 },
 "nbformat": 4,
 "nbformat_minor": 5
}
