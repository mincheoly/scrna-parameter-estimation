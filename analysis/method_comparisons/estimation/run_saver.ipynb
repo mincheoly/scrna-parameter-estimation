{
 "cells": [
  {
   "cell_type": "code",
   "execution_count": 1,
   "id": "31214c3b",
   "metadata": {},
   "outputs": [],
   "source": [
    "library('SAVER')"
   ]
  },
  {
   "cell_type": "code",
   "execution_count": 2,
   "id": "18eb564c",
   "metadata": {},
   "outputs": [],
   "source": [
    "# saver_obj = readRDS('/data_volume/memento/saver/melanoma_dropseq_saver.rds')"
   ]
  },
  {
   "cell_type": "code",
   "execution_count": 3,
   "id": "d137f33d",
   "metadata": {},
   "outputs": [],
   "source": [
    "dropseq_data = readRDS('/data_volume/memento/saver/melanoma_dropseq.rds')"
   ]
  },
  {
   "cell_type": "code",
   "execution_count": null,
   "id": "7a30727e",
   "metadata": {},
   "outputs": [
    {
     "name": "stderr",
     "output_type": "stream",
     "text": [
      "Warning message in if (!(grepl(\"matrix\", class(x), ignore.case = TRUE))) {:\n",
      "“the condition has length > 1 and only the first element will be used”\n",
      "12241 genes, 8498 cells\n",
      "\n",
      "Running SAVER with 3 worker(s)\n",
      "\n",
      "Calculating predictions for 12241 genes using 3680 genes and 8498 cells...\n",
      "\n",
      "Start time: 2022-07-14 19:27:49\n",
      "\n",
      "Estimating finish time...\n",
      "\n",
      "Finished 8/12241 genes. Approximate finish time: 2022-07-14 20:09:23\n",
      "\n",
      "Calculating max cor cutoff...\n",
      "\n",
      "Finished 100/12241 genes. Approximate finish time: 2022-07-14 20:32:07\n",
      "\n",
      "Calculating lambda coefficients...\n",
      "\n",
      "Finished 395/12241 genes. Approximate finish time: 2022-07-14 20:58:50\n",
      "\n",
      "Predicting remaining genes...\n",
      "\n"
     ]
    }
   ],
   "source": [
    "saver_obj = saver(dropseq_data, ncores=3)"
   ]
  },
  {
   "cell_type": "code",
   "execution_count": null,
   "id": "c8c8dc34",
   "metadata": {},
   "outputs": [],
   "source": [
    "saveRDS(saver_obj, 'saver_melanoma.rds')"
   ]
  },
  {
   "cell_type": "code",
   "execution_count": null,
   "id": "5c845bd3",
   "metadata": {},
   "outputs": [],
   "source": [
    "saver_obj <- readRDS('saver_melanoma.rds')"
   ]
  },
  {
   "cell_type": "code",
   "execution_count": null,
   "id": "496d8c20",
   "metadata": {},
   "outputs": [],
   "source": [
    "write.csv(saver_obj[['estimate']], '/data_volume/memento/saver/saver_estimates.csv')"
   ]
  },
  {
   "cell_type": "markdown",
   "id": "56c648c4",
   "metadata": {},
   "source": [
    "### Read saved RDS file"
   ]
  },
  {
   "cell_type": "markdown",
   "id": "2ceedf88",
   "metadata": {},
   "source": [
    "saver_obj = readRDS('melanoma_dropseq_saver.rds')"
   ]
  },
  {
   "cell_type": "markdown",
   "id": "03ec9bd1",
   "metadata": {},
   "source": [
    "corr_df = cor.genes(saver_obj)"
   ]
  },
  {
   "cell_type": "markdown",
   "id": "be43c168",
   "metadata": {},
   "source": [
    "dim(corr_df)"
   ]
  },
  {
   "cell_type": "markdown",
   "id": "c62af2ac",
   "metadata": {},
   "source": [
    "write.csv(corr_df, '/data_volume/memento/saver/saver_corrs.csv')"
   ]
  },
  {
   "cell_type": "markdown",
   "id": "11932771",
   "metadata": {},
   "source": [
    "### Saver correlation code"
   ]
  },
  {
   "cell_type": "code",
   "execution_count": null,
   "id": "253b48d9",
   "metadata": {},
   "outputs": [],
   "source": [
    "sf <- colSums(dropseq_data)/mean(colSums(dropseq_data))"
   ]
  },
  {
   "cell_type": "code",
   "execution_count": null,
   "id": "4714713c",
   "metadata": {},
   "outputs": [],
   "source": [
    "library(reshape2)\n",
    "\n",
    "adj.vec <- rep(0, 12241)\n",
    "for (i in 1:12241) {\n",
    "  adj.vec[i] <- \n",
    "    sqrt(var(saver_obj$estimate[i, ]*sf, na.rm = TRUE)/\n",
    "           (var(saver_obj$estimate[i, ]*sf, na.rm = TRUE) + \n",
    "              mean(saver_obj$se[i, ]^2*sf^2, na.rm = TRUE)))\n",
    "}"
   ]
  },
  {
   "cell_type": "code",
   "execution_count": null,
   "id": "3b8a1873",
   "metadata": {},
   "outputs": [],
   "source": [
    "scale.factor <- outer(adj.vec, adj.vec)\n"
   ]
  },
  {
   "cell_type": "code",
   "execution_count": null,
   "id": "52f91843",
   "metadata": {},
   "outputs": [],
   "source": [
    "temp.cor <- cor( t(sweep(saver_obj$estimate, 2, sf, \"*\")))"
   ]
  },
  {
   "cell_type": "code",
   "execution_count": null,
   "id": "c3c96dbd",
   "metadata": {},
   "outputs": [],
   "source": [
    "saver.cor <- temp.cor*scale.factor\n"
   ]
  },
  {
   "cell_type": "code",
   "execution_count": null,
   "id": "c0fe76d9",
   "metadata": {},
   "outputs": [],
   "source": [
    "dim(saver.cor)"
   ]
  },
  {
   "cell_type": "code",
   "execution_count": null,
   "id": "374e3e7c",
   "metadata": {},
   "outputs": [],
   "source": [
    "write.csv(saver.cor, '/data_volume/memento/saver/saver_corrs.csv')"
   ]
  },
  {
   "cell_type": "code",
   "execution_count": null,
   "id": "a14bfe96",
   "metadata": {},
   "outputs": [],
   "source": []
  },
  {
   "cell_type": "code",
   "execution_count": null,
   "id": "bd604a6e",
   "metadata": {},
   "outputs": [],
   "source": []
  }
 ],
 "metadata": {
  "kernelspec": {
   "display_name": "R",
   "language": "R",
   "name": "ir"
  },
  "language_info": {
   "codemirror_mode": "r",
   "file_extension": ".r",
   "mimetype": "text/x-r-source",
   "name": "R",
   "pygments_lexer": "r",
   "version": "4.0.5"
  }
 },
 "nbformat": 4,
 "nbformat_minor": 5
}
