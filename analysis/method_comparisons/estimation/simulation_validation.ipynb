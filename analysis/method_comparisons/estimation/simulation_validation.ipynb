{
 "cells": [
  {
   "cell_type": "markdown",
   "metadata": {},
   "source": [
    "# Inference validation with simulation\n"
   ]
  },
  {
   "cell_type": "code",
   "execution_count": 1,
   "metadata": {},
   "outputs": [
    {
     "name": "stderr",
     "output_type": "stream",
     "text": [
      "/tmp/ipykernel_19447/1565241514.py:13: FutureWarning: Passing a negative integer is deprecated in version 1.0 and will not be supported in future version. Instead, use None to not limit the column width.\n",
      "  pd.set_option('display.max_colwidth', -1)\n"
     ]
    }
   ],
   "source": [
    "import pandas as pd\n",
    "import matplotlib.pyplot as plt\n",
    "import scanpy as sc\n",
    "import scipy as sp\n",
    "import itertools\n",
    "import numpy as np\n",
    "import scipy.stats as stats\n",
    "from scipy.integrate import dblquad\n",
    "import seaborn as sns\n",
    "from statsmodels.stats.multitest import fdrcorrection\n",
    "import imp\n",
    "pd.options.display.max_rows = 999\n",
    "pd.set_option('display.max_colwidth', -1)\n",
    "import pickle as pkl\n",
    "import time"
   ]
  },
  {
   "cell_type": "code",
   "execution_count": 2,
   "metadata": {},
   "outputs": [],
   "source": [
    "import matplotlib as mpl\n",
    "mpl.rcParams['pdf.fonttype'] = 42\n",
    "mpl.rcParams['ps.fonttype'] = 42\n",
    "\n",
    "import matplotlib.pylab as pylab\n",
    "params = {'legend.fontsize': 'xx-small',\n",
    "         'axes.labelsize': 'medium',\n",
    "         'axes.titlesize':'medium',\n",
    "         'figure.titlesize':'medium',\n",
    "      \n",
    "         'xtick.labelsize':'xx-small',\n",
    "         'ytick.labelsize':'xx-small'}\n",
    "pylab.rcParams.update(params)\n"
   ]
  },
  {
   "cell_type": "code",
   "execution_count": 3,
   "metadata": {},
   "outputs": [],
   "source": [
    "import sys\n",
    "sys.path.append('/home/ssm-user/Github/scrna-parameter-estimation/dist/memento-0.0.9-py3.8.egg')\n",
    "import memento\n",
    "import memento.simulate as simulate"
   ]
  },
  {
   "cell_type": "code",
   "execution_count": 4,
   "metadata": {},
   "outputs": [],
   "source": [
    "# import sys\n",
    "# sys.path.append('/home/ssm-user/Github/single_cell_eb/')\n",
    "# sys.path.append('/home/ssm-user/Github/single_cell_eb/sceb/')\n",
    "# import scdd"
   ]
  },
  {
   "cell_type": "code",
   "execution_count": 5,
   "metadata": {},
   "outputs": [],
   "source": [
    "data_path = '/data_volume/memento/demux/'\n",
    "fig_path = '/data/home/Github/scrna-parameter-estimation/figures/fig3/'"
   ]
  },
  {
   "cell_type": "markdown",
   "metadata": {},
   "source": [
    "### Extract parameters from interferon dataset"
   ]
  },
  {
   "cell_type": "code",
   "execution_count": 6,
   "metadata": {},
   "outputs": [
    {
     "name": "stderr",
     "output_type": "stream",
     "text": [
      "/home/ssm-user/anaconda3/envs/single_cell/lib/python3.8/site-packages/anndata/_core/anndata.py:1095: FutureWarning: The `inplace` parameter in pandas.Categorical.remove_unused_categories is deprecated and will be removed in a future version.\n",
      "  df_sub[k].cat.remove_unused_categories(inplace=True)\n"
     ]
    }
   ],
   "source": [
    "adata = sc.read(data_path + 'interferon_filtered.h5ad')\n",
    "adata = adata[adata.obs.cell_type == 'CD4 T cells - ctrl']\n",
    "data = adata.X.copy()\n",
    "relative_data = data.toarray()/data.sum(axis=1)"
   ]
  },
  {
   "cell_type": "code",
   "execution_count": 7,
   "metadata": {},
   "outputs": [],
   "source": [
    "q = 0.07\n",
    "x_param, z_param, Nc, good_idx = memento.simulate.extract_parameters(adata.X, q=q, min_mean=q)"
   ]
  },
  {
   "cell_type": "markdown",
   "metadata": {},
   "source": [
    "### Functions for simulating DE, DV, and DC"
   ]
  },
  {
   "cell_type": "code",
   "execution_count": null,
   "metadata": {},
   "outputs": [],
   "source": [
    "def simulate_two_datasets(x_param, Nc, n_cells, q, diff='mean'):\n",
    "    \n",
    "    log_means_1, log_variances_1 = np.log(x_param[0]), np.log(x_param[1])\n",
    "    log_means_2, log_variances_2 = log_means_1.copy(), log_variances_1.copy()\n",
    "    \n",
    "    if diff == 'null':\n",
    "        norm_cov_1, norm_cov_2 = 'indep', 'indep'\n",
    "    if diff == 'mean':\n",
    "        log_means_2[:500] += 0.5\n",
    "        norm_cov_1, norm_cov_2 = 'indep', 'indep'\n",
    "    if diff == 'variability':\n",
    "        log_variances_2[:500] += 0.5\n",
    "        norm_cov_1, norm_cov_2 = 'indep', 'indep'\n",
    "    if diff == 'correlation':\n",
    "        norm_cov_1 = make_spd_matrix(log_means_1.shape[0])\n",
    "        norm_corr_1 = norm_cov_1/np.outer(np.sqrt(np.diag(norm_cov_1)), np.sqrt(np.diag(norm_cov_1)))\n",
    "        norm_corr_subset = norm_corr_1[:100, :100].copy()\n",
    "        \n",
    "        change_indices = np.where(norm_corr_subset < 0.5)\n",
    "        change_indices = (change_indices[0][:150], change_indices[1][:150])\n",
    "        norm_corr_subset[change_indices] += 0.5\n",
    "        \n",
    "        norm_corr_2 = norm_corr_1.copy()\n",
    "        norm_corr_2[:100, :100] = norm_corr_subset\n",
    "        norm_cov_2 = norm_corr_2 * np.outer(np.sqrt(np.diag(norm_cov_1)), np.sqrt(np.diag(norm_cov_1)))\n",
    "    \n",
    "    data_1 = simulate.simulate_transcriptomes(\n",
    "        n_cells=n_cells, \n",
    "        means=np.exp(log_means_1)*Nc.mean(),\n",
    "        variances=(np.exp(log_variances_1) + np.exp(log_means_1)**2)*(Nc**2).mean() - np.exp(log_means_1)**2*Nc.mean()**2,\n",
    "        Nc=Nc,\n",
    "        norm_cov=norm_cov_1)\n",
    "    \n",
    "    data_2 = simulate.simulate_transcriptomes(\n",
    "        n_cells=n_cells, \n",
    "        means=np.exp(log_means_2)*Nc.mean(),\n",
    "        variances=(np.exp(log_variances_2) + np.exp(log_means_2)**2)*(Nc**2).mean() - np.exp(log_means_2)**2*Nc.mean()**2,\n",
    "        Nc=Nc,\n",
    "        norm_cov=norm_cov_2)\n",
    "    \n",
    "    true_data = np.vstack([data_1, data_2])\n",
    "    _, hyper_captured = simulate.capture_sampling(true_data, q=q, process='hyper')\n",
    "    \n",
    "    anndata = sc.AnnData(sp.sparse.csr_matrix(hyper_captured))\n",
    "    anndata.obs['ct_real'] = ['A' for i in range(n_cells)] + ['B' for i in range(n_cells)]\n",
    "    anndata.obs['ct_shuffled'] = np.random.choice(['A', 'B'], anndata.shape[0])\n",
    "    \n",
    "    if diff == 'correlation':\n",
    "        return anndata, change_indices\n",
    "    else:\n",
    "        return anndata, None\n",
    "\n",
    "    \n",
    "def calculate_power(n_cells, test='mean', test_null=False):\n",
    "    \n",
    "    sim_adata, change_indices = simulate_two_datasets(x_param, Nc, n_cells, q=q, diff=test if not test_null else 'null')\n",
    "        \n",
    "    schypo.create_groups(\n",
    "        sim_adata,\n",
    "        q=q,\n",
    "        label_columns=['ct_real'], \n",
    "        inplace=True)\n",
    "    \n",
    "    schypo.compute_1d_moments(\n",
    "        sim_adata, \n",
    "        inplace=True, \n",
    "        filter_genes=False, \n",
    "        residual_var=True,\n",
    "        filter_mean_thresh=0.0, \n",
    "        min_perc_group=.9)\n",
    "        \n",
    "    if test == 'mean':\n",
    "\n",
    "        schypo.ht_1d_moments(\n",
    "            sim_adata, \n",
    "            formula_like='1 + ct_real',\n",
    "            cov_column='ct_real',\n",
    "            num_boot=5000,\n",
    "            num_cpus=6,\n",
    "            verbose=3)\n",
    "\n",
    "        power = (sim_adata.uns['schypo']['1d_ht']['mean_asl'][:500] < 0.05).mean()\n",
    "        pvals = sim_adata.uns['schypo']['1d_ht']['mean_asl']\n",
    "        \n",
    "    if test == 'variability':\n",
    "\n",
    "        schypo.ht_1d_moments(\n",
    "            sim_adata, \n",
    "            formula_like='1 + ct_real',\n",
    "            cov_column='ct_real',\n",
    "            num_boot=5000,\n",
    "            num_cpus=6,\n",
    "            verbose=3)\n",
    "        \n",
    "        power = (sim_adata.uns['schypo']['1d_ht']['var_asl'][:500] < 0.05).mean()\n",
    "        pvals = sim_adata.uns['schypo']['1d_ht']['var_asl']\n",
    "        \n",
    "    if test == 'correlation':\n",
    "        \n",
    "        schypo.compute_2d_moments(\n",
    "            sim_adata, \n",
    "            inplace=True, \n",
    "            gene_1=np.arange(50).astype(str).tolist(),\n",
    "            gene_2=np.arange(50).astype(str).tolist())\n",
    "        \n",
    "        schypo.ht_2d_moments(\n",
    "            sim_adata, \n",
    "            formula_like='1 + ct_real',\n",
    "            cov_column='ct_real',\n",
    "            num_boot=5000,\n",
    "            num_cpus=6,\n",
    "            verbose=3)\n",
    "        \n",
    "        c_pv = sim_adata.uns['schypo']['2d_ht']['corr_asl'][:50, :50]\n",
    "        power = (c_pv[change_indices] < 0.05).mean()\n",
    "        pvals = sim_adata.uns['schypo']['2d_ht']['corr_asl']\n",
    "                \n",
    "    return power, pvals, sim_adata"
   ]
  }
 ],
 "metadata": {
  "kernelspec": {
   "display_name": "Python 3 (ipykernel)",
   "language": "python",
   "name": "python3"
  },
  "language_info": {
   "codemirror_mode": {
    "name": "ipython",
    "version": 3
   },
   "file_extension": ".py",
   "mimetype": "text/x-python",
   "name": "python",
   "nbconvert_exporter": "python",
   "pygments_lexer": "ipython3",
   "version": "3.8.8"
  }
 },
 "nbformat": 4,
 "nbformat_minor": 4
}
