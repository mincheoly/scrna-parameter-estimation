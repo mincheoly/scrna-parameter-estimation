{
 "cells": [
  {
   "cell_type": "markdown",
   "id": "f771951a",
   "metadata": {},
   "source": [
    "# FISH comparison\n",
    "\n",
    "Data: https://drive.google.com/drive/folders/1uos3DDymyrh3ZyxveDhqQIcOyD1brxeL"
   ]
  },
  {
   "cell_type": "code",
   "execution_count": 3,
   "id": "068cb9b6",
   "metadata": {},
   "outputs": [],
   "source": [
    "import pandas as pd\n",
    "import seaborn as sns\n",
    "import scanpy as sc\n",
    "import scipy.sparse as sparse\n",
    "import numpy as np\n",
    "import matplotlib.pyplot as plt\n",
    "import scipy.stats as stats\n",
    "import itertools"
   ]
  },
  {
   "cell_type": "code",
   "execution_count": 4,
   "id": "19cdb8a6",
   "metadata": {},
   "outputs": [],
   "source": [
    "dropseq = pd.read_csv('/data_volume/memento/saver/melanoma_dropseq.csv', index_col=0, sep=',').T"
   ]
  },
  {
   "cell_type": "code",
   "execution_count": 5,
   "id": "2d962dbf",
   "metadata": {},
   "outputs": [],
   "source": [
    "smfish = pd.read_csv('/data_volume/memento/saver/fishSubset.txt', index_col=0, sep=' ')\n",
    "# smfish = pd.read_csv('fishSubset (1).txt', sep=' ', index_col=0)"
   ]
  },
  {
   "cell_type": "code",
   "execution_count": 6,
   "id": "1e39763b",
   "metadata": {},
   "outputs": [
    {
     "ename": "FileNotFoundError",
     "evalue": "[Errno 2] No such file or directory: '/data_volume/memento/saver/saver_estimates.csv'",
     "output_type": "error",
     "traceback": [
      "\u001b[0;31m---------------------------------------------------------------------------\u001b[0m",
      "\u001b[0;31mFileNotFoundError\u001b[0m                         Traceback (most recent call last)",
      "Input \u001b[0;32mIn [6]\u001b[0m, in \u001b[0;36m<cell line: 1>\u001b[0;34m()\u001b[0m\n\u001b[0;32m----> 1\u001b[0m saver_estimates \u001b[38;5;241m=\u001b[39m \u001b[43mpd\u001b[49m\u001b[38;5;241;43m.\u001b[39;49m\u001b[43mread_csv\u001b[49m\u001b[43m(\u001b[49m\u001b[38;5;124;43m'\u001b[39;49m\u001b[38;5;124;43m/data_volume/memento/saver/saver_estimates.csv\u001b[39;49m\u001b[38;5;124;43m'\u001b[39;49m\u001b[43m,\u001b[49m\u001b[43m \u001b[49m\u001b[43mindex_col\u001b[49m\u001b[38;5;241;43m=\u001b[39;49m\u001b[38;5;241;43m0\u001b[39;49m\u001b[43m)\u001b[49m\n",
      "File \u001b[0;32m~/anaconda3/envs/single_cell/lib/python3.8/site-packages/pandas/util/_decorators.py:311\u001b[0m, in \u001b[0;36mdeprecate_nonkeyword_arguments.<locals>.decorate.<locals>.wrapper\u001b[0;34m(*args, **kwargs)\u001b[0m\n\u001b[1;32m    305\u001b[0m \u001b[38;5;28;01mif\u001b[39;00m \u001b[38;5;28mlen\u001b[39m(args) \u001b[38;5;241m>\u001b[39m num_allow_args:\n\u001b[1;32m    306\u001b[0m     warnings\u001b[38;5;241m.\u001b[39mwarn(\n\u001b[1;32m    307\u001b[0m         msg\u001b[38;5;241m.\u001b[39mformat(arguments\u001b[38;5;241m=\u001b[39marguments),\n\u001b[1;32m    308\u001b[0m         \u001b[38;5;167;01mFutureWarning\u001b[39;00m,\n\u001b[1;32m    309\u001b[0m         stacklevel\u001b[38;5;241m=\u001b[39mstacklevel,\n\u001b[1;32m    310\u001b[0m     )\n\u001b[0;32m--> 311\u001b[0m \u001b[38;5;28;01mreturn\u001b[39;00m \u001b[43mfunc\u001b[49m\u001b[43m(\u001b[49m\u001b[38;5;241;43m*\u001b[39;49m\u001b[43margs\u001b[49m\u001b[43m,\u001b[49m\u001b[43m \u001b[49m\u001b[38;5;241;43m*\u001b[39;49m\u001b[38;5;241;43m*\u001b[39;49m\u001b[43mkwargs\u001b[49m\u001b[43m)\u001b[49m\n",
      "File \u001b[0;32m~/anaconda3/envs/single_cell/lib/python3.8/site-packages/pandas/io/parsers/readers.py:680\u001b[0m, in \u001b[0;36mread_csv\u001b[0;34m(filepath_or_buffer, sep, delimiter, header, names, index_col, usecols, squeeze, prefix, mangle_dupe_cols, dtype, engine, converters, true_values, false_values, skipinitialspace, skiprows, skipfooter, nrows, na_values, keep_default_na, na_filter, verbose, skip_blank_lines, parse_dates, infer_datetime_format, keep_date_col, date_parser, dayfirst, cache_dates, iterator, chunksize, compression, thousands, decimal, lineterminator, quotechar, quoting, doublequote, escapechar, comment, encoding, encoding_errors, dialect, error_bad_lines, warn_bad_lines, on_bad_lines, delim_whitespace, low_memory, memory_map, float_precision, storage_options)\u001b[0m\n\u001b[1;32m    665\u001b[0m kwds_defaults \u001b[38;5;241m=\u001b[39m _refine_defaults_read(\n\u001b[1;32m    666\u001b[0m     dialect,\n\u001b[1;32m    667\u001b[0m     delimiter,\n\u001b[0;32m   (...)\u001b[0m\n\u001b[1;32m    676\u001b[0m     defaults\u001b[38;5;241m=\u001b[39m{\u001b[38;5;124m\"\u001b[39m\u001b[38;5;124mdelimiter\u001b[39m\u001b[38;5;124m\"\u001b[39m: \u001b[38;5;124m\"\u001b[39m\u001b[38;5;124m,\u001b[39m\u001b[38;5;124m\"\u001b[39m},\n\u001b[1;32m    677\u001b[0m )\n\u001b[1;32m    678\u001b[0m kwds\u001b[38;5;241m.\u001b[39mupdate(kwds_defaults)\n\u001b[0;32m--> 680\u001b[0m \u001b[38;5;28;01mreturn\u001b[39;00m \u001b[43m_read\u001b[49m\u001b[43m(\u001b[49m\u001b[43mfilepath_or_buffer\u001b[49m\u001b[43m,\u001b[49m\u001b[43m \u001b[49m\u001b[43mkwds\u001b[49m\u001b[43m)\u001b[49m\n",
      "File \u001b[0;32m~/anaconda3/envs/single_cell/lib/python3.8/site-packages/pandas/io/parsers/readers.py:575\u001b[0m, in \u001b[0;36m_read\u001b[0;34m(filepath_or_buffer, kwds)\u001b[0m\n\u001b[1;32m    572\u001b[0m _validate_names(kwds\u001b[38;5;241m.\u001b[39mget(\u001b[38;5;124m\"\u001b[39m\u001b[38;5;124mnames\u001b[39m\u001b[38;5;124m\"\u001b[39m, \u001b[38;5;28;01mNone\u001b[39;00m))\n\u001b[1;32m    574\u001b[0m \u001b[38;5;66;03m# Create the parser.\u001b[39;00m\n\u001b[0;32m--> 575\u001b[0m parser \u001b[38;5;241m=\u001b[39m \u001b[43mTextFileReader\u001b[49m\u001b[43m(\u001b[49m\u001b[43mfilepath_or_buffer\u001b[49m\u001b[43m,\u001b[49m\u001b[43m \u001b[49m\u001b[38;5;241;43m*\u001b[39;49m\u001b[38;5;241;43m*\u001b[39;49m\u001b[43mkwds\u001b[49m\u001b[43m)\u001b[49m\n\u001b[1;32m    577\u001b[0m \u001b[38;5;28;01mif\u001b[39;00m chunksize \u001b[38;5;129;01mor\u001b[39;00m iterator:\n\u001b[1;32m    578\u001b[0m     \u001b[38;5;28;01mreturn\u001b[39;00m parser\n",
      "File \u001b[0;32m~/anaconda3/envs/single_cell/lib/python3.8/site-packages/pandas/io/parsers/readers.py:933\u001b[0m, in \u001b[0;36mTextFileReader.__init__\u001b[0;34m(self, f, engine, **kwds)\u001b[0m\n\u001b[1;32m    930\u001b[0m     \u001b[38;5;28mself\u001b[39m\u001b[38;5;241m.\u001b[39moptions[\u001b[38;5;124m\"\u001b[39m\u001b[38;5;124mhas_index_names\u001b[39m\u001b[38;5;124m\"\u001b[39m] \u001b[38;5;241m=\u001b[39m kwds[\u001b[38;5;124m\"\u001b[39m\u001b[38;5;124mhas_index_names\u001b[39m\u001b[38;5;124m\"\u001b[39m]\n\u001b[1;32m    932\u001b[0m \u001b[38;5;28mself\u001b[39m\u001b[38;5;241m.\u001b[39mhandles: IOHandles \u001b[38;5;241m|\u001b[39m \u001b[38;5;28;01mNone\u001b[39;00m \u001b[38;5;241m=\u001b[39m \u001b[38;5;28;01mNone\u001b[39;00m\n\u001b[0;32m--> 933\u001b[0m \u001b[38;5;28mself\u001b[39m\u001b[38;5;241m.\u001b[39m_engine \u001b[38;5;241m=\u001b[39m \u001b[38;5;28;43mself\u001b[39;49m\u001b[38;5;241;43m.\u001b[39;49m\u001b[43m_make_engine\u001b[49m\u001b[43m(\u001b[49m\u001b[43mf\u001b[49m\u001b[43m,\u001b[49m\u001b[43m \u001b[49m\u001b[38;5;28;43mself\u001b[39;49m\u001b[38;5;241;43m.\u001b[39;49m\u001b[43mengine\u001b[49m\u001b[43m)\u001b[49m\n",
      "File \u001b[0;32m~/anaconda3/envs/single_cell/lib/python3.8/site-packages/pandas/io/parsers/readers.py:1217\u001b[0m, in \u001b[0;36mTextFileReader._make_engine\u001b[0;34m(self, f, engine)\u001b[0m\n\u001b[1;32m   1213\u001b[0m     mode \u001b[38;5;241m=\u001b[39m \u001b[38;5;124m\"\u001b[39m\u001b[38;5;124mrb\u001b[39m\u001b[38;5;124m\"\u001b[39m\n\u001b[1;32m   1214\u001b[0m \u001b[38;5;66;03m# error: No overload variant of \"get_handle\" matches argument types\u001b[39;00m\n\u001b[1;32m   1215\u001b[0m \u001b[38;5;66;03m# \"Union[str, PathLike[str], ReadCsvBuffer[bytes], ReadCsvBuffer[str]]\"\u001b[39;00m\n\u001b[1;32m   1216\u001b[0m \u001b[38;5;66;03m# , \"str\", \"bool\", \"Any\", \"Any\", \"Any\", \"Any\", \"Any\"\u001b[39;00m\n\u001b[0;32m-> 1217\u001b[0m \u001b[38;5;28mself\u001b[39m\u001b[38;5;241m.\u001b[39mhandles \u001b[38;5;241m=\u001b[39m \u001b[43mget_handle\u001b[49m\u001b[43m(\u001b[49m\u001b[43m  \u001b[49m\u001b[38;5;66;43;03m# type: ignore[call-overload]\u001b[39;49;00m\n\u001b[1;32m   1218\u001b[0m \u001b[43m    \u001b[49m\u001b[43mf\u001b[49m\u001b[43m,\u001b[49m\n\u001b[1;32m   1219\u001b[0m \u001b[43m    \u001b[49m\u001b[43mmode\u001b[49m\u001b[43m,\u001b[49m\n\u001b[1;32m   1220\u001b[0m \u001b[43m    \u001b[49m\u001b[43mencoding\u001b[49m\u001b[38;5;241;43m=\u001b[39;49m\u001b[38;5;28;43mself\u001b[39;49m\u001b[38;5;241;43m.\u001b[39;49m\u001b[43moptions\u001b[49m\u001b[38;5;241;43m.\u001b[39;49m\u001b[43mget\u001b[49m\u001b[43m(\u001b[49m\u001b[38;5;124;43m\"\u001b[39;49m\u001b[38;5;124;43mencoding\u001b[39;49m\u001b[38;5;124;43m\"\u001b[39;49m\u001b[43m,\u001b[49m\u001b[43m \u001b[49m\u001b[38;5;28;43;01mNone\u001b[39;49;00m\u001b[43m)\u001b[49m\u001b[43m,\u001b[49m\n\u001b[1;32m   1221\u001b[0m \u001b[43m    \u001b[49m\u001b[43mcompression\u001b[49m\u001b[38;5;241;43m=\u001b[39;49m\u001b[38;5;28;43mself\u001b[39;49m\u001b[38;5;241;43m.\u001b[39;49m\u001b[43moptions\u001b[49m\u001b[38;5;241;43m.\u001b[39;49m\u001b[43mget\u001b[49m\u001b[43m(\u001b[49m\u001b[38;5;124;43m\"\u001b[39;49m\u001b[38;5;124;43mcompression\u001b[39;49m\u001b[38;5;124;43m\"\u001b[39;49m\u001b[43m,\u001b[49m\u001b[43m \u001b[49m\u001b[38;5;28;43;01mNone\u001b[39;49;00m\u001b[43m)\u001b[49m\u001b[43m,\u001b[49m\n\u001b[1;32m   1222\u001b[0m \u001b[43m    \u001b[49m\u001b[43mmemory_map\u001b[49m\u001b[38;5;241;43m=\u001b[39;49m\u001b[38;5;28;43mself\u001b[39;49m\u001b[38;5;241;43m.\u001b[39;49m\u001b[43moptions\u001b[49m\u001b[38;5;241;43m.\u001b[39;49m\u001b[43mget\u001b[49m\u001b[43m(\u001b[49m\u001b[38;5;124;43m\"\u001b[39;49m\u001b[38;5;124;43mmemory_map\u001b[39;49m\u001b[38;5;124;43m\"\u001b[39;49m\u001b[43m,\u001b[49m\u001b[43m \u001b[49m\u001b[38;5;28;43;01mFalse\u001b[39;49;00m\u001b[43m)\u001b[49m\u001b[43m,\u001b[49m\n\u001b[1;32m   1223\u001b[0m \u001b[43m    \u001b[49m\u001b[43mis_text\u001b[49m\u001b[38;5;241;43m=\u001b[39;49m\u001b[43mis_text\u001b[49m\u001b[43m,\u001b[49m\n\u001b[1;32m   1224\u001b[0m \u001b[43m    \u001b[49m\u001b[43merrors\u001b[49m\u001b[38;5;241;43m=\u001b[39;49m\u001b[38;5;28;43mself\u001b[39;49m\u001b[38;5;241;43m.\u001b[39;49m\u001b[43moptions\u001b[49m\u001b[38;5;241;43m.\u001b[39;49m\u001b[43mget\u001b[49m\u001b[43m(\u001b[49m\u001b[38;5;124;43m\"\u001b[39;49m\u001b[38;5;124;43mencoding_errors\u001b[39;49m\u001b[38;5;124;43m\"\u001b[39;49m\u001b[43m,\u001b[49m\u001b[43m \u001b[49m\u001b[38;5;124;43m\"\u001b[39;49m\u001b[38;5;124;43mstrict\u001b[39;49m\u001b[38;5;124;43m\"\u001b[39;49m\u001b[43m)\u001b[49m\u001b[43m,\u001b[49m\n\u001b[1;32m   1225\u001b[0m \u001b[43m    \u001b[49m\u001b[43mstorage_options\u001b[49m\u001b[38;5;241;43m=\u001b[39;49m\u001b[38;5;28;43mself\u001b[39;49m\u001b[38;5;241;43m.\u001b[39;49m\u001b[43moptions\u001b[49m\u001b[38;5;241;43m.\u001b[39;49m\u001b[43mget\u001b[49m\u001b[43m(\u001b[49m\u001b[38;5;124;43m\"\u001b[39;49m\u001b[38;5;124;43mstorage_options\u001b[39;49m\u001b[38;5;124;43m\"\u001b[39;49m\u001b[43m,\u001b[49m\u001b[43m \u001b[49m\u001b[38;5;28;43;01mNone\u001b[39;49;00m\u001b[43m)\u001b[49m\u001b[43m,\u001b[49m\n\u001b[1;32m   1226\u001b[0m \u001b[43m\u001b[49m\u001b[43m)\u001b[49m\n\u001b[1;32m   1227\u001b[0m \u001b[38;5;28;01massert\u001b[39;00m \u001b[38;5;28mself\u001b[39m\u001b[38;5;241m.\u001b[39mhandles \u001b[38;5;129;01mis\u001b[39;00m \u001b[38;5;129;01mnot\u001b[39;00m \u001b[38;5;28;01mNone\u001b[39;00m\n\u001b[1;32m   1228\u001b[0m f \u001b[38;5;241m=\u001b[39m \u001b[38;5;28mself\u001b[39m\u001b[38;5;241m.\u001b[39mhandles\u001b[38;5;241m.\u001b[39mhandle\n",
      "File \u001b[0;32m~/anaconda3/envs/single_cell/lib/python3.8/site-packages/pandas/io/common.py:789\u001b[0m, in \u001b[0;36mget_handle\u001b[0;34m(path_or_buf, mode, encoding, compression, memory_map, is_text, errors, storage_options)\u001b[0m\n\u001b[1;32m    784\u001b[0m \u001b[38;5;28;01melif\u001b[39;00m \u001b[38;5;28misinstance\u001b[39m(handle, \u001b[38;5;28mstr\u001b[39m):\n\u001b[1;32m    785\u001b[0m     \u001b[38;5;66;03m# Check whether the filename is to be opened in binary mode.\u001b[39;00m\n\u001b[1;32m    786\u001b[0m     \u001b[38;5;66;03m# Binary mode does not support 'encoding' and 'newline'.\u001b[39;00m\n\u001b[1;32m    787\u001b[0m     \u001b[38;5;28;01mif\u001b[39;00m ioargs\u001b[38;5;241m.\u001b[39mencoding \u001b[38;5;129;01mand\u001b[39;00m \u001b[38;5;124m\"\u001b[39m\u001b[38;5;124mb\u001b[39m\u001b[38;5;124m\"\u001b[39m \u001b[38;5;129;01mnot\u001b[39;00m \u001b[38;5;129;01min\u001b[39;00m ioargs\u001b[38;5;241m.\u001b[39mmode:\n\u001b[1;32m    788\u001b[0m         \u001b[38;5;66;03m# Encoding\u001b[39;00m\n\u001b[0;32m--> 789\u001b[0m         handle \u001b[38;5;241m=\u001b[39m \u001b[38;5;28;43mopen\u001b[39;49m\u001b[43m(\u001b[49m\n\u001b[1;32m    790\u001b[0m \u001b[43m            \u001b[49m\u001b[43mhandle\u001b[49m\u001b[43m,\u001b[49m\n\u001b[1;32m    791\u001b[0m \u001b[43m            \u001b[49m\u001b[43mioargs\u001b[49m\u001b[38;5;241;43m.\u001b[39;49m\u001b[43mmode\u001b[49m\u001b[43m,\u001b[49m\n\u001b[1;32m    792\u001b[0m \u001b[43m            \u001b[49m\u001b[43mencoding\u001b[49m\u001b[38;5;241;43m=\u001b[39;49m\u001b[43mioargs\u001b[49m\u001b[38;5;241;43m.\u001b[39;49m\u001b[43mencoding\u001b[49m\u001b[43m,\u001b[49m\n\u001b[1;32m    793\u001b[0m \u001b[43m            \u001b[49m\u001b[43merrors\u001b[49m\u001b[38;5;241;43m=\u001b[39;49m\u001b[43merrors\u001b[49m\u001b[43m,\u001b[49m\n\u001b[1;32m    794\u001b[0m \u001b[43m            \u001b[49m\u001b[43mnewline\u001b[49m\u001b[38;5;241;43m=\u001b[39;49m\u001b[38;5;124;43m\"\u001b[39;49m\u001b[38;5;124;43m\"\u001b[39;49m\u001b[43m,\u001b[49m\n\u001b[1;32m    795\u001b[0m \u001b[43m        \u001b[49m\u001b[43m)\u001b[49m\n\u001b[1;32m    796\u001b[0m     \u001b[38;5;28;01melse\u001b[39;00m:\n\u001b[1;32m    797\u001b[0m         \u001b[38;5;66;03m# Binary mode\u001b[39;00m\n\u001b[1;32m    798\u001b[0m         handle \u001b[38;5;241m=\u001b[39m \u001b[38;5;28mopen\u001b[39m(handle, ioargs\u001b[38;5;241m.\u001b[39mmode)\n",
      "\u001b[0;31mFileNotFoundError\u001b[0m: [Errno 2] No such file or directory: '/data_volume/memento/saver/saver_estimates.csv'"
     ]
    }
   ],
   "source": [
    "saver_estimates = pd.read_csv('/data_volume/memento/saver/saver_estimates.csv', index_col=0)"
   ]
  },
  {
   "cell_type": "code",
   "execution_count": null,
   "id": "ecf535a6",
   "metadata": {},
   "outputs": [],
   "source": [
    "def concordance(x, y, log=False):\n",
    "    \n",
    "    nonnan = np.isfinite(x) & np.isfinite(y)\n",
    "    \n",
    "    if log:\n",
    "        a = np.log(x)\n",
    "        b = np.log(y)\n",
    "    else:\n",
    "        a = x\n",
    "        b = y\n",
    "    cond = np.isfinite(a) & np.isfinite(b)\n",
    "    a = a[cond]\n",
    "    b = b[cond]\n",
    "    cmat = np.cov(a, b)\n",
    "    return 2*cmat[0,1]/(cmat[0,0] + cmat[1,1] + (a.mean()-b.mean())**2)"
   ]
  },
  {
   "cell_type": "markdown",
   "id": "857d7580",
   "metadata": {},
   "source": [
    "### Run memento for DropSeq"
   ]
  },
  {
   "cell_type": "code",
   "execution_count": null,
   "id": "5fc341dc",
   "metadata": {},
   "outputs": [],
   "source": [
    "import sys\n",
    "sys.path.append('/home/ssm-user/Github/scrna-parameter-estimation/dist/memento-0.0.8-py3.8.egg')\n",
    "sys.path.append('/home/ssm-user/Github/misc-seq/miscseq/')\n",
    "import encode\n",
    "import memento"
   ]
  },
  {
   "cell_type": "code",
   "execution_count": null,
   "id": "e9ae1123",
   "metadata": {},
   "outputs": [],
   "source": [
    "adata = sc.AnnData(X=sparse.csr_matrix(dropseq.values), obs=pd.DataFrame(index=dropseq.index), var=pd.DataFrame(index=dropseq.columns))"
   ]
  },
  {
   "cell_type": "code",
   "execution_count": null,
   "id": "969c8656",
   "metadata": {},
   "outputs": [],
   "source": [
    "# sc.pp.filter_cells(adata, min_counts=500,)\n",
    "# sc.pp.filter_cells(adata, max_counts=10000)"
   ]
  },
  {
   "cell_type": "code",
   "execution_count": null,
   "id": "7941dd83",
   "metadata": {},
   "outputs": [],
   "source": [
    "q = 0.01485030176341905\n",
    "adata.obs['q'] = q"
   ]
  },
  {
   "cell_type": "code",
   "execution_count": null,
   "id": "0d984bc9",
   "metadata": {},
   "outputs": [],
   "source": [
    "adata.obs['group'] = 'A'"
   ]
  },
  {
   "cell_type": "code",
   "execution_count": null,
   "id": "3204ad3d",
   "metadata": {},
   "outputs": [],
   "source": [
    "memento.setup_memento(adata, q_column='q', filter_mean_thresh=0.02,trim_percent=0.1)"
   ]
  },
  {
   "cell_type": "code",
   "execution_count": null,
   "id": "ed5a1011",
   "metadata": {},
   "outputs": [],
   "source": [
    "plt.scatter(\n",
    "    np.log(adata.uns['memento']['all_1d_moments'][0]),\n",
    "    np.log(adata.uns['memento']['all_1d_moments'][1]), s=1)"
   ]
  },
  {
   "cell_type": "code",
   "execution_count": null,
   "id": "ad3d42e3",
   "metadata": {},
   "outputs": [],
   "source": [
    "memento.estimator._fit_mv_regressor(adata.uns['memento']['all_1d_moments'][0], adata.uns['memento']['all_1d_moments'][1])"
   ]
  },
  {
   "cell_type": "code",
   "execution_count": 3,
   "id": "d06e45e7",
   "metadata": {},
   "outputs": [
    {
     "ename": "NameError",
     "evalue": "name 'adata' is not defined",
     "output_type": "error",
     "traceback": [
      "\u001b[0;31m---------------------------------------------------------------------------\u001b[0m",
      "\u001b[0;31mNameError\u001b[0m                                 Traceback (most recent call last)",
      "\u001b[0;32m/tmp/ipykernel_74184/3994779578.py\u001b[0m in \u001b[0;36m<module>\u001b[0;34m\u001b[0m\n\u001b[1;32m      1\u001b[0m \u001b[0;31m# size_factor = adata[:, 'GAPDH'].X.todense().A1+1\u001b[0m\u001b[0;34m\u001b[0m\u001b[0;34m\u001b[0m\u001b[0;34m\u001b[0m\u001b[0m\n\u001b[0;32m----> 2\u001b[0;31m \u001b[0madata\u001b[0m\u001b[0;34m.\u001b[0m\u001b[0mobs\u001b[0m\u001b[0;34m[\u001b[0m\u001b[0;34m'memento_size_factor'\u001b[0m\u001b[0;34m]\u001b[0m \u001b[0;34m=\u001b[0m \u001b[0;36m2000\u001b[0m\u001b[0;31m#adata.obs['memento_size_factor']#/adata.obs['memento_size_factor'].mean()\u001b[0m\u001b[0;34m\u001b[0m\u001b[0;34m\u001b[0m\u001b[0m\n\u001b[0m",
      "\u001b[0;31mNameError\u001b[0m: name 'adata' is not defined"
     ]
    }
   ],
   "source": [
    "# size_factor = adata[:, 'GAPDH'].X.todense().A1+1\n",
    "adata.obs['memento_size_factor'] = 2000#adata.obs['memento_size_factor']#/adata.obs['memento_size_factor'].mean()"
   ]
  },
  {
   "cell_type": "code",
   "execution_count": 352,
   "id": "2c0c6cde",
   "metadata": {},
   "outputs": [],
   "source": [
    "memento.create_groups(adata, label_columns=['group'])"
   ]
  },
  {
   "cell_type": "code",
   "execution_count": 353,
   "id": "f1187435",
   "metadata": {},
   "outputs": [],
   "source": [
    "memento.compute_1d_moments(adata, filter_genes=True)"
   ]
  },
  {
   "cell_type": "code",
   "execution_count": 354,
   "id": "204956bf",
   "metadata": {},
   "outputs": [],
   "source": [
    "dropseq_m, dropseq_v, _ = adata.uns['memento']['1d_moments']['sg^A']\n",
    "dropseq_fano = dropseq_v/dropseq_m**2"
   ]
  },
  {
   "cell_type": "code",
   "execution_count": 355,
   "id": "7743d853",
   "metadata": {},
   "outputs": [],
   "source": [
    "naive_m, naive_v = adata.X.mean(axis=0).A1, adata.X.toarray().var(axis=0)\n",
    "naive_fano = naive_v/naive_m**2"
   ]
  },
  {
   "cell_type": "code",
   "execution_count": 356,
   "id": "e75b1aa8",
   "metadata": {},
   "outputs": [
    {
     "data": {
      "text/html": [
       "<div>\n",
       "<style scoped>\n",
       "    .dataframe tbody tr th:only-of-type {\n",
       "        vertical-align: middle;\n",
       "    }\n",
       "\n",
       "    .dataframe tbody tr th {\n",
       "        vertical-align: top;\n",
       "    }\n",
       "\n",
       "    .dataframe thead th {\n",
       "        text-align: right;\n",
       "    }\n",
       "</style>\n",
       "<table border=\"1\" class=\"dataframe\">\n",
       "  <thead>\n",
       "    <tr style=\"text-align: right;\">\n",
       "      <th></th>\n",
       "      <th>q</th>\n",
       "      <th>group</th>\n",
       "      <th>memento_size_factor</th>\n",
       "      <th>memento_group</th>\n",
       "    </tr>\n",
       "  </thead>\n",
       "  <tbody>\n",
       "    <tr>\n",
       "      <th>CTCGCGAGTAGC</th>\n",
       "      <td>0.01485</td>\n",
       "      <td>A</td>\n",
       "      <td>2000</td>\n",
       "      <td>sg^A</td>\n",
       "    </tr>\n",
       "    <tr>\n",
       "      <th>CGGAGGCACTCG</th>\n",
       "      <td>0.01485</td>\n",
       "      <td>A</td>\n",
       "      <td>2000</td>\n",
       "      <td>sg^A</td>\n",
       "    </tr>\n",
       "    <tr>\n",
       "      <th>GCAAGTCGATAT</th>\n",
       "      <td>0.01485</td>\n",
       "      <td>A</td>\n",
       "      <td>2000</td>\n",
       "      <td>sg^A</td>\n",
       "    </tr>\n",
       "    <tr>\n",
       "      <th>GGACAATTTGTA</th>\n",
       "      <td>0.01485</td>\n",
       "      <td>A</td>\n",
       "      <td>2000</td>\n",
       "      <td>sg^A</td>\n",
       "    </tr>\n",
       "    <tr>\n",
       "      <th>TGACAATTGACC</th>\n",
       "      <td>0.01485</td>\n",
       "      <td>A</td>\n",
       "      <td>2000</td>\n",
       "      <td>sg^A</td>\n",
       "    </tr>\n",
       "  </tbody>\n",
       "</table>\n",
       "</div>"
      ],
      "text/plain": [
       "                    q group  memento_size_factor memento_group\n",
       "CTCGCGAGTAGC  0.01485     A                 2000          sg^A\n",
       "CGGAGGCACTCG  0.01485     A                 2000          sg^A\n",
       "GCAAGTCGATAT  0.01485     A                 2000          sg^A\n",
       "GGACAATTTGTA  0.01485     A                 2000          sg^A\n",
       "TGACAATTGACC  0.01485     A                 2000          sg^A"
      ]
     },
     "execution_count": 356,
     "metadata": {},
     "output_type": "execute_result"
    }
   ],
   "source": [
    "adata.obs.head(5)"
   ]
  },
  {
   "cell_type": "markdown",
   "id": "dfae180f",
   "metadata": {},
   "source": [
    "### Compute fish mean and variance"
   ]
  },
  {
   "cell_type": "code",
   "execution_count": 357,
   "id": "9c677fde",
   "metadata": {},
   "outputs": [
    {
     "data": {
      "text/plain": [
       "{'AXL',\n",
       " 'C1S',\n",
       " 'EGFR',\n",
       " 'JUN',\n",
       " 'LOXL2',\n",
       " 'NGFR',\n",
       " 'NRG1',\n",
       " 'PDGFC',\n",
       " 'PDGFRB',\n",
       " 'SERPINE1',\n",
       " 'VEGFC',\n",
       " 'WNT5A'}"
      ]
     },
     "execution_count": 357,
     "metadata": {},
     "output_type": "execute_result"
    }
   ],
   "source": [
    "set(smfish.columns)-set(adata.var.index.tolist())"
   ]
  },
  {
   "cell_type": "code",
   "execution_count": 358,
   "id": "dea75809",
   "metadata": {},
   "outputs": [],
   "source": [
    "keep_genes = smfish.columns.tolist()"
   ]
  },
  {
   "cell_type": "code",
   "execution_count": 359,
   "id": "698bca43",
   "metadata": {},
   "outputs": [],
   "source": [
    "overlap_genes = list(set(adata.var.index) & set(keep_genes))"
   ]
  },
  {
   "cell_type": "code",
   "execution_count": 360,
   "id": "5f807f9a",
   "metadata": {},
   "outputs": [],
   "source": [
    "overlap_gene_idxs = np.array([adata.var.index.tolist().index(g) for g in overlap_genes])"
   ]
  },
  {
   "cell_type": "code",
   "execution_count": 361,
   "id": "ca3429d2",
   "metadata": {},
   "outputs": [
    {
     "data": {
      "text/plain": [
       "14"
      ]
     },
     "execution_count": 361,
     "metadata": {},
     "output_type": "execute_result"
    }
   ],
   "source": [
    "len(overlap_genes)"
   ]
  },
  {
   "cell_type": "code",
   "execution_count": 362,
   "id": "ec9ba51c",
   "metadata": {},
   "outputs": [],
   "source": [
    "dropseq_m, dropseq_v, naive_m, naive_v = dropseq_m[overlap_gene_idxs], dropseq_v[overlap_gene_idxs], naive_m[overlap_gene_idxs], naive_v[overlap_gene_idxs]\n",
    "dropseq_fano, naive_fano = dropseq_fano[overlap_gene_idxs], naive_fano[overlap_gene_idxs]"
   ]
  },
  {
   "cell_type": "code",
   "execution_count": 363,
   "id": "e7e5d1bd",
   "metadata": {},
   "outputs": [],
   "source": [
    "test = smfish[overlap_genes]"
   ]
  },
  {
   "cell_type": "code",
   "execution_count": 364,
   "id": "4c1b0ea2",
   "metadata": {},
   "outputs": [],
   "source": [
    "filtered_smfish = smfish[overlap_genes]"
   ]
  },
  {
   "cell_type": "code",
   "execution_count": 365,
   "id": "1bd82176",
   "metadata": {},
   "outputs": [],
   "source": [
    "a, b, _, _, _= stats.linregress(np.log(means), np.log(variances))\n",
    "rv = np.log(variances)-(np.log(means)*a+b)"
   ]
  },
  {
   "cell_type": "code",
   "execution_count": 366,
   "id": "db8a1fa5",
   "metadata": {},
   "outputs": [],
   "source": [
    "means = np.nanmean(filtered_smfish, axis=0)\n",
    "variances = np.nanvar(filtered_smfish, axis=0)\n",
    "corrs = filtered_smfish.corr()\n",
    "covs = filtered_smfish.cov()\n",
    "fanos = variances/means**2\n",
    "\n",
    "a, b, _, _, _= stats.linregress(np.log(means), np.log(variances))\n",
    "rv = np.log(variances)-(np.log(means)*a+b)"
   ]
  },
  {
   "cell_type": "code",
   "execution_count": 367,
   "id": "3c8032b9",
   "metadata": {},
   "outputs": [],
   "source": [
    "naive_corr = np.corrcoef(adata[:, overlap_genes].X.todense(), rowvar=False)\n",
    "naive_cov = np.cov(adata[:, overlap_genes].X.todense(), rowvar=False)\n",
    "\n",
    "a, b, _, _, _= stats.linregress(np.log(dropseq_m), np.log(dropseq_v))\n",
    "dropseq_rv = np.log(dropseq_v)-(np.log(dropseq_m)*a+b)"
   ]
  },
  {
   "cell_type": "code",
   "execution_count": 368,
   "id": "4fe6b9a9",
   "metadata": {},
   "outputs": [],
   "source": [
    "a, b, _, _, _= stats.linregress(np.log(naive_m), np.log(naive_v))\n",
    "naive_rv = np.log(naive_v)-(np.log(naive_m)*a+b)"
   ]
  },
  {
   "cell_type": "code",
   "execution_count": 369,
   "id": "d4e929b9",
   "metadata": {},
   "outputs": [
    {
     "data": {
      "text/plain": [
       "(14, 14)"
      ]
     },
     "execution_count": 369,
     "metadata": {},
     "output_type": "execute_result"
    }
   ],
   "source": [
    "corrs.shape"
   ]
  },
  {
   "cell_type": "code",
   "execution_count": 370,
   "id": "9ec4d16f",
   "metadata": {},
   "outputs": [],
   "source": [
    "saver_corrs = pd.read_csv('/data_volume/memento/saver/saver_corrs.csv', index_col=0).loc[overlap_genes, overlap_genes].values.reshape(-1)"
   ]
  },
  {
   "cell_type": "markdown",
   "id": "2c8101d0",
   "metadata": {},
   "source": [
    "### Make comparisons for variances"
   ]
  },
  {
   "cell_type": "code",
   "execution_count": 371,
   "id": "b8d3788e",
   "metadata": {},
   "outputs": [
    {
     "data": {
      "text/plain": [
       "[<matplotlib.lines.Line2D at 0x7fa8547231c0>]"
      ]
     },
     "execution_count": 371,
     "metadata": {},
     "output_type": "execute_result"
    },
    {
     "data": {
      "image/png": "[encoded data removed]",
      "text/plain": [
       "<Figure size 432x288 with 1 Axes>"
      ]
     },
     "metadata": {
      "needs_background": "light"
     },
     "output_type": "display_data"
    }
   ],
   "source": [
    "plt.scatter(rv, naive_rv)\n",
    "plt.plot([-1, 1.5],[-1, 1.5])"
   ]
  },
  {
   "cell_type": "code",
   "execution_count": 372,
   "id": "6d599f81",
   "metadata": {},
   "outputs": [
    {
     "data": {
      "text/plain": [
       "[<matplotlib.lines.Line2D at 0x7fa836e05a00>]"
      ]
     },
     "execution_count": 372,
     "metadata": {},
     "output_type": "execute_result"
    },
    {
     "data": {
      "image/png": "[encoded data removed]",
      "text/plain": [
       "<Figure size 432x288 with 1 Axes>"
      ]
     },
     "metadata": {
      "needs_background": "light"
     },
     "output_type": "display_data"
    }
   ],
   "source": [
    "plt.scatter(rv, dropseq_rv)\n",
    "plt.plot([-1, 1.5],[-1, 1.5])"
   ]
  },
  {
   "cell_type": "code",
   "execution_count": 373,
   "id": "946a03c5",
   "metadata": {},
   "outputs": [
    {
     "data": {
      "text/plain": [
       "0.616292801315483"
      ]
     },
     "execution_count": 373,
     "metadata": {},
     "output_type": "execute_result"
    }
   ],
   "source": [
    "concordance(rv, naive_rv)"
   ]
  },
  {
   "cell_type": "code",
   "execution_count": 374,
   "id": "ff76a59f",
   "metadata": {},
   "outputs": [
    {
     "data": {
      "text/plain": [
       "0.6320049970032693"
      ]
     },
     "execution_count": 374,
     "metadata": {},
     "output_type": "execute_result"
    }
   ],
   "source": [
    "concordance(rv, dropseq_rv)"
   ]
  },
  {
   "cell_type": "markdown",
   "id": "af7ee7c7",
   "metadata": {},
   "source": [
    "### Make comparison for mean and variability"
   ]
  },
  {
   "cell_type": "code",
   "execution_count": 375,
   "id": "6bc52232",
   "metadata": {},
   "outputs": [],
   "source": [
    "filtered_saver = saver_estimates.T[overlap_genes]"
   ]
  },
  {
   "cell_type": "code",
   "execution_count": 376,
   "id": "1988a274",
   "metadata": {},
   "outputs": [],
   "source": [
    "saver_m = np.nanmean(filtered_saver, axis=0)\n",
    "saver_v = np.nanvar(filtered_saver, axis=0)\n",
    "saver_fano = saver_v/saver_m**2\n",
    "\n",
    "a, b, _, _, _= stats.linregress(np.log(saver_m), np.log(saver_v))\n",
    "naive_rv = np.log(saver_v)-(np.log(saver_m)*a+b)"
   ]
  },
  {
   "cell_type": "code",
   "execution_count": 377,
   "id": "9fbd351f",
   "metadata": {},
   "outputs": [],
   "source": [
    "n_umi = adata.obs['memento_size_factor'].mean()"
   ]
  },
  {
   "cell_type": "code",
   "execution_count": 378,
   "id": "a7d083fc",
   "metadata": {},
   "outputs": [
    {
     "data": {
      "image/png": "[encoded data removed]",
      "text/plain": [
       "<Figure size 576x108 with 3 Axes>"
      ]
     },
     "metadata": {
      "needs_background": "light"
     },
     "output_type": "display_data"
    }
   ],
   "source": [
    "plt.figure(figsize=(8,1.5))\n",
    "plt.subplots_adjust(wspace=0.7)\n",
    "\n",
    "plt.subplot(1,3,1)\n",
    "plt.scatter(np.log(means), np.log(naive_m/q))\n",
    "plt.plot([-1, 4],[-1, 4], '--', color='k')\n",
    "plt.xlabel('fish mean'); plt.ylabel('naive mean')\n",
    "plt.title('CCC = '+str.format('{0:.2f}', concordance(np.log(means), np.log(naive_m/q))))\n",
    "\n",
    "plt.subplot(1,3,2)\n",
    "plt.scatter(np.log(means), np.log(saver_m/q))\n",
    "plt.plot([-1, 4],[-1, 4], '--', color='k')\n",
    "plt.xlabel('fish mean'); plt.ylabel('saver mean')\n",
    "# print('saver', stats.pearsonr(fish_corr_array[selected_pairs], saver_corrs[selected_pairs])[0])\n",
    "plt.title('CCC = '+str.format('{0:.2f}', concordance(np.log(means), np.log(saver_m/q))))\n",
    "\n",
    "plt.subplot(1,3,3)\n",
    "plt.scatter(np.log(means), np.log(dropseq_m*n_umi/q))\n",
    "plt.plot([-1, 4],[-1, 4], '--', color='k')\n",
    "plt.xlabel('fish mean'); plt.ylabel('memento mean')\n",
    "plt.title('CCC = '+str.format('{0:.2f}', concordance(np.log(means), np.log(dropseq_m*n_umi/q))))\n",
    "\n",
    "plt.savefig('mean_comparisons.png', dpi=300)"
   ]
  },
  {
   "cell_type": "code",
   "execution_count": 391,
   "id": "3b78e37a",
   "metadata": {},
   "outputs": [
    {
     "data": {
      "image/png": "[encoded data removed]",
      "text/plain": [
       "<Figure size 576x108 with 3 Axes>"
      ]
     },
     "metadata": {
      "needs_background": "light"
     },
     "output_type": "display_data"
    }
   ],
   "source": [
    "plt.figure(figsize=(8,1.5))\n",
    "plt.subplots_adjust(wspace=0.7)\n",
    "\n",
    "plt.subplot(1,3,1)\n",
    "plt.scatter(np.log(fanos), np.log(naive_fano))\n",
    "plt.plot([-1, 4],[-1, 4], '--', color='k')\n",
    "plt.xlabel('fish CV'); plt.ylabel('naive CV')\n",
    "plt.title('CCC = '+str.format('{0:.2f}', stats.pearsonr(np.log(fanos), np.log(naive_fano))[0]))\n",
    "\n",
    "plt.subplot(1,3,2)\n",
    "plt.scatter(np.log(fanos), np.log(saver_fano))\n",
    "plt.plot([-1, 4],[-1, 4], '--', color='k')\n",
    "plt.xlabel('fish CV'); plt.ylabel('saver CV')\n",
    "# print('saver', stats.pearsonr(fish_corr_array[selected_pairs], saver_corrs[selected_pairs])[0])\n",
    "plt.title('CCC = '+str.format('{0:.2f}', stats.pearsonr(np.log(fanos), np.log(saver_fano))[0]))\n",
    "\n",
    "plt.subplot(1,3,3)\n",
    "plt.scatter(np.log(fanos), np.log(dropseq_fano))\n",
    "plt.plot([-1, 4],[-1, 4], '--', color='k')\n",
    "plt.xlabel('fish CV'); plt.ylabel('memento CV')\n",
    "plt.title('CCC = '+str.format('{0:.2f}', stats.pearsonr(np.log(fanos), np.log(dropseq_fano))[0]))\n",
    "\n",
    "plt.savefig('variability_comparisons.png', dpi=300)"
   ]
  },
  {
   "cell_type": "markdown",
   "id": "67f75d76",
   "metadata": {},
   "source": [
    "### Make comparison for correlations"
   ]
  },
  {
   "cell_type": "code",
   "execution_count": 380,
   "id": "6eb6b0b6",
   "metadata": {},
   "outputs": [],
   "source": [
    "memento.compute_2d_moments(adata, gene_pairs=list(itertools.product(overlap_genes, overlap_genes)))"
   ]
  },
  {
   "cell_type": "code",
   "execution_count": 381,
   "id": "5983705a",
   "metadata": {},
   "outputs": [],
   "source": [
    "memento_corr_array = adata.uns['memento']['2d_moments']['sg^A']['corr']\n",
    "memento_cov_array = adata.uns['memento']['2d_moments']['sg^A']['cov']"
   ]
  },
  {
   "cell_type": "code",
   "execution_count": 382,
   "id": "efff3398",
   "metadata": {},
   "outputs": [],
   "source": [
    "fish_corr_array = np.array([corrs.loc[x,y] for x,y in itertools.product(overlap_genes, overlap_genes)])\n",
    "fish_cov_array = np.array([covs.loc[x,y] for x,y in itertools.product(overlap_genes, overlap_genes)])"
   ]
  },
  {
   "cell_type": "code",
   "execution_count": 383,
   "id": "34dbfcda",
   "metadata": {},
   "outputs": [],
   "source": [
    "selected_pairs = ~np.isnan(fish_corr_array) & (fish_corr_array!=1)"
   ]
  },
  {
   "cell_type": "code",
   "execution_count": 384,
   "id": "3db3564e",
   "metadata": {},
   "outputs": [
    {
     "data": {
      "text/plain": [
       "(196,)"
      ]
     },
     "execution_count": 384,
     "metadata": {},
     "output_type": "execute_result"
    }
   ],
   "source": [
    "selected_pairs.shape"
   ]
  },
  {
   "cell_type": "code",
   "execution_count": 385,
   "id": "5ad82466",
   "metadata": {},
   "outputs": [
    {
     "data": {
      "text/plain": [
       "(0.6712335140251099, 3.232066934178155e-11)"
      ]
     },
     "execution_count": 385,
     "metadata": {},
     "output_type": "execute_result"
    }
   ],
   "source": [
    "stats.pearsonr(fish_corr_array[selected_pairs], naive_corr.reshape(-1)[selected_pairs])"
   ]
  },
  {
   "cell_type": "code",
   "execution_count": 386,
   "id": "04eaea38",
   "metadata": {},
   "outputs": [
    {
     "data": {
      "text/plain": [
       "(0.7783984553717122, 1.283160846829749e-16)"
      ]
     },
     "execution_count": 386,
     "metadata": {},
     "output_type": "execute_result"
    }
   ],
   "source": [
    "stats.pearsonr(fish_corr_array[selected_pairs], saver_corrs[selected_pairs])"
   ]
  },
  {
   "cell_type": "code",
   "execution_count": 387,
   "id": "f6efbc74",
   "metadata": {},
   "outputs": [
    {
     "data": {
      "text/plain": [
       "(0.7909050220217189, 1.9088535836388513e-17)"
      ]
     },
     "execution_count": 387,
     "metadata": {},
     "output_type": "execute_result"
    }
   ],
   "source": [
    "stats.pearsonr(fish_corr_array[selected_pairs], memento_corr_array[selected_pairs])"
   ]
  },
  {
   "cell_type": "code",
   "execution_count": 388,
   "id": "ca3a7eb8",
   "metadata": {},
   "outputs": [],
   "source": [
    "import matplotlib as mpl\n",
    "\n",
    "mpl.rcParams['pdf.fonttype'] = 42\n",
    "mpl.rcParams['ps.fonttype'] = 42\n",
    "\n",
    "import matplotlib.pylab as pylab\n",
    "params = {'legend.fontsize': 'medium',\n",
    "         'axes.labelsize': 'large',\n",
    "         'axes.titlesize':'medium',\n",
    "         'figure.titlesize':'medium',\n",
    "         'xtick.labelsize':'small',\n",
    "         'ytick.labelsize':'small'}\n",
    "pylab.rcParams.update(params)\n"
   ]
  },
  {
   "cell_type": "code",
   "execution_count": 392,
   "id": "757960ce",
   "metadata": {},
   "outputs": [
    {
     "data": {
      "image/png": "[encoded data removed]",
      "text/plain": [
       "<Figure size 576x108 with 3 Axes>"
      ]
     },
     "metadata": {
      "needs_background": "light"
     },
     "output_type": "display_data"
    }
   ],
   "source": [
    "plt.figure(figsize=(8,1.5))\n",
    "plt.subplots_adjust(wspace=0.7)\n",
    "\n",
    "plt.subplot(1,3,1)\n",
    "plt.scatter(fish_corr_array[selected_pairs], naive_corr.reshape(-1)[selected_pairs], s=7)\n",
    "plt.plot([0,1], [0,1], '--',color='k')\n",
    "plt.xlabel('fish corr'); plt.ylabel('naive corr')\n",
    "# print('naive', stats.pearsonr(fish_corr_array[selected_pairs], naive_corr.reshape(-1)[selected_pairs])[0])\n",
    "plt.title('R = '+str(concordance(fish_corr_array[selected_pairs], naive_corr.reshape(-1)[selected_pairs])))\n",
    "plt.title('R = '+str.format('{0:.2f}', stats.pearsonr(fish_corr_array[selected_pairs], naive_corr.reshape(-1)[selected_pairs])[0]))\n",
    "\n",
    "\n",
    "\n",
    "plt.subplot(1,3,2)\n",
    "plt.scatter(fish_corr_array[selected_pairs], saver_corrs[selected_pairs], s=7)\n",
    "plt.plot([0,1], [0,1], '--',color='k')\n",
    "plt.xlabel('fish corr'); plt.ylabel('saver corr')\n",
    "# print('saver', stats.pearsonr(fish_corr_array[selected_pairs], saver_corrs[selected_pairs])[0])\n",
    "plt.title('R = '+str(concordance(fish_corr_array[selected_pairs], saver_corrs[selected_pairs])))\n",
    "plt.title('R = '+str.format('{0:.2f}', stats.pearsonr(fish_corr_array[selected_pairs], saver_corrs[selected_pairs])[0]))\n",
    "\n",
    "plt.subplot(1,3,3)\n",
    "plt.scatter(fish_corr_array[selected_pairs], memento_corr_array[selected_pairs], s=7)\n",
    "plt.plot([0,1], [0,1], '--',color='k')\n",
    "plt.xlabel('fish corr'); plt.ylabel('memento corr')\n",
    "# print('memento', stats.pearsonr(fish_corr_array[selected_pairs], memento_corr_array[selected_pairs])[0])\n",
    "plt.title('R = '+str.format('{0:.2f}', stats.pearsonr(fish_corr_array[selected_pairs], memento_corr_array[selected_pairs])[0]))\n",
    "\n",
    "plt.savefig('coex_comparisons.png', dpi=300)"
   ]
  }
 ],
 "metadata": {
  "kernelspec": {
   "display_name": "Python 3 (ipykernel)",
   "language": "python",
   "name": "python3"
  },
  "language_info": {
   "codemirror_mode": {
    "name": "ipython",
    "version": 3
   },
   "file_extension": ".py",
   "mimetype": "text/x-python",
   "name": "python",
   "nbconvert_exporter": "python",
   "pygments_lexer": "ipython3",
   "version": "3.8.8"
  }
 },
 "nbformat": 4,
 "nbformat_minor": 5
}
