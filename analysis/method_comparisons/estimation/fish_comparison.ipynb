{
 "cells": [
  {
   "cell_type": "markdown",
   "id": "1badb948",
   "metadata": {},
   "source": [
    "# FISH comparison\n",
    "\n",
    "Data: https://drive.google.com/drive/folders/1uos3DDymyrh3ZyxveDhqQIcOyD1brxeL"
   ]
  },
  {
   "cell_type": "code",
   "execution_count": 136,
   "id": "d75b34b3",
   "metadata": {
    "tags": []
   },
   "outputs": [],
   "source": [
    "import pandas as pd\n",
    "import seaborn as sns\n",
    "import scanpy as sc\n",
    "import scipy.sparse as sparse\n",
    "import numpy as np\n",
    "import matplotlib.pyplot as plt\n",
    "import scipy.stats as stats\n",
    "import scipy.optimize as opt\n",
    "import itertools"
   ]
  },
  {
   "cell_type": "code",
   "execution_count": 137,
   "id": "84c38e88",
   "metadata": {
    "tags": []
   },
   "outputs": [],
   "source": [
    "data_path = '/home/ubuntu/Data/smfish/'"
   ]
  },
  {
   "cell_type": "code",
   "execution_count": 138,
   "id": "167c613c",
   "metadata": {
    "tags": []
   },
   "outputs": [],
   "source": [
    "# dropseq = pd.read_csv(data_path + 'melanoma_dropseq.csv', index_col=0, sep=',').T\n",
    "# dropseq = dropseq[dropseq['GAPDH'] > 0]"
   ]
  },
  {
   "cell_type": "code",
   "execution_count": 139,
   "id": "73f1e606",
   "metadata": {
    "tags": []
   },
   "outputs": [],
   "source": [
    "smfish = pd.read_csv(data_path + 'fishSubset.txt', index_col=0, sep=' ')\n",
    "smfish = smfish[smfish['GAPDH'] > 50]\n",
    "fish_gapdh_sf = (smfish['GAPDH']).values\n",
    "smfish_normalized = smfish#/fish_gapdh_sf.reshape(-1, 1)\n",
    "# smfish = pd.read_csv('fishSubset (1).txt', sep=' ', index_col=0)"
   ]
  },
  {
   "cell_type": "code",
   "execution_count": 140,
   "id": "3089f862",
   "metadata": {
    "tags": []
   },
   "outputs": [],
   "source": [
    "# saver_estimates = pd.read_csv('/data_volume/memento/saver/saver_estimates.csv', index_col=0)"
   ]
  },
  {
   "cell_type": "code",
   "execution_count": 141,
   "id": "5a062ea4",
   "metadata": {
    "tags": []
   },
   "outputs": [],
   "source": [
    "# dropseq_sf = dropseq.sum(axis=1).values\n",
    "# dropseq_sf = dropseq['GAPDH'].values\n",
    "# unnormalized_saver_estimates = saver_estimates.T*dropseq_sf.reshape(-1,1)\n",
    "# gapdh_saver_sf = unnormalized_saver_estimates['GAPDH'].values/unnormalized_saver_estimates['GAPDH'].mean()\n",
    "# normalized_saver_estimates = unnormalized_saver_estimates/gapdh_saver_sf.reshape(-1,1)"
   ]
  },
  {
   "cell_type": "code",
   "execution_count": 142,
   "id": "3e4c9447",
   "metadata": {
    "tags": []
   },
   "outputs": [],
   "source": [
    "# saver_corrs_all = pd.read_csv('/data_volume/memento/saver/saver_corrs.csv', index_col=0)"
   ]
  },
  {
   "cell_type": "code",
   "execution_count": 143,
   "id": "792e2803",
   "metadata": {
    "tags": []
   },
   "outputs": [],
   "source": [
    "def concordance(x, y, log=False):\n",
    "    \n",
    "    nonnan = np.isfinite(x) & np.isfinite(y)\n",
    "    \n",
    "    if log:\n",
    "        a = np.log(x)\n",
    "        b = np.log(y)\n",
    "    else:\n",
    "        a = x\n",
    "        b = y\n",
    "    cond = np.isfinite(a) & np.isfinite(b)\n",
    "    a = a[cond]\n",
    "    b = b[cond]\n",
    "    \n",
    "    return stats.pearsonr(a,b)[0]\n",
    "    cmat = np.cov(a, b)\n",
    "    return 2*cmat[0,1]/(cmat[0,0] + cmat[1,1] + (a.mean()-b.mean())**2)"
   ]
  },
  {
   "cell_type": "markdown",
   "id": "75f2ffc0",
   "metadata": {},
   "source": [
    "### Run memento for DropSeq"
   ]
  },
  {
   "cell_type": "code",
   "execution_count": 144,
   "id": "f4b499b8-7ef7-43af-ab5a-9f1a2019a45d",
   "metadata": {
    "tags": []
   },
   "outputs": [
    {
     "name": "stdout",
     "output_type": "stream",
     "text": [
      "The autoreload extension is already loaded. To reload it, use:\n",
      "  %reload_ext autoreload\n"
     ]
    }
   ],
   "source": [
    "%load_ext autoreload"
   ]
  },
  {
   "cell_type": "code",
   "execution_count": 145,
   "id": "1c03807a-e561-45ca-81c4-ddff1b09b6c1",
   "metadata": {
    "tags": []
   },
   "outputs": [],
   "source": [
    "%autoreload 3"
   ]
  },
  {
   "cell_type": "code",
   "execution_count": 146,
   "id": "2d15307e",
   "metadata": {
    "tags": []
   },
   "outputs": [],
   "source": [
    "import sys\n",
    "sys.path.append('/home/ubuntu/Github/scrna-parameter-estimation/')\n",
    "# sys.path.append('/home/ssm-user/Github/misc-seq/miscseq/')\n",
    "# import encode\n",
    "import memento"
   ]
  },
  {
   "cell_type": "code",
   "execution_count": 168,
   "id": "475b3b02",
   "metadata": {
    "tags": []
   },
   "outputs": [],
   "source": [
    "# adata = sc.AnnData(X=sparse.csr_matrix(dropseq.values), obs=pd.DataFrame(index=dropseq.index), var=pd.DataFrame(index=dropseq.columns))\n",
    "\n",
    "adata = sc.read_h5ad(data_path + 'filtered_dropseq.h5ad')\n",
    "q = 0.01485030176341905\n",
    "adata.obs['q'] = q\n",
    "adata.obs['group'] = 'A'\n",
    "adata.write(data_path + 'dropseq.h5ad')\n",
    "\n",
    "memento.setup_memento(adata, q_column='q', filter_mean_thresh=0.01,trim_percent=1, shrinkage=0.5)\n",
    "\n",
    "#Optional\n",
    "mem_gapdh_sf = (adata[:, 'GAPDH'].X.todense().A1+1)/( adata[:, 'GAPDH'].X.todense().A1+1).mean()\n",
    "mem_total_sf = adata.obs['memento_size_factor']/adata.obs['memento_size_factor'].mean()\n",
    "adata.obs['memento_size_factor'] = 1#adata.X.sum(axis=1).A1\n",
    "\n",
    "memento.create_groups(adata, label_columns=['group'])\n",
    "memento.compute_1d_moments(adata, filter_genes=True)\n",
    "\n",
    "dropseq_m, dropseq_v, _ = adata.uns['memento']['1d_moments']['sg^A']\n",
    "dropseq_fano = dropseq_v/dropseq_m**2\n",
    "\n",
    "naive_sf = adata.X.sum(axis=1).A1.reshape(-1,1)#/adata.X.sum(axis=1).mean()\n",
    "naive_sf = 1# adata.obs['memento_size_factor'].values\n",
    "\n",
    "normalized_dropseq = adata.X.toarray()/naive_sf\n",
    "naive_m, naive_v = normalized_dropseq.mean(axis=0), normalized_dropseq.var(axis=0)\n",
    "naive_fano = naive_v/naive_m**2"
   ]
  },
  {
   "cell_type": "markdown",
   "id": "e835e2ae",
   "metadata": {},
   "source": [
    "### Compute fish mean and variance"
   ]
  },
  {
   "cell_type": "code",
   "execution_count": 169,
   "id": "6bcab99c",
   "metadata": {
    "tags": []
   },
   "outputs": [],
   "source": [
    "keep_genes = smfish.columns.tolist()\n",
    "overlap_genes = list(set(adata.var.index) & set(keep_genes))\n",
    "\n",
    "overlap_genes.remove('GAPDH')\n",
    "overlap_gene_idxs = np.array([adata.var.index.tolist().index(g) for g in overlap_genes])\n",
    "\n",
    "dropseq_m, dropseq_v, naive_m, naive_v = dropseq_m[overlap_gene_idxs], dropseq_v[overlap_gene_idxs], naive_m[overlap_gene_idxs], naive_v[overlap_gene_idxs]\n",
    "dropseq_fano, naive_fano = dropseq_fano[overlap_gene_idxs], naive_fano[overlap_gene_idxs]\n",
    "\n",
    "filtered_smfish = smfish_normalized[overlap_genes]\n",
    "\n",
    "means = np.nanmean(filtered_smfish, axis=0)\n",
    "variances = np.nanvar(filtered_smfish, axis=0)\n",
    "corrs = filtered_smfish.corr()\n",
    "covs = filtered_smfish.cov()\n",
    "fanos = variances/means**2\n",
    "\n",
    "naive_corr = np.corrcoef(normalized_dropseq[:, overlap_gene_idxs], rowvar=False)\n",
    "naive_cov = np.cov(normalized_dropseq[:, overlap_gene_idxs], rowvar=False)\n"
   ]
  },
  {
   "cell_type": "code",
   "execution_count": 170,
   "id": "cadc7cb5-6d19-4ecd-a383-1c36d17f2153",
   "metadata": {
    "tags": []
   },
   "outputs": [
    {
     "data": {
      "text/html": [
       "<div>\n",
       "<style scoped>\n",
       "    .dataframe tbody tr th:only-of-type {\n",
       "        vertical-align: middle;\n",
       "    }\n",
       "\n",
       "    .dataframe tbody tr th {\n",
       "        vertical-align: top;\n",
       "    }\n",
       "\n",
       "    .dataframe thead th {\n",
       "        text-align: right;\n",
       "    }\n",
       "</style>\n",
       "<table border=\"1\" class=\"dataframe\">\n",
       "  <thead>\n",
       "    <tr style=\"text-align: right;\">\n",
       "      <th></th>\n",
       "      <th>gene</th>\n",
       "      <th>smfish</th>\n",
       "      <th>naive</th>\n",
       "    </tr>\n",
       "  </thead>\n",
       "  <tbody>\n",
       "    <tr>\n",
       "      <th>11</th>\n",
       "      <td>BABAM1</td>\n",
       "      <td>8.258707</td>\n",
       "      <td>0.071664</td>\n",
       "    </tr>\n",
       "    <tr>\n",
       "      <th>12</th>\n",
       "      <td>C1S</td>\n",
       "      <td>70.781966</td>\n",
       "      <td>0.013650</td>\n",
       "    </tr>\n",
       "    <tr>\n",
       "      <th>9</th>\n",
       "      <td>CCNA2</td>\n",
       "      <td>9.539629</td>\n",
       "      <td>0.075547</td>\n",
       "    </tr>\n",
       "    <tr>\n",
       "      <th>8</th>\n",
       "      <td>FGFR1</td>\n",
       "      <td>3.845033</td>\n",
       "      <td>0.036126</td>\n",
       "    </tr>\n",
       "    <tr>\n",
       "      <th>6</th>\n",
       "      <td>FOSL1</td>\n",
       "      <td>0.103940</td>\n",
       "      <td>0.059543</td>\n",
       "    </tr>\n",
       "    <tr>\n",
       "      <th>10</th>\n",
       "      <td>KDM5A</td>\n",
       "      <td>7.352264</td>\n",
       "      <td>0.263591</td>\n",
       "    </tr>\n",
       "    <tr>\n",
       "      <th>4</th>\n",
       "      <td>KDM5B</td>\n",
       "      <td>4.790332</td>\n",
       "      <td>0.154036</td>\n",
       "    </tr>\n",
       "    <tr>\n",
       "      <th>3</th>\n",
       "      <td>LMNA</td>\n",
       "      <td>151.920925</td>\n",
       "      <td>0.596729</td>\n",
       "    </tr>\n",
       "    <tr>\n",
       "      <th>1</th>\n",
       "      <td>MITF</td>\n",
       "      <td>35.470562</td>\n",
       "      <td>1.017181</td>\n",
       "    </tr>\n",
       "    <tr>\n",
       "      <th>0</th>\n",
       "      <td>RUNX2</td>\n",
       "      <td>0.726072</td>\n",
       "      <td>0.020240</td>\n",
       "    </tr>\n",
       "    <tr>\n",
       "      <th>2</th>\n",
       "      <td>SOX10</td>\n",
       "      <td>98.840731</td>\n",
       "      <td>0.190751</td>\n",
       "    </tr>\n",
       "    <tr>\n",
       "      <th>5</th>\n",
       "      <td>TXNRD1</td>\n",
       "      <td>30.101010</td>\n",
       "      <td>0.319252</td>\n",
       "    </tr>\n",
       "    <tr>\n",
       "      <th>7</th>\n",
       "      <td>VCL</td>\n",
       "      <td>40.938295</td>\n",
       "      <td>0.104731</td>\n",
       "    </tr>\n",
       "    <tr>\n",
       "      <th>13</th>\n",
       "      <td>VGF</td>\n",
       "      <td>8.909496</td>\n",
       "      <td>1.447399</td>\n",
       "    </tr>\n",
       "  </tbody>\n",
       "</table>\n",
       "</div>"
      ],
      "text/plain": [
       "      gene      smfish     naive\n",
       "11  BABAM1    8.258707  0.071664\n",
       "12     C1S   70.781966  0.013650\n",
       "9    CCNA2    9.539629  0.075547\n",
       "8    FGFR1    3.845033  0.036126\n",
       "6    FOSL1    0.103940  0.059543\n",
       "10   KDM5A    7.352264  0.263591\n",
       "4    KDM5B    4.790332  0.154036\n",
       "3     LMNA  151.920925  0.596729\n",
       "1     MITF   35.470562  1.017181\n",
       "0    RUNX2    0.726072  0.020240\n",
       "2    SOX10   98.840731  0.190751\n",
       "5   TXNRD1   30.101010  0.319252\n",
       "7      VCL   40.938295  0.104731\n",
       "13     VGF    8.909496  1.447399"
      ]
     },
     "execution_count": 170,
     "metadata": {},
     "output_type": "execute_result"
    }
   ],
   "source": [
    "pd.DataFrame(zip(\n",
    "    overlap_genes, \n",
    "    means,\n",
    "    naive_m), columns=['gene', 'smfish', 'naive']).sort_values('gene')"
   ]
  },
  {
   "cell_type": "code",
   "execution_count": 171,
   "id": "2b9f376b-32d9-4e22-b6cf-ab6e67c3ed60",
   "metadata": {
    "tags": []
   },
   "outputs": [
    {
     "data": {
      "text/plain": [
       "Text(0.5, 1.0, 'CCC = 0.36')"
      ]
     },
     "execution_count": 171,
     "metadata": {},
     "output_type": "execute_result"
    },
    {
     "data": {
      "image/png": "[encoded data removed]",
      "text/plain": [
       "<Figure size 800x150 with 3 Axes>"
      ]
     },
     "metadata": {},
     "output_type": "display_data"
    }
   ],
   "source": [
    "plt.figure(figsize=(8,1.5))\n",
    "plt.subplots_adjust(wspace=0.7)\n",
    "\n",
    "plt.subplot(1,3,1)\n",
    "plt.scatter(np.log(means), np.log(naive_m/q))\n",
    "plt.plot([-1, 4],[-1, 4], '--', color='k')\n",
    "plt.xlabel('fish mean'); plt.ylabel('naive mean')\n",
    "plt.title('CCC = '+str.format('{0:.2f}', concordance(np.log(means), np.log(naive_m))))\n",
    "\n",
    "plt.subplot(1,3,2)\n",
    "# plt.scatter(np.log(means), np.log(saver_m/q))\n",
    "plt.plot([-1, 4],[-1, 4], '--', color='k')\n",
    "plt.xlabel('fish mean'); plt.ylabel('saver mean')\n",
    "# print('saver', stats.pearsonr(fish_corr_array[selected_pairs], saver_corrs[selected_pairs])[0])\n",
    "# plt.title('CCC = '+str.format('{0:.2f}', stats.spearmanr(np.log(means), np.log(saver_m/q))[0]))\n",
    "\n",
    "plt.subplot(1,3,3)\n",
    "plt.scatter(np.log(means), np.log(dropseq_m))\n",
    "plt.plot([-1, 4],[-1, 4], '--', color='k')\n",
    "plt.xlabel('fish mean'); plt.ylabel('memento fmean')\n",
    "plt.title('CCC = '+str.format('{0:.2f}', concordance(np.log(means), np.log(dropseq_m))))\n",
    "\n",
    "# plt.savefig('mean_comparisons.png', dpi=300)"
   ]
  },
  {
   "cell_type": "code",
   "execution_count": 156,
   "id": "54afea1e-02a2-4c0b-9e8d-bbbb0ca3d8bb",
   "metadata": {
    "tags": []
   },
   "outputs": [
    {
     "data": {
      "text/plain": [
       "Text(0.5, 1.0, 'CCC = 0.48')"
      ]
     },
     "execution_count": 156,
     "metadata": {},
     "output_type": "execute_result"
    },
    {
     "data": {
      "image/png": "[encoded data removed]",
      "text/plain": [
       "<Figure size 800x150 with 3 Axes>"
      ]
     },
     "metadata": {},
     "output_type": "display_data"
    }
   ],
   "source": [
    "plt.figure(figsize=(8,1.5))\n",
    "plt.subplots_adjust(wspace=0.7)\n",
    "\n",
    "plt.subplot(1,3,1)\n",
    "plt.scatter(np.log(variances), np.log(naive_v))\n",
    "plt.xlabel('fish CV'); plt.ylabel('naive CV')\n",
    "plt.title('CCC = '+str.format('{0:.2f}', concordance(np.log(variances), np.log(naive_v))))\n",
    "\n",
    "plt.subplot(1,3,2)\n",
    "# plt.scatter(np.log(fanos), np.log(saver_fano))\n",
    "plt.xlabel('fish CV'); plt.ylabel('saver CV')\n",
    "# print('saver', stats.pearsonr(fish_corr_array[selected_pairs], saver_corrs[selected_pairs])[0])\n",
    "# plt.title('CCC = '+str.format('{0:.2f}', stats.pearsonr(np.log(fanos), np.log(saver_fano))[0]))\n",
    "\n",
    "plt.subplot(1,3,3)\n",
    "plt.scatter(np.log(variances), np.log(dropseq_v))\n",
    "plt.xlabel('fish CV'); plt.ylabel('memento CV')\n",
    "plt.title('CCC = '+str.format('{0:.2f}', concordance(np.log(variances), np.log(dropseq_v))))\n",
    "\n",
    "# plt.savefig('variability_comparisons.png', dpi=300)"
   ]
  },
  {
   "cell_type": "code",
   "execution_count": 151,
   "id": "fbe5376b-d736-450f-8283-c4970fbd2224",
   "metadata": {
    "tags": []
   },
   "outputs": [
    {
     "data": {
      "text/plain": [
       "Text(0.5, 1.0, 'CCC = 0.50')"
      ]
     },
     "execution_count": 151,
     "metadata": {},
     "output_type": "execute_result"
    },
    {
     "data": {
      "image/png": "[encoded data removed]",
      "text/plain": [
       "<Figure size 800x150 with 3 Axes>"
      ]
     },
     "metadata": {},
     "output_type": "display_data"
    }
   ],
   "source": [
    "plt.figure(figsize=(8,1.5))\n",
    "plt.subplots_adjust(wspace=0.7)\n",
    "\n",
    "plt.subplot(1,3,1)\n",
    "plt.scatter(np.log(fanos), np.log(naive_fano))\n",
    "plt.xlabel('fish CV'); plt.ylabel('naive CV')\n",
    "plt.title('CCC = '+str.format('{0:.2f}', concordance(np.log(fanos), np.log(naive_fano))))\n",
    "\n",
    "plt.subplot(1,3,2)\n",
    "# plt.scatter(np.log(fanos), np.log(saver_fano))\n",
    "plt.xlabel('fish CV'); plt.ylabel('saver CV')\n",
    "# print('saver', stats.pearsonr(fish_corr_array[selected_pairs], saver_corrs[selected_pairs])[0])\n",
    "# plt.title('CCC = '+str.format('{0:.2f}', stats.pearsonr(np.log(fanos), np.log(saver_fano))[0]))\n",
    "\n",
    "plt.subplot(1,3,3)\n",
    "plt.scatter(np.log(fanos), np.log(dropseq_fano))\n",
    "plt.xlabel('fish CV'); plt.ylabel('memento CV')\n",
    "plt.title('CCC = '+str.format('{0:.2f}', concordance(np.log(fanos), np.log(dropseq_fano))))\n",
    "\n",
    "# plt.savefig('variability_comparisons.png', dpi=300)"
   ]
  },
  {
   "cell_type": "code",
   "execution_count": 152,
   "id": "58d44743-89cd-47f7-86f8-983fc06de184",
   "metadata": {
    "tags": []
   },
   "outputs": [
    {
     "data": {
      "text/html": [
       "<div>\n",
       "<style scoped>\n",
       "    .dataframe tbody tr th:only-of-type {\n",
       "        vertical-align: middle;\n",
       "    }\n",
       "\n",
       "    .dataframe tbody tr th {\n",
       "        vertical-align: top;\n",
       "    }\n",
       "\n",
       "    .dataframe thead th {\n",
       "        text-align: right;\n",
       "    }\n",
       "</style>\n",
       "<table border=\"1\" class=\"dataframe\">\n",
       "  <thead>\n",
       "    <tr style=\"text-align: right;\">\n",
       "      <th></th>\n",
       "      <th>gene</th>\n",
       "      <th>fish_m</th>\n",
       "      <th>fish_v</th>\n",
       "      <th>naive_m</th>\n",
       "      <th>naive_v</th>\n",
       "      <th>hyper_m</th>\n",
       "      <th>hyper_v</th>\n",
       "    </tr>\n",
       "  </thead>\n",
       "  <tbody>\n",
       "    <tr>\n",
       "      <th>12</th>\n",
       "      <td>BABAM1</td>\n",
       "      <td>8.258707</td>\n",
       "      <td>38.655864</td>\n",
       "      <td>0.000031</td>\n",
       "      <td>2.736789e-08</td>\n",
       "      <td>0.000031</td>\n",
       "      <td>2.689102e-09</td>\n",
       "    </tr>\n",
       "    <tr>\n",
       "      <th>13</th>\n",
       "      <td>C1S</td>\n",
       "      <td>70.781966</td>\n",
       "      <td>3989.722976</td>\n",
       "      <td>0.000006</td>\n",
       "      <td>5.763512e-09</td>\n",
       "      <td>0.000006</td>\n",
       "      <td>8.206947e-10</td>\n",
       "    </tr>\n",
       "    <tr>\n",
       "      <th>10</th>\n",
       "      <td>CCNA2</td>\n",
       "      <td>9.539629</td>\n",
       "      <td>154.716425</td>\n",
       "      <td>0.000038</td>\n",
       "      <td>3.937181e-08</td>\n",
       "      <td>0.000037</td>\n",
       "      <td>6.217798e-09</td>\n",
       "    </tr>\n",
       "    <tr>\n",
       "      <th>9</th>\n",
       "      <td>FGFR1</td>\n",
       "      <td>3.845033</td>\n",
       "      <td>34.836568</td>\n",
       "      <td>0.000016</td>\n",
       "      <td>1.461312e-08</td>\n",
       "      <td>0.000015</td>\n",
       "      <td>2.319096e-09</td>\n",
       "    </tr>\n",
       "    <tr>\n",
       "      <th>7</th>\n",
       "      <td>FOSL1</td>\n",
       "      <td>0.103940</td>\n",
       "      <td>0.222666</td>\n",
       "      <td>0.000029</td>\n",
       "      <td>2.618725e-08</td>\n",
       "      <td>0.000028</td>\n",
       "      <td>2.624620e-09</td>\n",
       "    </tr>\n",
       "    <tr>\n",
       "      <th>3</th>\n",
       "      <td>GAPDH</td>\n",
       "      <td>431.247254</td>\n",
       "      <td>69997.154544</td>\n",
       "      <td>0.003816</td>\n",
       "      <td>5.905783e-06</td>\n",
       "      <td>0.003753</td>\n",
       "      <td>2.617943e-06</td>\n",
       "    </tr>\n",
       "    <tr>\n",
       "      <th>11</th>\n",
       "      <td>KDM5A</td>\n",
       "      <td>7.352264</td>\n",
       "      <td>36.710937</td>\n",
       "      <td>0.000114</td>\n",
       "      <td>1.347654e-07</td>\n",
       "      <td>0.000112</td>\n",
       "      <td>4.444391e-08</td>\n",
       "    </tr>\n",
       "    <tr>\n",
       "      <th>5</th>\n",
       "      <td>KDM5B</td>\n",
       "      <td>4.790332</td>\n",
       "      <td>29.243406</td>\n",
       "      <td>0.000061</td>\n",
       "      <td>6.018366e-08</td>\n",
       "      <td>0.000060</td>\n",
       "      <td>1.411365e-08</td>\n",
       "    </tr>\n",
       "    <tr>\n",
       "      <th>4</th>\n",
       "      <td>LMNA</td>\n",
       "      <td>151.920925</td>\n",
       "      <td>9385.686830</td>\n",
       "      <td>0.000240</td>\n",
       "      <td>2.084528e-07</td>\n",
       "      <td>0.000236</td>\n",
       "      <td>2.557913e-08</td>\n",
       "    </tr>\n",
       "    <tr>\n",
       "      <th>1</th>\n",
       "      <td>MITF</td>\n",
       "      <td>35.470562</td>\n",
       "      <td>964.322050</td>\n",
       "      <td>0.000493</td>\n",
       "      <td>5.562998e-07</td>\n",
       "      <td>0.000485</td>\n",
       "      <td>1.396864e-07</td>\n",
       "    </tr>\n",
       "    <tr>\n",
       "      <th>0</th>\n",
       "      <td>RUNX2</td>\n",
       "      <td>0.726072</td>\n",
       "      <td>4.601971</td>\n",
       "      <td>0.000008</td>\n",
       "      <td>6.038204e-09</td>\n",
       "      <td>0.000007</td>\n",
       "      <td>8.243717e-10</td>\n",
       "    </tr>\n",
       "    <tr>\n",
       "      <th>2</th>\n",
       "      <td>SOX10</td>\n",
       "      <td>98.840731</td>\n",
       "      <td>5368.811288</td>\n",
       "      <td>0.000086</td>\n",
       "      <td>7.519020e-08</td>\n",
       "      <td>0.000085</td>\n",
       "      <td>7.567622e-09</td>\n",
       "    </tr>\n",
       "    <tr>\n",
       "      <th>6</th>\n",
       "      <td>TXNRD1</td>\n",
       "      <td>30.101010</td>\n",
       "      <td>826.835338</td>\n",
       "      <td>0.000143</td>\n",
       "      <td>1.543060e-07</td>\n",
       "      <td>0.000140</td>\n",
       "      <td>3.889515e-08</td>\n",
       "    </tr>\n",
       "    <tr>\n",
       "      <th>8</th>\n",
       "      <td>VCL</td>\n",
       "      <td>40.938295</td>\n",
       "      <td>2866.368330</td>\n",
       "      <td>0.000041</td>\n",
       "      <td>4.038814e-08</td>\n",
       "      <td>0.000040</td>\n",
       "      <td>9.141210e-09</td>\n",
       "    </tr>\n",
       "    <tr>\n",
       "      <th>14</th>\n",
       "      <td>VGF</td>\n",
       "      <td>8.909496</td>\n",
       "      <td>419.269964</td>\n",
       "      <td>0.000590</td>\n",
       "      <td>1.324958e-06</td>\n",
       "      <td>0.000581</td>\n",
       "      <td>8.452046e-07</td>\n",
       "    </tr>\n",
       "  </tbody>\n",
       "</table>\n",
       "</div>"
      ],
      "text/plain": [
       "      gene      fish_m        fish_v   naive_m       naive_v   hyper_m  \\\n",
       "12  BABAM1    8.258707     38.655864  0.000031  2.736789e-08  0.000031   \n",
       "13     C1S   70.781966   3989.722976  0.000006  5.763512e-09  0.000006   \n",
       "10   CCNA2    9.539629    154.716425  0.000038  3.937181e-08  0.000037   \n",
       "9    FGFR1    3.845033     34.836568  0.000016  1.461312e-08  0.000015   \n",
       "7    FOSL1    0.103940      0.222666  0.000029  2.618725e-08  0.000028   \n",
       "3    GAPDH  431.247254  69997.154544  0.003816  5.905783e-06  0.003753   \n",
       "11   KDM5A    7.352264     36.710937  0.000114  1.347654e-07  0.000112   \n",
       "5    KDM5B    4.790332     29.243406  0.000061  6.018366e-08  0.000060   \n",
       "4     LMNA  151.920925   9385.686830  0.000240  2.084528e-07  0.000236   \n",
       "1     MITF   35.470562    964.322050  0.000493  5.562998e-07  0.000485   \n",
       "0    RUNX2    0.726072      4.601971  0.000008  6.038204e-09  0.000007   \n",
       "2    SOX10   98.840731   5368.811288  0.000086  7.519020e-08  0.000085   \n",
       "6   TXNRD1   30.101010    826.835338  0.000143  1.543060e-07  0.000140   \n",
       "8      VCL   40.938295   2866.368330  0.000041  4.038814e-08  0.000040   \n",
       "14     VGF    8.909496    419.269964  0.000590  1.324958e-06  0.000581   \n",
       "\n",
       "         hyper_v  \n",
       "12  2.689102e-09  \n",
       "13  8.206947e-10  \n",
       "10  6.217798e-09  \n",
       "9   2.319096e-09  \n",
       "7   2.624620e-09  \n",
       "3   2.617943e-06  \n",
       "11  4.444391e-08  \n",
       "5   1.411365e-08  \n",
       "4   2.557913e-08  \n",
       "1   1.396864e-07  \n",
       "0   8.243717e-10  \n",
       "2   7.567622e-09  \n",
       "6   3.889515e-08  \n",
       "8   9.141210e-09  \n",
       "14  8.452046e-07  "
      ]
     },
     "execution_count": 152,
     "metadata": {},
     "output_type": "execute_result"
    }
   ],
   "source": [
    "pd.DataFrame(\n",
    "    zip(overlap_genes, means, variances, naive_m, naive_v, dropseq_m, dropseq_v),\n",
    "    columns=['gene', 'fish_m', 'fish_v', 'naive_m', 'naive_v', 'hyper_m', 'hyper_v'])\\\n",
    "    .sort_values('gene')"
   ]
  },
  {
   "cell_type": "code",
   "execution_count": 118,
   "id": "3b0edcc4-df2f-42ef-9c2a-60ca70e0e7c9",
   "metadata": {
    "tags": []
   },
   "outputs": [
    {
     "data": {
      "text/html": [
       "<div>\n",
       "<style scoped>\n",
       "    .dataframe tbody tr th:only-of-type {\n",
       "        vertical-align: middle;\n",
       "    }\n",
       "\n",
       "    .dataframe tbody tr th {\n",
       "        vertical-align: top;\n",
       "    }\n",
       "\n",
       "    .dataframe thead th {\n",
       "        text-align: right;\n",
       "    }\n",
       "</style>\n",
       "<table border=\"1\" class=\"dataframe\">\n",
       "  <thead>\n",
       "    <tr style=\"text-align: right;\">\n",
       "      <th></th>\n",
       "      <th>0</th>\n",
       "      <th>1</th>\n",
       "    </tr>\n",
       "  </thead>\n",
       "  <tbody>\n",
       "    <tr>\n",
       "      <th>0</th>\n",
       "      <td>RUNX2</td>\n",
       "      <td>6.038204e-09</td>\n",
       "    </tr>\n",
       "    <tr>\n",
       "      <th>1</th>\n",
       "      <td>MITF</td>\n",
       "      <td>5.562998e-07</td>\n",
       "    </tr>\n",
       "    <tr>\n",
       "      <th>2</th>\n",
       "      <td>SOX10</td>\n",
       "      <td>7.519020e-08</td>\n",
       "    </tr>\n",
       "    <tr>\n",
       "      <th>3</th>\n",
       "      <td>GAPDH</td>\n",
       "      <td>5.905783e-06</td>\n",
       "    </tr>\n",
       "    <tr>\n",
       "      <th>4</th>\n",
       "      <td>LMNA</td>\n",
       "      <td>2.084528e-07</td>\n",
       "    </tr>\n",
       "    <tr>\n",
       "      <th>5</th>\n",
       "      <td>KDM5B</td>\n",
       "      <td>6.018366e-08</td>\n",
       "    </tr>\n",
       "    <tr>\n",
       "      <th>6</th>\n",
       "      <td>TXNRD1</td>\n",
       "      <td>1.543060e-07</td>\n",
       "    </tr>\n",
       "    <tr>\n",
       "      <th>7</th>\n",
       "      <td>FOSL1</td>\n",
       "      <td>2.618725e-08</td>\n",
       "    </tr>\n",
       "    <tr>\n",
       "      <th>8</th>\n",
       "      <td>VCL</td>\n",
       "      <td>4.038814e-08</td>\n",
       "    </tr>\n",
       "    <tr>\n",
       "      <th>9</th>\n",
       "      <td>FGFR1</td>\n",
       "      <td>1.461312e-08</td>\n",
       "    </tr>\n",
       "    <tr>\n",
       "      <th>10</th>\n",
       "      <td>CCNA2</td>\n",
       "      <td>3.937181e-08</td>\n",
       "    </tr>\n",
       "    <tr>\n",
       "      <th>11</th>\n",
       "      <td>KDM5A</td>\n",
       "      <td>1.347654e-07</td>\n",
       "    </tr>\n",
       "    <tr>\n",
       "      <th>12</th>\n",
       "      <td>BABAM1</td>\n",
       "      <td>2.736789e-08</td>\n",
       "    </tr>\n",
       "    <tr>\n",
       "      <th>13</th>\n",
       "      <td>C1S</td>\n",
       "      <td>5.763512e-09</td>\n",
       "    </tr>\n",
       "    <tr>\n",
       "      <th>14</th>\n",
       "      <td>VGF</td>\n",
       "      <td>1.324958e-06</td>\n",
       "    </tr>\n",
       "  </tbody>\n",
       "</table>\n",
       "</div>"
      ],
      "text/plain": [
       "         0             1\n",
       "0    RUNX2  6.038204e-09\n",
       "1     MITF  5.562998e-07\n",
       "2    SOX10  7.519020e-08\n",
       "3    GAPDH  5.905783e-06\n",
       "4     LMNA  2.084528e-07\n",
       "5    KDM5B  6.018366e-08\n",
       "6   TXNRD1  1.543060e-07\n",
       "7    FOSL1  2.618725e-08\n",
       "8      VCL  4.038814e-08\n",
       "9    FGFR1  1.461312e-08\n",
       "10   CCNA2  3.937181e-08\n",
       "11   KDM5A  1.347654e-07\n",
       "12  BABAM1  2.736789e-08\n",
       "13     C1S  5.763512e-09\n",
       "14     VGF  1.324958e-06"
      ]
     },
     "execution_count": 118,
     "metadata": {},
     "output_type": "execute_result"
    }
   ],
   "source": [
    "pd.DataFrame(zip(overlap_genes, naive_v, ))"
   ]
  },
  {
   "cell_type": "markdown",
   "id": "ad243cdb-23f8-48ea-95a4-e973e5664fb2",
   "metadata": {},
   "source": [
    "### Make comparison for correlations"
   ]
  },
  {
   "cell_type": "code",
   "execution_count": 119,
   "id": "a4d54c0a",
   "metadata": {
    "tags": []
   },
   "outputs": [],
   "source": [
    "# saver_corrs = saver_corrs_all.loc[overlap_genes, overlap_genes].values.reshape(-1)"
   ]
  },
  {
   "cell_type": "code",
   "execution_count": 120,
   "id": "1df91486",
   "metadata": {
    "tags": []
   },
   "outputs": [],
   "source": [
    "memento.compute_2d_moments(adata, gene_pairs=list(itertools.product(overlap_genes, overlap_genes)))"
   ]
  },
  {
   "cell_type": "code",
   "execution_count": 121,
   "id": "c122cde5",
   "metadata": {
    "tags": []
   },
   "outputs": [],
   "source": [
    "memento_corr_array = adata.uns['memento']['2d_moments']['sg^A']['corr']\n",
    "memento_cov_array = adata.uns['memento']['2d_moments']['sg^A']['cov']"
   ]
  },
  {
   "cell_type": "code",
   "execution_count": 122,
   "id": "460d0414",
   "metadata": {
    "tags": []
   },
   "outputs": [],
   "source": [
    "fish_corr_array = np.array([corrs.loc[x,y] for x,y in itertools.product(overlap_genes, overlap_genes)])\n",
    "fish_cov_array = np.array([covs.loc[x,y] for x,y in itertools.product(overlap_genes, overlap_genes)])"
   ]
  },
  {
   "cell_type": "code",
   "execution_count": 123,
   "id": "53a45ca5",
   "metadata": {
    "tags": []
   },
   "outputs": [],
   "source": [
    "selected_pairs = ~np.isnan(fish_corr_array) & (fish_corr_array!=1)"
   ]
  },
  {
   "cell_type": "code",
   "execution_count": 124,
   "id": "8cc5cb50",
   "metadata": {
    "tags": []
   },
   "outputs": [],
   "source": [
    "import matplotlib as mpl\n",
    "\n",
    "mpl.rcParams['pdf.fonttype'] = 42\n",
    "mpl.rcParams['ps.fonttype'] = 42\n",
    "\n",
    "import matplotlib.pylab as pylab\n",
    "params = {'legend.fontsize': 'medium',\n",
    "         'axes.labelsize': 'large',\n",
    "         'axes.titlesize':'medium',\n",
    "         'figure.titlesize':'medium',\n",
    "         'xtick.labelsize':'small',\n",
    "         'ytick.labelsize':'small'}\n",
    "pylab.rcParams.update(params)\n"
   ]
  },
  {
   "cell_type": "code",
   "execution_count": 125,
   "id": "4e2cdbb4",
   "metadata": {
    "tags": []
   },
   "outputs": [
    {
     "data": {
      "image/png": "[encoded data removed]",
      "text/plain": [
       "<Figure size 800x150 with 2 Axes>"
      ]
     },
     "metadata": {},
     "output_type": "display_data"
    }
   ],
   "source": [
    "plt.figure(figsize=(8,1.5))\n",
    "plt.subplots_adjust(wspace=0.7)\n",
    "\n",
    "plt.subplot(1,3,1)\n",
    "plt.scatter(fish_corr_array[selected_pairs], naive_corr.reshape(-1)[selected_pairs], s=7)\n",
    "plt.xlabel('fish corr'); plt.ylabel('naive corr')\n",
    "# print('naive', stats.pearsonr(fish_corr_array[selected_pairs], naive_corr.reshape(-1)[selected_pairs])[0])\n",
    "plt.title('R = '+str(concordance(fish_corr_array[selected_pairs], naive_corr.reshape(-1)[selected_pairs])))\n",
    "plt.title('R = '+str.format('{0:.2f}', stats.pearsonr(fish_corr_array[selected_pairs], naive_corr.reshape(-1)[selected_pairs])[0]))\n",
    "\n",
    "\n",
    "\n",
    "# plt.subplot(1,3,2)\n",
    "# plt.scatter(fish_corr_array[selected_pairs], saver_corrs[selected_pairs], s=7)\n",
    "# plt.xlabel('fish corr'); plt.ylabel('saver corr')\n",
    "# # print('saver', stats.pearsonr(fish_corr_array[selected_pairs], saver_corrs[selected_pairs])[0])\n",
    "# plt.title('R = '+str(concordance(fish_corr_array[selected_pairs], saver_corrs[selected_pairs])))\n",
    "# plt.title('R = '+str.format('{0:.2f}', stats.pearsonr(fish_corr_array[selected_pairs], saver_corrs[selected_pairs])[0]))\n",
    "\n",
    "\n",
    "plt.subplot(1,3,3)\n",
    "plt.scatter(fish_corr_array[selected_pairs], memento_corr_array[selected_pairs], s=7)\n",
    "plt.xlabel('fish corr'); plt.ylabel('memento corr')\n",
    "# print('memento', stats.pearsonr(fish_corr_array[selected_pairs], memento_corr_array[selected_pairs])[0])\n",
    "plt.title('R = '+str.format('{0:.2f}', stats.pearsonr(fish_corr_array[selected_pairs], memento_corr_array[selected_pairs])[0]))\n",
    "\n",
    "plt.savefig('coex_comparisons.png', dpi=300)"
   ]
  },
  {
   "cell_type": "code",
   "execution_count": 126,
   "id": "4da01719",
   "metadata": {
    "tags": []
   },
   "outputs": [
    {
     "data": {
      "text/plain": [
       "0.2197171015415179"
      ]
     },
     "execution_count": 126,
     "metadata": {},
     "output_type": "execute_result"
    }
   ],
   "source": [
    "stats.pearsonr(fish_corr_array[selected_pairs], memento_corr_array[selected_pairs])[0]"
   ]
  },
  {
   "cell_type": "code",
   "execution_count": 127,
   "id": "ba265087",
   "metadata": {
    "tags": []
   },
   "outputs": [
    {
     "data": {
      "image/png": "[encoded data removed]",
      "text/plain": [
       "<Figure size 270x250 with 1 Axes>"
      ]
     },
     "metadata": {},
     "output_type": "display_data"
    }
   ],
   "source": [
    "plt.figure(figsize=(2.7,2.5))\n",
    "plt.scatter(fish_corr_array[selected_pairs], naive_corr.reshape(-1)[selected_pairs], s=40, color='silver')\n",
    "plt.scatter(fish_corr_array[selected_pairs], memento_corr_array[selected_pairs], s=40, color='turquoise')\n",
    "# plt.xlabel('smFISH corr'); plt.ylabel('Dropseq corr');\n",
    "plt.savefig('correlation_comparisons.pdf', bbox_inches='tight')"
   ]
  },
  {
   "cell_type": "code",
   "execution_count": null,
   "id": "07305975-6f37-45fe-8f9e-8dd57c806042",
   "metadata": {},
   "outputs": [],
   "source": []
  },
  {
   "cell_type": "code",
   "execution_count": null,
   "id": "e8654bab-a1db-4ff1-b52b-a36850bf1b68",
   "metadata": {},
   "outputs": [],
   "source": []
  },
  {
   "cell_type": "code",
   "execution_count": null,
   "id": "0dc91b53-a659-4644-aa98-6a97269195ba",
   "metadata": {},
   "outputs": [],
   "source": []
  },
  {
   "cell_type": "code",
   "execution_count": null,
   "id": "11747d9e-a508-4351-93e3-f19ed2d57c7a",
   "metadata": {},
   "outputs": [],
   "source": []
  },
  {
   "cell_type": "code",
   "execution_count": null,
   "id": "e2acdd04-a53f-465d-bcc8-7efc84234b88",
   "metadata": {},
   "outputs": [],
   "source": []
  },
  {
   "cell_type": "markdown",
   "id": "94cdf81d",
   "metadata": {},
   "source": [
    "### Make comparison for mean and variability"
   ]
  },
  {
   "cell_type": "code",
   "execution_count": 68,
   "id": "6fa36b71",
   "metadata": {
    "tags": []
   },
   "outputs": [],
   "source": [
    "# filtered_saver = normalized_saver_estimates[overlap_genes]"
   ]
  },
  {
   "cell_type": "code",
   "execution_count": 69,
   "id": "5286b6a9",
   "metadata": {
    "tags": []
   },
   "outputs": [],
   "source": [
    "# saver_m = np.nanmean(filtered_saver, axis=0)\n",
    "# saver_v = np.nanvar(filtered_saver, axis=0)\n",
    "# saver_fano = saver_v/saver_m**2\n",
    "\n",
    "# a, b, _, _, _= stats.linregress(np.log(saver_m), np.log(saver_v))\n",
    "# naive_rv = np.log(saver_v)-(np.log(saver_m)*a+b)"
   ]
  },
  {
   "cell_type": "code",
   "execution_count": 70,
   "id": "602e0b8f",
   "metadata": {
    "tags": []
   },
   "outputs": [],
   "source": [
    "n_umi = adata.obs['memento_size_factor'].mean()"
   ]
  },
  {
   "cell_type": "code",
   "execution_count": 71,
   "id": "c9b8e04b",
   "metadata": {
    "tags": []
   },
   "outputs": [
    {
     "data": {
      "image/png": "[encoded data removed]",
      "text/plain": [
       "<Figure size 800x150 with 3 Axes>"
      ]
     },
     "metadata": {},
     "output_type": "display_data"
    }
   ],
   "source": [
    "plt.figure(figsize=(8,1.5))\n",
    "plt.subplots_adjust(wspace=0.7)\n",
    "\n",
    "plt.subplot(1,3,1)\n",
    "plt.scatter(np.log(means), np.log(naive_m/q))\n",
    "plt.plot([-1, 4],[-1, 4], '--', color='k')\n",
    "plt.xlabel('fish mean'); plt.ylabel('naive mean')\n",
    "plt.title('CCC = '+str.format('{0:.2f}', stats.spearmanr(np.log(means), np.log(naive_m/q))[0]))\n",
    "\n",
    "plt.subplot(1,3,2)\n",
    "# plt.scatter(np.log(means), np.log(saver_m/q))\n",
    "plt.plot([-1, 4],[-1, 4], '--', color='k')\n",
    "plt.xlabel('fish mean'); plt.ylabel('saver mean')\n",
    "# print('saver', stats.pearsonr(fish_corr_array[selected_pairs], saver_corrs[selected_pairs])[0])\n",
    "# plt.title('CCC = '+str.format('{0:.2f}', stats.spearmanr(np.log(means), np.log(saver_m/q))[0]))\n",
    "\n",
    "plt.subplot(1,3,3)\n",
    "plt.scatter(np.log(means), np.log(dropseq_m))\n",
    "plt.plot([-1, 4],[-1, 4], '--', color='k')\n",
    "plt.xlabel('fish mean'); plt.ylabel('memento fmean')\n",
    "plt.title('CCC = '+str.format('{0:.2f}', stats.spearmanr(np.log(means), np.log(dropseq_m))[0]))\n",
    "\n",
    "plt.savefig('mean_comparisons.png', dpi=300)"
   ]
  },
  {
   "cell_type": "code",
   "execution_count": 72,
   "id": "5833b910",
   "metadata": {
    "tags": []
   },
   "outputs": [
    {
     "data": {
      "image/png": "[encoded data removed]",
      "text/plain": [
       "<Figure size 270x250 with 1 Axes>"
      ]
     },
     "metadata": {},
     "output_type": "display_data"
    }
   ],
   "source": [
    "plt.figure(figsize=(2.7,2.5))\n",
    "plt.scatter(np.log(means), np.log(dropseq_m), s=40, color='turquoise')\n",
    "# plt.xlabel('smFISH log(CV)'); plt.ylabel('Dropseq log(CV)');\n",
    "plt.savefig('mean_comparisons.pdf', bbox_inches='tight')"
   ]
  },
  {
   "cell_type": "code",
   "execution_count": 73,
   "id": "dc217f5f-c259-4f20-9caa-f8d6a7e316e6",
   "metadata": {
    "tags": []
   },
   "outputs": [
    {
     "data": {
      "text/plain": [
       "array([8.84895720e-05, 5.52493775e-06, 7.87836742e-05, 3.39610558e-02,\n",
       "       1.23022156e-04, 0.00000000e+00, 4.63960523e-02, 2.77016399e-05,\n",
       "       1.02234369e-02, 7.10420399e-03, 8.09035704e-02, 3.86241377e-03,\n",
       "       1.96361612e-03, 8.08699479e-03, 2.85482769e-04])"
      ]
     },
     "execution_count": 73,
     "metadata": {},
     "output_type": "execute_result"
    }
   ],
   "source": [
    "variances"
   ]
  },
  {
   "cell_type": "code",
   "execution_count": 74,
   "id": "3c15b36c-3f87-4ca6-9c1f-bc693b6916da",
   "metadata": {
    "tags": []
   },
   "outputs": [
    {
     "name": "stderr",
     "output_type": "stream",
     "text": [
      "/tmp/ipykernel_20862/1535659385.py:5: RuntimeWarning: divide by zero encountered in log\n",
      "  plt.scatter(np.log(variances), np.log(naive_v))\n",
      "/tmp/ipykernel_20862/1535659385.py:7: RuntimeWarning: divide by zero encountered in log\n",
      "  plt.title('CCC = '+str.format('{0:.2f}', stats.pearsonr(np.log(variances), np.log(naive_v))[0]))\n",
      "/home/ubuntu/anaconda3/envs/mementocxg/lib/python3.11/site-packages/scipy/stats/_stats_py.py:4831: RuntimeWarning: invalid value encountered in subtract\n",
      "  xm = x.astype(dtype) - xmean\n"
     ]
    },
    {
     "ename": "ValueError",
     "evalue": "array must not contain infs or NaNs",
     "output_type": "error",
     "traceback": [
      "\u001b[0;31m---------------------------------------------------------------------------\u001b[0m",
      "\u001b[0;31mValueError\u001b[0m                                Traceback (most recent call last)",
      "Cell \u001b[0;32mIn[74], line 7\u001b[0m\n\u001b[1;32m      5\u001b[0m plt\u001b[38;5;241m.\u001b[39mscatter(np\u001b[38;5;241m.\u001b[39mlog(variances), np\u001b[38;5;241m.\u001b[39mlog(naive_v))\n\u001b[1;32m      6\u001b[0m plt\u001b[38;5;241m.\u001b[39mxlabel(\u001b[38;5;124m'\u001b[39m\u001b[38;5;124mfish CV\u001b[39m\u001b[38;5;124m'\u001b[39m); plt\u001b[38;5;241m.\u001b[39mylabel(\u001b[38;5;124m'\u001b[39m\u001b[38;5;124mnaive CV\u001b[39m\u001b[38;5;124m'\u001b[39m)\n\u001b[0;32m----> 7\u001b[0m plt\u001b[38;5;241m.\u001b[39mtitle(\u001b[38;5;124m'\u001b[39m\u001b[38;5;124mCCC = \u001b[39m\u001b[38;5;124m'\u001b[39m\u001b[38;5;241m+\u001b[39m\u001b[38;5;28mstr\u001b[39m\u001b[38;5;241m.\u001b[39mformat(\u001b[38;5;124m'\u001b[39m\u001b[38;5;132;01m{0:.2f}\u001b[39;00m\u001b[38;5;124m'\u001b[39m, stats\u001b[38;5;241m.\u001b[39mpearsonr(np\u001b[38;5;241m.\u001b[39mlog(variances), np\u001b[38;5;241m.\u001b[39mlog(naive_v))[\u001b[38;5;241m0\u001b[39m]))\n\u001b[1;32m      9\u001b[0m plt\u001b[38;5;241m.\u001b[39msubplot(\u001b[38;5;241m1\u001b[39m,\u001b[38;5;241m3\u001b[39m,\u001b[38;5;241m2\u001b[39m)\n\u001b[1;32m     10\u001b[0m \u001b[38;5;66;03m# plt.scatter(np.log(fanos), np.log(saver_fano))\u001b[39;00m\n",
      "File \u001b[0;32m~/anaconda3/envs/mementocxg/lib/python3.11/site-packages/scipy/stats/_stats_py.py:4837\u001b[0m, in \u001b[0;36mpearsonr\u001b[0;34m(x, y, alternative, method)\u001b[0m\n\u001b[1;32m   4832\u001b[0m ym \u001b[38;5;241m=\u001b[39m y\u001b[38;5;241m.\u001b[39mastype(dtype) \u001b[38;5;241m-\u001b[39m ymean\n\u001b[1;32m   4834\u001b[0m \u001b[38;5;66;03m# Unlike np.linalg.norm or the expression sqrt((xm*xm).sum()),\u001b[39;00m\n\u001b[1;32m   4835\u001b[0m \u001b[38;5;66;03m# scipy.linalg.norm(xm) does not overflow if xm is, for example,\u001b[39;00m\n\u001b[1;32m   4836\u001b[0m \u001b[38;5;66;03m# [-5e210, 5e210, 3e200, -3e200]\u001b[39;00m\n\u001b[0;32m-> 4837\u001b[0m normxm \u001b[38;5;241m=\u001b[39m linalg\u001b[38;5;241m.\u001b[39mnorm(xm)\n\u001b[1;32m   4838\u001b[0m normym \u001b[38;5;241m=\u001b[39m linalg\u001b[38;5;241m.\u001b[39mnorm(ym)\n\u001b[1;32m   4840\u001b[0m threshold \u001b[38;5;241m=\u001b[39m \u001b[38;5;241m1e-13\u001b[39m\n",
      "File \u001b[0;32m~/anaconda3/envs/mementocxg/lib/python3.11/site-packages/scipy/linalg/_misc.py:146\u001b[0m, in \u001b[0;36mnorm\u001b[0;34m(a, ord, axis, keepdims, check_finite)\u001b[0m\n\u001b[1;32m    144\u001b[0m \u001b[38;5;66;03m# Differs from numpy only in non-finite handling and the use of blas.\u001b[39;00m\n\u001b[1;32m    145\u001b[0m \u001b[38;5;28;01mif\u001b[39;00m check_finite:\n\u001b[0;32m--> 146\u001b[0m     a \u001b[38;5;241m=\u001b[39m np\u001b[38;5;241m.\u001b[39masarray_chkfinite(a)\n\u001b[1;32m    147\u001b[0m \u001b[38;5;28;01melse\u001b[39;00m:\n\u001b[1;32m    148\u001b[0m     a \u001b[38;5;241m=\u001b[39m np\u001b[38;5;241m.\u001b[39masarray(a)\n",
      "File \u001b[0;32m~/anaconda3/envs/mementocxg/lib/python3.11/site-packages/numpy/lib/function_base.py:628\u001b[0m, in \u001b[0;36masarray_chkfinite\u001b[0;34m(a, dtype, order)\u001b[0m\n\u001b[1;32m    626\u001b[0m a \u001b[38;5;241m=\u001b[39m asarray(a, dtype\u001b[38;5;241m=\u001b[39mdtype, order\u001b[38;5;241m=\u001b[39morder)\n\u001b[1;32m    627\u001b[0m \u001b[38;5;28;01mif\u001b[39;00m a\u001b[38;5;241m.\u001b[39mdtype\u001b[38;5;241m.\u001b[39mchar \u001b[38;5;129;01min\u001b[39;00m typecodes[\u001b[38;5;124m'\u001b[39m\u001b[38;5;124mAllFloat\u001b[39m\u001b[38;5;124m'\u001b[39m] \u001b[38;5;129;01mand\u001b[39;00m \u001b[38;5;129;01mnot\u001b[39;00m np\u001b[38;5;241m.\u001b[39misfinite(a)\u001b[38;5;241m.\u001b[39mall():\n\u001b[0;32m--> 628\u001b[0m     \u001b[38;5;28;01mraise\u001b[39;00m \u001b[38;5;167;01mValueError\u001b[39;00m(\n\u001b[1;32m    629\u001b[0m         \u001b[38;5;124m\"\u001b[39m\u001b[38;5;124marray must not contain infs or NaNs\u001b[39m\u001b[38;5;124m\"\u001b[39m)\n\u001b[1;32m    630\u001b[0m \u001b[38;5;28;01mreturn\u001b[39;00m a\n",
      "\u001b[0;31mValueError\u001b[0m: array must not contain infs or NaNs"
     ]
    },
    {
     "data": {
      "image/png": "[encoded data removed]",
      "text/plain": [
       "<Figure size 800x150 with 1 Axes>"
      ]
     },
     "metadata": {},
     "output_type": "display_data"
    }
   ],
   "source": [
    "plt.figure(figsize=(8,1.5))\n",
    "plt.subplots_adjust(wspace=0.7)\n",
    "\n",
    "plt.subplot(1,3,1)\n",
    "plt.scatter(np.log(variances), np.log(naive_v))\n",
    "plt.xlabel('fish CV'); plt.ylabel('naive CV')\n",
    "plt.title('CCC = '+str.format('{0:.2f}', stats.pearsonr(np.log(variances), np.log(naive_v))[0]))\n",
    "\n",
    "plt.subplot(1,3,2)\n",
    "# plt.scatter(np.log(fanos), np.log(saver_fano))\n",
    "plt.xlabel('fish CV'); plt.ylabel('saver CV')\n",
    "# print('saver', stats.pearsonr(fish_corr_array[selected_pairs], saver_corrs[selected_pairs])[0])\n",
    "# plt.title('CCC = '+str.format('{0:.2f}', stats.pearsonr(np.log(fanos), np.log(saver_fano))[0]))\n",
    "\n",
    "plt.subplot(1,3,3)\n",
    "plt.scatter(np.log(variances), np.log(dropseq_v))\n",
    "plt.xlabel('fish CV'); plt.ylabel('memento CV')\n",
    "plt.title('CCC = '+str.format('{0:.2f}', stats.pearsonr(np.log(variances), np.log(dropseq_v))[0]))\n",
    "\n",
    "# plt.savefig('variability_comparisons.png', dpi=300)"
   ]
  },
  {
   "cell_type": "code",
   "execution_count": 75,
   "id": "4726f775",
   "metadata": {
    "tags": []
   },
   "outputs": [
    {
     "name": "stderr",
     "output_type": "stream",
     "text": [
      "/tmp/ipykernel_20862/774163193.py:5: RuntimeWarning: divide by zero encountered in log\n",
      "  plt.scatter(np.log(fanos), np.log(naive_fano))\n",
      "/tmp/ipykernel_20862/774163193.py:7: RuntimeWarning: divide by zero encountered in log\n",
      "  plt.title('CCC = '+str.format('{0:.2f}', concordance(np.log(fanos), np.log(naive_fano))))\n",
      "/tmp/ipykernel_20862/774163193.py:16: RuntimeWarning: divide by zero encountered in log\n",
      "  plt.scatter(np.log(fanos), np.log(dropseq_fano))\n",
      "/tmp/ipykernel_20862/774163193.py:18: RuntimeWarning: divide by zero encountered in log\n",
      "  plt.title('CCC = '+str.format('{0:.2f}', concordance(np.log(fanos), np.log(dropseq_fano))))\n"
     ]
    },
    {
     "data": {
      "text/plain": [
       "Text(0.5, 1.0, 'CCC = 0.72')"
      ]
     },
     "execution_count": 75,
     "metadata": {},
     "output_type": "execute_result"
    },
    {
     "data": {
      "image/png": "[encoded data removed]",
      "text/plain": [
       "<Figure size 800x150 with 3 Axes>"
      ]
     },
     "metadata": {},
     "output_type": "display_data"
    }
   ],
   "source": [
    "plt.figure(figsize=(8,1.5))\n",
    "plt.subplots_adjust(wspace=0.7)\n",
    "\n",
    "plt.subplot(1,3,1)\n",
    "plt.scatter(np.log(fanos), np.log(naive_fano))\n",
    "plt.xlabel('fish CV'); plt.ylabel('naive CV')\n",
    "plt.title('CCC = '+str.format('{0:.2f}', concordance(np.log(fanos), np.log(naive_fano))))\n",
    "\n",
    "plt.subplot(1,3,2)\n",
    "# plt.scatter(np.log(fanos), np.log(saver_fano))\n",
    "plt.xlabel('fish CV'); plt.ylabel('saver CV')\n",
    "# print('saver', stats.pearsonr(fish_corr_array[selected_pairs], saver_corrs[selected_pairs])[0])\n",
    "# plt.title('CCC = '+str.format('{0:.2f}', stats.pearsonr(np.log(fanos), np.log(saver_fano))[0]))\n",
    "\n",
    "plt.subplot(1,3,3)\n",
    "plt.scatter(np.log(fanos), np.log(dropseq_fano))\n",
    "plt.xlabel('fish CV'); plt.ylabel('memento CV')\n",
    "plt.title('CCC = '+str.format('{0:.2f}', concordance(np.log(fanos), np.log(dropseq_fano))))\n",
    "\n",
    "# plt.savefig('variability_comparisons.png', dpi=300)"
   ]
  },
  {
   "cell_type": "code",
   "execution_count": 76,
   "id": "8ab0e8ad",
   "metadata": {
    "tags": []
   },
   "outputs": [],
   "source": [
    "result_path = '/data_volume/memento/saver/'"
   ]
  },
  {
   "cell_type": "code",
   "execution_count": null,
   "id": "0d6ecd73",
   "metadata": {
    "tags": []
   },
   "outputs": [],
   "source": [
    "mean = pd.read_csv(result_path + 'dropseq_BASiCS_mu.csv'.format(q)).mean(axis=0)\n",
    "delta = pd.read_csv(result_path + 'dropseq_BASiCS_delta.csv'.format(q)).mean(axis=0)\n",
    "v_basics = mean+delta*mean**2\n",
    "m_basics = mean\n",
    "fano_basics = v_basics/m_basics**2\n",
    "\n",
    "# scaling = (/m_basics)\n",
    "# m_basics = m_basics*scaling\n",
    "# v_basics = v_basics*scaling**2\n"
   ]
  },
  {
   "cell_type": "code",
   "execution_count": null,
   "id": "5e1d1a44",
   "metadata": {
    "tags": []
   },
   "outputs": [],
   "source": [
    "print('memento', stats.pearsonr(np.log(fanos), np.log(dropseq_fano))[0])\n",
    "print('naive', stats.pearsonr(np.log(fanos), np.log(naive_fano))[0])\n",
    "print('basics', stats.pearsonr(np.log(fanos), np.log(fano_basics[overlap_genes]))[0])"
   ]
  },
  {
   "cell_type": "code",
   "execution_count": 135,
   "id": "8e903fe4",
   "metadata": {},
   "outputs": [
    {
     "data": {
      "image/png": "[encoded data removed]",
      "text/plain": [
       "<Figure size 194.4x180 with 1 Axes>"
      ]
     },
     "metadata": {
      "needs_background": "light"
     },
     "output_type": "display_data"
    }
   ],
   "source": [
    "plt.figure(figsize=(2.7,2.5))\n",
    "plt.scatter(np.log(fanos), np.log(naive_fano), s=40, color='silver')\n",
    "plt.scatter(np.log(fanos), np.log(fano_basics[overlap_genes]), s=40, color='dimgrey')\n",
    "plt.scatter(np.log(fanos), np.log(dropseq_fano), s=40, color='turquoise')\n",
    "\n",
    "# plt.xlabel('smFISH log(CV)'); plt.ylabel('Dropseq log(CV)');\n",
    "plt.savefig('variability_comparisons.pdf', bbox_inches='tight')"
   ]
  },
  {
   "cell_type": "code",
   "execution_count": null,
   "id": "47b6e426",
   "metadata": {},
   "outputs": [],
   "source": []
  }
 ],
 "metadata": {
  "kernelspec": {
   "display_name": "mementocxg",
   "language": "python",
   "name": "myenv"
  },
  "language_info": {
   "codemirror_mode": {
    "name": "ipython",
    "version": 3
   },
   "file_extension": ".py",
   "mimetype": "text/x-python",
   "name": "python",
   "nbconvert_exporter": "python",
   "pygments_lexer": "ipython3",
   "version": "3.11.5"
  }
 },
 "nbformat": 4,
 "nbformat_minor": 5
}
