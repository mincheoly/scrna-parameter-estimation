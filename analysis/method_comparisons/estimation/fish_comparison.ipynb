{
 "cells": [
  {
   "cell_type": "markdown",
   "id": "1badb948",
   "metadata": {},
   "source": [
    "# FISH comparison\n",
    "\n",
    "Data: https://drive.google.com/drive/folders/1uos3DDymyrh3ZyxveDhqQIcOyD1brxeL"
   ]
  },
  {
   "cell_type": "code",
   "execution_count": 22,
   "id": "d75b34b3",
   "metadata": {
    "tags": []
   },
   "outputs": [],
   "source": [
    "import pandas as pd\n",
    "import seaborn as sns\n",
    "import scanpy as sc\n",
    "import scipy.sparse as sparse\n",
    "import numpy as np\n",
    "import matplotlib.pyplot as plt\n",
    "import scipy.stats as stats\n",
    "import scipy.optimize as opt\n",
    "import itertools"
   ]
  },
  {
   "cell_type": "code",
   "execution_count": 23,
   "id": "84c38e88",
   "metadata": {
    "tags": []
   },
   "outputs": [],
   "source": [
    "data_path = '/home/ubuntu/Data/smfish/'"
   ]
  },
  {
   "cell_type": "code",
   "execution_count": 24,
   "id": "167c613c",
   "metadata": {
    "tags": []
   },
   "outputs": [],
   "source": [
    "dropseq = pd.read_csv(data_path + 'melanoma_dropseq.csv', index_col=0, sep=',').T\n",
    "# dropseq = dropseq[dropseq['GAPDH'] > 0]"
   ]
  },
  {
   "cell_type": "code",
   "execution_count": 25,
   "id": "73f1e606",
   "metadata": {
    "tags": []
   },
   "outputs": [],
   "source": [
    "smfish = pd.read_csv(data_path + 'fishSubset.txt', index_col=0, sep=' ')\n",
    "smfish = smfish[smfish['GAPDH'] > 0]\n",
    "fish_gapdh_sf = (smfish['GAPDH']+1).values\n",
    "smfish_normalized = smfish/fish_gapdh_sf.reshape(-1, 1)\n",
    "# smfish = pd.read_csv('fishSubset (1).txt', sep=' ', index_col=0)"
   ]
  },
  {
   "cell_type": "code",
   "execution_count": 26,
   "id": "3089f862",
   "metadata": {
    "tags": []
   },
   "outputs": [],
   "source": [
    "# saver_estimates = pd.read_csv('/data_volume/memento/saver/saver_estimates.csv', index_col=0)"
   ]
  },
  {
   "cell_type": "code",
   "execution_count": 27,
   "id": "5a062ea4",
   "metadata": {
    "tags": []
   },
   "outputs": [],
   "source": [
    "dropseq_sf = dropseq.sum(axis=1).values\n",
    "# dropseq_sf = dropseq['GAPDH'].values\n",
    "# unnormalized_saver_estimates = saver_estimates.T*dropseq_sf.reshape(-1,1)\n",
    "# gapdh_saver_sf = unnormalized_saver_estimates['GAPDH'].values/unnormalized_saver_estimates['GAPDH'].mean()\n",
    "# normalized_saver_estimates = unnormalized_saver_estimates/gapdh_saver_sf.reshape(-1,1)"
   ]
  },
  {
   "cell_type": "code",
   "execution_count": 28,
   "id": "3e4c9447",
   "metadata": {
    "tags": []
   },
   "outputs": [],
   "source": [
    "# saver_corrs_all = pd.read_csv('/data_volume/memento/saver/saver_corrs.csv', index_col=0)"
   ]
  },
  {
   "cell_type": "code",
   "execution_count": 29,
   "id": "792e2803",
   "metadata": {
    "tags": []
   },
   "outputs": [],
   "source": [
    "def concordance(x, y, log=False):\n",
    "    \n",
    "    nonnan = np.isfinite(x) & np.isfinite(y)\n",
    "    \n",
    "    if log:\n",
    "        a = np.log(x)\n",
    "        b = np.log(y)\n",
    "    else:\n",
    "        a = x\n",
    "        b = y\n",
    "    cond = np.isfinite(a) & np.isfinite(b)\n",
    "    a = a[cond]\n",
    "    b = b[cond]\n",
    "    cmat = np.cov(a, b)\n",
    "    return 2*cmat[0,1]/(cmat[0,0] + cmat[1,1] + (a.mean()-b.mean())**2)"
   ]
  },
  {
   "cell_type": "markdown",
   "id": "75f2ffc0",
   "metadata": {},
   "source": [
    "### Run memento for DropSeq"
   ]
  },
  {
   "cell_type": "code",
   "execution_count": 30,
   "id": "2d15307e",
   "metadata": {
    "tags": []
   },
   "outputs": [],
   "source": [
    "import sys\n",
    "sys.path.append('/home/ubuntu/Github/scrna-parameter-estimation/')\n",
    "# sys.path.append('/home/ssm-user/Github/misc-seq/miscseq/')\n",
    "# import encode\n",
    "import memento"
   ]
  },
  {
   "cell_type": "code",
   "execution_count": 43,
   "id": "475b3b02",
   "metadata": {
    "tags": []
   },
   "outputs": [],
   "source": [
    "adata = sc.AnnData(X=sparse.csr_matrix(dropseq.values), obs=pd.DataFrame(index=dropseq.index), var=pd.DataFrame(index=dropseq.columns))\n",
    "q = 0.01485030176341905\n",
    "adata.obs['q'] = q\n",
    "adata.obs['group'] = 'A'\n",
    "adata.write(data_path + 'dropseq.h5ad')\n",
    "\n",
    "memento.setup_memento(adata, q_column='q', filter_mean_thresh=0.02,trim_percent=1, shrinkage=0)\n",
    "\n",
    "#Optional\n",
    "mem_gapdh_sf = (adata[:, 'GAPDH'].X.todense().A1+1)/( adata[:, 'GAPDH'].X.todense().A1+1).mean()\n",
    "mem_total_sf = adata.obs['memento_size_factor']/adata.obs['memento_size_factor'].mean()\n",
    "adata.obs['memento_size_factor'] = 1\n",
    "\n",
    "memento.create_groups(adata, label_columns=['group'])\n",
    "memento.compute_1d_moments(adata, filter_genes=True)\n",
    "\n",
    "dropseq_m, dropseq_v, _ = adata.uns['memento']['1d_moments']['sg^A']\n",
    "dropseq_fano = dropseq_v/dropseq_m**2\n",
    "\n",
    "naive_sf = dropseq.sum(axis=1).values/adata.X.sum(axis=1).mean()\n",
    "naive_sf = 1# adata.obs['memento_size_factor'].values\n",
    "\n",
    "normalized_dropseq = adata.X.toarray()/naive_sf\n",
    "naive_m, naive_v = normalized_dropseq.mean(axis=0), normalized_dropseq.var(axis=0)\n",
    "naive_fano = naive_v/naive_m**2"
   ]
  },
  {
   "cell_type": "code",
   "execution_count": 54,
   "id": "e4c691d5-4484-43fa-9276-61879eef725a",
   "metadata": {
    "tags": []
   },
   "outputs": [
    {
     "data": {
      "text/plain": [
       "array([0.10473052, 0.02024006, 0.15403624, 0.19075076, 1.01718051,\n",
       "       0.26359143, 1.44739939, 0.07166392, 0.31925159, 0.07554719,\n",
       "       0.59672864, 0.03612615, 0.05954342])"
      ]
     },
     "execution_count": 54,
     "metadata": {},
     "output_type": "execute_result"
    }
   ],
   "source": [
    "naive_m"
   ]
  },
  {
   "cell_type": "code",
   "execution_count": 56,
   "id": "8435e41c-7bd6-4133-a14c-557d8fc3ccc4",
   "metadata": {
    "tags": []
   },
   "outputs": [
    {
     "data": {
      "text/plain": [
       "array([0.10473052, 0.02024006, 0.15403624, 0.19075076, 1.01718051,\n",
       "       0.26359143, 1.44739939, 0.07166392, 0.31925159, 0.07554719,\n",
       "       0.59672864, 0.03612615, 0.05954342])"
      ]
     },
     "execution_count": 56,
     "metadata": {},
     "output_type": "execute_result"
    }
   ],
   "source": [
    "dropseq_m"
   ]
  },
  {
   "cell_type": "code",
   "execution_count": 44,
   "id": "a1cd99a2",
   "metadata": {
    "tags": []
   },
   "outputs": [
    {
     "data": {
      "text/plain": [
       "[<matplotlib.lines.Line2D at 0x7fbcd1953290>]"
      ]
     },
     "execution_count": 44,
     "metadata": {},
     "output_type": "execute_result"
    },
    {
     "data": {
      "image/png": "[encoded data removed]",
      "text/plain": [
       "<Figure size 640x480 with 1 Axes>"
      ]
     },
     "metadata": {},
     "output_type": "display_data"
    }
   ],
   "source": [
    "plt.scatter(np.log(dropseq_v), np.log(naive_v))\n",
    "plt.plot(np.log(dropseq_v),np.log(dropseq_v))"
   ]
  },
  {
   "cell_type": "markdown",
   "id": "e835e2ae",
   "metadata": {},
   "source": [
    "### Compute fish mean and variance"
   ]
  },
  {
   "cell_type": "code",
   "execution_count": 45,
   "id": "6bcab99c",
   "metadata": {
    "tags": []
   },
   "outputs": [],
   "source": [
    "keep_genes = smfish.columns.tolist()\n",
    "overlap_genes = list(set(adata.var.index) & set(keep_genes))\n",
    "overlap_genes.remove('GAPDH')\n",
    "overlap_gene_idxs = np.array([adata.var.index.tolist().index(g) for g in overlap_genes])\n",
    "\n",
    "dropseq_m, dropseq_v, naive_m, naive_v = dropseq_m[overlap_gene_idxs], dropseq_v[overlap_gene_idxs], naive_m[overlap_gene_idxs], naive_v[overlap_gene_idxs]\n",
    "dropseq_fano, naive_fano = dropseq_fano[overlap_gene_idxs], naive_fano[overlap_gene_idxs]\n",
    "\n",
    "filtered_smfish = smfish_normalized[overlap_genes]\n",
    "\n",
    "means = np.nanmean(filtered_smfish, axis=0)\n",
    "variances = np.nanvar(filtered_smfish, axis=0)\n",
    "corrs = filtered_smfish.corr()\n",
    "covs = filtered_smfish.cov()\n",
    "fanos = variances/means**2\n",
    "\n",
    "naive_corr = np.corrcoef(normalized_dropseq[:, overlap_gene_idxs], rowvar=False)\n",
    "naive_cov = np.cov(normalized_dropseq[:, overlap_gene_idxs], rowvar=False)\n"
   ]
  },
  {
   "cell_type": "markdown",
   "id": "94cdf81d",
   "metadata": {},
   "source": [
    "### Make comparison for mean and variability"
   ]
  },
  {
   "cell_type": "code",
   "execution_count": 46,
   "id": "6fa36b71",
   "metadata": {
    "tags": []
   },
   "outputs": [],
   "source": [
    "# filtered_saver = normalized_saver_estimates[overlap_genes]"
   ]
  },
  {
   "cell_type": "code",
   "execution_count": 47,
   "id": "5286b6a9",
   "metadata": {
    "tags": []
   },
   "outputs": [],
   "source": [
    "# saver_m = np.nanmean(filtered_saver, axis=0)\n",
    "# saver_v = np.nanvar(filtered_saver, axis=0)\n",
    "# saver_fano = saver_v/saver_m**2\n",
    "\n",
    "# a, b, _, _, _= stats.linregress(np.log(saver_m), np.log(saver_v))\n",
    "# naive_rv = np.log(saver_v)-(np.log(saver_m)*a+b)"
   ]
  },
  {
   "cell_type": "code",
   "execution_count": 48,
   "id": "602e0b8f",
   "metadata": {
    "tags": []
   },
   "outputs": [],
   "source": [
    "n_umi = adata.obs['memento_size_factor'].mean()"
   ]
  },
  {
   "cell_type": "code",
   "execution_count": 49,
   "id": "c9b8e04b",
   "metadata": {
    "tags": []
   },
   "outputs": [
    {
     "data": {
      "image/png": "[encoded data removed]",
      "text/plain": [
       "<Figure size 800x150 with 3 Axes>"
      ]
     },
     "metadata": {},
     "output_type": "display_data"
    }
   ],
   "source": [
    "plt.figure(figsize=(8,1.5))\n",
    "plt.subplots_adjust(wspace=0.7)\n",
    "\n",
    "plt.subplot(1,3,1)\n",
    "plt.scatter(np.log(means), np.log(naive_m/q))\n",
    "plt.plot([-1, 4],[-1, 4], '--', color='k')\n",
    "plt.xlabel('fish mean'); plt.ylabel('naive mean')\n",
    "plt.title('CCC = '+str.format('{0:.2f}', stats.spearmanr(np.log(means), np.log(naive_m/q))[0]))\n",
    "\n",
    "plt.subplot(1,3,2)\n",
    "# plt.scatter(np.log(means), np.log(saver_m/q))\n",
    "plt.plot([-1, 4],[-1, 4], '--', color='k')\n",
    "plt.xlabel('fish mean'); plt.ylabel('saver mean')\n",
    "# print('saver', stats.pearsonr(fish_corr_array[selected_pairs], saver_corrs[selected_pairs])[0])\n",
    "# plt.title('CCC = '+str.format('{0:.2f}', stats.spearmanr(np.log(means), np.log(saver_m/q))[0]))\n",
    "\n",
    "plt.subplot(1,3,3)\n",
    "plt.scatter(np.log(means), np.log(dropseq_m))\n",
    "plt.plot([-1, 4],[-1, 4], '--', color='k')\n",
    "plt.xlabel('fish mean'); plt.ylabel('memento fmean')\n",
    "plt.title('CCC = '+str.format('{0:.2f}', stats.spearmanr(np.log(means), np.log(dropseq_m))[0]))\n",
    "\n",
    "plt.savefig('mean_comparisons.png', dpi=300)"
   ]
  },
  {
   "cell_type": "code",
   "execution_count": 50,
   "id": "5833b910",
   "metadata": {
    "tags": []
   },
   "outputs": [
    {
     "data": {
      "image/png": "[encoded data removed]",
      "text/plain": [
       "<Figure size 270x250 with 1 Axes>"
      ]
     },
     "metadata": {},
     "output_type": "display_data"
    }
   ],
   "source": [
    "plt.figure(figsize=(2.7,2.5))\n",
    "plt.scatter(np.log(means), np.log(dropseq_m), s=40, color='turquoise')\n",
    "# plt.xlabel('smFISH log(CV)'); plt.ylabel('Dropseq log(CV)');\n",
    "plt.savefig('mean_comparisons.pdf', bbox_inches='tight')"
   ]
  },
  {
   "cell_type": "code",
   "execution_count": 51,
   "id": "dc217f5f-c259-4f20-9caa-f8d6a7e316e6",
   "metadata": {
    "tags": []
   },
   "outputs": [
    {
     "data": {
      "text/plain": [
       "array([3.69017110e-01, 8.42979079e-04, 5.34424679e-04, 1.90396765e+00,\n",
       "       5.82872434e-01, 1.76244017e-04, 5.69889471e-02, 9.64586155e-05,\n",
       "       1.66705055e-01, 2.55242015e-02, 1.09526870e+00, 1.00665126e-02,\n",
       "       7.77691830e-05])"
      ]
     },
     "execution_count": 51,
     "metadata": {},
     "output_type": "execute_result"
    }
   ],
   "source": [
    "variances"
   ]
  },
  {
   "cell_type": "code",
   "execution_count": 52,
   "id": "3c15b36c-3f87-4ca6-9c1f-bc693b6916da",
   "metadata": {
    "tags": []
   },
   "outputs": [
    {
     "data": {
      "text/plain": [
       "Text(0.5, 1.0, 'CCC = 0.43')"
      ]
     },
     "execution_count": 52,
     "metadata": {},
     "output_type": "execute_result"
    },
    {
     "data": {
      "image/png": "[encoded data removed]",
      "text/plain": [
       "<Figure size 800x150 with 3 Axes>"
      ]
     },
     "metadata": {},
     "output_type": "display_data"
    }
   ],
   "source": [
    "plt.figure(figsize=(8,1.5))\n",
    "plt.subplots_adjust(wspace=0.7)\n",
    "\n",
    "plt.subplot(1,3,1)\n",
    "plt.scatter(np.log(variances), np.log(naive_v))\n",
    "plt.xlabel('fish CV'); plt.ylabel('naive CV')\n",
    "plt.title('CCC = '+str.format('{0:.2f}', stats.pearsonr(np.log(variances), np.log(naive_v))[0]))\n",
    "\n",
    "plt.subplot(1,3,2)\n",
    "# plt.scatter(np.log(fanos), np.log(saver_fano))\n",
    "plt.xlabel('fish CV'); plt.ylabel('saver CV')\n",
    "# print('saver', stats.pearsonr(fish_corr_array[selected_pairs], saver_corrs[selected_pairs])[0])\n",
    "# plt.title('CCC = '+str.format('{0:.2f}', stats.pearsonr(np.log(fanos), np.log(saver_fano))[0]))\n",
    "\n",
    "plt.subplot(1,3,3)\n",
    "plt.scatter(np.log(variances), np.log(dropseq_v))\n",
    "plt.xlabel('fish CV'); plt.ylabel('memento CV')\n",
    "plt.title('CCC = '+str.format('{0:.2f}', stats.pearsonr(np.log(variances), np.log(dropseq_v))[0]))\n",
    "\n",
    "# plt.savefig('variability_comparisons.png', dpi=300)"
   ]
  },
  {
   "cell_type": "code",
   "execution_count": 53,
   "id": "4726f775",
   "metadata": {
    "tags": []
   },
   "outputs": [
    {
     "data": {
      "text/plain": [
       "Text(0.5, 1.0, 'CCC = 0.67')"
      ]
     },
     "execution_count": 53,
     "metadata": {},
     "output_type": "execute_result"
    },
    {
     "data": {
      "image/png": "[encoded data removed]",
      "text/plain": [
       "<Figure size 800x150 with 3 Axes>"
      ]
     },
     "metadata": {},
     "output_type": "display_data"
    }
   ],
   "source": [
    "plt.figure(figsize=(8,1.5))\n",
    "plt.subplots_adjust(wspace=0.7)\n",
    "\n",
    "plt.subplot(1,3,1)\n",
    "plt.scatter(np.log(fanos), np.log(naive_fano))\n",
    "plt.xlabel('fish CV'); plt.ylabel('naive CV')\n",
    "plt.title('CCC = '+str.format('{0:.2f}', stats.pearsonr(np.log(fanos), np.log(naive_fano))[0]))\n",
    "\n",
    "plt.subplot(1,3,2)\n",
    "# plt.scatter(np.log(fanos), np.log(saver_fano))\n",
    "plt.xlabel('fish CV'); plt.ylabel('saver CV')\n",
    "# print('saver', stats.pearsonr(fish_corr_array[selected_pairs], saver_corrs[selected_pairs])[0])\n",
    "# plt.title('CCC = '+str.format('{0:.2f}', stats.pearsonr(np.log(fanos), np.log(saver_fano))[0]))\n",
    "\n",
    "plt.subplot(1,3,3)\n",
    "plt.scatter(np.log(fanos), np.log(dropseq_fano))\n",
    "plt.xlabel('fish CV'); plt.ylabel('memento CV')\n",
    "plt.title('CCC = '+str.format('{0:.2f}', stats.pearsonr(np.log(fanos), np.log(dropseq_fano))[0]))\n",
    "\n",
    "# plt.savefig('variability_comparisons.png', dpi=300)"
   ]
  },
  {
   "cell_type": "code",
   "execution_count": null,
   "id": "8ab0e8ad",
   "metadata": {
    "tags": []
   },
   "outputs": [],
   "source": [
    "result_path = '/data_volume/memento/saver/'"
   ]
  },
  {
   "cell_type": "code",
   "execution_count": null,
   "id": "0d6ecd73",
   "metadata": {
    "tags": []
   },
   "outputs": [],
   "source": [
    "mean = pd.read_csv(result_path + 'dropseq_BASiCS_mu.csv'.format(q)).mean(axis=0)\n",
    "delta = pd.read_csv(result_path + 'dropseq_BASiCS_delta.csv'.format(q)).mean(axis=0)\n",
    "v_basics = mean+delta*mean**2\n",
    "m_basics = mean\n",
    "fano_basics = v_basics/m_basics**2\n",
    "\n",
    "# scaling = (/m_basics)\n",
    "# m_basics = m_basics*scaling\n",
    "# v_basics = v_basics*scaling**2\n"
   ]
  },
  {
   "cell_type": "code",
   "execution_count": null,
   "id": "5e1d1a44",
   "metadata": {
    "tags": []
   },
   "outputs": [],
   "source": [
    "print('memento', stats.pearsonr(np.log(fanos), np.log(dropseq_fano))[0])\n",
    "print('naive', stats.pearsonr(np.log(fanos), np.log(naive_fano))[0])\n",
    "print('basics', stats.pearsonr(np.log(fanos), np.log(fano_basics[overlap_genes]))[0])"
   ]
  },
  {
   "cell_type": "code",
   "execution_count": 135,
   "id": "8e903fe4",
   "metadata": {},
   "outputs": [
    {
     "data": {
      "image/png": "[encoded data removed]",
      "text/plain": [
       "<Figure size 194.4x180 with 1 Axes>"
      ]
     },
     "metadata": {
      "needs_background": "light"
     },
     "output_type": "display_data"
    }
   ],
   "source": [
    "plt.figure(figsize=(2.7,2.5))\n",
    "plt.scatter(np.log(fanos), np.log(naive_fano), s=40, color='silver')\n",
    "plt.scatter(np.log(fanos), np.log(fano_basics[overlap_genes]), s=40, color='dimgrey')\n",
    "plt.scatter(np.log(fanos), np.log(dropseq_fano), s=40, color='turquoise')\n",
    "\n",
    "# plt.xlabel('smFISH log(CV)'); plt.ylabel('Dropseq log(CV)');\n",
    "plt.savefig('variability_comparisons.pdf', bbox_inches='tight')"
   ]
  },
  {
   "cell_type": "markdown",
   "id": "3e33cbdb",
   "metadata": {},
   "source": [
    "### Make comparison for correlations"
   ]
  },
  {
   "cell_type": "code",
   "execution_count": 82,
   "id": "a4d54c0a",
   "metadata": {},
   "outputs": [],
   "source": [
    "saver_corrs = saver_corrs_all.loc[overlap_genes, overlap_genes].values.reshape(-1)"
   ]
  },
  {
   "cell_type": "code",
   "execution_count": 83,
   "id": "1df91486",
   "metadata": {},
   "outputs": [],
   "source": [
    "memento.compute_2d_moments(adata, gene_pairs=list(itertools.product(overlap_genes, overlap_genes)))"
   ]
  },
  {
   "cell_type": "code",
   "execution_count": 84,
   "id": "c122cde5",
   "metadata": {},
   "outputs": [],
   "source": [
    "memento_corr_array = adata.uns['memento']['2d_moments']['sg^A']['corr']\n",
    "memento_cov_array = adata.uns['memento']['2d_moments']['sg^A']['cov']"
   ]
  },
  {
   "cell_type": "code",
   "execution_count": 85,
   "id": "460d0414",
   "metadata": {},
   "outputs": [],
   "source": [
    "fish_corr_array = np.array([corrs.loc[x,y] for x,y in itertools.product(overlap_genes, overlap_genes)])\n",
    "fish_cov_array = np.array([covs.loc[x,y] for x,y in itertools.product(overlap_genes, overlap_genes)])"
   ]
  },
  {
   "cell_type": "code",
   "execution_count": 86,
   "id": "53a45ca5",
   "metadata": {},
   "outputs": [],
   "source": [
    "selected_pairs = ~np.isnan(fish_corr_array) & (fish_corr_array!=1)"
   ]
  },
  {
   "cell_type": "code",
   "execution_count": 87,
   "id": "8cc5cb50",
   "metadata": {},
   "outputs": [],
   "source": [
    "import matplotlib as mpl\n",
    "\n",
    "mpl.rcParams['pdf.fonttype'] = 42\n",
    "mpl.rcParams['ps.fonttype'] = 42\n",
    "\n",
    "import matplotlib.pylab as pylab\n",
    "params = {'legend.fontsize': 'medium',\n",
    "         'axes.labelsize': 'large',\n",
    "         'axes.titlesize':'medium',\n",
    "         'figure.titlesize':'medium',\n",
    "         'xtick.labelsize':'small',\n",
    "         'ytick.labelsize':'small'}\n",
    "pylab.rcParams.update(params)\n"
   ]
  },
  {
   "cell_type": "code",
   "execution_count": 88,
   "id": "4e2cdbb4",
   "metadata": {},
   "outputs": [
    {
     "data": {
      "image/png": "[encoded data removed]",
      "text/plain": [
       "<Figure size 576x108 with 3 Axes>"
      ]
     },
     "metadata": {
      "needs_background": "light"
     },
     "output_type": "display_data"
    }
   ],
   "source": [
    "plt.figure(figsize=(8,1.5))\n",
    "plt.subplots_adjust(wspace=0.7)\n",
    "\n",
    "plt.subplot(1,3,1)\n",
    "plt.scatter(fish_corr_array[selected_pairs], naive_corr.reshape(-1)[selected_pairs], s=7)\n",
    "plt.xlabel('fish corr'); plt.ylabel('naive corr')\n",
    "# print('naive', stats.pearsonr(fish_corr_array[selected_pairs], naive_corr.reshape(-1)[selected_pairs])[0])\n",
    "plt.title('R = '+str(concordance(fish_corr_array[selected_pairs], naive_corr.reshape(-1)[selected_pairs])))\n",
    "plt.title('R = '+str.format('{0:.2f}', stats.pearsonr(fish_corr_array[selected_pairs], naive_corr.reshape(-1)[selected_pairs])[0]))\n",
    "\n",
    "\n",
    "\n",
    "plt.subplot(1,3,2)\n",
    "plt.scatter(fish_corr_array[selected_pairs], saver_corrs[selected_pairs], s=7)\n",
    "plt.xlabel('fish corr'); plt.ylabel('saver corr')\n",
    "# print('saver', stats.pearsonr(fish_corr_array[selected_pairs], saver_corrs[selected_pairs])[0])\n",
    "plt.title('R = '+str(concordance(fish_corr_array[selected_pairs], saver_corrs[selected_pairs])))\n",
    "plt.title('R = '+str.format('{0:.2f}', stats.pearsonr(fish_corr_array[selected_pairs], saver_corrs[selected_pairs])[0]))\n",
    "\n",
    "plt.subplot(1,3,3)\n",
    "plt.scatter(fish_corr_array[selected_pairs], memento_corr_array[selected_pairs], s=7)\n",
    "plt.xlabel('fish corr'); plt.ylabel('memento corr')\n",
    "# print('memento', stats.pearsonr(fish_corr_array[selected_pairs], memento_corr_array[selected_pairs])[0])\n",
    "plt.title('R = '+str.format('{0:.2f}', stats.pearsonr(fish_corr_array[selected_pairs], memento_corr_array[selected_pairs])[0]))\n",
    "\n",
    "plt.savefig('coex_comparisons.png', dpi=300)"
   ]
  },
  {
   "cell_type": "code",
   "execution_count": 104,
   "id": "4da01719",
   "metadata": {},
   "outputs": [
    {
     "data": {
      "text/plain": [
       "0.7909050220217199"
      ]
     },
     "execution_count": 104,
     "metadata": {},
     "output_type": "execute_result"
    }
   ],
   "source": [
    "stats.pearsonr(fish_corr_array[selected_pairs], memento_corr_array[selected_pairs])[0]"
   ]
  },
  {
   "cell_type": "code",
   "execution_count": 119,
   "id": "ba265087",
   "metadata": {},
   "outputs": [
    {
     "data": {
      "image/png": "[encoded data removed]",
      "text/plain": [
       "<Figure size 194.4x180 with 1 Axes>"
      ]
     },
     "metadata": {
      "needs_background": "light"
     },
     "output_type": "display_data"
    }
   ],
   "source": [
    "plt.figure(figsize=(2.7,2.5))\n",
    "plt.scatter(fish_corr_array[selected_pairs], naive_corr.reshape(-1)[selected_pairs], s=40, color='silver')\n",
    "plt.scatter(fish_corr_array[selected_pairs], memento_corr_array[selected_pairs], s=40, color='turquoise')\n",
    "# plt.xlabel('smFISH corr'); plt.ylabel('Dropseq corr');\n",
    "plt.savefig('correlation_comparisons.pdf', bbox_inches='tight')"
   ]
  },
  {
   "cell_type": "code",
   "execution_count": null,
   "id": "47b6e426",
   "metadata": {},
   "outputs": [],
   "source": []
  }
 ],
 "metadata": {
  "kernelspec": {
   "display_name": "mementocxg",
   "language": "python",
   "name": "myenv"
  },
  "language_info": {
   "codemirror_mode": {
    "name": "ipython",
    "version": 3
   },
   "file_extension": ".py",
   "mimetype": "text/x-python",
   "name": "python",
   "nbconvert_exporter": "python",
   "pygments_lexer": "ipython3",
   "version": "3.11.5"
  }
 },
 "nbformat": 4,
 "nbformat_minor": 5
}
