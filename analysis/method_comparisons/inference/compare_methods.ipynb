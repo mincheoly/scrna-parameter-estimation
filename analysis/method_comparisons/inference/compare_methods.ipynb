{
 "cells": [
  {
   "cell_type": "markdown",
   "id": "f4223fca",
   "metadata": {},
   "source": [
    "# Method comparisons for inference"
   ]
  },
  {
   "cell_type": "code",
   "execution_count": 236,
   "id": "7701742d",
   "metadata": {},
   "outputs": [
    {
     "name": "stderr",
     "output_type": "stream",
     "text": [
      "/tmp/ipykernel_17038/1431029290.py:13: FutureWarning: Passing a negative integer is deprecated in version 1.0 and will not be supported in future version. Instead, use None to not limit the column width.\n",
      "  pd.set_option('display.max_colwidth', -1)\n"
     ]
    }
   ],
   "source": [
    "import pandas as pd\n",
    "import matplotlib.pyplot as plt\n",
    "import scanpy as sc\n",
    "import scipy as sp\n",
    "import itertools\n",
    "import numpy as np\n",
    "import scipy.stats as stats\n",
    "from scipy.integrate import dblquad\n",
    "import seaborn as sns\n",
    "from statsmodels.stats.multitest import fdrcorrection\n",
    "import imp\n",
    "pd.options.display.max_rows = 999\n",
    "pd.set_option('display.max_colwidth', -1)\n",
    "import pickle as pkl\n",
    "import time\n",
    "import string\n",
    "from sklearn.datasets import make_spd_matrix\n",
    "from sklearn.metrics import roc_curve, precision_recall_curve"
   ]
  },
  {
   "cell_type": "code",
   "execution_count": 237,
   "id": "ebcf9f14",
   "metadata": {},
   "outputs": [],
   "source": [
    "import sys\n",
    "sys.path.append('/home/ssm-user/Github/scrna-parameter-estimation/dist/memento-0.0.9-py3.8.egg')\n",
    "import memento\n",
    "import memento.simulate as simulate"
   ]
  },
  {
   "cell_type": "code",
   "execution_count": 238,
   "id": "9490e85d",
   "metadata": {},
   "outputs": [],
   "source": [
    "data_path = '/data_volume/memento/simulation/inference/'"
   ]
  },
  {
   "cell_type": "markdown",
   "id": "cbc1ba16",
   "metadata": {},
   "source": [
    "### DE"
   ]
  },
  {
   "cell_type": "code",
   "execution_count": 239,
   "id": "927c9e38",
   "metadata": {},
   "outputs": [],
   "source": [
    "de_norm_adata = sc.read(data_path + 'de_filtered_norm.h5ad')"
   ]
  },
  {
   "cell_type": "code",
   "execution_count": 240,
   "id": "9c43af98",
   "metadata": {},
   "outputs": [
    {
     "name": "stderr",
     "output_type": "stream",
     "text": [
      "/home/ssm-user/anaconda3/envs/single_cell/lib/python3.8/site-packages/anndata/_core/anndata.py:1095: FutureWarning: The `inplace` parameter in pandas.Categorical.remove_unused_categories is deprecated and will be removed in a future version.\n",
      "  df_sub[k].cat.remove_unused_categories(inplace=True)\n"
     ]
    }
   ],
   "source": [
    "A_data, B_data = de_norm_adata[de_norm_adata.obs['ct_real'] == 'A'].X, de_norm_adata[de_norm_adata.obs['ct_real'] == 'B'].X\n",
    "A_data_shuffled, B_data_shuffled = de_norm_adata[de_norm_adata.obs['ct_shuffled'] == 'A'].X.toarray(), de_norm_adata[de_norm_adata.obs['ct_shuffled'] == 'B'].X.toarray()"
   ]
  },
  {
   "cell_type": "code",
   "execution_count": 241,
   "id": "d017ff21",
   "metadata": {},
   "outputs": [],
   "source": [
    "result = pd.read_csv(data_path + 'memento_de.csv')\n",
    "# shuffled_result = pd.read_csv(data_path + 'memento_de_shuffled.csv')\n",
    "_, result['ttest'] = stats.ttest_ind(A_data, B_data, equal_var=False)\n",
    "result['mwu'] = np.array([stats.ranksums(A_data[:, i], B_data[:,i])[1] for i in range(A_data.shape[1])])\n",
    "_, result['ttest_shuffled'] = stats.ttest_ind(A_data_shuffled, B_data_shuffled, equal_var=False)\n",
    "result['mwu_shuffled']  = np.array([stats.ranksums(A_data_shuffled[:, i], B_data_shuffled[:,i])[1] for i in range(A_data.shape[1])])"
   ]
  },
  {
   "cell_type": "code",
   "execution_count": 242,
   "id": "cf31a72e",
   "metadata": {},
   "outputs": [],
   "source": [
    "result['null'] = de_norm_adata.var['is_null'].values\n"
   ]
  },
  {
   "cell_type": "code",
   "execution_count": 243,
   "id": "6e0c8985",
   "metadata": {},
   "outputs": [],
   "source": [
    "result['ttest_fdr'] = memento.util._fdrcorrect(result['ttest'])\n",
    "result['memento_fdr'] = memento.util._fdrcorrect(result['de_pval'])"
   ]
  },
  {
   "cell_type": "code",
   "execution_count": 244,
   "id": "6ef2aa78",
   "metadata": {},
   "outputs": [
    {
     "data": {
      "text/plain": [
       "(array([ 821.,  685.,  705.,  734.,  661.,  826.,  757.,  622.,  543.,\n",
       "        1151.]),\n",
       " array([7.66719791e-99, 9.99859682e-02, 1.99971936e-01, 2.99957905e-01,\n",
       "        3.99943873e-01, 4.99929841e-01, 5.99915809e-01, 6.99901777e-01,\n",
       "        7.99887746e-01, 8.99873714e-01, 9.99859682e-01]),\n",
       " <BarContainer object of 10 artists>)"
      ]
     },
     "execution_count": 244,
     "metadata": {},
     "output_type": "execute_result"
    },
    {
     "data": {
      "image/png": "[encoded data removed]",
      "text/plain": [
       "<Figure size 432x288 with 1 Axes>"
      ]
     },
     "metadata": {
      "needs_background": "light"
     },
     "output_type": "display_data"
    }
   ],
   "source": [
    "plt.hist(result['ttest'])"
   ]
  },
  {
   "cell_type": "code",
   "execution_count": 245,
   "id": "1925dd41",
   "metadata": {},
   "outputs": [
    {
     "data": {
      "text/plain": [
       "(array([ 960.,  818.,  890.,  605.,  656., 1159.,  559.,  623.,  844.,\n",
       "         391.]),\n",
       " array([5.00782092e-08, 1.00000045e-01, 2.00000040e-01, 3.00000035e-01,\n",
       "        4.00000030e-01, 5.00000025e-01, 6.00000020e-01, 7.00000015e-01,\n",
       "        8.00000010e-01, 9.00000005e-01, 1.00000000e+00]),\n",
       " <BarContainer object of 10 artists>)"
      ]
     },
     "execution_count": 245,
     "metadata": {},
     "output_type": "execute_result"
    },
    {
     "data": {
      "image/png": "[encoded data removed]",
      "text/plain": [
       "<Figure size 432x288 with 1 Axes>"
      ]
     },
     "metadata": {
      "needs_background": "light"
     },
     "output_type": "display_data"
    }
   ],
   "source": [
    "plt.hist(result['de_pval'])"
   ]
  },
  {
   "cell_type": "code",
   "execution_count": 246,
   "id": "fc556a8e",
   "metadata": {},
   "outputs": [
    {
     "data": {
      "text/plain": [
       "(7505, 15)"
      ]
     },
     "execution_count": 246,
     "metadata": {},
     "output_type": "execute_result"
    }
   ],
   "source": [
    "result.shape"
   ]
  },
  {
   "cell_type": "code",
   "execution_count": 247,
   "id": "647090a9",
   "metadata": {},
   "outputs": [],
   "source": [
    "# for thresh in np.linspace(0.1, 0.9, 10):\n",
    "    \n",
    "#     print('ttest', thresh, (1-result.query('ttest_fdr < {}'.format(thresh)).de.mean()))\n",
    "#     print('mem', thresh, (1-result.query('memento_fdr < {}'.format(thresh)).de.mean()))\n"
   ]
  },
  {
   "cell_type": "code",
   "execution_count": 265,
   "id": "00ed6b18",
   "metadata": {},
   "outputs": [
    {
     "data": {
      "text/plain": [
       "Text(0.5, 1.0, 'AUC curve (Differential mean)')"
      ]
     },
     "execution_count": 265,
     "metadata": {},
     "output_type": "execute_result"
    },
    {
     "data": {
      "image/png": "[encoded data removed]",
      "text/plain": [
       "<Figure size 432x288 with 1 Axes>"
      ]
     },
     "metadata": {
      "needs_background": "light"
     },
     "output_type": "display_data"
    }
   ],
   "source": [
    "for col in ['de_pval', 'ttest', 'mwu']:\n",
    "    \n",
    "    fpr, tpr, t = roc_curve(result['null'], result[col])\n",
    "    if col != 'mwu':\n",
    "        plt.plot(fpr[t< 0.5], tpr[t < 0.5], label=col)\n",
    "    else:\n",
    "        plt.plot(fpr[t< 0.8], tpr[t < 0.8], label=col)\n",
    "    \n",
    "plt.legend(['memento', 'T-test', 'MWU'])\n",
    "plt.xlabel('False positive rate')\n",
    "plt.ylabel('True positive rate')\n",
    "plt.title('AUC curve (Differential mean)')"
   ]
  },
  {
   "cell_type": "code",
   "execution_count": 266,
   "id": "083352c5",
   "metadata": {},
   "outputs": [
    {
     "data": {
      "text/plain": [
       "Text(0, 0.5, 'Precision')"
      ]
     },
     "execution_count": 266,
     "metadata": {},
     "output_type": "execute_result"
    },
    {
     "data": {
      "image/png": "[encoded data removed]",
      "text/plain": [
       "<Figure size 432x288 with 1 Axes>"
      ]
     },
     "metadata": {
      "needs_background": "light"
     },
     "output_type": "display_data"
    }
   ],
   "source": [
    "for col in ['de_pval', 'ttest', 'mwu']:\n",
    "    \n",
    "    precision, recall, t = precision_recall_curve(result['null'], result[col])\n",
    "    plt.plot(recall[1:][t < 0.9], precision[1:][t < 0.9], label=col)\n",
    "    \n",
    "plt.legend()\n",
    "plt.title('DE PR curve')\n",
    "plt.xlabel('Recall'); plt.ylabel('Precision')"
   ]
  },
  {
   "cell_type": "code",
   "execution_count": 269,
   "id": "65134f90",
   "metadata": {},
   "outputs": [],
   "source": [
    "def compute_auc_curve(real, shuffled):\n",
    "    num_thresh = 100\n",
    "    ts = np.linspace(0.01, 1, num_thresh)\n",
    "    tpr = np.zeros(num_thresh)\n",
    "    fpr = np.zeros(num_thresh)\n",
    "    \n",
    "    for idx, t in enumerate(ts):\n",
    "        \n",
    "        tpr[idx] = (real < t).mean()\n",
    "        fpr[idx] = (shuffled < t).mean()\n",
    "    return tpr, fpr, ts"
   ]
  },
  {
   "cell_type": "code",
   "execution_count": 270,
   "id": "e8883e0d",
   "metadata": {},
   "outputs": [],
   "source": [
    "mem_tpr, mem_fpr, ts = compute_auc_curve(result.query('gene < 300').de_pval.values, shuffled_result.de_pval.values)\n",
    "t_tpr, t_fpr, _ = compute_auc_curve(result.query('gene < 300').ttest.values, result.ttest_shuffled.values)"
   ]
  },
  {
   "cell_type": "code",
   "execution_count": 271,
   "id": "540924bb",
   "metadata": {},
   "outputs": [
    {
     "data": {
      "text/plain": [
       "[<matplotlib.lines.Line2D at 0x7f13ce06df10>]"
      ]
     },
     "execution_count": 271,
     "metadata": {},
     "output_type": "execute_result"
    },
    {
     "data": {
      "image/png": "[encoded data removed]",
      "text/plain": [
       "<Figure size 432x288 with 1 Axes>"
      ]
     },
     "metadata": {
      "needs_background": "light"
     },
     "output_type": "display_data"
    }
   ],
   "source": [
    "plt.plot(mem_fpr, mem_tpr, '-o', ms=1)\n",
    "plt.plot(t_fpr, t_tpr, '-o', ms=1)"
   ]
  },
  {
   "cell_type": "code",
   "execution_count": null,
   "id": "f5bfca8b",
   "metadata": {},
   "outputs": [],
   "source": []
  },
  {
   "cell_type": "code",
   "execution_count": 273,
   "id": "d677fade",
   "metadata": {},
   "outputs": [
    {
     "data": {
      "text/plain": [
       "0.5208333333333334"
      ]
     },
     "execution_count": 273,
     "metadata": {},
     "output_type": "execute_result"
    }
   ],
   "source": [
    "(result.query('gene < 300')['de_pval'] < 0.05).mean()"
   ]
  },
  {
   "cell_type": "code",
   "execution_count": 274,
   "id": "9da160fb",
   "metadata": {},
   "outputs": [
    {
     "data": {
      "text/plain": [
       "0.23333333333333334"
      ]
     },
     "execution_count": 274,
     "metadata": {},
     "output_type": "execute_result"
    }
   ],
   "source": [
    "(result.query('gene < 300')['mwu'] < 0.05).mean()"
   ]
  },
  {
   "cell_type": "code",
   "execution_count": 275,
   "id": "7c0649ed",
   "metadata": {},
   "outputs": [
    {
     "data": {
      "text/plain": [
       "0.5458333333333333"
      ]
     },
     "execution_count": 275,
     "metadata": {},
     "output_type": "execute_result"
    }
   ],
   "source": [
    "(result.query('gene < 300')['ttest'] < 0.05).mean()"
   ]
  },
  {
   "cell_type": "code",
   "execution_count": 276,
   "id": "b91d3037",
   "metadata": {},
   "outputs": [
    {
     "data": {
      "text/plain": [
       "0.10011982425775529"
      ]
     },
     "execution_count": 276,
     "metadata": {},
     "output_type": "execute_result"
    }
   ],
   "source": [
    "(result['ttest_shuffled'] < 0.1).mean()"
   ]
  },
  {
   "cell_type": "code",
   "execution_count": 151,
   "id": "88c07245",
   "metadata": {},
   "outputs": [
    {
     "data": {
      "text/plain": [
       "(array([0.24571369, 0.42999895, 0.5528558 , 0.85385507, 1.08114023,\n",
       "        1.13028297, 1.27771118, 1.48042497, 1.48042497, 1.48656782]),\n",
       " array([0.00128241, 0.10109301, 0.20090361, 0.30071421, 0.40052482,\n",
       "        0.50033542, 0.60014602, 0.69995663, 0.79976723, 0.89957783,\n",
       "        0.99938843]),\n",
       " <BarContainer object of 10 artists>)"
      ]
     },
     "execution_count": 151,
     "metadata": {},
     "output_type": "execute_result"
    },
    {
     "data": {
      "image/png": "[encoded data removed]",
      "text/plain": [
       "<Figure size 432x288 with 1 Axes>"
      ]
     },
     "metadata": {
      "needs_background": "light"
     },
     "output_type": "display_data"
    }
   ],
   "source": [
    "plt.hist(result['mwu_shuffled'], density=True)"
   ]
  },
  {
   "cell_type": "code",
   "execution_count": 152,
   "id": "54cbd3ba",
   "metadata": {},
   "outputs": [
    {
     "data": {
      "text/plain": [
       "0.04598405885959534"
      ]
     },
     "execution_count": 152,
     "metadata": {},
     "output_type": "execute_result"
    }
   ],
   "source": [
    "(result['ttest_shuffled'] < 0.05).mean()"
   ]
  },
  {
   "cell_type": "code",
   "execution_count": 153,
   "id": "27036976",
   "metadata": {},
   "outputs": [
    {
     "data": {
      "text/plain": [
       "0.008583690987124463"
      ]
     },
     "execution_count": 153,
     "metadata": {},
     "output_type": "execute_result"
    }
   ],
   "source": [
    "(result['mwu_shuffled'] < 0.05).mean()"
   ]
  },
  {
   "cell_type": "markdown",
   "id": "b970818b",
   "metadata": {},
   "source": [
    "# t-test debugging \n"
   ]
  },
  {
   "cell_type": "code",
   "execution_count": 5,
   "id": "135d80a3",
   "metadata": {},
   "outputs": [],
   "source": [
    "def convert_params_nb(mu, theta):\n",
    "\t\"\"\"\n",
    "\tConvert mean/dispersion parameterization of a negative binomial to the ones scipy supports\n",
    "\n",
    "\tSee https://en.wikipedia.org/wiki/Negative_binomial_distribution#Alternative_formulations\n",
    "\t\"\"\"\n",
    "\tr = theta\n",
    "\tvar = mu + 1 / r * mu ** 2\n",
    "\tp = (var - mu) / var\n",
    "\treturn r, 1 - p"
   ]
  },
  {
   "cell_type": "code",
   "execution_count": 12,
   "id": "00581794",
   "metadata": {},
   "outputs": [],
   "source": [
    "mu1, mu2 = 0.5, 0.5\n",
    "theta1, theta2 = 0.01, 3\n",
    "\n",
    "ttest_pv = []\n",
    "mwu_pv = []\n",
    "perc_wins = []\n",
    "for trial in range(2000):\n",
    "    data1 = stats.nbinom.rvs(*convert_params_nb(mu1, theta1), size=150)\n",
    "    data2 = stats.nbinom.rvs(*convert_params_nb(mu2, theta2), size=150)\n",
    "    ttest_pv.append(stats.ttest_ind(data1, data2, equal_var=False)[1])\n",
    "    mwu_pv.append(stats.mannwhitneyu(data1, data2, alternative='less')[1])\n",
    "#     perc_wins.append((data2 > data1).mean())"
   ]
  },
  {
   "cell_type": "code",
   "execution_count": 13,
   "id": "85630f2b",
   "metadata": {},
   "outputs": [
    {
     "data": {
      "text/plain": [
       "(array([1.998e+03, 0.000e+00, 0.000e+00, 0.000e+00, 0.000e+00, 1.000e+00,\n",
       "        0.000e+00, 0.000e+00, 0.000e+00, 1.000e+00]),\n",
       " array([1.22033433e-20, 1.12098824e-05, 2.24197648e-05, 3.36296472e-05,\n",
       "        4.48395296e-05, 5.60494120e-05, 6.72592944e-05, 7.84691768e-05,\n",
       "        8.96790593e-05, 1.00888942e-04, 1.12098824e-04]),\n",
       " <BarContainer object of 10 artists>)"
      ]
     },
     "execution_count": 13,
     "metadata": {},
     "output_type": "execute_result"
    },
    {
     "data": {
      "image/png": "[encoded data removed]",
      "text/plain": [
       "<Figure size 432x288 with 1 Axes>"
      ]
     },
     "metadata": {
      "needs_background": "light"
     },
     "output_type": "display_data"
    }
   ],
   "source": [
    "plt.hist(mwu_pv, bins=10)"
   ]
  },
  {
   "cell_type": "code",
   "execution_count": 14,
   "id": "8917f85a",
   "metadata": {},
   "outputs": [
    {
     "data": {
      "text/plain": [
       "(array([556.,  82.,  53.,  44.,  68.,  88.,  90.,  87.,  82.,  85.,  91.,\n",
       "         75.,  97.,  64.,  70.,  73.,  71.,  86.,  74.,  64.]),\n",
       " array([9.15601275e-18, 5.00000000e-02, 1.00000000e-01, 1.50000000e-01,\n",
       "        2.00000000e-01, 2.50000000e-01, 3.00000000e-01, 3.50000000e-01,\n",
       "        4.00000000e-01, 4.50000000e-01, 5.00000000e-01, 5.50000000e-01,\n",
       "        6.00000000e-01, 6.50000000e-01, 7.00000000e-01, 7.50000000e-01,\n",
       "        8.00000000e-01, 8.50000000e-01, 9.00000000e-01, 9.50000000e-01,\n",
       "        1.00000000e+00]),\n",
       " <BarContainer object of 20 artists>)"
      ]
     },
     "execution_count": 14,
     "metadata": {},
     "output_type": "execute_result"
    },
    {
     "data": {
      "image/png": "[encoded data removed]",
      "text/plain": [
       "<Figure size 432x288 with 1 Axes>"
      ]
     },
     "metadata": {
      "needs_background": "light"
     },
     "output_type": "display_data"
    }
   ],
   "source": [
    "plt.hist(ttest_pv, bins=20)"
   ]
  },
  {
   "cell_type": "code",
   "execution_count": null,
   "id": "a7b27bde",
   "metadata": {},
   "outputs": [],
   "source": []
  }
 ],
 "metadata": {
  "kernelspec": {
   "display_name": "Python 3 (ipykernel)",
   "language": "python",
   "name": "python3"
  },
  "language_info": {
   "codemirror_mode": {
    "name": "ipython",
    "version": 3
   },
   "file_extension": ".py",
   "mimetype": "text/x-python",
   "name": "python",
   "nbconvert_exporter": "python",
   "pygments_lexer": "ipython3",
   "version": "3.8.8"
  }
 },
 "nbformat": 4,
 "nbformat_minor": 5
}
