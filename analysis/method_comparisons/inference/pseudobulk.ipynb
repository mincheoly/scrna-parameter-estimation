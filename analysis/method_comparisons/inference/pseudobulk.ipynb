{
 "cells": [
  {
   "cell_type": "code",
   "execution_count": 90,
   "id": "2e24b530",
   "metadata": {},
   "outputs": [],
   "source": [
    "library(edgeR)"
   ]
  },
  {
   "cell_type": "code",
   "execution_count": 91,
   "id": "6d62399d",
   "metadata": {},
   "outputs": [],
   "source": [
    "data = read.table('/data_volume/memento/simulation/inference/means/stratified/rep_pseudobulks.csv', sep=',', header=1, row.names='Symbols')\n",
    "groups <- c(rep('ctrl', 2), rep('stim', 2))"
   ]
  },
  {
   "cell_type": "code",
   "execution_count": 92,
   "id": "25471694",
   "metadata": {},
   "outputs": [
    {
     "data": {
      "text/html": [
       "<style>\n",
       ".list-inline {list-style: none; margin:0; padding: 0}\n",
       ".list-inline>li {display: inline-block}\n",
       ".list-inline>li:not(:last-child)::after {content: \"\\00b7\"; padding: 0 .5ex}\n",
       "</style>\n",
       "<ol class=list-inline><li>10218</li><li>4</li></ol>\n"
      ],
      "text/latex": [
       "\\begin{enumerate*}\n",
       "\\item 10218\n",
       "\\item 4\n",
       "\\end{enumerate*}\n"
      ],
      "text/markdown": [
       "1. 10218\n",
       "2. 4\n",
       "\n",
       "\n"
      ],
      "text/plain": [
       "[1] 10218     4"
      ]
     },
     "metadata": {},
     "output_type": "display_data"
    }
   ],
   "source": [
    "dim(data)"
   ]
  },
  {
   "cell_type": "code",
   "execution_count": 93,
   "id": "9bb7acb9",
   "metadata": {},
   "outputs": [],
   "source": [
    "y <- DGEList(counts=data,group=groups)\n",
    "keep <- filterByExpr(y,min.count=1)\n",
    "y <- y[keep,,keep.lib.sizes=FALSE]\n",
    "y <- calcNormFactors(y)\n",
    "design <- model.matrix(~groups)\n",
    "y <- estimateDisp(y,design)"
   ]
  },
  {
   "cell_type": "code",
   "execution_count": 94,
   "id": "f30f29da",
   "metadata": {},
   "outputs": [],
   "source": [
    "fit <- glmFit(y,design)\n",
    "lrt <- glmLRT(fit,coef=2)"
   ]
  },
  {
   "cell_type": "code",
   "execution_count": 95,
   "id": "d35d2444",
   "metadata": {},
   "outputs": [],
   "source": [
    "write.csv(topTags(lrt, n=Inf), '/data_volume/memento/simulation/inference/means/stratified/edger.csv',)"
   ]
  },
  {
   "cell_type": "code",
   "execution_count": null,
   "id": "36be76be",
   "metadata": {},
   "outputs": [],
   "source": []
  },
  {
   "cell_type": "code",
   "execution_count": null,
   "id": "f24dca80",
   "metadata": {},
   "outputs": [],
   "source": []
  }
 ],
 "metadata": {
  "kernelspec": {
   "display_name": "R",
   "language": "R",
   "name": "ir"
  },
  "language_info": {
   "codemirror_mode": "r",
   "file_extension": ".r",
   "mimetype": "text/x-r-source",
   "name": "R",
   "pygments_lexer": "r",
   "version": "4.0.5"
  }
 },
 "nbformat": 4,
 "nbformat_minor": 5
}
