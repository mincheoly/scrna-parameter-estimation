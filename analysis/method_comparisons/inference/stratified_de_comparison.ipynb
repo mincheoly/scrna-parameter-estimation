{
 "cells": [
  {
   "cell_type": "markdown",
   "id": "a9679065",
   "metadata": {},
   "source": [
    "# Method comparisons for inference"
   ]
  },
  {
   "cell_type": "code",
   "execution_count": 67,
   "id": "8dd1d7af",
   "metadata": {},
   "outputs": [],
   "source": [
    "import pandas as pd\n",
    "import matplotlib.pyplot as plt\n",
    "import scanpy as sc\n",
    "import scipy as sp\n",
    "import itertools\n",
    "import numpy as np\n",
    "import scipy.stats as stats\n",
    "from scipy.integrate import dblquad\n",
    "import seaborn as sns\n",
    "from statsmodels.stats.multitest import fdrcorrection\n",
    "import imp\n",
    "pd.options.display.max_rows = 999\n",
    "pd.set_option('display.max_colwidth', 200)\n",
    "pd.set_option('display.max_columns', 100)\n",
    "\n",
    "import pickle as pkl\n",
    "import time\n",
    "import string\n",
    "from sklearn.datasets import make_spd_matrix\n",
    "from sklearn.metrics import roc_curve, precision_recall_curve"
   ]
  },
  {
   "cell_type": "code",
   "execution_count": 68,
   "id": "0a417e90",
   "metadata": {},
   "outputs": [],
   "source": [
    "import matplotlib as mpl\n",
    "mpl.rcParams['pdf.fonttype'] = 42\n",
    "mpl.rcParams['ps.fonttype'] = 42\n",
    "plt.rcParams[\"axes.prop_cycle\"] = plt.cycler(\"color\", ['turquoise', 'slategrey', 'silver', 'yellow'])\n",
    "\n",
    "import matplotlib.pylab as pylab\n",
    "params = {'legend.fontsize': 'medium',\n",
    "         'axes.labelsize': 'medium',\n",
    "         'axes.titlesize':'medium',\n",
    "         'figure.titlesize':'medium',\n",
    "         'xtick.labelsize':'small',\n",
    "         'ytick.labelsize':'small'}\n",
    "pylab.rcParams.update(params)\n"
   ]
  },
  {
   "cell_type": "code",
   "execution_count": 69,
   "id": "a3d7463b",
   "metadata": {},
   "outputs": [],
   "source": [
    "import sys\n",
    "sys.path.append('/home/ssm-user/Github/scrna-parameter-estimation/dist/memento-0.1.0-py3.8.egg')\n",
    "import memento\n",
    "import memento.simulate as simulate"
   ]
  },
  {
   "cell_type": "code",
   "execution_count": 70,
   "id": "d1f9295a",
   "metadata": {},
   "outputs": [],
   "source": [
    "import matplotlib\n",
    "matplotlib.rcParams['legend.handlelength'] = 0"
   ]
  },
  {
   "cell_type": "code",
   "execution_count": 71,
   "id": "10b350d1",
   "metadata": {},
   "outputs": [],
   "source": [
    "data_path = '/data_volume/memento/simulation/inference/'"
   ]
  },
  {
   "cell_type": "markdown",
   "id": "eed5ba06",
   "metadata": {},
   "source": [
    "### Run memento"
   ]
  },
  {
   "cell_type": "code",
   "execution_count": 114,
   "id": "9e6dc165",
   "metadata": {},
   "outputs": [
    {
     "name": "stderr",
     "output_type": "stream",
     "text": [
      "[Parallel(n_jobs=14)]: Using backend LokyBackend with 14 concurrent workers.\n",
      "[Parallel(n_jobs=14)]: Done  22 tasks      | elapsed:    0.3s\n",
      "[Parallel(n_jobs=14)]: Done 316 tasks      | elapsed:    1.9s\n",
      "[Parallel(n_jobs=14)]: Done 816 tasks      | elapsed:    4.7s\n",
      "[Parallel(n_jobs=14)]: Done 1516 tasks      | elapsed:    8.7s\n",
      "[Parallel(n_jobs=14)]: Done 2416 tasks      | elapsed:   14.0s\n",
      "[Parallel(n_jobs=14)]: Done 3516 tasks      | elapsed:   20.4s\n",
      "[Parallel(n_jobs=14)]: Done 4816 tasks      | elapsed:   28.0s\n",
      "[Parallel(n_jobs=14)]: Done 5670 out of 5697 | elapsed:   32.9s remaining:    0.2s\n",
      "[Parallel(n_jobs=14)]: Done 5697 out of 5697 | elapsed:   33.1s finished\n"
     ]
    }
   ],
   "source": [
    "de_sim_adata = sc.read(data_path + 'means/simple/anndata_0.h5ad')\n",
    "de_sim_adata.obs['q'] = 0.1\n",
    "\n",
    "memento.setup_memento(de_sim_adata, q_column='q', filter_mean_thresh=0.01,trim_percent=0.1, shrinkage=0)\n",
    "de_sim_adata.obs['memento_size_factor'] = de_sim_adata.X.sum(axis=1).A1\n",
    "memento.create_groups(de_sim_adata, label_columns=['condition'])\n",
    "memento.compute_1d_moments(de_sim_adata, filter_genes=True)\n",
    "\n",
    "meta_df = memento.get_groups(de_sim_adata)\n",
    "meta_df = pd.get_dummies(meta_df, prefix='', prefix_sep='', drop_first=True)\n",
    "\n",
    "treatment = meta_df[['stim']]\n",
    "covariate = pd.DataFrame(np.ones((meta_df.shape[0],1)))\n",
    "# covariate = meta_df[['B', 'C', 'D']]\n",
    "# covariate = pd.concat([covariate, covariate*treatment.values], axis=1)\n",
    "\n",
    "means = memento.ht_1d_moments(\n",
    "    de_sim_adata, \n",
    "    treatment=treatment,\n",
    "    covariate=covariate,\n",
    "    num_boot=5000, \n",
    "    verbose=1,\n",
    "    num_cpus=14,\n",
    "    resample_rep=False,\n",
    "    approx=True)\n",
    "\n",
    "# memento_de_result = memento.get_1d_ht_result(de_sim_adata)\n",
    "# memento_de_result.to_csv(data_path + 'means/stratified/memento.csv', index=False)"
   ]
  },
  {
   "cell_type": "code",
   "execution_count": 115,
   "id": "de333179",
   "metadata": {},
   "outputs": [
    {
     "data": {
      "text/plain": [
       "(array([ -9.739964, -11.360781], dtype=float32),\n",
       " array([0.01628594, 0.08641227]))"
      ]
     },
     "execution_count": 115,
     "metadata": {},
     "output_type": "execute_result"
    }
   ],
   "source": [
    "means[0]"
   ]
  },
  {
   "cell_type": "code",
   "execution_count": 116,
   "id": "41697772",
   "metadata": {},
   "outputs": [],
   "source": [
    "ctrl_mean = de_sim_adata.uns['memento']['1d_moments']['sg^ctrl'][0]\n",
    "stim_mean = de_sim_adata.uns['memento']['1d_moments']['sg^stim'][0]\n",
    "ctrl_var = de_sim_adata.uns['memento']['1d_moments']['sg^ctrl'][1]\n",
    "stim_var = de_sim_adata.uns['memento']['1d_moments']['sg^stim'][1]\n",
    "ctrl_se = np.sqrt(ctrl_var/(de_sim_adata.shape[0]/2))\n",
    "stim_se = np.sqrt(stim_var/(de_sim_adata.shape[0]/2))\n",
    "\n",
    "ctrl_log_mean = np.log(ctrl_mean)\n",
    "stim_log_mean = np.log(stim_mean)\n",
    "ctrl_log_se = np.log(ctrl_mean+ctrl_se)-ctrl_log_mean\n",
    "stim_log_se = np.log(stim_mean+stim_se)-stim_log_mean\n",
    "ctrl_log_sv = ctrl_log_se**2\n",
    "stim_log_sv = stim_log_se**2\n",
    "\n",
    "approx_means = list(zip(list(zip(ctrl_log_mean, stim_log_mean)), list(zip(ctrl_log_sv, stim_log_sv))))\n",
    "# approx_means = list(zip(list(zip(ctrl_mean, stim_mean)), list(zip(ctrl_se**2, stim_se**2))))"
   ]
  },
  {
   "cell_type": "code",
   "execution_count": 117,
   "id": "6630e69d",
   "metadata": {},
   "outputs": [
    {
     "data": {
      "text/plain": [
       "((-9.739964, -11.360781), (0.002266285, 0.00620872))"
      ]
     },
     "execution_count": 117,
     "metadata": {},
     "output_type": "execute_result"
    }
   ],
   "source": [
    "approx_means[0]"
   ]
  },
  {
   "cell_type": "code",
   "execution_count": 103,
   "id": "580ffa06",
   "metadata": {},
   "outputs": [],
   "source": [
    "# datasets = [core.Dataset(y=m, v=v, X=meta_df[['stim']].values, add_intercept=True) for m,v in means]\n",
    "from pymare import estimators, core\n",
    "results = []\n",
    "\n",
    "for m,v in approx_means:\n",
    "    \n",
    "    df = meta_df\n",
    "    df['m'] = m\n",
    "    df['v'] = v\n",
    "    dset = core.Dataset(data=df, y='m', v='v', X=['stim'])\n",
    "    \n",
    "    res = estimators.WeightedLeastSquares().fit_dataset(dset).summary().to_df().set_index('name').loc['stim', ['estimate', 'p-value']]\n",
    "    \n",
    "    results.append(res)\n",
    "    \n",
    "memento_results = pd.DataFrame(np.vstack([results]),columns=['coef', 'de_pval'])\n",
    "\n",
    "memento_results['gene'] = de_sim_adata.var.index\n",
    "memento_results.to_csv(data_path + 'means/simple/memento_0.csv', index=False)"
   ]
  },
  {
   "cell_type": "markdown",
   "id": "7c77da6d",
   "metadata": {},
   "source": [
    "### Compare DE methods - simple"
   ]
  },
  {
   "cell_type": "code",
   "execution_count": 104,
   "id": "0522e091",
   "metadata": {},
   "outputs": [],
   "source": [
    "de_norm_adata = sc.read(data_path + 'means/simple/norm_anndata_0.h5ad')\n",
    "result = pd.read_csv(data_path + 'means/simple/memento_0.csv').set_index('gene')\n",
    "edger = pd.read_csv(data_path + 'means/simple/edger_0.csv', index_col=0)\n",
    "\n",
    "genes = list(set(result.index.tolist()) & set(edger.index))\n",
    "de_norm_adata = de_norm_adata[:, genes]\n",
    "\n",
    "result = pd.concat([result.loc[genes], edger.loc[genes]], axis=1)\n",
    "\n",
    "A_data, B_data = de_norm_adata[de_norm_adata.obs['condition'] == 'ctrl'].X, de_norm_adata[de_norm_adata.obs['condition'] == 'stim'].X\n",
    "_, result['ttest'] = stats.ttest_ind(A_data, B_data, equal_var=False)\n",
    "result['mwu'] = np.array([stats.mannwhitneyu(A_data[:, i], B_data[:,i])[1] for i in range(A_data.shape[1])])\n",
    "\n",
    "result['null'] = de_norm_adata.var['is_null'].values\n",
    "result['sig'] = ~result['null']\n",
    "result['memento'] = result['de_pval']\n",
    "result['edger'] = result['PValue']"
   ]
  },
  {
   "cell_type": "code",
   "execution_count": 105,
   "id": "a0d87f85",
   "metadata": {},
   "outputs": [],
   "source": [
    "result['ttest_fdr'] = memento.util._fdrcorrect(result['ttest'])\n",
    "result['memento_fdr'] = memento.util._fdrcorrect(result['de_pval'])\n",
    "result['mwu_fdr'] = memento.util._fdrcorrect(result['mwu'])\n",
    "result['edger_fdr'] = memento.util._fdrcorrect(result['edger'])"
   ]
  },
  {
   "cell_type": "code",
   "execution_count": 106,
   "id": "a377edc6",
   "metadata": {},
   "outputs": [],
   "source": [
    "# methods = ['memento_fdr', 'ttest_fdr','edger_fdr']\n",
    "methods = ['memento', 'ttest','edger']"
   ]
  },
  {
   "cell_type": "code",
   "execution_count": 107,
   "id": "4efe0f46",
   "metadata": {},
   "outputs": [],
   "source": [
    "thresholds = np.linspace(0, 0.3, 20)\n",
    "\n",
    "tpr_pv_dict = {}\n",
    "tpr_fdr_dict = {}\n",
    "precision_pv_dict = {}\n",
    "precision_fdr_dict = {}\n",
    "fdr_dict = {}\n",
    "fpr_dict = {}\n",
    "for method in methods:\n",
    "    tpr_pv = []\n",
    "    tpr_fdr = []\n",
    "    fpr = []\n",
    "    fdr = []\n",
    "    precision_pv = []\n",
    "    precision_fdr = []\n",
    "\n",
    "    for thresh in thresholds:\n",
    "    \n",
    "        tpr_pv.append((result.query('sig')[method] < thresh).mean())\n",
    "        tpr_fdr.append((result.query('sig')[method+'_fdr'] < thresh).mean())\n",
    "        fdr.append(result.query('{} < {}'.format(method+'_fdr', thresh))['null'].mean())\n",
    "        fpr.append((result.query('null')[method] < thresh).mean())\n",
    "        \n",
    "    tpr_pv_dict[method] = tpr_pv\n",
    "    tpr_fdr_dict[method] = tpr_fdr\n",
    "    fpr_dict[method] = fpr\n",
    "    fdr_dict[method] = fdr"
   ]
  },
  {
   "cell_type": "code",
   "execution_count": 108,
   "id": "2830ddb7",
   "metadata": {},
   "outputs": [
    {
     "data": {
      "text/plain": [
       "Text(0.5, 0, 'Recall')"
      ]
     },
     "execution_count": 108,
     "metadata": {},
     "output_type": "execute_result"
    },
    {
     "data": {
      "image/png": "[encoded data removed]",
      "text/plain": [
       "<Figure size 180x720 with 6 Axes>"
      ]
     },
     "metadata": {
      "needs_background": "light"
     },
     "output_type": "display_data"
    }
   ],
   "source": [
    "plt.figure(figsize=(2.5, 10))\n",
    "plt.subplots_adjust(hspace=0.5)\n",
    "plt.subplot(6, 1, 1)\n",
    "for method in methods:\n",
    "    plt.plot(thresholds, tpr_pv_dict[method], '-o', label=method, ms=4)\n",
    "plt.legend(frameon=False, loc='upper left', bbox_to_anchor=(0,1.05))\n",
    "plt.ylabel('Power'); plt.xlabel('P-value cutoff')\n",
    "plt.xlabel('cutoff')\n",
    "\n",
    "plt.subplot(6, 1, 2)\n",
    "for method in methods:\n",
    "    plt.plot(thresholds, fpr_dict[method], '-o', label=method, ms=4)\n",
    "plt.plot([0,0.3], [0, 0.3], '--', color='k')\n",
    "\n",
    "plt.legend(frameon=False, loc='upper left', bbox_to_anchor=(0,1.05))\n",
    "plt.ylabel('False Positive Rate'); plt.xlabel('P-value cutoff')\n",
    "\n",
    "plt.subplot(6, 1, 3)\n",
    "for method in methods:\n",
    "    plt.plot(fpr_dict[method], np.array(tpr_pv_dict[method]),'-o', label=method, ms=4)\n",
    "plt.ylabel('Power'); plt.xlabel('False positive rate')\n",
    "\n",
    "plt.subplot(6, 1, 4)\n",
    "for method in methods:\n",
    "    plt.plot(thresholds, fdr_dict[method], '-o', label=method, ms=4)\n",
    "# plt.legend(['memento', 'BASiCS'], frameon=False, loc='center right')\n",
    "# plt.plot([0,1], [0, 1], '--', color='k')\n",
    "plt.ylabel('FDR'); plt.xlabel('FDR cutoff')\n",
    "plt.xlabel('cutoff')\n",
    "\n",
    "plt.subplot(6, 1, 5)\n",
    "for method in methods:\n",
    "    plt.plot(fdr_dict[method], np.array(tpr_fdr_dict[method]),'-o', label=method, ms=4)\n",
    "# plt.legend(['memento', 'BASiCS'], frameon=False, loc='center right')\n",
    "# plt.plot([0,1], [0, 1], '--', color='k')\n",
    "plt.ylabel('Power'); plt.xlabel('FDR')\n",
    "# plt.xlabel('P-value cutoff')\n",
    "\n",
    "plt.subplot(6, 1, 6)\n",
    "for method in methods:\n",
    "    plt.plot(np.array(tpr_fdr_dict[method]), 1-np.array(fdr_dict[method]),'-o', label=method, ms=4)\n",
    "# plt.legend(['memento', 'BASiCS'], frameon=False, loc='center right')\n",
    "# plt.plot([0,1], [0, 1], '--', color='k')\n",
    "plt.ylabel('Precision'); plt.xlabel('Recall')\n",
    "\n",
    "# plt.savefig('de_comparison.pdf', bbox_inches='tight')"
   ]
  },
  {
   "cell_type": "markdown",
   "id": "00c8f998",
   "metadata": {},
   "source": [
    "### Compare DE methods - repeated"
   ]
  },
  {
   "cell_type": "code",
   "execution_count": 35,
   "id": "ab0333ac",
   "metadata": {},
   "outputs": [],
   "source": [
    "from pymare import estimators, core"
   ]
  },
  {
   "cell_type": "code",
   "execution_count": 36,
   "id": "35f53502",
   "metadata": {},
   "outputs": [],
   "source": [
    "trial = 1"
   ]
  },
  {
   "cell_type": "code",
   "execution_count": 37,
   "id": "3ff0fc62",
   "metadata": {},
   "outputs": [
    {
     "name": "stdout",
     "output_type": "stream",
     "text": [
      "im here\n"
     ]
    },
    {
     "name": "stderr",
     "output_type": "stream",
     "text": [
      "[Parallel(n_jobs=14)]: Using backend LokyBackend with 14 concurrent workers.\n",
      "[Parallel(n_jobs=14)]: Done  22 tasks      | elapsed:    0.4s\n",
      "[Parallel(n_jobs=14)]: Done 316 tasks      | elapsed:    4.8s\n",
      "[Parallel(n_jobs=14)]: Done 816 tasks      | elapsed:   11.4s\n",
      "[Parallel(n_jobs=14)]: Done 1516 tasks      | elapsed:   20.4s\n",
      "[Parallel(n_jobs=14)]: Done 2416 tasks      | elapsed:   32.2s\n",
      "[Parallel(n_jobs=14)]: Done 3516 tasks      | elapsed:   46.7s\n",
      "[Parallel(n_jobs=14)]: Done 4816 tasks      | elapsed:  1.1min\n",
      "[Parallel(n_jobs=14)]: Done 6084 out of 6084 | elapsed:  1.4min finished\n"
     ]
    }
   ],
   "source": [
    "de_sim_adata = sc.read(data_path + 'means/repeated/anndata_{}.h5ad'.format(trial))\n",
    "de_sim_adata.obs['q'] = 0.05\n",
    "\n",
    "memento.setup_memento(de_sim_adata, q_column='q', filter_mean_thresh=0.01,trim_percent=0.1, shrinkage=0)\n",
    "# de_sim_adata.obs['memento_size_factor'] = de_sim_adata.X.sum(axis=1).A1\n",
    "memento.create_groups(de_sim_adata, label_columns=['condition', 'group'])\n",
    "memento.compute_1d_moments(de_sim_adata, filter_genes=True)\n",
    "\n",
    "meta_df = memento.get_groups(de_sim_adata)\n",
    "meta_df = pd.get_dummies(meta_df, prefix='', prefix_sep='', drop_first=True)\n",
    "\n",
    "treatment = meta_df[['stim']]\n",
    "covariate = pd.DataFrame(np.ones((meta_df.shape[0],1)))\n",
    "# covariate = meta_df[['B', 'C', 'D']]\n",
    "# covariate = pd.concat([covariate, covariate*treatment.values], axis=1)\n",
    "\n",
    "means = memento.ht_1d_moments(\n",
    "    de_sim_adata, \n",
    "    treatment=treatment,\n",
    "    covariate=covariate,\n",
    "    num_boot=5000, \n",
    "    verbose=1,\n",
    "    num_cpus=14,\n",
    "    resample_rep=False,\n",
    "    approx=True)\n",
    "\n",
    "memento_de_result = memento.get_1d_ht_result(de_sim_adata)\n",
    "memento_de_result.to_csv(data_path + 'means/stratified/memento.csv', index=False)"
   ]
  },
  {
   "cell_type": "code",
   "execution_count": 38,
   "id": "87fd194f",
   "metadata": {},
   "outputs": [],
   "source": [
    "# # datasets = [core.Dataset(y=m, v=v, X=meta_df[['stim']].values, add_intercept=True) for m,v in means]\n",
    "# results = []\n",
    "\n",
    "# for m,v in means:\n",
    "    \n",
    "#     df = meta_df\n",
    "#     df['m'] = m\n",
    "#     df['v'] = v\n",
    "#     dset = core.Dataset(data=df, y='m', v='v', X=['stim'])\n",
    "    \n",
    "#     res = estimators.DerSimonianLaird().fit_dataset(dset).summary().to_df().set_index('name').loc['stim', ['estimate', 'p-value']]\n",
    "    \n",
    "#     results.append(res)\n",
    "    \n",
    "# memento_results = pd.DataFrame(np.vstack([results]),columns=['coef', 'de_pval'])\n",
    "\n",
    "# memento_results['gene'] = de_sim_adata.var.index\n",
    "# memento_results['means'] = [m[0] for m in means]\n",
    "# memento_results['ses'] = [m[1] for m in means]\n",
    "# memento_results.to_csv(data_path + 'means/repeated/memento_{}.csv'.format(trial), index=False)"
   ]
  },
  {
   "cell_type": "code",
   "execution_count": 39,
   "id": "cdbebec2",
   "metadata": {},
   "outputs": [],
   "source": [
    "de_norm_adata = sc.read(data_path + 'means/repeated/norm_anndata_{}.h5ad'.format(trial))\n",
    "result = pd.read_csv(data_path + 'means/repeated/memento_{}.csv'.format(trial)).set_index('gene')\n",
    "edger = pd.read_csv(data_path + 'means/repeated/edger_{}.csv'.format(trial), index_col=0)\n",
    "\n",
    "genes = list(set(result.index.tolist()) & set(edger.index))\n",
    "de_norm_adata = de_norm_adata[:, genes]\n",
    "\n",
    "result = pd.concat([result.loc[genes], edger.loc[genes]], axis=1)\n",
    "\n",
    "A_data, B_data = de_norm_adata[de_norm_adata.obs['condition'] == 'ctrl'].X, de_norm_adata[de_norm_adata.obs['condition'] == 'stim'].X\n",
    "_, result['ttest'] = stats.ttest_ind(A_data, B_data, equal_var=False)\n",
    "result['mwu'] = np.array([stats.mannwhitneyu(A_data[:, i], B_data[:,i])[1] for i in range(A_data.shape[1])])\n",
    "\n",
    "result['null'] = de_norm_adata.var['is_null'].values\n",
    "result['sig'] = ~result['null']\n",
    "result['memento'] = result['de_pval']\n",
    "result['edger'] = result['PValue']"
   ]
  },
  {
   "cell_type": "code",
   "execution_count": 40,
   "id": "f0a1df47",
   "metadata": {},
   "outputs": [],
   "source": [
    "result['ttest_fdr'] = memento.util._fdrcorrect(result['ttest'])\n",
    "result['memento_fdr'] = memento.util._fdrcorrect(result['de_pval'])\n",
    "result['mwu_fdr'] = memento.util._fdrcorrect(result['mwu'])\n",
    "result['edger_fdr'] = memento.util._fdrcorrect(result['edger'])"
   ]
  },
  {
   "cell_type": "code",
   "execution_count": 41,
   "id": "07b214ca",
   "metadata": {},
   "outputs": [],
   "source": [
    "result = result.dropna()"
   ]
  },
  {
   "cell_type": "code",
   "execution_count": 42,
   "id": "e0ff7176",
   "metadata": {},
   "outputs": [],
   "source": [
    "# methods = ['memento_fdr', 'ttest_fdr','edger_fdr']\n",
    "methods = ['memento', 'ttest','edger', 'mwu']"
   ]
  },
  {
   "cell_type": "code",
   "execution_count": 63,
   "id": "96908478",
   "metadata": {},
   "outputs": [],
   "source": [
    "thresholds = np.linspace(0, 0.3, 20)\n",
    "\n",
    "tpr_pv_dict = {}\n",
    "tpr_fdr_dict = {}\n",
    "precision_pv_dict = {}\n",
    "precision_fdr_dict = {}\n",
    "fdr_dict = {}\n",
    "fpr_dict = {}\n",
    "for method in methods:\n",
    "    tpr_pv = []\n",
    "    tpr_fdr = []\n",
    "    fpr = []\n",
    "    fdr = []\n",
    "    precision_pv = []\n",
    "    precision_fdr = []\n",
    "\n",
    "    for thresh in thresholds:\n",
    "    \n",
    "        tpr_pv.append((result.query('sig')[method] < thresh).mean())\n",
    "        tpr_fdr.append((result.query('sig')[method+'_fdr'] < thresh).mean())\n",
    "        fdr.append(result.query('{} < {}'.format(method+'_fdr', thresh))['null'].mean())\n",
    "        fpr.append((result.query('null')[method] < thresh).mean())\n",
    "        \n",
    "    tpr_pv_dict[method] = tpr_pv\n",
    "    tpr_fdr_dict[method] = tpr_fdr\n",
    "    fpr_dict[method] = fpr\n",
    "    fdr_dict[method] = fdr"
   ]
  },
  {
   "cell_type": "code",
   "execution_count": 64,
   "id": "d0c5e71c",
   "metadata": {},
   "outputs": [
    {
     "data": {
      "text/plain": [
       "Text(0.5, 0, 'Recall')"
      ]
     },
     "execution_count": 64,
     "metadata": {},
     "output_type": "execute_result"
    },
    {
     "data": {
      "image/png": "[encoded data removed]",
      "text/plain": [
       "<Figure size 180x720 with 6 Axes>"
      ]
     },
     "metadata": {
      "needs_background": "light"
     },
     "output_type": "display_data"
    }
   ],
   "source": [
    "plt.figure(figsize=(2.5, 10))\n",
    "plt.subplots_adjust(hspace=0.5)\n",
    "plt.subplot(6, 1, 1)\n",
    "for method in methods:\n",
    "    plt.plot(thresholds, tpr_pv_dict[method], '-o', label=method, ms=4)\n",
    "plt.legend(frameon=False, loc='upper left', bbox_to_anchor=(0,1.05))\n",
    "plt.ylabel('Power'); plt.xlabel('P-value cutoff')\n",
    "plt.xlabel('cutoff')\n",
    "\n",
    "plt.subplot(6, 1, 2)\n",
    "for method in methods:\n",
    "    plt.plot(thresholds, fpr_dict[method], '-o', label=method, ms=4)\n",
    "plt.plot([0,0.3], [0, 0.3], '--', color='k')\n",
    "\n",
    "plt.legend(frameon=False, loc='upper left', bbox_to_anchor=(0,1.05))\n",
    "plt.ylabel('False Positive Rate'); plt.xlabel('P-value cutoff')\n",
    "\n",
    "plt.subplot(6, 1, 3)\n",
    "for method in methods:\n",
    "    plt.plot(fpr_dict[method], np.array(tpr_pv_dict[method]),'-o', label=method, ms=4)\n",
    "plt.ylabel('Power'); plt.xlabel('False positive rate')\n",
    "\n",
    "plt.subplot(6, 1, 4)\n",
    "for method in methods:\n",
    "    plt.plot(thresholds, fdr_dict[method], '-o', label=method, ms=4)\n",
    "# plt.legend(['memento', 'BASiCS'], frameon=False, loc='center right')\n",
    "# plt.plot([0,1], [0, 1], '--', color='k')\n",
    "plt.ylabel('FDR'); plt.xlabel('FDR cutoff')\n",
    "plt.xlabel('cutoff')\n",
    "\n",
    "plt.subplot(6, 1, 5)\n",
    "for method in methods:\n",
    "    plt.plot(fdr_dict[method], np.array(tpr_fdr_dict[method]),'-o', label=method, ms=4)\n",
    "# plt.legend(['memento', 'BASiCS'], frameon=False, loc='center right')\n",
    "# plt.plot([0,1], [0, 1], '--', color='k')\n",
    "plt.ylabel('Power'); plt.xlabel('FDR')\n",
    "# plt.xlabel('P-value cutoff')\n",
    "\n",
    "plt.subplot(6, 1, 6)\n",
    "for method in methods:\n",
    "    plt.plot(np.array(tpr_fdr_dict[method]), 1-np.array(fdr_dict[method]),'-o', label=method, ms=4)\n",
    "# plt.legend(['memento', 'BASiCS'], frameon=False, loc='center right')\n",
    "# plt.plot([0,1], [0, 1], '--', color='k')\n",
    "plt.ylabel('Precision'); plt.xlabel('Recall')\n",
    "\n",
    "# plt.savefig('de_comparison.pdf', bbox_inches='tight')"
   ]
  },
  {
   "cell_type": "code",
   "execution_count": null,
   "id": "4c2d06fa",
   "metadata": {},
   "outputs": [],
   "source": []
  },
  {
   "cell_type": "code",
   "execution_count": null,
   "id": "a5d14cd3",
   "metadata": {},
   "outputs": [],
   "source": []
  },
  {
   "cell_type": "code",
   "execution_count": null,
   "id": "27548674",
   "metadata": {},
   "outputs": [],
   "source": []
  },
  {
   "cell_type": "code",
   "execution_count": null,
   "id": "0e875af2",
   "metadata": {},
   "outputs": [],
   "source": []
  },
  {
   "cell_type": "code",
   "execution_count": 50,
   "id": "7c86a449",
   "metadata": {},
   "outputs": [
    {
     "name": "stdout",
     "output_type": "stream",
     "text": [
      "77 0.8311688311688312\n"
     ]
    }
   ],
   "source": [
    "print(result.query('edger_fdr < 0.1').shape[0], result.query('edger_fdr < 0.1').null.mean())"
   ]
  },
  {
   "cell_type": "code",
   "execution_count": 51,
   "id": "d6b1b239",
   "metadata": {},
   "outputs": [
    {
     "name": "stdout",
     "output_type": "stream",
     "text": [
      "83 0.40963855421686746\n"
     ]
    },
    {
     "name": "stderr",
     "output_type": "stream",
     "text": [
      "/home/ssm-user/Github/scrna-parameter-estimation/dist/memento-0.1.0-py3.8.egg/memento/hypothesis_test.py:210: RuntimeWarning: divide by zero encountered in log\n",
      "/home/ssm-user/Github/scrna-parameter-estimation/dist/memento-0.1.0-py3.8.egg/memento/hypothesis_test.py:210: RuntimeWarning: divide by zero encountered in log\n",
      "/home/ssm-user/Github/scrna-parameter-estimation/dist/memento-0.1.0-py3.8.egg/memento/hypothesis_test.py:210: RuntimeWarning: divide by zero encountered in log\n",
      "/home/ssm-user/Github/scrna-parameter-estimation/dist/memento-0.1.0-py3.8.egg/memento/hypothesis_test.py:210: RuntimeWarning: divide by zero encountered in log\n",
      "/home/ssm-user/Github/scrna-parameter-estimation/dist/memento-0.1.0-py3.8.egg/memento/hypothesis_test.py:210: RuntimeWarning: divide by zero encountered in log\n",
      "/home/ssm-user/Github/scrna-parameter-estimation/dist/memento-0.1.0-py3.8.egg/memento/hypothesis_test.py:210: RuntimeWarning: divide by zero encountered in log\n",
      "/home/ssm-user/Github/scrna-parameter-estimation/dist/memento-0.1.0-py3.8.egg/memento/hypothesis_test.py:210: RuntimeWarning: divide by zero encountered in log\n",
      "/home/ssm-user/Github/scrna-parameter-estimation/dist/memento-0.1.0-py3.8.egg/memento/hypothesis_test.py:210: RuntimeWarning: divide by zero encountered in log\n"
     ]
    }
   ],
   "source": [
    "print(result.query('memento_fdr < 0.1').shape[0], result.query('memento_fdr < 0.1').null.mean())"
   ]
  },
  {
   "cell_type": "code",
   "execution_count": 117,
   "id": "c8f4bec0",
   "metadata": {},
   "outputs": [
    {
     "data": {
      "text/plain": [
       "0.811965811965812"
      ]
     },
     "execution_count": 117,
     "metadata": {},
     "output_type": "execute_result"
    }
   ],
   "source": [
    "result.query('edger_fdr < 0.1').sig.mean()"
   ]
  },
  {
   "cell_type": "code",
   "execution_count": null,
   "id": "af2b973d",
   "metadata": {},
   "outputs": [],
   "source": []
  },
  {
   "cell_type": "code",
   "execution_count": 79,
   "id": "1920e8c5",
   "metadata": {},
   "outputs": [],
   "source": [
    "# plt.figure(figsize=(2.5, 2))\n",
    "# for col in ['de_pval', 'ttest', 'mwu']:\n",
    "    \n",
    "#     fpr, tpr, t = roc_curve(result['sig'], 1-result[col])\n",
    "#     plt.plot(fpr, tpr, label=col)\n",
    "    \n",
    "# plt.legend(['memento', 't-test', 'MWU'])\n",
    "# plt.xlabel('False positive rate')\n",
    "# plt.ylabel('True positive rate')\n",
    "# plt.title('AUC curve (Differential mean)')\n",
    "# plt.xlim(-0.01, 0.4);\n",
    "# plt.ylim(-0.01, 0.6)\n",
    "# plt.plot([0, 0.4], [0, 0.4], '--', color='black')"
   ]
  }
 ],
 "metadata": {
  "kernelspec": {
   "display_name": "Python 3 (ipykernel)",
   "language": "python",
   "name": "python3"
  },
  "language_info": {
   "codemirror_mode": {
    "name": "ipython",
    "version": 3
   },
   "file_extension": ".py",
   "mimetype": "text/x-python",
   "name": "python",
   "nbconvert_exporter": "python",
   "pygments_lexer": "ipython3",
   "version": "3.8.8"
  }
 },
 "nbformat": 4,
 "nbformat_minor": 5
}
