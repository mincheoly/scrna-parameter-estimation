{
 "cells": [
  {
   "cell_type": "markdown",
   "id": "5ac12598-60f1-4ff7-80ca-5ae7367623bf",
   "metadata": {},
   "source": [
    "# Run memento-GLM for Squair datasets"
   ]
  },
  {
   "cell_type": "code",
   "execution_count": 1,
   "id": "eee5f4da-cdbd-4fe9-945a-2b3f6f3a556d",
   "metadata": {},
   "outputs": [],
   "source": [
    "import pandas as pd\n",
    "import matplotlib.pyplot as plt\n",
    "import seaborn as sns\n",
    "import functools\n",
    "import numpy as np\n",
    "import scanpy as sc\n",
    "import scipy.stats as stats\n",
    "from statsmodels.stats.multitest import fdrcorrection\n",
    "from patsy import dmatrix, dmatrices \n",
    "import statsmodels.api as sm"
   ]
  },
  {
   "cell_type": "code",
   "execution_count": 2,
   "id": "12310371-2aed-411e-80c9-9b1ea3b841b5",
   "metadata": {},
   "outputs": [],
   "source": [
    "import sys\n",
    "sys.path.append('/home/ssm-user/Github/scrna-parameter-estimation/dist/memento-0.1.0-py3.8.egg')\n",
    "sys.path.append('/home/ssm-user/Github/misc-seq/miscseq/')\n",
    "import encode\n",
    "import memento"
   ]
  },
  {
   "cell_type": "code",
   "execution_count": 3,
   "id": "bf21974f-0c3a-4d74-8c17-59794bd0dc08",
   "metadata": {},
   "outputs": [],
   "source": [
    "def sample_sum(data):\n",
    "    \n",
    "    s = data.sum(axis=0)\n",
    "    return s\n",
    "\n",
    "def scaled_mean_se2(data, sf, q):\n",
    "\n",
    "\taugmented_data = np.append(data, np.ones((1,data.shape[1])), axis=0)\n",
    "\n",
    "\tsf = np.append(sf, sf.mean())\n",
    "\tq = q.mean()\n",
    "\tX = augmented_data/sf.reshape(-1,1)\n",
    "\n",
    "\tnaive_v = X.var(axis=0)\n",
    "\tnaive_m = X.mean(axis=0)\n",
    "\tv = naive_v-(1-q)*(X/(sf**2-sf*(1-q)).reshape(-1,1)).mean(axis=0)\n",
    "\tvariance_contributions = ((1-q)/sf).reshape(-1,1)*naive_m.reshape(1,-1) + v.reshape(1,-1)\n",
    "\tm = np.average( X, weights=1/variance_contributions, axis=0)\n",
    "\tm[~np.isfinite(m)] = naive_m[~np.isfinite(m)]\n",
    "\tm[m<0] = 0\n",
    "\t# return m, v/data.shape[0]\n",
    "\treturn m*data.sum(), (v/data.shape[0])*data.sum()**2"
   ]
  },
  {
   "cell_type": "code",
   "execution_count": 4,
   "id": "346838df-9a5a-4c5e-ac1a-701c3e8368aa",
   "metadata": {},
   "outputs": [],
   "source": [
    "data_path = '/data_volume/r_datasets/squair/sc_rnaseq/h5Seurat/'"
   ]
  },
  {
   "cell_type": "markdown",
   "id": "f6cd79fe-bbe5-41b9-85f5-e53802ec94de",
   "metadata": {},
   "source": [
    "### Hagai 2018"
   ]
  },
  {
   "cell_type": "code",
   "execution_count": 5,
   "id": "5c1550bc-b5e2-4dc9-89f7-e24bbd00613d",
   "metadata": {},
   "outputs": [],
   "source": [
    "files = [\n",
    "    'Hagai2018_mouse-lps',\n",
    "    'Hagai2018_mouse-pic',\n",
    "    'Hagai2018_pig-lps',\n",
    "    'Hagai2018_rabbit-lps',\n",
    "    'Hagai2018_rat-lps',\n",
    "    'Hagai2018_rat-pic',\n",
    "]"
   ]
  },
  {
   "cell_type": "code",
   "execution_count": 8,
   "id": "946133d5-2165-42c6-b4c1-aaa5a7283e71",
   "metadata": {},
   "outputs": [],
   "source": [
    "for file in files:\n",
    "    \n",
    "    stim = file.split('-')[-1]\n",
    "\n",
    "    adata = sc.read(data_path + file)\n",
    "    adata.obs['q'] = 0.05\n",
    "    memento.setup_memento(adata, q_column='q', trim_percent=0.05)\n",
    "    \n",
    "    glm_adata = adata.copy()\n",
    "    dispersions = pd.read_csv('_{} .csv'.format(file))\n",
    "    gene_list = dispersions['gene'].tolist()\n",
    "    dispersions = dispersions['dispersion'].tolist()\n",
    "\n",
    "    scaled_means = []\n",
    "    weights = []\n",
    "    meta = []\n",
    "    totals = []\n",
    "    \n",
    "    groups = glm_adata.obs[['replicate', 'label']].drop_duplicates().reset_index()\n",
    "    for idx, row in groups.iterrows():\n",
    "        \n",
    "        ind = row['replicate']\n",
    "        condition = row['label']\n",
    "        \n",
    "        data = glm_adata[(glm_adata.obs['replicate']==ind) & (glm_adata.obs['label']==condition)].X.toarray()\n",
    "        sf = glm_adata[(glm_adata.obs['replicate']==ind) & (glm_adata.obs['label']==condition)].obs['memento_size_factor'].values\n",
    "        q = glm_adata[(glm_adata.obs['replicate']==ind) & (glm_adata.obs['label']==condition)].obs['q'].values\n",
    "        totals.append(data.sum())\n",
    "        s, se2 = scaled_mean_se2(data, sf, q)\n",
    "        scaled_means.append(s)\n",
    "        w = np.ones(s.shape[0])\n",
    "        w[se2>0] = 1/se2[se2>0]\n",
    "        weights.append(np.sqrt(1/se2))\n",
    "        meta.append((ind, int(stim in condition)))\n",
    "    scaled_means = pd.DataFrame(np.vstack(scaled_means), columns=glm_adata.var.index)\n",
    "    weights = pd.DataFrame(np.vstack(weights), columns=glm_adata.var.index)\n",
    "    # totals = scaled_means.sum(axis=1).values\n",
    "\n",
    "    meta = pd.DataFrame(meta, columns=['replicate', 'label'])\n",
    "\n",
    "    # Filter and re-order by gene_list\n",
    "    scaled_means = scaled_means[gene_list]\n",
    "    weights = weights[gene_list]\n",
    "    weights = weights / weights.values.mean(axis=0)\n",
    "\n",
    "    design = dmatrix('replicate+label', meta)\n",
    "\n",
    "\n",
    "    weighted_mean_glm_results = []\n",
    "    for idx in range(len(gene_list)):\n",
    "        model = sm.GLM(\n",
    "            scaled_means.iloc[:, [idx]], \n",
    "            design , \n",
    "            exposure=totals,\n",
    "            var_weights=weights.iloc[:, idx],\n",
    "            family=sm.families.NegativeBinomial(alpha=np.mean(dispersions)))\n",
    "        res_model = sm.GLM(\n",
    "            scaled_means.iloc[:, [idx]], design[:, :-1] , \n",
    "            exposure=totals,\n",
    "            var_weights=weights.iloc[:, idx],\n",
    "            family=sm.families.NegativeBinomial(alpha=np.mean(dispersions)))\n",
    "        fit = model.fit()\n",
    "        res_fit = res_model.fit()\n",
    "        pv = stats.chi2.sf(-2*(res_fit.llf - fit.llf), df=res_fit.df_resid-fit.df_resid)\n",
    "        weighted_mean_glm_results.append((fit.params[-1], pv))\n",
    "    weighted_mean_glm_results = pd.DataFrame(weighted_mean_glm_results, columns=['logFC', 'PValue'], index=gene_list)\n",
    "    _, weighted_mean_glm_results['FDR'] = fdrcorrection(weighted_mean_glm_results['PValue'])\n",
    "    \n",
    "    weighted_mean_glm_results['gene'] = gene_list\n",
    "    weighted_mean_glm_results.to_csv(data_path + '../results/{}-de_test=memento-shuffle_replicates=NO.csv'.format(file), index=False)\n",
    "    \n",
    "    break"
   ]
  },
  {
   "cell_type": "code",
   "execution_count": 10,
   "id": "9e8b62b6-a282-4002-bff7-52f7f0b5c81d",
   "metadata": {},
   "outputs": [
    {
     "data": {
      "text/plain": [
       "<AxesSubplot: >"
      ]
     },
     "execution_count": 10,
     "metadata": {},
     "output_type": "execute_result"
    },
    {
     "data": {
      "image/png": "[encoded data removed]",
      "text/plain": [
       "<Figure size 640x480 with 1 Axes>"
      ]
     },
     "metadata": {},
     "output_type": "display_data"
    }
   ],
   "source": [
    "weighted_mean_glm_results['PValue'].hist()"
   ]
  },
  {
   "cell_type": "code",
   "execution_count": 118,
   "id": "343bfb07-c858-47ef-be87-f8ec5660db53",
   "metadata": {},
   "outputs": [],
   "source": [
    "scaled_means"
   ]
  },
  {
   "cell_type": "code",
   "execution_count": 87,
   "id": "9d8e4068-d708-4c9f-9034-55913e71a6af",
   "metadata": {},
   "outputs": [],
   "source": [
    "design"
   ]
  },
  {
   "cell_type": "code",
   "execution_count": null,
   "id": "725caf8b-c715-4a97-983c-76f4cf49a542",
   "metadata": {},
   "outputs": [],
   "source": []
  },
  {
   "cell_type": "code",
   "execution_count": null,
   "id": "3246397b-258f-4840-9622-e38a72af8695",
   "metadata": {},
   "outputs": [],
   "source": []
  },
  {
   "cell_type": "code",
   "execution_count": null,
   "id": "8cf8bad5-52ca-4185-8881-dfa679ef3dec",
   "metadata": {},
   "outputs": [],
   "source": []
  },
  {
   "cell_type": "code",
   "execution_count": null,
   "id": "67f82966-8d43-4787-b81e-ef4c78392619",
   "metadata": {},
   "outputs": [],
   "source": []
  },
  {
   "cell_type": "code",
   "execution_count": null,
   "id": "9e3e86c8-9330-4a26-a9c7-70ab1fa42683",
   "metadata": {},
   "outputs": [],
   "source": []
  },
  {
   "cell_type": "code",
   "execution_count": null,
   "id": "1f9cd371-053c-4eb7-a0df-595a9858db73",
   "metadata": {},
   "outputs": [],
   "source": []
  },
  {
   "cell_type": "code",
   "execution_count": null,
   "id": "7eadc487-43a0-442c-9e0d-d2c9fac96143",
   "metadata": {},
   "outputs": [],
   "source": []
  },
  {
   "cell_type": "code",
   "execution_count": 66,
   "id": "22694a22-e409-4f36-affd-e4f52c54a4c0",
   "metadata": {},
   "outputs": [],
   "source": [
    "weighted_mean_glm_results = []\n",
    "for idx in range(len(gene_list)):\n",
    "    model = sm.GLM(\n",
    "        scaled_means.iloc[:, [idx]], \n",
    "        design , \n",
    "        exposure=totals,\n",
    "        var_weights=weights.iloc[:, idx],\n",
    "        family=sm.families.NegativeBinomial(alpha=0.05))\n",
    "    res_model = sm.GLM(\n",
    "        scaled_means.iloc[:, [idx]], design[:, :-1] , \n",
    "        exposure=totals,\n",
    "        var_weights=weights.iloc[:, idx],\n",
    "        family=sm.families.NegativeBinomial(alpha=0.05))\n",
    "    fit = model.fit()\n",
    "    res_fit = res_model.fit()\n",
    "    pv = stats.chi2.sf(-2*(res_fit.llf - fit.llf), df=res_fit.df_resid-fit.df_resid)\n",
    "    weighted_mean_glm_results.append((fit.params[-1], pv))\n",
    "weighted_mean_glm_results = pd.DataFrame(weighted_mean_glm_results, columns=['logFC', 'PValue'], index=gene_list)\n",
    "_, weighted_mean_glm_results['FDR'] = fdrcorrection(weighted_mean_glm_results['PValue'])"
   ]
  },
  {
   "cell_type": "code",
   "execution_count": 39,
   "id": "7dbb216b-2bae-4f14-8f1a-58cbf579e3e8",
   "metadata": {},
   "outputs": [
    {
     "data": {
      "text/plain": [
       "(array([11098.,  1306.,   936.,   750.,   708.,   625.,   601.,   588.,\n",
       "          517.,   552.]),\n",
       " array([5.36163695e-91, 9.99920244e-02, 1.99984049e-01, 2.99976073e-01,\n",
       "        3.99968098e-01, 4.99960122e-01, 5.99952147e-01, 6.99944171e-01,\n",
       "        7.99936195e-01, 8.99928220e-01, 9.99920244e-01]),\n",
       " <BarContainer object of 10 artists>)"
      ]
     },
     "execution_count": 39,
     "metadata": {},
     "output_type": "execute_result"
    },
    {
     "data": {
      "image/png": "[encoded data removed]",
      "text/plain": [
       "<Figure size 640x480 with 1 Axes>"
      ]
     },
     "metadata": {},
     "output_type": "display_data"
    }
   ],
   "source": [
    "plt.hist(weighted_mean_glm_results['PValue'])"
   ]
  },
  {
   "cell_type": "code",
   "execution_count": 12,
   "id": "08928e9c-3714-498c-9f03-038150dc2606",
   "metadata": {},
   "outputs": [
    {
     "data": {
      "text/html": [
       "<div>\n",
       "<style scoped>\n",
       "    .dataframe tbody tr th:only-of-type {\n",
       "        vertical-align: middle;\n",
       "    }\n",
       "\n",
       "    .dataframe tbody tr th {\n",
       "        vertical-align: top;\n",
       "    }\n",
       "\n",
       "    .dataframe thead th {\n",
       "        text-align: right;\n",
       "    }\n",
       "</style>\n",
       "<table border=\"1\" class=\"dataframe\">\n",
       "  <thead>\n",
       "    <tr style=\"text-align: right;\">\n",
       "      <th></th>\n",
       "      <th>replicate</th>\n",
       "      <th>label</th>\n",
       "    </tr>\n",
       "  </thead>\n",
       "  <tbody>\n",
       "    <tr>\n",
       "      <th>0</th>\n",
       "      <td>muc3838</td>\n",
       "      <td>24m</td>\n",
       "    </tr>\n",
       "    <tr>\n",
       "      <th>1</th>\n",
       "      <td>muc3839</td>\n",
       "      <td>24m</td>\n",
       "    </tr>\n",
       "    <tr>\n",
       "      <th>2</th>\n",
       "      <td>muc3840</td>\n",
       "      <td>3m</td>\n",
       "    </tr>\n",
       "    <tr>\n",
       "      <th>3</th>\n",
       "      <td>muc3841</td>\n",
       "      <td>3m</td>\n",
       "    </tr>\n",
       "    <tr>\n",
       "      <th>4</th>\n",
       "      <td>muc4166</td>\n",
       "      <td>24m</td>\n",
       "    </tr>\n",
       "    <tr>\n",
       "      <th>5</th>\n",
       "      <td>muc4167</td>\n",
       "      <td>24m</td>\n",
       "    </tr>\n",
       "    <tr>\n",
       "      <th>6</th>\n",
       "      <td>muc4168</td>\n",
       "      <td>24m</td>\n",
       "    </tr>\n",
       "    <tr>\n",
       "      <th>7</th>\n",
       "      <td>muc4169</td>\n",
       "      <td>3m</td>\n",
       "    </tr>\n",
       "    <tr>\n",
       "      <th>8</th>\n",
       "      <td>muc4170</td>\n",
       "      <td>3m</td>\n",
       "    </tr>\n",
       "    <tr>\n",
       "      <th>9</th>\n",
       "      <td>muc4172</td>\n",
       "      <td>3m</td>\n",
       "    </tr>\n",
       "    <tr>\n",
       "      <th>10</th>\n",
       "      <td>muc4173</td>\n",
       "      <td>3m</td>\n",
       "    </tr>\n",
       "    <tr>\n",
       "      <th>11</th>\n",
       "      <td>muc4174</td>\n",
       "      <td>24m</td>\n",
       "    </tr>\n",
       "    <tr>\n",
       "      <th>12</th>\n",
       "      <td>muc4175</td>\n",
       "      <td>24m</td>\n",
       "    </tr>\n",
       "    <tr>\n",
       "      <th>13</th>\n",
       "      <td>muc4654</td>\n",
       "      <td>3m</td>\n",
       "    </tr>\n",
       "    <tr>\n",
       "      <th>14</th>\n",
       "      <td>muc4657</td>\n",
       "      <td>3m</td>\n",
       "    </tr>\n",
       "  </tbody>\n",
       "</table>\n",
       "</div>"
      ],
      "text/plain": [
       "   replicate label\n",
       "0    muc3838   24m\n",
       "1    muc3839   24m\n",
       "2    muc3840    3m\n",
       "3    muc3841    3m\n",
       "4    muc4166   24m\n",
       "5    muc4167   24m\n",
       "6    muc4168   24m\n",
       "7    muc4169    3m\n",
       "8    muc4170    3m\n",
       "9    muc4172    3m\n",
       "10   muc4173    3m\n",
       "11   muc4174   24m\n",
       "12   muc4175   24m\n",
       "13   muc4654    3m\n",
       "14   muc4657    3m"
      ]
     },
     "execution_count": 12,
     "metadata": {},
     "output_type": "execute_result"
    }
   ],
   "source": [
    "adata.obs[['replicate', 'label']].drop_duplicates().reset_index(drop=True)"
   ]
  },
  {
   "cell_type": "code",
   "execution_count": 9,
   "id": "b2413ff1-1be8-4df1-b3b1-f2a4d95b6851",
   "metadata": {},
   "outputs": [
    {
     "data": {
      "text/plain": [
       "replicate  label\n",
       "muc3838    24m      155\n",
       "muc3839    24m      131\n",
       "muc3840    3m       293\n",
       "muc3841    3m       176\n",
       "muc4166    24m      252\n",
       "muc4167    24m      275\n",
       "muc4168    24m       99\n",
       "muc4169    3m       487\n",
       "muc4170    3m       364\n",
       "muc4172    3m       410\n",
       "muc4173    3m       583\n",
       "muc4174    24m      175\n",
       "muc4175    24m      103\n",
       "muc4654    3m       498\n",
       "muc4657    3m       198\n",
       "dtype: int64"
      ]
     },
     "execution_count": 9,
     "metadata": {},
     "output_type": "execute_result"
    }
   ],
   "source": [
    "adata.obs.groupby(['replicate', 'label'])"
   ]
  },
  {
   "cell_type": "code",
   "execution_count": null,
   "id": "66656ad2-d1ce-46d3-aabb-6420aca43b27",
   "metadata": {},
   "outputs": [],
   "source": []
  }
 ],
 "metadata": {
  "kernelspec": {
   "display_name": "Python 3 (ipykernel)",
   "language": "python",
   "name": "python3"
  },
  "language_info": {
   "codemirror_mode": {
    "name": "ipython",
    "version": 3
   },
   "file_extension": ".py",
   "mimetype": "text/x-python",
   "name": "python",
   "nbconvert_exporter": "python",
   "pygments_lexer": "ipython3",
   "version": "3.8.16"
  }
 },
 "nbformat": 4,
 "nbformat_minor": 5
}
