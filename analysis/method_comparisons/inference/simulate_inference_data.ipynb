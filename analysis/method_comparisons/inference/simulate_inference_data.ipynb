{
 "cells": [
  {
   "cell_type": "markdown",
   "metadata": {},
   "source": [
    "# Simulate inference data\n",
    "\n",
    "Power analysis for DM, DV, and DC"
   ]
  },
  {
   "cell_type": "code",
   "execution_count": 101,
   "metadata": {},
   "outputs": [
    {
     "name": "stderr",
     "output_type": "stream",
     "text": [
      "/tmp/ipykernel_8948/1777541847.py:13: FutureWarning: Passing a negative integer is deprecated in version 1.0 and will not be supported in future version. Instead, use None to not limit the column width.\n",
      "  pd.set_option('display.max_colwidth', -1)\n"
     ]
    }
   ],
   "source": [
    "import pandas as pd\n",
    "import matplotlib.pyplot as plt\n",
    "import scanpy as sc\n",
    "import scipy as sp\n",
    "import itertools\n",
    "import numpy as np\n",
    "import scipy.stats as stats\n",
    "from scipy.integrate import dblquad\n",
    "import seaborn as sns\n",
    "from statsmodels.stats.multitest import fdrcorrection\n",
    "import imp\n",
    "pd.options.display.max_rows = 999\n",
    "pd.set_option('display.max_colwidth', -1)\n",
    "import pickle as pkl\n",
    "import time\n",
    "import string\n",
    "from sklearn.datasets import make_spd_matrix\n",
    "from statsmodels.stats.moment_helpers import cov2corr\n",
    "import string"
   ]
  },
  {
   "cell_type": "code",
   "execution_count": 102,
   "metadata": {},
   "outputs": [],
   "source": [
    "import matplotlib as mpl\n",
    "mpl.rcParams['pdf.fonttype'] = 42\n",
    "mpl.rcParams['ps.fonttype'] = 42\n",
    "\n",
    "import matplotlib.pylab as pylab\n",
    "params = {'legend.fontsize': 'medium',\n",
    "         'axes.labelsize': 'medium',\n",
    "         'axes.titlesize':'medium',\n",
    "         'figure.titlesize':'medium',\n",
    "         'xtick.labelsize':'small',\n",
    "         'ytick.labelsize':'small'}\n",
    "pylab.rcParams.update(params)\n"
   ]
  },
  {
   "cell_type": "code",
   "execution_count": 103,
   "metadata": {},
   "outputs": [],
   "source": [
    "import sys\n",
    "sys.path.append('/home/ssm-user/Github/scrna-parameter-estimation/dist/memento-0.0.9-py3.8.egg')\n",
    "import memento\n",
    "import memento.simulate as simulate"
   ]
  },
  {
   "cell_type": "code",
   "execution_count": 104,
   "metadata": {},
   "outputs": [],
   "source": [
    "data_path = '/data_volume/memento/simulation/inference/'"
   ]
  },
  {
   "cell_type": "markdown",
   "metadata": {},
   "source": [
    "### Generate simulated DE dataset with stratification"
   ]
  },
  {
   "cell_type": "code",
   "execution_count": 115,
   "metadata": {},
   "outputs": [],
   "source": [
    "ifn_adata = sc.read('/data_volume/memento/demux/' + 'interferon_filtered.h5ad')\n",
    "q=0.01"
   ]
  },
  {
   "cell_type": "code",
   "execution_count": 116,
   "metadata": {},
   "outputs": [],
   "source": [
    "adata_1 = ifn_adata[(ifn_adata.obs['cell'] == 'CD4 T cells') & (ifn_adata.obs['stim'] == 'ctrl')]\n",
    "adata_2 = ifn_adata[(ifn_adata.obs['cell'] == 'CD4 T cells') & (ifn_adata.obs['stim'] == 'stim')]\n",
    "\n",
    "x_param_1, z_param_1, Nc_1, good_idx_1 = simulate.extract_parameters(adata_1.X, q=q)\n",
    "x_param_2, z_param_2, Nc_2, good_idx_2 = simulate.extract_parameters(adata_2.X, q=q)"
   ]
  },
  {
   "cell_type": "code",
   "execution_count": 117,
   "metadata": {},
   "outputs": [],
   "source": [
    "common_set = np.array(list(set(good_idx_1) & set(good_idx_2)))\n",
    "z_param_1 = (\n",
    "    np.array([x for x,i in zip(z_param_1[0], good_idx_1) if i in common_set]),\n",
    "    np.array([x for x,i in zip(z_param_1[1], good_idx_1) if i in common_set]))\n",
    "z_param_2 = (\n",
    "    np.array([x for x,i in zip(z_param_2[0], good_idx_2) if i in common_set]),\n",
    "    np.array([x for x,i in zip(z_param_2[1], good_idx_2) if i in common_set]))"
   ]
  },
  {
   "cell_type": "code",
   "execution_count": 118,
   "metadata": {},
   "outputs": [],
   "source": [
    "num_groups_per_condition = 1\n",
    "num_cells = 50\n",
    "num_genes = z_param_1[0].shape[0]\n",
    "\n",
    "treatment_effect = stats.uniform.rvs(0, 0.5, size=num_genes)#np.log(z_param_2[0]) - np.log(z_param_1[0])\n",
    "null_genes = stats.bernoulli.rvs(p=0.9, size=treatment_effect.shape[0]).astype(bool)#null_genes = (np.absolute(treatment_effect) < 0.1)\n",
    "treatment_effect[null_genes] = 0\n",
    "\n",
    "dispersions = (z_param_1[1] - z_param_1[0])/z_param_1[0]**2\n",
    "dispersions_2 = (z_param_2[1] - z_param_2[0])/z_param_2[0]**2\n",
    "dispersions[dispersions < 0] = 0.001\n",
    "dispersions_2[dispersions_2 < 0] = 0.001\n",
    "\n",
    "# Stratify\n",
    "random_intercepts = stats.norm.rvs(scale=0.5, size=(num_groups_per_condition, num_genes))\n",
    "random_intercepts = np.vstack([random_intercepts, random_intercepts])\n",
    "\n",
    "# Replicates\n",
    "random_intercepts = stats.norm.rvs(scale=0.5, size=(num_groups_per_condition*2, num_genes))\n",
    "# random_intercepts = np.vstack([random_intercepts, random_intercepts])\n",
    "\n",
    "means_1 = np.exp(np.log(z_param_1[0]))# + random_intercepts[:num_groups_per_condition])\n",
    "means_2 = np.exp(np.log(z_param_1[0]) + treatment_effect)# + random_intercepts[num_groups_per_condition:])\n",
    "\n",
    "variances_1 = means_1 + dispersions*means_1**2\n",
    "variances_2 = means_2 + (dispersions_2)*means_2**2\n",
    "\n",
    "means = np.vstack([means_1, means_2])\n",
    "variances = np.vstack([variances_1, variances_2])"
   ]
  },
  {
   "cell_type": "code",
   "execution_count": 119,
   "metadata": {},
   "outputs": [],
   "source": [
    "simulation_parameters = pd.DataFrame(np.vstack([means, variances, null_genes, treatment_effect])).T\n",
    "simulation_parameters.columns = ['mean_'+str(i) for i in range(num_groups_per_condition*2)] + ['var_'+str(i) for i in range(num_groups_per_condition*2)] + ['null', 'treatment_effect']"
   ]
  },
  {
   "cell_type": "code",
   "execution_count": 120,
   "metadata": {},
   "outputs": [
    {
     "name": "stdout",
     "output_type": "stream",
     "text": [
      "4025392\n"
     ]
    },
    {
     "name": "stderr",
     "output_type": "stream",
     "text": [
      "/tmp/ipykernel_8948/1452417571.py:23: FutureWarning: X.dtype being converted to np.float32 from int64. In the next version of anndata (0.9) conversion will not be automatic. Pass dtype explicitly to avoid this warning. Pass `AnnData(X, dtype=X.dtype, ...)` to get the future behavour.\n",
      "  anndata = sc.AnnData(sp.sparse.csr_matrix(hyper_captured))\n"
     ]
    },
    {
     "name": "stdout",
     "output_type": "stream",
     "text": [
      "4094274\n"
     ]
    },
    {
     "name": "stderr",
     "output_type": "stream",
     "text": [
      "/tmp/ipykernel_8948/1452417571.py:23: FutureWarning: X.dtype being converted to np.float32 from int64. In the next version of anndata (0.9) conversion will not be automatic. Pass dtype explicitly to avoid this warning. Pass `AnnData(X, dtype=X.dtype, ...)` to get the future behavour.\n",
      "  anndata = sc.AnnData(sp.sparse.csr_matrix(hyper_captured))\n",
      "/home/ssm-user/anaconda3/envs/single_cell/lib/python3.8/site-packages/anndata/_core/anndata.py:1785: FutureWarning: X.dtype being converted to np.float32 from float64. In the next version of anndata (0.9) conversion will not be automatic. Pass dtype explicitly to avoid this warning. Pass `AnnData(X, dtype=X.dtype, ...)` to get the future behavour.\n",
      "  [AnnData(sparse.csr_matrix(a.shape), obs=a.obs) for a in all_adatas],\n"
     ]
    }
   ],
   "source": [
    "anndata_list = []\n",
    "pseudobulks = []\n",
    "rep_pseudobulks = []\n",
    "groups = string.ascii_lowercase[:num_groups_per_condition*2]\n",
    "idx = 0\n",
    "for m, v, g in zip(means, variances, groups):\n",
    "    \n",
    "    true_data = simulate.simulate_transcriptomes(\n",
    "        n_cells=num_cells, \n",
    "        means=m,\n",
    "        variances=v,\n",
    "        Nc=Nc_1,\n",
    "        norm_cov='indep')\n",
    "    true_data[(true_data < 0) | (true_data > 1000)] = 0\n",
    "    \n",
    "    _, hyper_captured = simulate.capture_sampling(true_data, q=q, process='hyper')\n",
    "    \n",
    "    pseudobulks.append(hyper_captured.sum(axis=0))\n",
    "    rep_pseudobulks.append(hyper_captured[:int(num_cells/2)].sum(axis=0))\n",
    "    rep_pseudobulks.append(hyper_captured[int(num_cells/2):].sum(axis=0))\n",
    "    \n",
    "    print(true_data.sum())\n",
    "    anndata = sc.AnnData(sp.sparse.csr_matrix(hyper_captured))\n",
    "    anndata.obs['group'] = g\n",
    "    anndata.obs['condition'] = 'ctrl' if idx < num_groups_per_condition else 'stim'\n",
    "    \n",
    "    anndata_list.append(anndata)\n",
    "    idx += 1\n",
    "    \n",
    "simulated_adata = sc.AnnData.concatenate(*anndata_list)\n",
    "simulated_adata.var['is_null'] = null_genes\n",
    "simulated_adata.var['treatment_effect'] = treatment_effect\n",
    "pseudobulks = pd.DataFrame(np.vstack(pseudobulks)).T\n",
    "pseudobulks.index.name = 'Symbols'\n",
    "rep_pseudobulks = pd.DataFrame(np.vstack(rep_pseudobulks)).T\n",
    "rep_pseudobulks.index.name = 'Symbols'\n",
    "\n",
    "simulated_adata.write(data_path + 'means/stratified/anndata.h5ad')\n",
    "pseudobulks.to_csv(data_path + 'means/stratified/pseudobulks.csv')\n",
    "rep_pseudobulks.to_csv(data_path + 'means/stratified/rep_pseudobulks.csv')\n",
    "\n",
    "simulation_parameters.to_csv(data_path + 'means/stratified/parameters.csv', index=False)\n",
    "\n",
    "norm_adata = simulated_adata.copy().copy()\n",
    "sc.pp.normalize_total(norm_adata)\n",
    "sc.pp.log1p(norm_adata)\n",
    "sc.pp.scale(norm_adata)\n",
    "norm_adata.write(data_path + 'means/stratified/norm_anndata.h5ad')"
   ]
  },
  {
   "cell_type": "code",
   "execution_count": null,
   "metadata": {},
   "outputs": [],
   "source": []
  },
  {
   "cell_type": "code",
   "execution_count": null,
   "metadata": {},
   "outputs": [],
   "source": []
  },
  {
   "cell_type": "code",
   "execution_count": null,
   "metadata": {},
   "outputs": [],
   "source": []
  },
  {
   "cell_type": "code",
   "execution_count": null,
   "metadata": {},
   "outputs": [],
   "source": []
  },
  {
   "cell_type": "code",
   "execution_count": null,
   "metadata": {},
   "outputs": [],
   "source": []
  },
  {
   "cell_type": "code",
   "execution_count": 220,
   "metadata": {},
   "outputs": [],
   "source": [
    "ifn_adata = sc.read('/data_volume/memento/demux/' + 'interferon_filtered.h5ad')\n",
    "inds = ifn_adata.obs.ind.drop_duplicates().tolist()\n",
    "stims = ['ctrl', 'stim']\n",
    "cts = ['CD14+ Monocytes',\n",
    "#  'CD8 T cells',\n",
    " 'CD4 T cells',\n",
    "]\n",
    "num_groups = len(cts)"
   ]
  },
  {
   "cell_type": "code",
   "execution_count": 221,
   "metadata": {},
   "outputs": [
    {
     "name": "stdout",
     "output_type": "stream",
     "text": [
      "ctrl CD14+ Monocytes\n",
      "ctrl CD4 T cells\n",
      "stim CD14+ Monocytes\n",
      "stim CD4 T cells\n",
      "done\n",
      "done\n",
      "done\n",
      "done\n"
     ]
    }
   ],
   "source": [
    "adata_list = []\n",
    "q=0.07\n",
    "for stim in stims:\n",
    "    for ct in cts:\n",
    "        print(stim, ct)\n",
    "        adata_list.append(ifn_adata[(ifn_adata.obs['cell'] == ct) & (ifn_adata.obs['stim'] == stim) ].copy())\n",
    "        \n",
    "params = [simulate.extract_parameters(adata.X, q=q) for adata in adata_list]\n",
    "\n",
    "common_set = set(params[0][3])\n",
    "for param in params[1:]:\n",
    "    common_set &= set(param[3])\n",
    "\n",
    "x_params = [(np.array([x for x,i in zip(param[0][0], param[3]) if i in common_set]),np.array([x for x,i in zip(param[0][1], param[3]) if i in common_set])) for param in params]\n",
    "\n",
    "log_means = [np.log(x_param[0]) for x_param in x_params]\n",
    "log_variances = [np.log(x_param[1]) for x_param in x_params]\n",
    "Ncs = [param[2] for param in params]\n",
    "\n",
    "regressors = [memento.estimator._fit_mv_regressor(np.exp(lm), np.exp(lv)) for lm, lv in zip(log_means, log_variances)]\n",
    "rvs = [memento.estimator._residual_variance(np.exp(lm), np.exp(lv), reg) for lm, lv, reg in zip(log_means, log_variances, regressors)]\n",
    "fs= [np.poly1d(reg) for reg in regressors]\n",
    "\n",
    "total_average = np.vstack(log_means).mean(axis=0)\n",
    "group_1_avg = np.vstack(log_means[:num_groups]).mean(axis=0)\n",
    "group_2_avg = np.vstack(log_means[num_groups:]).mean(axis=0)\n",
    "group_diff = group_2_avg - group_1_avg\n",
    "offsets = [group_1_avg - total_average if i < num_groups else group_2_avg - total_average for i in range(num_groups*2)]\n",
    "\n",
    "null_idxs = np.absolute(group_diff) < 0.1\n",
    "for offset in offsets:\n",
    "    offset[~null_idxs] = 0\n",
    "    \n",
    "adjusted_log_means = [x-offset for x,offset in zip(log_means, offsets)]\n",
    "adjusted_log_variances = [f(lm)+np.log(rv) for f, lm, rv in zip(fs, adjusted_log_means, rvs)]\n",
    "\n",
    "simulated_data = []\n",
    "for lm, lv, Nc in zip(adjusted_log_means, adjusted_log_variances, Ncs):\n",
    "    zm = np.exp(lm)*Nc.mean()\n",
    "    zv = (np.exp(lv) + np.exp(lm)**2)*(Nc**2).mean() - np.exp(lm)**2*Nc.mean()**2\n",
    "    \n",
    "    zv = np.maximum(zm, zv)+0.5\n",
    "    \n",
    "    simulated_data.append(\n",
    "        simulate.simulate_transcriptomes(\n",
    "        n_cells=1000, \n",
    "        means=zm,\n",
    "        variances=zv,\n",
    "        Nc=Nc,\n",
    "        norm_cov='indep'))\n",
    "    print('done')\n",
    "\n",
    "# simulated_data = [\n",
    "#     simulate.simulate_transcriptomes(\n",
    "#         n_cells=1000, \n",
    "#         means=np.exp(lm)*Nc.mean(),\n",
    "#         variances=(np.exp(lv) + np.exp(lm)**2)*(Nc**2).mean() - np.exp(lm)**2*Nc.mean()**2,\n",
    "#         Nc=Nc,\n",
    "#         norm_cov='indep') for lm, lv, Nc in zip(adjusted_log_means, adjusted_log_variances, Ncs)]"
   ]
  },
  {
   "cell_type": "code",
   "execution_count": null,
   "metadata": {},
   "outputs": [],
   "source": [
    "treatment_effect"
   ]
  },
  {
   "cell_type": "code",
   "execution_count": null,
   "metadata": {},
   "outputs": [],
   "source": []
  },
  {
   "cell_type": "code",
   "execution_count": 191,
   "metadata": {},
   "outputs": [],
   "source": [
    "# lm = log_means[0]\n",
    "# lv = log_variances[0]\n",
    "# Nc = Ncs[0]\n",
    "# a = simulate.simulate_transcriptomes(\n",
    "#     n_cells=1000, \n",
    "#     means=np.exp(lm)*Nc.mean(),\n",
    "#     variances=(np.exp(lv) + np.exp(lm)**2)*(Nc**2).mean() - np.exp(lm)**2*Nc.mean()**2,\n",
    "#     Nc=Nc,\n",
    "#     norm_cov='indep')"
   ]
  },
  {
   "cell_type": "code",
   "execution_count": 42,
   "metadata": {},
   "outputs": [
    {
     "ename": "SyntaxError",
     "evalue": "invalid syntax (2826529995.py, line 1)",
     "output_type": "error",
     "traceback": [
      "\u001b[0;36m  Input \u001b[0;32mIn [42]\u001b[0;36m\u001b[0m\n\u001b[0;31m    def simulate_complex_dataset(log_means, log_variances, Ncs, n_cells, q)\u001b[0m\n\u001b[0m                                                                           ^\u001b[0m\n\u001b[0;31mSyntaxError\u001b[0m\u001b[0;31m:\u001b[0m invalid syntax\n"
     ]
    }
   ],
   "source": [
    "def simulate_complex_dataset(log_means, log_variances, Ncs, n_cells, q)\n",
    "    \"\"\"Complex simulation only for mean now\"\"\"\n",
    "    \n",
    "    regressors = [memento.estimator._fit_mv_regressor(np.exp(lm), np.exp(lv)) for lm, lv in zip(log_means, log_variances)]\n",
    "    rvs = [memento.estimator._residual_variance(np.exp(lm), np.exp(lv), reg) for lm, lv, reg in zip(log_means, log_variances, regressors)]\n",
    "    \n",
    "    total_average = np.vstack(log_means).mean(axis=0)\n",
    "    group_1_avg = np.vstack(log_means[:8]).mean(axis=0)\n",
    "    group_2_avg = np.vstack(log_means[8:]).mean(axis=0)\n",
    "    group_diff = group_2_avg - group_1_avg\n",
    "    "
   ]
  },
  {
   "cell_type": "markdown",
   "metadata": {},
   "source": [
    "### Generate simulated binary dataset - for each individual"
   ]
  },
  {
   "cell_type": "code",
   "execution_count": 99,
   "metadata": {},
   "outputs": [],
   "source": [
    "ifn_adata = sc.read('/data_volume/memento/demux/' + 'interferon_filtered.h5ad')\n"
   ]
  },
  {
   "cell_type": "code",
   "execution_count": 185,
   "metadata": {},
   "outputs": [],
   "source": [
    "adata_1 = ifn_adata[(ifn_adata.obs['cell'] == 'CD4 T cells') & (ifn_adata.obs['stim'] == 'ctrl') & (ifn_adata.obs['ind'] == ind)]\n",
    "adata_2 = ifn_adata[(ifn_adata.obs['cell'] == 'CD4 T cells') & (ifn_adata.obs['stim'] == 'stim') & (ifn_adata.obs['ind'] == ind)]\n",
    "\n",
    "x_param_1, z_param_1, Nc_1, good_idx_1 = simulate.extract_parameters(adata_1.X, q=q)\n",
    "x_param_2, z_param_2, Nc_2, good_idx_2 = simulate.extract_parameters(adata_2.X, q=q)"
   ]
  },
  {
   "cell_type": "code",
   "execution_count": 186,
   "metadata": {},
   "outputs": [],
   "source": [
    "common_set = np.array(list(set(good_idx_1) & set(good_idx_2)))\n",
    "x_param_1 = (\n",
    "    np.array([x for x,i in zip(x_param_1[0], good_idx_1) if i in common_set]),\n",
    "    np.array([x for x,i in zip(x_param_1[1], good_idx_1) if i in common_set]))\n",
    "x_param_2 = (\n",
    "    np.array([x for x,i in zip(x_param_2[0], good_idx_2) if i in common_set]),\n",
    "    np.array([x for x,i in zip(x_param_2[1], good_idx_2) if i in common_set]))"
   ]
  },
  {
   "cell_type": "code",
   "execution_count": 187,
   "metadata": {},
   "outputs": [
    {
     "name": "stderr",
     "output_type": "stream",
     "text": [
      "/tmp/ipykernel_25280/3406898306.py:1: RuntimeWarning: invalid value encountered in log\n",
      "  log_means_1, log_variances_1 = np.log(x_param_1[0]), np.log(x_param_1[1])\n",
      "/tmp/ipykernel_25280/3406898306.py:2: RuntimeWarning: invalid value encountered in log\n",
      "  log_means_2, log_variances_2 = np.log(x_param_2[0]), np.log(x_param_2[1])\n"
     ]
    }
   ],
   "source": [
    "log_means_1, log_variances_1 = np.log(x_param_1[0]), np.log(x_param_1[1])\n",
    "log_means_2, log_variances_2 = np.log(x_param_2[0]), np.log(x_param_2[1])"
   ]
  },
  {
   "cell_type": "code",
   "execution_count": 188,
   "metadata": {},
   "outputs": [
    {
     "data": {
      "text/plain": [
       "<matplotlib.collections.PathCollection at 0x7f08194d50d0>"
      ]
     },
     "execution_count": 188,
     "metadata": {},
     "output_type": "execute_result"
    },
    {
     "data": {
      "image/png": "[encoded data removed]",
      "text/plain": [
       "<Figure size 432x288 with 1 Axes>"
      ]
     },
     "metadata": {
      "needs_background": "light"
     },
     "output_type": "display_data"
    }
   ],
   "source": [
    "plt.scatter(log_means_1, log_means_2)"
   ]
  },
  {
   "cell_type": "code",
   "execution_count": 189,
   "metadata": {},
   "outputs": [],
   "source": [
    "def simulate_two_datasets(x_param_1 ,x_param_2, Nc_1, Nc_2, n_cells, q, diff='mean'):\n",
    "    \n",
    "    log_means_1, log_variances_1 = np.log(x_param_1[0]), np.log(x_param_1[1])\n",
    "    log_means_2, log_variances_2 = np.log(x_param_2[0]), np.log(x_param_2[1])\n",
    "    reg_1 = memento.estimator._fit_mv_regressor(np.exp(log_means_1), np.exp(log_variances_1))\n",
    "    reg_2 = memento.estimator._fit_mv_regressor(np.exp(log_means_2), np.exp(log_variances_2))\n",
    "    rv_1 = memento.estimator._residual_variance(np.exp(log_means_1), np.exp(log_variances_1), reg_1)\n",
    "    rv_2 = memento.estimator._residual_variance(np.exp(log_means_2), np.exp(log_variances_2), reg_2)\n",
    "    f_1 = np.poly1d(reg_1)\n",
    "    f_2 = np.poly1d(reg_2)\n",
    "    \n",
    "    if diff == 'null':\n",
    "        norm_cov_1, norm_cov_2 = 'indep', 'indep'\n",
    "    if diff == 'mean':\n",
    "        avg_means = (log_means_1+log_means_2)/2\n",
    "        null_idxs = np.absolute(log_means_1-log_means_2) < 0.25\n",
    "        log_means_1[null_idxs] = avg_means[null_idxs]\n",
    "        log_means_2[null_idxs] = avg_means[null_idxs]\n",
    "        log_variances_1[null_idxs] = f_1(log_means_1[null_idxs])+np.log(rv_1[null_idxs])\n",
    "        log_variances_2[null_idxs] = f_2(log_means_2[null_idxs])+np.log(rv_2[null_idxs])\n",
    "        norm_cov_1, norm_cov_2 = 'indep', 'indep'\n",
    "    if diff == 'variability':\n",
    "        avg_rvs = np.exp((np.log(rv_1)+np.log(rv_2))/2)\n",
    "        null_idxs = np.absolute(np.log(rv_1)-np.log(rv_2)) < 0.5\n",
    "        rv_1[null_idxs] = avg_rvs[null_idxs]\n",
    "        rv_2[null_idxs] = avg_rvs[null_idxs]\n",
    "        log_variances_1[null_idxs] = f_1(log_means_1[null_idxs])+np.log(rv_1[null_idxs])\n",
    "        log_variances_2[null_idxs] = f_2(log_means_2[null_idxs])+np.log(rv_2[null_idxs])\n",
    "        norm_cov_1, norm_cov_2 = 'indep', 'indep'\n",
    "    if diff == 'correlation':\n",
    "        num_dc_genes = 400\n",
    "        norm_cov_1 = cov2corr(make_spd_matrix(num_dc_genes))\n",
    "        norm_cov_2 = cov2corr(make_spd_matrix(num_dc_genes))\n",
    "        es_diff = norm_cov_2 - norm_cov_1\n",
    "        with open(data_path + 'dc_true_effect_size.pkl', 'wb') as f:\n",
    "            pkl.dump(es_diff, f)\n",
    "            \n",
    "    print((np.exp(log_means_1)*Nc_1.mean() < ((np.exp(log_variances_1) + np.exp(log_means_1)**2)*(Nc_1**2).mean() - np.exp(log_means_1)**2*Nc_1.mean()**2)).mean())\n",
    "    \n",
    "    data_1 = simulate.simulate_transcriptomes(\n",
    "        n_cells=n_cells, \n",
    "        means=np.exp(log_means_1)*Nc_1.mean(),\n",
    "        variances=(np.exp(log_variances_1) + np.exp(log_means_1)**2)*(Nc_1**2).mean() - np.exp(log_means_1)**2*Nc_1.mean()**2,\n",
    "        Nc=Nc_1,\n",
    "        norm_cov=norm_cov_1)\n",
    "    \n",
    "    data_2 = simulate.simulate_transcriptomes(\n",
    "        n_cells=n_cells, \n",
    "        means=np.exp(log_means_2)*Nc_2.mean(),\n",
    "        variances=(np.exp(log_variances_2) + np.exp(log_means_2)**2)*(Nc_2**2).mean() - np.exp(log_means_2)**2*Nc_2.mean()**2,\n",
    "        Nc=Nc_2,\n",
    "        norm_cov=norm_cov_2)\n",
    "    \n",
    "    true_data = np.vstack([data_1, data_2])\n",
    "    true_data[(true_data < 0) | (true_data > 500)] = 0\n",
    "    _, hyper_captured = simulate.capture_sampling(true_data, q=q, process='hyper')\n",
    "    \n",
    "    print(true_data.sum())\n",
    "    anndata = sc.AnnData(sp.sparse.csr_matrix(hyper_captured))\n",
    "    anndata.obs['ct_real'] = ['A' for i in range(n_cells)] + ['B' for i in range(n_cells)]\n",
    "    anndata.obs['ct_shuffled'] = np.random.choice(['A', 'B'], anndata.shape[0])\n",
    "    \n",
    "    if diff != 'correlation':\n",
    "        anndata.var['is_null'] = null_idxs\n",
    "        anndata.var['is_sig'] = ~anndata.var['is_null']\n",
    "    \n",
    "    if diff == 'correlation':\n",
    "        return true_data, anndata, None\n",
    "    else:\n",
    "        return anndata, None\n",
    "\n",
    "    \n"
   ]
  },
  {
   "cell_type": "code",
   "execution_count": 190,
   "metadata": {},
   "outputs": [
    {
     "name": "stdout",
     "output_type": "stream",
     "text": [
      "0.766798418972332\n"
     ]
    },
    {
     "name": "stderr",
     "output_type": "stream",
     "text": [
      "/tmp/ipykernel_25280/3216752186.py:3: RuntimeWarning: invalid value encountered in log\n",
      "  log_means_1, log_variances_1 = np.log(x_param_1[0]), np.log(x_param_1[1])\n",
      "/tmp/ipykernel_25280/3216752186.py:4: RuntimeWarning: invalid value encountered in log\n",
      "  log_means_2, log_variances_2 = np.log(x_param_2[0]), np.log(x_param_2[1])\n"
     ]
    },
    {
     "ename": "ValueError",
     "evalue": "Domain error in arguments.",
     "output_type": "error",
     "traceback": [
      "\u001b[0;31m---------------------------------------------------------------------------\u001b[0m",
      "\u001b[0;31mValueError\u001b[0m                                Traceback (most recent call last)",
      "Input \u001b[0;32mIn [190]\u001b[0m, in \u001b[0;36m<cell line: 1>\u001b[0;34m()\u001b[0m\n\u001b[0;32m----> 1\u001b[0m de_sim_adata, de_change_indices \u001b[38;5;241m=\u001b[39m \u001b[43msimulate_two_datasets\u001b[49m\u001b[43m(\u001b[49m\u001b[43mx_param_1\u001b[49m\u001b[43m,\u001b[49m\u001b[43m \u001b[49m\u001b[43mx_param_2\u001b[49m\u001b[43m,\u001b[49m\u001b[43m \u001b[49m\u001b[43mNc_1\u001b[49m\u001b[43m,\u001b[49m\u001b[43m \u001b[49m\u001b[43mNc_2\u001b[49m\u001b[43m,\u001b[49m\u001b[43m \u001b[49m\u001b[43mn_cells\u001b[49m\u001b[38;5;241;43m=\u001b[39;49m\u001b[38;5;241;43m250\u001b[39;49m\u001b[43m,\u001b[49m\u001b[43m \u001b[49m\u001b[43mq\u001b[49m\u001b[38;5;241;43m=\u001b[39;49m\u001b[43mq\u001b[49m\u001b[43m,\u001b[49m\u001b[43m \u001b[49m\u001b[43mdiff\u001b[49m\u001b[38;5;241;43m=\u001b[39;49m\u001b[38;5;124;43m'\u001b[39;49m\u001b[38;5;124;43mmean\u001b[39;49m\u001b[38;5;124;43m'\u001b[39;49m\u001b[43m)\u001b[49m\n",
      "Input \u001b[0;32mIn [189]\u001b[0m, in \u001b[0;36msimulate_two_datasets\u001b[0;34m(x_param_1, x_param_2, Nc_1, Nc_2, n_cells, q, diff)\u001b[0m\n\u001b[1;32m     36\u001b[0m         pkl\u001b[38;5;241m.\u001b[39mdump(es_diff, f)\n\u001b[1;32m     38\u001b[0m \u001b[38;5;28mprint\u001b[39m((np\u001b[38;5;241m.\u001b[39mexp(log_means_1)\u001b[38;5;241m*\u001b[39mNc_1\u001b[38;5;241m.\u001b[39mmean() \u001b[38;5;241m<\u001b[39m ((np\u001b[38;5;241m.\u001b[39mexp(log_variances_1) \u001b[38;5;241m+\u001b[39m np\u001b[38;5;241m.\u001b[39mexp(log_means_1)\u001b[38;5;241m*\u001b[39m\u001b[38;5;241m*\u001b[39m\u001b[38;5;241m2\u001b[39m)\u001b[38;5;241m*\u001b[39m(Nc_1\u001b[38;5;241m*\u001b[39m\u001b[38;5;241m*\u001b[39m\u001b[38;5;241m2\u001b[39m)\u001b[38;5;241m.\u001b[39mmean() \u001b[38;5;241m-\u001b[39m np\u001b[38;5;241m.\u001b[39mexp(log_means_1)\u001b[38;5;241m*\u001b[39m\u001b[38;5;241m*\u001b[39m\u001b[38;5;241m2\u001b[39m\u001b[38;5;241m*\u001b[39mNc_1\u001b[38;5;241m.\u001b[39mmean()\u001b[38;5;241m*\u001b[39m\u001b[38;5;241m*\u001b[39m\u001b[38;5;241m2\u001b[39m))\u001b[38;5;241m.\u001b[39mmean())\n\u001b[0;32m---> 40\u001b[0m data_1 \u001b[38;5;241m=\u001b[39m \u001b[43msimulate\u001b[49m\u001b[38;5;241;43m.\u001b[39;49m\u001b[43msimulate_transcriptomes\u001b[49m\u001b[43m(\u001b[49m\n\u001b[1;32m     41\u001b[0m \u001b[43m    \u001b[49m\u001b[43mn_cells\u001b[49m\u001b[38;5;241;43m=\u001b[39;49m\u001b[43mn_cells\u001b[49m\u001b[43m,\u001b[49m\u001b[43m \u001b[49m\n\u001b[1;32m     42\u001b[0m \u001b[43m    \u001b[49m\u001b[43mmeans\u001b[49m\u001b[38;5;241;43m=\u001b[39;49m\u001b[43mnp\u001b[49m\u001b[38;5;241;43m.\u001b[39;49m\u001b[43mexp\u001b[49m\u001b[43m(\u001b[49m\u001b[43mlog_means_1\u001b[49m\u001b[43m)\u001b[49m\u001b[38;5;241;43m*\u001b[39;49m\u001b[43mNc_1\u001b[49m\u001b[38;5;241;43m.\u001b[39;49m\u001b[43mmean\u001b[49m\u001b[43m(\u001b[49m\u001b[43m)\u001b[49m\u001b[43m,\u001b[49m\n\u001b[1;32m     43\u001b[0m \u001b[43m    \u001b[49m\u001b[43mvariances\u001b[49m\u001b[38;5;241;43m=\u001b[39;49m\u001b[43m(\u001b[49m\u001b[43mnp\u001b[49m\u001b[38;5;241;43m.\u001b[39;49m\u001b[43mexp\u001b[49m\u001b[43m(\u001b[49m\u001b[43mlog_variances_1\u001b[49m\u001b[43m)\u001b[49m\u001b[43m \u001b[49m\u001b[38;5;241;43m+\u001b[39;49m\u001b[43m \u001b[49m\u001b[43mnp\u001b[49m\u001b[38;5;241;43m.\u001b[39;49m\u001b[43mexp\u001b[49m\u001b[43m(\u001b[49m\u001b[43mlog_means_1\u001b[49m\u001b[43m)\u001b[49m\u001b[38;5;241;43m*\u001b[39;49m\u001b[38;5;241;43m*\u001b[39;49m\u001b[38;5;241;43m2\u001b[39;49m\u001b[43m)\u001b[49m\u001b[38;5;241;43m*\u001b[39;49m\u001b[43m(\u001b[49m\u001b[43mNc_1\u001b[49m\u001b[38;5;241;43m*\u001b[39;49m\u001b[38;5;241;43m*\u001b[39;49m\u001b[38;5;241;43m2\u001b[39;49m\u001b[43m)\u001b[49m\u001b[38;5;241;43m.\u001b[39;49m\u001b[43mmean\u001b[49m\u001b[43m(\u001b[49m\u001b[43m)\u001b[49m\u001b[43m \u001b[49m\u001b[38;5;241;43m-\u001b[39;49m\u001b[43m \u001b[49m\u001b[43mnp\u001b[49m\u001b[38;5;241;43m.\u001b[39;49m\u001b[43mexp\u001b[49m\u001b[43m(\u001b[49m\u001b[43mlog_means_1\u001b[49m\u001b[43m)\u001b[49m\u001b[38;5;241;43m*\u001b[39;49m\u001b[38;5;241;43m*\u001b[39;49m\u001b[38;5;241;43m2\u001b[39;49m\u001b[38;5;241;43m*\u001b[39;49m\u001b[43mNc_1\u001b[49m\u001b[38;5;241;43m.\u001b[39;49m\u001b[43mmean\u001b[49m\u001b[43m(\u001b[49m\u001b[43m)\u001b[49m\u001b[38;5;241;43m*\u001b[39;49m\u001b[38;5;241;43m*\u001b[39;49m\u001b[38;5;241;43m2\u001b[39;49m\u001b[43m,\u001b[49m\n\u001b[1;32m     44\u001b[0m \u001b[43m    \u001b[49m\u001b[43mNc\u001b[49m\u001b[38;5;241;43m=\u001b[39;49m\u001b[43mNc_1\u001b[49m\u001b[43m,\u001b[49m\n\u001b[1;32m     45\u001b[0m \u001b[43m    \u001b[49m\u001b[43mnorm_cov\u001b[49m\u001b[38;5;241;43m=\u001b[39;49m\u001b[43mnorm_cov_1\u001b[49m\u001b[43m)\u001b[49m\n\u001b[1;32m     47\u001b[0m data_2 \u001b[38;5;241m=\u001b[39m simulate\u001b[38;5;241m.\u001b[39msimulate_transcriptomes(\n\u001b[1;32m     48\u001b[0m     n_cells\u001b[38;5;241m=\u001b[39mn_cells, \n\u001b[1;32m     49\u001b[0m     means\u001b[38;5;241m=\u001b[39mnp\u001b[38;5;241m.\u001b[39mexp(log_means_2)\u001b[38;5;241m*\u001b[39mNc_2\u001b[38;5;241m.\u001b[39mmean(),\n\u001b[1;32m     50\u001b[0m     variances\u001b[38;5;241m=\u001b[39m(np\u001b[38;5;241m.\u001b[39mexp(log_variances_2) \u001b[38;5;241m+\u001b[39m np\u001b[38;5;241m.\u001b[39mexp(log_means_2)\u001b[38;5;241m*\u001b[39m\u001b[38;5;241m*\u001b[39m\u001b[38;5;241m2\u001b[39m)\u001b[38;5;241m*\u001b[39m(Nc_2\u001b[38;5;241m*\u001b[39m\u001b[38;5;241m*\u001b[39m\u001b[38;5;241m2\u001b[39m)\u001b[38;5;241m.\u001b[39mmean() \u001b[38;5;241m-\u001b[39m np\u001b[38;5;241m.\u001b[39mexp(log_means_2)\u001b[38;5;241m*\u001b[39m\u001b[38;5;241m*\u001b[39m\u001b[38;5;241m2\u001b[39m\u001b[38;5;241m*\u001b[39mNc_2\u001b[38;5;241m.\u001b[39mmean()\u001b[38;5;241m*\u001b[39m\u001b[38;5;241m*\u001b[39m\u001b[38;5;241m2\u001b[39m,\n\u001b[1;32m     51\u001b[0m     Nc\u001b[38;5;241m=\u001b[39mNc_2,\n\u001b[1;32m     52\u001b[0m     norm_cov\u001b[38;5;241m=\u001b[39mnorm_cov_2)\n\u001b[1;32m     54\u001b[0m true_data \u001b[38;5;241m=\u001b[39m np\u001b[38;5;241m.\u001b[39mvstack([data_1, data_2])\n",
      "File \u001b[0;32m~/anaconda3/envs/single_cell/lib/python3.8/site-packages/memento/simulate.py:67\u001b[0m, in \u001b[0;36msimulate_transcriptomes\u001b[0;34m(n_cells, means, variances, Nc, norm_cov)\u001b[0m\n\u001b[1;32m     64\u001b[0m thetas \u001b[38;5;241m=\u001b[39m \u001b[38;5;241m1\u001b[39m\u001b[38;5;241m/\u001b[39mdispersions\n\u001b[1;32m     66\u001b[0m \u001b[38;5;28;01mif\u001b[39;00m \u001b[38;5;28mtype\u001b[39m(norm_cov) \u001b[38;5;241m==\u001b[39m \u001b[38;5;28mstr\u001b[39m:\n\u001b[0;32m---> 67\u001b[0m \t\u001b[38;5;28;01mreturn\u001b[39;00m \u001b[43mstats\u001b[49m\u001b[38;5;241;43m.\u001b[39;49m\u001b[43mnbinom\u001b[49m\u001b[38;5;241;43m.\u001b[39;49m\u001b[43mrvs\u001b[49m\u001b[43m(\u001b[49m\u001b[38;5;241;43m*\u001b[39;49m\u001b[43mconvert_params_nb\u001b[49m\u001b[43m(\u001b[49m\u001b[43mmeans\u001b[49m\u001b[43m,\u001b[49m\u001b[43m \u001b[49m\u001b[43mthetas\u001b[49m\u001b[43m)\u001b[49m\u001b[43m,\u001b[49m\u001b[43m \u001b[49m\u001b[43msize\u001b[49m\u001b[38;5;241;43m=\u001b[39;49m\u001b[43m(\u001b[49m\u001b[43mn_cells\u001b[49m\u001b[43m,\u001b[49m\u001b[43m \u001b[49m\u001b[43mn_genes\u001b[49m\u001b[43m)\u001b[49m\u001b[43m)\u001b[49m\n\u001b[1;32m     69\u001b[0m \u001b[38;5;66;03m# Generate the copula\u001b[39;00m\n\u001b[1;32m     70\u001b[0m n_corr_genes \u001b[38;5;241m=\u001b[39m norm_cov\u001b[38;5;241m.\u001b[39mshape[\u001b[38;5;241m0\u001b[39m]\n",
      "File \u001b[0;32m~/anaconda3/envs/single_cell/lib/python3.8/site-packages/scipy/stats/_distn_infrastructure.py:3117\u001b[0m, in \u001b[0;36mrv_discrete.rvs\u001b[0;34m(self, *args, **kwargs)\u001b[0m\n\u001b[1;32m   3088\u001b[0m \u001b[38;5;124;03m\"\"\"Random variates of given type.\u001b[39;00m\n\u001b[1;32m   3089\u001b[0m \n\u001b[1;32m   3090\u001b[0m \u001b[38;5;124;03mParameters\u001b[39;00m\n\u001b[0;32m   (...)\u001b[0m\n\u001b[1;32m   3114\u001b[0m \n\u001b[1;32m   3115\u001b[0m \u001b[38;5;124;03m\"\"\"\u001b[39;00m\n\u001b[1;32m   3116\u001b[0m kwargs[\u001b[38;5;124m'\u001b[39m\u001b[38;5;124mdiscrete\u001b[39m\u001b[38;5;124m'\u001b[39m] \u001b[38;5;241m=\u001b[39m \u001b[38;5;28;01mTrue\u001b[39;00m\n\u001b[0;32m-> 3117\u001b[0m \u001b[38;5;28;01mreturn\u001b[39;00m \u001b[38;5;28;43msuper\u001b[39;49m\u001b[43m(\u001b[49m\u001b[43m)\u001b[49m\u001b[38;5;241;43m.\u001b[39;49m\u001b[43mrvs\u001b[49m\u001b[43m(\u001b[49m\u001b[38;5;241;43m*\u001b[39;49m\u001b[43margs\u001b[49m\u001b[43m,\u001b[49m\u001b[43m \u001b[49m\u001b[38;5;241;43m*\u001b[39;49m\u001b[38;5;241;43m*\u001b[39;49m\u001b[43mkwargs\u001b[49m\u001b[43m)\u001b[49m\n",
      "File \u001b[0;32m~/anaconda3/envs/single_cell/lib/python3.8/site-packages/scipy/stats/_distn_infrastructure.py:1067\u001b[0m, in \u001b[0;36mrv_generic.rvs\u001b[0;34m(self, *args, **kwds)\u001b[0m\n\u001b[1;32m   1065\u001b[0m cond \u001b[38;5;241m=\u001b[39m logical_and(\u001b[38;5;28mself\u001b[39m\u001b[38;5;241m.\u001b[39m_argcheck(\u001b[38;5;241m*\u001b[39margs), (scale \u001b[38;5;241m>\u001b[39m\u001b[38;5;241m=\u001b[39m \u001b[38;5;241m0\u001b[39m))\n\u001b[1;32m   1066\u001b[0m \u001b[38;5;28;01mif\u001b[39;00m \u001b[38;5;129;01mnot\u001b[39;00m np\u001b[38;5;241m.\u001b[39mall(cond):\n\u001b[0;32m-> 1067\u001b[0m     \u001b[38;5;28;01mraise\u001b[39;00m \u001b[38;5;167;01mValueError\u001b[39;00m(\u001b[38;5;124m\"\u001b[39m\u001b[38;5;124mDomain error in arguments.\u001b[39m\u001b[38;5;124m\"\u001b[39m)\n\u001b[1;32m   1069\u001b[0m \u001b[38;5;28;01mif\u001b[39;00m np\u001b[38;5;241m.\u001b[39mall(scale \u001b[38;5;241m==\u001b[39m \u001b[38;5;241m0\u001b[39m):\n\u001b[1;32m   1070\u001b[0m     \u001b[38;5;28;01mreturn\u001b[39;00m loc\u001b[38;5;241m*\u001b[39mones(size, \u001b[38;5;124m'\u001b[39m\u001b[38;5;124md\u001b[39m\u001b[38;5;124m'\u001b[39m)\n",
      "\u001b[0;31mValueError\u001b[0m: Domain error in arguments."
     ]
    }
   ],
   "source": [
    "de_sim_adata, de_change_indices = simulate_two_datasets(x_param_1, x_param_2, Nc_1, Nc_2, n_cells=250, q=q, diff='mean')"
   ]
  },
  {
   "cell_type": "markdown",
   "metadata": {},
   "source": [
    "### Generate simulated binary dataset"
   ]
  },
  {
   "cell_type": "code",
   "execution_count": 99,
   "metadata": {},
   "outputs": [],
   "source": [
    "ifn_adata = sc.read('/data_volume/memento/demux/' + 'interferon_filtered.h5ad')\n"
   ]
  },
  {
   "cell_type": "code",
   "execution_count": 100,
   "metadata": {},
   "outputs": [],
   "source": [
    "adata_1 = ifn_adata[ifn_adata.obs.cell_type == 'CD4 T cells - ctrl']\n",
    "adata_2 = ifn_adata[ifn_adata.obs.cell_type == 'CD4 T cells - stim']\n",
    "\n",
    "x_param_1, z_param_1, Nc_1, good_idx_1 = simulate.extract_parameters(adata_1.X, q=q)\n",
    "x_param_2, z_param_2, Nc_2, good_idx_2 = simulate.extract_parameters(adata_2.X, q=q)"
   ]
  },
  {
   "cell_type": "code",
   "execution_count": 101,
   "metadata": {},
   "outputs": [],
   "source": [
    "common_set = np.array(list(set(good_idx_1) & set(good_idx_2)))\n",
    "x_param_1 = (\n",
    "    np.array([x for x,i in zip(x_param_1[0], good_idx_1) if i in common_set]),\n",
    "    np.array([x for x,i in zip(x_param_1[1], good_idx_1) if i in common_set]))\n",
    "x_param_2 = (\n",
    "    np.array([x for x,i in zip(x_param_2[0], good_idx_2) if i in common_set]),\n",
    "    np.array([x for x,i in zip(x_param_2[1], good_idx_2) if i in common_set]))"
   ]
  },
  {
   "cell_type": "code",
   "execution_count": 102,
   "metadata": {},
   "outputs": [],
   "source": [
    "log_means_1, log_variances_1 = np.log(x_param_1[0]), np.log(x_param_1[1])\n",
    "log_means_2, log_variances_2 = np.log(x_param_2[0]), np.log(x_param_2[1])"
   ]
  },
  {
   "cell_type": "code",
   "execution_count": 103,
   "metadata": {},
   "outputs": [
    {
     "data": {
      "text/plain": [
       "<matplotlib.collections.PathCollection at 0x7f08195d77f0>"
      ]
     },
     "execution_count": 103,
     "metadata": {},
     "output_type": "execute_result"
    },
    {
     "data": {
      "image/png": "[encoded data removed]",
      "text/plain": [
       "<Figure size 432x288 with 1 Axes>"
      ]
     },
     "metadata": {
      "needs_background": "light"
     },
     "output_type": "display_data"
    }
   ],
   "source": [
    "plt.scatter(log_means_1, log_means_2)"
   ]
  },
  {
   "cell_type": "code",
   "execution_count": 154,
   "metadata": {},
   "outputs": [],
   "source": [
    "def simulate_two_datasets(x_param_1 ,x_param_2, Nc_1, Nc_2, n_cells, q, diff='mean'):\n",
    "    \n",
    "    log_means_1, log_variances_1 = np.log(x_param_1[0]), np.log(x_param_1[1])\n",
    "    log_means_2, log_variances_2 = np.log(x_param_2[0]), np.log(x_param_2[1])\n",
    "    reg_1 = memento.estimator._fit_mv_regressor(np.exp(log_means_1), np.exp(log_variances_1))\n",
    "    reg_2 = memento.estimator._fit_mv_regressor(np.exp(log_means_2), np.exp(log_variances_2))\n",
    "    rv_1 = memento.estimator._residual_variance(np.exp(log_means_1), np.exp(log_variances_1), reg_1)\n",
    "    rv_2 = memento.estimator._residual_variance(np.exp(log_means_2), np.exp(log_variances_2), reg_2)\n",
    "    f_1 = np.poly1d(reg_1)\n",
    "    f_2 = np.poly1d(reg_2)\n",
    "    \n",
    "    if diff == 'null':\n",
    "        norm_cov_1, norm_cov_2 = 'indep', 'indep'\n",
    "    if diff == 'mean':\n",
    "        avg_means = (log_means_1+log_means_2)/2\n",
    "        null_idxs = np.absolute(log_means_1-log_means_2) < 0.25\n",
    "        log_means_1[null_idxs] = avg_means[null_idxs]\n",
    "        log_means_2[null_idxs] = avg_means[null_idxs]\n",
    "        log_variances_1[null_idxs] = f_1(log_means_1[null_idxs])+np.log(rv_1[null_idxs])\n",
    "        log_variances_2[null_idxs] = f_2(log_means_2[null_idxs])+np.log(rv_2[null_idxs])\n",
    "        norm_cov_1, norm_cov_2 = 'indep', 'indep'\n",
    "    if diff == 'variability':\n",
    "        avg_rvs = np.exp((np.log(rv_1)+np.log(rv_2))/2)\n",
    "        null_idxs = np.absolute(np.log(rv_1)-np.log(rv_2)) < 0.5\n",
    "        rv_1[null_idxs] = avg_rvs[null_idxs]\n",
    "        rv_2[null_idxs] = avg_rvs[null_idxs]\n",
    "        log_variances_1[null_idxs] = f_1(log_means_1[null_idxs])+np.log(rv_1[null_idxs])\n",
    "        log_variances_2[null_idxs] = f_2(log_means_2[null_idxs])+np.log(rv_2[null_idxs])\n",
    "        norm_cov_1, norm_cov_2 = 'indep', 'indep'\n",
    "    if diff == 'correlation':\n",
    "        num_dc_genes = 400\n",
    "        norm_cov_1 = cov2corr(make_spd_matrix(num_dc_genes))\n",
    "        norm_cov_2 = cov2corr(make_spd_matrix(num_dc_genes))\n",
    "        es_diff = norm_cov_2 - norm_cov_1\n",
    "        with open(data_path + 'dc_true_effect_size.pkl', 'wb') as f:\n",
    "            pkl.dump(es_diff, f)\n",
    "            \n",
    "    print((np.exp(log_means_1)*Nc_1.mean() < ((np.exp(log_variances_1) + np.exp(log_means_1)**2)*(Nc_1**2).mean() - np.exp(log_means_1)**2*Nc_1.mean()**2)).mean())\n",
    "    \n",
    "    data_1 = simulate.simulate_transcriptomes(\n",
    "        n_cells=n_cells, \n",
    "        means=np.exp(log_means_1)*Nc_1.mean(),\n",
    "        variances=(np.exp(log_variances_1) + np.exp(log_means_1)**2)*(Nc_1**2).mean() - np.exp(log_means_1)**2*Nc_1.mean()**2,\n",
    "        Nc=Nc_1,\n",
    "        norm_cov=norm_cov_1)\n",
    "    \n",
    "    data_2 = simulate.simulate_transcriptomes(\n",
    "        n_cells=n_cells, \n",
    "        means=np.exp(log_means_2)*Nc_2.mean(),\n",
    "        variances=(np.exp(log_variances_2) + np.exp(log_means_2)**2)*(Nc_2**2).mean() - np.exp(log_means_2)**2*Nc_2.mean()**2,\n",
    "        Nc=Nc_2,\n",
    "        norm_cov=norm_cov_2)\n",
    "    \n",
    "    true_data = np.vstack([data_1, data_2])\n",
    "    true_data[(true_data < 0) | (true_data > 500)] = 0\n",
    "    _, hyper_captured = simulate.capture_sampling(true_data, q=q, process='hyper')\n",
    "    \n",
    "    print(true_data.sum())\n",
    "    anndata = sc.AnnData(sp.sparse.csr_matrix(hyper_captured))\n",
    "    anndata.obs['ct_real'] = ['A' for i in range(n_cells)] + ['B' for i in range(n_cells)]\n",
    "    anndata.obs['ct_shuffled'] = np.random.choice(['A', 'B'], anndata.shape[0])\n",
    "    \n",
    "    if diff != 'correlation':\n",
    "        anndata.var['is_null'] = null_idxs\n",
    "        anndata.var['is_sig'] = ~anndata.var['is_null']\n",
    "    \n",
    "    if diff == 'correlation':\n",
    "        return true_data, anndata, None\n",
    "    else:\n",
    "        return anndata, None\n",
    "\n",
    "    \n"
   ]
  },
  {
   "cell_type": "code",
   "execution_count": 155,
   "metadata": {},
   "outputs": [
    {
     "data": {
      "text/plain": [
       "array([10042.857, 26700.   , 11671.429, ..., 25857.143, 14000.   ,\n",
       "       20157.143], dtype=float32)"
      ]
     },
     "execution_count": 155,
     "metadata": {},
     "output_type": "execute_result"
    }
   ],
   "source": [
    "Nc_1"
   ]
  },
  {
   "cell_type": "code",
   "execution_count": 156,
   "metadata": {},
   "outputs": [
    {
     "name": "stdout",
     "output_type": "stream",
     "text": [
      "0.9708357799960854\n",
      "7405136\n"
     ]
    },
    {
     "name": "stderr",
     "output_type": "stream",
     "text": [
      "/tmp/ipykernel_25280/3216752186.py:59: FutureWarning: X.dtype being converted to np.float32 from int64. In the next version of anndata (0.9) conversion will not be automatic. Pass dtype explicitly to avoid this warning. Pass `AnnData(X, dtype=X.dtype, ...)` to get the future behavour.\n",
      "  anndata = sc.AnnData(sp.sparse.csr_matrix(hyper_captured))\n"
     ]
    }
   ],
   "source": [
    "de_sim_adata, de_change_indices = simulate_two_datasets(x_param_1, x_param_2, Nc_1, Nc_2, n_cells=250, q=q, diff='mean')"
   ]
  },
  {
   "cell_type": "markdown",
   "metadata": {},
   "source": [
    "### Simulate cells for DE"
   ]
  },
  {
   "cell_type": "code",
   "execution_count": 38,
   "metadata": {},
   "outputs": [],
   "source": [
    "# %%time\n",
    "# de_sim_adata, de_change_indices = simulate_two_datasets(x_param_1, x_param_2, Nc_1, Nc_2, n_cells=250, q=q, diff='mean')\n",
    "# de_sim_adata.write(data_path + 'de.h5ad')"
   ]
  },
  {
   "cell_type": "markdown",
   "metadata": {},
   "source": [
    "### Simulate cells for DV"
   ]
  },
  {
   "cell_type": "code",
   "execution_count": 39,
   "metadata": {},
   "outputs": [],
   "source": [
    "# dv_sim_adata, dv_change_indices = simulate_two_datasets(x_param_1, x_param_2, Nc_1, Nc_2, n_cells=1000, q=q, diff='variability')\n",
    "# dv_sim_adata.write(data_path + 'dv.h5ad')"
   ]
  },
  {
   "cell_type": "markdown",
   "metadata": {},
   "source": [
    "### Simulate cells for DC"
   ]
  },
  {
   "cell_type": "code",
   "execution_count": 40,
   "metadata": {},
   "outputs": [
    {
     "name": "stderr",
     "output_type": "stream",
     "text": [
      "... storing 'ct_real' as categorical\n",
      "... storing 'ct_shuffled' as categorical\n"
     ]
    }
   ],
   "source": [
    "true_data, dc_sim_adata, null_idxs = simulate_two_datasets(x_param_1, x_param_2, Nc_1, Nc_2, n_cells=1000, q=q, diff='correlation')\n",
    "dc_sim_adata.write(data_path + 'dc.h5ad')"
   ]
  },
  {
   "cell_type": "code",
   "execution_count": null,
   "metadata": {},
   "outputs": [],
   "source": []
  },
  {
   "cell_type": "code",
   "execution_count": null,
   "metadata": {},
   "outputs": [],
   "source": []
  },
  {
   "cell_type": "markdown",
   "metadata": {},
   "source": [
    "### Try to simulate"
   ]
  },
  {
   "cell_type": "code",
   "execution_count": 153,
   "metadata": {},
   "outputs": [],
   "source": [
    "def convert_params_nb(mu, theta):\n",
    "\t\"\"\"\n",
    "\tConvert mean/dispersion parameterization of a negative binomial to the ones scipy supports\n",
    "\n",
    "\tSee https://en.wikipedia.org/wiki/Negative_binomial_distribution#Alternative_formulations\n",
    "\t\"\"\"\n",
    "\tr = theta\n",
    "\tvar = mu + 1 / r * mu ** 2\n",
    "\tp = (var - mu) / var\n",
    "\treturn r, 1 - p"
   ]
  },
  {
   "cell_type": "code",
   "execution_count": 332,
   "metadata": {},
   "outputs": [],
   "source": [
    "##### m = (np.exp(log_means_1)*Nc_1.mean())[:50]\n",
    "v = ((np.exp(log_variances_1) + np.exp(log_means_1)**2)*(Nc_1**2).mean() - np.exp(log_means_1)**2*Nc_1.mean()**2)[:50]\n",
    "\n",
    "d = (v - m)/m**2\n",
    "d[d < 0] = 1e-5\n",
    "t = 1/d\n",
    "\n",
    "num_dc_genes = 50\n",
    "norm_cov = make_spd_matrix(50)\n",
    "norm_cov = cov2corr(norm_cov)\n",
    "# norm_cov = np.eye(50)\n",
    "# norm_cov2 = cov2corr(make_spd_matrix(50))\n",
    "# norm_cov_avg = (norm_cov + norm_cov2)/2\n",
    "\n",
    "# np.fill_diagonal(norm_cov, 1)\n",
    "# norm_cov[:3, :3] = -0.8\n",
    "# norm_cov = np.random.random((num_dc_genes, num_dc_genes))\n"
   ]
  },
  {
   "cell_type": "code",
   "execution_count": 334,
   "metadata": {},
   "outputs": [
    {
     "data": {
      "text/plain": [
       "<AxesSubplot:ylabel='Density'>"
      ]
     },
     "execution_count": 334,
     "metadata": {},
     "output_type": "execute_result"
    },
    {
     "data": {
      "image/png": "[encoded data removed]",
      "text/plain": [
       "<Figure size 432x288 with 1 Axes>"
      ]
     },
     "metadata": {
      "needs_background": "light"
     },
     "output_type": "display_data"
    }
   ],
   "source": [
    "sns.kdeplot(norm_cov.ravel())"
   ]
  },
  {
   "cell_type": "code",
   "execution_count": 324,
   "metadata": {},
   "outputs": [],
   "source": [
    "import numpy as np\n",
    "\n",
    "def is_pos_def(x):\n",
    "    return np.all(np.linalg.eigvals(x) >= 0)"
   ]
  },
  {
   "cell_type": "code",
   "execution_count": 325,
   "metadata": {},
   "outputs": [],
   "source": [
    "gaussian_variables = stats.multivariate_normal.rvs(mean=np.zeros(50), cov=norm_cov, size=1000)\n",
    "uniform_variables = stats.norm.cdf(gaussian_variables)\n",
    "nbinom_variables = stats.nbinom.ppf(uniform_variables, *convert_params_nb(m, t))\n",
    "\n",
    "\n"
   ]
  },
  {
   "cell_type": "code",
   "execution_count": 326,
   "metadata": {},
   "outputs": [
    {
     "data": {
      "text/plain": [
       "(0.051742522620752705, 0.10198800955309255)"
      ]
     },
     "execution_count": 326,
     "metadata": {},
     "output_type": "execute_result"
    }
   ],
   "source": [
    "stats.pearsonr(nbinom_variables[:, 0], nbinom_variables[:, 1])"
   ]
  },
  {
   "cell_type": "code",
   "execution_count": 327,
   "metadata": {},
   "outputs": [
    {
     "data": {
      "text/plain": [
       "<AxesSubplot:ylabel='Density'>"
      ]
     },
     "execution_count": 327,
     "metadata": {},
     "output_type": "execute_result"
    },
    {
     "data": {
      "image/png": "[encoded data removed]",
      "text/plain": [
       "<Figure size 432x288 with 1 Axes>"
      ]
     },
     "metadata": {
      "needs_background": "light"
     },
     "output_type": "display_data"
    }
   ],
   "source": [
    "sns.kdeplot(np.corrcoef(nbinom_variables, rowvar=False).ravel())\n"
   ]
  },
  {
   "cell_type": "code",
   "execution_count": 322,
   "metadata": {},
   "outputs": [
    {
     "data": {
      "text/plain": [
       "<AxesSubplot:ylabel='Density'>"
      ]
     },
     "execution_count": 322,
     "metadata": {},
     "output_type": "execute_result"
    },
    {
     "data": {
      "image/png": "[encoded data removed]",
      "text/plain": [
       "<Figure size 432x288 with 1 Axes>"
      ]
     },
     "metadata": {
      "needs_background": "light"
     },
     "output_type": "display_data"
    }
   ],
   "source": [
    "sns.kdeplot(np.corrcoef(nbinom_variables, rowvar=False).ravel())\n"
   ]
  },
  {
   "cell_type": "code",
   "execution_count": 261,
   "metadata": {},
   "outputs": [],
   "source": [
    "num_dc_genes = 50\n",
    "norm_cov_1 = np.ones((num_dc_genes, num_dc_genes))*0\n",
    "np.fill_diagonal(norm_cov_1, 1)"
   ]
  },
  {
   "cell_type": "code",
   "execution_count": null,
   "metadata": {},
   "outputs": [],
   "source": []
  },
  {
   "cell_type": "code",
   "execution_count": null,
   "metadata": {},
   "outputs": [],
   "source": []
  },
  {
   "cell_type": "code",
   "execution_count": null,
   "metadata": {},
   "outputs": [],
   "source": []
  },
  {
   "cell_type": "code",
   "execution_count": null,
   "metadata": {},
   "outputs": [],
   "source": []
  },
  {
   "cell_type": "code",
   "execution_count": null,
   "metadata": {},
   "outputs": [],
   "source": []
  },
  {
   "cell_type": "code",
   "execution_count": null,
   "metadata": {},
   "outputs": [],
   "source": []
  },
  {
   "cell_type": "code",
   "execution_count": null,
   "metadata": {},
   "outputs": [],
   "source": []
  },
  {
   "cell_type": "code",
   "execution_count": 34,
   "metadata": {},
   "outputs": [
    {
     "name": "stderr",
     "output_type": "stream",
     "text": [
      "/home/ssm-user/anaconda3/envs/single_cell/lib/python3.8/site-packages/anndata/_core/anndata.py:1095: FutureWarning: The `inplace` parameter in pandas.Categorical.remove_unused_categories is deprecated and will be removed in a future version.\n",
      "  df_sub[k].cat.remove_unused_categories(inplace=True)\n",
      "/home/ssm-user/anaconda3/envs/single_cell/lib/python3.8/site-packages/numpy/lib/function_base.py:2829: RuntimeWarning: invalid value encountered in true_divide\n",
      "  c /= stddev[:, None]\n",
      "/home/ssm-user/anaconda3/envs/single_cell/lib/python3.8/site-packages/numpy/lib/function_base.py:2830: RuntimeWarning: invalid value encountered in true_divide\n",
      "  c /= stddev[None, :]\n"
     ]
    }
   ],
   "source": [
    "a = np.corrcoef(dc_sim_adata[:1000, :].X.toarray(), rowvar=False)\n",
    "b = np.corrcoef(dc_sim_adata[1000:, :].X.toarray(), rowvar=False)"
   ]
  },
  {
   "cell_type": "code",
   "execution_count": 35,
   "metadata": {},
   "outputs": [],
   "source": [
    "diff = a-b"
   ]
  },
  {
   "cell_type": "code",
   "execution_count": 36,
   "metadata": {},
   "outputs": [
    {
     "data": {
      "text/plain": [
       "<AxesSubplot:ylabel='Density'>"
      ]
     },
     "execution_count": 36,
     "metadata": {},
     "output_type": "execute_result"
    },
    {
     "data": {
      "image/png": "[encoded data removed]",
      "text/plain": [
       "<Figure size 432x288 with 1 Axes>"
      ]
     },
     "metadata": {
      "needs_background": "light"
     },
     "output_type": "display_data"
    }
   ],
   "source": [
    "sns.kdeplot(np.random.choice(diff[null_idxs], 1000))\n",
    "sns.kdeplot(np.random.choice(diff[~null_idxs], 1000))"
   ]
  },
  {
   "cell_type": "code",
   "execution_count": null,
   "metadata": {},
   "outputs": [],
   "source": []
  },
  {
   "cell_type": "code",
   "execution_count": null,
   "metadata": {},
   "outputs": [],
   "source": []
  },
  {
   "cell_type": "code",
   "execution_count": null,
   "metadata": {},
   "outputs": [],
   "source": []
  },
  {
   "cell_type": "code",
   "execution_count": null,
   "metadata": {},
   "outputs": [],
   "source": []
  },
  {
   "cell_type": "code",
   "execution_count": null,
   "metadata": {},
   "outputs": [],
   "source": []
  },
  {
   "cell_type": "markdown",
   "metadata": {},
   "source": [
    "### Power calculation (maybe)"
   ]
  },
  {
   "cell_type": "code",
   "execution_count": null,
   "metadata": {},
   "outputs": [],
   "source": [
    "def calculate_power(n_cells, test='mean', test_null=False):\n",
    "    \n",
    "    sim_adata, change_indices = simulate_two_datasets(x_param, Nc, n_cells, q=q, diff=test if not test_null else 'null')\n",
    "        \n",
    "    schypo.create_groups(\n",
    "        sim_adata,\n",
    "        q=q,\n",
    "        label_columns=['ct_real'], \n",
    "        inplace=True)\n",
    "    \n",
    "    schypo.compute_1d_moments(\n",
    "        sim_adata, \n",
    "        inplace=True, \n",
    "        filter_genes=False, \n",
    "        residual_var=True,\n",
    "        filter_mean_thresh=0.0, \n",
    "        min_perc_group=.9)\n",
    "        \n",
    "    if test == 'mean':\n",
    "\n",
    "        schypo.ht_1d_moments(\n",
    "            sim_adata, \n",
    "            formula_like='1 + ct_real',\n",
    "            cov_column='ct_real',\n",
    "            num_boot=5000,\n",
    "            num_cpus=6,\n",
    "            verbose=3)\n",
    "\n",
    "        power = (sim_adata.uns['schypo']['1d_ht']['mean_asl'][:500] < 0.05).mean()\n",
    "        pvals = sim_adata.uns['schypo']['1d_ht']['mean_asl']\n",
    "        \n",
    "    if test == 'variability':\n",
    "\n",
    "        schypo.ht_1d_moments(\n",
    "            sim_adata, \n",
    "            formula_like='1 + ct_real',\n",
    "            cov_column='ct_real',\n",
    "            num_boot=5000,\n",
    "            num_cpus=6,\n",
    "            verbose=3)\n",
    "        \n",
    "        power = (sim_adata.uns['schypo']['1d_ht']['var_asl'][:500] < 0.05).mean()\n",
    "        pvals = sim_adata.uns['schypo']['1d_ht']['var_asl']\n",
    "        \n",
    "    if test == 'correlation':\n",
    "        \n",
    "        schypo.compute_2d_moments(\n",
    "            sim_adata, \n",
    "            inplace=True, \n",
    "            gene_1=np.arange(50).astype(str).tolist(),\n",
    "            gene_2=np.arange(50).astype(str).tolist())\n",
    "        \n",
    "        schypo.ht_2d_moments(\n",
    "            sim_adata, \n",
    "            formula_like='1 + ct_real',\n",
    "            cov_column='ct_real',\n",
    "            num_boot=5000,\n",
    "            num_cpus=6,\n",
    "            verbose=3)\n",
    "        \n",
    "        c_pv = sim_adata.uns['schypo']['2d_ht']['corr_asl'][:50, :50]\n",
    "        power = (c_pv[change_indices] < 0.05).mean()\n",
    "        pvals = sim_adata.uns['schypo']['2d_ht']['corr_asl']\n",
    "                \n",
    "    return power, pvals, sim_adata"
   ]
  },
  {
   "cell_type": "code",
   "execution_count": null,
   "metadata": {},
   "outputs": [],
   "source": [
    "mean_power, var_power, corr_power = [], [], []\n",
    "n_cells_list = np.logspace(2, 5, 25).astype(int)\n",
    "for n_cells in n_cells_list:\n",
    "    \n",
    "    print(n_cells)\n",
    "    \n",
    "    mean_power.append(calculate_power(n_cells, test='mean')[0])\n",
    "    var_power.append(calculate_power(n_cells, test='variability')[0])\n",
    "    corr_power.append(calculate_power(n_cells, test='correlation')[0])\n",
    "\n",
    "with open('temp.pkl', 'wb') as f:\n",
    "    pkl.dump([mean_power, var_power, corr_power], f)"
   ]
  },
  {
   "cell_type": "code",
   "execution_count": 242,
   "metadata": {},
   "outputs": [],
   "source": [
    "n_cells_list = np.logspace(2, 5, 25).astype(int)\n",
    "\n",
    "with open('/data/parameter_estimation/simulation/power_analysis.pkl', 'rb') as f:\n",
    "    mean_power, var_power, corr_power = pkl.load(f)"
   ]
  },
  {
   "cell_type": "code",
   "execution_count": 252,
   "metadata": {},
   "outputs": [
    {
     "data": {
      "image/png": "[encoded data removed]",
      "text/plain": [
       "<Figure size 144x144 with 1 Axes>"
      ]
     },
     "metadata": {
      "needs_background": "light"
     },
     "output_type": "display_data"
    }
   ],
   "source": [
    "plt.figure(figsize=(2, 2))\n",
    "plt.plot(n_cells_list[:23], mean_power, '-o')\n",
    "plt.plot(n_cells_list[:23], var_power, '-o')\n",
    "plt.plot(n_cells_list[:22], corr_power, '-o')\n",
    "plt.xscale('log')\n",
    "plt.xlabel('Number of cells in each group')\n",
    "plt.ylabel('Power')\n",
    "plt.legend(['DE', 'DV', 'DC'], loc='lower right', bbox_to_anchor=(0.56, -0.05, 0.5, 0.5), frameon=False)\n",
    "plt.savefig(fig_path + 'power.pdf', bbox_inches='tight')"
   ]
  },
  {
   "cell_type": "code",
   "execution_count": 76,
   "metadata": {},
   "outputs": [],
   "source": [
    "# with open('temp.pkl', 'wb') as f:\n",
    "#     pkl.dump([mean_power, var_power, corr_power], f)"
   ]
  },
  {
   "cell_type": "markdown",
   "metadata": {},
   "source": [
    "### Generate p-value histograms"
   ]
  },
  {
   "cell_type": "code",
   "execution_count": 198,
   "metadata": {},
   "outputs": [],
   "source": [
    "adata = ifn_adata[ifn_adata.obs.cell_type == 'CD4 T cells - ctrl']\n",
    "# data = adata.X.copy()\n",
    "# relative_data = data.toarray()/data.sum(axis=1)\n",
    "\n",
    "n_cells = 5000\n",
    "q=0.07\n",
    "x_param, z_param, Nc, good_idx = simulate.extract_parameters(adata.X, q=q, min_mean=0.001)"
   ]
  },
  {
   "cell_type": "code",
   "execution_count": 199,
   "metadata": {},
   "outputs": [],
   "source": [
    "sim_adata_mean, _ = simulate_two_datasets(x_param, Nc, n_cells, q=q, diff='mean')"
   ]
  },
  {
   "cell_type": "code",
   "execution_count": 200,
   "metadata": {},
   "outputs": [
    {
     "name": "stdout",
     "output_type": "stream",
     "text": [
      "(10000, 10805)\n"
     ]
    },
    {
     "name": "stderr",
     "output_type": "stream",
     "text": [
      "[Parallel(n_jobs=6)]: Using backend LokyBackend with 6 concurrent workers.\n",
      "[Parallel(n_jobs=6)]: Done  20 tasks      | elapsed:    2.1s\n",
      "[Parallel(n_jobs=6)]: Done 116 tasks      | elapsed:    4.7s\n",
      "[Parallel(n_jobs=6)]: Done 276 tasks      | elapsed:   10.1s\n",
      "[Parallel(n_jobs=6)]: Done 500 tasks      | elapsed:   17.5s\n",
      "[Parallel(n_jobs=6)]: Done 1030 tasks      | elapsed:   26.0s\n",
      "[Parallel(n_jobs=6)]: Done 1734 tasks      | elapsed:   37.1s\n",
      "[Parallel(n_jobs=6)]: Done 2566 tasks      | elapsed:   50.3s\n",
      "[Parallel(n_jobs=6)]: Done 3526 tasks      | elapsed:  1.1min\n",
      "[Parallel(n_jobs=6)]: Done 4614 tasks      | elapsed:  1.4min\n",
      "[Parallel(n_jobs=6)]: Done 5830 tasks      | elapsed:  1.7min\n",
      "[Parallel(n_jobs=6)]: Done 7174 tasks      | elapsed:  2.1min\n",
      "[Parallel(n_jobs=6)]: Done 8646 tasks      | elapsed:  2.4min\n",
      "[Parallel(n_jobs=6)]: Done 10246 tasks      | elapsed:  2.9min\n",
      "[Parallel(n_jobs=6)]: Done 10798 out of 10798 | elapsed:  3.0min finished\n"
     ]
    }
   ],
   "source": [
    "print(sim_adata_mean.shape)\n",
    "\n",
    "schypo.create_groups(\n",
    "    sim_adata_mean,\n",
    "    q=q,\n",
    "    label_columns=['ct_real'], \n",
    "    inplace=True)\n",
    "schypo.compute_1d_moments(\n",
    "    sim_adata_mean, \n",
    "    inplace=True, \n",
    "    filter_genes=True, \n",
    "    residual_var=True,\n",
    "    filter_mean_thresh=0.00001, \n",
    "    min_perc_group=.9)\n",
    "schypo.ht_1d_moments(\n",
    "\tsim_adata_mean, \n",
    "\tformula_like='1 + ct_real',\n",
    "\tcov_column='ct_real',\n",
    "\tnum_boot=5000,\n",
    "    num_cpus=6,\n",
    "    verbose=3)"
   ]
  },
  {
   "cell_type": "code",
   "execution_count": 201,
   "metadata": {},
   "outputs": [
    {
     "name": "stderr",
     "output_type": "stream",
     "text": [
      "... storing 'ct_real' as categorical\n",
      "... storing 'ct_shuffled' as categorical\n",
      "... storing 'schypo_group' as categorical\n"
     ]
    }
   ],
   "source": [
    "sim_adata_mean.write('/data/parameter_estimation/simulation/sim_mean.h5ad')"
   ]
  },
  {
   "cell_type": "code",
   "execution_count": 147,
   "metadata": {},
   "outputs": [
    {
     "name": "stdout",
     "output_type": "stream",
     "text": [
      "(10000, 10800)\n"
     ]
    },
    {
     "name": "stderr",
     "output_type": "stream",
     "text": [
      "[Parallel(n_jobs=6)]: Using backend LokyBackend with 6 concurrent workers.\n",
      "[Parallel(n_jobs=6)]: Done  28 tasks      | elapsed:    0.9s\n",
      "[Parallel(n_jobs=6)]: Done 220 tasks      | elapsed:    6.9s\n",
      "[Parallel(n_jobs=6)]: Done 540 tasks      | elapsed:   15.8s\n",
      "[Parallel(n_jobs=6)]: Done 988 tasks      | elapsed:   28.4s\n",
      "[Parallel(n_jobs=6)]: Done 1564 tasks      | elapsed:   45.8s\n",
      "[Parallel(n_jobs=6)]: Done 2268 tasks      | elapsed:  1.1min\n",
      "[Parallel(n_jobs=6)]: Done 2364 out of 2375 | elapsed:  1.1min remaining:    0.3s\n",
      "[Parallel(n_jobs=6)]: Done 2375 out of 2375 | elapsed:  1.2min finished\n"
     ]
    }
   ],
   "source": [
    "sim_adata_var, _ = simulate_two_datasets(x_param, Nc, n_cells, q=q, diff='variability')\n",
    "\n",
    "schypo.create_groups(\n",
    "    sim_adata_var,\n",
    "    q=q,\n",
    "    label_columns=['ct_real'], \n",
    "    inplace=True)\n",
    "schypo.compute_1d_moments(\n",
    "    sim_adata_var, \n",
    "    inplace=True, \n",
    "    filter_genes=True, \n",
    "    residual_var=True,\n",
    "    filter_mean_thresh=0.05, \n",
    "    min_perc_group=.9)\n",
    "schypo.ht_1d_moments(\n",
    "\tsim_adata_var, \n",
    "\tformula_like='1 + ct_real',\n",
    "\tcov_column='ct_real',\n",
    "\tnum_boot=5000,\n",
    "    num_cpus=6,\n",
    "    verbose=3)"
   ]
  },
  {
   "cell_type": "code",
   "execution_count": 158,
   "metadata": {},
   "outputs": [
    {
     "name": "stderr",
     "output_type": "stream",
     "text": [
      "... storing 'ct_real' as categorical\n",
      "... storing 'ct_shuffled' as categorical\n",
      "... storing 'schypo_group' as categorical\n"
     ]
    }
   ],
   "source": [
    "sim_adata_var.write('/data/parameter_estimation/simulation/sim_var.h5ad')"
   ]
  },
  {
   "cell_type": "code",
   "execution_count": 225,
   "metadata": {},
   "outputs": [
    {
     "name": "stderr",
     "output_type": "stream",
     "text": [
      "/data/home/anaconda3/envs/single_cell/lib/python3.7/site-packages/scipy/stats/_multivariate.py:660: RuntimeWarning: covariance is not positive-semidefinite.\n",
      "  out = random_state.multivariate_normal(mean, cov, size)\n"
     ]
    }
   ],
   "source": [
    "x_param, z_param, Nc, good_idx = simulate.extract_parameters(adata.X, q=q, min_mean=0.05)\n",
    "sim_adata_corr, change_indices = simulate_two_datasets(x_param, Nc, n_cells, q=q, diff='correlation')\n"
   ]
  },
  {
   "cell_type": "code",
   "execution_count": 226,
   "metadata": {},
   "outputs": [
    {
     "name": "stderr",
     "output_type": "stream",
     "text": [
      "[Parallel(n_jobs=6)]: Using backend LokyBackend with 6 concurrent workers.\n",
      "[Parallel(n_jobs=6)]: Done  20 tasks      | elapsed:    2.5s\n",
      "[Parallel(n_jobs=6)]: Done 116 tasks      | elapsed:    7.6s\n",
      "[Parallel(n_jobs=6)]: Done 276 tasks      | elapsed:   16.4s\n",
      "[Parallel(n_jobs=6)]: Done 500 tasks      | elapsed:   27.1s\n",
      "[Parallel(n_jobs=6)]: Done 788 tasks      | elapsed:   42.1s\n",
      "[Parallel(n_jobs=6)]: Done 1140 tasks      | elapsed:  1.0min\n",
      "[Parallel(n_jobs=6)]: Done 1556 tasks      | elapsed:  1.4min\n",
      "[Parallel(n_jobs=6)]: Done 2036 tasks      | elapsed:  1.9min\n",
      "[Parallel(n_jobs=6)]: Done 2580 tasks      | elapsed:  2.6min\n",
      "[Parallel(n_jobs=6)]: Done 3188 tasks      | elapsed:  3.2min\n",
      "[Parallel(n_jobs=6)]: Done 3860 tasks      | elapsed:  3.8min\n",
      "[Parallel(n_jobs=6)]: Done 4596 tasks      | elapsed:  4.5min\n",
      "[Parallel(n_jobs=6)]: Done 4950 out of 4950 | elapsed:  4.8min finished\n"
     ]
    }
   ],
   "source": [
    "schypo.create_groups(\n",
    "    sim_adata_corr,\n",
    "    q=q,\n",
    "    label_columns=['ct_real'], \n",
    "    inplace=True)\n",
    "schypo.compute_1d_moments(\n",
    "    sim_adata_corr, \n",
    "    inplace=True, \n",
    "    filter_genes=True, \n",
    "    residual_var=True,\n",
    "    filter_mean_thresh=0.0, \n",
    "    min_perc_group=.9)\n",
    "schypo.compute_2d_moments(\n",
    "    sim_adata_corr, \n",
    "    inplace=True, \n",
    "    gene_1=np.arange(100).astype(str).tolist(),\n",
    "    gene_2=np.arange(100).astype(str).tolist())\n",
    "schypo.ht_2d_moments(\n",
    "    sim_adata_corr, \n",
    "    formula_like='1 + ct_real',\n",
    "    cov_column='ct_real',\n",
    "    num_boot=5000,\n",
    "    num_cpus=6,\n",
    "    verbose=3)"
   ]
  },
  {
   "cell_type": "code",
   "execution_count": 227,
   "metadata": {},
   "outputs": [],
   "source": [
    "sim_adata_corr.uns['null'] = corr_asl_null"
   ]
  },
  {
   "cell_type": "code",
   "execution_count": 228,
   "metadata": {},
   "outputs": [
    {
     "name": "stderr",
     "output_type": "stream",
     "text": [
      "... storing 'ct_real' as categorical\n",
      "... storing 'ct_shuffled' as categorical\n",
      "... storing 'schypo_group' as categorical\n"
     ]
    }
   ],
   "source": [
    "sim_adata_corr.write('/data/parameter_estimation/simulation/sim_corr.h5ad')"
   ]
  },
  {
   "cell_type": "markdown",
   "metadata": {},
   "source": [
    "### Plot p-value histograms"
   ]
  },
  {
   "cell_type": "code",
   "execution_count": 194,
   "metadata": {},
   "outputs": [],
   "source": [
    "sim_adata_var = sc.read('/data/parameter_estimation/simulation/sim_var.h5ad')\n",
    "var_asl = sim_adata_var.uns['schypo']['1d_ht']['var_asl']"
   ]
  },
  {
   "cell_type": "code",
   "execution_count": 202,
   "metadata": {},
   "outputs": [],
   "source": [
    "sim_adata_mean = sc.read('/data/parameter_estimation/simulation/sim_mean.h5ad')\n",
    "mean_asl = sim_adata_mean.uns['schypo']['1d_ht']['mean_asl']"
   ]
  },
  {
   "cell_type": "code",
   "execution_count": 231,
   "metadata": {},
   "outputs": [],
   "source": [
    "sim_adata_corr = sc.read('/data/parameter_estimation/simulation/sim_corr.h5ad')\n",
    "corr_asl = sim_adata_corr.uns['schypo']['2d_ht']['corr_asl'].ravel()\n",
    "corr_null_asl = sim_adata_corr.uns['null'].ravel()"
   ]
  },
  {
   "cell_type": "code",
   "execution_count": 253,
   "metadata": {},
   "outputs": [
    {
     "data": {
      "image/png": "[encoded data removed]",
      "text/plain": [
       "<Figure size 432x144 with 3 Axes>"
      ]
     },
     "metadata": {
      "needs_background": "light"
     },
     "output_type": "display_data"
    }
   ],
   "source": [
    "plt.figure(figsize=(6, 2));\n",
    "plt.subplots_adjust(wspace=0.3)\n",
    "\n",
    "plt.subplot(1, 3, 1);\n",
    "plt.hist(mean_asl, bins=20, density=True, color='grey', label='DE');\n",
    "plt.hist(mean_asl[500:], bins=5, density=True, histtype='step', linewidth=3, color='black', label='null');\n",
    "plt.legend(frameon=False)\n",
    "\n",
    "plt.subplot(1, 3, 2);\n",
    "plt.hist(var_asl, bins=20, density=True, color='grey', label='DV');\n",
    "plt.hist(var_asl[500:], bins=5, density=True, histtype='step', linewidth=3, color='black', label='null');\n",
    "plt.legend(frameon=False)\n",
    "\n",
    "plt.subplot(1, 3, 3);\n",
    "plt.hist(corr_asl.ravel(), density=True, color='grey', bins=20, label='DC');\n",
    "plt.hist(corr_asl_null.ravel(), bins=5, density=True, color='black', label='null', histtype='step', linewidth=3);\n",
    "plt.legend(frameon=False)\n",
    "plt.savefig(fig_path + 'calibration_histograms.pdf', bbox_inches='tight')"
   ]
  },
  {
   "cell_type": "code",
   "execution_count": null,
   "metadata": {},
   "outputs": [],
   "source": []
  }
 ],
 "metadata": {
  "kernelspec": {
   "display_name": "Python 3 (ipykernel)",
   "language": "python",
   "name": "python3"
  },
  "language_info": {
   "codemirror_mode": {
    "name": "ipython",
    "version": 3
   },
   "file_extension": ".py",
   "mimetype": "text/x-python",
   "name": "python",
   "nbconvert_exporter": "python",
   "pygments_lexer": "ipython3",
   "version": "3.8.8"
  }
 },
 "nbformat": 4,
 "nbformat_minor": 4
}
