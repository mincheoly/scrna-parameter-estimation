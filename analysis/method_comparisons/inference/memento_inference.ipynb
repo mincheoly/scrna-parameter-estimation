{
 "cells": [
  {
   "cell_type": "markdown",
   "metadata": {},
   "source": [
    "# Run memento for inference comparison\n",
    "\n",
    "Power analysis for DM, DV, and DC"
   ]
  },
  {
   "cell_type": "code",
   "execution_count": 70,
   "metadata": {},
   "outputs": [
    {
     "name": "stderr",
     "output_type": "stream",
     "text": [
      "/tmp/ipykernel_15828/1472718865.py:13: FutureWarning: Passing a negative integer is deprecated in version 1.0 and will not be supported in future version. Instead, use None to not limit the column width.\n",
      "  pd.set_option('display.max_colwidth', -1)\n"
     ]
    }
   ],
   "source": [
    "import pandas as pd\n",
    "import matplotlib.pyplot as plt\n",
    "import scanpy as sc\n",
    "import scipy as sp\n",
    "import itertools\n",
    "import numpy as np\n",
    "import scipy.stats as stats\n",
    "from scipy.integrate import dblquad\n",
    "import seaborn as sns\n",
    "from statsmodels.stats.multitest import fdrcorrection\n",
    "import imp\n",
    "pd.options.display.max_rows = 999\n",
    "pd.set_option('display.max_colwidth', -1)\n",
    "import pickle as pkl\n",
    "import time\n",
    "import string\n",
    "from sklearn.datasets import make_spd_matrix\n"
   ]
  },
  {
   "cell_type": "code",
   "execution_count": 71,
   "metadata": {},
   "outputs": [],
   "source": [
    "import matplotlib as mpl\n",
    "mpl.rcParams['pdf.fonttype'] = 42\n",
    "mpl.rcParams['ps.fonttype'] = 42\n",
    "\n",
    "import matplotlib.pylab as pylab\n",
    "params = {'legend.fontsize': 'medium',\n",
    "         'axes.labelsize': 'medium',\n",
    "         'axes.titlesize':'medium',\n",
    "         'figure.titlesize':'medium',\n",
    "         'xtick.labelsize':'small',\n",
    "         'ytick.labelsize':'small'}\n",
    "pylab.rcParams.update(params)\n"
   ]
  },
  {
   "cell_type": "code",
   "execution_count": 72,
   "metadata": {},
   "outputs": [],
   "source": [
    "import sys\n",
    "sys.path.append('/home/ssm-user/Github/scrna-parameter-estimation/dist/memento-0.0.9-py3.8.egg')\n",
    "import memento\n",
    "import memento.simulate as simulate"
   ]
  },
  {
   "cell_type": "code",
   "execution_count": 73,
   "metadata": {},
   "outputs": [],
   "source": [
    "data_path = '/data_volume/memento/simulation/inference/'"
   ]
  },
  {
   "cell_type": "markdown",
   "metadata": {},
   "source": [
    "### Run memento for DE"
   ]
  },
  {
   "cell_type": "code",
   "execution_count": 74,
   "metadata": {},
   "outputs": [
    {
     "name": "stderr",
     "output_type": "stream",
     "text": [
      "/home/ssm-user/anaconda3/envs/single_cell/lib/python3.8/site-packages/anndata/_core/anndata.py:1095: FutureWarning: The `inplace` parameter in pandas.Categorical.remove_unused_categories is deprecated and will be removed in a future version.\n",
      "  df_sub[k].cat.remove_unused_categories(inplace=True)\n",
      "[Parallel(n_jobs=40)]: Using backend LokyBackend with 40 concurrent workers.\n",
      "[Parallel(n_jobs=40)]: Done 120 tasks      | elapsed:    8.4s\n",
      "[Parallel(n_jobs=40)]: Done 370 tasks      | elapsed:   12.6s\n",
      "[Parallel(n_jobs=40)]: Done 720 tasks      | elapsed:   18.2s\n",
      "[Parallel(n_jobs=40)]: Done 1170 tasks      | elapsed:   25.2s\n",
      "[Parallel(n_jobs=40)]: Done 1720 tasks      | elapsed:   33.9s\n",
      "[Parallel(n_jobs=40)]: Done 2370 tasks      | elapsed:   43.8s\n",
      "[Parallel(n_jobs=40)]: Done 3120 tasks      | elapsed:   55.5s\n",
      "[Parallel(n_jobs=40)]: Done 3970 tasks      | elapsed:  1.1min\n",
      "[Parallel(n_jobs=40)]: Done 4920 tasks      | elapsed:  1.4min\n",
      "[Parallel(n_jobs=40)]: Done 5970 tasks      | elapsed:  1.7min\n",
      "[Parallel(n_jobs=40)]: Done 7120 tasks      | elapsed:  2.0min\n",
      "[Parallel(n_jobs=40)]: Done 7505 out of 7505 | elapsed:  2.1min finished\n",
      "... storing 'memento_group' as categorical\n"
     ]
    }
   ],
   "source": [
    "de_sim_adata = sc.read(data_path + 'de.h5ad')\n",
    "de_sim_adata.obs['q'] = 0.07\n",
    "\n",
    "memento.setup_memento(de_sim_adata, q_column='q', filter_mean_thresh=0.0001,trim_percent=1, shrinkage=0)\n",
    "de_sim_adata.obs['memento_size_factor'] = de_sim_adata.X.sum(axis=1).A1\n",
    "memento.create_groups(de_sim_adata, label_columns=['ct_real'])\n",
    "memento.compute_1d_moments(de_sim_adata, filter_genes=True)\n",
    "\n",
    "meta_df = memento.get_groups(de_sim_adata)\n",
    "meta_df = pd.get_dummies(meta_df, prefix='', prefix_sep='', drop_first=False)\n",
    "\n",
    "treatment = meta_df[['A']]\n",
    "covariate = pd.DataFrame(np.ones((treatment.shape[0], 1)), columns=['intercept'])\n",
    "\n",
    "memento.ht_1d_moments(\n",
    "    de_sim_adata, \n",
    "    treatment=treatment,\n",
    "    covariate=covariate,\n",
    "    num_boot=50000, \n",
    "    verbose=1,\n",
    "    num_cpus=40,\n",
    "    resampling='bootstrap',\n",
    "    approx=False)\n",
    "\n",
    "memento_de_result = memento.get_1d_ht_result(de_sim_adata)\n",
    "memento_de_result.to_csv(data_path + 'memento_de.csv', index=False)\n",
    "de_sim_adata.write(data_path + 'de_filtered.h5ad')\n",
    "de_sim_norm_adata = de_sim_adata.copy().copy()\n",
    "sc.pp.normalize_total(de_sim_norm_adata)\n",
    "sc.pp.log1p(de_sim_norm_adata)\n",
    "sc.pp.scale(de_sim_norm_adata)\n",
    "de_sim_norm_adata.write(data_path + 'de_filtered_norm.h5ad')"
   ]
  },
  {
   "cell_type": "code",
   "execution_count": null,
   "metadata": {},
   "outputs": [],
   "source": []
  },
  {
   "cell_type": "code",
   "execution_count": null,
   "metadata": {},
   "outputs": [],
   "source": []
  },
  {
   "cell_type": "code",
   "execution_count": null,
   "metadata": {},
   "outputs": [],
   "source": []
  },
  {
   "cell_type": "code",
   "execution_count": null,
   "metadata": {},
   "outputs": [],
   "source": [
    "def get_bootstrap_dist(group, col):\n",
    "    \n",
    "    data = de_sim_adata[de_sim_adata.obs.ct_real == group].X[:, col].todense().A1.astype(int)\n",
    "    counts = np.bincount(data)\n",
    "    N = counts.sum()\n",
    "    freq = counts/N\n",
    "    multi_resampled_means = (stats.multinomial.rvs(N, freq, size=10000)*np.arange(counts.shape[0])).sum(axis=1)/N\n",
    "    return data, multi_resampled_means"
   ]
  },
  {
   "cell_type": "code",
   "execution_count": null,
   "metadata": {},
   "outputs": [],
   "source": [
    "dA, A = get_bootstrap_dist('A', 3)\n",
    "dB, B = get_bootstrap_dist('B', 3)"
   ]
  },
  {
   "cell_type": "code",
   "execution_count": null,
   "metadata": {},
   "outputs": [],
   "source": [
    "stats.ttest_ind(dA, dB)"
   ]
  },
  {
   "cell_type": "code",
   "execution_count": null,
   "metadata": {},
   "outputs": [],
   "source": [
    "sns.kdeplot(A-B)"
   ]
  },
  {
   "cell_type": "code",
   "execution_count": null,
   "metadata": {},
   "outputs": [],
   "source": []
  },
  {
   "cell_type": "code",
   "execution_count": 15,
   "metadata": {},
   "outputs": [
    {
     "data": {
      "text/plain": [
       "array([863, 117,  17,   3])"
      ]
     },
     "execution_count": 15,
     "metadata": {},
     "output_type": "execute_result"
    }
   ],
   "source": [
    "np.bincount(de_sim_adata[de_sim_adata.obs.ct_real == 'B'].X[:, 0].todense().A1.astype(int))"
   ]
  },
  {
   "cell_type": "code",
   "execution_count": 42,
   "metadata": {},
   "outputs": [
    {
     "name": "stderr",
     "output_type": "stream",
     "text": [
      "/home/ssm-user/anaconda3/envs/single_cell/lib/python3.8/site-packages/anndata/_core/anndata.py:1095: FutureWarning: The `inplace` parameter in pandas.Categorical.remove_unused_categories is deprecated and will be removed in a future version.\n",
      "  df_sub[k].cat.remove_unused_categories(inplace=True)\n"
     ]
    }
   ],
   "source": [
    "data = de_sim_adata[de_sim_adata.obs.ct_real == 'B'].X[:, 0].todense().A1.astype(int)\n",
    "counts = np.bincount(data)\n",
    "N = counts.sum()\n",
    "freq = counts/N"
   ]
  },
  {
   "cell_type": "code",
   "execution_count": 43,
   "metadata": {},
   "outputs": [
    {
     "data": {
      "text/plain": [
       "array([2, 2, 4, 2, 1, 3, 1, 2, 0, 4])"
      ]
     },
     "execution_count": 43,
     "metadata": {},
     "output_type": "execute_result"
    }
   ],
   "source": [
    "np.random.choice(5, replace=True, size=10)"
   ]
  },
  {
   "cell_type": "code",
   "execution_count": 50,
   "metadata": {},
   "outputs": [],
   "source": [
    "multi_resampled_means_B = (stats.multinomial.rvs(N, freq, size=10000)*np.arange(counts.shape[0])).sum(axis=1)/N\n"
   ]
  },
  {
   "cell_type": "code",
   "execution_count": 52,
   "metadata": {},
   "outputs": [
    {
     "data": {
      "text/plain": [
       "<AxesSubplot:ylabel='Density'>"
      ]
     },
     "execution_count": 52,
     "metadata": {},
     "output_type": "execute_result"
    },
    {
     "data": {
      "image/png": "[encoded data removed]",
      "text/plain": [
       "<Figure size 432x288 with 1 Axes>"
      ]
     },
     "metadata": {
      "needs_background": "light"
     },
     "output_type": "display_data"
    }
   ],
   "source": [
    "sns.kdeplot(multi_resampled_means)\n",
    "sns.kdeplot(actual_means)"
   ]
  },
  {
   "cell_type": "code",
   "execution_count": null,
   "metadata": {},
   "outputs": [],
   "source": []
  },
  {
   "cell_type": "code",
   "execution_count": null,
   "metadata": {},
   "outputs": [],
   "source": []
  },
  {
   "cell_type": "code",
   "execution_count": 67,
   "metadata": {},
   "outputs": [
    {
     "name": "stderr",
     "output_type": "stream",
     "text": [
      "/home/ssm-user/anaconda3/envs/single_cell/lib/python3.8/site-packages/anndata/_core/anndata.py:1095: FutureWarning: The `inplace` parameter in pandas.Categorical.remove_unused_categories is deprecated and will be removed in a future version.\n",
      "  df_sub[k].cat.remove_unused_categories(inplace=True)\n",
      "[Parallel(n_jobs=13)]: Using backend LokyBackend with 13 concurrent workers.\n",
      "[Parallel(n_jobs=13)]: Done  24 tasks      | elapsed:    0.3s\n",
      "[Parallel(n_jobs=13)]: Done 322 tasks      | elapsed:    1.8s\n",
      "[Parallel(n_jobs=13)]: Done 822 tasks      | elapsed:    4.3s\n",
      "[Parallel(n_jobs=13)]: Done 1522 tasks      | elapsed:    8.0s\n",
      "[Parallel(n_jobs=13)]: Done 2422 tasks      | elapsed:   12.7s\n",
      "[Parallel(n_jobs=13)]: Done 3522 tasks      | elapsed:   18.5s\n",
      "[Parallel(n_jobs=13)]: Done 4822 tasks      | elapsed:   25.2s\n",
      "[Parallel(n_jobs=13)]: Done 6322 tasks      | elapsed:   33.2s\n",
      "[Parallel(n_jobs=13)]: Done 7343 out of 7368 | elapsed:   38.5s remaining:    0.1s\n",
      "[Parallel(n_jobs=13)]: Done 7368 out of 7368 | elapsed:   38.7s finished\n"
     ]
    }
   ],
   "source": [
    "de_sim_adata = sc.read(data_path + 'de.h5ad')\n",
    "de_sim_adata.obs['q'] = 0.07\n",
    "\n",
    "memento.setup_memento(de_sim_adata, q_column='q', filter_mean_thresh=0.005,trim_percent=1, shrinkage=0)\n",
    "de_sim_adata.obs['memento_size_factor'] = de_sim_adata.X.sum(axis=1).A1\n",
    "memento.create_groups(de_sim_adata, label_columns=['ct_shuffled'])\n",
    "memento.compute_1d_moments(de_sim_adata, filter_genes=True)\n",
    "\n",
    "meta_df = memento.get_groups(de_sim_adata)\n",
    "meta_df = pd.get_dummies(meta_df, prefix='', prefix_sep='', drop_first=False)\n",
    "\n",
    "treatment = meta_df[['A']]\n",
    "covariate = pd.DataFrame(np.ones((treatment.shape[0], 1)), columns=['intercept'])\n",
    "\n",
    "memento.ht_1d_moments(\n",
    "    de_sim_adata, \n",
    "    treatment=treatment,\n",
    "    covariate=covariate,\n",
    "    num_boot=5000, \n",
    "    verbose=1,\n",
    "    num_cpus=13,\n",
    "    resampling='bootstrap',\n",
    "    approx=False)\n",
    "\n",
    "memento_de_result = memento.get_1d_ht_result(de_sim_adata)\n",
    "memento_de_result.to_csv(data_path + 'memento_de_shuffled.csv', index=False)"
   ]
  },
  {
   "cell_type": "code",
   "execution_count": null,
   "metadata": {},
   "outputs": [],
   "source": []
  },
  {
   "cell_type": "code",
   "execution_count": null,
   "metadata": {},
   "outputs": [],
   "source": []
  },
  {
   "cell_type": "markdown",
   "metadata": {},
   "source": [
    "### Run memento for DV"
   ]
  },
  {
   "cell_type": "code",
   "execution_count": 31,
   "metadata": {},
   "outputs": [
    {
     "name": "stderr",
     "output_type": "stream",
     "text": [
      "/home/ssm-user/anaconda3/envs/single_cell/lib/python3.8/site-packages/anndata/_core/anndata.py:1095: FutureWarning: The `inplace` parameter in pandas.Categorical.remove_unused_categories is deprecated and will be removed in a future version.\n",
      "  df_sub[k].cat.remove_unused_categories(inplace=True)\n",
      "[Parallel(n_jobs=13)]: Using backend LokyBackend with 13 concurrent workers.\n",
      "[Parallel(n_jobs=13)]: Done  24 tasks      | elapsed:    0.6s\n",
      "\n",
      "KeyboardInterrupt\n",
      "\n"
     ]
    }
   ],
   "source": [
    "dv_sim_adata = sc.read(data_path + 'dv.h5ad')\n",
    "dv_sim_adata.obs['q'] = 0.07\n",
    "\n",
    "memento.setup_memento(dv_sim_adata, q_column='q', filter_mean_thresh=0.07,trim_percent=1, shrinkage=0)\n",
    "memento.create_groups(dv_sim_adata, label_columns=['ct_real'])\n",
    "memento.compute_1d_moments(dv_sim_adata, filter_genes=True)\n",
    "\n",
    "meta_df = memento.get_groups(dv_sim_adata)\n",
    "meta_df = pd.get_dummies(meta_df, prefix='', prefix_sep='', drop_first=False)\n",
    "\n",
    "treatment = meta_df[['A']]\n",
    "covariate = pd.DataFrame(np.ones((treatment.shape[0], 1)), columns=['intercept'])\n",
    "\n",
    "memento.ht_1d_moments(\n",
    "    dv_sim_adata, \n",
    "    treatment=treatment,\n",
    "    covariate=covariate,\n",
    "    num_boot=5000, \n",
    "    verbose=1,\n",
    "    num_cpus=13,\n",
    "    resampling='bootstrap',\n",
    "    approx=False)"
   ]
  },
  {
   "cell_type": "code",
   "execution_count": null,
   "metadata": {},
   "outputs": [],
   "source": [
    "memento_dv_result = memento.get_1d_ht_result(dv_sim_adata)\n",
    "memento_dv_result['gene'] = memento_dv_result['gene'].astype(int)"
   ]
  },
  {
   "cell_type": "code",
   "execution_count": null,
   "metadata": {},
   "outputs": [],
   "source": [
    "(memento_dv_result.query('gene < 500').dv_pval < 0.05).mean()"
   ]
  },
  {
   "cell_type": "code",
   "execution_count": null,
   "metadata": {},
   "outputs": [],
   "source": [
    "memento_dv_result.to_csv(data_path + 'memento_dv.csv', index=False)\n",
    "dv_sim_adata.write(data_path + 'dv_filtered.h5ad')"
   ]
  },
  {
   "cell_type": "markdown",
   "metadata": {},
   "source": [
    "### Run memento for DC"
   ]
  },
  {
   "cell_type": "code",
   "execution_count": 12,
   "metadata": {},
   "outputs": [
    {
     "data": {
      "text/plain": [
       "1225"
      ]
     },
     "execution_count": 12,
     "metadata": {},
     "output_type": "execute_result"
    }
   ],
   "source": [
    "len(candidate_pairs)"
   ]
  },
  {
   "cell_type": "code",
   "execution_count": 13,
   "metadata": {},
   "outputs": [
    {
     "name": "stderr",
     "output_type": "stream",
     "text": [
      "/home/ssm-user/anaconda3/envs/single_cell/lib/python3.8/site-packages/anndata/_core/anndata.py:1095: FutureWarning: The `inplace` parameter in pandas.Categorical.remove_unused_categories is deprecated and will be removed in a future version.\n",
      "  df_sub[k].cat.remove_unused_categories(inplace=True)\n",
      "[Parallel(n_jobs=13)]: Using backend LokyBackend with 13 concurrent workers.\n",
      "[Parallel(n_jobs=13)]: Done  24 tasks      | elapsed:    4.9s\n",
      "[Parallel(n_jobs=13)]: Done 105 out of 105 | elapsed:    9.6s finished\n"
     ]
    }
   ],
   "source": [
    "dc_sim_adata = sc.read(data_path + 'dc.h5ad')\n",
    "dc_sim_adata.obs['q'] = 0.07\n",
    "\n",
    "memento.setup_memento(dc_sim_adata, q_column='q', filter_mean_thresh=0.07,trim_percent=1, shrinkage=0)\n",
    "memento.create_groups(dc_sim_adata, label_columns=['ct_real'])\n",
    "memento.compute_1d_moments(dc_sim_adata, filter_genes=True)\n",
    "candidate_pairs = list(itertools.combinations(np.arange(100).astype(str),2))\n",
    "pairs = [(a,b) for a,b in candidate_pairs if a in dc_sim_adata.var.index and b in dc_sim_adata.var.index]\n",
    "memento.compute_2d_moments(dc_sim_adata, gene_pairs=pairs)\n",
    "\n",
    "\n",
    "meta_df = memento.get_groups(dc_sim_adata)\n",
    "meta_df = pd.get_dummies(meta_df, prefix='', prefix_sep='', drop_first=False)\n",
    "\n",
    "treatment = meta_df[['A']]\n",
    "covariate = pd.DataFrame(np.ones((treatment.shape[0], 1)), columns=['intercept'])\n",
    "\n",
    "memento.ht_2d_moments(\n",
    "    dc_sim_adata, \n",
    "    treatment=treatment,\n",
    "    covariate=covariate,\n",
    "    num_boot=5000, \n",
    "    verbose=1,\n",
    "    num_cpus=13,\n",
    "    resampling='bootstrap',\n",
    "    approx=False)"
   ]
  },
  {
   "cell_type": "code",
   "execution_count": 16,
   "metadata": {},
   "outputs": [],
   "source": [
    "memento_dc_result = memento.get_2d_ht_result(dc_sim_adata)"
   ]
  },
  {
   "cell_type": "code",
   "execution_count": null,
   "metadata": {},
   "outputs": [],
   "source": [
    "memento_dc_result.to_csv(data_path + 'memento_dc.csv', index=False)\n",
    "dc_sim_adata.write(data_path + 'dc_filtered.h5ad')"
   ]
  }
 ],
 "metadata": {
  "kernelspec": {
   "display_name": "Python 3 (ipykernel)",
   "language": "python",
   "name": "python3"
  },
  "language_info": {
   "codemirror_mode": {
    "name": "ipython",
    "version": 3
   },
   "file_extension": ".py",
   "mimetype": "text/x-python",
   "name": "python",
   "nbconvert_exporter": "python",
   "pygments_lexer": "ipython3",
   "version": "3.8.8"
  }
 },
 "nbformat": 4,
 "nbformat_minor": 4
}
