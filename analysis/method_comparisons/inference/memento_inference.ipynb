{
 "cells": [
  {
   "cell_type": "markdown",
   "metadata": {},
   "source": [
    "# Run memento for inference comparison\n",
    "\n",
    "Power analysis for DM, DV, and DC"
   ]
  },
  {
   "cell_type": "code",
   "execution_count": 1,
   "metadata": {},
   "outputs": [
    {
     "name": "stderr",
     "output_type": "stream",
     "text": [
      "/tmp/ipykernel_19517/1472718865.py:13: FutureWarning: Passing a negative integer is deprecated in version 1.0 and will not be supported in future version. Instead, use None to not limit the column width.\n",
      "  pd.set_option('display.max_colwidth', -1)\n"
     ]
    }
   ],
   "source": [
    "import pandas as pd\n",
    "import matplotlib.pyplot as plt\n",
    "import scanpy as sc\n",
    "import scipy as sp\n",
    "import itertools\n",
    "import numpy as np\n",
    "import scipy.stats as stats\n",
    "from scipy.integrate import dblquad\n",
    "import seaborn as sns\n",
    "from statsmodels.stats.multitest import fdrcorrection\n",
    "import imp\n",
    "pd.options.display.max_rows = 999\n",
    "pd.set_option('display.max_colwidth', -1)\n",
    "import pickle as pkl\n",
    "import time\n",
    "import string\n",
    "from sklearn.datasets import make_spd_matrix\n"
   ]
  },
  {
   "cell_type": "code",
   "execution_count": 2,
   "metadata": {},
   "outputs": [],
   "source": [
    "import matplotlib as mpl\n",
    "mpl.rcParams['pdf.fonttype'] = 42\n",
    "mpl.rcParams['ps.fonttype'] = 42\n",
    "\n",
    "import matplotlib.pylab as pylab\n",
    "params = {'legend.fontsize': 'medium',\n",
    "         'axes.labelsize': 'medium',\n",
    "         'axes.titlesize':'medium',\n",
    "         'figure.titlesize':'medium',\n",
    "         'xtick.labelsize':'small',\n",
    "         'ytick.labelsize':'small'}\n",
    "pylab.rcParams.update(params)\n"
   ]
  },
  {
   "cell_type": "code",
   "execution_count": 3,
   "metadata": {},
   "outputs": [],
   "source": [
    "import sys\n",
    "sys.path.append('/home/ssm-user/Github/scrna-parameter-estimation/dist/memento-0.0.9-py3.8.egg')\n",
    "import memento\n",
    "import memento.simulate as simulate"
   ]
  },
  {
   "cell_type": "code",
   "execution_count": 4,
   "metadata": {},
   "outputs": [],
   "source": [
    "data_path = '/data_volume/memento/simulation/inference/'"
   ]
  },
  {
   "cell_type": "markdown",
   "metadata": {},
   "source": [
    "### Read the simulated datasets"
   ]
  },
  {
   "cell_type": "code",
   "execution_count": 5,
   "metadata": {},
   "outputs": [],
   "source": [
    "dc_sim_adata = sc.read(data_path + 'dc.h5ad')"
   ]
  },
  {
   "cell_type": "markdown",
   "metadata": {},
   "source": [
    "### Run memento for DE"
   ]
  },
  {
   "cell_type": "code",
   "execution_count": 6,
   "metadata": {},
   "outputs": [
    {
     "name": "stderr",
     "output_type": "stream",
     "text": [
      "/home/ssm-user/anaconda3/envs/single_cell/lib/python3.8/site-packages/anndata/_core/anndata.py:1095: FutureWarning: The `inplace` parameter in pandas.Categorical.remove_unused_categories is deprecated and will be removed in a future version.\n",
      "  df_sub[k].cat.remove_unused_categories(inplace=True)\n",
      "[Parallel(n_jobs=13)]: Using backend LokyBackend with 13 concurrent workers.\n",
      "[Parallel(n_jobs=13)]: Done  24 tasks      | elapsed:    4.2s\n",
      "[Parallel(n_jobs=13)]: Done 174 tasks      | elapsed:    7.8s\n",
      "[Parallel(n_jobs=13)]: Done 424 tasks      | elapsed:   10.9s\n",
      "[Parallel(n_jobs=13)]: Done 774 tasks      | elapsed:   15.3s\n",
      "[Parallel(n_jobs=13)]: Done 1224 tasks      | elapsed:   21.4s\n",
      "[Parallel(n_jobs=13)]: Done 1773 out of 1773 | elapsed:   28.9s finished\n"
     ]
    }
   ],
   "source": [
    "de_sim_adata = sc.read(data_path + 'de.h5ad')\n",
    "de_sim_adata.obs['q'] = 0.07\n",
    "\n",
    "memento.setup_memento(de_sim_adata, q_column='q', filter_mean_thresh=0.07,trim_percent=1, shrinkage=0)\n",
    "memento.create_groups(de_sim_adata, label_columns=['ct_real'])\n",
    "memento.compute_1d_moments(de_sim_adata, filter_genes=True)\n",
    "\n",
    "meta_df = memento.get_groups(de_sim_adata)\n",
    "meta_df = pd.get_dummies(meta_df, prefix='', prefix_sep='', drop_first=False)\n",
    "\n",
    "treatment = meta_df[['A']]\n",
    "covariate = pd.DataFrame(np.ones((treatment.shape[0], 1)), columns=['intercept'])\n",
    "\n",
    "memento.ht_1d_moments(\n",
    "    de_sim_adata, \n",
    "    treatment=treatment,\n",
    "    covariate=covariate,\n",
    "    num_boot=5000, \n",
    "    verbose=1,\n",
    "    num_cpus=13,\n",
    "    resampling='bootstrap',\n",
    "    approx=False)"
   ]
  },
  {
   "cell_type": "code",
   "execution_count": 7,
   "metadata": {},
   "outputs": [],
   "source": [
    "memento_de_result = memento.get_1d_ht_result(de_sim_adata)\n",
    "memento_de_result['gene'] = memento_de_result['gene'].astype(int)"
   ]
  },
  {
   "cell_type": "code",
   "execution_count": 8,
   "metadata": {},
   "outputs": [
    {
     "data": {
      "text/plain": [
       "1.0"
      ]
     },
     "execution_count": 8,
     "metadata": {},
     "output_type": "execute_result"
    }
   ],
   "source": [
    "(memento_de_result.query('gene < 500').de_pval < 0.05).mean()"
   ]
  },
  {
   "cell_type": "code",
   "execution_count": 9,
   "metadata": {},
   "outputs": [
    {
     "name": "stderr",
     "output_type": "stream",
     "text": [
      "... storing 'memento_group' as categorical\n"
     ]
    }
   ],
   "source": [
    "memento_de_result.to_csv(data_path + 'memento_de.csv', index=False)\n",
    "de_sim_adata.write(data_path + 'de_filtered.h5ad')"
   ]
  },
  {
   "cell_type": "markdown",
   "metadata": {},
   "source": [
    "### Run memento for DV"
   ]
  },
  {
   "cell_type": "code",
   "execution_count": 10,
   "metadata": {},
   "outputs": [
    {
     "name": "stderr",
     "output_type": "stream",
     "text": [
      "/home/ssm-user/anaconda3/envs/single_cell/lib/python3.8/site-packages/anndata/_core/anndata.py:1095: FutureWarning: The `inplace` parameter in pandas.Categorical.remove_unused_categories is deprecated and will be removed in a future version.\n",
      "  df_sub[k].cat.remove_unused_categories(inplace=True)\n",
      "[Parallel(n_jobs=13)]: Using backend LokyBackend with 13 concurrent workers.\n",
      "[Parallel(n_jobs=13)]: Done  24 tasks      | elapsed:    0.6s\n",
      "[Parallel(n_jobs=13)]: Done 322 tasks      | elapsed:    4.2s\n",
      "[Parallel(n_jobs=13)]: Done 822 tasks      | elapsed:    9.5s\n",
      "[Parallel(n_jobs=13)]: Done 1522 tasks      | elapsed:   17.4s\n",
      "[Parallel(n_jobs=13)]: Done 1768 out of 1768 | elapsed:   20.2s finished\n"
     ]
    }
   ],
   "source": [
    "dv_sim_adata = sc.read(data_path + 'dv.h5ad')\n",
    "dv_sim_adata.obs['q'] = 0.07\n",
    "\n",
    "memento.setup_memento(dv_sim_adata, q_column='q', filter_mean_thresh=0.07,trim_percent=1, shrinkage=0)\n",
    "memento.create_groups(dv_sim_adata, label_columns=['ct_real'])\n",
    "memento.compute_1d_moments(dv_sim_adata, filter_genes=True)\n",
    "\n",
    "meta_df = memento.get_groups(dv_sim_adata)\n",
    "meta_df = pd.get_dummies(meta_df, prefix='', prefix_sep='', drop_first=False)\n",
    "\n",
    "treatment = meta_df[['A']]\n",
    "covariate = pd.DataFrame(np.ones((treatment.shape[0], 1)), columns=['intercept'])\n",
    "\n",
    "memento.ht_1d_moments(\n",
    "    dv_sim_adata, \n",
    "    treatment=treatment,\n",
    "    covariate=covariate,\n",
    "    num_boot=5000, \n",
    "    verbose=1,\n",
    "    num_cpus=13,\n",
    "    resampling='bootstrap',\n",
    "    approx=False)"
   ]
  },
  {
   "cell_type": "code",
   "execution_count": 11,
   "metadata": {},
   "outputs": [],
   "source": [
    "memento_dv_result = memento.get_1d_ht_result(dv_sim_adata)\n",
    "memento_dv_result['gene'] = memento_dv_result['gene'].astype(int)"
   ]
  },
  {
   "cell_type": "code",
   "execution_count": 12,
   "metadata": {},
   "outputs": [
    {
     "data": {
      "text/plain": [
       "0.776595744680851"
      ]
     },
     "execution_count": 12,
     "metadata": {},
     "output_type": "execute_result"
    }
   ],
   "source": [
    "(memento_dv_result.query('gene < 500').dv_pval < 0.05).mean()"
   ]
  },
  {
   "cell_type": "code",
   "execution_count": 13,
   "metadata": {},
   "outputs": [
    {
     "name": "stderr",
     "output_type": "stream",
     "text": [
      "... storing 'memento_group' as categorical\n"
     ]
    }
   ],
   "source": [
    "memento_dv_result.to_csv(data_path + 'memento_dv.csv', index=False)\n",
    "dv_sim_adata.write(data_path + 'dv_filtered.h5ad')"
   ]
  }
 ],
 "metadata": {
  "kernelspec": {
   "display_name": "Python 3 (ipykernel)",
   "language": "python",
   "name": "python3"
  },
  "language_info": {
   "codemirror_mode": {
    "name": "ipython",
    "version": 3
   },
   "file_extension": ".py",
   "mimetype": "text/x-python",
   "name": "python",
   "nbconvert_exporter": "python",
   "pygments_lexer": "ipython3",
   "version": "3.8.8"
  }
 },
 "nbformat": 4,
 "nbformat_minor": 4
}
