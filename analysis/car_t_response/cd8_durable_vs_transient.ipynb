{
 "cells": [
  {
   "cell_type": "markdown",
   "id": "56f115ea",
   "metadata": {},
   "source": [
    "# CAR-T CD8 T cell Analysis"
   ]
  },
  {
   "cell_type": "code",
   "execution_count": 1,
   "id": "47ab24f3",
   "metadata": {},
   "outputs": [],
   "source": [
    "import scanpy as sc\n",
    "import seaborn as sns\n",
    "import pandas as pd\n",
    "import matplotlib.pyplot as plt\n",
    "import numpy as np\n",
    "import scipy.stats as stats\n",
    "from pybedtools import BedTool\n",
    "import pickle as pkl\n",
    "%matplotlib inline"
   ]
  },
  {
   "cell_type": "code",
   "execution_count": 2,
   "id": "78800603",
   "metadata": {},
   "outputs": [],
   "source": [
    "import sys\n",
    "sys.path.append('/home/ssm-user/Github/scrna-parameter-estimation/dist/memento-0.0.9-py3.8.egg')\n",
    "sys.path.append('/home/ssm-user/Github/misc-seq/miscseq/')\n",
    "import encode\n",
    "import memento"
   ]
  },
  {
   "cell_type": "code",
   "execution_count": 3,
   "id": "19dfbd87",
   "metadata": {},
   "outputs": [],
   "source": [
    "data_path = '/data_volume/memento/cart/'"
   ]
  },
  {
   "cell_type": "code",
   "execution_count": 2,
   "id": "bf4b3b71",
   "metadata": {},
   "outputs": [
    {
     "data": {
      "text/plain": [
       "True"
      ]
     },
     "execution_count": 2,
     "metadata": {},
     "output_type": "execute_result"
    }
   ],
   "source": [
    "type('ta') == str"
   ]
  }
 ],
 "metadata": {
  "kernelspec": {
   "display_name": "Python 3 (ipykernel)",
   "language": "python",
   "name": "python3"
  },
  "language_info": {
   "codemirror_mode": {
    "name": "ipython",
    "version": 3
   },
   "file_extension": ".py",
   "mimetype": "text/x-python",
   "name": "python",
   "nbconvert_exporter": "python",
   "pygments_lexer": "ipython3",
   "version": "3.8.8"
  }
 },
 "nbformat": 4,
 "nbformat_minor": 5
}
