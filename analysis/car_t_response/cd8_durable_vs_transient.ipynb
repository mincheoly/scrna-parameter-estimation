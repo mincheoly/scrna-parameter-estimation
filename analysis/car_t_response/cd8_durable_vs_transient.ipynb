{
 "cells": [
  {
   "cell_type": "markdown",
   "id": "8285e001",
   "metadata": {},
   "source": [
    "# CAR-T CD8 T cell Analysis"
   ]
  },
  {
   "cell_type": "code",
   "execution_count": 21,
   "id": "37911c45",
   "metadata": {},
   "outputs": [],
   "source": [
    "import scanpy as sc\n",
    "import seaborn as sns\n",
    "import pandas as pd\n",
    "import matplotlib.pyplot as plt\n",
    "import numpy as np\n",
    "import scipy.stats as stats\n",
    "import pickle as pkl\n",
    "pd.set_option('display.max_columns', 500)\n",
    "%matplotlib inline"
   ]
  },
  {
   "cell_type": "code",
   "execution_count": 22,
   "id": "7e65392a",
   "metadata": {},
   "outputs": [],
   "source": [
    "import sys\n",
    "sys.path.append('/home/ssm-user/Github/scrna-parameter-estimation/dist/memento-0.0.9-py3.8.egg')\n",
    "import memento"
   ]
  },
  {
   "cell_type": "code",
   "execution_count": 23,
   "id": "c4656147",
   "metadata": {},
   "outputs": [],
   "source": [
    "data_path = '/data_volume/memento/cart/'"
   ]
  },
  {
   "cell_type": "markdown",
   "id": "1e42304f",
   "metadata": {},
   "source": [
    "### Read the data"
   ]
  },
  {
   "cell_type": "code",
   "execution_count": 24,
   "id": "2f2efaaf",
   "metadata": {},
   "outputs": [],
   "source": [
    "adata = sc.read(data_path + 'CD8_CART_counts')"
   ]
  },
  {
   "cell_type": "code",
   "execution_count": 25,
   "id": "73699bea",
   "metadata": {},
   "outputs": [],
   "source": [
    "adata.obs['response_binary'] = (adata.obs['response']=='DR').astype(int)"
   ]
  },
  {
   "cell_type": "code",
   "execution_count": 26,
   "id": "66214875",
   "metadata": {},
   "outputs": [],
   "source": [
    "# adata.obs['response_binary'] = np.random.choice(adata.obs['response_binary'], adata.shape[0])"
   ]
  },
  {
   "cell_type": "code",
   "execution_count": 27,
   "id": "a5bd8753",
   "metadata": {},
   "outputs": [],
   "source": [
    "filtered_patients = adata.obs['patient'].value_counts()\n",
    "filtered_patients = filtered_patients[filtered_patients > 1000].index.tolist()"
   ]
  },
  {
   "cell_type": "code",
   "execution_count": 28,
   "id": "c976087f",
   "metadata": {},
   "outputs": [],
   "source": [
    "adata = adata[adata.obs.patient.isin(filtered_patients)].copy().copy()"
   ]
  },
  {
   "cell_type": "markdown",
   "id": "d19d57c8",
   "metadata": {},
   "source": [
    "### Setup memento"
   ]
  },
  {
   "cell_type": "code",
   "execution_count": 29,
   "id": "364b6b83",
   "metadata": {},
   "outputs": [],
   "source": [
    "adata.obs['capture_rate'] = 0.1\n",
    "memento.setup_memento(adata, q_column='capture_rate', trim_percent=0.1, filter_mean_thresh=0.001, estimator_type='mean_only')"
   ]
  },
  {
   "cell_type": "code",
   "execution_count": 30,
   "id": "630dfa9c",
   "metadata": {},
   "outputs": [],
   "source": [
    "adata.obs['patient-group'] = adata.obs['patient'].astype(str) + '^' + adata.obs['response_binary'].astype(str)"
   ]
  },
  {
   "cell_type": "code",
   "execution_count": 32,
   "id": "f6280b88",
   "metadata": {},
   "outputs": [],
   "source": [
    "adata.obs['patient-group'] = np.random.choice(adata.obs['patient-group'], adata.shape[0], replace=False)\n",
    "adata.obs['patient'] = adata.obs['patient-group'].str.split('^').str[0]\n",
    "adata.obs['response_binary'] = adata.obs['patient-group'].str.split('^').str[1].astype(int)"
   ]
  },
  {
   "cell_type": "code",
   "execution_count": 33,
   "id": "ba6b1373",
   "metadata": {},
   "outputs": [],
   "source": [
    "memento.create_groups(adata, label_columns=['patient','response_binary'])\n",
    "# memento.create_groups(adata, label_columns=['response_binary'])"
   ]
  },
  {
   "cell_type": "code",
   "execution_count": 34,
   "id": "04047c89",
   "metadata": {},
   "outputs": [],
   "source": [
    "memento.compute_1d_moments(adata, min_perc_group=.9)"
   ]
  },
  {
   "cell_type": "markdown",
   "id": "2e9aaf92",
   "metadata": {},
   "source": [
    "### Setup hypothesis testing\n",
    "\n",
    "Use the response variable as the treatment. Because the response variable is determined at the patient level, we must do hierarchical bootstrap to avoid inflation of P-values."
   ]
  },
  {
   "cell_type": "code",
   "execution_count": 35,
   "id": "793fe8b4",
   "metadata": {},
   "outputs": [],
   "source": [
    "sample_meta = memento.get_groups(adata)"
   ]
  },
  {
   "cell_type": "code",
   "execution_count": 36,
   "id": "83127866",
   "metadata": {},
   "outputs": [
    {
     "data": {
      "text/html": [
       "<div>\n",
       "<style scoped>\n",
       "    .dataframe tbody tr th:only-of-type {\n",
       "        vertical-align: middle;\n",
       "    }\n",
       "\n",
       "    .dataframe tbody tr th {\n",
       "        vertical-align: top;\n",
       "    }\n",
       "\n",
       "    .dataframe thead th {\n",
       "        text-align: right;\n",
       "    }\n",
       "</style>\n",
       "<table border=\"1\" class=\"dataframe\">\n",
       "  <thead>\n",
       "    <tr style=\"text-align: right;\">\n",
       "      <th></th>\n",
       "      <th>patient</th>\n",
       "      <th>response_binary</th>\n",
       "    </tr>\n",
       "  </thead>\n",
       "  <tbody>\n",
       "    <tr>\n",
       "      <th>sg^JCAR01-RR^0</th>\n",
       "      <td>JCAR01-RR</td>\n",
       "      <td>0</td>\n",
       "    </tr>\n",
       "    <tr>\n",
       "      <th>sg^JCAR08-GP^1</th>\n",
       "      <td>JCAR08-GP</td>\n",
       "      <td>1</td>\n",
       "    </tr>\n",
       "    <tr>\n",
       "      <th>sg^JCAR03-LR^1</th>\n",
       "      <td>JCAR03-LR</td>\n",
       "      <td>1</td>\n",
       "    </tr>\n",
       "    <tr>\n",
       "      <th>sg^bb2121-05-YM^1</th>\n",
       "      <td>bb2121-05-YM</td>\n",
       "      <td>1</td>\n",
       "    </tr>\n",
       "    <tr>\n",
       "      <th>sg^JCAR04-SS^0</th>\n",
       "      <td>JCAR04-SS</td>\n",
       "      <td>0</td>\n",
       "    </tr>\n",
       "    <tr>\n",
       "      <th>sg^JCAR09-MB^1</th>\n",
       "      <td>JCAR09-MB</td>\n",
       "      <td>1</td>\n",
       "    </tr>\n",
       "    <tr>\n",
       "      <th>sg^bb2121-05-HN^0</th>\n",
       "      <td>bb2121-05-HN</td>\n",
       "      <td>0</td>\n",
       "    </tr>\n",
       "  </tbody>\n",
       "</table>\n",
       "</div>"
      ],
      "text/plain": [
       "                        patient  response_binary\n",
       "sg^JCAR01-RR^0        JCAR01-RR                0\n",
       "sg^JCAR08-GP^1        JCAR08-GP                1\n",
       "sg^JCAR03-LR^1        JCAR03-LR                1\n",
       "sg^bb2121-05-YM^1  bb2121-05-YM                1\n",
       "sg^JCAR04-SS^0        JCAR04-SS                0\n",
       "sg^JCAR09-MB^1        JCAR09-MB                1\n",
       "sg^bb2121-05-HN^0  bb2121-05-HN                0"
      ]
     },
     "execution_count": 36,
     "metadata": {},
     "output_type": "execute_result"
    }
   ],
   "source": [
    "sample_meta"
   ]
  },
  {
   "cell_type": "code",
   "execution_count": 37,
   "id": "6da967d5",
   "metadata": {},
   "outputs": [],
   "source": [
    "treatment = sample_meta[['response_binary']]"
   ]
  },
  {
   "cell_type": "code",
   "execution_count": 38,
   "id": "483b7136",
   "metadata": {},
   "outputs": [
    {
     "data": {
      "text/plain": [
       "(75945, 12130)"
      ]
     },
     "execution_count": 38,
     "metadata": {},
     "output_type": "execute_result"
    }
   ],
   "source": [
    "adata.shape"
   ]
  },
  {
   "cell_type": "markdown",
   "id": "6443183c",
   "metadata": {},
   "source": [
    "### Differential mean expression testing"
   ]
  },
  {
   "cell_type": "code",
   "execution_count": 39,
   "id": "da3e1adf",
   "metadata": {},
   "outputs": [
    {
     "name": "stdout",
     "output_type": "stream",
     "text": [
      "env: PYTHONWARNINGS=ignore::RuntimeWarning\n"
     ]
    },
    {
     "name": "stderr",
     "output_type": "stream",
     "text": [
      "[Parallel(n_jobs=14)]: Using backend LokyBackend with 14 concurrent workers.\n",
      "[Parallel(n_jobs=14)]: Done  22 tasks      | elapsed:    3.8s\n",
      "[Parallel(n_jobs=14)]: Done 172 tasks      | elapsed:    7.2s\n",
      "[Parallel(n_jobs=14)]: Done 422 tasks      | elapsed:   13.8s\n",
      "[Parallel(n_jobs=14)]: Done 772 tasks      | elapsed:   22.1s\n",
      "[Parallel(n_jobs=14)]: Done 1222 tasks      | elapsed:   33.6s\n",
      "[Parallel(n_jobs=14)]: Done 1772 tasks      | elapsed:   47.7s\n",
      "[Parallel(n_jobs=14)]: Done 2422 tasks      | elapsed:  1.1min\n",
      "[Parallel(n_jobs=14)]: Done 3172 tasks      | elapsed:  1.4min\n",
      "[Parallel(n_jobs=14)]: Done 4022 tasks      | elapsed:  1.7min\n",
      "[Parallel(n_jobs=14)]: Done 4972 tasks      | elapsed:  2.1min\n",
      "[Parallel(n_jobs=14)]: Done 6022 tasks      | elapsed:  2.6min\n",
      "[Parallel(n_jobs=14)]: Done 7172 tasks      | elapsed:  3.0min\n",
      "[Parallel(n_jobs=14)]: Done 8422 tasks      | elapsed:  3.6min\n",
      "[Parallel(n_jobs=14)]: Done 9772 tasks      | elapsed:  4.1min\n",
      "[Parallel(n_jobs=14)]: Done 11222 tasks      | elapsed:  4.7min\n",
      "[Parallel(n_jobs=14)]: Done 12130 out of 12130 | elapsed:  5.1min finished\n"
     ]
    }
   ],
   "source": [
    "%env PYTHONWARNINGS=ignore::RuntimeWarning\n",
    "\n",
    "\n",
    "memento.ht_1d_moments(\n",
    "    adata, \n",
    "    covariate=pd.DataFrame(np.ones((sample_meta.shape[0], 1))),\n",
    "    treatment=treatment,\n",
    "    num_boot=5000, \n",
    "    verbose=1,\n",
    "    num_cpus=14,\n",
    "    resampling='bootstrap',\n",
    "    approx=False,\n",
    "    resample_rep=True)"
   ]
  },
  {
   "cell_type": "code",
   "execution_count": 43,
   "id": "e83567ce",
   "metadata": {},
   "outputs": [],
   "source": [
    "result = memento.get_1d_ht_result(adata)"
   ]
  },
  {
   "cell_type": "code",
   "execution_count": 44,
   "id": "2a94ba81",
   "metadata": {},
   "outputs": [
    {
     "data": {
      "text/plain": [
       "(array([ 220.,  602.,  953., 1164., 1326., 1470., 1470., 1645., 1658.,\n",
       "        1622.]),\n",
       " array([0.0237467 , 0.12133132, 0.21891594, 0.31650057, 0.41408519,\n",
       "        0.51166981, 0.60925443, 0.70683905, 0.80442367, 0.9020083 ,\n",
       "        0.99959292]),\n",
       " <BarContainer object of 10 artists>)"
      ]
     },
     "execution_count": 44,
     "metadata": {},
     "output_type": "execute_result"
    },
    {
     "data": {
      "image/png": "[encoded data removed]",
      "text/plain": [
       "<Figure size 432x288 with 1 Axes>"
      ]
     },
     "metadata": {
      "needs_background": "light"
     },
     "output_type": "display_data"
    }
   ],
   "source": [
    "plt.hist(result['de_pval'])"
   ]
  },
  {
   "cell_type": "code",
   "execution_count": 45,
   "id": "80104c56",
   "metadata": {},
   "outputs": [
    {
     "data": {
      "text/html": [
       "<div>\n",
       "<style scoped>\n",
       "    .dataframe tbody tr th:only-of-type {\n",
       "        vertical-align: middle;\n",
       "    }\n",
       "\n",
       "    .dataframe tbody tr th {\n",
       "        vertical-align: top;\n",
       "    }\n",
       "\n",
       "    .dataframe thead th {\n",
       "        text-align: right;\n",
       "    }\n",
       "</style>\n",
       "<table border=\"1\" class=\"dataframe\">\n",
       "  <thead>\n",
       "    <tr style=\"text-align: right;\">\n",
       "      <th></th>\n",
       "      <th>gene</th>\n",
       "      <th>tx</th>\n",
       "      <th>de_coef</th>\n",
       "      <th>de_se</th>\n",
       "      <th>de_pval</th>\n",
       "      <th>dv_coef</th>\n",
       "      <th>dv_se</th>\n",
       "      <th>dv_pval</th>\n",
       "    </tr>\n",
       "  </thead>\n",
       "  <tbody>\n",
       "    <tr>\n",
       "      <th>0</th>\n",
       "      <td>AL669831.5</td>\n",
       "      <td>response_binary</td>\n",
       "      <td>-0.000505</td>\n",
       "      <td>0.000927</td>\n",
       "      <td>0.551829</td>\n",
       "      <td>0.0</td>\n",
       "      <td>4.881513e-16</td>\n",
       "      <td>0.999797</td>\n",
       "    </tr>\n",
       "    <tr>\n",
       "      <th>1</th>\n",
       "      <td>LINC00115</td>\n",
       "      <td>response_binary</td>\n",
       "      <td>0.000933</td>\n",
       "      <td>0.001291</td>\n",
       "      <td>0.427321</td>\n",
       "      <td>0.0</td>\n",
       "      <td>4.880456e-16</td>\n",
       "      <td>0.998779</td>\n",
       "    </tr>\n",
       "    <tr>\n",
       "      <th>2</th>\n",
       "      <td>NOC2L</td>\n",
       "      <td>response_binary</td>\n",
       "      <td>0.003225</td>\n",
       "      <td>0.003937</td>\n",
       "      <td>0.359241</td>\n",
       "      <td>0.0</td>\n",
       "      <td>4.979043e-16</td>\n",
       "      <td>1.000000</td>\n",
       "    </tr>\n",
       "    <tr>\n",
       "      <th>3</th>\n",
       "      <td>KLHL17</td>\n",
       "      <td>response_binary</td>\n",
       "      <td>0.001076</td>\n",
       "      <td>0.001177</td>\n",
       "      <td>0.309461</td>\n",
       "      <td>0.0</td>\n",
       "      <td>4.846274e-16</td>\n",
       "      <td>0.999593</td>\n",
       "    </tr>\n",
       "    <tr>\n",
       "      <th>4</th>\n",
       "      <td>PLEKHN1</td>\n",
       "      <td>response_binary</td>\n",
       "      <td>0.000397</td>\n",
       "      <td>0.000818</td>\n",
       "      <td>0.583316</td>\n",
       "      <td>0.0</td>\n",
       "      <td>4.851991e-16</td>\n",
       "      <td>0.999591</td>\n",
       "    </tr>\n",
       "  </tbody>\n",
       "</table>\n",
       "</div>"
      ],
      "text/plain": [
       "         gene               tx   de_coef     de_se   de_pval  dv_coef  \\\n",
       "0  AL669831.5  response_binary -0.000505  0.000927  0.551829      0.0   \n",
       "1   LINC00115  response_binary  0.000933  0.001291  0.427321      0.0   \n",
       "2       NOC2L  response_binary  0.003225  0.003937  0.359241      0.0   \n",
       "3      KLHL17  response_binary  0.001076  0.001177  0.309461      0.0   \n",
       "4     PLEKHN1  response_binary  0.000397  0.000818  0.583316      0.0   \n",
       "\n",
       "          dv_se   dv_pval  \n",
       "0  4.881513e-16  0.999797  \n",
       "1  4.880456e-16  0.998779  \n",
       "2  4.979043e-16  1.000000  \n",
       "3  4.846274e-16  0.999593  \n",
       "4  4.851991e-16  0.999591  "
      ]
     },
     "execution_count": 45,
     "metadata": {},
     "output_type": "execute_result"
    }
   ],
   "source": [
    "result.head(5)"
   ]
  },
  {
   "cell_type": "code",
   "execution_count": null,
   "id": "fa873a3b",
   "metadata": {},
   "outputs": [],
   "source": []
  }
 ],
 "metadata": {
  "kernelspec": {
   "display_name": "Python 3 (ipykernel)",
   "language": "python",
   "name": "python3"
  },
  "language_info": {
   "codemirror_mode": {
    "name": "ipython",
    "version": 3
   },
   "file_extension": ".py",
   "mimetype": "text/x-python",
   "name": "python",
   "nbconvert_exporter": "python",
   "pygments_lexer": "ipython3",
   "version": "3.8.8"
  }
 },
 "nbformat": 4,
 "nbformat_minor": 5
}
