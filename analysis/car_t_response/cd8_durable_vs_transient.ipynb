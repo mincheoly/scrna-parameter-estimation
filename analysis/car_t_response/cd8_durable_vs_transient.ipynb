{
 "cells": [
  {
   "cell_type": "markdown",
   "id": "48e37b4b",
   "metadata": {},
   "source": [
    "# CAR-T CD8 T cell Analysis"
   ]
  },
  {
   "cell_type": "code",
   "execution_count": 368,
   "id": "1b56b1ff",
   "metadata": {},
   "outputs": [],
   "source": [
    "import scanpy as sc\n",
    "import seaborn as sns\n",
    "import pandas as pd\n",
    "import matplotlib.pyplot as plt\n",
    "import numpy as np\n",
    "import scipy.stats as stats\n",
    "import pickle as pkl\n",
    "import scipy.sparse as sparse\n",
    "pd.set_option('display.max_columns', 500)\n",
    "%matplotlib inline"
   ]
  },
  {
   "cell_type": "code",
   "execution_count": 369,
   "id": "0809967f",
   "metadata": {},
   "outputs": [],
   "source": [
    "import sys\n",
    "sys.path.append('/home/ssm-user/Github/scrna-parameter-estimation/dist/memento-0.0.9-py3.8.egg')\n",
    "import memento"
   ]
  },
  {
   "cell_type": "code",
   "execution_count": 370,
   "id": "8f70f898",
   "metadata": {},
   "outputs": [],
   "source": [
    "data_path = '/data_volume/memento/cart/'"
   ]
  },
  {
   "cell_type": "markdown",
   "id": "59246ad9",
   "metadata": {},
   "source": [
    "### Read the data"
   ]
  },
  {
   "cell_type": "code",
   "execution_count": 414,
   "id": "f292ba89",
   "metadata": {},
   "outputs": [],
   "source": [
    "def reverse_engineer_counts(adata, n_counts_column='n_counts'):\n",
    "\t\n",
    "    n_counts = adata.obs[n_counts_column].values\n",
    "    normed_sum = np.round(adata.raw.X.expm1().sum(axis=1)[0,0])\n",
    "\n",
    "    counts = sparse.diags(n_counts/normed_sum)*adata.raw.X.expm1()\n",
    "\n",
    "    return sc.AnnData(\n",
    "        X=counts,\n",
    "        obs=adata.obs,\n",
    "        var=adata.raw.var)"
   ]
  },
  {
   "cell_type": "code",
   "execution_count": 415,
   "id": "d70c44b7",
   "metadata": {},
   "outputs": [],
   "source": [
    "def setup_data(fname):\n",
    "    \n",
    "    adata = reverse_engineer_counts(sc.read(data_path + fname))\n",
    "    adata.obs['response_binary'] = (adata.obs['response']=='DR').astype(int)\n",
    "    filtered_patients = adata.obs['patient'].value_counts()\n",
    "    filtered_patients = filtered_patients[filtered_patients > 300].index.tolist()\n",
    "    adata = adata[adata.obs.patient.isin(filtered_patients)].copy().copy()\n",
    "    \n",
    "    return adata"
   ]
  },
  {
   "cell_type": "code",
   "execution_count": 416,
   "id": "04a7db53",
   "metadata": {},
   "outputs": [],
   "source": [
    "cd8_adata = setup_data('adata_early_CAR_CD8.h5ad')"
   ]
  },
  {
   "cell_type": "code",
   "execution_count": 417,
   "id": "0be40ae2",
   "metadata": {},
   "outputs": [],
   "source": [
    "cd4_adata = setup_data('adata_early_CAR_CD4.h5ad')"
   ]
  },
  {
   "cell_type": "markdown",
   "id": "c0463c15",
   "metadata": {},
   "source": [
    "### (Optional) Randomize the durable vs transient lables"
   ]
  },
  {
   "cell_type": "code",
   "execution_count": 418,
   "id": "d4b77f50",
   "metadata": {},
   "outputs": [],
   "source": [
    "# patient_label_match = adata.obs[['patient', 'response_binary']].drop_duplicates()\n",
    "# patient_label_match['response_binary_shuffled'] = np.random.choice(patient_label_match['response_binary'], patient_label_match.shape[0], replace=True)"
   ]
  },
  {
   "cell_type": "code",
   "execution_count": 419,
   "id": "1049aa82",
   "metadata": {},
   "outputs": [],
   "source": [
    "# new_obs = adata.obs.merge(patient_label_match, on='patient')\n",
    "# new_obs.index = adata.obs.index\n",
    "# adata.obs = new_obs"
   ]
  },
  {
   "cell_type": "markdown",
   "id": "103f2a88",
   "metadata": {},
   "source": [
    "### Run memento"
   ]
  },
  {
   "cell_type": "code",
   "execution_count": 420,
   "id": "18d30b1b",
   "metadata": {},
   "outputs": [
    {
     "name": "stdout",
     "output_type": "stream",
     "text": [
      "env: PYTHONWARNINGS=ignore::RuntimeWarning\n"
     ]
    }
   ],
   "source": [
    "%env PYTHONWARNINGS=ignore::RuntimeWarning"
   ]
  },
  {
   "cell_type": "code",
   "execution_count": 421,
   "id": "99439ec3",
   "metadata": {},
   "outputs": [],
   "source": [
    "def run_memento(adata):\n",
    "    \n",
    "    adata.obs['capture_rate'] = 0.1\n",
    "    memento.setup_memento(adata, q_column='capture_rate', trim_percent=0.1, filter_mean_thresh=0.001, estimator_type='mean_only')\n",
    "    memento.create_groups(adata, label_columns=['patient','response_binary'])\n",
    "    memento.compute_1d_moments(adata, min_perc_group=0.7)\n",
    "\n",
    "    sample_meta = pd.get_dummies(memento.get_groups(adata), drop_first=True)\n",
    "    treatment = sample_meta[['response_binary']]\n",
    "\n",
    "    memento.ht_1d_moments(\n",
    "        adata, \n",
    "        treatment=treatment,\n",
    "        covariate=covariate,\n",
    "        num_boot=10000, \n",
    "        verbose=1,\n",
    "        num_cpus=90,\n",
    "        resampling='bootstrap',\n",
    "        approx=True,\n",
    "        resample_rep=True)\n",
    "\n",
    "    result = memento.get_1d_ht_result(adata)\n",
    "    result['fdr'] = memento.util._fdrcorrect(result['de_pval'])\n",
    "    \n",
    "    return result"
   ]
  },
  {
   "cell_type": "code",
   "execution_count": 422,
   "id": "95fb9628",
   "metadata": {},
   "outputs": [
    {
     "name": "stderr",
     "output_type": "stream",
     "text": [
      "[Parallel(n_jobs=90)]: Using backend LokyBackend with 90 concurrent workers.\n",
      "[Parallel(n_jobs=90)]: Done  21 tasks      | elapsed:    6.4s\n",
      "[Parallel(n_jobs=90)]: Done 271 tasks      | elapsed:    8.0s\n",
      "[Parallel(n_jobs=90)]: Done 621 tasks      | elapsed:   10.4s\n",
      "[Parallel(n_jobs=90)]: Done 1071 tasks      | elapsed:   13.4s\n",
      "[Parallel(n_jobs=90)]: Done 1621 tasks      | elapsed:   16.9s\n",
      "[Parallel(n_jobs=90)]: Done 2271 tasks      | elapsed:   21.3s\n",
      "[Parallel(n_jobs=90)]: Done 3021 tasks      | elapsed:   26.3s\n",
      "[Parallel(n_jobs=90)]: Done 3871 tasks      | elapsed:   32.1s\n",
      "[Parallel(n_jobs=90)]: Done 4821 tasks      | elapsed:   38.1s\n",
      "[Parallel(n_jobs=90)]: Done 5871 tasks      | elapsed:   44.7s\n",
      "[Parallel(n_jobs=90)]: Done 7021 tasks      | elapsed:   52.6s\n",
      "[Parallel(n_jobs=90)]: Done 8271 tasks      | elapsed:  1.0min\n",
      "[Parallel(n_jobs=90)]: Done 9621 tasks      | elapsed:  1.2min\n",
      "[Parallel(n_jobs=90)]: Done 11071 tasks      | elapsed:  1.3min\n",
      "[Parallel(n_jobs=90)]: Done 11920 out of 11920 | elapsed:  1.5min finished\n"
     ]
    }
   ],
   "source": [
    "cd4_result = run_memento(cd4_adata)"
   ]
  },
  {
   "cell_type": "code",
   "execution_count": 423,
   "id": "61ddb5ba",
   "metadata": {},
   "outputs": [
    {
     "name": "stderr",
     "output_type": "stream",
     "text": [
      "[Parallel(n_jobs=90)]: Using backend LokyBackend with 90 concurrent workers.\n",
      "[Parallel(n_jobs=90)]: Done  20 tasks      | elapsed:    0.6s\n",
      "[Parallel(n_jobs=90)]: Done 270 tasks      | elapsed:    6.3s\n",
      "[Parallel(n_jobs=90)]: Done 620 tasks      | elapsed:   14.1s\n",
      "[Parallel(n_jobs=90)]: Done 1070 tasks      | elapsed:   25.3s\n",
      "[Parallel(n_jobs=90)]: Done 1620 tasks      | elapsed:   37.7s\n",
      "[Parallel(n_jobs=90)]: Done 2270 tasks      | elapsed:   53.6s\n",
      "[Parallel(n_jobs=90)]: Done 3020 tasks      | elapsed:  1.2min\n",
      "[Parallel(n_jobs=90)]: Done 3870 tasks      | elapsed:  1.5min\n",
      "[Parallel(n_jobs=90)]: Done 4820 tasks      | elapsed:  1.9min\n",
      "[Parallel(n_jobs=90)]: Done 5870 tasks      | elapsed:  2.2min\n",
      "[Parallel(n_jobs=90)]: Done 7020 tasks      | elapsed:  2.7min\n",
      "[Parallel(n_jobs=90)]: Done 8270 tasks      | elapsed:  3.2min\n",
      "[Parallel(n_jobs=90)]: Done 9620 tasks      | elapsed:  3.7min\n",
      "[Parallel(n_jobs=90)]: Done 11070 tasks      | elapsed:  4.3min\n",
      "[Parallel(n_jobs=90)]: Done 11773 out of 11773 | elapsed:  4.8min finished\n"
     ]
    }
   ],
   "source": [
    "cd8_result = run_memento(cd8_adata)"
   ]
  },
  {
   "cell_type": "markdown",
   "id": "4c832c50",
   "metadata": {},
   "source": [
    "### Plots"
   ]
  },
  {
   "cell_type": "code",
   "execution_count": 434,
   "id": "a7466519",
   "metadata": {},
   "outputs": [],
   "source": [
    "cd4_result.to_csv(data_path + 'cd4_result.csv')\n",
    "cd8_result.to_csv(data_path + 'cd8_result.csv')"
   ]
  },
  {
   "cell_type": "code",
   "execution_count": 435,
   "id": "28098852",
   "metadata": {},
   "outputs": [],
   "source": [
    "merged_result = cd4_result.merge(cd8_result, on='gene', suffixes=('_cd4', '_cd8'))"
   ]
  },
  {
   "cell_type": "code",
   "execution_count": 436,
   "id": "8a26ad75",
   "metadata": {},
   "outputs": [
    {
     "data": {
      "text/plain": [
       "(0.46060617450584773, 0.0)"
      ]
     },
     "execution_count": 436,
     "metadata": {},
     "output_type": "execute_result"
    }
   ],
   "source": [
    "stats.pearsonr(merged_result['de_coef_cd8'], merged_result['de_coef_cd4'])"
   ]
  },
  {
   "cell_type": "code",
   "execution_count": 438,
   "id": "2b3a92a2",
   "metadata": {},
   "outputs": [
    {
     "data": {
      "image/png": "[encoded data removed]",
      "text/plain": [
       "<Figure size 432x288 with 1 Axes>"
      ]
     },
     "metadata": {
      "needs_background": "light"
     },
     "output_type": "display_data"
    }
   ],
   "source": [
    "plt.scatter(merged_result['de_coef_cd8'], merged_result['de_coef_cd4'])\n",
    "plt.xlabel('Effect size in CD8'); plt.ylabel('Effect size in CD4')\n",
    "plt.title(r'Durable vs transient comparison for CD4/CD8, $\\rho$=0.47')\n",
    "plt.savefig('cd4_cd8_effect_sizes.png', bbox_inches='tight', dpi=300)"
   ]
  },
  {
   "cell_type": "code",
   "execution_count": null,
   "id": "17a1b48b",
   "metadata": {},
   "outputs": [],
   "source": []
  }
 ],
 "metadata": {
  "kernelspec": {
   "display_name": "Python 3 (ipykernel)",
   "language": "python",
   "name": "python3"
  },
  "language_info": {
   "codemirror_mode": {
    "name": "ipython",
    "version": 3
   },
   "file_extension": ".py",
   "mimetype": "text/x-python",
   "name": "python",
   "nbconvert_exporter": "python",
   "pygments_lexer": "ipython3",
   "version": "3.8.8"
  }
 },
 "nbformat": 4,
 "nbformat_minor": 5
}
