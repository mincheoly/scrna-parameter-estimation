{
 "cells": [
  {
   "cell_type": "markdown",
   "id": "340ee064",
   "metadata": {},
   "source": [
    "# ATAC enrichment (in python)"
   ]
  },
  {
   "cell_type": "code",
   "execution_count": 1,
   "id": "50d33ba7",
   "metadata": {},
   "outputs": [],
   "source": [
    "import pandas as pd\n",
    "from pybedtools import BedTool\n",
    "import seaborn as sns\n",
    "import matplotlib.pyplot as plt\n",
    "import scipy.stats as stats\n",
    "import numpy as np"
   ]
  },
  {
   "cell_type": "code",
   "execution_count": 2,
   "id": "3ca0a4ab",
   "metadata": {},
   "outputs": [],
   "source": [
    "import sys\n",
    "sys.path.append('/home/ssm-user/Github/scrna-parameter-estimation/dist/memento-0.0.8-py3.8.egg')\n",
    "sys.path.append('/home/ssm-user/Github/misc-seq/miscseq/')\n",
    "import encode\n",
    "import memento"
   ]
  },
  {
   "cell_type": "code",
   "execution_count": 7,
   "id": "a9907c7a",
   "metadata": {},
   "outputs": [],
   "source": [
    "import matplotlib\n",
    "matplotlib.rcParams['pdf.fonttype'] = 42\n",
    "matplotlib.rcParams['ps.fonttype'] = 42\n",
    "plt.rcParams[\"axes.prop_cycle\"] = plt.cycler(\"color\", ['turquoise', 'silver', 'slategrey'])\n",
    "\n",
    "import matplotlib.pylab as pylab\n",
    "params = {'legend.fontsize': 'medium',\n",
    "         'axes.labelsize': 'medium',\n",
    "         'axes.titlesize':'medium',\n",
    "         'figure.titlesize':'medium',\n",
    "         'xtick.labelsize':'small',\n",
    "         'ytick.labelsize':'small'}\n",
    "pylab.rcParams.update(params)"
   ]
  },
  {
   "cell_type": "code",
   "execution_count": 8,
   "id": "04708129",
   "metadata": {},
   "outputs": [],
   "source": [
    "cts = ['B','T8', 'T4', 'NK', 'ncM', 'cM']"
   ]
  },
  {
   "cell_type": "code",
   "execution_count": 9,
   "id": "58bb3e42",
   "metadata": {},
   "outputs": [],
   "source": [
    "data_path = '/data_volume/memento/lupus/'"
   ]
  },
  {
   "cell_type": "code",
   "execution_count": 10,
   "id": "ed8bc53f",
   "metadata": {},
   "outputs": [],
   "source": [
    "atac = pd.read_csv('/data_volume/memento/lupus/atac_enrichment/sorted_simple_atac_lineage_groups3.bed.gz', sep='\\t')\n"
   ]
  },
  {
   "cell_type": "markdown",
   "id": "9487b256",
   "metadata": {},
   "source": [
    "### Pseudobulk vs memento effect size and log(P)"
   ]
  },
  {
   "cell_type": "code",
   "execution_count": 7,
   "id": "7bd3e9f5",
   "metadata": {},
   "outputs": [],
   "source": [
    "pop = 'asian'\n",
    "for ct in cts:\n",
    "    \n",
    "    mem = pd.read_csv('/data_volume/memento/lupus/full_analysis/memento/100kb/{}_{}.csv'.format(pop,ct))\\\n",
    "        .add_suffix('_mem')\\\n",
    "        .rename(columns={'SNP_mem':'SNP', 'gene_mem':'gene', 'p.value_mem':'p-value_mem'})\n",
    "    meq = pd.read_csv('/data_volume/memento/lupus/full_analysis/mateqtl/outputs/{}_{}_all_hg19.csv'.format(pop,ct), sep='\\t')\\\n",
    "        .add_suffix('_meq')\\\n",
    "        .rename(columns={'SNP_meq':'SNP', 'gene_meq':'gene'})\n",
    "    merged = mem.merge(meq, on=['SNP', 'gene'], how='inner')\n",
    "#     merged.to_csv('/data_volume/memento/lupus/atac_enrichment/merged_eqtls/{}_{}_merged.tsv'.format(pop, ct), sep='\\t', index=False)\n",
    "    \n",
    "    break"
   ]
  },
  {
   "cell_type": "code",
   "execution_count": 8,
   "id": "87a70978",
   "metadata": {},
   "outputs": [
    {
     "data": {
      "text/plain": [
       "(1781343, 6)"
      ]
     },
     "execution_count": 8,
     "metadata": {},
     "output_type": "execute_result"
    }
   ],
   "source": [
    "mem.shape"
   ]
  },
  {
   "cell_type": "code",
   "execution_count": 9,
   "id": "4b3775bf",
   "metadata": {},
   "outputs": [
    {
     "data": {
      "text/plain": [
       "(1813907, 6)"
      ]
     },
     "execution_count": 9,
     "metadata": {},
     "output_type": "execute_result"
    }
   ],
   "source": [
    "meq.shape"
   ]
  },
  {
   "cell_type": "code",
   "execution_count": 10,
   "id": "1dc8777c",
   "metadata": {},
   "outputs": [
    {
     "data": {
      "text/plain": [
       "(1780402, 10)"
      ]
     },
     "execution_count": 10,
     "metadata": {},
     "output_type": "execute_result"
    }
   ],
   "source": [
    "merged.shape"
   ]
  },
  {
   "cell_type": "code",
   "execution_count": 11,
   "id": "60f783e0",
   "metadata": {},
   "outputs": [
    {
     "data": {
      "text/plain": [
       "<matplotlib.collections.PathCollection at 0x7f3470e7b580>"
      ]
     },
     "execution_count": 11,
     "metadata": {},
     "output_type": "execute_result"
    },
    {
     "data": {
      "image/png": "[encoded data removed]",
      "text/plain": [
       "<Figure size 432x288 with 1 Axes>"
      ]
     },
     "metadata": {
      "needs_background": "light"
     },
     "output_type": "display_data"
    }
   ],
   "source": [
    "plt.scatter(merged['beta_mem'], merged['beta_meq'])"
   ]
  },
  {
   "cell_type": "code",
   "execution_count": 12,
   "id": "0c899131",
   "metadata": {},
   "outputs": [
    {
     "data": {
      "text/plain": [
       "[<matplotlib.lines.Line2D at 0x7f347165d2b0>]"
      ]
     },
     "execution_count": 12,
     "metadata": {},
     "output_type": "execute_result"
    },
    {
     "data": {
      "image/png": "[encoded data removed]",
      "text/plain": [
       "<Figure size 432x288 with 1 Axes>"
      ]
     },
     "metadata": {
      "needs_background": "light"
     },
     "output_type": "display_data"
    }
   ],
   "source": [
    "plt.scatter(-np.log10(merged['p-value_mem']), -np.log10(merged['p-value_meq']))\n",
    "plt.plot([0, 35], [0, 35])"
   ]
  },
  {
   "cell_type": "markdown",
   "id": "a5fbd99f",
   "metadata": {},
   "source": [
    "### Make heatmaps"
   ]
  },
  {
   "cell_type": "code",
   "execution_count": 17,
   "id": "d89a6b4f",
   "metadata": {},
   "outputs": [],
   "source": [
    "def get_heatmap(pop, method):\n",
    "    all_result = []\n",
    "    for ct in cts:\n",
    "        atac_result = pd.read_csv(data_path + 'atac_enrichment/100kb/{}_{}_{}.out'.format(pop, method, ct), sep='\\t')\n",
    "        atac_result['ct'] = ct\n",
    "        all_result.append(atac_result)\n",
    "    all_result = pd.concat(all_result)\n",
    "    all_result['logp'] = -np.log10(all_result['pval'])\n",
    "    \n",
    "    heatmap = all_result.pivot('group', 'ct', 'pval').loc[['B', 'T', 'nk', 'myeloid']].loc[:, ['B', 'T4', 'T8',  'NK','cM', 'ncM',]]\n",
    "    return heatmap"
   ]
  },
  {
   "cell_type": "code",
   "execution_count": 18,
   "id": "f7d48466",
   "metadata": {},
   "outputs": [
    {
     "data": {
      "text/html": [
       "<div>\n",
       "<style scoped>\n",
       "    .dataframe tbody tr th:only-of-type {\n",
       "        vertical-align: middle;\n",
       "    }\n",
       "\n",
       "    .dataframe tbody tr th {\n",
       "        vertical-align: top;\n",
       "    }\n",
       "\n",
       "    .dataframe thead th {\n",
       "        text-align: right;\n",
       "    }\n",
       "</style>\n",
       "<table border=\"1\" class=\"dataframe\">\n",
       "  <thead>\n",
       "    <tr style=\"text-align: right;\">\n",
       "      <th>ct</th>\n",
       "      <th>B</th>\n",
       "      <th>T4</th>\n",
       "      <th>T8</th>\n",
       "      <th>NK</th>\n",
       "      <th>cM</th>\n",
       "      <th>ncM</th>\n",
       "    </tr>\n",
       "    <tr>\n",
       "      <th>group</th>\n",
       "      <th></th>\n",
       "      <th></th>\n",
       "      <th></th>\n",
       "      <th></th>\n",
       "      <th></th>\n",
       "      <th></th>\n",
       "    </tr>\n",
       "  </thead>\n",
       "  <tbody>\n",
       "    <tr>\n",
       "      <th>B</th>\n",
       "      <td>9.036428e-09</td>\n",
       "      <td>0.762378</td>\n",
       "      <td>0.993665</td>\n",
       "      <td>3.679772e-01</td>\n",
       "      <td>7.674640e-01</td>\n",
       "      <td>0.023184</td>\n",
       "    </tr>\n",
       "    <tr>\n",
       "      <th>T</th>\n",
       "      <td>1.599183e-01</td>\n",
       "      <td>0.000925</td>\n",
       "      <td>0.029664</td>\n",
       "      <td>7.601057e-03</td>\n",
       "      <td>8.571393e-01</td>\n",
       "      <td>0.832153</td>\n",
       "    </tr>\n",
       "    <tr>\n",
       "      <th>nk</th>\n",
       "      <td>1.253060e-01</td>\n",
       "      <td>0.723291</td>\n",
       "      <td>0.000088</td>\n",
       "      <td>6.666281e-08</td>\n",
       "      <td>6.987344e-01</td>\n",
       "      <td>0.000062</td>\n",
       "    </tr>\n",
       "    <tr>\n",
       "      <th>myeloid</th>\n",
       "      <td>6.897385e-01</td>\n",
       "      <td>0.995461</td>\n",
       "      <td>0.063334</td>\n",
       "      <td>9.937001e-01</td>\n",
       "      <td>2.137280e-11</td>\n",
       "      <td>0.000001</td>\n",
       "    </tr>\n",
       "  </tbody>\n",
       "</table>\n",
       "</div>"
      ],
      "text/plain": [
       "ct                  B        T4        T8            NK            cM  \\\n",
       "group                                                                   \n",
       "B        9.036428e-09  0.762378  0.993665  3.679772e-01  7.674640e-01   \n",
       "T        1.599183e-01  0.000925  0.029664  7.601057e-03  8.571393e-01   \n",
       "nk       1.253060e-01  0.723291  0.000088  6.666281e-08  6.987344e-01   \n",
       "myeloid  6.897385e-01  0.995461  0.063334  9.937001e-01  2.137280e-11   \n",
       "\n",
       "ct            ncM  \n",
       "group              \n",
       "B        0.023184  \n",
       "T        0.832153  \n",
       "nk       0.000062  \n",
       "myeloid  0.000001  "
      ]
     },
     "execution_count": 18,
     "metadata": {},
     "output_type": "execute_result"
    }
   ],
   "source": [
    "get_heatmap('asian', 'memento')"
   ]
  },
  {
   "cell_type": "code",
   "execution_count": 19,
   "id": "c62cfda0",
   "metadata": {},
   "outputs": [
    {
     "name": "stderr",
     "output_type": "stream",
     "text": [
      "/home/ssm-user/anaconda3/envs/single_cell/lib/python3.8/site-packages/pandas/core/arraylike.py:397: RuntimeWarning: divide by zero encountered in log10\n",
      "  result = getattr(ufunc, method)(*inputs, **kwargs)\n"
     ]
    },
    {
     "data": {
      "text/html": [
       "<div>\n",
       "<style scoped>\n",
       "    .dataframe tbody tr th:only-of-type {\n",
       "        vertical-align: middle;\n",
       "    }\n",
       "\n",
       "    .dataframe tbody tr th {\n",
       "        vertical-align: top;\n",
       "    }\n",
       "\n",
       "    .dataframe thead th {\n",
       "        text-align: right;\n",
       "    }\n",
       "</style>\n",
       "<table border=\"1\" class=\"dataframe\">\n",
       "  <thead>\n",
       "    <tr style=\"text-align: right;\">\n",
       "      <th>ct</th>\n",
       "      <th>B</th>\n",
       "      <th>T4</th>\n",
       "      <th>T8</th>\n",
       "      <th>NK</th>\n",
       "      <th>cM</th>\n",
       "      <th>ncM</th>\n",
       "    </tr>\n",
       "    <tr>\n",
       "      <th>group</th>\n",
       "      <th></th>\n",
       "      <th></th>\n",
       "      <th></th>\n",
       "      <th></th>\n",
       "      <th></th>\n",
       "      <th></th>\n",
       "    </tr>\n",
       "  </thead>\n",
       "  <tbody>\n",
       "    <tr>\n",
       "      <th>B</th>\n",
       "      <td>0.042081</td>\n",
       "      <td>0.852804</td>\n",
       "      <td>0.991167</td>\n",
       "      <td>0.965248</td>\n",
       "      <td>0.926064</td>\n",
       "      <td>0.870282</td>\n",
       "    </tr>\n",
       "    <tr>\n",
       "      <th>T</th>\n",
       "      <td>0.998749</td>\n",
       "      <td>0.107090</td>\n",
       "      <td>0.578836</td>\n",
       "      <td>0.979933</td>\n",
       "      <td>0.999999</td>\n",
       "      <td>0.964611</td>\n",
       "    </tr>\n",
       "    <tr>\n",
       "      <th>nk</th>\n",
       "      <td>0.262393</td>\n",
       "      <td>0.387828</td>\n",
       "      <td>0.024701</td>\n",
       "      <td>0.025762</td>\n",
       "      <td>0.998273</td>\n",
       "      <td>0.970181</td>\n",
       "    </tr>\n",
       "    <tr>\n",
       "      <th>myeloid</th>\n",
       "      <td>0.999945</td>\n",
       "      <td>0.965338</td>\n",
       "      <td>0.550822</td>\n",
       "      <td>1.000000</td>\n",
       "      <td>0.665948</td>\n",
       "      <td>0.458119</td>\n",
       "    </tr>\n",
       "  </tbody>\n",
       "</table>\n",
       "</div>"
      ],
      "text/plain": [
       "ct              B        T4        T8        NK        cM       ncM\n",
       "group                                                              \n",
       "B        0.042081  0.852804  0.991167  0.965248  0.926064  0.870282\n",
       "T        0.998749  0.107090  0.578836  0.979933  0.999999  0.964611\n",
       "nk       0.262393  0.387828  0.024701  0.025762  0.998273  0.970181\n",
       "myeloid  0.999945  0.965338  0.550822  1.000000  0.665948  0.458119"
      ]
     },
     "execution_count": 19,
     "metadata": {},
     "output_type": "execute_result"
    }
   ],
   "source": [
    "get_heatmap('asian', 'matqetl')"
   ]
  },
  {
   "cell_type": "code",
   "execution_count": 14,
   "id": "553a1002",
   "metadata": {},
   "outputs": [
    {
     "name": "stderr",
     "output_type": "stream",
     "text": [
      "/home/ssm-user/anaconda3/envs/single_cell/lib/python3.8/site-packages/pandas/core/arraylike.py:397: RuntimeWarning: divide by zero encountered in log10\n",
      "  result = getattr(ufunc, method)(*inputs, **kwargs)\n"
     ]
    },
    {
     "data": {
      "text/plain": [
       "Text(0.5, 1.0, 'Pseudobulk')"
      ]
     },
     "execution_count": 14,
     "metadata": {},
     "output_type": "execute_result"
    },
    {
     "data": {
      "image/png": "[encoded data removed]",
      "text/plain": [
       "<Figure size 432x144 with 4 Axes>"
      ]
     },
     "metadata": {
      "needs_background": "light"
     },
     "output_type": "display_data"
    }
   ],
   "source": [
    "plt.figure(figsize=(6,2));\n",
    "vmax = 6\n",
    "plt.subplot(1, 2,2)\n",
    "sns.heatmap(get_heatmap('asian', 'memento'), vmax=vmax)\n",
    "plt.ylabel('ATAC group'); plt.xlabel('cell type')\n",
    "plt.title('Memento')\n",
    "plt.subplot(1, 2,1)\n",
    "sns.heatmap(get_heatmap('asian', 'matqetl'), vmax=vmax)\n",
    "plt.ylabel(None); plt.xlabel('cell type')\n",
    "plt.title('Pseudobulk')\n",
    "# plt.savefig('atac_heatmap.pdf', bbox_inches='tight')"
   ]
  },
  {
   "cell_type": "code",
   "execution_count": 116,
   "id": "95f7f85e",
   "metadata": {},
   "outputs": [
    {
     "data": {
      "text/plain": [
       "Text(0.5, 1.0, 'Pseudobulk')"
      ]
     },
     "execution_count": 116,
     "metadata": {},
     "output_type": "execute_result"
    },
    {
     "data": {
      "image/png": "[encoded data removed]",
      "text/plain": [
       "<Figure size 576x216 with 4 Axes>"
      ]
     },
     "metadata": {
      "needs_background": "light"
     },
     "output_type": "display_data"
    }
   ],
   "source": [
    "plt.figure(figsize=(8,3));\n",
    "vmax = 8\n",
    "plt.subplot(1, 2,1)\n",
    "sns.heatmap(get_heatmap('eur', 'memento'), vmax=vmax)\n",
    "plt.ylabel('ATAC group'); plt.xlabel('cell type')\n",
    "plt.title('Memento')\n",
    "plt.subplot(1, 2,2)\n",
    "sns.heatmap(get_heatmap('eur', 'matqetl'), vmax=vmax)\n",
    "plt.ylabel('ATAC group'); plt.xlabel('cell type')\n",
    "plt.title('Pseudobulk')"
   ]
  },
  {
   "cell_type": "markdown",
   "id": "f1226739",
   "metadata": {},
   "source": [
    "### Performance enhancements for matching single cell eQTLs + ATAC data"
   ]
  },
  {
   "cell_type": "code",
   "execution_count": 4,
   "id": "3a7dc4f3",
   "metadata": {},
   "outputs": [],
   "source": [
    "matched_pairs = [\n",
    "    ('B', 'B'),\n",
    "    ('T4', 'T'),\n",
    "    ('T8', 'T'),\n",
    "    ('T8', 'nk'),\n",
    "    ('NK', 'nk'),\n",
    "    ('cM', 'myeloid'),\n",
    "    ('ncM', 'myeloid'),\n",
    "]"
   ]
  },
  {
   "cell_type": "code",
   "execution_count": 5,
   "id": "8712907e",
   "metadata": {},
   "outputs": [],
   "source": [
    "def lognorm_sigma(row):\n",
    "    rvs = stats.norm.rvs(loc=row['U_stat'], scale=row['sigma'], size=5000)\n",
    "    return np.std(np.log(rvs))"
   ]
  },
  {
   "cell_type": "code",
   "execution_count": 11,
   "id": "5b9c9129",
   "metadata": {},
   "outputs": [],
   "source": [
    "result = []\n",
    "for pop in ['asian', 'eur']:\n",
    "    for ct, atac_group in matched_pairs:\n",
    "        for method in [ 'mateqtl','memento']:\n",
    "        \n",
    "            data = pd.read_table(data_path + 'atac_enrichment/peaks/{}/{}_{}_{}.txt'.format(method, pop, ct, atac_group))\n",
    "            \n",
    "            U_stat, mw_pv = stats.mannwhitneyu(data.query('in_peak==1')['pv'], data.query('in_peak==0')['pv'], alternative='less')\n",
    "            n1, n2 = data.query('in_peak==1').shape[0], data.query('in_peak==0').shape[0]\n",
    "            mu =n1*n2/2\n",
    "            sigma = np.sqrt((n1*n2)*(n1+n2+1)/12)\n",
    "            zscore = (U_stat-mu)/sigma\n",
    "            \n",
    "            result.append((\n",
    "                pop,\n",
    "                method,\n",
    "                ct, \n",
    "                atac_group,\n",
    "                U_stat,\n",
    "                mu,\n",
    "                sigma, \n",
    "                zscore,\n",
    "                mw_pv\n",
    "            ))\n",
    "result = pd.DataFrame(result, columns=['pop', 'method','ct', 'atac_group', 'U_stat', 'mu', 'sigma', 'zscore', 'pv'])\n"
   ]
  },
  {
   "cell_type": "code",
   "execution_count": 12,
   "id": "b025d24d",
   "metadata": {},
   "outputs": [],
   "source": [
    "result['log_sigma'] = result.apply(lognorm_sigma, axis=1)\n",
    "result['log_U_stat'] = np.log(result['U_stat'])"
   ]
  },
  {
   "cell_type": "code",
   "execution_count": 13,
   "id": "eabd6d44",
   "metadata": {},
   "outputs": [],
   "source": [
    "from matplotlib.colors import ListedColormap\n",
    "cmap = sns.color_palette('Set2')"
   ]
  },
  {
   "cell_type": "code",
   "execution_count": 16,
   "id": "76392e6b",
   "metadata": {},
   "outputs": [
    {
     "data": {
      "image/png": "[encoded data removed]",
      "text/plain": [
       "<Figure size 144x144 with 1 Axes>"
      ]
     },
     "metadata": {
      "needs_background": "light"
     },
     "output_type": "display_data"
    }
   ],
   "source": [
    "plt.figure(figsize=(2, 2))\n",
    "\n",
    "df = result.query('pop == \"asian\" & method == \"memento\"')\n",
    "plt.errorbar(-df['zscore'], np.arange(df.shape[0])*2-0.3,xerr=1, fmt=\"o\", capsize=3);\n",
    "\n",
    "df = result.query('pop == \"asian\" & method == \"mateqtl\"')\n",
    "plt.errorbar(-df['zscore'], np.arange(df.shape[0])*2+0.3,xerr=1, fmt=\"o\", capsize=3);\n",
    "\n",
    "plt.legend(['memento ', 'pseudobulk'], loc='upper center', bbox_to_anchor=(0.5, 1.25), ncol=2, frameon=False)\n",
    "\n",
    "# plt.xticks([])\n",
    "lims = plt.xlim()\n",
    "for x in np.arange(df.shape[0])*2+1:\n",
    "    plt.plot(lims, [x, x], '--', lw=0.5, color='k')\n",
    "# plt.xlim(lims)\n",
    "\n",
    "plt.yticks(np.arange(df.shape[0])*2, df['ct'] + ' / ' + df['atac_group'].apply(lambda x: 'mye' if x == 'myeloid' else x));\n",
    "plt.xlabel('zscore of rank sum statistic')\n",
    "# plt.xticks(np.arange(-5, 5))\n",
    "plt.savefig('matched_enrichment.pdf', bbox_inches='tight')"
   ]
  },
  {
   "cell_type": "code",
   "execution_count": 12,
   "id": "a77cf28d",
   "metadata": {},
   "outputs": [
    {
     "data": {
      "image/png": "[encoded data removed]",
      "text/plain": [
       "<Figure size 288x216 with 2 Axes>"
      ]
     },
     "metadata": {
      "needs_background": "light"
     },
     "output_type": "display_data"
    }
   ],
   "source": [
    "plt.figure(figsize=(4, 3))\n",
    "plt.subplots_adjust(hspace=0.0)\n",
    "plt.subplot(2, 1, 1)\n",
    "df = result.query('pop == \"asian\" & method == \"mateqtl\"')\n",
    "plt.errorbar(np.arange(df.shape[0])*2-0.3, -df['zscore'], yerr=1, fmt=\"o\", capsize=3);\n",
    "\n",
    "df = result.query('pop == \"asian\" & method == \"memento\"')\n",
    "plt.errorbar(np.arange(df.shape[0])*2+0.3, -df['zscore'], yerr=1, fmt=\"o\", capsize=3);\n",
    "\n",
    "plt.legend(['Pseudobulk ', 'memento'], loc='upper center', bbox_to_anchor=(0.5, 1.25), ncol=2, frameon=False)\n",
    "\n",
    "plt.xticks([])\n",
    "lims = plt.ylim()\n",
    "for x in np.arange(df.shape[0])*2+1:\n",
    "    plt.plot([x, x], lims, '--', lw=0.5, color='k')\n",
    "plt.ylim(lims)\n",
    "    \n",
    "plt.subplot(2, 1, 2)\n",
    "\n",
    "df = result.query('pop == \"eur\" & method == \"mateqtl\"')\n",
    "plt.errorbar(np.arange(df.shape[0])*2-0.3, -df['zscore'], yerr=1, fmt=\"o\", capsize=3);\n",
    "\n",
    "df = result.query('pop == \"eur\" & method == \"memento\"')\n",
    "plt.errorbar(np.arange(df.shape[0])*2+0.3, -df['zscore'], yerr=1, fmt=\"o\", capsize=3);\n",
    "\n",
    "lims = plt.ylim()\n",
    "for x in np.arange(df.shape[0])*2+1:\n",
    "    plt.plot([x, x], lims, '--', lw=0.5, color='k')\n",
    "plt.ylim(lims)\n",
    "    \n",
    "plt.xlabel('Top: eQTL cell type \\n Bottom: ATAC group')\n",
    "\n",
    "plt.savefig('matched_atac_enrichment.pdf', bbox_inches='tight')"
   ]
  },
  {
   "cell_type": "code",
   "execution_count": null,
   "id": "91c33e20",
   "metadata": {},
   "outputs": [],
   "source": []
  },
  {
   "cell_type": "code",
   "execution_count": null,
   "id": "b1905a45",
   "metadata": {},
   "outputs": [],
   "source": []
  },
  {
   "cell_type": "code",
   "execution_count": null,
   "id": "69421827",
   "metadata": {},
   "outputs": [],
   "source": []
  },
  {
   "cell_type": "code",
   "execution_count": null,
   "id": "664673fb",
   "metadata": {},
   "outputs": [],
   "source": []
  },
  {
   "cell_type": "code",
   "execution_count": null,
   "id": "868b5b42",
   "metadata": {},
   "outputs": [],
   "source": []
  },
  {
   "cell_type": "code",
   "execution_count": 180,
   "id": "7895c467",
   "metadata": {},
   "outputs": [
    {
     "data": {
      "text/plain": [
       "<Figure size 432x288 with 0 Axes>"
      ]
     },
     "execution_count": 180,
     "metadata": {},
     "output_type": "execute_result"
    },
    {
     "data": {
      "image/png": "[encoded data removed]",
      "text/plain": [
       "<Figure size 288x288 with 2 Axes>"
      ]
     },
     "metadata": {
      "needs_background": "light"
     },
     "output_type": "display_data"
    },
    {
     "data": {
      "text/plain": [
       "<Figure size 432x288 with 0 Axes>"
      ]
     },
     "metadata": {},
     "output_type": "display_data"
    }
   ],
   "source": [
    "plt.figure(figsize=(4, 4))\n",
    "plt.subplots_adjust(hspace=0.)\n",
    "plt.subplot(2, 1, 1)\n",
    "df = result.query('pop == \"asian\" & method == \"mateqtl\"')\n",
    "plt.errorbar(np.arange(df.shape[0])*2-0.3, df['log_U_stat'], yerr=df['log_sigma'], fmt=\"o\", capsize=3);\n",
    "\n",
    "df = result.query('pop == \"asian\" & method == \"memento\"')\n",
    "plt.errorbar(np.arange(df.shape[0])*2+0.3, df['log_U_stat'], yerr=df['log_sigma'], fmt=\"o\", capsize=3);\n",
    "\n",
    "plt.legend(['Pseudobulk ', 'memento'], loc='upper center', bbox_to_anchor=(0.5, 1.25), ncol=2, frameon=False)\n",
    "\n",
    "plt.xticks([])\n",
    "lims = plt.ylim()\n",
    "for x in np.arange(df.shape[0])*2+1:\n",
    "    plt.plot([x, x], lims, '--', lw=0.5, color='k')\n",
    "plt.ylim(lims)\n",
    "plt.ylabel('zscore of rank sum statistic                            ')\n",
    "    \n",
    "plt.subplot(2, 1, 2)\n",
    "\n",
    "df = result.query('pop == \"eur\" & method == \"mateqtl\"')\n",
    "plt.errorbar(np.arange(df.shape[0])*2-0.3, df['log_U_stat'], yerr=df['log_sigma'], fmt=\"o\", capsize=3);\n",
    "\n",
    "df = result.query('pop == \"eur\" & method == \"memento\"')\n",
    "plt.errorbar(np.arange(df.shape[0])*2+0.3, df['log_U_stat'], yerr=df['log_sigma'], fmt=\"o\", capsize=3);\n",
    "\n",
    "lims = plt.ylim()\n",
    "for x in np.arange(df.shape[0])*2+1:\n",
    "    plt.plot([x, x], lims, '--', lw=0.5, color='k')\n",
    "plt.ylim(lims)\n",
    "    \n",
    "plt.xticks(np.arange(df.shape[0])*2, df['ct'] + '\\n' + df['atac_group'].apply(lambda x: 'mye' if x == 'myeloid' else x));\n",
    "plt.xlabel('Top: eQTL cell type \\n Bottom: ATAC group')\n",
    "plt.figure()"
   ]
  },
  {
   "cell_type": "code",
   "execution_count": 143,
   "id": "5a93dbfa",
   "metadata": {},
   "outputs": [
    {
     "data": {
      "text/html": [
       "<div>\n",
       "<style scoped>\n",
       "    .dataframe tbody tr th:only-of-type {\n",
       "        vertical-align: middle;\n",
       "    }\n",
       "\n",
       "    .dataframe tbody tr th {\n",
       "        vertical-align: top;\n",
       "    }\n",
       "\n",
       "    .dataframe thead th {\n",
       "        text-align: right;\n",
       "    }\n",
       "</style>\n",
       "<table border=\"1\" class=\"dataframe\">\n",
       "  <thead>\n",
       "    <tr style=\"text-align: right;\">\n",
       "      <th></th>\n",
       "      <th>pop</th>\n",
       "      <th>method</th>\n",
       "      <th>ct</th>\n",
       "      <th>atac_group</th>\n",
       "      <th>U_stat</th>\n",
       "      <th>mu</th>\n",
       "      <th>sigma</th>\n",
       "      <th>zscore</th>\n",
       "      <th>pv</th>\n",
       "    </tr>\n",
       "  </thead>\n",
       "  <tbody>\n",
       "    <tr>\n",
       "      <th>15</th>\n",
       "      <td>eur</td>\n",
       "      <td>memento</td>\n",
       "      <td>B</td>\n",
       "      <td>B</td>\n",
       "      <td>4.490105e+09</td>\n",
       "      <td>4.704753e+09</td>\n",
       "      <td>2.851038e+07</td>\n",
       "      <td>-7.528772</td>\n",
       "      <td>2.560991e-14</td>\n",
       "    </tr>\n",
       "    <tr>\n",
       "      <th>17</th>\n",
       "      <td>eur</td>\n",
       "      <td>memento</td>\n",
       "      <td>T4</td>\n",
       "      <td>T</td>\n",
       "      <td>6.474440e+09</td>\n",
       "      <td>6.673428e+09</td>\n",
       "      <td>3.358292e+07</td>\n",
       "      <td>-5.925280</td>\n",
       "      <td>1.558829e-09</td>\n",
       "    </tr>\n",
       "    <tr>\n",
       "      <th>19</th>\n",
       "      <td>eur</td>\n",
       "      <td>memento</td>\n",
       "      <td>T8</td>\n",
       "      <td>T</td>\n",
       "      <td>6.696924e+09</td>\n",
       "      <td>6.773260e+09</td>\n",
       "      <td>3.407579e+07</td>\n",
       "      <td>-2.240184</td>\n",
       "      <td>1.253949e-02</td>\n",
       "    </tr>\n",
       "    <tr>\n",
       "      <th>21</th>\n",
       "      <td>eur</td>\n",
       "      <td>memento</td>\n",
       "      <td>T8</td>\n",
       "      <td>nk</td>\n",
       "      <td>2.506231e+09</td>\n",
       "      <td>2.554916e+09</td>\n",
       "      <td>2.092836e+07</td>\n",
       "      <td>-2.326259</td>\n",
       "      <td>1.000237e-02</td>\n",
       "    </tr>\n",
       "    <tr>\n",
       "      <th>23</th>\n",
       "      <td>eur</td>\n",
       "      <td>memento</td>\n",
       "      <td>NK</td>\n",
       "      <td>nk</td>\n",
       "      <td>2.655937e+09</td>\n",
       "      <td>2.747217e+09</td>\n",
       "      <td>2.189366e+07</td>\n",
       "      <td>-4.169263</td>\n",
       "      <td>1.527933e-05</td>\n",
       "    </tr>\n",
       "    <tr>\n",
       "      <th>25</th>\n",
       "      <td>eur</td>\n",
       "      <td>memento</td>\n",
       "      <td>cM</td>\n",
       "      <td>myeloid</td>\n",
       "      <td>3.911194e+09</td>\n",
       "      <td>4.084836e+09</td>\n",
       "      <td>2.700301e+07</td>\n",
       "      <td>-6.430458</td>\n",
       "      <td>6.361022e-11</td>\n",
       "    </tr>\n",
       "    <tr>\n",
       "      <th>27</th>\n",
       "      <td>eur</td>\n",
       "      <td>memento</td>\n",
       "      <td>ncM</td>\n",
       "      <td>myeloid</td>\n",
       "      <td>4.230487e+09</td>\n",
       "      <td>4.300527e+09</td>\n",
       "      <td>2.829509e+07</td>\n",
       "      <td>-2.475357</td>\n",
       "      <td>6.655151e-03</td>\n",
       "    </tr>\n",
       "  </tbody>\n",
       "</table>\n",
       "</div>"
      ],
      "text/plain": [
       "    pop   method   ct atac_group        U_stat            mu         sigma  \\\n",
       "15  eur  memento    B          B  4.490105e+09  4.704753e+09  2.851038e+07   \n",
       "17  eur  memento   T4          T  6.474440e+09  6.673428e+09  3.358292e+07   \n",
       "19  eur  memento   T8          T  6.696924e+09  6.773260e+09  3.407579e+07   \n",
       "21  eur  memento   T8         nk  2.506231e+09  2.554916e+09  2.092836e+07   \n",
       "23  eur  memento   NK         nk  2.655937e+09  2.747217e+09  2.189366e+07   \n",
       "25  eur  memento   cM    myeloid  3.911194e+09  4.084836e+09  2.700301e+07   \n",
       "27  eur  memento  ncM    myeloid  4.230487e+09  4.300527e+09  2.829509e+07   \n",
       "\n",
       "      zscore            pv  \n",
       "15 -7.528772  2.560991e-14  \n",
       "17 -5.925280  1.558829e-09  \n",
       "19 -2.240184  1.253949e-02  \n",
       "21 -2.326259  1.000237e-02  \n",
       "23 -4.169263  1.527933e-05  \n",
       "25 -6.430458  6.361022e-11  \n",
       "27 -2.475357  6.655151e-03  "
      ]
     },
     "execution_count": 143,
     "metadata": {},
     "output_type": "execute_result"
    }
   ],
   "source": [
    "df"
   ]
  },
  {
   "cell_type": "code",
   "execution_count": 184,
   "id": "de91d88a",
   "metadata": {},
   "outputs": [],
   "source": [
    "rvs = stats.norm.rvs(loc=4.490105e+09, scale=2.851038e+07, size=5000)"
   ]
  },
  {
   "cell_type": "code",
   "execution_count": 186,
   "id": "9a7b797b",
   "metadata": {},
   "outputs": [
    {
     "data": {
      "text/plain": [
       "22.22512485629938"
      ]
     },
     "execution_count": 186,
     "metadata": {},
     "output_type": "execute_result"
    }
   ],
   "source": [
    "np.log(rvs).mean()"
   ]
  },
  {
   "cell_type": "code",
   "execution_count": 188,
   "id": "84b426f3",
   "metadata": {},
   "outputs": [
    {
     "data": {
      "text/plain": [
       "0.006419908036991224"
      ]
     },
     "execution_count": 188,
     "metadata": {},
     "output_type": "execute_result"
    }
   ],
   "source": [
    "np.log(rvs).std()"
   ]
  },
  {
   "cell_type": "code",
   "execution_count": 185,
   "id": "5d1a2fd9",
   "metadata": {},
   "outputs": [
    {
     "data": {
      "text/plain": [
       "<AxesSubplot:ylabel='Density'>"
      ]
     },
     "execution_count": 185,
     "metadata": {},
     "output_type": "execute_result"
    },
    {
     "data": {
      "image/png": "[encoded data removed]",
      "text/plain": [
       "<Figure size 432x288 with 1 Axes>"
      ]
     },
     "metadata": {
      "needs_background": "light"
     },
     "output_type": "display_data"
    }
   ],
   "source": [
    "sns.kdeplot(np.log(rvs))"
   ]
  },
  {
   "cell_type": "code",
   "execution_count": 149,
   "id": "2aa2036e",
   "metadata": {},
   "outputs": [
    {
     "data": {
      "text/plain": [
       "0.00631101719753528"
      ]
     },
     "execution_count": 149,
     "metadata": {},
     "output_type": "execute_result"
    }
   ],
   "source": [
    "np.std(np.log(rvs))"
   ]
  },
  {
   "cell_type": "code",
   "execution_count": null,
   "id": "5f801878",
   "metadata": {},
   "outputs": [],
   "source": []
  },
  {
   "cell_type": "code",
   "execution_count": 141,
   "id": "3dfc41be",
   "metadata": {},
   "outputs": [
    {
     "data": {
      "text/plain": [
       "15    22.225142\n",
       "17    22.591128\n",
       "19    22.624914\n",
       "21    21.642046\n",
       "23    21.700063\n",
       "25    22.087109\n",
       "27    22.165583\n",
       "Name: U_stat, dtype: float64"
      ]
     },
     "execution_count": 141,
     "metadata": {},
     "output_type": "execute_result"
    }
   ],
   "source": [
    "\n",
    "np.log(df['U_stat'])"
   ]
  },
  {
   "cell_type": "code",
   "execution_count": 140,
   "id": "8f0ddd3e",
   "metadata": {},
   "outputs": [
    {
     "data": {
      "image/png": "[encoded data removed]",
      "text/plain": [
       "<Figure size 432x288 with 1 Axes>"
      ]
     },
     "metadata": {
      "needs_background": "light"
     },
     "output_type": "display_data"
    }
   ],
   "source": [
    "plt.errorbar(np.arange(df.shape[0])*2+0.3, np.log(df['U_stat']), yerr=np.log(df['sigma']), fmt=\"o\", capsize=3);\n"
   ]
  },
  {
   "cell_type": "code",
   "execution_count": 139,
   "id": "779a4aed",
   "metadata": {},
   "outputs": [
    {
     "data": {
      "text/plain": [
       "15    2.851038e+07\n",
       "17    3.358292e+07\n",
       "19    3.407579e+07\n",
       "21    2.092836e+07\n",
       "23    2.189366e+07\n",
       "25    2.700301e+07\n",
       "27    2.829509e+07\n",
       "Name: sigma, dtype: float64"
      ]
     },
     "execution_count": 139,
     "metadata": {},
     "output_type": "execute_result"
    }
   ],
   "source": [
    "df['sigma']"
   ]
  },
  {
   "cell_type": "code",
   "execution_count": null,
   "id": "63ff9d27",
   "metadata": {},
   "outputs": [],
   "source": []
  }
 ],
 "metadata": {
  "kernelspec": {
   "display_name": "Python 3 (ipykernel)",
   "language": "python",
   "name": "python3"
  },
  "language_info": {
   "codemirror_mode": {
    "name": "ipython",
    "version": 3
   },
   "file_extension": ".py",
   "mimetype": "text/x-python",
   "name": "python",
   "nbconvert_exporter": "python",
   "pygments_lexer": "ipython3",
   "version": "3.8.8"
  }
 },
 "nbformat": 4,
 "nbformat_minor": 5
}
