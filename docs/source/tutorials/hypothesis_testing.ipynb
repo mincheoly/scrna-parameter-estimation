{
 "cells": [
  {
   "cell_type": "markdown",
   "metadata": {},
   "source": [
    "# Using `memento` to analyze Interferon-B response in monocytes\n",
    "\n",
    "To install `memento` in the pre-release version (for Ye Lab members), install it directly from github by running:\n",
    "\n",
    "```pip install git+https://github.com/yelabucsf/scrna-parameter-estimation.git@release-v0.0.8```\n",
    "\n",
    "This requires that you have access to the Ye Lab organization. "
   ]
  },
  {
   "cell_type": "code",
   "execution_count": 1,
   "metadata": {},
   "outputs": [],
   "source": [
    "# This is only for development purposes\n",
    "\n",
    "import sys\n",
    "sys.path.append('/home/ssm-user/Github/scrna-parameter-estimation/dist/memento-0.0.8-py3.8.egg')\n",
    "import memento\n",
    "import matplotlib.pyplot as plt\n",
    "import pandas as pd"
   ]
  },
  {
   "cell_type": "code",
   "execution_count": 2,
   "metadata": {},
   "outputs": [],
   "source": [
    "import scanpy as sc\n",
    "import memento"
   ]
  },
  {
   "cell_type": "code",
   "execution_count": 3,
   "metadata": {},
   "outputs": [],
   "source": [
    "fig_path = '~/Github/scrna-parameter-estimation/figures/fig4/'\n",
    "data_path = '/data_volume/memento/demux/'"
   ]
  },
  {
   "cell_type": "code",
   "execution_count": 4,
   "metadata": {},
   "outputs": [],
   "source": [
    "import pickle as pkl"
   ]
  },
  {
   "cell_type": "markdown",
   "metadata": {},
   "source": [
    "### Read IFN data and filter for monocytes\n",
    "\n",
    "For `memento`, we need the raw count matrix. Preferrably, feed the one with all genes so that we can choose what genes to look at. \n",
    "\n",
    "One of the columns in `adata.obs` should be the discrete groups to compare mean, variability, and co-variability across. In this case, it's called `stim`. \n",
    "\n",
    "The column containing the covariate that you want p-values for should either:\n",
    "- Be binary (aka the column only contains two unique values, such as 'A' and 'B'. Here, the values are either 'stim' or 'ctrl'.\n",
    "- Be numeric (aka the column contains -1, 0, -1 for each genotype value). \n",
    "\n",
    "I recommend changing the labels to something numeric (here, i use 0 for `ctrl` and 1 for `stim`). Otherwise, the sign of the DE/EV/DC testing will be very hard to interpret."
   ]
  },
  {
   "cell_type": "code",
   "execution_count": 5,
   "metadata": {},
   "outputs": [
    {
     "name": "stdout",
     "output_type": "stream",
     "text": [
      "AnnData object with n_obs × n_vars = 5341 × 35635\n",
      "    obs: 'tsne1', 'tsne2', 'ind', 'stim', 'cluster', 'cell', 'multiplets', 'n_genes_by_counts', 'log1p_n_genes_by_counts', 'total_counts', 'log1p_total_counts', 'total_counts_mt', 'log1p_total_counts_mt', 'pct_counts_mt', 'total_counts_hb', 'log1p_total_counts_hb', 'pct_counts_hb', 'cell_type'\n",
      "    var: 'gene_ids', 'mt', 'hb', 'n_cells_by_counts', 'mean_counts', 'log1p_mean_counts', 'pct_dropout_by_counts', 'total_counts', 'log1p_total_counts'\n",
      "    uns: 'cell_type_colors'\n",
      "    obsm: 'X_tsne'\n"
     ]
    },
    {
     "name": "stderr",
     "output_type": "stream",
     "text": [
      "/home/ssm-user/anaconda3/envs/single_cell/lib/python3.8/site-packages/pandas/core/arrays/categorical.py:2631: FutureWarning: The `inplace` parameter in pandas.Categorical.remove_unused_categories is deprecated and will be removed in a future version.\n",
      "  res = method(*args, **kwargs)\n"
     ]
    }
   ],
   "source": [
    "adata = sc.read(data_path + 'interferon_filtered.h5ad')\n",
    "adata = adata[adata.obs.cell == 'CD14+ Monocytes'].copy()\n",
    "print(adata)"
   ]
  },
  {
   "cell_type": "code",
   "execution_count": 6,
   "metadata": {},
   "outputs": [],
   "source": [
    "adata.obs['stim'] = adata.obs['stim'].apply(lambda x: 0 if x == 'ctrl' else 1)"
   ]
  },
  {
   "cell_type": "code",
   "execution_count": 7,
   "metadata": {},
   "outputs": [
    {
     "data": {
      "text/html": [
       "<div>\n",
       "<style scoped>\n",
       "    .dataframe tbody tr th:only-of-type {\n",
       "        vertical-align: middle;\n",
       "    }\n",
       "\n",
       "    .dataframe tbody tr th {\n",
       "        vertical-align: top;\n",
       "    }\n",
       "\n",
       "    .dataframe thead th {\n",
       "        text-align: right;\n",
       "    }\n",
       "</style>\n",
       "<table border=\"1\" class=\"dataframe\">\n",
       "  <thead>\n",
       "    <tr style=\"text-align: right;\">\n",
       "      <th></th>\n",
       "      <th>ind</th>\n",
       "      <th>stim</th>\n",
       "      <th>cell</th>\n",
       "    </tr>\n",
       "    <tr>\n",
       "      <th>index</th>\n",
       "      <th></th>\n",
       "      <th></th>\n",
       "      <th></th>\n",
       "    </tr>\n",
       "  </thead>\n",
       "  <tbody>\n",
       "    <tr>\n",
       "      <th>GATTGGTGCTGATG-1</th>\n",
       "      <td>1015</td>\n",
       "      <td>0</td>\n",
       "      <td>CD14+ Monocytes</td>\n",
       "    </tr>\n",
       "    <tr>\n",
       "      <th>AAACGGCTTACTCT-11</th>\n",
       "      <td>1016</td>\n",
       "      <td>1</td>\n",
       "      <td>CD14+ Monocytes</td>\n",
       "    </tr>\n",
       "    <tr>\n",
       "      <th>ACATACCTGTGCTA-1</th>\n",
       "      <td>1039</td>\n",
       "      <td>0</td>\n",
       "      <td>CD14+ Monocytes</td>\n",
       "    </tr>\n",
       "    <tr>\n",
       "      <th>TCCGAGCTATCAGC-1</th>\n",
       "      <td>1016</td>\n",
       "      <td>1</td>\n",
       "      <td>CD14+ Monocytes</td>\n",
       "    </tr>\n",
       "    <tr>\n",
       "      <th>GAGAAATGTCTGGA-1</th>\n",
       "      <td>101</td>\n",
       "      <td>0</td>\n",
       "      <td>CD14+ Monocytes</td>\n",
       "    </tr>\n",
       "  </tbody>\n",
       "</table>\n",
       "</div>"
      ],
      "text/plain": [
       "                    ind stim             cell\n",
       "index                                        \n",
       "GATTGGTGCTGATG-1   1015    0  CD14+ Monocytes\n",
       "AAACGGCTTACTCT-11  1016    1  CD14+ Monocytes\n",
       "ACATACCTGTGCTA-1   1039    0  CD14+ Monocytes\n",
       "TCCGAGCTATCAGC-1   1016    1  CD14+ Monocytes\n",
       "GAGAAATGTCTGGA-1    101    0  CD14+ Monocytes"
      ]
     },
     "execution_count": 7,
     "metadata": {},
     "output_type": "execute_result"
    }
   ],
   "source": [
    "adata.obs[['ind', 'stim', 'cell']].sample(5)"
   ]
  },
  {
   "cell_type": "markdown",
   "metadata": {},
   "source": [
    "### Create groups for hypothesis testing and compute 1D parameters\n",
    "\n",
    "`memento` creates groups of cells based on anything that should be considered a reasonable group; here, we just divide the cells into `stim` and `ctrl`. But we can easily further divide the cells into individuals by adding the `ind` column to the `label_columns` argument when calling `create_groups`.\n",
    "\n",
    "Values in the `q_column` is the rough estimate of the overall UMI efficiency across both sampling and sequencing. If `s` is the sequencing saturation, multiply `s` by 0.07 for 10X v1, 0.15 for v2, and 0.25 for v3. This allows you to enter different numbers for each batch, which likely have different saturation numbers. This will NOT account for wildly different sequencing scenarios.\n",
    "\n",
    "By default, `memento` will consider all genes whose expression is high enough to calculate an accurate variance. If you wish to include less genes, increase `filter_mean_thresh`."
   ]
  },
  {
   "cell_type": "code",
   "execution_count": 8,
   "metadata": {},
   "outputs": [],
   "source": [
    "from scipy.sparse.csr import csr_matrix"
   ]
  },
  {
   "cell_type": "code",
   "execution_count": 9,
   "metadata": {},
   "outputs": [
    {
     "data": {
      "text/plain": [
       "True"
      ]
     },
     "execution_count": 9,
     "metadata": {},
     "output_type": "execute_result"
    }
   ],
   "source": [
    "type(adata.X) == csr_matrix"
   ]
  },
  {
   "cell_type": "code",
   "execution_count": 10,
   "metadata": {},
   "outputs": [],
   "source": [
    "adata.obs['capture_rate'] = 0.07\n",
    "memento.setup_memento(adata, q_column='capture_rate')"
   ]
  },
  {
   "cell_type": "code",
   "execution_count": 11,
   "metadata": {},
   "outputs": [],
   "source": [
    "memento.create_groups(adata, label_columns=['stim'])"
   ]
  },
  {
   "cell_type": "code",
   "execution_count": 12,
   "metadata": {},
   "outputs": [
    {
     "name": "stderr",
     "output_type": "stream",
     "text": [
      "/home/ssm-user/anaconda3/envs/single_cell/lib/python3.8/site-packages/pandas/core/arrays/categorical.py:2631: FutureWarning: The `inplace` parameter in pandas.Categorical.remove_unused_categories is deprecated and will be removed in a future version.\n",
      "  res = method(*args, **kwargs)\n"
     ]
    }
   ],
   "source": [
    "memento.compute_1d_moments(adata,\n",
    "    min_perc_group=.9) # percentage of groups that satisfy the condition for a gene to be considered. "
   ]
  },
  {
   "cell_type": "markdown",
   "metadata": {},
   "source": [
    "### Perform 1D hypothesis testing\n",
    "\n",
    "`formula_like` determines the linear model that is used for hypothesis testing, while `cov_column` is used to pick out the variable that you actually want p-values for. \n",
    "\n",
    "`num_cpus` controls how many CPUs to parallelize this operation for. In general, I recommend using 3-6 CPUs for reasonable peformance on any of the AWS machines that we have access to (I'm currently using a c5.2xlarge instance (8 vCPUs). "
   ]
  },
  {
   "cell_type": "code",
   "execution_count": 13,
   "metadata": {},
   "outputs": [],
   "source": [
    "sample_meta = memento.get_groups(adata)"
   ]
  },
  {
   "cell_type": "code",
   "execution_count": 14,
   "metadata": {},
   "outputs": [
    {
     "data": {
      "text/html": [
       "<div>\n",
       "<style scoped>\n",
       "    .dataframe tbody tr th:only-of-type {\n",
       "        vertical-align: middle;\n",
       "    }\n",
       "\n",
       "    .dataframe tbody tr th {\n",
       "        vertical-align: top;\n",
       "    }\n",
       "\n",
       "    .dataframe thead th {\n",
       "        text-align: right;\n",
       "    }\n",
       "</style>\n",
       "<table border=\"1\" class=\"dataframe\">\n",
       "  <thead>\n",
       "    <tr style=\"text-align: right;\">\n",
       "      <th></th>\n",
       "      <th>stim</th>\n",
       "    </tr>\n",
       "  </thead>\n",
       "  <tbody>\n",
       "    <tr>\n",
       "      <th>sg^0</th>\n",
       "      <td>0</td>\n",
       "    </tr>\n",
       "    <tr>\n",
       "      <th>sg^1</th>\n",
       "      <td>1</td>\n",
       "    </tr>\n",
       "  </tbody>\n",
       "</table>\n",
       "</div>"
      ],
      "text/plain": [
       "      stim\n",
       "sg^0     0\n",
       "sg^1     1"
      ]
     },
     "execution_count": 14,
     "metadata": {},
     "output_type": "execute_result"
    }
   ],
   "source": [
    "sample_meta"
   ]
  },
  {
   "cell_type": "code",
   "execution_count": 15,
   "metadata": {},
   "outputs": [],
   "source": [
    "# we dont have covariates so just column of 1s\n",
    "cov_df = pd.DataFrame(index=sample_meta.index)\n",
    "cov_df['intercept'] = 1"
   ]
  },
  {
   "cell_type": "code",
   "execution_count": 16,
   "metadata": {},
   "outputs": [
    {
     "name": "stderr",
     "output_type": "stream",
     "text": [
      "[Parallel(n_jobs=12)]: Using backend LokyBackend with 12 concurrent workers.\n",
      "[Parallel(n_jobs=12)]: Done  26 tasks      | elapsed:    3.5s\n",
      "[Parallel(n_jobs=12)]: Done 176 tasks      | elapsed:    7.5s\n",
      "[Parallel(n_jobs=12)]: Done 426 tasks      | elapsed:   13.8s\n",
      "[Parallel(n_jobs=12)]: Done 776 tasks      | elapsed:   22.8s\n",
      "[Parallel(n_jobs=12)]: Done 1226 tasks      | elapsed:   35.1s\n",
      "[Parallel(n_jobs=12)]: Done 1776 tasks      | elapsed:   50.0s\n",
      "[Parallel(n_jobs=12)]: Done 1877 out of 1877 | elapsed:   53.2s finished\n"
     ]
    }
   ],
   "source": [
    "memento.ht_1d_moments(\n",
    "    adata, \n",
    "    treatment=sample_meta,\n",
    "    covariate=cov_df,\n",
    "    resampling='bootstrap',\n",
    "    num_boot=5000, \n",
    "    verbose=1,\n",
    "    num_cpus=12)"
   ]
  },
  {
   "cell_type": "code",
   "execution_count": 17,
   "metadata": {},
   "outputs": [],
   "source": [
    "\n",
    "result_1d = memento.get_1d_ht_result(adata)"
   ]
  },
  {
   "cell_type": "code",
   "execution_count": 18,
   "metadata": {},
   "outputs": [
    {
     "data": {
      "text/plain": [
       "<matplotlib.collections.PathCollection at 0x7fa7ce135340>"
      ]
     },
     "execution_count": 18,
     "metadata": {},
     "output_type": "execute_result"
    },
    {
     "data": {
      "image/png": "[encoded data removed]",
      "text/plain": [
       "<Figure size 432x288 with 1 Axes>"
      ]
     },
     "metadata": {
      "needs_background": "light"
     },
     "output_type": "display_data"
    }
   ],
   "source": [
    "plt.scatter(result_1d.de_coef, result_1d.dv_coef, s=1)"
   ]
  },
  {
   "cell_type": "code",
   "execution_count": 19,
   "metadata": {},
   "outputs": [
    {
     "data": {
      "text/html": [
       "<div>\n",
       "<style scoped>\n",
       "    .dataframe tbody tr th:only-of-type {\n",
       "        vertical-align: middle;\n",
       "    }\n",
       "\n",
       "    .dataframe tbody tr th {\n",
       "        vertical-align: top;\n",
       "    }\n",
       "\n",
       "    .dataframe thead th {\n",
       "        text-align: right;\n",
       "    }\n",
       "</style>\n",
       "<table border=\"1\" class=\"dataframe\">\n",
       "  <thead>\n",
       "    <tr style=\"text-align: right;\">\n",
       "      <th></th>\n",
       "      <th>gene</th>\n",
       "      <th>tx</th>\n",
       "      <th>de_coef</th>\n",
       "      <th>de_se</th>\n",
       "      <th>de_pval</th>\n",
       "      <th>dv_coef</th>\n",
       "      <th>dv_se</th>\n",
       "      <th>dv_pval</th>\n",
       "    </tr>\n",
       "  </thead>\n",
       "  <tbody>\n",
       "    <tr>\n",
       "      <th>800</th>\n",
       "      <td>NUB1</td>\n",
       "      <td>stim</td>\n",
       "      <td>1.553159</td>\n",
       "      <td>0.074716</td>\n",
       "      <td>6.215217e-11</td>\n",
       "      <td>0.217814</td>\n",
       "      <td>0.350639</td>\n",
       "      <td>5.390922e-01</td>\n",
       "    </tr>\n",
       "    <tr>\n",
       "      <th>1821</th>\n",
       "      <td>RTCB</td>\n",
       "      <td>stim</td>\n",
       "      <td>2.305291</td>\n",
       "      <td>0.074885</td>\n",
       "      <td>3.913019e-10</td>\n",
       "      <td>-0.208805</td>\n",
       "      <td>0.231325</td>\n",
       "      <td>3.569286e-01</td>\n",
       "    </tr>\n",
       "    <tr>\n",
       "      <th>1376</th>\n",
       "      <td>B2M</td>\n",
       "      <td>stim</td>\n",
       "      <td>0.429512</td>\n",
       "      <td>0.010407</td>\n",
       "      <td>4.699689e-10</td>\n",
       "      <td>-0.291800</td>\n",
       "      <td>0.043544</td>\n",
       "      <td>9.513078e-05</td>\n",
       "    </tr>\n",
       "    <tr>\n",
       "      <th>811</th>\n",
       "      <td>SAT1</td>\n",
       "      <td>stim</td>\n",
       "      <td>1.287164</td>\n",
       "      <td>0.023795</td>\n",
       "      <td>4.640998e-09</td>\n",
       "      <td>0.565544</td>\n",
       "      <td>0.153293</td>\n",
       "      <td>1.862089e-03</td>\n",
       "    </tr>\n",
       "    <tr>\n",
       "      <th>1039</th>\n",
       "      <td>IFITM3</td>\n",
       "      <td>stim</td>\n",
       "      <td>3.502473</td>\n",
       "      <td>0.049921</td>\n",
       "      <td>6.790213e-09</td>\n",
       "      <td>-3.046652</td>\n",
       "      <td>0.105992</td>\n",
       "      <td>4.349423e-07</td>\n",
       "    </tr>\n",
       "    <tr>\n",
       "      <th>1789</th>\n",
       "      <td>ATF5</td>\n",
       "      <td>stim</td>\n",
       "      <td>1.294835</td>\n",
       "      <td>0.046064</td>\n",
       "      <td>1.178332e-08</td>\n",
       "      <td>-0.349422</td>\n",
       "      <td>0.225480</td>\n",
       "      <td>1.203759e-01</td>\n",
       "    </tr>\n",
       "    <tr>\n",
       "      <th>1831</th>\n",
       "      <td>APOBEC3A</td>\n",
       "      <td>stim</td>\n",
       "      <td>3.695553</td>\n",
       "      <td>0.053684</td>\n",
       "      <td>1.867388e-08</td>\n",
       "      <td>-2.008880</td>\n",
       "      <td>0.153805</td>\n",
       "      <td>1.376400e-06</td>\n",
       "    </tr>\n",
       "    <tr>\n",
       "      <th>296</th>\n",
       "      <td>TNFAIP6</td>\n",
       "      <td>stim</td>\n",
       "      <td>1.740791</td>\n",
       "      <td>0.117455</td>\n",
       "      <td>2.041200e-08</td>\n",
       "      <td>-1.445899</td>\n",
       "      <td>0.758585</td>\n",
       "      <td>9.638072e-02</td>\n",
       "    </tr>\n",
       "    <tr>\n",
       "      <th>1300</th>\n",
       "      <td>PSME2</td>\n",
       "      <td>stim</td>\n",
       "      <td>0.929220</td>\n",
       "      <td>0.024745</td>\n",
       "      <td>2.074298e-08</td>\n",
       "      <td>-0.876211</td>\n",
       "      <td>0.079066</td>\n",
       "      <td>1.386437e-05</td>\n",
       "    </tr>\n",
       "    <tr>\n",
       "      <th>1411</th>\n",
       "      <td>PSMA4</td>\n",
       "      <td>stim</td>\n",
       "      <td>1.286966</td>\n",
       "      <td>0.031059</td>\n",
       "      <td>2.471412e-08</td>\n",
       "      <td>0.082210</td>\n",
       "      <td>0.173142</td>\n",
       "      <td>6.288742e-01</td>\n",
       "    </tr>\n",
       "  </tbody>\n",
       "</table>\n",
       "</div>"
      ],
      "text/plain": [
       "          gene    tx   de_coef     de_se       de_pval   dv_coef     dv_se  \\\n",
       "800       NUB1  stim  1.553159  0.074716  6.215217e-11  0.217814  0.350639   \n",
       "1821      RTCB  stim  2.305291  0.074885  3.913019e-10 -0.208805  0.231325   \n",
       "1376       B2M  stim  0.429512  0.010407  4.699689e-10 -0.291800  0.043544   \n",
       "811       SAT1  stim  1.287164  0.023795  4.640998e-09  0.565544  0.153293   \n",
       "1039    IFITM3  stim  3.502473  0.049921  6.790213e-09 -3.046652  0.105992   \n",
       "1789      ATF5  stim  1.294835  0.046064  1.178332e-08 -0.349422  0.225480   \n",
       "1831  APOBEC3A  stim  3.695553  0.053684  1.867388e-08 -2.008880  0.153805   \n",
       "296    TNFAIP6  stim  1.740791  0.117455  2.041200e-08 -1.445899  0.758585   \n",
       "1300     PSME2  stim  0.929220  0.024745  2.074298e-08 -0.876211  0.079066   \n",
       "1411     PSMA4  stim  1.286966  0.031059  2.471412e-08  0.082210  0.173142   \n",
       "\n",
       "           dv_pval  \n",
       "800   5.390922e-01  \n",
       "1821  3.569286e-01  \n",
       "1376  9.513078e-05  \n",
       "811   1.862089e-03  \n",
       "1039  4.349423e-07  \n",
       "1789  1.203759e-01  \n",
       "1831  1.376400e-06  \n",
       "296   9.638072e-02  \n",
       "1300  1.386437e-05  \n",
       "1411  6.288742e-01  "
      ]
     },
     "execution_count": 19,
     "metadata": {},
     "output_type": "execute_result"
    }
   ],
   "source": [
    "result_1d.query('de_coef > 0').sort_values('de_pval').head(10)"
   ]
  },
  {
   "cell_type": "code",
   "execution_count": 20,
   "metadata": {},
   "outputs": [
    {
     "data": {
      "text/html": [
       "<div>\n",
       "<style scoped>\n",
       "    .dataframe tbody tr th:only-of-type {\n",
       "        vertical-align: middle;\n",
       "    }\n",
       "\n",
       "    .dataframe tbody tr th {\n",
       "        vertical-align: top;\n",
       "    }\n",
       "\n",
       "    .dataframe thead th {\n",
       "        text-align: right;\n",
       "    }\n",
       "</style>\n",
       "<table border=\"1\" class=\"dataframe\">\n",
       "  <thead>\n",
       "    <tr style=\"text-align: right;\">\n",
       "      <th></th>\n",
       "      <th>gene</th>\n",
       "      <th>tx</th>\n",
       "      <th>de_coef</th>\n",
       "      <th>de_se</th>\n",
       "      <th>de_pval</th>\n",
       "      <th>dv_coef</th>\n",
       "      <th>dv_se</th>\n",
       "      <th>dv_pval</th>\n",
       "    </tr>\n",
       "  </thead>\n",
       "  <tbody>\n",
       "    <tr>\n",
       "      <th>171</th>\n",
       "      <td>FCER1G</td>\n",
       "      <td>stim</td>\n",
       "      <td>0.164132</td>\n",
       "      <td>0.015344</td>\n",
       "      <td>4.423458e-04</td>\n",
       "      <td>0.346998</td>\n",
       "      <td>0.068243</td>\n",
       "      <td>0.000144</td>\n",
       "    </tr>\n",
       "    <tr>\n",
       "      <th>1828</th>\n",
       "      <td>LGALS1</td>\n",
       "      <td>stim</td>\n",
       "      <td>0.018909</td>\n",
       "      <td>0.018201</td>\n",
       "      <td>3.081384e-01</td>\n",
       "      <td>0.476514</td>\n",
       "      <td>0.063816</td>\n",
       "      <td>0.000166</td>\n",
       "    </tr>\n",
       "    <tr>\n",
       "      <th>114</th>\n",
       "      <td>RHOC</td>\n",
       "      <td>stim</td>\n",
       "      <td>0.346172</td>\n",
       "      <td>0.075301</td>\n",
       "      <td>2.336530e-04</td>\n",
       "      <td>1.348273</td>\n",
       "      <td>0.314085</td>\n",
       "      <td>0.000309</td>\n",
       "    </tr>\n",
       "    <tr>\n",
       "      <th>1537</th>\n",
       "      <td>CCR7</td>\n",
       "      <td>stim</td>\n",
       "      <td>1.031435</td>\n",
       "      <td>0.136378</td>\n",
       "      <td>1.388279e-04</td>\n",
       "      <td>1.025511</td>\n",
       "      <td>0.239285</td>\n",
       "      <td>0.000469</td>\n",
       "    </tr>\n",
       "    <tr>\n",
       "      <th>1827</th>\n",
       "      <td>LGALS2</td>\n",
       "      <td>stim</td>\n",
       "      <td>1.372170</td>\n",
       "      <td>0.078221</td>\n",
       "      <td>2.093057e-07</td>\n",
       "      <td>0.760032</td>\n",
       "      <td>0.164551</td>\n",
       "      <td>0.000556</td>\n",
       "    </tr>\n",
       "    <tr>\n",
       "      <th>1309</th>\n",
       "      <td>FAM177A1</td>\n",
       "      <td>stim</td>\n",
       "      <td>0.892508</td>\n",
       "      <td>0.046283</td>\n",
       "      <td>1.734628e-06</td>\n",
       "      <td>1.484845</td>\n",
       "      <td>0.290822</td>\n",
       "      <td>0.001069</td>\n",
       "    </tr>\n",
       "    <tr>\n",
       "      <th>137</th>\n",
       "      <td>S100A11</td>\n",
       "      <td>stim</td>\n",
       "      <td>0.216704</td>\n",
       "      <td>0.013112</td>\n",
       "      <td>2.274362e-04</td>\n",
       "      <td>0.262594</td>\n",
       "      <td>0.072342</td>\n",
       "      <td>0.001208</td>\n",
       "    </tr>\n",
       "    <tr>\n",
       "      <th>1392</th>\n",
       "      <td>RPS27L</td>\n",
       "      <td>stim</td>\n",
       "      <td>0.401444</td>\n",
       "      <td>0.046963</td>\n",
       "      <td>2.216826e-05</td>\n",
       "      <td>0.623484</td>\n",
       "      <td>0.164494</td>\n",
       "      <td>0.001412</td>\n",
       "    </tr>\n",
       "    <tr>\n",
       "      <th>811</th>\n",
       "      <td>SAT1</td>\n",
       "      <td>stim</td>\n",
       "      <td>1.287164</td>\n",
       "      <td>0.023795</td>\n",
       "      <td>4.640998e-09</td>\n",
       "      <td>0.565544</td>\n",
       "      <td>0.153293</td>\n",
       "      <td>0.001862</td>\n",
       "    </tr>\n",
       "    <tr>\n",
       "      <th>1258</th>\n",
       "      <td>SAP18</td>\n",
       "      <td>stim</td>\n",
       "      <td>0.794756</td>\n",
       "      <td>0.029937</td>\n",
       "      <td>3.226556e-06</td>\n",
       "      <td>0.856346</td>\n",
       "      <td>0.226751</td>\n",
       "      <td>0.002027</td>\n",
       "    </tr>\n",
       "  </tbody>\n",
       "</table>\n",
       "</div>"
      ],
      "text/plain": [
       "          gene    tx   de_coef     de_se       de_pval   dv_coef     dv_se  \\\n",
       "171     FCER1G  stim  0.164132  0.015344  4.423458e-04  0.346998  0.068243   \n",
       "1828    LGALS1  stim  0.018909  0.018201  3.081384e-01  0.476514  0.063816   \n",
       "114       RHOC  stim  0.346172  0.075301  2.336530e-04  1.348273  0.314085   \n",
       "1537      CCR7  stim  1.031435  0.136378  1.388279e-04  1.025511  0.239285   \n",
       "1827    LGALS2  stim  1.372170  0.078221  2.093057e-07  0.760032  0.164551   \n",
       "1309  FAM177A1  stim  0.892508  0.046283  1.734628e-06  1.484845  0.290822   \n",
       "137    S100A11  stim  0.216704  0.013112  2.274362e-04  0.262594  0.072342   \n",
       "1392    RPS27L  stim  0.401444  0.046963  2.216826e-05  0.623484  0.164494   \n",
       "811       SAT1  stim  1.287164  0.023795  4.640998e-09  0.565544  0.153293   \n",
       "1258     SAP18  stim  0.794756  0.029937  3.226556e-06  0.856346  0.226751   \n",
       "\n",
       "       dv_pval  \n",
       "171   0.000144  \n",
       "1828  0.000166  \n",
       "114   0.000309  \n",
       "1537  0.000469  \n",
       "1827  0.000556  \n",
       "1309  0.001069  \n",
       "137   0.001208  \n",
       "1392  0.001412  \n",
       "811   0.001862  \n",
       "1258  0.002027  "
      ]
     },
     "execution_count": 20,
     "metadata": {},
     "output_type": "execute_result"
    }
   ],
   "source": [
    "result_1d.query('dv_coef > 0 & de_coef > 0').sort_values('dv_pval').head(10)"
   ]
  },
  {
   "cell_type": "markdown",
   "metadata": {},
   "source": [
    "### Perform 2D hypothesis testing\n",
    "\n",
    "For differential coexpression testing, we can specify which genes you want to perform HT on. It takes a list of pairs of genes, where each element in the list is a tuple. Here, we focus on 1 transcription factor and their correlations to rest of the transcriptome. \n",
    "\n",
    "Similar to the 1D case, 2D hypothesis testing scales with the number of pairs of genes to test. If you have a smaller set of candidate genes, it will run faster."
   ]
  },
  {
   "cell_type": "code",
   "execution_count": 21,
   "metadata": {},
   "outputs": [],
   "source": [
    "import itertools"
   ]
  },
  {
   "cell_type": "code",
   "execution_count": 22,
   "metadata": {},
   "outputs": [],
   "source": [
    "gene_pairs = list(itertools.product(['IRF7'], adata.var.index.tolist()))"
   ]
  },
  {
   "cell_type": "code",
   "execution_count": 23,
   "metadata": {},
   "outputs": [],
   "source": [
    "memento.compute_2d_moments(adata, gene_pairs)"
   ]
  },
  {
   "cell_type": "code",
   "execution_count": 24,
   "metadata": {},
   "outputs": [
    {
     "name": "stderr",
     "output_type": "stream",
     "text": [
      "[Parallel(n_jobs=12)]: Using backend LokyBackend with 12 concurrent workers.\n",
      "[Parallel(n_jobs=12)]: Done  26 tasks      | elapsed:    1.8s\n",
      "[Parallel(n_jobs=12)]: Done 176 tasks      | elapsed:   10.7s\n",
      "[Parallel(n_jobs=12)]: Done 426 tasks      | elapsed:   24.4s\n",
      "[Parallel(n_jobs=12)]: Done 776 tasks      | elapsed:   44.9s\n",
      "[Parallel(n_jobs=12)]: Done 1226 tasks      | elapsed:  1.2min\n",
      "[Parallel(n_jobs=12)]: Done 1776 tasks      | elapsed:  1.7min\n",
      "[Parallel(n_jobs=12)]: Done 1876 out of 1876 | elapsed:  1.8min finished\n"
     ]
    }
   ],
   "source": [
    "memento.ht_2d_moments(\n",
    "    adata, \n",
    "    treatment=sample_meta,\n",
    "    covariate=cov_df,\n",
    "    resampling='bootstrap',\n",
    "    num_boot=5000, \n",
    "    verbose=1,\n",
    "    num_cpus=12)"
   ]
  },
  {
   "cell_type": "code",
   "execution_count": 25,
   "metadata": {},
   "outputs": [],
   "source": [
    "result_2d = memento.get_2d_ht_result(adata)"
   ]
  },
  {
   "cell_type": "code",
   "execution_count": 26,
   "metadata": {},
   "outputs": [
    {
     "data": {
      "text/html": [
       "<div>\n",
       "<style scoped>\n",
       "    .dataframe tbody tr th:only-of-type {\n",
       "        vertical-align: middle;\n",
       "    }\n",
       "\n",
       "    .dataframe tbody tr th {\n",
       "        vertical-align: top;\n",
       "    }\n",
       "\n",
       "    .dataframe thead th {\n",
       "        text-align: right;\n",
       "    }\n",
       "</style>\n",
       "<table border=\"1\" class=\"dataframe\">\n",
       "  <thead>\n",
       "    <tr style=\"text-align: right;\">\n",
       "      <th></th>\n",
       "      <th>gene_1</th>\n",
       "      <th>gene_2</th>\n",
       "      <th>corr_coef</th>\n",
       "      <th>corr_se</th>\n",
       "      <th>corr_pval</th>\n",
       "    </tr>\n",
       "  </thead>\n",
       "  <tbody>\n",
       "    <tr>\n",
       "      <th>1148</th>\n",
       "      <td>IRF7</td>\n",
       "      <td>HSPA8</td>\n",
       "      <td>0.324572</td>\n",
       "      <td>0.055779</td>\n",
       "      <td>0.000071</td>\n",
       "    </tr>\n",
       "    <tr>\n",
       "      <th>1815</th>\n",
       "      <td>IRF7</td>\n",
       "      <td>SDF2L1</td>\n",
       "      <td>0.339628</td>\n",
       "      <td>0.057296</td>\n",
       "      <td>0.000072</td>\n",
       "    </tr>\n",
       "    <tr>\n",
       "      <th>716</th>\n",
       "      <td>IRF7</td>\n",
       "      <td>ACTB</td>\n",
       "      <td>0.301092</td>\n",
       "      <td>0.051565</td>\n",
       "      <td>0.000073</td>\n",
       "    </tr>\n",
       "    <tr>\n",
       "      <th>626</th>\n",
       "      <td>IRF7</td>\n",
       "      <td>HLA-C</td>\n",
       "      <td>0.288379</td>\n",
       "      <td>0.056345</td>\n",
       "      <td>0.000127</td>\n",
       "    </tr>\n",
       "    <tr>\n",
       "      <th>638</th>\n",
       "      <td>IRF7</td>\n",
       "      <td>HLA-DRA</td>\n",
       "      <td>0.270858</td>\n",
       "      <td>0.045645</td>\n",
       "      <td>0.000130</td>\n",
       "    </tr>\n",
       "    <tr>\n",
       "      <th>1186</th>\n",
       "      <td>IRF7</td>\n",
       "      <td>TMBIM6</td>\n",
       "      <td>0.323705</td>\n",
       "      <td>0.070810</td>\n",
       "      <td>0.000156</td>\n",
       "    </tr>\n",
       "    <tr>\n",
       "      <th>1406</th>\n",
       "      <td>IRF7</td>\n",
       "      <td>PKM</td>\n",
       "      <td>0.331415</td>\n",
       "      <td>0.066212</td>\n",
       "      <td>0.000159</td>\n",
       "    </tr>\n",
       "    <tr>\n",
       "      <th>493</th>\n",
       "      <td>IRF7</td>\n",
       "      <td>ANXA5</td>\n",
       "      <td>0.277261</td>\n",
       "      <td>0.050891</td>\n",
       "      <td>0.000199</td>\n",
       "    </tr>\n",
       "    <tr>\n",
       "      <th>158</th>\n",
       "      <td>IRF7</td>\n",
       "      <td>LMNA</td>\n",
       "      <td>0.317306</td>\n",
       "      <td>0.065649</td>\n",
       "      <td>0.000204</td>\n",
       "    </tr>\n",
       "    <tr>\n",
       "      <th>241</th>\n",
       "      <td>IRF7</td>\n",
       "      <td>RTN4</td>\n",
       "      <td>0.427435</td>\n",
       "      <td>0.084289</td>\n",
       "      <td>0.000227</td>\n",
       "    </tr>\n",
       "  </tbody>\n",
       "</table>\n",
       "</div>"
      ],
      "text/plain": [
       "     gene_1   gene_2  corr_coef   corr_se  corr_pval\n",
       "1148   IRF7    HSPA8   0.324572  0.055779   0.000071\n",
       "1815   IRF7   SDF2L1   0.339628  0.057296   0.000072\n",
       "716    IRF7     ACTB   0.301092  0.051565   0.000073\n",
       "626    IRF7    HLA-C   0.288379  0.056345   0.000127\n",
       "638    IRF7  HLA-DRA   0.270858  0.045645   0.000130\n",
       "1186   IRF7   TMBIM6   0.323705  0.070810   0.000156\n",
       "1406   IRF7      PKM   0.331415  0.066212   0.000159\n",
       "493    IRF7    ANXA5   0.277261  0.050891   0.000199\n",
       "158    IRF7     LMNA   0.317306  0.065649   0.000204\n",
       "241    IRF7     RTN4   0.427435  0.084289   0.000227"
      ]
     },
     "execution_count": 26,
     "metadata": {},
     "output_type": "execute_result"
    }
   ],
   "source": [
    "result_2d.sort_values('corr_pval').head(10)"
   ]
  },
  {
   "cell_type": "markdown",
   "metadata": {},
   "source": [
    "### Save your results\n",
    "\n",
    "There are some objects within `memento` that doesn't play nice with scanpy. So just give it a heads up with the `prepare_to_save` function."
   ]
  },
  {
   "cell_type": "code",
   "execution_count": 27,
   "metadata": {},
   "outputs": [],
   "source": [
    "memento.prepare_to_save(adata)"
   ]
  },
  {
   "cell_type": "code",
   "execution_count": 28,
   "metadata": {},
   "outputs": [
    {
     "name": "stderr",
     "output_type": "stream",
     "text": [
      "... storing 'memento_group' as categorical\n"
     ]
    }
   ],
   "source": [
    "adata.write(data_path + 'ifn_tutorial.h5ad')"
   ]
  },
  {
   "cell_type": "code",
   "execution_count": null,
   "metadata": {},
   "outputs": [],
   "source": []
  }
 ],
 "metadata": {
  "kernelspec": {
   "display_name": "Python 3 (ipykernel)",
   "language": "python",
   "name": "python3"
  },
  "language_info": {
   "codemirror_mode": {
    "name": "ipython",
    "version": 3
   },
   "file_extension": ".py",
   "mimetype": "text/x-python",
   "name": "python",
   "nbconvert_exporter": "python",
   "pygments_lexer": "ipython3",
   "version": "3.8.8"
  }
 },
 "nbformat": 4,
 "nbformat_minor": 4
}
