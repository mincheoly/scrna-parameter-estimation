{
 "cells": [
  {
   "cell_type": "markdown",
   "metadata": {},
   "source": [
    "# Using `memento` to analyze Interferon-B response in monocytes\n",
    "\n",
    "To install `memento` in the pre-release version (for Ye Lab members), install it directly from github by running:\n",
    "\n",
    "```pip install git+https://github.com/yelabucsf/scrna-parameter-estimation.git@release-v0.0.5```\n",
    "\n",
    "This requires that you have access to the Ye Lab organization. "
   ]
  },
  {
   "cell_type": "code",
   "execution_count": 1,
   "metadata": {},
   "outputs": [],
   "source": [
    "# This is only for development purposes\n",
    "\n",
    "import sys\n",
    "sys.path.append('/home/ssm-user/Github/scrna-parameter-estimation/dist/memento-0.0.5-py3.8.egg')\n",
    "import memento\n",
    "import matplotlib.pyplot as plt"
   ]
  },
  {
   "cell_type": "code",
   "execution_count": 35,
   "metadata": {},
   "outputs": [],
   "source": [
    "import scanpy as sc\n",
    "import memento\n",
    "import pandas as pd\n",
    "import seaborn as sns"
   ]
  },
  {
   "cell_type": "code",
   "execution_count": 3,
   "metadata": {},
   "outputs": [],
   "source": [
    "fig_path = '~/Github/scrna-parameter-estimation/figures/fig4/'\n",
    "data_path = '/data_volume/parameter_estimation/'"
   ]
  },
  {
   "cell_type": "code",
   "execution_count": 4,
   "metadata": {},
   "outputs": [],
   "source": [
    "import pickle as pkl"
   ]
  },
  {
   "cell_type": "markdown",
   "metadata": {},
   "source": [
    "### Read IFN data and filter for monocytes\n",
    "\n",
    "For `memento`, we need the raw count matrix. Preferrably, feed the one with all genes so that we can choose what genes to look at. \n",
    "\n",
    "One of the columns in `adata.obs` should be the discrete groups to compare mean, variability, and co-variability across. In this case, it's called `stim`. \n",
    "\n",
    "The column containing the covariate that you want p-values for should either:\n",
    "- Be binary (aka the column only contains two unique values, such as 'A' and 'B'. Here, the values are either 'stim' or 'ctrl'.\n",
    "- Be numeric (aka the column contains -1, 0, -1 for each genotype value). \n",
    "\n",
    "I recommend changing the labels to something numeric (here, i use 0 for `ctrl` and 1 for `stim`). Otherwise, the sign of the DE/EV/DC testing will be very hard to interpret."
   ]
  },
  {
   "cell_type": "code",
   "execution_count": 5,
   "metadata": {},
   "outputs": [
    {
     "name": "stdout",
     "output_type": "stream",
     "text": [
      "AnnData object with n_obs × n_vars = 5341 × 35635\n",
      "    obs: 'tsne1', 'tsne2', 'ind', 'stim', 'cluster', 'cell', 'multiplets', 'n_genes_by_counts', 'log1p_n_genes_by_counts', 'total_counts', 'log1p_total_counts', 'total_counts_mt', 'log1p_total_counts_mt', 'pct_counts_mt', 'total_counts_hb', 'log1p_total_counts_hb', 'pct_counts_hb', 'cell_type'\n",
      "    var: 'gene_ids', 'mt', 'hb', 'n_cells_by_counts', 'mean_counts', 'log1p_mean_counts', 'pct_dropout_by_counts', 'total_counts', 'log1p_total_counts'\n",
      "    uns: 'cell_type_colors'\n",
      "    obsm: 'X_tsne'\n"
     ]
    },
    {
     "name": "stderr",
     "output_type": "stream",
     "text": [
      "/home/ssm-user/anaconda3/envs/single_cell/lib/python3.8/site-packages/pandas/core/arrays/categorical.py:2487: FutureWarning: The `inplace` parameter in pandas.Categorical.remove_unused_categories is deprecated and will be removed in a future version.\n",
      "  res = method(*args, **kwargs)\n"
     ]
    }
   ],
   "source": [
    "adata = sc.read(data_path + 'interferon_filtered.h5ad')\n",
    "adata = adata[adata.obs.cell == 'CD14+ Monocytes'].copy()\n",
    "print(adata)"
   ]
  },
  {
   "cell_type": "code",
   "execution_count": 6,
   "metadata": {},
   "outputs": [],
   "source": [
    "adata.obs['stim'] = adata.obs['stim'].apply(lambda x: 0 if x == 'ctrl' else 1)"
   ]
  },
  {
   "cell_type": "code",
   "execution_count": 7,
   "metadata": {},
   "outputs": [
    {
     "data": {
      "text/html": [
       "<div>\n",
       "<style scoped>\n",
       "    .dataframe tbody tr th:only-of-type {\n",
       "        vertical-align: middle;\n",
       "    }\n",
       "\n",
       "    .dataframe tbody tr th {\n",
       "        vertical-align: top;\n",
       "    }\n",
       "\n",
       "    .dataframe thead th {\n",
       "        text-align: right;\n",
       "    }\n",
       "</style>\n",
       "<table border=\"1\" class=\"dataframe\">\n",
       "  <thead>\n",
       "    <tr style=\"text-align: right;\">\n",
       "      <th></th>\n",
       "      <th>ind</th>\n",
       "      <th>stim</th>\n",
       "      <th>cell</th>\n",
       "    </tr>\n",
       "    <tr>\n",
       "      <th>index</th>\n",
       "      <th></th>\n",
       "      <th></th>\n",
       "      <th></th>\n",
       "    </tr>\n",
       "  </thead>\n",
       "  <tbody>\n",
       "    <tr>\n",
       "      <th>GATGCAACACCAGT-1</th>\n",
       "      <td>1244</td>\n",
       "      <td>0</td>\n",
       "      <td>CD14+ Monocytes</td>\n",
       "    </tr>\n",
       "    <tr>\n",
       "      <th>TATGGTCTTAAAGG-1</th>\n",
       "      <td>1015</td>\n",
       "      <td>1</td>\n",
       "      <td>CD14+ Monocytes</td>\n",
       "    </tr>\n",
       "    <tr>\n",
       "      <th>GGTCTAGAGTCCTC-1</th>\n",
       "      <td>1256</td>\n",
       "      <td>0</td>\n",
       "      <td>CD14+ Monocytes</td>\n",
       "    </tr>\n",
       "    <tr>\n",
       "      <th>CGAATCGAAACGAA-1</th>\n",
       "      <td>1015</td>\n",
       "      <td>0</td>\n",
       "      <td>CD14+ Monocytes</td>\n",
       "    </tr>\n",
       "    <tr>\n",
       "      <th>TGCAAGACCTTGCC-1</th>\n",
       "      <td>1256</td>\n",
       "      <td>0</td>\n",
       "      <td>CD14+ Monocytes</td>\n",
       "    </tr>\n",
       "  </tbody>\n",
       "</table>\n",
       "</div>"
      ],
      "text/plain": [
       "                   ind stim             cell\n",
       "index                                       \n",
       "GATGCAACACCAGT-1  1244    0  CD14+ Monocytes\n",
       "TATGGTCTTAAAGG-1  1015    1  CD14+ Monocytes\n",
       "GGTCTAGAGTCCTC-1  1256    0  CD14+ Monocytes\n",
       "CGAATCGAAACGAA-1  1015    0  CD14+ Monocytes\n",
       "TGCAAGACCTTGCC-1  1256    0  CD14+ Monocytes"
      ]
     },
     "execution_count": 7,
     "metadata": {},
     "output_type": "execute_result"
    }
   ],
   "source": [
    "adata.obs[['ind', 'stim', 'cell']].sample(5)"
   ]
  },
  {
   "cell_type": "markdown",
   "metadata": {},
   "source": [
    "### Create groups for hypothesis testing and compute 1D parameters\n",
    "\n",
    "`memento` creates groups of cells based on anything that should be considered a reasonable group; here, we just divide the cells into `stim` and `ctrl`. But we can easily further divide the cells into individuals by adding the `ind` column to the `label_columns` argument when calling `create_groups`.\n",
    "\n",
    "Values in the `q_column` is the rough estimate of the overall UMI efficiency across both sampling and sequencing. If `s` is the sequencing saturation, multiply `s` by 0.07 for 10X v1, 0.15 for v2, and 0.25 for v3. This allows you to enter different numbers for each batch, which likely have different saturation numbers. This will NOT account for wildly different sequencing scenarios.\n",
    "\n",
    "By default, `memento` will consider all genes whose expression is high enough to calculate an accurate variance. If you wish to include less genes, increase `filter_mean_thresh`."
   ]
  },
  {
   "cell_type": "code",
   "execution_count": 8,
   "metadata": {},
   "outputs": [],
   "source": [
    "from scipy.sparse.csr import csr_matrix"
   ]
  },
  {
   "cell_type": "code",
   "execution_count": 9,
   "metadata": {},
   "outputs": [
    {
     "data": {
      "text/plain": [
       "True"
      ]
     },
     "execution_count": 9,
     "metadata": {},
     "output_type": "execute_result"
    }
   ],
   "source": [
    "type(adata.X) == csr_matrix"
   ]
  },
  {
   "cell_type": "code",
   "execution_count": 10,
   "metadata": {},
   "outputs": [],
   "source": [
    "adata.obs['capture_rate'] = 0.07\n",
    "memento.setup_memento(adata, q_column='capture_rate')"
   ]
  },
  {
   "cell_type": "code",
   "execution_count": 11,
   "metadata": {},
   "outputs": [
    {
     "data": {
      "text/plain": [
       "Index(['tsne1', 'tsne2', 'ind', 'stim', 'cluster', 'cell', 'multiplets',\n",
       "       'n_genes_by_counts', 'log1p_n_genes_by_counts', 'total_counts',\n",
       "       'log1p_total_counts', 'total_counts_mt', 'log1p_total_counts_mt',\n",
       "       'pct_counts_mt', 'total_counts_hb', 'log1p_total_counts_hb',\n",
       "       'pct_counts_hb', 'cell_type', 'capture_rate', 'memento_size_factor'],\n",
       "      dtype='object')"
      ]
     },
     "execution_count": 11,
     "metadata": {},
     "output_type": "execute_result"
    }
   ],
   "source": [
    "adata.obs.columns"
   ]
  },
  {
   "cell_type": "code",
   "execution_count": 12,
   "metadata": {},
   "outputs": [],
   "source": [
    "memento.create_groups(adata, label_columns=['stim', 'ind'])"
   ]
  },
  {
   "cell_type": "code",
   "execution_count": 13,
   "metadata": {},
   "outputs": [
    {
     "name": "stderr",
     "output_type": "stream",
     "text": [
      "/home/ssm-user/anaconda3/envs/single_cell/lib/python3.8/site-packages/pandas/core/arrays/categorical.py:2487: FutureWarning: The `inplace` parameter in pandas.Categorical.remove_unused_categories is deprecated and will be removed in a future version.\n",
      "  res = method(*args, **kwargs)\n",
      "/home/ssm-user/Github/scrna-parameter-estimation/dist/memento-0.0.5-py3.8.egg/memento/estimator.py:100: RuntimeWarning: invalid value encountered in log\n"
     ]
    }
   ],
   "source": [
    "memento.compute_1d_moments(adata,\n",
    "    min_perc_group=.9) # percentage of groups that satisfy the condition for a gene to be considered. "
   ]
  },
  {
   "cell_type": "markdown",
   "metadata": {},
   "source": [
    "### For a given gene identified, extract mean and residual variance estimates\n",
    "\n",
    "IFI6 was a gene identified previously as a gene that was upregulated but decreased in variability. To make a boxplot with the measurements later on, we extract the actual mean and residual variance estimates for each person (biological replicate).\n",
    "\n",
    "Each column is the estimated mean/residual variance in a stim-individual sample. Since there are 8 donors and 2 conditions, we have 16 total columns (aside from the column containing the gene name). The naming convention is as follows: `sg^{identifier from 1st label}^{identifier from 2nd labe}^...^{identifier from last label}`. Here `0/1` indicates the control/stim state and the numbers in the last slot represents individuals."
   ]
  },
  {
   "cell_type": "code",
   "execution_count": 17,
   "metadata": {},
   "outputs": [],
   "source": [
    "mean, var, counts = memento.get_1d_moments(adata)"
   ]
  },
  {
   "cell_type": "code",
   "execution_count": 19,
   "metadata": {},
   "outputs": [
    {
     "data": {
      "text/html": [
       "<div>\n",
       "<style scoped>\n",
       "    .dataframe tbody tr th:only-of-type {\n",
       "        vertical-align: middle;\n",
       "    }\n",
       "\n",
       "    .dataframe tbody tr th {\n",
       "        vertical-align: top;\n",
       "    }\n",
       "\n",
       "    .dataframe thead th {\n",
       "        text-align: right;\n",
       "    }\n",
       "</style>\n",
       "<table border=\"1\" class=\"dataframe\">\n",
       "  <thead>\n",
       "    <tr style=\"text-align: right;\">\n",
       "      <th></th>\n",
       "      <th>gene</th>\n",
       "      <th>sg^0^1016</th>\n",
       "      <th>sg^0^1256</th>\n",
       "      <th>sg^0^1015</th>\n",
       "      <th>sg^0^101</th>\n",
       "      <th>sg^0^1244</th>\n",
       "      <th>sg^0^1488</th>\n",
       "      <th>sg^0^1039</th>\n",
       "      <th>sg^0^107</th>\n",
       "      <th>sg^1^101</th>\n",
       "      <th>sg^1^1016</th>\n",
       "      <th>sg^1^1256</th>\n",
       "      <th>sg^1^1244</th>\n",
       "      <th>sg^1^1488</th>\n",
       "      <th>sg^1^1015</th>\n",
       "      <th>sg^1^1039</th>\n",
       "      <th>sg^1^107</th>\n",
       "    </tr>\n",
       "  </thead>\n",
       "  <tbody>\n",
       "    <tr>\n",
       "      <th>30</th>\n",
       "      <td>IFI6</td>\n",
       "      <td>-0.449227</td>\n",
       "      <td>-0.532727</td>\n",
       "      <td>-0.29489</td>\n",
       "      <td>-1.532139</td>\n",
       "      <td>-2.166672</td>\n",
       "      <td>-2.352759</td>\n",
       "      <td>-0.336808</td>\n",
       "      <td>-2.352657</td>\n",
       "      <td>1.946561</td>\n",
       "      <td>1.933126</td>\n",
       "      <td>1.973464</td>\n",
       "      <td>1.998504</td>\n",
       "      <td>1.89836</td>\n",
       "      <td>1.951489</td>\n",
       "      <td>1.951971</td>\n",
       "      <td>2.077048</td>\n",
       "    </tr>\n",
       "  </tbody>\n",
       "</table>\n",
       "</div>"
      ],
      "text/plain": [
       "    gene  sg^0^1016  sg^0^1256  sg^0^1015  sg^0^101  sg^0^1244  sg^0^1488  \\\n",
       "30  IFI6  -0.449227  -0.532727   -0.29489 -1.532139  -2.166672  -2.352759   \n",
       "\n",
       "    sg^0^1039  sg^0^107  sg^1^101  sg^1^1016  sg^1^1256  sg^1^1244  sg^1^1488  \\\n",
       "30  -0.336808 -2.352657  1.946561   1.933126   1.973464   1.998504    1.89836   \n",
       "\n",
       "    sg^1^1015  sg^1^1039  sg^1^107  \n",
       "30   1.951489   1.951971  2.077048  "
      ]
     },
     "execution_count": 19,
     "metadata": {},
     "output_type": "execute_result"
    }
   ],
   "source": [
    "mean.query('gene == \"IFI6\"')"
   ]
  },
  {
   "cell_type": "code",
   "execution_count": 20,
   "metadata": {},
   "outputs": [
    {
     "data": {
      "text/html": [
       "<div>\n",
       "<style scoped>\n",
       "    .dataframe tbody tr th:only-of-type {\n",
       "        vertical-align: middle;\n",
       "    }\n",
       "\n",
       "    .dataframe tbody tr th {\n",
       "        vertical-align: top;\n",
       "    }\n",
       "\n",
       "    .dataframe thead th {\n",
       "        text-align: right;\n",
       "    }\n",
       "</style>\n",
       "<table border=\"1\" class=\"dataframe\">\n",
       "  <thead>\n",
       "    <tr style=\"text-align: right;\">\n",
       "      <th></th>\n",
       "      <th>gene</th>\n",
       "      <th>sg^0^1016</th>\n",
       "      <th>sg^0^1256</th>\n",
       "      <th>sg^0^1015</th>\n",
       "      <th>sg^0^101</th>\n",
       "      <th>sg^0^1244</th>\n",
       "      <th>sg^0^1488</th>\n",
       "      <th>sg^0^1039</th>\n",
       "      <th>sg^0^107</th>\n",
       "      <th>sg^1^101</th>\n",
       "      <th>sg^1^1016</th>\n",
       "      <th>sg^1^1256</th>\n",
       "      <th>sg^1^1244</th>\n",
       "      <th>sg^1^1488</th>\n",
       "      <th>sg^1^1015</th>\n",
       "      <th>sg^1^1039</th>\n",
       "      <th>sg^1^107</th>\n",
       "    </tr>\n",
       "  </thead>\n",
       "  <tbody>\n",
       "    <tr>\n",
       "      <th>30</th>\n",
       "      <td>IFI6</td>\n",
       "      <td>1.627829</td>\n",
       "      <td>1.116948</td>\n",
       "      <td>1.020932</td>\n",
       "      <td>1.465124</td>\n",
       "      <td>0.954609</td>\n",
       "      <td>0.53937</td>\n",
       "      <td>0.574732</td>\n",
       "      <td>2.122171</td>\n",
       "      <td>-0.936025</td>\n",
       "      <td>-0.475878</td>\n",
       "      <td>-0.867462</td>\n",
       "      <td>-0.874124</td>\n",
       "      <td>-0.780617</td>\n",
       "      <td>-0.758113</td>\n",
       "      <td>-0.956405</td>\n",
       "      <td>-0.607123</td>\n",
       "    </tr>\n",
       "  </tbody>\n",
       "</table>\n",
       "</div>"
      ],
      "text/plain": [
       "    gene  sg^0^1016  sg^0^1256  sg^0^1015  sg^0^101  sg^0^1244  sg^0^1488  \\\n",
       "30  IFI6   1.627829   1.116948   1.020932  1.465124   0.954609    0.53937   \n",
       "\n",
       "    sg^0^1039  sg^0^107  sg^1^101  sg^1^1016  sg^1^1256  sg^1^1244  sg^1^1488  \\\n",
       "30   0.574732  2.122171 -0.936025  -0.475878  -0.867462  -0.874124  -0.780617   \n",
       "\n",
       "    sg^1^1015  sg^1^1039  sg^1^107  \n",
       "30  -0.758113  -0.956405 -0.607123  "
      ]
     },
     "execution_count": 20,
     "metadata": {},
     "output_type": "execute_result"
    }
   ],
   "source": [
    "var.query('gene == \"IFI6\"')"
   ]
  },
  {
   "cell_type": "markdown",
   "metadata": {},
   "source": [
    "### Create a figure with estimated moments"
   ]
  },
  {
   "cell_type": "code",
   "execution_count": 25,
   "metadata": {},
   "outputs": [],
   "source": [
    "ctrl_cols = [c for c in mean.columns if '^0^' in c]\n",
    "stim_cols = [c for c in mean.columns if '^1^' in c]"
   ]
  },
  {
   "cell_type": "code",
   "execution_count": 32,
   "metadata": {},
   "outputs": [],
   "source": [
    "mean_ctrl, mean_stim = mean.query('gene == \"IFI6\"')[ctrl_cols].values.reshape(-1), mean.query('gene == \"IFI6\"')[stim_cols].values.reshape(-1)\n",
    "var_ctrl, var_stim = var.query('gene == \"IFI6\"')[ctrl_cols].values.reshape(-1), var.query('gene == \"IFI6\"')[stim_cols].values.reshape(-1)"
   ]
  },
  {
   "cell_type": "code",
   "execution_count": 38,
   "metadata": {},
   "outputs": [],
   "source": [
    "#make longform DataFrame for plotting. There are many ways to do this, this just lets you use seaborn in a straightforward way\n",
    "df1 = pd.DataFrame()\n",
    "df1['mean'] = mean_ctrl\n",
    "df1['var'] = var_ctrl\n",
    "df1['condition'] = 'ctrl'\n",
    "df2 = pd.DataFrame()\n",
    "df2['mean'] = mean_stim\n",
    "df2['var'] = var_stim\n",
    "df2['condition'] = 'stim'\n",
    "df = pd.concat([df1, df2])"
   ]
  },
  {
   "cell_type": "code",
   "execution_count": 58,
   "metadata": {},
   "outputs": [
    {
     "data": {
      "text/plain": [
       "<AxesSubplot:xlabel='condition', ylabel='var'>"
      ]
     },
     "execution_count": 58,
     "metadata": {},
     "output_type": "execute_result"
    },
    {
     "data": {
      "image/png": "[encoded data removed]",
      "text/plain": [
       "<Figure size 360x216 with 2 Axes>"
      ]
     },
     "metadata": {
      "needs_background": "light"
     },
     "output_type": "display_data"
    }
   ],
   "source": [
    "plt.figure(figsize=(5,3))\n",
    "plt.subplots_adjust(wspace=0.5)\n",
    "plt.subplot(1, 2, 1)\n",
    "sns.boxplot(x='condition', y='mean',data=df)\n",
    "sns.stripplot(x='condition', y='mean',data=df, edgecolor='gray', s=6, linewidth=1.5)\n",
    "plt.subplot(1, 2, 2)\n",
    "sns.boxplot(x='condition', y='var',data=df)\n",
    "sns.stripplot(x='condition', y='var',data=df, edgecolor='gray', s=6, linewidth=1.5)"
   ]
  }
 ],
 "metadata": {
  "kernelspec": {
   "display_name": "Python 3",
   "language": "python",
   "name": "python3"
  },
  "language_info": {
   "codemirror_mode": {
    "name": "ipython",
    "version": 3
   },
   "file_extension": ".py",
   "mimetype": "text/x-python",
   "name": "python",
   "nbconvert_exporter": "python",
   "pygments_lexer": "ipython3",
   "version": "3.8.8"
  }
 },
 "nbformat": 4,
 "nbformat_minor": 4
}
