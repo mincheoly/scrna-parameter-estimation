{
 "cells": [
  {
   "cell_type": "markdown",
   "id": "2afb43fe-272b-4370-a84d-dba5bd738d13",
   "metadata": {},
   "source": [
    "# Comparing simulation output for correlation estimation"
   ]
  },
  {
   "cell_type": "code",
   "execution_count": 224,
   "id": "68e7bf97-becd-40d6-9aa2-ad971ec8c8d3",
   "metadata": {
    "tags": []
   },
   "outputs": [],
   "source": [
    "import pandas as pd\n",
    "import matplotlib.pyplot as plt\n",
    "import scanpy as sc\n",
    "import scipy as sp\n",
    "import scipy.sparse as sparse\n",
    "import itertools\n",
    "import numpy as np\n",
    "import scipy.stats as stats\n",
    "from scipy.special import kl_div\n",
    "from scipy.integrate import dblquad\n",
    "import seaborn as sns\n",
    "from statsmodels.stats.multitest import fdrcorrection\n",
    "import imp\n",
    "pd.options.display.max_rows = 999\n",
    "pd.set_option('display.max_colwidth', 100)\n",
    "import pickle as pkl\n",
    "import time"
   ]
  },
  {
   "cell_type": "code",
   "execution_count": 225,
   "id": "10e5d2c2-5441-494c-9593-38b970fcd1a8",
   "metadata": {
    "tags": []
   },
   "outputs": [],
   "source": [
    "import matplotlib as mpl\n",
    "mpl.rcParams['pdf.fonttype'] = 42\n",
    "mpl.rcParams['ps.fonttype'] = 42\n",
    "\n",
    "import matplotlib.pylab as pylab\n",
    "params = {'legend.fontsize': 'small',\n",
    "         'axes.labelsize': 'medium',\n",
    "         'axes.titlesize':'medium',\n",
    "         'figure.titlesize':'medium',\n",
    "         'xtick.labelsize':'medium',\n",
    "         'ytick.labelsize':'medium'}\n",
    "pylab.rcParams.update(params)\n"
   ]
  },
  {
   "cell_type": "code",
   "execution_count": 226,
   "id": "3567541f-85be-490b-a1ef-3b12d5cba25a",
   "metadata": {
    "tags": []
   },
   "outputs": [],
   "source": [
    "import sys\n",
    "sys.path.append('/home/ubuntu/Github/memento/')\n",
    "import memento\n",
    "import memento.auxillary.simulate as simulate"
   ]
  },
  {
   "cell_type": "code",
   "execution_count": 227,
   "id": "d0c05f75-a67a-4e90-ba49-f1c799056fc6",
   "metadata": {
    "tags": []
   },
   "outputs": [],
   "source": [
    "data_path = '/home/ubuntu/Data/'\n"
   ]
  },
  {
   "cell_type": "code",
   "execution_count": 228,
   "id": "668284d2-c172-432d-8cc2-3ac85024ac69",
   "metadata": {
    "tags": []
   },
   "outputs": [
    {
     "name": "stdout",
     "output_type": "stream",
     "text": [
      "The autoreload extension is already loaded. To reload it, use:\n",
      "  %reload_ext autoreload\n"
     ]
    }
   ],
   "source": [
    "%load_ext autoreload"
   ]
  },
  {
   "cell_type": "code",
   "execution_count": 229,
   "id": "2a7312f9-27d9-4029-ae0f-a92d610f5e45",
   "metadata": {
    "tags": []
   },
   "outputs": [],
   "source": [
    "%autoreload 2"
   ]
  },
  {
   "cell_type": "code",
   "execution_count": 230,
   "id": "31a0b43b-b3a1-4222-a085-753f2362d011",
   "metadata": {
    "tags": []
   },
   "outputs": [],
   "source": [
    "DATA_PATH = '/home/ubuntu/Data/'"
   ]
  },
  {
   "cell_type": "markdown",
   "id": "6d552222-fcdf-4fea-ae86-bd670ffca0db",
   "metadata": {},
   "source": [
    "### Calculate concordances"
   ]
  },
  {
   "cell_type": "code",
   "execution_count": 278,
   "id": "e8dddacb-7974-43c5-833d-48e236abf996",
   "metadata": {
    "tags": []
   },
   "outputs": [],
   "source": [
    "def concordance(x, y, mask, log=False):\n",
    "    \n",
    "    cond = mask\n",
    "\n",
    "    if log:\n",
    "        a = np.log(x[cond])\n",
    "        b = np.log(y[cond])\n",
    "    else:\n",
    "        a = x[cond]\n",
    "        b = y[cond]\n",
    "    return cond.sum(), stats.pearsonr(a, b)[0]\n",
    "    cmat = np.cov(a, b)\n",
    "    return cond.sum(), 2*cmat[0,1]/(cmat[0,0] + cmat[1,1] + (a.mean()-b.mean())**2)"
   ]
  },
  {
   "cell_type": "code",
   "execution_count": 279,
   "id": "b5fbb1e3-8bbc-42ca-acca-9e12cc5d569e",
   "metadata": {
    "tags": []
   },
   "outputs": [
    {
     "name": "stdout",
     "output_type": "stream",
     "text": [
      "number of fish gene pairs 91\n"
     ]
    }
   ],
   "source": [
    "# Read smfish estimates\n",
    "smfish_estimates = np.load(data_path + 'smfish/smfish_estimates.npz')\n",
    "smfish_genes = list(smfish_estimates['corr_genes'])\n",
    "print('number of fish gene pairs' ,len(smfish_genes))\n",
    "smfish_correlations = smfish_estimates['correlation']\n",
    "\n",
    "# Mean one includes GAPDH so remove that\n",
    "# smfish_means = np.array([m for g,m in zip(smfish_estimates['mean_genes'], smfish_estimates['mean']) if g != 'GAPDH'])\n",
    "\n",
    "# smfish_means = np.array([m for g,m in zip(smfish_estimates['mean_genes'], smfish_estimates['mean']) if g != 'GAPDH'])\n",
    "# smfish_cv = smfish_variances/smfish_means**2"
   ]
  },
  {
   "cell_type": "code",
   "execution_count": 280,
   "id": "fb0bf28a-14b6-4116-8e4c-089a8987c75e",
   "metadata": {
    "tags": []
   },
   "outputs": [
    {
     "data": {
      "text/plain": [
       "15"
      ]
     },
     "execution_count": 280,
     "metadata": {},
     "output_type": "execute_result"
    }
   ],
   "source": [
    "len(smfish_estimates['mean_genes'])"
   ]
  },
  {
   "cell_type": "code",
   "execution_count": 281,
   "id": "b171e0d6-22c1-416b-85d5-83c83398b537",
   "metadata": {
    "tags": []
   },
   "outputs": [
    {
     "data": {
      "text/plain": [
       "91"
      ]
     },
     "execution_count": 281,
     "metadata": {},
     "output_type": "execute_result"
    }
   ],
   "source": [
    "len(smfish_genes)"
   ]
  },
  {
   "cell_type": "code",
   "execution_count": 282,
   "id": "2f842605-24b2-4125-bcb0-35744af70be2",
   "metadata": {
    "tags": []
   },
   "outputs": [],
   "source": [
    "dropseq_genes = sc.read_h5ad(data_path + 'smfish/filtered_dropseq.h5ad').var.index.tolist()\n",
    "smfish_gene_idxs = [dropseq_genes.index(smg) for smg in smfish_estimates['mean_genes']]\n",
    "# gapdh_idx = dropseq_genes.index('GAPDH')"
   ]
  },
  {
   "cell_type": "code",
   "execution_count": 283,
   "id": "d86525c6-9a1b-4ee0-b925-605ae34f505a",
   "metadata": {
    "tags": []
   },
   "outputs": [],
   "source": [
    "# !source activate mementocxg ; python /home/ubuntu/Github/scrna-parameter-estimation/smfish/correlation/correlation_estimation.py > temp.log\n"
   ]
  },
  {
   "cell_type": "code",
   "execution_count": 387,
   "id": "e40f8133-5b02-4de0-9db8-9be27e356753",
   "metadata": {
    "tags": []
   },
   "outputs": [],
   "source": [
    "correlations = np.load(data_path + 'smfish/correlation/sample_correlations.npz')['correlations']\n",
    "meta = pd.read_csv(data_path + 'smfish/correlation/sample_metadata.csv')\n",
    "\n",
    "gene_names = [f'gene_{i}' for i in range(correlations.shape[1])]\n",
    "\n",
    "results = pd.concat([\n",
    "    meta, \n",
    "    pd.DataFrame(correlations, columns=gene_names)],\n",
    "    axis=1).dropna(how='all')"
   ]
  },
  {
   "cell_type": "code",
   "execution_count": 388,
   "id": "be31e6bb-93bb-4406-ae4c-9747e038457a",
   "metadata": {
    "tags": []
   },
   "outputs": [],
   "source": [
    "concordances = []\n",
    "for name, group in results.groupby(['num_cell', 'trial']):\n",
    "    methods = group['method']\n",
    "    num_cell, trial = name\n",
    "    indices = np.all(np.isfinite(group[gene_names].values), axis=0) & np.isfinite(smfish_correlations)\n",
    "    if indices.sum() < 2:\n",
    "        continue\n",
    "    for idx, method in enumerate(methods):\n",
    "    \n",
    "        estimates = group[gene_names].values[idx]\n",
    "        \n",
    "        num_genes_used, c = concordance(estimates, smfish_correlations, indices)\n",
    "\n",
    "        concordances.append((\n",
    "            num_cell, \n",
    "            trial,\n",
    "            method,\n",
    "            num_genes_used,\n",
    "            c\n",
    "        ))\n",
    "    \n",
    "concordances = pd.DataFrame(concordances, columns=['num_cell', 'trial', 'method','num_valid_genes',  'concordance'])"
   ]
  },
  {
   "cell_type": "code",
   "execution_count": 389,
   "id": "52a43512-4b32-497d-baf3-a990d4447354",
   "metadata": {
    "tags": []
   },
   "outputs": [
    {
     "data": {
      "text/plain": [
       "num_cell  method        \n",
       "500.0     hypergeometric    0.205646\n",
       "          naive             0.082328\n",
       "          poisson           0.211364\n",
       "          saver             0.143327\n",
       "1000.0    hypergeometric    0.201474\n",
       "          naive             0.131720\n",
       "          poisson           0.196911\n",
       "          saver             0.228374\n",
       "5000.0    hypergeometric    0.488066\n",
       "          naive             0.281441\n",
       "          poisson           0.510612\n",
       "          saver             0.410680\n",
       "8000.0    hypergeometric    0.534633\n",
       "          naive             0.298768\n",
       "          poisson           0.559139\n",
       "          saver             0.375344\n",
       "Name: concordance, dtype: float64"
      ]
     },
     "execution_count": 389,
     "metadata": {},
     "output_type": "execute_result"
    }
   ],
   "source": [
    "concordances.groupby(['num_cell', 'method'])['concordance'].mean()"
   ]
  },
  {
   "cell_type": "code",
   "execution_count": 393,
   "id": "6c652e24-25a5-4b0e-90ad-d4fcf3769116",
   "metadata": {
    "tags": []
   },
   "outputs": [],
   "source": [
    "def plot_curve(x, y, data, ax, marker, color, markersize, linestyle='-', label=''):\n",
    "    \n",
    "    agg_data = data.groupby(x)[y].agg(['mean', 'std', 'count'])\n",
    "    x_data = agg_data.index\n",
    "    y_data = agg_data['mean'].values\n",
    "    y_err = agg_data['std']/np.sqrt(agg_data['count'])\n",
    "    \n",
    "    ax.plot(np.arange(x_data.shape[0]), y_data, marker=marker, color=color, markersize=markersize, linestyle=linestyle, label=label)\n",
    "    ax.fill_between(np.arange(x_data.shape[0]), y_data-y_err, y_data+y_err, alpha=0.2, color=color)\n",
    "    ax.set_xticks(np.arange(x_data.shape[0]), x_data.astype(int))"
   ]
  },
  {
   "cell_type": "code",
   "execution_count": 394,
   "id": "d7fc34f1-cae4-4f41-a92b-c341af3500cb",
   "metadata": {
    "tags": []
   },
   "outputs": [
    {
     "data": {
      "image/png": "[encoded data removed]",
      "text/plain": [
       "<Figure size 250x200 with 1 Axes>"
      ]
     },
     "metadata": {},
     "output_type": "display_data"
    }
   ],
   "source": [
    "fig, ax = plt.subplots(figsize=(2.5,2))\n",
    "to_use = concordances.query('num_valid_genes > 0')\n",
    "\n",
    "plot_curve('num_cell', 'concordance', \n",
    "           data=to_use.query('method == \"poisson\"'),\n",
    "           ax=ax, \n",
    "           color='gray', \n",
    "           marker=\"s\", \n",
    "           markersize=5,\n",
    "           label='Poisson')\n",
    "\n",
    "plot_curve('num_cell', 'concordance', \n",
    "           data=to_use.query('method == \"hypergeometric\"'),\n",
    "           ax=ax, \n",
    "           color='turquoise',\n",
    "           marker='o', \n",
    "           markersize=5,\n",
    "           label='memento')\n",
    "\n",
    "plot_curve('num_cell', 'concordance', \n",
    "           data=to_use.query('method == \"saver\"'),\n",
    "           ax=ax, \n",
    "           color='gray', \n",
    "           marker='^', \n",
    "           markersize=6,\n",
    "           label='saver')\n",
    "\n",
    "plot_curve('num_cell', 'concordance', \n",
    "           data=to_use.query('method == \"naive\"'),\n",
    "           ax=ax, \n",
    "           color='gray', \n",
    "           marker=\",\", \n",
    "           linestyle='--',\n",
    "           markersize=5,\n",
    "           label='naive')\n",
    "\n",
    "plt.xlabel('Num cell')\n",
    "# plt.ylabel('Concordance')\n",
    "# plt.legend(frameon=False)\n",
    "plt.savefig('correlation_fish.pdf', bbox_inches='tight')"
   ]
  },
  {
   "cell_type": "code",
   "execution_count": 392,
   "id": "3c69aac6-1a69-4406-9779-d43f9ad31c3c",
   "metadata": {
    "tags": []
   },
   "outputs": [
    {
     "data": {
      "text/plain": [
       "<matplotlib.legend.Legend at 0x7facbc3698d0>"
      ]
     },
     "execution_count": 392,
     "metadata": {},
     "output_type": "execute_result"
    },
    {
     "data": {
      "image/png": "[encoded data removed]",
      "text/plain": [
       "<Figure size 250x200 with 1 Axes>"
      ]
     },
     "metadata": {},
     "output_type": "display_data"
    }
   ],
   "source": [
    "plt.figure(figsize=(2.5,2))\n",
    "sns.pointplot(\n",
    "    x='num_cell', \n",
    "    y='concordance', \n",
    "    hue='method', \n",
    "    data=to_use, \n",
    "    dodge=0.4, \n",
    "    errorbar='se', \n",
    "    capsize=0.09,\n",
    "    markersize=5,\n",
    "    linewidth=2,\n",
    "    markers=['o', 's', '^', ','], \n",
    "    linestyles=['-', '-', '-', ':'],\n",
    "    palette=['gray', 'gray', 'gray', 'turquoise',])\n",
    "plt.legend(bbox_to_anchor=(1,1))"
   ]
  },
  {
   "cell_type": "code",
   "execution_count": 331,
   "id": "636fef39-92dc-45b9-8bb1-43f8a9f48640",
   "metadata": {
    "tags": []
   },
   "outputs": [
    {
     "data": {
      "text/plain": [
       "91"
      ]
     },
     "execution_count": 331,
     "metadata": {},
     "output_type": "execute_result"
    }
   ],
   "source": [
    "len(selected_saver_correlations)"
   ]
  },
  {
   "cell_type": "code",
   "execution_count": 328,
   "id": "b2bf1d5e-9adf-4883-95ae-b0b59d8a94a5",
   "metadata": {
    "tags": []
   },
   "outputs": [
    {
     "data": {
      "text/plain": [
       "(190,)"
      ]
     },
     "execution_count": 328,
     "metadata": {},
     "output_type": "execute_result"
    }
   ],
   "source": [
    "saver_correlations.values[np.triu_indices(\n",
    "    saver_correlations.shape[0], k=2)].shape"
   ]
  },
  {
   "cell_type": "code",
   "execution_count": 122,
   "id": "5182def8-3b55-4bd2-ab54-0cfe1eafbf78",
   "metadata": {
    "tags": []
   },
   "outputs": [
    {
     "data": {
      "text/plain": [
       "21"
      ]
     },
     "execution_count": 122,
     "metadata": {},
     "output_type": "execute_result"
    }
   ],
   "source": [
    "len([26973,\n",
    " 12715,\n",
    " 13655,\n",
    " 8976,\n",
    " 11611,\n",
    " 8827,\n",
    " 15880,\n",
    " 7778,\n",
    " 12686,\n",
    " 30953,\n",
    " 28386,\n",
    " 9236,\n",
    " 3718,\n",
    " 31243,\n",
    " 30532,\n",
    " 4360,\n",
    " 30984,\n",
    " 15086,\n",
    " 3158,\n",
    " 11397,\n",
    " 11612])"
   ]
  },
  {
   "cell_type": "code",
   "execution_count": 123,
   "id": "4166b647-9bd1-4690-8d66-7e0f486db0d5",
   "metadata": {
    "tags": []
   },
   "outputs": [
    {
     "data": {
      "text/plain": [
       "441"
      ]
     },
     "execution_count": 123,
     "metadata": {},
     "output_type": "execute_result"
    }
   ],
   "source": [
    "21*21"
   ]
  },
  {
   "cell_type": "code",
   "execution_count": null,
   "id": "be5fc7df-cbd6-44f4-9f3f-59e6756680c5",
   "metadata": {},
   "outputs": [],
   "source": []
  }
 ],
 "metadata": {
  "kernelspec": {
   "display_name": "mementocxg",
   "language": "python",
   "name": "myenv"
  },
  "language_info": {
   "codemirror_mode": {
    "name": "ipython",
    "version": 3
   },
   "file_extension": ".py",
   "mimetype": "text/x-python",
   "name": "python",
   "nbconvert_exporter": "python",
   "pygments_lexer": "ipython3",
   "version": "3.11.5"
  }
 },
 "nbformat": 4,
 "nbformat_minor": 5
}
