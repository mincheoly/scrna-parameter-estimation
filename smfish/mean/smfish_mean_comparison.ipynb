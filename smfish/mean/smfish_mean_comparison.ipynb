{
 "cells": [
  {
   "cell_type": "markdown",
   "id": "fd0d7176-3f10-4286-907e-0b211e87d812",
   "metadata": {},
   "source": [
    "# Comparing outcomes of mean simulations"
   ]
  },
  {
   "cell_type": "code",
   "execution_count": 17,
   "id": "92a7daf4-8220-4812-af89-d6e747b17f49",
   "metadata": {
    "tags": []
   },
   "outputs": [],
   "source": [
    "import pandas as pd\n",
    "import matplotlib.pyplot as plt\n",
    "import scanpy as sc\n",
    "import scipy as sp\n",
    "import scipy.sparse as sparse\n",
    "import itertools\n",
    "import numpy as np\n",
    "import scipy.stats as stats\n",
    "from scipy.special import kl_div\n",
    "from scipy.integrate import dblquad\n",
    "import seaborn as sns\n",
    "from statsmodels.stats.multitest import fdrcorrection\n",
    "import imp\n",
    "pd.options.display.max_rows = 999\n",
    "pd.set_option('display.max_colwidth', 100)\n",
    "import pickle as pkl\n",
    "import time"
   ]
  },
  {
   "cell_type": "code",
   "execution_count": 18,
   "id": "781a5d76-2b1c-4aa1-aea6-0bed45c4b8bc",
   "metadata": {
    "tags": []
   },
   "outputs": [],
   "source": [
    "import matplotlib as mpl\n",
    "mpl.rcParams['pdf.fonttype'] = 42\n",
    "mpl.rcParams['ps.fonttype'] = 42\n",
    "\n",
    "import matplotlib.pylab as pylab\n",
    "params = {'legend.fontsize': 'small',\n",
    "         'axes.labelsize': 'medium',\n",
    "         'axes.titlesize':'medium',\n",
    "         'figure.titlesize':'medium',\n",
    "         'xtick.labelsize':'medium',\n",
    "         'ytick.labelsize':'medium'}\n",
    "pylab.rcParams.update(params)\n"
   ]
  },
  {
   "cell_type": "code",
   "execution_count": 19,
   "id": "98f99368-095d-4812-b7e7-780c489af360",
   "metadata": {
    "tags": []
   },
   "outputs": [],
   "source": [
    "import sys\n",
    "sys.path.append('/home/ubuntu/Github/memento/')\n",
    "import memento\n",
    "import memento.auxillary.simulate as simulate"
   ]
  },
  {
   "cell_type": "code",
   "execution_count": 20,
   "id": "a2ddbccc-53a3-48cc-bb1e-b748b9bf8252",
   "metadata": {
    "tags": []
   },
   "outputs": [],
   "source": [
    "data_path = '/home/ubuntu/Data/'"
   ]
  },
  {
   "cell_type": "code",
   "execution_count": 21,
   "id": "86537a41-99fb-4ae4-ac7c-ebd2b322a583",
   "metadata": {
    "tags": []
   },
   "outputs": [
    {
     "name": "stdout",
     "output_type": "stream",
     "text": [
      "The autoreload extension is already loaded. To reload it, use:\n",
      "  %reload_ext autoreload\n"
     ]
    }
   ],
   "source": [
    "%load_ext autoreload"
   ]
  },
  {
   "cell_type": "code",
   "execution_count": 22,
   "id": "6f15c62c-93d7-4abd-9856-bef3e91dae8d",
   "metadata": {
    "tags": []
   },
   "outputs": [],
   "source": [
    "%autoreload 2"
   ]
  },
  {
   "cell_type": "markdown",
   "id": "0b23636a-73e9-4e74-aa0e-48445315da3a",
   "metadata": {},
   "source": [
    "### Read fish estimates"
   ]
  },
  {
   "cell_type": "code",
   "execution_count": 88,
   "id": "7de1dddb-2a68-48e1-ae1b-9ab0e86e69f3",
   "metadata": {
    "tags": []
   },
   "outputs": [],
   "source": [
    "smfish_estimates = np.load(data_path + 'smfish/smfish_estimates.npz')"
   ]
  },
  {
   "cell_type": "code",
   "execution_count": 89,
   "id": "68d11dbc-aa5e-4ac2-aad6-6d19f7b4b14a",
   "metadata": {
    "tags": []
   },
   "outputs": [],
   "source": [
    "smfish_genes = list(smfish_estimates['mean_genes'])\n",
    "smfish_mean = smfish_estimates['mean']"
   ]
  },
  {
   "cell_type": "code",
   "execution_count": 90,
   "id": "5544bcca-75f2-4faf-8285-f0847fa670e5",
   "metadata": {
    "tags": []
   },
   "outputs": [],
   "source": [
    "dropseq_genes = sc.read_h5ad(data_path + 'smfish/filtered_dropseq.h5ad').var.index.tolist()\n",
    "smfish_gene_idxs = [dropseq_genes.index(smg) for smg in smfish_genes]\n",
    "gapdh_idx = dropseq_genes.index('GAPDH')"
   ]
  },
  {
   "cell_type": "markdown",
   "id": "6c64d601-5d17-4212-b71c-07c141165dba",
   "metadata": {},
   "source": [
    "### Plotting"
   ]
  },
  {
   "cell_type": "code",
   "execution_count": 91,
   "id": "49458ab7-c68a-41cf-a2ae-42e54c361aff",
   "metadata": {
    "tags": []
   },
   "outputs": [],
   "source": [
    "def concordance(x, y, log=True):\n",
    "    \n",
    "    if log:\n",
    "        a = np.log(x)\n",
    "        b = np.log(y)\n",
    "    else:\n",
    "        a = x\n",
    "        b = y\n",
    "    cond = np.isfinite(a) & np.isfinite(b)\n",
    "    a = a[cond]\n",
    "    b = b[cond]\n",
    "    \n",
    "    return stats.pearsonr(a, b)[0]\n",
    "    cmat = np.cov(a, b)\n",
    "    return 2*cmat[0,1]/(cmat[0,0] + cmat[1,1] + (a.mean()-b.mean())**2)"
   ]
  },
  {
   "cell_type": "code",
   "execution_count": 92,
   "id": "734f02fc-8dc8-45fb-90d0-68e4fd957648",
   "metadata": {
    "tags": []
   },
   "outputs": [],
   "source": [
    "means = np.load(data_path + 'smfish/mean/subsample_means.npz')['means']\n",
    "meta = pd.read_csv(data_path + 'smfish/mean/subsample_metadata.csv')\n",
    "results = meta.copy()"
   ]
  },
  {
   "cell_type": "code",
   "execution_count": 93,
   "id": "97a58ab6-8ca0-46ac-aebd-c160e7c2ab66",
   "metadata": {
    "tags": []
   },
   "outputs": [],
   "source": [
    "# scale so that GAPDH has expr 1, to follow convention\n",
    "means = means/means[:, gapdh_idx].reshape(-1,1)\n"
   ]
  },
  {
   "cell_type": "code",
   "execution_count": 95,
   "id": "228037b4-7242-4b88-a1b4-ad3e316e7879",
   "metadata": {
    "tags": []
   },
   "outputs": [
    {
     "name": "stderr",
     "output_type": "stream",
     "text": [
      "/tmp/ipykernel_1598091/4272044800.py:5: RuntimeWarning: divide by zero encountered in log\n",
      "  b = np.log(y)\n"
     ]
    }
   ],
   "source": [
    "correlations = []\n",
    "for i in range(means.shape[0]):\n",
    "    \n",
    "    c = concordance(smfish_mean, means[i][smfish_gene_idxs])\n",
    "    correlations.append(c)\n",
    "results['correlation'] = correlations"
   ]
  },
  {
   "cell_type": "code",
   "execution_count": 96,
   "id": "89f62193-8ee9-4b10-abf0-6697dd5a8913",
   "metadata": {
    "tags": []
   },
   "outputs": [],
   "source": [
    "def plot_curve(x, y, data, ax, marker, color, markersize, linestyle='-'):\n",
    "    \n",
    "    agg_data = data.groupby(x)[y].agg(['mean', 'std'])\n",
    "    x_data = agg_data.index\n",
    "    y_data = agg_data['mean'].values\n",
    "    y_err = agg_data['std']/np.sqrt(results['trial'].max())\n",
    "    \n",
    "    ax.plot(np.arange(x_data.shape[0]), y_data, marker=marker, color=color, markersize=markersize, linestyle=linestyle)\n",
    "    ax.fill_between(np.arange(x_data.shape[0]), y_data-y_err, y_data+y_err, alpha=0.2, color=color)\n",
    "    ax.set_xticks(np.arange(x_data.shape[0]), x_data)"
   ]
  },
  {
   "cell_type": "code",
   "execution_count": 97,
   "id": "eda7c681-00ea-46f7-a5e3-b9fdcd291ab6",
   "metadata": {
    "tags": []
   },
   "outputs": [
    {
     "data": {
      "text/plain": [
       "Text(0, 0.5, 'correlation')"
      ]
     },
     "execution_count": 97,
     "metadata": {},
     "output_type": "execute_result"
    },
    {
     "data": {
      "image/png": "[encoded data removed]",
      "text/plain": [
       "<Figure size 210x200 with 1 Axes>"
      ]
     },
     "metadata": {},
     "output_type": "display_data"
    }
   ],
   "source": [
    "fig, ax = plt.subplots(figsize=(2.1,2))\n",
    "\n",
    "\n",
    "plot_curve('num_cell', 'correlation', \n",
    "           data=results\\\n",
    "            .query('method == \"hypergeometric\"'),\n",
    "           ax=ax, \n",
    "           color='turquoise',\n",
    "           marker='o', \n",
    "           markersize=7)\n",
    "\n",
    "plot_curve('num_cell', 'correlation', \n",
    "           data=results\\\n",
    "            .query('method == \"naive\"'),\n",
    "           ax=ax, \n",
    "           color='gray', \n",
    "           marker=6, \n",
    "           markersize=7)\n",
    "\n",
    "\n",
    "plt.xlabel('Overall capture efficiency')\n",
    "plt.ylabel('correlation')"
   ]
  },
  {
   "cell_type": "code",
   "execution_count": null,
   "id": "a782c074-0fe2-46ab-b2bb-23c689f986e3",
   "metadata": {},
   "outputs": [],
   "source": []
  }
 ],
 "metadata": {
  "kernelspec": {
   "display_name": "mementocxg",
   "language": "python",
   "name": "myenv"
  },
  "language_info": {
   "codemirror_mode": {
    "name": "ipython",
    "version": 3
   },
   "file_extension": ".py",
   "mimetype": "text/x-python",
   "name": "python",
   "nbconvert_exporter": "python",
   "pygments_lexer": "ipython3",
   "version": "3.11.5"
  }
 },
 "nbformat": 4,
 "nbformat_minor": 5
}
