{
 "cells": [
  {
   "cell_type": "markdown",
   "id": "fd0d7176-3f10-4286-907e-0b211e87d812",
   "metadata": {},
   "source": [
    "# Comparing outcomes of mean simulations"
   ]
  },
  {
   "cell_type": "code",
   "execution_count": 1,
   "id": "92a7daf4-8220-4812-af89-d6e747b17f49",
   "metadata": {
    "tags": []
   },
   "outputs": [
    {
     "name": "stderr",
     "output_type": "stream",
     "text": [
      "/tmp/ipykernel_9381/1976549207.py:13: DeprecationWarning: the imp module is deprecated in favour of importlib and slated for removal in Python 3.12; see the module's documentation for alternative uses\n",
      "  import imp\n"
     ]
    }
   ],
   "source": [
    "import pandas as pd\n",
    "import matplotlib.pyplot as plt\n",
    "import scanpy as sc\n",
    "import scipy as sp\n",
    "import scipy.sparse as sparse\n",
    "import itertools\n",
    "import numpy as np\n",
    "import scipy.stats as stats\n",
    "from scipy.special import kl_div\n",
    "from scipy.integrate import dblquad\n",
    "import seaborn as sns\n",
    "from statsmodels.stats.multitest import fdrcorrection\n",
    "import imp\n",
    "pd.options.display.max_rows = 999\n",
    "pd.set_option('display.max_colwidth', 100)\n",
    "import pickle as pkl\n",
    "import time"
   ]
  },
  {
   "cell_type": "code",
   "execution_count": 2,
   "id": "781a5d76-2b1c-4aa1-aea6-0bed45c4b8bc",
   "metadata": {
    "tags": []
   },
   "outputs": [],
   "source": [
    "import matplotlib as mpl\n",
    "mpl.rcParams['pdf.fonttype'] = 42\n",
    "mpl.rcParams['ps.fonttype'] = 42\n",
    "\n",
    "import matplotlib.pylab as pylab\n",
    "params = {'legend.fontsize': 'small',\n",
    "         'axes.labelsize': 'medium',\n",
    "         'axes.titlesize':'medium',\n",
    "         'figure.titlesize':'medium',\n",
    "         'xtick.labelsize':'medium',\n",
    "         'ytick.labelsize':'medium'}\n",
    "pylab.rcParams.update(params)\n"
   ]
  },
  {
   "cell_type": "code",
   "execution_count": 3,
   "id": "98f99368-095d-4812-b7e7-780c489af360",
   "metadata": {
    "tags": []
   },
   "outputs": [],
   "source": [
    "import sys\n",
    "sys.path.append('/home/ubuntu/Github/memento/')\n",
    "import memento\n",
    "import memento.auxillary.simulate as simulate"
   ]
  },
  {
   "cell_type": "code",
   "execution_count": 4,
   "id": "a2ddbccc-53a3-48cc-bb1e-b748b9bf8252",
   "metadata": {
    "tags": []
   },
   "outputs": [],
   "source": [
    "data_path = '/home/ubuntu/Data/'"
   ]
  },
  {
   "cell_type": "code",
   "execution_count": 5,
   "id": "86537a41-99fb-4ae4-ac7c-ebd2b322a583",
   "metadata": {
    "tags": []
   },
   "outputs": [],
   "source": [
    "%load_ext autoreload"
   ]
  },
  {
   "cell_type": "code",
   "execution_count": 6,
   "id": "6f15c62c-93d7-4abd-9856-bef3e91dae8d",
   "metadata": {
    "tags": []
   },
   "outputs": [],
   "source": [
    "%autoreload 2"
   ]
  },
  {
   "cell_type": "markdown",
   "id": "0b23636a-73e9-4e74-aa0e-48445315da3a",
   "metadata": {
    "tags": []
   },
   "source": [
    "### Read fish estimates"
   ]
  },
  {
   "cell_type": "code",
   "execution_count": 22,
   "id": "7de1dddb-2a68-48e1-ae1b-9ab0e86e69f3",
   "metadata": {
    "tags": []
   },
   "outputs": [],
   "source": [
    "smfish_estimates = np.load(data_path + 'smfish/smfish_estimates.npz')"
   ]
  },
  {
   "cell_type": "code",
   "execution_count": 23,
   "id": "68d11dbc-aa5e-4ac2-aad6-6d19f7b4b14a",
   "metadata": {
    "tags": []
   },
   "outputs": [],
   "source": [
    "smfish_genes = list(smfish_estimates['mean_genes'])\n",
    "smfish_mean = smfish_estimates['mean']"
   ]
  },
  {
   "cell_type": "code",
   "execution_count": 24,
   "id": "5544bcca-75f2-4faf-8285-f0847fa670e5",
   "metadata": {
    "tags": []
   },
   "outputs": [],
   "source": [
    "dropseq_genes = sc.read_h5ad(data_path + 'smfish/filtered_dropseq.h5ad').var.index.tolist()\n",
    "smfish_gene_idxs = [dropseq_genes.index(smg) for smg in smfish_genes]\n",
    "gapdh_idx = dropseq_genes.index('GAPDH')"
   ]
  },
  {
   "cell_type": "code",
   "execution_count": 25,
   "id": "6a4c1550-eb3d-4c03-bba8-7ce7315e417d",
   "metadata": {
    "tags": []
   },
   "outputs": [
    {
     "data": {
      "text/plain": [
       "21"
      ]
     },
     "execution_count": 25,
     "metadata": {},
     "output_type": "execute_result"
    }
   ],
   "source": [
    "len(smfish_genes)"
   ]
  },
  {
   "cell_type": "markdown",
   "id": "6c64d601-5d17-4212-b71c-07c141165dba",
   "metadata": {},
   "source": [
    "### Plotting"
   ]
  },
  {
   "cell_type": "code",
   "execution_count": 26,
   "id": "49458ab7-c68a-41cf-a2ae-42e54c361aff",
   "metadata": {
    "tags": []
   },
   "outputs": [],
   "source": [
    "def concordance(x, y, log=True):\n",
    "    \n",
    "    if log:\n",
    "        a = np.log(x)\n",
    "        b = np.log(y)\n",
    "    else:\n",
    "        a = x\n",
    "        b = y\n",
    "    cond = np.isfinite(a) & np.isfinite(b)\n",
    "    a = a[cond]\n",
    "    b = b[cond]\n",
    "    \n",
    "    return cond.sum(), stats.pearsonr(a, b)[0]\n",
    "    cmat = np.cov(a, b)\n",
    "    return cond.sum(), 2*cmat[0,1]/(cmat[0,0] + cmat[1,1] + (a.mean()-b.mean())**2)"
   ]
  },
  {
   "cell_type": "code",
   "execution_count": 27,
   "id": "2b9d723d-0c33-441b-99b1-82c2936a056c",
   "metadata": {
    "tags": []
   },
   "outputs": [],
   "source": [
    "def plot_curve(x, y, data, ax, marker, color, markersize, linestyle='-', label=''):\n",
    "    \n",
    "    agg_data = data.groupby(x)[y].agg(['mean', 'std', 'count'])\n",
    "    x_data = agg_data.index\n",
    "    y_data = agg_data['mean'].values\n",
    "    y_err = agg_data['std']/np.sqrt(agg_data['count'])\n",
    "    \n",
    "    ax.plot(np.arange(x_data.shape[0]), y_data, marker=marker, color=color, markersize=markersize, linestyle=linestyle, label=label)\n",
    "    ax.fill_between(np.arange(x_data.shape[0]), y_data-y_err, y_data+y_err, alpha=0.2, color=color)\n",
    "    ax.set_xticks(np.arange(x_data.shape[0]), x_data)"
   ]
  },
  {
   "cell_type": "code",
   "execution_count": 13,
   "id": "c0d6ae68-3f5f-472c-9d5f-4b9700fca8aa",
   "metadata": {
    "tags": []
   },
   "outputs": [],
   "source": [
    "# Convenient to run this here\n",
    "!source activate mementocxg ; python /home/ubuntu/Github/scrna-parameter-estimation/smfish/mean/smfish_mean_estimation.py"
   ]
  },
  {
   "cell_type": "code",
   "execution_count": 28,
   "id": "734f02fc-8dc8-45fb-90d0-68e4fd957648",
   "metadata": {
    "tags": []
   },
   "outputs": [
    {
     "name": "stderr",
     "output_type": "stream",
     "text": [
      "/tmp/ipykernel_9381/3914353887.py:5: RuntimeWarning: divide by zero encountered in log\n",
      "  b = np.log(y)\n"
     ]
    }
   ],
   "source": [
    "\n",
    "means = np.load(data_path + 'smfish/mean/sample_means.npz')['means']\n",
    "meta = pd.read_csv(data_path + 'smfish/mean/sample_metadata.csv')\n",
    "results = meta.copy()\n",
    "\n",
    "# scale so that GAPDH has expr 1, to follow convention\n",
    "means = means/means[:, gapdh_idx].reshape(-1,1)\n",
    "\n",
    "correlations = []\n",
    "counts = []\n",
    "for i in range(means.shape[0]):\n",
    "    \n",
    "    valid_count, c = concordance(smfish_mean, means[i][smfish_gene_idxs])\n",
    "    correlations.append(c)\n",
    "    counts.append(valid_count)\n",
    "results['correlation'] = correlations\n",
    "results['valid_count'] = counts\n",
    "\n",
    "# plt.savefig('mean_fish.pdf', bbox_inches='tight')"
   ]
  },
  {
   "cell_type": "code",
   "execution_count": 29,
   "id": "1dd2f44c-5cf5-4be2-9b1f-84ce0bc77b5e",
   "metadata": {
    "tags": []
   },
   "outputs": [],
   "source": [
    "# sns.kdeplot(results.query('method == \"hypergeometric\" & num_cell == 10').correlation)\n",
    "# sns.kdeplot(results.query('method == \"hypergeometric\" & num_cell == 3000').correlation)\n"
   ]
  },
  {
   "cell_type": "code",
   "execution_count": 30,
   "id": "f38e4f49-12c8-4dfe-87ba-594896617fd7",
   "metadata": {
    "tags": []
   },
   "outputs": [
    {
     "data": {
      "text/plain": [
       "num_cell  method        \n",
       "10        hypergeometric    0.569059\n",
       "          naive             0.549781\n",
       "20        hypergeometric    0.576116\n",
       "          naive             0.552799\n",
       "30        hypergeometric    0.594919\n",
       "          naive             0.580366\n",
       "50        hypergeometric    0.608118\n",
       "          naive             0.590593\n",
       "100       hypergeometric    0.614997\n",
       "          naive             0.601412\n",
       "5000      hypergeometric    0.651003\n",
       "          naive             0.650253\n",
       "8000      hypergeometric    0.652863\n",
       "          naive             0.651724\n",
       "Name: correlation, dtype: float64"
      ]
     },
     "execution_count": 30,
     "metadata": {},
     "output_type": "execute_result"
    }
   ],
   "source": [
    "results.groupby(['num_cell', 'method'])['correlation'].mean()"
   ]
  },
  {
   "cell_type": "code",
   "execution_count": 31,
   "id": "438e5776-ea0e-4143-8ef1-6cecb24e2063",
   "metadata": {
    "tags": []
   },
   "outputs": [
    {
     "data": {
      "image/png": "[encoded data removed]",
      "text/plain": [
       "<Figure size 250x200 with 1 Axes>"
      ]
     },
     "metadata": {},
     "output_type": "display_data"
    }
   ],
   "source": [
    "valid_results = results#.query('valid_count > 10')\n",
    "fig, ax = plt.subplots(figsize=(2.5,2))\n",
    "\n",
    "\n",
    "plot_curve('num_cell', 'correlation', \n",
    "           data=valid_results\\\n",
    "            .query('method == \"hypergeometric\"'),\n",
    "           ax=ax, \n",
    "           color='turquoise',\n",
    "           marker='o', \n",
    "           markersize=7)\n",
    "\n",
    "plot_curve('num_cell', 'correlation', \n",
    "           data=valid_results\\\n",
    "            .query('method == \"naive\"'),\n",
    "           ax=ax, \n",
    "           color='gray', \n",
    "           marker=',', \n",
    "           markersize=7,\n",
    "           linestyle='--')\n",
    "\n",
    "plot_curve('num_cell', 'correlation', \n",
    "           data=valid_results\\\n",
    "            .query('method == \"naive\"'),\n",
    "           ax=ax, \n",
    "           color='gray', \n",
    "           marker=',', \n",
    "           markersize=7,\n",
    "           linestyle='--')"
   ]
  },
  {
   "cell_type": "code",
   "execution_count": null,
   "id": "7376a61b-46a9-4206-a86e-574e34b3df49",
   "metadata": {},
   "outputs": [],
   "source": [
    "DATA_PATH = '/home/ubuntu/Data/'\n"
   ]
  },
  {
   "cell_type": "code",
   "execution_count": null,
   "id": "044d949b-3365-4e79-9a05-6ad4cbcc34a5",
   "metadata": {},
   "outputs": [],
   "source": [
    "    dropseq_adata = sc.read_h5ad(DATA_PATH + 'smfish/filtered_dropseq.h5ad')\n"
   ]
  },
  {
   "cell_type": "code",
   "execution_count": 256,
   "id": "a043c4c4-d5c0-4b40-b1d7-07a3a3f8e096",
   "metadata": {
    "tags": []
   },
   "outputs": [],
   "source": [
    "ncounts = dropseq_adata.X.sum(axis=1).A1\n",
    "dropseq_adata = dropseq_adata[(ncount > 600) & (ncount < 10000)]"
   ]
  },
  {
   "cell_type": "code",
   "execution_count": 257,
   "id": "32d6f1fa-707b-4d29-b1be-c1eb80cecabc",
   "metadata": {
    "tags": []
   },
   "outputs": [
    {
     "data": {
      "text/plain": [
       "0.9637561779242174"
      ]
     },
     "execution_count": 257,
     "metadata": {},
     "output_type": "execute_result"
    }
   ],
   "source": [
    "(ncounts>700).mean()"
   ]
  },
  {
   "cell_type": "code",
   "execution_count": 258,
   "id": "11e634e4-bd23-4597-913d-868c16f05d84",
   "metadata": {
    "tags": []
   },
   "outputs": [
    {
     "data": {
      "text/plain": [
       "[<matplotlib.lines.Line2D at 0x7f8b55588490>]"
      ]
     },
     "execution_count": 258,
     "metadata": {},
     "output_type": "execute_result"
    },
    {
     "data": {
      "image/png": "[encoded data removed]",
      "text/plain": [
       "<Figure size 640x480 with 1 Axes>"
      ]
     },
     "metadata": {},
     "output_type": "display_data"
    }
   ],
   "source": [
    "sns.kdeplot(ncounts)\n",
    "plt.plot([500, 500], [0, 0.0005])"
   ]
  },
  {
   "cell_type": "code",
   "execution_count": null,
   "id": "83b6b768-ecf3-4797-949a-47cef83b453a",
   "metadata": {},
   "outputs": [],
   "source": []
  }
 ],
 "metadata": {
  "kernelspec": {
   "display_name": "mementocxg",
   "language": "python",
   "name": "myenv"
  },
  "language_info": {
   "codemirror_mode": {
    "name": "ipython",
    "version": 3
   },
   "file_extension": ".py",
   "mimetype": "text/x-python",
   "name": "python",
   "nbconvert_exporter": "python",
   "pygments_lexer": "ipython3",
   "version": "3.11.5"
  }
 },
 "nbformat": 4,
 "nbformat_minor": 5
}
