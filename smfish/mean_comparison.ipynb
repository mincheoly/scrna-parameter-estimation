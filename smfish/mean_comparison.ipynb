{
 "cells": [
  {
   "cell_type": "markdown",
   "id": "1badb948",
   "metadata": {},
   "source": [
    "# Mean comparisons using the FISH data\n",
    "\n",
    "Data: https://drive.google.com/drive/folders/1uos3DDymyrh3ZyxveDhqQIcOyD1brxeL"
   ]
  },
  {
   "cell_type": "code",
   "execution_count": 117,
   "id": "d75b34b3",
   "metadata": {
    "tags": []
   },
   "outputs": [],
   "source": [
    "import pandas as pd\n",
    "import scanpy as sc\n",
    "import seaborn as sns\n",
    "import scanpy as sc\n",
    "import scipy.sparse as sparse\n",
    "import numpy as np\n",
    "import matplotlib.pyplot as plt\n",
    "import scipy.stats as stats\n",
    "import scipy.optimize as opt\n",
    "import itertools"
   ]
  },
  {
   "cell_type": "code",
   "execution_count": 118,
   "id": "ea704b55-4ccf-4e3b-ac89-bb7932026ec4",
   "metadata": {
    "tags": []
   },
   "outputs": [],
   "source": [
    "plt.rcParams[\"axes.prop_cycle\"] = plt.cycler(\"color\", ['turquoise', 'slategrey', 'silver', 'lightsteelblue'])\n"
   ]
  },
  {
   "cell_type": "code",
   "execution_count": 119,
   "id": "73ad1cf4-b962-4c01-9c38-fada664ce64c",
   "metadata": {
    "tags": []
   },
   "outputs": [],
   "source": [
    "data_path = '/home/ubuntu/Data/saver/'"
   ]
  },
  {
   "cell_type": "markdown",
   "id": "b15eefac-09bc-4e62-a0aa-64357c4cd5d5",
   "metadata": {},
   "source": [
    "### Read Dropseq data"
   ]
  },
  {
   "cell_type": "code",
   "execution_count": 120,
   "id": "edef8cd6-5311-49fe-ab5c-1ad6c3b29c2b",
   "metadata": {
    "tags": []
   },
   "outputs": [
    {
     "name": "stderr",
     "output_type": "stream",
     "text": [
      "/home/ubuntu/anaconda3/envs/mementocxg/lib/python3.11/site-packages/anndata/__init__.py:51: FutureWarning: `anndata.read` is deprecated, use `anndata.read_h5ad` instead. `ad.read` will be removed in mid 2024.\n",
      "  warnings.warn(\n"
     ]
    },
    {
     "name": "stdout",
     "output_type": "stream",
     "text": [
      "(8498, 32287)\n",
      "(8498, 32287)\n"
     ]
    }
   ],
   "source": [
    "dropseq_adata = sc.read(data_path + 'full_dropseq.h5ad')\n",
    "# sc.pp.subsample(dropseq_adata, n_obs=1000)\n",
    "print(dropseq_adata.shape)\n",
    "# Filter cells without GAPDH\n",
    "# dropseq_adata = dropseq_adata[dropseq_adata[:, 'GAPDH'].X.todense().A1 > 0].copy()\n",
    "dropseq_adata = dropseq_adata[dropseq_adata.X.sum(axis=1).A1 > 0].copy()\n",
    "\n",
    "print(dropseq_adata.shape)\n",
    "dropseq_adata.obs['n_counts'] = dropseq_adata.X.sum(axis=1).A1\n",
    "dropseq_adata.obs['n_genes'] = (dropseq_adata.X > 0).sum(axis=1).A1\n",
    "\n"
   ]
  },
  {
   "cell_type": "markdown",
   "id": "a125e24b-dd9a-40d9-92ff-c294e484cf3e",
   "metadata": {},
   "source": [
    "### Read smFISH data"
   ]
  },
  {
   "cell_type": "code",
   "execution_count": 279,
   "id": "bad4704a-8542-40a7-89c3-011439073743",
   "metadata": {
    "tags": []
   },
   "outputs": [],
   "source": [
    "z_means = dropseq_adata.X.mean(axis=0).A1"
   ]
  },
  {
   "cell_type": "code",
   "execution_count": 280,
   "id": "a53cc8cf-7700-4ac7-9cda-b7a14000b606",
   "metadata": {
    "tags": []
   },
   "outputs": [],
   "source": [
    "dropseq_genes = dropseq_adata.var.index[z_means > 0.005].tolist()"
   ]
  },
  {
   "cell_type": "code",
   "execution_count": 281,
   "id": "e69cdbab-a534-424c-8831-1b2d0c127172",
   "metadata": {
    "tags": []
   },
   "outputs": [],
   "source": [
    "smfish = pd.read_csv(data_path + 'fishSubset.txt', index_col=0, sep=' ')\n",
    "overlap_genes = list(set(dropseq_genes) & set(smfish.columns))"
   ]
  },
  {
   "cell_type": "code",
   "execution_count": 282,
   "id": "327a5fbf-b0ff-40ec-a8c5-3b00b1980b88",
   "metadata": {
    "tags": []
   },
   "outputs": [
    {
     "data": {
      "text/plain": [
       "17"
      ]
     },
     "execution_count": 282,
     "metadata": {},
     "output_type": "execute_result"
    }
   ],
   "source": [
    "len(overlap_genes)"
   ]
  },
  {
   "cell_type": "markdown",
   "id": "99b2a128-c8da-4e34-9879-31f5d5dd1126",
   "metadata": {},
   "source": [
    "### Recreate mean agreement from Torre et al"
   ]
  },
  {
   "cell_type": "code",
   "execution_count": 283,
   "id": "b18e748b-d775-48d6-b4c8-61e84023392f",
   "metadata": {
    "tags": []
   },
   "outputs": [],
   "source": [
    "# filtered_fish = smfish.query('GAPDH > 0')\n",
    "\n",
    "mean_fish = (filtered_fish[overlap_genes]/(filtered_fish['GAPDH']).values.reshape(-1,1)).mean(axis=0)*400"
   ]
  },
  {
   "cell_type": "code",
   "execution_count": 284,
   "id": "1aec6b05-a3ef-460d-a690-796dcbfb9772",
   "metadata": {
    "tags": []
   },
   "outputs": [],
   "source": [
    "def bincount2d(arr, bins=None):\n",
    "    if bins is None:\n",
    "        bins = np.max(arr) + 1\n",
    "    count = np.zeros(shape=[len(arr), bins], dtype=np.int64)\n",
    "    indexing = (np.ones_like(arr).T * np.arange(len(arr))).T\n",
    "    np.add.at(count, (indexing, arr), 1)\n",
    "\n",
    "    return count\n",
    "\n",
    "def bincount2d_sparse(sparse_arr, bins=None):\n",
    "\n",
    "    bins = np.round(sparse_arr.max()).astype(int) + 1\n",
    "    num_cells, num_genes = sparse_arr.shape\n",
    "    count = sparse.lil_matrix((num_cells, bins))\n",
    "    for cell in range(num_cells):\n",
    "        cell_counts = np.bincount(np.round(sparse_arr[cell].data).astype(int))\n",
    "        cell_counts[0] = num_genes - sparse_arr[cell].nnz\n",
    "        count[cell, np.arange(cell_counts.shape[0])] = cell_counts\n",
    "    return count"
   ]
  },
  {
   "cell_type": "code",
   "execution_count": 285,
   "id": "c78a1d35-656f-4c92-b565-5963c5ed5af0",
   "metadata": {
    "tags": []
   },
   "outputs": [],
   "source": [
    "filtered_adata = dropseq_adata#[dropseq_adata[:, 'GAPDH'].X.todense() > 0]\n"
   ]
  },
  {
   "cell_type": "code",
   "execution_count": 286,
   "id": "fe072e90-c74b-4892-803d-67bab5453e21",
   "metadata": {
    "tags": []
   },
   "outputs": [],
   "source": [
    "data = filtered_adata.X.copy()"
   ]
  },
  {
   "cell_type": "code",
   "execution_count": 287,
   "id": "76ef43df-3117-4e34-931d-d6e6a0601eeb",
   "metadata": {
    "tags": []
   },
   "outputs": [],
   "source": [
    "freqs = bincount2d_sparse(data)\n",
    "expected_freqs = freqs.mean(axis=0).A1\n",
    "mask = (data.data < 10).astype(bool)\n",
    "data.data[mask] = data.data[mask]*expected_freqs[(data.data[mask]+1).astype(int)]/expected_freqs[data.data[mask].astype(int)]"
   ]
  },
  {
   "cell_type": "code",
   "execution_count": 288,
   "id": "26c33ea7-ad69-4645-a71a-ea6c79e42556",
   "metadata": {
    "tags": []
   },
   "outputs": [],
   "source": [
    "pseudobulk = (filtered_adata.X.sum(axis=0).A1+1)\n",
    "avg_zero_gene_counts = np.mean([pseudobulk[data[cell].nonzero()[1]].sum() for cell in range(data.shape[0])])"
   ]
  },
  {
   "cell_type": "code",
   "execution_count": 289,
   "id": "293668bf-9e02-467b-8b0d-0e6723cd8072",
   "metadata": {
    "tags": []
   },
   "outputs": [],
   "source": [
    "# arr = np.round(filtered_adata.X.toarray()).astype(int)\n",
    "# smooth_arr = arr.copy().astype(np.float64)\n",
    "\n",
    "# smooth_mask = (arr < 10)\n",
    "# smooth_arr[smooth_mask] = (arr[smooth_mask]+1)*expected_freqs[arr[smooth_mask]+1] / expected_freqs[arr[smooth_mask]]\n",
    "\n",
    "\n",
    "\n",
    "# smooth_mask = (arr == 0)\n",
    "# pb = (filtered_adata.X.sum(axis=0).A1+1)\n",
    "# denom = np.array([10127713.090762554 for i in range(smooth_mask.shape[0])])\n",
    "# alpha=0.9\n",
    "# smooth_arr[smooth_mask] = expected_freqs[1]*(alpha*(pb[np.where(smooth_mask)[1]]/10127713.090762554) + ((1-alpha)/expected_freqs[0]))\n",
    "# smooth_mean = (smooth_arr/filtered_adata.X.sum(axis=1)).mean(axis=0).A1\n",
    "# smooth_mean_dropseq = pd.Series(smooth_mean, index=filtered_adata.var.index)\n",
    "# smooth_mean_dropseq *= 400/smooth_mean_dropseq['GAPDH']\n",
    "# smooth_mean_dropseq = smooth_mean_dropseq[overlap_genes]"
   ]
  },
  {
   "cell_type": "code",
   "execution_count": 290,
   "id": "33b6eac5-92e5-4d60-a1c3-69531c2434a9",
   "metadata": {
    "tags": []
   },
   "outputs": [],
   "source": [
    "# def _mean_only_shrink(data, n_obs, q, size_factor=None):\n",
    "#     \"\"\"\n",
    "#         Hypergeometric mean estimator based on Good's estimator.\n",
    "#     \"\"\"\n",
    "\n",
    "#     if type(data) == tuple:\n",
    "#         pass\n",
    "#     else:\n",
    "        \n",
    "    \n"
   ]
  },
  {
   "cell_type": "code",
   "execution_count": 291,
   "id": "858ec7fc-ef6f-46be-828c-59f3904703d2",
   "metadata": {
    "tags": []
   },
   "outputs": [],
   "source": [
    "import copy"
   ]
  },
  {
   "cell_type": "code",
   "execution_count": 292,
   "id": "1ffba9f7-4d8d-41d3-ba0d-d9cef63b5497",
   "metadata": {
    "tags": []
   },
   "outputs": [],
   "source": [
    "filtered_adata = dropseq_adata#[dropseq_adata[:, 'GAPDH'].X.todense() > 0]\n",
    "\n",
    "# Normalmean\n",
    "mean_dropseq = pd.Series(\n",
    "    (filtered_adata[:, overlap_genes].X/filtered_adata.X.sum(axis=1)).mean(axis=0).A1,\n",
    "    index=overlap_genes)\n",
    "mean_dropseq *= 400/mean_dropseq['GAPDH']\n",
    "\n",
    "# Pseudobulk \"mean\"\n",
    "pb_mean_dropseq = pd.Series(\n",
    "    filtered_adata[:, overlap_genes].X.sum(axis=0).A1/filtered_adata.X.sum(),\n",
    "    index=overlap_genes)\n",
    "pb_mean_dropseq *= 400/pb_mean_dropseq['GAPDH']\n",
    "\n",
    "# Filtering low coverage cells\n",
    "temp =  filtered_adata[(filtered_adata.obs['n_counts']>1000), :]\n",
    "large_cell_mean_dropseq = pd.Series(\n",
    "   (temp[:,overlap_genes].X/temp.X.sum(axis=1)).mean(axis=0).A1,\n",
    "    index=overlap_genes)\n",
    "large_cell_mean_dropseq *= 400/large_cell_mean_dropseq['GAPDH']\n",
    "large_cell_mean_dropseq = large_cell_mean_dropseq[large_cell_mean_dropseq >0]\n",
    "\n",
    "# Shrinkage towards pseudobulk means\n",
    "# alpha = 0.5\n",
    "# shrinked_mean_dropseq = alpha*pb_mean_dropseq + (1-alpha)*mean_dropseq\n",
    "# shrinked_mean_dropseq *= 400/shrinked_mean_dropseq['GAPDH']\n",
    "\n",
    "# # pop\n",
    "arr = np.round(filtered_adata.X.toarray()).astype(int)\n",
    "smooth_arr = arr.copy().astype(np.float64)\n",
    "freqs = bincount2d(arr)\n",
    "expected_freqs = freqs.mean(axis=0)\n",
    "\n",
    "smooth_mask = (arr < 10)\n",
    "smooth_arr[smooth_mask] = (arr[smooth_mask]+1)*expected_freqs[arr[smooth_mask]+1] / expected_freqs[arr[smooth_mask]]\n",
    "smooth_mask = (arr == 0)\n",
    "pb = (filtered_adata.X.sum(axis=0).A1+1)\n",
    "denom = np.array([10127713.090762554 for i in range(smooth_mask.shape[0])])\n",
    "alpha=0.9\n",
    "smooth_arr[smooth_mask] = expected_freqs[1]*(alpha*(pb[np.where(smooth_mask)[1]]/10127713.090762554) + ((1-alpha)/expected_freqs[0]))\n",
    "smooth_mean = (smooth_arr/filtered_adata.X.sum(axis=1)).mean(axis=0).A1\n",
    "smooth_mean_dropseq = pd.Series(smooth_mean, index=filtered_adata.var.index)\n",
    "smooth_mean_dropseq *= 400/smooth_mean_dropseq['GAPDH']\n",
    "smooth_mean_dropseq = smooth_mean_dropseq[overlap_genes]\n",
    "\n",
    "# pb level Good estimator\n",
    "captured_data = filtered_adata.X\n",
    "pb = captured_data.sum(axis=0).A1.astype(int)\n",
    "\n",
    "pb_freqs = pd.Series(pb).value_counts().sort_index()\n",
    "\n",
    "r = pb_freqs.index.values\n",
    "nr = pb_freqs.values\n",
    "\n",
    "z = pd.Series(pb_freqs.index).rolling(window=3, center=True).apply(lambda x: x.iloc[-1]-x.iloc[0]).values\n",
    "z[0] = 2\n",
    "z[-1] = z[-2]\n",
    "z = 2*nr/z\n",
    "\n",
    "r_star = (r+1)*np.concatenate([z[1:], z[-1:]])/z\n",
    "\n",
    "\n"
   ]
  },
  {
   "cell_type": "code",
   "execution_count": 293,
   "id": "6c75556d-5156-4e2a-9b42-8739185f0587",
   "metadata": {
    "tags": []
   },
   "outputs": [],
   "source": [
    "pb_star = pb.copy().astype(float)\n",
    "for r_val in r[r < 10]:#r[(r > 0) & (r < 50)]:\n",
    "    \n",
    "    pb_star[pb == r_val] = r_star[np.where(r==r_val)[0]][0]"
   ]
  },
  {
   "cell_type": "code",
   "execution_count": 294,
   "id": "39f22961-524f-4470-beed-2fcf011bf4de",
   "metadata": {
    "tags": []
   },
   "outputs": [],
   "source": [
    "good_m = pb_star/pb.sum()\n",
    "\n",
    "good_mean_dropseq = pd.Series(good_m, index=filtered_adata.var.index)\n",
    "good_mean_dropseq *= 400/good_mean_dropseq['GAPDH']\n",
    "good_mean_dropseq = good_mean_dropseq[overlap_genes]"
   ]
  },
  {
   "cell_type": "code",
   "execution_count": 295,
   "id": "74e11006-7096-4ad5-ba9a-9e84bfb68383",
   "metadata": {
    "tags": []
   },
   "outputs": [
    {
     "name": "stdout",
     "output_type": "stream",
     "text": [
      "sample mean PearsonRResult(statistic=0.532700527306649, pvalue=0.027695543981998475)\n",
      "pb PearsonRResult(statistic=0.5298306048992905, pvalue=0.02870592424407839)\n",
      "large cell PearsonRResult(statistic=0.5360296979230607, pvalue=0.026558090334194605)\n",
      "smooth mean PearsonRResult(statistic=0.5301849092315196, pvalue=0.028579675379999604)\n",
      "good mean PearsonRResult(statistic=0.5294539619653513, pvalue=0.02884060351529764)\n"
     ]
    }
   ],
   "source": [
    "print('sample mean',stats.pearsonr(np.log10(mean_fish[large_cell_mean_dropseq.index]), np.log10(mean_dropseq[large_cell_mean_dropseq.index])))\n",
    "print('pb', stats.pearsonr(np.log10(mean_fish[large_cell_mean_dropseq.index]), np.log10(pb_mean_dropseq[large_cell_mean_dropseq.index])))\n",
    "print('large cell', stats.pearsonr(np.log10(mean_fish[large_cell_mean_dropseq.index]), np.log10(large_cell_mean_dropseq)))\n",
    "# print('shrinked mean',stats.pearsonr(np.log10(mean_fish[large_cell_mean_dropseq.index]), np.log10(shrinked_mean_dropseq[large_cell_mean_dropseq.index])))\n",
    "print('smooth mean',stats.pearsonr(np.log10(mean_fish[large_cell_mean_dropseq.index]), np.log10(smooth_mean_dropseq[large_cell_mean_dropseq.index])))\n",
    "print('good mean',stats.pearsonr(np.log10(mean_fish[large_cell_mean_dropseq.index]), np.log10(good_mean_dropseq[large_cell_mean_dropseq.index])))\n"
   ]
  },
  {
   "cell_type": "code",
   "execution_count": 296,
   "id": "f0481a4f-0e87-4cc4-ade4-5d166eda1db9",
   "metadata": {
    "tags": []
   },
   "outputs": [
    {
     "name": "stdout",
     "output_type": "stream",
     "text": [
      "sample mean SignificanceResult(statistic=0.5588235294117647, pvalue=0.01970856591580171)\n",
      "pb SignificanceResult(statistic=0.5588235294117647, pvalue=0.01970856591580171)\n",
      "large cell SignificanceResult(statistic=0.5588235294117647, pvalue=0.01970856591580171)\n",
      "smooth mean SignificanceResult(statistic=0.5588235294117647, pvalue=0.01970856591580171)\n",
      "good mean SignificanceResult(statistic=0.5588235294117647, pvalue=0.01970856591580171)\n"
     ]
    }
   ],
   "source": [
    "print('sample mean',stats.spearmanr(np.log10(mean_fish[large_cell_mean_dropseq.index]), np.log10(mean_dropseq[large_cell_mean_dropseq.index])))\n",
    "print('pb', stats.spearmanr(np.log10(mean_fish[large_cell_mean_dropseq.index]), np.log10(pb_mean_dropseq[large_cell_mean_dropseq.index])))\n",
    "print('large cell', stats.spearmanr(np.log10(mean_fish[large_cell_mean_dropseq.index]), np.log10(large_cell_mean_dropseq)))\n",
    "# print('shrinked mean',stats.pearsonr(np.log10(mean_fish[large_cell_mean_dropseq.index]), np.log10(shrinked_mean_dropseq[large_cell_mean_dropseq.index])))\n",
    "print('smooth mean',stats.spearmanr(np.log10(mean_fish[large_cell_mean_dropseq.index]), np.log10(smooth_mean_dropseq[large_cell_mean_dropseq.index])))\n",
    "print('good mean',stats.spearmanr(np.log10(mean_fish[large_cell_mean_dropseq.index]), np.log10(good_mean_dropseq[large_cell_mean_dropseq.index])))\n"
   ]
  },
  {
   "cell_type": "code",
   "execution_count": 297,
   "id": "c2c3d1fd-685e-4b5a-a4f5-4373f4c7c116",
   "metadata": {
    "tags": []
   },
   "outputs": [],
   "source": [
    "observed_mean = dropseq_adata[:, overlap_genes].X.mean(axis=0).A1"
   ]
  },
  {
   "cell_type": "code",
   "execution_count": 298,
   "id": "99a36c95-e37f-4528-96a0-4adb7a8ed4a4",
   "metadata": {
    "tags": []
   },
   "outputs": [
    {
     "data": {
      "text/plain": [
       "array([5.95434220e-02, 2.02400565e-02, 5.96728642e-01, 1.01718051e+00,\n",
       "       1.44739939e+00, 1.04730525e-01, 3.61261473e-02, 7.16639209e-02,\n",
       "       1.36502707e-02, 7.55471876e-02, 2.63591433e-01, 5.17768887e-03,\n",
       "       1.54036244e-01, 7.86290892e+00, 3.19251589e-01, 1.90750765e-01,\n",
       "       9.41397976e-03])"
      ]
     },
     "execution_count": 298,
     "metadata": {},
     "output_type": "execute_result"
    }
   ],
   "source": [
    "observed_mean"
   ]
  },
  {
   "cell_type": "code",
   "execution_count": 299,
   "id": "6ef0725f-d472-4498-9e2f-92cf586dc870",
   "metadata": {
    "tags": []
   },
   "outputs": [
    {
     "data": {
      "text/plain": [
       "[<matplotlib.lines.Line2D at 0x7fa927784c90>]"
      ]
     },
     "execution_count": 299,
     "metadata": {},
     "output_type": "execute_result"
    },
    {
     "data": {
      "image/png": "[encoded data removed]",
      "text/plain": [
       "<Figure size 640x480 with 1 Axes>"
      ]
     },
     "metadata": {},
     "output_type": "display_data"
    }
   ],
   "source": [
    "fig, ax = plt.subplots()\n",
    "\n",
    "gene_filter = observed_mean > 0.005\n",
    "\n",
    "ax.scatter(mean_fish[gene_filter], mean_dropseq[gene_filter], color='r')\n",
    "ax.scatter(mean_fish[gene_filter], pb_mean_dropseq[gene_filter], color='g')\n",
    "ax.scatter(mean_fish[gene_filter], smooth_mean_dropseq[gene_filter], color='b')\n",
    "ax.scatter(mean_fish[gene_filter], good_mean_dropseq[gene_filter], color='k')\n",
    "\n",
    "\n",
    "ax.set_xscale('log')\n",
    "ax.set_yscale('log')\n",
    "\n",
    "lims = [\n",
    "    np.min([ax.get_xlim(), ax.get_ylim()]),  # min of both axes\n",
    "    np.max([ax.get_xlim(), ax.get_ylim()]),  # max of both axes\n",
    "]\n",
    "\n",
    "# now plot both limits against eachother\n",
    "ax.plot(lims, lims, 'k-', alpha=0.75, zorder=0)"
   ]
  },
  {
   "cell_type": "code",
   "execution_count": null,
   "id": "273c10ce-7a8a-4058-8538-35802628b0c7",
   "metadata": {},
   "outputs": [],
   "source": []
  },
  {
   "cell_type": "code",
   "execution_count": 194,
   "id": "628060f8-8a26-46cc-901d-bf8e61754654",
   "metadata": {
    "tags": []
   },
   "outputs": [],
   "source": [
    "x = dropseq_adata[:, 'AXL'].X.toarray().reshape(-1)"
   ]
  },
  {
   "cell_type": "code",
   "execution_count": 195,
   "id": "cca0ab92-02c3-4473-bcd3-8379c023336b",
   "metadata": {
    "tags": []
   },
   "outputs": [
    {
     "data": {
      "text/plain": [
       "array([1., 1.])"
      ]
     },
     "execution_count": 195,
     "metadata": {},
     "output_type": "execute_result"
    }
   ],
   "source": [
    "x[ x > 0]"
   ]
  },
  {
   "cell_type": "code",
   "execution_count": 196,
   "id": "123e0e63-65cd-4328-a5c1-12fde84e6f38",
   "metadata": {
    "tags": []
   },
   "outputs": [
    {
     "data": {
      "text/plain": [
       "(array([8.496e+03, 0.000e+00, 0.000e+00, 0.000e+00, 0.000e+00, 0.000e+00,\n",
       "        0.000e+00, 0.000e+00, 0.000e+00, 2.000e+00]),\n",
       " array([0. , 0.1, 0.2, 0.3, 0.4, 0.5, 0.6, 0.7, 0.8, 0.9, 1. ]),\n",
       " <BarContainer object of 10 artists>)"
      ]
     },
     "execution_count": 196,
     "metadata": {},
     "output_type": "execute_result"
    },
    {
     "data": {
      "image/png": "[encoded data removed]",
      "text/plain": [
       "<Figure size 640x480 with 1 Axes>"
      ]
     },
     "metadata": {},
     "output_type": "display_data"
    }
   ],
   "source": [
    "plt.hist(dropseq_adata[:, 'AXL'].X.toarray().reshape(-1))\n"
   ]
  },
  {
   "cell_type": "code",
   "execution_count": 181,
   "id": "79836559-2951-49ae-b259-7395814d793b",
   "metadata": {
    "tags": []
   },
   "outputs": [
    {
     "data": {
      "text/plain": [
       "SERPINE1      0.026866\n",
       "VEGFC         0.027979\n",
       "AXL           0.028040\n",
       "PDGFRB        0.037031\n",
       "NGFR          0.037968\n",
       "LOXL2         0.078336\n",
       "WNT5A         0.082140\n",
       "NRG1          0.101628\n",
       "PDGFC         0.149821\n",
       "EGFR          0.314844\n",
       "JUN           0.390560\n",
       "C1S           0.649765\n",
       "RUNX2         0.792655\n",
       "FGFR1         1.626001\n",
       "FOSL1         2.989434\n",
       "BABAM1        3.298394\n",
       "CCNA2         3.990976\n",
       "VCL           4.262069\n",
       "KDM5B         6.443487\n",
       "SOX10         9.039734\n",
       "KDM5A        11.959837\n",
       "TXNRD1       14.945017\n",
       "LMNA         25.144209\n",
       "MITF         51.702299\n",
       "VGF          61.889047\n",
       "GAPDH       400.000000\n",
       "dtype: float64"
      ]
     },
     "execution_count": 181,
     "metadata": {},
     "output_type": "execute_result"
    }
   ],
   "source": [
    "mean_dropseq.sort_values()"
   ]
  },
  {
   "cell_type": "code",
   "execution_count": null,
   "id": "4c813085-7f37-4bd0-aacd-ab216a3f09a4",
   "metadata": {},
   "outputs": [],
   "source": []
  },
  {
   "cell_type": "code",
   "execution_count": 29,
   "id": "06f060e4-100b-4f18-833d-2c09229850e2",
   "metadata": {
    "tags": []
   },
   "outputs": [
    {
     "data": {
      "text/plain": [
       "(26,)"
      ]
     },
     "execution_count": 29,
     "metadata": {},
     "output_type": "execute_result"
    }
   ],
   "source": [
    "mean_fish.shape"
   ]
  },
  {
   "cell_type": "code",
   "execution_count": 141,
   "id": "2eae78da-e16f-4791-84fe-aa4d125609ff",
   "metadata": {
    "tags": []
   },
   "outputs": [
    {
     "data": {
      "image/png": "[encoded data removed]",
      "text/plain": [
       "<Figure size 250x220 with 1 Axes>"
      ]
     },
     "metadata": {},
     "output_type": "display_data"
    }
   ],
   "source": [
    "plt.figure(figsize=(2.5,2.2))\n",
    "# plt.scatter(mean_fish, mean_dropseq)\n",
    "# plt.scatter(mean_fish, pb_mean_dropseq)\n",
    "plt.scatter(np.log10(smooth_mean_dropseq), np.log10(mean_fish))\n",
    "plt.scatter(np.log10(mean_dropseq), np.log10(mean_fish))\n",
    "\n",
    "\n",
    "plt.plot([-2, 4], [-2, 4])\n",
    "\n",
    "# corr = stats.pearsonr(np.log10(mean_fish), np.log10(mean_dropseq))\n",
    "# plt.yscale('log')\n",
    "# plt.xscale('log')\n",
    "# plt.xlabel('smFISH mean'); plt.ylabel('Dropseq mean');\n",
    "plt.savefig('mean_fish.pdf', bbox_inches='tight')\n",
    "# plt.title(f'R = {corr[0]:0.2f}, P = {corr[1]:0.4f}');"
   ]
  },
  {
   "cell_type": "code",
   "execution_count": null,
   "id": "e4ada4cf-3838-408c-80c1-aac2b0ce2279",
   "metadata": {},
   "outputs": [],
   "source": []
  },
  {
   "cell_type": "code",
   "execution_count": null,
   "id": "fb88f616-86bf-40c3-96b1-7f0515099c27",
   "metadata": {},
   "outputs": [],
   "source": []
  },
  {
   "cell_type": "code",
   "execution_count": null,
   "id": "5c801f31-8a27-4d8a-9720-05e2cefc3243",
   "metadata": {},
   "outputs": [],
   "source": []
  },
  {
   "cell_type": "code",
   "execution_count": null,
   "id": "cc775f71-bd89-449f-8be7-244aa9c454ad",
   "metadata": {},
   "outputs": [],
   "source": []
  },
  {
   "cell_type": "code",
   "execution_count": null,
   "id": "39ebad29-3b3f-4729-8de6-551affd4e722",
   "metadata": {},
   "outputs": [],
   "source": []
  },
  {
   "cell_type": "code",
   "execution_count": null,
   "id": "6dcfbe19-bc80-48a9-8fec-1429a0ece52e",
   "metadata": {},
   "outputs": [],
   "source": []
  },
  {
   "cell_type": "code",
   "execution_count": 11,
   "id": "ea173a79-41f9-4429-9d82-97651abd68f5",
   "metadata": {},
   "outputs": [
    {
     "data": {
      "image/png": "[encoded data removed]",
      "text/plain": [
       "<Figure size 300x300 with 1 Axes>"
      ]
     },
     "metadata": {},
     "output_type": "display_data"
    }
   ],
   "source": [
    "plt.figure(figsize=(3,3))\n",
    "# plt.scatter(mean_fish, mean_dropseq)\n",
    "plt.scatter(mean_fish, mean_dropseq)\n",
    "plt.scatter(mean_fish, smooth_mean_dropseq)\n",
    "\n",
    "plt.plot([0.05, 400], [0.05, 400])\n",
    "\n",
    "# corr = stats.pearsonr(np.log10(mean_fish), np.log10(mean_dropseq))\n",
    "plt.yscale('log')\n",
    "plt.xscale('log')\n",
    "plt.xlabel('smFISH mean'); plt.ylabel('Dropseq mean');\n",
    "# plt.title(f'R = {corr[0]:0.2f}, P = {corr[1]:0.4f}');"
   ]
  },
  {
   "cell_type": "code",
   "execution_count": null,
   "id": "72c0167e-e64a-4e0d-b40a-b639e79cd0ec",
   "metadata": {},
   "outputs": [],
   "source": [
    "np.bincount(np.round(filtered_adata[:, 'FOSL1'].X.todense().A1).astype(int))"
   ]
  },
  {
   "cell_type": "code",
   "execution_count": null,
   "id": "b3f52a82-b294-4147-928f-c7e4c982ab56",
   "metadata": {},
   "outputs": [],
   "source": [
    "smooth_mean_dropseq"
   ]
  },
  {
   "cell_type": "code",
   "execution_count": null,
   "id": "43944df3-168b-45f7-b3c1-cbac6b12ccbb",
   "metadata": {},
   "outputs": [],
   "source": [
    "pb_mean_dropseq"
   ]
  },
  {
   "cell_type": "code",
   "execution_count": null,
   "id": "d3fb7d5c-433e-40d2-aeb0-158a6168d50d",
   "metadata": {},
   "outputs": [],
   "source": [
    "mean_fish"
   ]
  },
  {
   "cell_type": "code",
   "execution_count": null,
   "id": "6871bbbb-31ac-4de9-97a4-5506bf005c90",
   "metadata": {},
   "outputs": [],
   "source": [
    "plt.figure(figsize=(3,3))\n",
    "plt.scatter(mean_fish, smooth_mean_dropseq)\n",
    "corr = stats.pearsonr(np.log10(mean_fish), np.log10(smooth_mean_dropseq))\n",
    "plt.yscale('log')\n",
    "plt.xscale('log')\n",
    "plt.xlabel('smFISH mean'); plt.ylabel('Dropseq mean');\n",
    "plt.title(f'R = {corr[0]:0.2f}, P = {corr[1]:0.4f}');"
   ]
  },
  {
   "cell_type": "code",
   "execution_count": null,
   "id": "fb8388d4-0bbf-42fa-ab85-d181cc12d3e1",
   "metadata": {},
   "outputs": [],
   "source": []
  },
  {
   "cell_type": "code",
   "execution_count": null,
   "id": "03377713-3f9e-4944-9f22-bedeabba2975",
   "metadata": {},
   "outputs": [],
   "source": []
  },
  {
   "cell_type": "code",
   "execution_count": null,
   "id": "ea34fb08-19e8-4f02-af6a-76dba3b712db",
   "metadata": {},
   "outputs": [],
   "source": []
  },
  {
   "cell_type": "code",
   "execution_count": null,
   "id": "d33d7d7a-4641-4848-9008-f20525b65033",
   "metadata": {},
   "outputs": [],
   "source": []
  },
  {
   "cell_type": "code",
   "execution_count": null,
   "id": "1cfafbcd-87a1-4a7a-95ae-e6061afb710e",
   "metadata": {},
   "outputs": [],
   "source": []
  },
  {
   "cell_type": "code",
   "execution_count": null,
   "id": "39ff7307-5f3d-4527-b1da-8bed510e2ab3",
   "metadata": {},
   "outputs": [],
   "source": []
  },
  {
   "cell_type": "code",
   "execution_count": 110,
   "id": "bd7af634-6d83-4aab-88f2-361df97388f8",
   "metadata": {},
   "outputs": [
    {
     "ename": "ValueError",
     "evalue": "x and y must have length at least 2.",
     "output_type": "error",
     "traceback": [
      "\u001b[0;31m---------------------------------------------------------------------------\u001b[0m",
      "\u001b[0;31mValueError\u001b[0m                                Traceback (most recent call last)",
      "\u001b[0;32m/tmp/ipykernel_1683699/3660436156.py\u001b[0m in \u001b[0;36m?\u001b[0;34m()\u001b[0m\n\u001b[1;32m      1\u001b[0m \u001b[0mplt\u001b[0m\u001b[0;34m.\u001b[0m\u001b[0mfigure\u001b[0m\u001b[0;34m(\u001b[0m\u001b[0mfigsize\u001b[0m\u001b[0;34m=\u001b[0m\u001b[0;34m(\u001b[0m\u001b[0;36m3\u001b[0m\u001b[0;34m,\u001b[0m\u001b[0;36m3\u001b[0m\u001b[0;34m)\u001b[0m\u001b[0;34m)\u001b[0m\u001b[0;34m\u001b[0m\u001b[0;34m\u001b[0m\u001b[0m\n\u001b[1;32m      2\u001b[0m \u001b[0mplt\u001b[0m\u001b[0;34m.\u001b[0m\u001b[0mscatter\u001b[0m\u001b[0;34m(\u001b[0m\u001b[0mmean_fish\u001b[0m\u001b[0;34m[\u001b[0m\u001b[0mgene_filter_mean_dropseq\u001b[0m\u001b[0;34m.\u001b[0m\u001b[0mindex\u001b[0m\u001b[0;34m]\u001b[0m\u001b[0;34m,\u001b[0m \u001b[0mgene_filter_mean_dropseq\u001b[0m\u001b[0;34m)\u001b[0m\u001b[0;34m\u001b[0m\u001b[0;34m\u001b[0m\u001b[0m\n\u001b[0;32m----> 3\u001b[0;31m \u001b[0mcorr\u001b[0m \u001b[0;34m=\u001b[0m \u001b[0mstats\u001b[0m\u001b[0;34m.\u001b[0m\u001b[0mpearsonr\u001b[0m\u001b[0;34m(\u001b[0m\u001b[0mnp\u001b[0m\u001b[0;34m.\u001b[0m\u001b[0mlog10\u001b[0m\u001b[0;34m(\u001b[0m\u001b[0mmean_fish\u001b[0m\u001b[0;34m[\u001b[0m\u001b[0mgene_filter_mean_dropseq\u001b[0m\u001b[0;34m.\u001b[0m\u001b[0mindex\u001b[0m\u001b[0;34m]\u001b[0m\u001b[0;34m)\u001b[0m\u001b[0;34m,\u001b[0m \u001b[0mnp\u001b[0m\u001b[0;34m.\u001b[0m\u001b[0mlog10\u001b[0m\u001b[0;34m(\u001b[0m\u001b[0mgene_filter_mean_dropseq\u001b[0m\u001b[0;34m)\u001b[0m\u001b[0;34m)\u001b[0m\u001b[0;34m\u001b[0m\u001b[0;34m\u001b[0m\u001b[0m\n\u001b[0m\u001b[1;32m      4\u001b[0m \u001b[0mplt\u001b[0m\u001b[0;34m.\u001b[0m\u001b[0myscale\u001b[0m\u001b[0;34m(\u001b[0m\u001b[0;34m'log'\u001b[0m\u001b[0;34m)\u001b[0m\u001b[0;34m\u001b[0m\u001b[0;34m\u001b[0m\u001b[0m\n\u001b[1;32m      5\u001b[0m \u001b[0mplt\u001b[0m\u001b[0;34m.\u001b[0m\u001b[0mxscale\u001b[0m\u001b[0;34m(\u001b[0m\u001b[0;34m'log'\u001b[0m\u001b[0;34m)\u001b[0m\u001b[0;34m\u001b[0m\u001b[0;34m\u001b[0m\u001b[0m\n\u001b[1;32m      6\u001b[0m \u001b[0mplt\u001b[0m\u001b[0;34m.\u001b[0m\u001b[0mxlabel\u001b[0m\u001b[0;34m(\u001b[0m\u001b[0;34m'smFISH mean'\u001b[0m\u001b[0;34m)\u001b[0m\u001b[0;34m;\u001b[0m \u001b[0mplt\u001b[0m\u001b[0;34m.\u001b[0m\u001b[0mylabel\u001b[0m\u001b[0;34m(\u001b[0m\u001b[0;34m'Dropseq mean'\u001b[0m\u001b[0;34m)\u001b[0m\u001b[0;34m;\u001b[0m\u001b[0;34m\u001b[0m\u001b[0;34m\u001b[0m\u001b[0m\n",
      "\u001b[0;32m~/miniconda3/envs/single_cell/lib/python3.10/site-packages/scipy/stats/_stats_py.py\u001b[0m in \u001b[0;36m?\u001b[0;34m(x, y, alternative, method)\u001b[0m\n\u001b[1;32m   4764\u001b[0m     \u001b[0;32mif\u001b[0m \u001b[0mn\u001b[0m \u001b[0;34m!=\u001b[0m \u001b[0mlen\u001b[0m\u001b[0;34m(\u001b[0m\u001b[0my\u001b[0m\u001b[0;34m)\u001b[0m\u001b[0;34m:\u001b[0m\u001b[0;34m\u001b[0m\u001b[0;34m\u001b[0m\u001b[0m\n\u001b[1;32m   4765\u001b[0m         \u001b[0;32mraise\u001b[0m \u001b[0mValueError\u001b[0m\u001b[0;34m(\u001b[0m\u001b[0;34m'x and y must have the same length.'\u001b[0m\u001b[0;34m)\u001b[0m\u001b[0;34m\u001b[0m\u001b[0;34m\u001b[0m\u001b[0m\n\u001b[1;32m   4766\u001b[0m \u001b[0;34m\u001b[0m\u001b[0m\n\u001b[1;32m   4767\u001b[0m     \u001b[0;32mif\u001b[0m \u001b[0mn\u001b[0m \u001b[0;34m<\u001b[0m \u001b[0;36m2\u001b[0m\u001b[0;34m:\u001b[0m\u001b[0;34m\u001b[0m\u001b[0;34m\u001b[0m\u001b[0m\n\u001b[0;32m-> 4768\u001b[0;31m         \u001b[0;32mraise\u001b[0m \u001b[0mValueError\u001b[0m\u001b[0;34m(\u001b[0m\u001b[0;34m'x and y must have length at least 2.'\u001b[0m\u001b[0;34m)\u001b[0m\u001b[0;34m\u001b[0m\u001b[0;34m\u001b[0m\u001b[0m\n\u001b[0m\u001b[1;32m   4769\u001b[0m \u001b[0;34m\u001b[0m\u001b[0m\n\u001b[1;32m   4770\u001b[0m     \u001b[0mx\u001b[0m \u001b[0;34m=\u001b[0m \u001b[0mnp\u001b[0m\u001b[0;34m.\u001b[0m\u001b[0masarray\u001b[0m\u001b[0;34m(\u001b[0m\u001b[0mx\u001b[0m\u001b[0;34m)\u001b[0m\u001b[0;34m\u001b[0m\u001b[0;34m\u001b[0m\u001b[0m\n\u001b[1;32m   4771\u001b[0m     \u001b[0my\u001b[0m \u001b[0;34m=\u001b[0m \u001b[0mnp\u001b[0m\u001b[0;34m.\u001b[0m\u001b[0masarray\u001b[0m\u001b[0;34m(\u001b[0m\u001b[0my\u001b[0m\u001b[0;34m)\u001b[0m\u001b[0;34m\u001b[0m\u001b[0;34m\u001b[0m\u001b[0m\n",
      "\u001b[0;31mValueError\u001b[0m: x and y must have length at least 2."
     ]
    },
    {
     "data": {
      "image/png": "[encoded data removed]",
      "text/plain": [
       "<Figure size 300x300 with 1 Axes>"
      ]
     },
     "metadata": {},
     "output_type": "display_data"
    }
   ],
   "source": [
    "plt.figure(figsize=(3,3))\n",
    "plt.scatter(mean_fish[gene_filter_mean_dropseq.index], gene_filter_mean_dropseq)\n",
    "corr = stats.pearsonr(np.log10(mean_fish[gene_filter_mean_dropseq.index]), np.log10(gene_filter_mean_dropseq))\n",
    "plt.yscale('log')\n",
    "plt.xscale('log')\n",
    "plt.xlabel('smFISH mean'); plt.ylabel('Dropseq mean');\n",
    "plt.title(f'R = {corr[0]:0.2f}, P = {corr[1]:0.4f}');"
   ]
  },
  {
   "cell_type": "code",
   "execution_count": 11,
   "id": "b3b46266-89f4-46af-bd7e-47dc38d5fe41",
   "metadata": {},
   "outputs": [
    {
     "data": {
      "image/png": "[encoded data removed]",
      "text/plain": [
       "<Figure size 300x300 with 1 Axes>"
      ]
     },
     "metadata": {},
     "output_type": "display_data"
    }
   ],
   "source": [
    "plt.figure(figsize=(3,3))\n",
    "plt.scatter(mean_fish[large_cell_mean_dropseq.index], large_cell_mean_dropseq)\n",
    "corr = stats.pearsonr(np.log10(mean_fish[large_cell_mean_dropseq.index]), np.log10(large_cell_mean_dropseq))\n",
    "plt.yscale('log')\n",
    "plt.xscale('log')\n",
    "plt.xlabel('smFISH mean'); plt.ylabel('Dropseq mean');\n",
    "plt.title(f'R = {corr[0]:0.2f}, P = {corr[1]:0.4f}');"
   ]
  },
  {
   "cell_type": "code",
   "execution_count": 95,
   "id": "a2aee8a0-5905-4a87-8dad-f4ab15eade4b",
   "metadata": {},
   "outputs": [
    {
     "ename": "ValueError",
     "evalue": "x and y must be the same size",
     "output_type": "error",
     "traceback": [
      "\u001b[0;31m---------------------------------------------------------------------------\u001b[0m",
      "\u001b[0;31mValueError\u001b[0m                                Traceback (most recent call last)",
      "Cell \u001b[0;32mIn[95], line 2\u001b[0m\n\u001b[1;32m      1\u001b[0m plt\u001b[38;5;241m.\u001b[39mfigure(figsize\u001b[38;5;241m=\u001b[39m(\u001b[38;5;241m3\u001b[39m,\u001b[38;5;241m3\u001b[39m))\n\u001b[0;32m----> 2\u001b[0m \u001b[43mplt\u001b[49m\u001b[38;5;241;43m.\u001b[39;49m\u001b[43mscatter\u001b[49m\u001b[43m(\u001b[49m\u001b[43mmean_fish\u001b[49m\u001b[43m,\u001b[49m\u001b[43m \u001b[49m\u001b[43mlarge_cell_mean_dropseq\u001b[49m\u001b[43m)\u001b[49m\n\u001b[1;32m      3\u001b[0m corr \u001b[38;5;241m=\u001b[39m stats\u001b[38;5;241m.\u001b[39mpearsonr(np\u001b[38;5;241m.\u001b[39mlog10(mean_fish), np\u001b[38;5;241m.\u001b[39mlog10(mean_dropseq))\n\u001b[1;32m      4\u001b[0m plt\u001b[38;5;241m.\u001b[39myscale(\u001b[38;5;124m'\u001b[39m\u001b[38;5;124mlog\u001b[39m\u001b[38;5;124m'\u001b[39m)\n",
      "File \u001b[0;32m~/miniconda3/envs/single_cell/lib/python3.10/site-packages/matplotlib/pyplot.py:2862\u001b[0m, in \u001b[0;36mscatter\u001b[0;34m(x, y, s, c, marker, cmap, norm, vmin, vmax, alpha, linewidths, edgecolors, plotnonfinite, data, **kwargs)\u001b[0m\n\u001b[1;32m   2857\u001b[0m \u001b[38;5;129m@_copy_docstring_and_deprecators\u001b[39m(Axes\u001b[38;5;241m.\u001b[39mscatter)\n\u001b[1;32m   2858\u001b[0m \u001b[38;5;28;01mdef\u001b[39;00m \u001b[38;5;21mscatter\u001b[39m(\n\u001b[1;32m   2859\u001b[0m         x, y, s\u001b[38;5;241m=\u001b[39m\u001b[38;5;28;01mNone\u001b[39;00m, c\u001b[38;5;241m=\u001b[39m\u001b[38;5;28;01mNone\u001b[39;00m, marker\u001b[38;5;241m=\u001b[39m\u001b[38;5;28;01mNone\u001b[39;00m, cmap\u001b[38;5;241m=\u001b[39m\u001b[38;5;28;01mNone\u001b[39;00m, norm\u001b[38;5;241m=\u001b[39m\u001b[38;5;28;01mNone\u001b[39;00m,\n\u001b[1;32m   2860\u001b[0m         vmin\u001b[38;5;241m=\u001b[39m\u001b[38;5;28;01mNone\u001b[39;00m, vmax\u001b[38;5;241m=\u001b[39m\u001b[38;5;28;01mNone\u001b[39;00m, alpha\u001b[38;5;241m=\u001b[39m\u001b[38;5;28;01mNone\u001b[39;00m, linewidths\u001b[38;5;241m=\u001b[39m\u001b[38;5;28;01mNone\u001b[39;00m, \u001b[38;5;241m*\u001b[39m,\n\u001b[1;32m   2861\u001b[0m         edgecolors\u001b[38;5;241m=\u001b[39m\u001b[38;5;28;01mNone\u001b[39;00m, plotnonfinite\u001b[38;5;241m=\u001b[39m\u001b[38;5;28;01mFalse\u001b[39;00m, data\u001b[38;5;241m=\u001b[39m\u001b[38;5;28;01mNone\u001b[39;00m, \u001b[38;5;241m*\u001b[39m\u001b[38;5;241m*\u001b[39mkwargs):\n\u001b[0;32m-> 2862\u001b[0m     __ret \u001b[38;5;241m=\u001b[39m \u001b[43mgca\u001b[49m\u001b[43m(\u001b[49m\u001b[43m)\u001b[49m\u001b[38;5;241;43m.\u001b[39;49m\u001b[43mscatter\u001b[49m\u001b[43m(\u001b[49m\n\u001b[1;32m   2863\u001b[0m \u001b[43m        \u001b[49m\u001b[43mx\u001b[49m\u001b[43m,\u001b[49m\u001b[43m \u001b[49m\u001b[43my\u001b[49m\u001b[43m,\u001b[49m\u001b[43m \u001b[49m\u001b[43ms\u001b[49m\u001b[38;5;241;43m=\u001b[39;49m\u001b[43ms\u001b[49m\u001b[43m,\u001b[49m\u001b[43m \u001b[49m\u001b[43mc\u001b[49m\u001b[38;5;241;43m=\u001b[39;49m\u001b[43mc\u001b[49m\u001b[43m,\u001b[49m\u001b[43m \u001b[49m\u001b[43mmarker\u001b[49m\u001b[38;5;241;43m=\u001b[39;49m\u001b[43mmarker\u001b[49m\u001b[43m,\u001b[49m\u001b[43m \u001b[49m\u001b[43mcmap\u001b[49m\u001b[38;5;241;43m=\u001b[39;49m\u001b[43mcmap\u001b[49m\u001b[43m,\u001b[49m\u001b[43m \u001b[49m\u001b[43mnorm\u001b[49m\u001b[38;5;241;43m=\u001b[39;49m\u001b[43mnorm\u001b[49m\u001b[43m,\u001b[49m\n\u001b[1;32m   2864\u001b[0m \u001b[43m        \u001b[49m\u001b[43mvmin\u001b[49m\u001b[38;5;241;43m=\u001b[39;49m\u001b[43mvmin\u001b[49m\u001b[43m,\u001b[49m\u001b[43m \u001b[49m\u001b[43mvmax\u001b[49m\u001b[38;5;241;43m=\u001b[39;49m\u001b[43mvmax\u001b[49m\u001b[43m,\u001b[49m\u001b[43m \u001b[49m\u001b[43malpha\u001b[49m\u001b[38;5;241;43m=\u001b[39;49m\u001b[43malpha\u001b[49m\u001b[43m,\u001b[49m\u001b[43m \u001b[49m\u001b[43mlinewidths\u001b[49m\u001b[38;5;241;43m=\u001b[39;49m\u001b[43mlinewidths\u001b[49m\u001b[43m,\u001b[49m\n\u001b[1;32m   2865\u001b[0m \u001b[43m        \u001b[49m\u001b[43medgecolors\u001b[49m\u001b[38;5;241;43m=\u001b[39;49m\u001b[43medgecolors\u001b[49m\u001b[43m,\u001b[49m\u001b[43m \u001b[49m\u001b[43mplotnonfinite\u001b[49m\u001b[38;5;241;43m=\u001b[39;49m\u001b[43mplotnonfinite\u001b[49m\u001b[43m,\u001b[49m\n\u001b[1;32m   2866\u001b[0m \u001b[43m        \u001b[49m\u001b[38;5;241;43m*\u001b[39;49m\u001b[38;5;241;43m*\u001b[39;49m\u001b[43m(\u001b[49m\u001b[43m{\u001b[49m\u001b[38;5;124;43m\"\u001b[39;49m\u001b[38;5;124;43mdata\u001b[39;49m\u001b[38;5;124;43m\"\u001b[39;49m\u001b[43m:\u001b[49m\u001b[43m \u001b[49m\u001b[43mdata\u001b[49m\u001b[43m}\u001b[49m\u001b[43m \u001b[49m\u001b[38;5;28;43;01mif\u001b[39;49;00m\u001b[43m \u001b[49m\u001b[43mdata\u001b[49m\u001b[43m \u001b[49m\u001b[38;5;129;43;01mis\u001b[39;49;00m\u001b[43m \u001b[49m\u001b[38;5;129;43;01mnot\u001b[39;49;00m\u001b[43m \u001b[49m\u001b[38;5;28;43;01mNone\u001b[39;49;00m\u001b[43m \u001b[49m\u001b[38;5;28;43;01melse\u001b[39;49;00m\u001b[43m \u001b[49m\u001b[43m{\u001b[49m\u001b[43m}\u001b[49m\u001b[43m)\u001b[49m\u001b[43m,\u001b[49m\u001b[43m \u001b[49m\u001b[38;5;241;43m*\u001b[39;49m\u001b[38;5;241;43m*\u001b[39;49m\u001b[43mkwargs\u001b[49m\u001b[43m)\u001b[49m\n\u001b[1;32m   2867\u001b[0m     sci(__ret)\n\u001b[1;32m   2868\u001b[0m     \u001b[38;5;28;01mreturn\u001b[39;00m __ret\n",
      "File \u001b[0;32m~/miniconda3/envs/single_cell/lib/python3.10/site-packages/matplotlib/__init__.py:1446\u001b[0m, in \u001b[0;36m_preprocess_data.<locals>.inner\u001b[0;34m(ax, data, *args, **kwargs)\u001b[0m\n\u001b[1;32m   1443\u001b[0m \u001b[38;5;129m@functools\u001b[39m\u001b[38;5;241m.\u001b[39mwraps(func)\n\u001b[1;32m   1444\u001b[0m \u001b[38;5;28;01mdef\u001b[39;00m \u001b[38;5;21minner\u001b[39m(ax, \u001b[38;5;241m*\u001b[39margs, data\u001b[38;5;241m=\u001b[39m\u001b[38;5;28;01mNone\u001b[39;00m, \u001b[38;5;241m*\u001b[39m\u001b[38;5;241m*\u001b[39mkwargs):\n\u001b[1;32m   1445\u001b[0m     \u001b[38;5;28;01mif\u001b[39;00m data \u001b[38;5;129;01mis\u001b[39;00m \u001b[38;5;28;01mNone\u001b[39;00m:\n\u001b[0;32m-> 1446\u001b[0m         \u001b[38;5;28;01mreturn\u001b[39;00m \u001b[43mfunc\u001b[49m\u001b[43m(\u001b[49m\u001b[43max\u001b[49m\u001b[43m,\u001b[49m\u001b[43m \u001b[49m\u001b[38;5;241;43m*\u001b[39;49m\u001b[38;5;28;43mmap\u001b[39;49m\u001b[43m(\u001b[49m\u001b[43msanitize_sequence\u001b[49m\u001b[43m,\u001b[49m\u001b[43m \u001b[49m\u001b[43margs\u001b[49m\u001b[43m)\u001b[49m\u001b[43m,\u001b[49m\u001b[43m \u001b[49m\u001b[38;5;241;43m*\u001b[39;49m\u001b[38;5;241;43m*\u001b[39;49m\u001b[43mkwargs\u001b[49m\u001b[43m)\u001b[49m\n\u001b[1;32m   1448\u001b[0m     bound \u001b[38;5;241m=\u001b[39m new_sig\u001b[38;5;241m.\u001b[39mbind(ax, \u001b[38;5;241m*\u001b[39margs, \u001b[38;5;241m*\u001b[39m\u001b[38;5;241m*\u001b[39mkwargs)\n\u001b[1;32m   1449\u001b[0m     auto_label \u001b[38;5;241m=\u001b[39m (bound\u001b[38;5;241m.\u001b[39marguments\u001b[38;5;241m.\u001b[39mget(label_namer)\n\u001b[1;32m   1450\u001b[0m                   \u001b[38;5;129;01mor\u001b[39;00m bound\u001b[38;5;241m.\u001b[39mkwargs\u001b[38;5;241m.\u001b[39mget(label_namer))\n",
      "File \u001b[0;32m~/miniconda3/envs/single_cell/lib/python3.10/site-packages/matplotlib/axes/_axes.py:4578\u001b[0m, in \u001b[0;36mAxes.scatter\u001b[0;34m(self, x, y, s, c, marker, cmap, norm, vmin, vmax, alpha, linewidths, edgecolors, plotnonfinite, **kwargs)\u001b[0m\n\u001b[1;32m   4576\u001b[0m y \u001b[38;5;241m=\u001b[39m np\u001b[38;5;241m.\u001b[39mma\u001b[38;5;241m.\u001b[39mravel(y)\n\u001b[1;32m   4577\u001b[0m \u001b[38;5;28;01mif\u001b[39;00m x\u001b[38;5;241m.\u001b[39msize \u001b[38;5;241m!=\u001b[39m y\u001b[38;5;241m.\u001b[39msize:\n\u001b[0;32m-> 4578\u001b[0m     \u001b[38;5;28;01mraise\u001b[39;00m \u001b[38;5;167;01mValueError\u001b[39;00m(\u001b[38;5;124m\"\u001b[39m\u001b[38;5;124mx and y must be the same size\u001b[39m\u001b[38;5;124m\"\u001b[39m)\n\u001b[1;32m   4580\u001b[0m \u001b[38;5;28;01mif\u001b[39;00m s \u001b[38;5;129;01mis\u001b[39;00m \u001b[38;5;28;01mNone\u001b[39;00m:\n\u001b[1;32m   4581\u001b[0m     s \u001b[38;5;241m=\u001b[39m (\u001b[38;5;241m20\u001b[39m \u001b[38;5;28;01mif\u001b[39;00m mpl\u001b[38;5;241m.\u001b[39mrcParams[\u001b[38;5;124m'\u001b[39m\u001b[38;5;124m_internal.classic_mode\u001b[39m\u001b[38;5;124m'\u001b[39m] \u001b[38;5;28;01melse\u001b[39;00m\n\u001b[1;32m   4582\u001b[0m          mpl\u001b[38;5;241m.\u001b[39mrcParams[\u001b[38;5;124m'\u001b[39m\u001b[38;5;124mlines.markersize\u001b[39m\u001b[38;5;124m'\u001b[39m] \u001b[38;5;241m*\u001b[39m\u001b[38;5;241m*\u001b[39m \u001b[38;5;241m2.0\u001b[39m)\n",
      "\u001b[0;31mValueError\u001b[0m: x and y must be the same size"
     ]
    },
    {
     "data": {
      "image/png": "[encoded data removed]",
      "text/plain": [
       "<Figure size 300x300 with 1 Axes>"
      ]
     },
     "metadata": {},
     "output_type": "display_data"
    }
   ],
   "source": [
    "plt.figure(figsize=(3,3))\n",
    "plt.scatter(mean_fish, mean_dropseq)\n",
    "corr = stats.pearsonr(np.log10(mean_fish), np.log10(mean_dropseq))\n",
    "plt.yscale('log')\n",
    "plt.xscale('log')\n",
    "plt.xlabel('smFISH mean'); plt.ylabel('Dropseq mean');\n",
    "plt.title(f'R = {corr[0]:0.2f}, P = {corr[1]:0.4f}');"
   ]
  },
  {
   "cell_type": "markdown",
   "id": "19548b3e-a496-4e20-972a-d2fa5a7700e0",
   "metadata": {},
   "source": [
    "### Cell size weighting"
   ]
  },
  {
   "cell_type": "code",
   "execution_count": 8,
   "id": "8aae12b7-78c2-43d9-8d3e-e1cb3c4f4d44",
   "metadata": {},
   "outputs": [],
   "source": [
    "filtered_adata = dropseq_adata#[dropseq_adata[:, 'GAPDH'].X.todense() > 0]\n",
    "cw_mean_dropseq = pd.Series(\n",
    "    filtered_adata[:, overlap_genes].X.sum(axis=0).A1/filtered_adata.obs['n_counts'].sum(),\n",
    "    index=overlap_genes)\n",
    "cw_mean_dropseq *= 400/cw_mean_dropseq['GAPDH']"
   ]
  },
  {
   "cell_type": "code",
   "execution_count": 9,
   "id": "c071cce7-e234-4b0e-8912-e51612023a84",
   "metadata": {},
   "outputs": [
    {
     "data": {
      "image/png": "[encoded data removed]",
      "text/plain": [
       "<Figure size 300x300 with 1 Axes>"
      ]
     },
     "metadata": {},
     "output_type": "display_data"
    }
   ],
   "source": [
    "plt.figure(figsize=(3,3))\n",
    "plt.scatter(mean_fish, cw_mean_dropseq)\n",
    "corr = stats.pearsonr(np.log10(mean_fish), np.log10(cw_mean_dropseq))\n",
    "plt.yscale('log')\n",
    "plt.xscale('log')\n",
    "plt.xlabel('smFISH mean'); plt.ylabel('Dropseq (count weight) mean');\n",
    "plt.title(f'R = {corr[0]:0.2f}, P = {corr[1]:0.4f}');"
   ]
  },
  {
   "cell_type": "markdown",
   "id": "2c2e4414-1b4e-4ad9-b86f-d9c75a7a7b73",
   "metadata": {},
   "source": [
    "### Inverse variance weighting"
   ]
  },
  {
   "cell_type": "code",
   "execution_count": 10,
   "id": "84195942-1d7f-42dd-8536-69fa771549e1",
   "metadata": {},
   "outputs": [],
   "source": [
    "p_hat = (filtered_adata[:, overlap_genes].X.todense()+1)/filtered_adata.obs[['n_counts']].values"
   ]
  },
  {
   "cell_type": "code",
   "execution_count": 11,
   "id": "f8ba7d5c-067f-4036-907d-85bc91357e99",
   "metadata": {},
   "outputs": [],
   "source": [
    "size_factor = filtered_adata.obs[['n_counts']].values"
   ]
  },
  {
   "cell_type": "code",
   "execution_count": 12,
   "id": "73f73823-51e4-43d9-beaf-adbc28d61fc2",
   "metadata": {},
   "outputs": [],
   "source": [
    "weights = 1/(np.multiply(p_hat, 1-p_hat)/ (size_factor/size_factor.mean()) )"
   ]
  },
  {
   "cell_type": "code",
   "execution_count": 13,
   "id": "ba03c4f3-962e-4886-809a-bfe49ddbf6a7",
   "metadata": {},
   "outputs": [],
   "source": [
    "iw_mean_dropseq = np.average( \n",
    "    (filtered_adata[:, overlap_genes].X.todense())/filtered_adata.obs[['n_counts']].values,\n",
    "    weights=weights,\n",
    "    axis=0).A1\n",
    "iw_mean_dropseq = pd.Series(iw_mean_dropseq, index=overlap_genes)\n",
    "iw_mean_dropseq *= 400/iw_mean_dropseq['GAPDH']"
   ]
  },
  {
   "cell_type": "code",
   "execution_count": 14,
   "id": "decc40c3-e68a-47db-9efa-5a828ecd6d0f",
   "metadata": {},
   "outputs": [
    {
     "data": {
      "image/png": "[encoded data removed]",
      "text/plain": [
       "<Figure size 300x300 with 1 Axes>"
      ]
     },
     "metadata": {},
     "output_type": "display_data"
    }
   ],
   "source": [
    "plt.figure(figsize=(3,3))\n",
    "plt.scatter(mean_fish, iw_mean_dropseq)\n",
    "corr = stats.pearsonr(np.log10(mean_fish), np.log10(iw_mean_dropseq))\n",
    "plt.yscale('log')\n",
    "plt.xscale('log')\n",
    "plt.xlabel('smFISH mean'); plt.ylabel('Dropseq (count weight) mean');\n",
    "plt.title(f'R = {corr[0]:0.2f}, P = {corr[1]:0.4f}');"
   ]
  },
  {
   "cell_type": "markdown",
   "id": "a8a6f745-13fc-40b9-a38e-6439e41fe38b",
   "metadata": {},
   "source": [
    "### Function for comparing estimators using FISH data"
   ]
  },
  {
   "cell_type": "code",
   "execution_count": 28,
   "id": "d81abcc7-be7a-4af3-813b-b162fd16ffa1",
   "metadata": {},
   "outputs": [],
   "source": [
    "def compare_estimators(smfish, fish_gapdh_sf, dropseq, dropseq_sf, overlap_genes,p=1):\n",
    "\n",
    "    q=0.02*p\n",
    "    mfish = (smfish/fish_gapdh_sf.reshape(-1,1))[overlap_genes].mean(axis=0)\n",
    "\n",
    "    # Sample mean\n",
    "    m1 = (dropseq/dropseq_sf.reshape(-1,1))[overlap_genes].mean(axis=0)\n",
    "\n",
    "    # Filtering cells\n",
    "    cells_with_many_genes = (dropseq_sf > 1500*p)\n",
    "    m2 = (dropseq/dropseq_sf.reshape(-1,1)).loc[cells_with_many_genes,overlap_genes].mean(axis=0)\n",
    "    m2 = np.maximum(m1,m2)\n",
    "\n",
    "    # Solve for optimal weights\n",
    "    X = dropseq/dropseq_sf.reshape(-1,1)\n",
    "    naive_v = X.var(axis=0)[overlap_genes]\n",
    "    v = naive_v-(1-q)*(dropseq[overlap_genes].values/(dropseq_sf**2-dropseq_sf*(1-q)).reshape(-1,1)).mean(axis=0)\n",
    "    variance_contributions = ((1-q)/dropseq_sf).reshape(-1,1)*m1.values.reshape(1,-1) + v.values.reshape(1,-1)\n",
    "    m3 = pd.Series(np.average( (dropseq/dropseq_sf.reshape(-1,1))[overlap_genes], weights=1/variance_contributions, axis=0), index=m2.index)\n",
    "    m3[m3<0] = m2[m3<0]\n",
    "    \n",
    "    return mfish, m1, m2, m3"
   ]
  },
  {
   "cell_type": "markdown",
   "id": "b64aa88e-15fb-4a58-ac00-cc600ce24d84",
   "metadata": {
    "tags": []
   },
   "source": [
    "### Using all cells"
   ]
  },
  {
   "cell_type": "code",
   "execution_count": 32,
   "id": "69346d57-32f1-4c11-a3da-3859304f642d",
   "metadata": {},
   "outputs": [
    {
     "data": {
      "text/plain": [
       "AnnData object with n_obs × n_vars = 8498 × 32287\n",
       "    obs: 'n_counts'"
      ]
     },
     "execution_count": 32,
     "metadata": {},
     "output_type": "execute_result"
    }
   ],
   "source": [
    "filtered_adata"
   ]
  },
  {
   "cell_type": "code",
   "execution_count": 33,
   "id": "60a28f24-0250-4243-b3a7-f18f3b5c9b50",
   "metadata": {},
   "outputs": [],
   "source": [
    "dropseq_pd = pd.DataFrame(filtered_adata.X.todense(), index=filtered_adata.obs.index, columns=filtered_adata.var.index)"
   ]
  },
  {
   "cell_type": "code",
   "execution_count": 38,
   "id": "771e69d5-3784-483f-9755-13ed5bed8802",
   "metadata": {},
   "outputs": [
    {
     "name": "stdout",
     "output_type": "stream",
     "text": [
      "sample mean PearsonRResult(statistic=0.4810880405432051, pvalue=0.012843673741249742)\n",
      "filtering cells PearsonRResult(statistic=0.4713124771834473, pvalue=0.015078893943004237)\n",
      "memento PearsonRResult(statistic=0.4729332350023358, pvalue=0.014687608546246535)\n"
     ]
    }
   ],
   "source": [
    "mfish, m1, m2, m3 = compare_estimators(\n",
    "    smfish, \n",
    "    (filtered_fish['GAPDH']+1).values, \n",
    "    dropseq_pd, \n",
    "    filtered_adata.X.sum(axis=1).A1, \n",
    "    overlap_genes,p=1)\n",
    "viz_mfish = mfish*400\n",
    "viz_m1 = (400/m1['GAPDH'])*m1\n",
    "viz_m2 = (400/m1['GAPDH'])*m2\n",
    "viz_m3 = (400/m3['GAPDH'])*m3\n",
    "print('sample mean', stats.pearsonr(\n",
    "    np.log(viz_mfish),\n",
    "    np.log(viz_m1)))\n",
    "print('filtering cells', stats.pearsonr(\n",
    "    np.log(viz_mfish),\n",
    "    np.log(viz_m2)))\n",
    "print('memento', stats.pearsonr(\n",
    "    np.log(viz_mfish),\n",
    "    np.log(viz_m3)))"
   ]
  },
  {
   "cell_type": "code",
   "execution_count": 35,
   "id": "c9b3a7c5-8fbc-4afe-829b-cd3e7d937b26",
   "metadata": {},
   "outputs": [
    {
     "data": {
      "image/png": "[encoded data removed]",
      "text/plain": [
       "<Figure size 300x300 with 1 Axes>"
      ]
     },
     "metadata": {},
     "output_type": "display_data"
    }
   ],
   "source": [
    "plt.figure(figsize=(3,3))\n",
    "plt.scatter(viz_mfish, viz_m1)\n",
    "plt.scatter(viz_mfish, viz_m3)\n",
    "\n",
    "plt.plot([viz_mfish.min(), viz_mfish.max()], [viz_mfish.min(), viz_mfish.max()], '--')\n",
    "plt.xscale('log')\n",
    "plt.yscale('log')\n",
    "plt.xlabel('normalized mean (FISH)');plt.ylabel('normalized mean (Dropseq)');"
   ]
  },
  {
   "cell_type": "markdown",
   "id": "8e4bd797-631b-414b-a2d1-cdbf8327bc7a",
   "metadata": {},
   "source": [
    "### Only using 50 cells"
   ]
  },
  {
   "cell_type": "code",
   "execution_count": 235,
   "id": "0f410f95-df65-4b78-8be1-2e1451bd71ee",
   "metadata": {},
   "outputs": [],
   "source": [
    "%%capture --no-stdout\n",
    "m1s = []\n",
    "m3s = []\n",
    "\n",
    "corrs = []\n",
    "for trial in range(1000):\n",
    "    \n",
    "\n",
    "    # with warnings.catch_warnings():\n",
    "    #     warnings.simplefilter(\"error\")\n",
    "\n",
    "\n",
    "    cell_selector = np.random.choice(dropseq.shape[0], 100)\n",
    "    small = dropseq.iloc[cell_selector]\n",
    "    small_sf = dropseq_sf[cell_selector]\n",
    "\n",
    "    mfish, m1, m2, m3 = compare_estimators(smfish, fish_gapdh_sf, small, small_sf, overlap_genes,p=1)\n",
    "    \n",
    "    viz_mfish = mfish*400\n",
    "    viz_m1 = (400/m1['GAPDH'])*m1\n",
    "    viz_m3 = (400/m3['GAPDH'])*m3\n",
    "\n",
    "    overlap = list(set(m1[m1>0].index) &set(m3[m3>0].index))\n",
    "    m1_corr = stats.pearsonr(\n",
    "        np.log(viz_mfish[overlap]),\n",
    "        np.log(viz_m1[overlap]))\n",
    "    m3_corr = stats.pearsonr(\n",
    "        np.log(viz_mfish[overlap]),\n",
    "        np.log(viz_m3[overlap]))\n",
    "    \n",
    "    # print(m1_corr, m3_corr)\n",
    "    \n",
    "    \n",
    "    corrs.append((m1_corr[0], m3_corr[0]))\n",
    "\n",
    "corrs = pd.DataFrame(corrs, columns=['m1', 'm3'])\n",
    "# m1 = pd.Series(np.vstack(m1s).mean(axis=0), index=smfish.columns)\n",
    "# m1_std = np.vstack(m1s).std(axis=0)\n",
    "# m3 = pd.Series(np.vstack(m3s).mean(axis=0), index=smfish.columns)\n",
    "# m3_std = np.vstack(m3s).std(axis=0)\n",
    "\n",
    "\n",
    "# print('sample mean', stats.pearsonr(\n",
    "#                 np.log(viz_mfish),\n",
    "#                 np.log(viz_m1)))\n",
    "# print('memento', stats.pearsonr(\n",
    "#     np.log(viz_mfish),\n",
    "#     np.log(viz_m3)))"
   ]
  },
  {
   "cell_type": "code",
   "execution_count": 236,
   "id": "0debf2e9-ad98-441b-a493-a9be41526105",
   "metadata": {},
   "outputs": [
    {
     "data": {
      "text/plain": [
       "0.7094018438512671"
      ]
     },
     "execution_count": 236,
     "metadata": {},
     "output_type": "execute_result"
    }
   ],
   "source": [
    "corrs['m1'].mean()"
   ]
  },
  {
   "cell_type": "code",
   "execution_count": 237,
   "id": "e64fc30c-ad6c-458e-a3e1-c28d3f7a0f59",
   "metadata": {},
   "outputs": [
    {
     "data": {
      "text/plain": [
       "0.7289802959726753"
      ]
     },
     "execution_count": 237,
     "metadata": {},
     "output_type": "execute_result"
    }
   ],
   "source": [
    "corrs['m3'].mean()"
   ]
  },
  {
   "cell_type": "code",
   "execution_count": 259,
   "id": "1d35a950-07f7-45bc-8c91-3f7181c6dd19",
   "metadata": {},
   "outputs": [
    {
     "data": {
      "text/plain": [
       "<Axes: xlabel='m1', ylabel='Density'>"
      ]
     },
     "execution_count": 259,
     "metadata": {},
     "output_type": "execute_result"
    },
    {
     "data": {
      "image/png": "[encoded data removed]",
      "text/plain": [
       "<Figure size 640x480 with 1 Axes>"
      ]
     },
     "metadata": {},
     "output_type": "display_data"
    }
   ],
   "source": [
    "sns.kdeplot(corrs['m1'])\n",
    "sns.kdeplot(corrs['m3'])"
   ]
  },
  {
   "cell_type": "code",
   "execution_count": 260,
   "id": "29c94cbf-1c85-4e6b-87b8-2611c6dc365b",
   "metadata": {},
   "outputs": [
    {
     "data": {
      "text/plain": [
       "[<matplotlib.lines.Line2D at 0x7fe6dd98f490>]"
      ]
     },
     "execution_count": 260,
     "metadata": {},
     "output_type": "execute_result"
    },
    {
     "data": {
      "image/png": "[encoded data removed]",
      "text/plain": [
       "<Figure size 640x480 with 1 Axes>"
      ]
     },
     "metadata": {},
     "output_type": "display_data"
    }
   ],
   "source": [
    "plt.scatter(corrs['m1'], corrs['m3'], s=1)\n",
    "plt.plot([0.4, 0.9], [0.4, 0.9])\n",
    "plt."
   ]
  },
  {
   "cell_type": "code",
   "execution_count": 338,
   "id": "9423d863-31bc-461d-bc55-662ad86a0b0c",
   "metadata": {},
   "outputs": [],
   "source": [
    "small.to_csv('small_for_fig.csv')"
   ]
  },
  {
   "cell_type": "code",
   "execution_count": 391,
   "id": "9a3a04e5-69d2-447a-b104-71a42d1414be",
   "metadata": {},
   "outputs": [],
   "source": [
    "import matplotlib as mpl\n",
    "mpl.rcParams['pdf.fonttype'] = 42\n",
    "mpl.rcParams['ps.fonttype'] = 42\n",
    "plt.rcParams[\"axes.prop_cycle\"] = plt.cycler(\"color\", ['turquoise', 'slategrey', 'silver'])\n",
    "\n",
    "import matplotlib.pylab as pylab\n",
    "params = {'legend.fontsize': 'small',\n",
    "         'axes.labelsize': 'medium',\n",
    "         'axes.titlesize':'medium',\n",
    "         'figure.titlesize':'medium',\n",
    "         'xtick.labelsize':'medium',\n",
    "         'ytick.labelsize':'medium'}\n",
    "pylab.rcParams.update(params)"
   ]
  },
  {
   "cell_type": "code",
   "execution_count": 393,
   "id": "6a754f96-96ac-4d9f-952c-9c715e394626",
   "metadata": {},
   "outputs": [
    {
     "name": "stdout",
     "output_type": "stream",
     "text": [
      "PearsonRResult(statistic=0.7044440774753608, pvalue=0.0049111338851964125) PearsonRResult(statistic=0.7966298169755954, pvalue=0.0006486810082608935)\n"
     ]
    },
    {
     "data": {
      "image/png": "[encoded data removed]",
      "text/plain": [
       "<Figure size 300x200 with 1 Axes>"
      ]
     },
     "metadata": {},
     "output_type": "display_data"
    }
   ],
   "source": [
    "# cell_selector = np.random.choice(dropseq.shape[0], 100)\n",
    "# small = dropseq.iloc[cell_selector]\n",
    "# small_sf = dropseq_sf[cell_selector]\n",
    "\n",
    "# mfish, m1, m2, m3 = compare_estimators(smfish, fish_gapdh_sf, small, small_sf, overlap_genes,p=1)\n",
    "\n",
    "# viz_mfish = mfish*400\n",
    "# viz_m1 = (400/m1['GAPDH'])*m1\n",
    "# viz_m3 = (400/m3['GAPDH'])*m3\n",
    "\n",
    "# overlap = list(set(m1[m1>0].index) &set(m3[m3>0].index))\n",
    "# m1_corr = stats.pearsonr(\n",
    "#     np.log(viz_mfish[overlap]),\n",
    "#     np.log(viz_m1[overlap]))\n",
    "# m3_corr = stats.pearsonr(\n",
    "#     np.log(viz_mfish[overlap]),\n",
    "#     np.log(viz_m3[overlap]))\n",
    "\n",
    "print(m1_corr, m3_corr)\n",
    "\n",
    "plt.figure(figsize=(3,2))\n",
    "plt.scatter(viz_mfish, viz_m1, s=25, color='slategrey', label='sample mean\\n(R=0.70)')\n",
    "plt.scatter(viz_mfish, viz_m3, s=25, color='turquoise', label='memento\\n(R=0.79)')\n",
    "\n",
    "plt.plot([viz_mfish.min(), viz_mfish.max()], [viz_mfish.min(), viz_mfish.max()], '--', color='k')\n",
    "plt.xscale('log')\n",
    "plt.yscale('log')\n",
    "plt.xlabel('normalized mean (FISH)');plt.ylabel('normalized mean (Dropseq)');\n",
    "plt.title('Mean estimates using 50 cells')\n",
    "plt.legend(frameon=False, loc='center right', bbox_to_anchor=(1.04,0.2), handletextpad=0.01, ncols=1,  columnspacing=0.1)\n",
    "plt.savefig('50_cell_means.pdf', bbox_inches='tight')"
   ]
  },
  {
   "cell_type": "code",
   "execution_count": 152,
   "id": "de007869-11e1-4405-9cfa-3cc06df897d7",
   "metadata": {},
   "outputs": [
    {
     "data": {
      "text/plain": [
       "0.707"
      ]
     },
     "execution_count": 152,
     "metadata": {},
     "output_type": "execute_result"
    }
   ],
   "source": [
    "(corrs['m1']<corrs['m3']).mean()"
   ]
  },
  {
   "cell_type": "code",
   "execution_count": 140,
   "id": "bf5161b6-b84f-4de2-a88e-2ea229be324a",
   "metadata": {},
   "outputs": [
    {
     "data": {
      "text/html": [
       "<div>\n",
       "<style scoped>\n",
       "    .dataframe tbody tr th:only-of-type {\n",
       "        vertical-align: middle;\n",
       "    }\n",
       "\n",
       "    .dataframe tbody tr th {\n",
       "        vertical-align: top;\n",
       "    }\n",
       "\n",
       "    .dataframe thead th {\n",
       "        text-align: right;\n",
       "    }\n",
       "</style>\n",
       "<table border=\"1\" class=\"dataframe\">\n",
       "  <thead>\n",
       "    <tr style=\"text-align: right;\">\n",
       "      <th></th>\n",
       "      <th>m1</th>\n",
       "      <th>m3</th>\n",
       "    </tr>\n",
       "  </thead>\n",
       "  <tbody>\n",
       "    <tr>\n",
       "      <th>0</th>\n",
       "      <td>0.645613</td>\n",
       "      <td>0.670976</td>\n",
       "    </tr>\n",
       "    <tr>\n",
       "      <th>1</th>\n",
       "      <td>0.657286</td>\n",
       "      <td>0.676139</td>\n",
       "    </tr>\n",
       "    <tr>\n",
       "      <th>2</th>\n",
       "      <td>0.655133</td>\n",
       "      <td>0.718694</td>\n",
       "    </tr>\n",
       "    <tr>\n",
       "      <th>3</th>\n",
       "      <td>0.643156</td>\n",
       "      <td>0.672569</td>\n",
       "    </tr>\n",
       "    <tr>\n",
       "      <th>4</th>\n",
       "      <td>0.568119</td>\n",
       "      <td>0.578224</td>\n",
       "    </tr>\n",
       "    <tr>\n",
       "      <th>...</th>\n",
       "      <td>...</td>\n",
       "      <td>...</td>\n",
       "    </tr>\n",
       "    <tr>\n",
       "      <th>95</th>\n",
       "      <td>0.613361</td>\n",
       "      <td>0.617691</td>\n",
       "    </tr>\n",
       "    <tr>\n",
       "      <th>96</th>\n",
       "      <td>0.711499</td>\n",
       "      <td>0.652103</td>\n",
       "    </tr>\n",
       "    <tr>\n",
       "      <th>97</th>\n",
       "      <td>0.579959</td>\n",
       "      <td>0.649487</td>\n",
       "    </tr>\n",
       "    <tr>\n",
       "      <th>98</th>\n",
       "      <td>0.581797</td>\n",
       "      <td>0.723691</td>\n",
       "    </tr>\n",
       "    <tr>\n",
       "      <th>99</th>\n",
       "      <td>0.796224</td>\n",
       "      <td>0.748270</td>\n",
       "    </tr>\n",
       "  </tbody>\n",
       "</table>\n",
       "<p>100 rows × 2 columns</p>\n",
       "</div>"
      ],
      "text/plain": [
       "          m1        m3\n",
       "0   0.645613  0.670976\n",
       "1   0.657286  0.676139\n",
       "2   0.655133  0.718694\n",
       "3   0.643156  0.672569\n",
       "4   0.568119  0.578224\n",
       "..       ...       ...\n",
       "95  0.613361  0.617691\n",
       "96  0.711499  0.652103\n",
       "97  0.579959  0.649487\n",
       "98  0.581797  0.723691\n",
       "99  0.796224  0.748270\n",
       "\n",
       "[100 rows x 2 columns]"
      ]
     },
     "execution_count": 140,
     "metadata": {},
     "output_type": "execute_result"
    }
   ],
   "source": [
    "corrs"
   ]
  },
  {
   "cell_type": "code",
   "execution_count": null,
   "id": "a6cd55fc-496a-4d3e-ba61-01593f2e7306",
   "metadata": {},
   "outputs": [],
   "source": [
    "%%capture --no-stderr\n",
    "\n",
    "m1s = []\n",
    "m3s = []\n",
    "\n",
    "corrs = []\n",
    "for trial in range(100):\n",
    "    \n",
    "\n",
    "    # with warnings.catch_warnings():\n",
    "    #     warnings.simplefilter(\"error\")\n",
    "\n",
    "\n",
    "    cell_selector = np.random.choice(dropseq.shape[0], 50)\n",
    "    small = dropseq.iloc[cell_selector]\n",
    "    small_sf = dropseq_sf[cell_selector]\n",
    "\n",
    "    mfish, m1, m2, m3 = compare_estimators(smfish, fish_gapdh_sf, small, small_sf, overlap_genes,p=1)\n",
    "    \n",
    "    viz_mfish = mfish*400\n",
    "    viz_m1 = (400/m1['GAPDH'])*m1\n",
    "    viz_m3 = (400/m3['GAPDH'])*m3\n",
    "\n",
    "    m1s.append(m1)\n",
    "    m3s.append(m3)\n",
    "    \n",
    "    m1_corr = stats.pearsonr(\n",
    "        np.log(viz_mfish),\n",
    "        np.log(viz_m1))\n",
    "    m3_corr = stats.pearsonr(\n",
    "        np.log(viz_mfish),\n",
    "        np.log(viz_m3))\n",
    "    corrs.append((m1_corr[0], m2_corr[0]))\n",
    "\n",
    "    \n",
    "# m1 = pd.Series(np.vstack(m1s).mean(axis=0), index=smfish.columns)\n",
    "# m1_std = np.vstack(m1s).std(axis=0)\n",
    "# m3 = pd.Series(np.vstack(m3s).mean(axis=0), index=smfish.columns)\n",
    "# m3_std = np.vstack(m3s).std(axis=0)\n",
    "\n",
    "\n",
    "# print('sample mean', stats.pearsonr(\n",
    "#                 np.log(viz_mfish),\n",
    "#                 np.log(viz_m1)))\n",
    "# print('memento', stats.pearsonr(\n",
    "#     np.log(viz_mfish),\n",
    "#     np.log(viz_m3)))"
   ]
  },
  {
   "cell_type": "code",
   "execution_count": 133,
   "id": "23dace79-0933-4627-9897-6259c5aca8e9",
   "metadata": {},
   "outputs": [
    {
     "data": {
      "text/plain": [
       "[]"
      ]
     },
     "execution_count": 133,
     "metadata": {},
     "output_type": "execute_result"
    }
   ],
   "source": [
    "corrs"
   ]
  },
  {
   "cell_type": "code",
   "execution_count": 120,
   "id": "e101ccd1-3393-4d1a-93aa-d92a3586d846",
   "metadata": {},
   "outputs": [
    {
     "data": {
      "image/png": "[encoded data removed]",
      "text/plain": [
       "<Figure size 300x300 with 1 Axes>"
      ]
     },
     "metadata": {},
     "output_type": "display_data"
    }
   ],
   "source": [
    "plt.figure(figsize=(3,3))\n",
    "plt.scatter(viz_mfish, viz_m1)\n",
    "plt.scatter(viz_mfish, viz_m3)\n",
    "\n",
    "plt.plot([viz_mfish.min(), viz_mfish.max()], [viz_mfish.min(), viz_mfish.max()], '--')\n",
    "plt.xscale('log')\n",
    "plt.yscale('log')\n",
    "plt.xlabel('normalized mean (FISH)');plt.ylabel('normalized mean (Dropseq)');"
   ]
  },
  {
   "cell_type": "markdown",
   "id": "bfc5cf39-3d9f-4418-9ec5-6c064ec6d2ed",
   "metadata": {},
   "source": [
    "### Investigate performance with varying number of cells"
   ]
  },
  {
   "cell_type": "code",
   "execution_count": 23,
   "id": "602c241a-4a09-46bf-a70a-a5aa62c2855b",
   "metadata": {},
   "outputs": [],
   "source": [
    "result = []\n",
    "for num_cell in [50, 100, 200, 300, 500, 1000]:\n",
    "        \n",
    "        for trial in range(1000):\n",
    "\n",
    "            sample_idx = np.random.choice(dropseq.shape[0], num_cell)\n",
    "            tiny = dropseq.iloc[sample_idx]\n",
    "            shallow = tiny\n",
    "            counts = shallow.sum(axis=0)[overlap_genes]\n",
    "            relevant_genes = counts[counts > 0].index.tolist()\n",
    "            shallow_sf = shallow.sum(axis=1).values\n",
    "            mfish, m1, m2, m3 = compare_estimators(smfish, fish_gapdh_sf, shallow, shallow_sf, overlap_genes=relevant_genes, p=1)\n",
    "\n",
    "            mean_numi = shallow_sf.mean()\n",
    "            \n",
    "            corr1 = stats.pearsonr(np.log(mfish), np.log(m1))[0]\n",
    "            corr2 = stats.pearsonr(np.log(mfish), np.log(m2))[0]\n",
    "            corr3 = stats.pearsonr(np.log(mfish), np.log(m3))[0]\n",
    "            result.append((num_cell, mean_numi, corr1, corr2, corr3, corr4))\n",
    "experiment_result = pd.DataFrame(result, columns=['num_cell', 'mean_umi', 'naive', 'filtered', 'memento'])\n",
    "# experiment_result.to_csv('numcells.csv', index=False)"
   ]
  },
  {
   "cell_type": "code",
   "execution_count": 18,
   "id": "565e826f-d639-4e06-be34-003989dfd289",
   "metadata": {},
   "outputs": [],
   "source": [
    "scvi_result = []\n",
    "mfish = (smfish/fish_gapdh_sf.reshape(-1,1))[overlap_genes].mean(axis=0)\n",
    "for num_cell in [50, 100, 200, 300, 500, 1000]:\n",
    "        \n",
    "        for trial in range(10):\n",
    "            \n",
    "            print(num_cell, trial)\n",
    "            sample_idx = np.random.choice(dropseq.shape[0], num_cell)\n",
    "            tiny = dropseq.iloc[sample_idx]\n",
    "            shallow = tiny\n",
    "            shallow_sf = shallow.sum(axis=1).values\n",
    "            mean_numi = shallow_sf.mean()\n",
    "            \n",
    "            adata = sc.AnnData(X=shallow.values, obs=pd.DataFrame(index=shallow.index), var=pd.DataFrame(index=shallow.columns))\n",
    "            scvi.model.SCVI.setup_anndata(\n",
    "                adata,\n",
    "                categorical_covariate_keys=[],\n",
    "                continuous_covariate_keys=[],\n",
    "            )\n",
    "            model = scvi.model.SCVI(adata)\n",
    "            model.train()\n",
    "            scvi_denoised = model.get_normalized_expression(library_size=10e4).mean(axis=0)\n",
    "            \n",
    "            corr1 = stats.pearsonr(np.log(mfish), np.log(scvi_denoised[overlap_genes]))[0]\n",
    "            scvi_result.append((num_cell, mean_numi, corr1))\n",
    "\n",
    "\n",
    "scvi_result = pd.DataFrame(scvi_result, columns=['num_cell', 'mean_umi', 'scvi'])\n",
    "scvi_result.to_csv('numcells_scvi.csv', index=False)"
   ]
  },
  {
   "cell_type": "code",
   "execution_count": 4,
   "id": "51da0dfa-ffab-42c9-b281-919a0a5ad06f",
   "metadata": {},
   "outputs": [],
   "source": [
    "experiment_result = pd.read_csv('numcells.csv').rename(columns={'naive':'sample mean\\n(pseudobulk, SAVER,\\nBASiCs, Zhang2018)'})\n",
    "scvi_result= pd.melt(pd.read_csv(data_path + 'numcells_scvi.csv'), id_vars=['num_cell', 'mean_umi'], value_vars=['scvi'], var_name='estimator')\n",
    "df = pd.melt(experiment_result, id_vars=['num_cell', 'mean_umi'], value_vars=['memento','sample mean\\n(pseudobulk, SAVER,\\nBASiCs, Zhang2018)'], var_name='estimator')"
   ]
  },
  {
   "cell_type": "code",
   "execution_count": 5,
   "id": "0136dd4c-7d2e-497f-a9bb-6b4ea83fca8d",
   "metadata": {},
   "outputs": [],
   "source": [
    "df = pd.concat([df, scvi_result])"
   ]
  },
  {
   "cell_type": "code",
   "execution_count": 21,
   "id": "922ae10e-7c53-457f-a175-fbb8306f803a",
   "metadata": {},
   "outputs": [
    {
     "data": {
      "image/png": "[encoded data removed]",
      "text/plain": [
       "<Figure size 300x200 with 1 Axes>"
      ]
     },
     "metadata": {},
     "output_type": "display_data"
    }
   ],
   "source": [
    "plt.figure(figsize=(3, 2))\n",
    "pal = [(64/255,224/255,208/255)]+[sns.color_palette(\"Greys\", 10)[3], sns.color_palette(\"Greys\", 10)[6], ]\n",
    "sns.pointplot(y='value', x='num_cell', hue='estimator',data=df, errorbar=('ci', 0), estimator='median', palette=pal)\n",
    "plt.xlabel('num cell');plt.ylabel('Corr to smFISH')\n",
    "# sns.stripplot(y='value', x='p', hue='estimator',data=df, dodge=True, alpha=0.2,s=3)\n",
    "plt.legend(frameon=False, loc='center right', bbox_to_anchor=(2,0.5))\n",
    "plt.savefig('estimation.pdf', bbox_inches='tight')"
   ]
  },
  {
   "cell_type": "code",
   "execution_count": null,
   "id": "fb1055a5-e1ad-443c-970e-7f9706383c36",
   "metadata": {},
   "outputs": [],
   "source": []
  },
  {
   "cell_type": "code",
   "execution_count": null,
   "id": "ad1ec5e6-b56a-4a1c-bdc4-6507372f5139",
   "metadata": {},
   "outputs": [],
   "source": []
  },
  {
   "cell_type": "code",
   "execution_count": null,
   "id": "909693f1-b566-4a14-9222-e77f250c6de9",
   "metadata": {},
   "outputs": [],
   "source": []
  },
  {
   "cell_type": "code",
   "execution_count": null,
   "id": "adedd11b-4769-495a-b591-f808bfd8e0f0",
   "metadata": {},
   "outputs": [],
   "source": []
  },
  {
   "cell_type": "code",
   "execution_count": 28,
   "id": "62492be0-3246-4bf7-be51-baf1997c6bd1",
   "metadata": {},
   "outputs": [],
   "source": [
    "sample_idx = np.random.choice(dropseq.shape[0], 50)\n",
    "tiny = dropseq.iloc[sample_idx]\n",
    "shallow = tiny\n",
    "counts = shallow.sum(axis=0)[overlap_genes]\n",
    "relevant_genes = counts[counts > 0].index.tolist()\n",
    "shallow_sf = shallow.sum(axis=1).values\n",
    "mfish, m1, m2, m3 = compare_estimators(smfish, fish_gapdh_sf, shallow, shallow_sf, overlap_genes=relevant_genes, p=1)\n"
   ]
  },
  {
   "cell_type": "code",
   "execution_count": 44,
   "id": "f873cfd6-74c3-431d-9e51-ee4a980ce758",
   "metadata": {},
   "outputs": [
    {
     "data": {
      "text/plain": [
       "Text(0, 0.5, 'fish')"
      ]
     },
     "execution_count": 44,
     "metadata": {},
     "output_type": "execute_result"
    },
    {
     "data": {
      "image/png": "[encoded data removed]",
      "text/plain": [
       "<Figure size 270x250 with 1 Axes>"
      ]
     },
     "metadata": {},
     "output_type": "display_data"
    }
   ],
   "source": [
    "plt.figure(figsize=(2.7,2.5))\n",
    "plt.scatter(np.log(m1), np.log(mfish), color='silver')\n",
    "plt.scatter(np.log(m3), np.log(mfish), color='turquoise')\n",
    "plt.xlabel('dropseq'); plt.ylabel('fish')"
   ]
  },
  {
   "cell_type": "code",
   "execution_count": 46,
   "id": "0f43a379-a90a-4253-a35d-532feba16223",
   "metadata": {},
   "outputs": [
    {
     "data": {
      "text/plain": [
       "Text(0, 0.5, 'fish')"
      ]
     },
     "execution_count": 46,
     "metadata": {},
     "output_type": "execute_result"
    },
    {
     "data": {
      "image/png": "[encoded data removed]",
      "text/plain": [
       "<Figure size 270x250 with 1 Axes>"
      ]
     },
     "metadata": {},
     "output_type": "display_data"
    }
   ],
   "source": [
    "counts = dropseq.sum(axis=0)[overlap_genes]\n",
    "relevant_genes = counts[counts > 0].index.tolist()\n",
    "mfish, m1, m2, m3 = compare_estimators(smfish, fish_gapdh_sf, dropseq, dropseq_sf, overlap_genes=relevant_genes, p=1)\n",
    "plt.figure(figsize=(2.7,2.5))\n",
    "\n",
    "plt.scatter(np.log(m1), np.log(mfish), color='silver')\n",
    "plt.scatter(np.log(m3), np.log(mfish), color='turquoise')\n",
    "plt.xlabel('dropseq'); plt.ylabel('fish')"
   ]
  },
  {
   "cell_type": "code",
   "execution_count": 47,
   "id": "f31d73f9-1d5f-4442-9ce5-ad89dbb62216",
   "metadata": {},
   "outputs": [
    {
     "data": {
      "text/plain": [
       "(8498, 12241)"
      ]
     },
     "execution_count": 47,
     "metadata": {},
     "output_type": "execute_result"
    }
   ],
   "source": [
    "dropseq.shape"
   ]
  },
  {
   "cell_type": "code",
   "execution_count": 10,
   "id": "1eb5b932-76d5-45bb-b8a9-60325a2ae7c8",
   "metadata": {},
   "outputs": [
    {
     "data": {
      "text/plain": [
       "KDM5B     0.000061\n",
       "VCL       0.000041\n",
       "MITF      0.000492\n",
       "BABAM1    0.000031\n",
       "FOSL1     0.000028\n",
       "LMNA      0.000239\n",
       "TXNRD1    0.000142\n",
       "FGFR1     0.000015\n",
       "VGF       0.000589\n",
       "RUNX2     0.000008\n",
       "GAPDH     0.003803\n",
       "SOX10     0.000086\n",
       "CCNA2     0.000038\n",
       "KDM5A     0.000114\n",
       "dtype: float64"
      ]
     },
     "execution_count": 10,
     "metadata": {},
     "output_type": "execute_result"
    }
   ],
   "source": [
    "m1"
   ]
  },
  {
   "cell_type": "code",
   "execution_count": null,
   "id": "500a26f8-91c6-491c-a3a7-dc05063db2f5",
   "metadata": {},
   "outputs": [],
   "source": []
  },
  {
   "cell_type": "code",
   "execution_count": null,
   "id": "9c24b537-7552-47dc-be34-9f162bbaf637",
   "metadata": {},
   "outputs": [],
   "source": []
  },
  {
   "cell_type": "code",
   "execution_count": null,
   "id": "7997e445-3287-4609-b671-0992f7434f84",
   "metadata": {},
   "outputs": [],
   "source": []
  },
  {
   "cell_type": "code",
   "execution_count": 187,
   "id": "b9960fc6-36a6-41ab-8744-4efd1f604eb4",
   "metadata": {},
   "outputs": [
    {
     "name": "stderr",
     "output_type": "stream",
     "text": [
      "/home/ssm-user/anaconda3/envs/single_cell/lib/python3.8/site-packages/pandas/core/arraylike.py:402: RuntimeWarning: invalid value encountered in log\n",
      "  result = getattr(ufunc, method)(*inputs, **kwargs)\n"
     ]
    },
    {
     "ename": "NameError",
     "evalue": "name 'mm1' is not defined",
     "output_type": "error",
     "traceback": [
      "\u001b[0;31m---------------------------------------------------------------------------\u001b[0m",
      "\u001b[0;31mNameError\u001b[0m                                 Traceback (most recent call last)",
      "Cell \u001b[0;32mIn[187], line 1\u001b[0m\n\u001b[0;32m----> 1\u001b[0m plt\u001b[38;5;241m.\u001b[39mscatter(np\u001b[38;5;241m.\u001b[39mlog(mfish), np\u001b[38;5;241m.\u001b[39mlog(m1\u001b[38;5;241m*\u001b[39mmmfish\u001b[38;5;241m/\u001b[39m\u001b[43mmm1\u001b[49m))\n\u001b[1;32m      2\u001b[0m \u001b[38;5;66;03m# plt.scatter(np.log(mfish), np.log(m2))\u001b[39;00m\n\u001b[1;32m      3\u001b[0m plt\u001b[38;5;241m.\u001b[39mscatter(np\u001b[38;5;241m.\u001b[39mlog(mfish), np\u001b[38;5;241m.\u001b[39mlog(m3\u001b[38;5;241m*\u001b[39mmmfish\u001b[38;5;241m/\u001b[39mmm3))\n",
      "\u001b[0;31mNameError\u001b[0m: name 'mm1' is not defined"
     ]
    }
   ],
   "source": [
    "plt.scatter(np.log(mfish), np.log(m1*mmfish/mm1))\n",
    "# plt.scatter(np.log(mfish), np.log(m2))\n",
    "plt.scatter(np.log(mfish), np.log(m3*mmfish/mm3))\n",
    "# plt.scatter(np.log(mfish), np.log(m4))\n",
    "\n",
    "plt.xlabel('FISH'); plt.ylabel('Dropseq');\n",
    "plt.legend(['naive r=%0.2f' % stats.pearsonr(np.log(mfish), np.log(m1*mmfish/mm1))[0], \n",
    "            # 'filtered r=%0.2f' %stats.pearsonr(np.log(mfish), np.log(m2))[0], \n",
    "            'weighted r=%0.2f' %stats.pearsonr(np.log(mfish), np.log(m3*mmfish/mm3))[0],\n",
    "            # 'medofmean r=%0.2f' %stats.pearsonr(np.log(mfish), np.log(m4))[0] \n",
    "           ])"
   ]
  },
  {
   "cell_type": "code",
   "execution_count": 188,
   "id": "55b03d7e-4e9b-43d8-a174-88dd045856dd",
   "metadata": {},
   "outputs": [
    {
     "name": "stderr",
     "output_type": "stream",
     "text": [
      "/tmp/ipykernel_22844/300944203.py:4: RuntimeWarning: invalid value encountered in log\n",
      "  plt.scatter(np.log(mfish), np.log(m4))\n"
     ]
    },
    {
     "ename": "ValueError",
     "evalue": "array must not contain infs or NaNs",
     "output_type": "error",
     "traceback": [
      "\u001b[0;31m---------------------------------------------------------------------------\u001b[0m",
      "\u001b[0;31mValueError\u001b[0m                                Traceback (most recent call last)",
      "Cell \u001b[0;32mIn[188], line 7\u001b[0m\n\u001b[1;32m      4\u001b[0m plt\u001b[38;5;241m.\u001b[39mscatter(np\u001b[38;5;241m.\u001b[39mlog(mfish), np\u001b[38;5;241m.\u001b[39mlog(m4))\n\u001b[1;32m      6\u001b[0m plt\u001b[38;5;241m.\u001b[39mxlabel(\u001b[38;5;124m'\u001b[39m\u001b[38;5;124mFISH\u001b[39m\u001b[38;5;124m'\u001b[39m); plt\u001b[38;5;241m.\u001b[39mylabel(\u001b[38;5;124m'\u001b[39m\u001b[38;5;124mDropseq\u001b[39m\u001b[38;5;124m'\u001b[39m);\n\u001b[0;32m----> 7\u001b[0m plt\u001b[38;5;241m.\u001b[39mlegend([\u001b[38;5;124m'\u001b[39m\u001b[38;5;124mnaive r=\u001b[39m\u001b[38;5;132;01m%0.2f\u001b[39;00m\u001b[38;5;124m'\u001b[39m \u001b[38;5;241m%\u001b[39m \u001b[43mstats\u001b[49m\u001b[38;5;241;43m.\u001b[39;49m\u001b[43mpearsonr\u001b[49m\u001b[43m(\u001b[49m\u001b[43mnp\u001b[49m\u001b[38;5;241;43m.\u001b[39;49m\u001b[43mlog\u001b[49m\u001b[43m(\u001b[49m\u001b[43mmfish\u001b[49m\u001b[43m)\u001b[49m\u001b[43m,\u001b[49m\u001b[43m \u001b[49m\u001b[43mnp\u001b[49m\u001b[38;5;241;43m.\u001b[39;49m\u001b[43mlog\u001b[49m\u001b[43m(\u001b[49m\u001b[43mm1\u001b[49m\u001b[43m)\u001b[49m\u001b[43m)\u001b[49m[\u001b[38;5;241m0\u001b[39m], \n\u001b[1;32m      8\u001b[0m             \u001b[38;5;124m'\u001b[39m\u001b[38;5;124mfiltered r=\u001b[39m\u001b[38;5;132;01m%0.2f\u001b[39;00m\u001b[38;5;124m'\u001b[39m \u001b[38;5;241m%\u001b[39mstats\u001b[38;5;241m.\u001b[39mpearsonr(np\u001b[38;5;241m.\u001b[39mlog(mfish), np\u001b[38;5;241m.\u001b[39mlog(m2))[\u001b[38;5;241m0\u001b[39m], \n\u001b[1;32m      9\u001b[0m             \u001b[38;5;124m'\u001b[39m\u001b[38;5;124mmedofmean r=\u001b[39m\u001b[38;5;132;01m%0.2f\u001b[39;00m\u001b[38;5;124m'\u001b[39m \u001b[38;5;241m%\u001b[39mstats\u001b[38;5;241m.\u001b[39mpearsonr(np\u001b[38;5;241m.\u001b[39mlog(mfish), np\u001b[38;5;241m.\u001b[39mlog(m4))[\u001b[38;5;241m0\u001b[39m] ])\n",
      "File \u001b[0;32m~/anaconda3/envs/single_cell/lib/python3.8/site-packages/scipy/stats/_stats_py.py:4451\u001b[0m, in \u001b[0;36mpearsonr\u001b[0;34m(x, y, alternative)\u001b[0m\n\u001b[1;32m   4446\u001b[0m ym \u001b[38;5;241m=\u001b[39m y\u001b[38;5;241m.\u001b[39mastype(dtype) \u001b[38;5;241m-\u001b[39m ymean\n\u001b[1;32m   4448\u001b[0m \u001b[38;5;66;03m# Unlike np.linalg.norm or the expression sqrt((xm*xm).sum()),\u001b[39;00m\n\u001b[1;32m   4449\u001b[0m \u001b[38;5;66;03m# scipy.linalg.norm(xm) does not overflow if xm is, for example,\u001b[39;00m\n\u001b[1;32m   4450\u001b[0m \u001b[38;5;66;03m# [-5e210, 5e210, 3e200, -3e200]\u001b[39;00m\n\u001b[0;32m-> 4451\u001b[0m normxm \u001b[38;5;241m=\u001b[39m \u001b[43mlinalg\u001b[49m\u001b[38;5;241;43m.\u001b[39;49m\u001b[43mnorm\u001b[49m\u001b[43m(\u001b[49m\u001b[43mxm\u001b[49m\u001b[43m)\u001b[49m\n\u001b[1;32m   4452\u001b[0m normym \u001b[38;5;241m=\u001b[39m linalg\u001b[38;5;241m.\u001b[39mnorm(ym)\n\u001b[1;32m   4454\u001b[0m threshold \u001b[38;5;241m=\u001b[39m \u001b[38;5;241m1e-13\u001b[39m\n",
      "File \u001b[0;32m~/anaconda3/envs/single_cell/lib/python3.8/site-packages/scipy/linalg/_misc.py:146\u001b[0m, in \u001b[0;36mnorm\u001b[0;34m(a, ord, axis, keepdims, check_finite)\u001b[0m\n\u001b[1;32m    144\u001b[0m \u001b[38;5;66;03m# Differs from numpy only in non-finite handling and the use of blas.\u001b[39;00m\n\u001b[1;32m    145\u001b[0m \u001b[38;5;28;01mif\u001b[39;00m check_finite:\n\u001b[0;32m--> 146\u001b[0m     a \u001b[38;5;241m=\u001b[39m \u001b[43mnp\u001b[49m\u001b[38;5;241;43m.\u001b[39;49m\u001b[43masarray_chkfinite\u001b[49m\u001b[43m(\u001b[49m\u001b[43ma\u001b[49m\u001b[43m)\u001b[49m\n\u001b[1;32m    147\u001b[0m \u001b[38;5;28;01melse\u001b[39;00m:\n\u001b[1;32m    148\u001b[0m     a \u001b[38;5;241m=\u001b[39m np\u001b[38;5;241m.\u001b[39masarray(a)\n",
      "File \u001b[0;32m~/anaconda3/envs/single_cell/lib/python3.8/site-packages/numpy/lib/function_base.py:603\u001b[0m, in \u001b[0;36masarray_chkfinite\u001b[0;34m(a, dtype, order)\u001b[0m\n\u001b[1;32m    601\u001b[0m a \u001b[38;5;241m=\u001b[39m asarray(a, dtype\u001b[38;5;241m=\u001b[39mdtype, order\u001b[38;5;241m=\u001b[39morder)\n\u001b[1;32m    602\u001b[0m \u001b[38;5;28;01mif\u001b[39;00m a\u001b[38;5;241m.\u001b[39mdtype\u001b[38;5;241m.\u001b[39mchar \u001b[38;5;129;01min\u001b[39;00m typecodes[\u001b[38;5;124m'\u001b[39m\u001b[38;5;124mAllFloat\u001b[39m\u001b[38;5;124m'\u001b[39m] \u001b[38;5;129;01mand\u001b[39;00m \u001b[38;5;129;01mnot\u001b[39;00m np\u001b[38;5;241m.\u001b[39misfinite(a)\u001b[38;5;241m.\u001b[39mall():\n\u001b[0;32m--> 603\u001b[0m     \u001b[38;5;28;01mraise\u001b[39;00m \u001b[38;5;167;01mValueError\u001b[39;00m(\n\u001b[1;32m    604\u001b[0m         \u001b[38;5;124m\"\u001b[39m\u001b[38;5;124marray must not contain infs or NaNs\u001b[39m\u001b[38;5;124m\"\u001b[39m)\n\u001b[1;32m    605\u001b[0m \u001b[38;5;28;01mreturn\u001b[39;00m a\n",
      "\u001b[0;31mValueError\u001b[0m: array must not contain infs or NaNs"
     ]
    },
    {
     "data": {
      "image/png": "[encoded data removed]",
      "text/plain": [
       "<Figure size 640x480 with 1 Axes>"
      ]
     },
     "metadata": {},
     "output_type": "display_data"
    }
   ],
   "source": [
    "plt.scatter(np.log(mfish), np.log(m1))\n",
    "plt.scatter(np.log(mfish), np.log(m2))\n",
    "# plt.scatter(np.log(mfish), np.log(m3))\n",
    "plt.scatter(np.log(mfish), np.log(m4))\n",
    "\n",
    "plt.xlabel('FISH'); plt.ylabel('Dropseq');\n",
    "plt.legend(['naive r=%0.2f' % stats.pearsonr(np.log(mfish), np.log(m1))[0], \n",
    "            'filtered r=%0.2f' %stats.pearsonr(np.log(mfish), np.log(m2))[0], \n",
    "            'medofmean r=%0.2f' %stats.pearsonr(np.log(mfish), np.log(m4))[0] ])"
   ]
  },
  {
   "cell_type": "markdown",
   "id": "cef5279e-daa8-4ac2-92b2-2e1d56aa4ead",
   "metadata": {},
   "source": [
    "### Test with simple generative model"
   ]
  },
  {
   "cell_type": "code",
   "execution_count": 181,
   "id": "bde4c759-9cf6-4954-b10c-c8c41bcbdcce",
   "metadata": {},
   "outputs": [],
   "source": [
    "Nc = dropseq_sf/0.05\n",
    "Mc = dropseq_sf"
   ]
  },
  {
   "cell_type": "code",
   "execution_count": 199,
   "id": "f29fd0c1-944b-42f2-991c-5d28dcdcf120",
   "metadata": {},
   "outputs": [],
   "source": [
    "sampling_dist1 = np.zeros(5000)\n",
    "for trial in range(5000):\n",
    "    Z = stats.poisson.rvs(Nc*1e-5, size=Nc.shape[0])\n",
    "    Y = stats.binom.rvs(Z, 0.05)\n",
    "    estimate1 = (Y/Mc).mean()\n",
    "    sampling_dist1[trial] = estimate1"
   ]
  },
  {
   "cell_type": "code",
   "execution_count": 200,
   "id": "0b181c28-3f51-4cad-af86-7744f8986c52",
   "metadata": {},
   "outputs": [
    {
     "data": {
      "text/plain": [
       "9.994229215738449e-06"
      ]
     },
     "execution_count": 200,
     "metadata": {},
     "output_type": "execute_result"
    }
   ],
   "source": [
    "sampling_dist1.mean()"
   ]
  },
  {
   "cell_type": "code",
   "execution_count": 155,
   "id": "26c50cf6-7b49-4705-a39f-a0f85bfdd33f",
   "metadata": {},
   "outputs": [
    {
     "data": {
      "text/plain": [
       "<AxesSubplot: ylabel='Density'>"
      ]
     },
     "execution_count": 155,
     "metadata": {},
     "output_type": "execute_result"
    },
    {
     "data": {
      "image/png": "[encoded data removed]",
      "text/plain": [
       "<Figure size 640x480 with 1 Axes>"
      ]
     },
     "metadata": {},
     "output_type": "display_data"
    }
   ],
   "source": [
    "sns.kdeplot(sampling_dist1)"
   ]
  },
  {
   "cell_type": "code",
   "execution_count": null,
   "id": "1be68889-3f48-467a-85d8-54949da2765a",
   "metadata": {},
   "outputs": [],
   "source": []
  },
  {
   "cell_type": "code",
   "execution_count": null,
   "id": "2cabd573-ec7b-4a62-968c-f6e572b12166",
   "metadata": {},
   "outputs": [],
   "source": []
  },
  {
   "cell_type": "code",
   "execution_count": 152,
   "id": "45f38acc-738b-4bb3-803d-01d62cc05fb1",
   "metadata": {},
   "outputs": [],
   "source": [
    "estimate = (Y/Mc).mean()"
   ]
  },
  {
   "cell_type": "code",
   "execution_count": 153,
   "id": "237670f3-08a2-4402-91b3-cdfdd600c7e5",
   "metadata": {},
   "outputs": [
    {
     "data": {
      "text/plain": [
       "0.0009475896876039991"
      ]
     },
     "execution_count": 153,
     "metadata": {},
     "output_type": "execute_result"
    }
   ],
   "source": [
    "estimate"
   ]
  },
  {
   "cell_type": "markdown",
   "id": "75f2ffc0",
   "metadata": {},
   "source": [
    "### Run memento for DropSeq"
   ]
  },
  {
   "cell_type": "code",
   "execution_count": 9,
   "id": "2d15307e",
   "metadata": {},
   "outputs": [],
   "source": [
    "import sys\n",
    "sys.path.append('/home/ssm-user/Github/scrna-parameter-estimation/dist/memento-0.0.9-py3.8.egg')\n",
    "sys.path.append('/home/ssm-user/Github/misc-seq/miscseq/')\n",
    "import encode\n",
    "import memento"
   ]
  },
  {
   "cell_type": "code",
   "execution_count": 53,
   "id": "475b3b02",
   "metadata": {},
   "outputs": [
    {
     "name": "stderr",
     "output_type": "stream",
     "text": [
      "... storing 'group' as categorical\n",
      "/home/ssm-user/anaconda3/envs/single_cell/lib/python3.8/site-packages/anndata/_core/anndata.py:1095: FutureWarning: The `inplace` parameter in pandas.Categorical.remove_unused_categories is deprecated and will be removed in a future version.\n",
      "  df_sub[k].cat.remove_unused_categories(inplace=True)\n",
      "/home/ssm-user/anaconda3/envs/single_cell/lib/python3.8/site-packages/anndata/_core/anndata.py:1095: FutureWarning: The `inplace` parameter in pandas.Categorical.remove_unused_categories is deprecated and will be removed in a future version.\n",
      "  df_sub[k].cat.remove_unused_categories(inplace=True)\n"
     ]
    }
   ],
   "source": [
    "adata = sc.AnnData(X=sparse.csr_matrix(dropseq.values), obs=pd.DataFrame(index=dropseq.index), var=pd.DataFrame(index=dropseq.columns))\n",
    "q = 0.01485030176341905\n",
    "adata.obs['q'] = q\n",
    "adata.obs['group'] = 'A'\n",
    "adata.write(data_path + 'dropseq.h5ad')\n",
    "\n",
    "memento.setup_memento(adata, q_column='q', filter_mean_thresh=0.02,trim_percent=0.5, shrinkage=0)\n",
    "\n",
    "#Optional\n",
    "mem_gapdh_sf = (adata[:, 'GAPDH'].X.todense().A1+1)/( adata[:, 'GAPDH'].X.todense().A1+1).mean()\n",
    "mem_total_sf = adata.obs['memento_size_factor']/adata.obs['memento_size_factor'].mean()\n",
    "adata.obs['memento_size_factor'] = 1\n",
    "\n",
    "memento.create_groups(adata, label_columns=['group'])\n",
    "memento.compute_1d_moments(adata, filter_genes=True)\n",
    "\n",
    "dropseq_m, dropseq_v, _ = adata.uns['memento']['1d_moments']['sg^A']\n",
    "dropseq_fano = dropseq_v/dropseq_m**2\n",
    "\n",
    "naive_sf = dropseq.sum(axis=1).values/adata.X.sum(axis=1).mean()\n",
    "naive_sf = 1# adata.obs['memento_size_factor'].values\n",
    "\n",
    "normalized_dropseq = adata.X.toarray()/naive_sf\n",
    "naive_m, naive_v = normalized_dropseq.mean(axis=0), normalized_dropseq.var(axis=0)\n",
    "naive_fano = naive_v/naive_m**2"
   ]
  },
  {
   "cell_type": "code",
   "execution_count": 54,
   "id": "a1cd99a2",
   "metadata": {},
   "outputs": [
    {
     "data": {
      "text/plain": [
       "[<matplotlib.lines.Line2D at 0x7f6fc1e361f0>]"
      ]
     },
     "execution_count": 54,
     "metadata": {},
     "output_type": "execute_result"
    },
    {
     "data": {
      "image/png": "[encoded data removed]",
      "text/plain": [
       "<Figure size 432x288 with 1 Axes>"
      ]
     },
     "metadata": {
      "needs_background": "light"
     },
     "output_type": "display_data"
    }
   ],
   "source": [
    "plt.scatter(np.log(dropseq_v), np.log(naive_v))\n",
    "plt.plot(np.log(dropseq_v),np.log(dropseq_v))"
   ]
  },
  {
   "cell_type": "markdown",
   "id": "e835e2ae",
   "metadata": {},
   "source": [
    "### Compute fish mean and variance"
   ]
  },
  {
   "cell_type": "code",
   "execution_count": 55,
   "id": "6bcab99c",
   "metadata": {},
   "outputs": [],
   "source": [
    "keep_genes = smfish.columns.tolist()\n",
    "overlap_genes = list(set(adata.var.index) & set(keep_genes))\n",
    "overlap_gene_idxs = np.array([adata.var.index.tolist().index(g) for g in overlap_genes])\n",
    "\n",
    "dropseq_m, dropseq_v, naive_m, naive_v = dropseq_m[overlap_gene_idxs], dropseq_v[overlap_gene_idxs], naive_m[overlap_gene_idxs], naive_v[overlap_gene_idxs]\n",
    "dropseq_fano, naive_fano = dropseq_fano[overlap_gene_idxs], naive_fano[overlap_gene_idxs]\n",
    "\n",
    "filtered_smfish = smfish_normalized[overlap_genes]\n",
    "\n",
    "means = np.nanmean(filtered_smfish, axis=0)\n",
    "variances = np.nanvar(filtered_smfish, axis=0)\n",
    "corrs = filtered_smfish.corr()\n",
    "covs = filtered_smfish.cov()\n",
    "fanos = variances/means**2\n",
    "\n",
    "naive_corr = np.corrcoef(normalized_dropseq[:, overlap_gene_idxs], rowvar=False)\n",
    "naive_cov = np.cov(normalized_dropseq[:, overlap_gene_idxs], rowvar=False)\n"
   ]
  },
  {
   "cell_type": "markdown",
   "id": "94cdf81d",
   "metadata": {},
   "source": [
    "### Make comparison for mean and variability"
   ]
  },
  {
   "cell_type": "code",
   "execution_count": 56,
   "id": "6fa36b71",
   "metadata": {},
   "outputs": [],
   "source": [
    "filtered_saver = normalized_saver_estimates[overlap_genes]"
   ]
  },
  {
   "cell_type": "code",
   "execution_count": 57,
   "id": "5286b6a9",
   "metadata": {},
   "outputs": [],
   "source": [
    "saver_m = np.nanmean(filtered_saver, axis=0)\n",
    "saver_v = np.nanvar(filtered_saver, axis=0)\n",
    "saver_fano = saver_v/saver_m**2\n",
    "\n",
    "a, b, _, _, _= stats.linregress(np.log(saver_m), np.log(saver_v))\n",
    "naive_rv = np.log(saver_v)-(np.log(saver_m)*a+b)"
   ]
  },
  {
   "cell_type": "code",
   "execution_count": 58,
   "id": "602e0b8f",
   "metadata": {},
   "outputs": [],
   "source": [
    "n_umi = adata.obs['memento_size_factor'].mean()"
   ]
  },
  {
   "cell_type": "code",
   "execution_count": 59,
   "id": "c9b8e04b",
   "metadata": {},
   "outputs": [
    {
     "data": {
      "image/png": "[encoded data removed]",
      "text/plain": [
       "<Figure size 576x108 with 3 Axes>"
      ]
     },
     "metadata": {
      "needs_background": "light"
     },
     "output_type": "display_data"
    }
   ],
   "source": [
    "plt.figure(figsize=(8,1.5))\n",
    "plt.subplots_adjust(wspace=0.7)\n",
    "\n",
    "plt.subplot(1,3,1)\n",
    "plt.scatter(np.log(means), np.log(naive_m/q))\n",
    "plt.plot([-1, 4],[-1, 4], '--', color='k')\n",
    "plt.xlabel('fish mean'); plt.ylabel('naive mean')\n",
    "plt.title('CCC = '+str.format('{0:.2f}', stats.spearmanr(np.log(means), np.log(naive_m/q))[0]))\n",
    "\n",
    "plt.subplot(1,3,2)\n",
    "plt.scatter(np.log(means), np.log(saver_m/q))\n",
    "plt.plot([-1, 4],[-1, 4], '--', color='k')\n",
    "plt.xlabel('fish mean'); plt.ylabel('saver mean')\n",
    "# print('saver', stats.pearsonr(fish_corr_array[selected_pairs], saver_corrs[selected_pairs])[0])\n",
    "plt.title('CCC = '+str.format('{0:.2f}', stats.spearmanr(np.log(means), np.log(saver_m/q))[0]))\n",
    "\n",
    "plt.subplot(1,3,3)\n",
    "plt.scatter(np.log(means), np.log(dropseq_m*n_umi/q))\n",
    "plt.plot([-1, 4],[-1, 4], '--', color='k')\n",
    "plt.xlabel('fish mean'); plt.ylabel('memento fmean')\n",
    "plt.title('CCC = '+str.format('{0:.2f}', stats.spearmanr(np.log(means), np.log(dropseq_m*n_umi/q))[0]))\n",
    "\n",
    "plt.savefig('mean_comparisons.png', dpi=300)"
   ]
  },
  {
   "cell_type": "code",
   "execution_count": 120,
   "id": "5833b910",
   "metadata": {},
   "outputs": [
    {
     "data": {
      "image/png": "[encoded data removed]",
      "text/plain": [
       "<Figure size 194.4x180 with 1 Axes>"
      ]
     },
     "metadata": {
      "needs_background": "light"
     },
     "output_type": "display_data"
    }
   ],
   "source": [
    "plt.figure(figsize=(2.7,2.5))\n",
    "plt.scatter(np.log(means), np.log(dropseq_m), s=40, color='turquoise')\n",
    "# plt.xlabel('smFISH log(CV)'); plt.ylabel('Dropseq log(CV)');\n",
    "plt.savefig('mean_comparisons.pdf', bbox_inches='tight')"
   ]
  },
  {
   "cell_type": "code",
   "execution_count": 80,
   "id": "4726f775",
   "metadata": {},
   "outputs": [
    {
     "data": {
      "image/png": "[encoded data removed]",
      "text/plain": [
       "<Figure size 576x108 with 3 Axes>"
      ]
     },
     "metadata": {
      "needs_background": "light"
     },
     "output_type": "display_data"
    }
   ],
   "source": [
    "plt.figure(figsize=(8,1.5))\n",
    "plt.subplots_adjust(wspace=0.7)\n",
    "\n",
    "plt.subplot(1,3,1)\n",
    "plt.scatter(np.log(fanos), np.log(naive_fano))\n",
    "plt.xlabel('fish CV'); plt.ylabel('naive CV')\n",
    "plt.title('CCC = '+str.format('{0:.2f}', stats.pearsonr(np.log(fanos), np.log(naive_fano))[0]))\n",
    "\n",
    "plt.subplot(1,3,2)\n",
    "plt.scatter(np.log(fanos), np.log(saver_fano))\n",
    "plt.xlabel('fish CV'); plt.ylabel('saver CV')\n",
    "# print('saver', stats.pearsonr(fish_corr_array[selected_pairs], saver_corrs[selected_pairs])[0])\n",
    "plt.title('CCC = '+str.format('{0:.2f}', stats.pearsonr(np.log(fanos), np.log(saver_fano))[0]))\n",
    "\n",
    "plt.subplot(1,3,3)\n",
    "plt.scatter(np.log(fanos), np.log(dropseq_fano))\n",
    "plt.xlabel('fish CV'); plt.ylabel('memento CV')\n",
    "plt.title('CCC = '+str.format('{0:.2f}', stats.pearsonr(np.log(fanos), np.log(dropseq_fano))[0]))\n",
    "\n",
    "plt.savefig('variability_comparisons.png', dpi=300)"
   ]
  },
  {
   "cell_type": "code",
   "execution_count": 122,
   "id": "8ab0e8ad",
   "metadata": {},
   "outputs": [],
   "source": [
    "result_path = '/data_volume/memento/saver/'"
   ]
  },
  {
   "cell_type": "code",
   "execution_count": 128,
   "id": "0d6ecd73",
   "metadata": {},
   "outputs": [],
   "source": [
    "mean = pd.read_csv(result_path + 'dropseq_BASiCS_mu.csv'.format(q)).mean(axis=0)\n",
    "delta = pd.read_csv(result_path + 'dropseq_BASiCS_delta.csv'.format(q)).mean(axis=0)\n",
    "v_basics = mean+delta*mean**2\n",
    "m_basics = mean\n",
    "fano_basics = v_basics/m_basics**2\n",
    "\n",
    "# scaling = (/m_basics)\n",
    "# m_basics = m_basics*scaling\n",
    "# v_basics = v_basics*scaling**2\n"
   ]
  },
  {
   "cell_type": "code",
   "execution_count": 137,
   "id": "5e1d1a44",
   "metadata": {},
   "outputs": [
    {
     "name": "stdout",
     "output_type": "stream",
     "text": [
      "memento 0.9405861170710372\n",
      "naive 0.8048828841819847\n",
      "basics 0.6088417637046718\n"
     ]
    }
   ],
   "source": [
    "print('memento', stats.pearsonr(np.log(fanos), np.log(dropseq_fano))[0])\n",
    "print('naive', stats.pearsonr(np.log(fanos), np.log(naive_fano))[0])\n",
    "print('basics', stats.pearsonr(np.log(fanos), np.log(fano_basics[overlap_genes]))[0])"
   ]
  },
  {
   "cell_type": "code",
   "execution_count": 135,
   "id": "8e903fe4",
   "metadata": {},
   "outputs": [
    {
     "data": {
      "image/png": "[encoded data removed]",
      "text/plain": [
       "<Figure size 194.4x180 with 1 Axes>"
      ]
     },
     "metadata": {
      "needs_background": "light"
     },
     "output_type": "display_data"
    }
   ],
   "source": [
    "plt.figure(figsize=(2.7,2.5))\n",
    "plt.scatter(np.log(fanos), np.log(naive_fano), s=40, color='silver')\n",
    "plt.scatter(np.log(fanos), np.log(fano_basics[overlap_genes]), s=40, color='dimgrey')\n",
    "plt.scatter(np.log(fanos), np.log(dropseq_fano), s=40, color='turquoise')\n",
    "\n",
    "# plt.xlabel('smFISH log(CV)'); plt.ylabel('Dropseq log(CV)');\n",
    "plt.savefig('variability_comparisons.pdf', bbox_inches='tight')"
   ]
  },
  {
   "cell_type": "markdown",
   "id": "3e33cbdb",
   "metadata": {},
   "source": [
    "### Make comparison for correlations"
   ]
  },
  {
   "cell_type": "code",
   "execution_count": 82,
   "id": "a4d54c0a",
   "metadata": {},
   "outputs": [],
   "source": [
    "saver_corrs = saver_corrs_all.loc[overlap_genes, overlap_genes].values.reshape(-1)"
   ]
  },
  {
   "cell_type": "code",
   "execution_count": 83,
   "id": "1df91486",
   "metadata": {},
   "outputs": [],
   "source": [
    "memento.compute_2d_moments(adata, gene_pairs=list(itertools.product(overlap_genes, overlap_genes)))"
   ]
  },
  {
   "cell_type": "code",
   "execution_count": 84,
   "id": "c122cde5",
   "metadata": {},
   "outputs": [],
   "source": [
    "memento_corr_array = adata.uns['memento']['2d_moments']['sg^A']['corr']\n",
    "memento_cov_array = adata.uns['memento']['2d_moments']['sg^A']['cov']"
   ]
  },
  {
   "cell_type": "code",
   "execution_count": 85,
   "id": "460d0414",
   "metadata": {},
   "outputs": [],
   "source": [
    "fish_corr_array = np.array([corrs.loc[x,y] for x,y in itertools.product(overlap_genes, overlap_genes)])\n",
    "fish_cov_array = np.array([covs.loc[x,y] for x,y in itertools.product(overlap_genes, overlap_genes)])"
   ]
  },
  {
   "cell_type": "code",
   "execution_count": 86,
   "id": "53a45ca5",
   "metadata": {},
   "outputs": [],
   "source": [
    "selected_pairs = ~np.isnan(fish_corr_array) & (fish_corr_array!=1)"
   ]
  },
  {
   "cell_type": "code",
   "execution_count": 87,
   "id": "8cc5cb50",
   "metadata": {},
   "outputs": [],
   "source": [
    "import matplotlib as mpl\n",
    "\n",
    "mpl.rcParams['pdf.fonttype'] = 42\n",
    "mpl.rcParams['ps.fonttype'] = 42\n",
    "\n",
    "import matplotlib.pylab as pylab\n",
    "params = {'legend.fontsize': 'medium',\n",
    "         'axes.labelsize': 'large',\n",
    "         'axes.titlesize':'medium',\n",
    "         'figure.titlesize':'medium',\n",
    "         'xtick.labelsize':'small',\n",
    "         'ytick.labelsize':'small'}\n",
    "pylab.rcParams.update(params)\n"
   ]
  },
  {
   "cell_type": "code",
   "execution_count": 88,
   "id": "4e2cdbb4",
   "metadata": {},
   "outputs": [
    {
     "data": {
      "image/png": "[encoded data removed]",
      "text/plain": [
       "<Figure size 576x108 with 3 Axes>"
      ]
     },
     "metadata": {
      "needs_background": "light"
     },
     "output_type": "display_data"
    }
   ],
   "source": [
    "plt.figure(figsize=(8,1.5))\n",
    "plt.subplots_adjust(wspace=0.7)\n",
    "\n",
    "plt.subplot(1,3,1)\n",
    "plt.scatter(fish_corr_array[selected_pairs], naive_corr.reshape(-1)[selected_pairs], s=7)\n",
    "plt.xlabel('fish corr'); plt.ylabel('naive corr')\n",
    "# print('naive', stats.pearsonr(fish_corr_array[selected_pairs], naive_corr.reshape(-1)[selected_pairs])[0])\n",
    "plt.title('R = '+str(concordance(fish_corr_array[selected_pairs], naive_corr.reshape(-1)[selected_pairs])))\n",
    "plt.title('R = '+str.format('{0:.2f}', stats.pearsonr(fish_corr_array[selected_pairs], naive_corr.reshape(-1)[selected_pairs])[0]))\n",
    "\n",
    "\n",
    "\n",
    "plt.subplot(1,3,2)\n",
    "plt.scatter(fish_corr_array[selected_pairs], saver_corrs[selected_pairs], s=7)\n",
    "plt.xlabel('fish corr'); plt.ylabel('saver corr')\n",
    "# print('saver', stats.pearsonr(fish_corr_array[selected_pairs], saver_corrs[selected_pairs])[0])\n",
    "plt.title('R = '+str(concordance(fish_corr_array[selected_pairs], saver_corrs[selected_pairs])))\n",
    "plt.title('R = '+str.format('{0:.2f}', stats.pearsonr(fish_corr_array[selected_pairs], saver_corrs[selected_pairs])[0]))\n",
    "\n",
    "plt.subplot(1,3,3)\n",
    "plt.scatter(fish_corr_array[selected_pairs], memento_corr_array[selected_pairs], s=7)\n",
    "plt.xlabel('fish corr'); plt.ylabel('memento corr')\n",
    "# print('memento', stats.pearsonr(fish_corr_array[selected_pairs], memento_corr_array[selected_pairs])[0])\n",
    "plt.title('R = '+str.format('{0:.2f}', stats.pearsonr(fish_corr_array[selected_pairs], memento_corr_array[selected_pairs])[0]))\n",
    "\n",
    "plt.savefig('coex_comparisons.png', dpi=300)"
   ]
  },
  {
   "cell_type": "code",
   "execution_count": 104,
   "id": "4da01719",
   "metadata": {},
   "outputs": [
    {
     "data": {
      "text/plain": [
       "0.7909050220217199"
      ]
     },
     "execution_count": 104,
     "metadata": {},
     "output_type": "execute_result"
    }
   ],
   "source": [
    "stats.pearsonr(fish_corr_array[selected_pairs], memento_corr_array[selected_pairs])[0]"
   ]
  },
  {
   "cell_type": "code",
   "execution_count": 119,
   "id": "ba265087",
   "metadata": {},
   "outputs": [
    {
     "data": {
      "image/png": "[encoded data removed]",
      "text/plain": [
       "<Figure size 194.4x180 with 1 Axes>"
      ]
     },
     "metadata": {
      "needs_background": "light"
     },
     "output_type": "display_data"
    }
   ],
   "source": [
    "plt.figure(figsize=(2.7,2.5))\n",
    "plt.scatter(fish_corr_array[selected_pairs], naive_corr.reshape(-1)[selected_pairs], s=40, color='silver')\n",
    "plt.scatter(fish_corr_array[selected_pairs], memento_corr_array[selected_pairs], s=40, color='turquoise')\n",
    "# plt.xlabel('smFISH corr'); plt.ylabel('Dropseq corr');\n",
    "plt.savefig('correlation_comparisons.pdf', bbox_inches='tight')"
   ]
  },
  {
   "cell_type": "code",
   "execution_count": null,
   "id": "47b6e426",
   "metadata": {},
   "outputs": [],
   "source": []
  },
  {
   "cell_type": "markdown",
   "id": "a06ebd17-1188-4637-8522-1ffe9b4ff239",
   "metadata": {},
   "source": [
    "### Investigate performance with varying number of UMIs per cell"
   ]
  },
  {
   "cell_type": "code",
   "execution_count": null,
   "id": "fc7214b0-53af-4ad5-9e50-f47666ae1d9f",
   "metadata": {},
   "outputs": [],
   "source": [
    "result = []\n",
    "num_cell = 200\n",
    "for p in [0.2, 0.35]:\n",
    "        \n",
    "        for trial in range(100):\n",
    "\n",
    "            sample_idx = np.random.choice(dropseq.shape[0], num_cell)\n",
    "            tiny = dropseq.iloc[sample_idx]\n",
    "    \n",
    "            shallow = pd.DataFrame(stats.binom.rvs(tiny, p=p), columns=tiny.columns)\n",
    "            counts = shallow.sum(axis=0)[overlap_genes]\n",
    "            relevant_genes = counts[counts > 0].index.tolist()\n",
    "            shallow_sf = shallow.sum(axis=1).values\n",
    "            mfish, m1, m2, m3, m4 = compare_estimators(smfish, fish_gapdh_sf, shallow, shallow_sf, overlap_genes=relevant_genes, p=1)\n",
    "\n",
    "            mean_numi = shallow_sf.mean()\n",
    "            \n",
    "            try:\n",
    "                corr1 = stats.pearsonr(np.log(mfish), np.log(m1))[0]\n",
    "                corr2 = stats.pearsonr(np.log(mfish), np.log(m2))[0]\n",
    "                corr3 = stats.pearsonr(np.log(mfish), np.log(m3))[0]\n",
    "                corr4 = stats.pearsonr(np.log(mfish), np.log(m4))[0]\n",
    "                result.append((num_cell, mean_numi, corr1, corr2, corr3, corr4))\n",
    "            except:\n",
    "                continue\n"
   ]
  },
  {
   "cell_type": "code",
   "execution_count": 79,
   "id": "4b4829a4-2db3-4c9d-a667-21674b898a51",
   "metadata": {},
   "outputs": [],
   "source": [
    "experiment_result = pd.DataFrame(result, columns=['num_cell', 'mean_umi', 'naive', 'filtered', 'memento', 'pseudobulk'])\n",
    "experiment_result['p'] = 0.2*(experiment_result['mean_umi'] < 600) + 0.35*(experiment_result['mean_umi'] >= 600)\n",
    "experiment_result.to_csv('numi2.csv', index=False)"
   ]
  },
  {
   "cell_type": "code",
   "execution_count": 108,
   "id": "d72cda41-ff47-43f0-be2e-073bc7024921",
   "metadata": {},
   "outputs": [],
   "source": [
    "experiment_result = pd.concat(\n",
    "    [\n",
    "        pd.read_csv('numi.csv')[['num_cell', 'p','mean_umi', 'naive', 'filtered', 'memento']], \n",
    "        pd.read_csv('numi2.csv')[['num_cell', 'p','mean_umi', 'naive', 'filtered', 'memento']]])"
   ]
  },
  {
   "cell_type": "code",
   "execution_count": 109,
   "id": "849c373b-9253-47d1-9735-78091f180a40",
   "metadata": {},
   "outputs": [],
   "source": [
    "df = pd.melt(experiment_result, id_vars=['num_cell', 'p'], value_vars=['memento','naive', ], var_name='estimator')"
   ]
  },
  {
   "cell_type": "code",
   "execution_count": 110,
   "id": "8ccdfadf-cebf-4a8c-ac97-03878bb65a84",
   "metadata": {},
   "outputs": [
    {
     "data": {
      "text/plain": [
       "<matplotlib.legend.Legend at 0x7ff54f4369a0>"
      ]
     },
     "execution_count": 110,
     "metadata": {},
     "output_type": "execute_result"
    },
    {
     "data": {
      "image/png": "[encoded data removed]",
      "text/plain": [
       "<Figure size 300x200 with 1 Axes>"
      ]
     },
     "metadata": {},
     "output_type": "display_data"
    }
   ],
   "source": [
    "plt.figure(figsize=(3, 2))\n",
    "sns.pointplot(y='value', x='p', hue='estimator',data=df, errorbar=('ci', 0), estimator='median')\n",
    "plt.xlabel('num umis');plt.ylabel('Corr to smFISH')\n",
    "plt.xticks(np.arange(6), experiment_result.groupby('p')['mean_umi'].mean().astype(int).values, rotation=45)\n",
    "# sns.stripplot(y='value', x='p', hue='estimator',data=df, dodge=True, alpha=0.2,s=3)\n",
    "plt.legend([], frameon=False)"
   ]
  },
  {
   "cell_type": "code",
   "execution_count": 50,
   "id": "459833f7-8bcc-4059-8e81-1010a8f4960c",
   "metadata": {},
   "outputs": [
    {
     "data": {
      "text/plain": [
       "<matplotlib.legend.Legend at 0x7ff54ded7040>"
      ]
     },
     "execution_count": 50,
     "metadata": {},
     "output_type": "execute_result"
    },
    {
     "data": {
      "image/png": "[encoded data removed]",
      "text/plain": [
       "<Figure size 200x200 with 1 Axes>"
      ]
     },
     "metadata": {},
     "output_type": "display_data"
    }
   ],
   "source": [
    "plt.figure(figsize=(2, 2))\n",
    "sns.boxenplot(y='value', x='num_cell', hue='estimator',data=df, showfliers=False, k_depth=10)\n",
    "# sns.stripplot(y='value', x='p', hue='estimator',data=df, dodge=True, alpha=0.2,s=3)\n",
    "plt.legend([], frameon=False)"
   ]
  },
  {
   "cell_type": "code",
   "execution_count": 223,
   "id": "6690d51c-43c5-4c2b-887e-be4c7f2292d6",
   "metadata": {},
   "outputs": [
    {
     "ename": "TypeError",
     "evalue": "compare_estimators() missing 1 required positional argument: 'overlap_genes'",
     "output_type": "error",
     "traceback": [
      "\u001b[0;31m---------------------------------------------------------------------------\u001b[0m",
      "\u001b[0;31mTypeError\u001b[0m                                 Traceback (most recent call last)",
      "Cell \u001b[0;32mIn[223], line 3\u001b[0m\n\u001b[1;32m      1\u001b[0m tiny \u001b[38;5;241m=\u001b[39m dropseq\u001b[38;5;241m.\u001b[39miloc[sample_idx]\n\u001b[1;32m      2\u001b[0m tiny_sf \u001b[38;5;241m=\u001b[39m dropseq_sf[sample_idx]\n\u001b[0;32m----> 3\u001b[0m mfish, m1, m2, m3 \u001b[38;5;241m=\u001b[39m \u001b[43mcompare_estimators\u001b[49m\u001b[43m(\u001b[49m\u001b[43msmfish\u001b[49m\u001b[43m,\u001b[49m\u001b[43m \u001b[49m\u001b[43mfish_gapdh_sf\u001b[49m\u001b[43m,\u001b[49m\u001b[43m \u001b[49m\u001b[43mtiny\u001b[49m\u001b[43m,\u001b[49m\u001b[43m \u001b[49m\u001b[43mtiny_sf\u001b[49m\u001b[43m)\u001b[49m\n\u001b[1;32m      5\u001b[0m p\u001b[38;5;241m=\u001b[39m\u001b[38;5;241m0.1\u001b[39m\n\u001b[1;32m      6\u001b[0m shallow \u001b[38;5;241m=\u001b[39m pd\u001b[38;5;241m.\u001b[39mDataFrame(stats\u001b[38;5;241m.\u001b[39mbinom\u001b[38;5;241m.\u001b[39mrvs(tiny, p\u001b[38;5;241m=\u001b[39mp), columns\u001b[38;5;241m=\u001b[39mdropseq\u001b[38;5;241m.\u001b[39mcolumns)\n",
      "\u001b[0;31mTypeError\u001b[0m: compare_estimators() missing 1 required positional argument: 'overlap_genes'"
     ]
    }
   ],
   "source": [
    "tiny = dropseq.iloc[sample_idx]\n",
    "tiny_sf = dropseq_sf[sample_idx]\n",
    "mfish, m1, m2, m3 = compare_estimators(smfish, fish_gapdh_sf, tiny, tiny_sf)\n",
    "\n",
    "p=0.1\n",
    "shallow = pd.DataFrame(stats.binom.rvs(tiny, p=p), columns=dropseq.columns)\n",
    "shallow_sf = shallow.sum(axis=1).values\n",
    "mfish, m1, m2, m3 = compare_estimators(smfish, fish_gapdh_sf, shallow, shallow_sf, p=p)\n",
    "\n",
    "plt.scatter(x=np.log(mfish), y=np.log(m1))\n",
    "plt.scatter(x=np.log(mfish), y=np.log(m2))\n",
    "plt.scatter(x=np.log(mfish), y=np.log(m3))\n",
    "\n",
    "plt.xlabel('FISH'); plt.ylabel('Dropseq');\n",
    "plt.legend(['naive r=%0.2f' % stats.pearsonr(np.log(mfish), np.log(m1))[0], \n",
    "            'filtered r=%0.2f' %stats.pearsonr(np.log(mfish), np.log(m2))[0], \n",
    "            'weighted r=%0.2f' %stats.pearsonr(np.log(mfish), np.log(m3))[0],\n",
    "           ])"
   ]
  }
 ],
 "metadata": {
  "kernelspec": {
   "display_name": "mementocxg",
   "language": "python",
   "name": "myenv"
  },
  "language_info": {
   "codemirror_mode": {
    "name": "ipython",
    "version": 3
   },
   "file_extension": ".py",
   "mimetype": "text/x-python",
   "name": "python",
   "nbconvert_exporter": "python",
   "pygments_lexer": "ipython3",
   "version": "3.11.5"
  }
 },
 "nbformat": 4,
 "nbformat_minor": 5
}
