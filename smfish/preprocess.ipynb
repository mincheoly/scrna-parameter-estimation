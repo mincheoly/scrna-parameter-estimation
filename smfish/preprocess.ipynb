{
 "cells": [
  {
   "cell_type": "markdown",
   "id": "1badb948",
   "metadata": {},
   "source": [
    "# Preprocess the dropseq and smFISH data\n",
    "\n",
    "Data: https://drive.google.com/drive/folders/1uos3DDymyrh3ZyxveDhqQIcOyD1brxeL"
   ]
  },
  {
   "cell_type": "code",
   "execution_count": 2,
   "id": "d75b34b3",
   "metadata": {
    "tags": []
   },
   "outputs": [],
   "source": [
    "import pandas as pd\n",
    "import seaborn as sns\n",
    "import scanpy as sc\n",
    "import scipy.sparse as sparse\n",
    "import numpy as np\n",
    "import matplotlib.pyplot as plt\n",
    "import scipy.stats as stats\n",
    "import scipy.optimize as opt\n",
    "import itertools\n",
    "import scanpy as sc"
   ]
  },
  {
   "cell_type": "markdown",
   "id": "778b7587-154b-4076-baf1-edba2a344f18",
   "metadata": {},
   "source": [
    "### Process DropSeq data"
   ]
  },
  {
   "cell_type": "code",
   "execution_count": 3,
   "id": "98264394-6f3d-444b-be93-2c95349ff00f",
   "metadata": {
    "tags": []
   },
   "outputs": [],
   "source": [
    "data_path = '/data_volume/memento/saver/'\n",
    "\n",
    "partial = pd.read_csv('/data_volume/memento/saver/melanoma_dropseq.csv', index_col=0, sep=',').T\n",
    "dropseq = pd.read_csv('GSE99330_dropseqRPM.txt', sep=' ').T.loc[partial.index]/1e6\n",
    "\n",
    "# Reverse calculate cell sizes\n",
    "high_expr = partial.mean(axis=0).sort_values().tail(20).index.tolist()\n",
    "dropseq_sf = (partial[high_expr]/dropseq[high_expr]).mean(axis=1)\n",
    "dropseq = dropseq*dropseq_sf.values.reshape(-1,1)\n",
    "\n",
    "# Create sparse matrix and save\n",
    "X = sparse.csr_matrix(dropseq.values)\n",
    "dropseq_adata = sc.AnnData(X=X, obs=pd.DataFrame(index=dropseq.index), var=pd.DataFrame(index=dropseq.columns))"
   ]
  },
  {
   "cell_type": "code",
   "execution_count": 5,
   "id": "23e1c0bb-c81e-41f3-9e8f-d2c08b25b0ba",
   "metadata": {},
   "outputs": [],
   "source": [
    "dropseq_adata.write(data_path + 'full_dropseq.h5ad')"
   ]
  },
  {
   "cell_type": "markdown",
   "id": "b6c58023-0d8e-4189-884c-c7519273e46b",
   "metadata": {},
   "source": [
    "### Compute number of overlap genes"
   ]
  },
  {
   "cell_type": "code",
   "execution_count": 4,
   "id": "e69cdbab-a534-424c-8831-1b2d0c127172",
   "metadata": {},
   "outputs": [
    {
     "name": "stdout",
     "output_type": "stream",
     "text": [
      "26\n"
     ]
    }
   ],
   "source": [
    "smfish = pd.read_csv('/data_volume/memento/saver/fishSubset.txt', index_col=0, sep=' ')\n",
    "# smfish = smfish[smfish['GAPDH'] > 0]\n",
    "fish_gapdh_sf = (smfish['GAPDH']+1).values\n",
    "# smfish_normalized = smfish#/fish_gapdh_sf.reshape(-1, 1)\n",
    "# smfish = pd.read_csv('fishSubset (1).txt', sep=' ', index_col=0)\n",
    "\n",
    "overlap_genes = list(set(dropseq.columns) & set(smfish.columns))\n",
    "overlap_genes = dropseq.mean(axis=0)[overlap_genes][dropseq.mean(axis=0)[overlap_genes] > 0].index.tolist()\n",
    "\n",
    "print(len(overlap_genes))\n",
    "\n",
    "# smfish = smfish[overlap_genes].fillna(0.0)"
   ]
  }
 ],
 "metadata": {
  "kernelspec": {
   "display_name": "Python (single_cell)",
   "language": "python",
   "name": "single_cell"
  },
  "language_info": {
   "codemirror_mode": {
    "name": "ipython",
    "version": 3
   },
   "file_extension": ".py",
   "mimetype": "text/x-python",
   "name": "python",
   "nbconvert_exporter": "python",
   "pygments_lexer": "ipython3",
   "version": "3.10.11"
  }
 },
 "nbformat": 4,
 "nbformat_minor": 5
}
