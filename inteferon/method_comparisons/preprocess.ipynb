{
 "cells": [
  {
   "cell_type": "code",
   "execution_count": 1,
   "id": "9112a02c-72eb-4192-a190-dcf9d540c021",
   "metadata": {
    "tags": []
   },
   "outputs": [],
   "source": [
    "import scanpy as sc"
   ]
  },
  {
   "cell_type": "code",
   "execution_count": null,
   "id": "ca208c26-c78a-4f7c-8a1b-88bdd7693211",
   "metadata": {},
   "outputs": [],
   "source": []
  },
  {
   "cell_type": "code",
   "execution_count": 4,
   "id": "fbe050bc-9622-4e7a-8a05-ae9dbca36c38",
   "metadata": {
    "tags": []
   },
   "outputs": [],
   "source": [
    "data_path = '/home/ubuntu/Data/hbec/'"
   ]
  },
  {
   "cell_type": "code",
   "execution_count": 5,
   "id": "e0af78ad-666c-4d82-9a9c-05d7c81cb302",
   "metadata": {
    "tags": []
   },
   "outputs": [],
   "source": [
    "adata = sc.read(data_path + 'HBEC_type_I_filtered_counts_deep.h5ad')"
   ]
  },
  {
   "cell_type": "code",
   "execution_count": 7,
   "id": "e659e975-cdaa-4400-948c-84d682dd2f03",
   "metadata": {
    "tags": []
   },
   "outputs": [],
   "source": [
    "ct = 'ciliated'"
   ]
  },
  {
   "cell_type": "code",
   "execution_count": 11,
   "id": "9ef1d691-505a-4f3a-88ad-7f0fc28358ba",
   "metadata": {
    "tags": []
   },
   "outputs": [],
   "source": [
    "ct_adata = adata[(adata.obs['cell_type'] == ct) & adata.obs['stim'].isin(['ctrl', 'beta'])]"
   ]
  },
  {
   "cell_type": "code",
   "execution_count": 12,
   "id": "fd08d913-d6e6-4ad0-aaa6-3f2589255c1a",
   "metadata": {
    "tags": []
   },
   "outputs": [
    {
     "data": {
      "text/plain": [
       "View of AnnData object with n_obs × n_vars = 3881 × 36601\n",
       "    obs: 'NUM.SNPS', 'BEST.GUESS', 'DROPLET.TYPE', 'batch', 'HTO_classification', 'condition', 'donor', 'stim', 'time', 'n_genes', 'n_genes_by_counts', 'total_counts', 'total_counts_mt', 'pct_counts_mt', 'leiden', 'cell_type'\n",
       "    var: 'gene_ids', 'feature_types', 'genome', 'mt', 'n_cells_by_counts', 'mean_counts', 'pct_dropout_by_counts', 'total_counts'"
      ]
     },
     "execution_count": 12,
     "metadata": {},
     "output_type": "execute_result"
    }
   ],
   "source": [
    "ct_adata"
   ]
  },
  {
   "cell_type": "code",
   "execution_count": null,
   "id": "8685181e-3314-4d8d-b46d-34c69d0387d2",
   "metadata": {},
   "outputs": [],
   "source": []
  }
 ],
 "metadata": {
  "kernelspec": {
   "display_name": "mementocxg",
   "language": "python",
   "name": "myenv"
  },
  "language_info": {
   "codemirror_mode": {
    "name": "ipython",
    "version": 3
   },
   "file_extension": ".py",
   "mimetype": "text/x-python",
   "name": "python",
   "nbconvert_exporter": "python",
   "pygments_lexer": "ipython3",
   "version": "3.11.5"
  }
 },
 "nbformat": 4,
 "nbformat_minor": 5
}
