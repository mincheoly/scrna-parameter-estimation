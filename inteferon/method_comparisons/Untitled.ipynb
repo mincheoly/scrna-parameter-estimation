{
 "cells": [
  {
   "cell_type": "markdown",
   "id": "a2cc2891-cb8c-458b-a144-87d68060812a",
   "metadata": {},
   "source": [
    "# temp"
   ]
  },
  {
   "cell_type": "code",
   "execution_count": 2,
   "id": "1a5181e6-b19b-4f52-a936-9b7201744ef3",
   "metadata": {
    "tags": []
   },
   "outputs": [],
   "source": [
    "suppressMessages(library(Seurat))\n",
    "suppressMessages(library(SeuratDisk))\n",
    "\n",
    "suppressMessages(library(cowplot))\n",
    "# suppressMessages(library(tidyverse))\n",
    "suppressMessages(library(dplyr))\n",
    "suppressMessages(library(BiocParallel))\n",
    "suppressMessages(library(readr))\n",
    "suppressMessages(library(Matrix))\n",
    "\n",
    "suppressMessages(library(BASiCS))\n",
    "\n",
    "DATA_PATH <- '/home/ubuntu/Data/'\n",
    "\n",
    "\n"
   ]
  },
  {
   "cell_type": "code",
   "execution_count": 3,
   "id": "569c3f77-a58f-481e-9301-9601ff9cf7b2",
   "metadata": {
    "tags": []
   },
   "outputs": [],
   "source": [
    "setwd(paste(DATA_PATH, 'hbec/', sep=''))\n"
   ]
  },
  {
   "cell_type": "code",
   "execution_count": null,
   "id": "c0c2356c-bbbf-4a79-837e-017edb720d33",
   "metadata": {},
   "outputs": [],
   "source": [
    "fname <- 'HBEC_type_I_filtered_counts_deep'\n",
    "Convert(paste(fname, '.h5ad', sep=''), dest = \"h5seurat\", overwrite = TRUE, verbose = FALSE, misc=FALSE)\n",
    "seurat <- LoadH5Seurat(paste(fname, '.h5seurat', sep=''), meta.data=FALSE,misc=FALSE, verbose = FALSE)"
   ]
  },
  {
   "cell_type": "code",
   "execution_count": null,
   "id": "e2efeff3-3476-4ffb-9d2d-e005c21f92a0",
   "metadata": {},
   "outputs": [],
   "source": [
    "# Setup and run BASiCS\n",
    "seurat$condition<- 'const'\n",
    "seurat$batch <- sample( c('A','B'), num_cell, replace=TRUE)\n",
    "Idents(seurat) <- 'condition'\n",
    "chain <- get_chain(seurat, 'const')\n",
    "\n",
    "# Extract parameters and save\n",
    "mu_values <-  as.data.frame(displayChainBASiCS(chain, Param ='mu' ))\n",
    "delta_values <- as.data.frame(displayChainBASiCS(chain, Param ='delta' ))\n",
    "\n",
    "mu <- colMeans(mu_values)\n",
    "delta <- colMeans(delta_values)\n",
    "\n",
    "parameters = as.data.frame(cbind(mu, delta))\n",
    "\n",
    "parameters$variance = parameters$mu + parameters$delta*parameters$mu**2\n",
    "\n",
    "write.csv(parameters, paste(fname, 'parameters.csv', sep='_'))"
   ]
  },
  {
   "cell_type": "code",
   "execution_count": null,
   "id": "36a1425c-47d3-4062-918c-362495a9b186",
   "metadata": {},
   "outputs": [],
   "source": [
    "NUM_TRIALS = 20\n",
    "# NUMBER_OF_CELLS = c(500, 1000, 5000, 8000)\n",
    "\n",
    "get_chain <- function(seurat, cond) {\n",
    "    dat <- subset(x=seurat, idents=cond)\n",
    "    dat.sce <- SingleCellExperiment(\n",
    "        assays=list(counts = GetAssayData(dat)),\n",
    "        colData = data.frame(BatchInfo = dat$batch))\n",
    "\n",
    "    Chain <- BASiCS_MCMC(\n",
    "      dat.sce,\n",
    "      N = 5000, Thin = 2, Burn = 1000, WithSpikes = FALSE, SubsetBy = 'cell',\n",
    "      PrintProgress = FALSE, Regression = TRUE,Threads = getOption(\"Ncpus\", 40),)\n",
    "    return(Chain)\n",
    "   }\n",
    "\n",
    "setwd(paste(DATA_PATH, 'smfish/variance/', sep=''))\n",
    "\n",
    "for (trial in seq(0, NUM_TRIALS-1)){\n",
    "    \n",
    "    if (trial == 0) { NUMBER_OF_CELLS <- c(500, 1000, 5000, 8000) }\n",
    "    \n",
    "    else { NUMBER_OF_CELLS <- c(500, 1000) }\n",
    "    \n",
    "    for (num_cell in NUMBER_OF_CELLS){\n",
    "            \n",
    "\n",
    "\n",
    "        # Setup and run BASiCS\n",
    "        fname = paste(num_cell, trial, sep='_')\n",
    "        Convert(paste(fname, '.h5ad', sep=''), dest = \"h5seurat\", overwrite = TRUE, verbose = FALSE, misc=FALSE)\n",
    "        seurat <- LoadH5Seurat(paste(fname, '.h5seurat', sep=''), meta.data=FALSE,misc=FALSE, verbose = FALSE)\n",
    "        seurat$condition<- 'const'\n",
    "        seurat$batch <- sample( c('A','B'), num_cell, replace=TRUE)\n",
    "        Idents(seurat) <- 'condition'\n",
    "        chain <- get_chain(seurat, 'const')\n",
    "\n",
    "        # Extract parameters and save\n",
    "        mu_values <-  as.data.frame(displayChainBASiCS(chain, Param ='mu' ))\n",
    "        delta_values <- as.data.frame(displayChainBASiCS(chain, Param ='delta' ))\n",
    "\n",
    "        mu <- colMeans(mu_values)\n",
    "        delta <- colMeans(delta_values)\n",
    "\n",
    "        parameters = as.data.frame(cbind(mu, delta))\n",
    "\n",
    "        parameters$variance = parameters$mu + parameters$delta*parameters$mu**2\n",
    "\n",
    "        write.csv(parameters, paste(fname, 'parameters.csv', sep='_'))\n",
    "    }  \n",
    "}\n"
   ]
  }
 ],
 "metadata": {
  "kernelspec": {
   "display_name": "R",
   "language": "R",
   "name": "ir"
  },
  "language_info": {
   "codemirror_mode": "r",
   "file_extension": ".r",
   "mimetype": "text/x-r-source",
   "name": "R",
   "pygments_lexer": "r",
   "version": "4.3.2"
  }
 },
 "nbformat": 4,
 "nbformat_minor": 5
}
